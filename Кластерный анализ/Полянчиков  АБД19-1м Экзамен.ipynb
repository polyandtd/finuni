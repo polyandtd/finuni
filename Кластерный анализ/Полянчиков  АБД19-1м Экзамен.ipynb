{
 "cells": [
  {
   "cell_type": "markdown",
   "metadata": {},
   "source": [
    "Перечень заданий: \n",
    "\n",
    "1. Провести описательную статистику данных. \n",
    "\n",
    "2. Вычислить коэффициенты корреляции для каждых факторов. \n",
    "\n",
    "3. Построить тепловую карту корреляции.\n",
    "\n",
    "4. Построить матрицу рассеяния. \n",
    "\n",
    "5. Для указанных наборов данных провести реализацию метода главных компонент. \n",
    "\n",
    "6. Для указанных наборов данных провести факторный анализ данных. \n",
    "\n",
    "7. Провести кластеризацию данных методом k-средних. \n",
    "\n",
    "8. Провести иерархическую кластеризацию данных  \n",
    "\n",
    "9. Провести описание, анализ и визуализацию данных. \n",
    "\n",
    "10. Провести кластерный анализ, построить дендограмму. \n",
    "\n",
    "11. Провести регрессионный анализ данных. \n",
    "\n",
    "12. Провести дискриминантный анализ данных."
   ]
  },
  {
   "cell_type": "markdown",
   "metadata": {},
   "source": [
    "# Полянчиков Владислав АБД19-1м Экзамен"
   ]
  },
  {
   "cell_type": "code",
   "execution_count": 52,
   "metadata": {},
   "outputs": [],
   "source": [
    "import pandas as pd\n",
    "import numpy as np\n",
    "pd.set_option('display.max_columns', 100)\n",
    "pd.set_option('display.max_rows', 100)\n",
    "import matplotlib.pyplot as plt\n",
    "import seaborn as sns"
   ]
  },
  {
   "cell_type": "markdown",
   "metadata": {},
   "source": [
    "## Задания 1, 2, 7; Датасет 11"
   ]
  },
  {
   "cell_type": "code",
   "execution_count": 18,
   "metadata": {},
   "outputs": [
    {
     "data": {
      "text/html": [
       "<div>\n",
       "<style scoped>\n",
       "    .dataframe tbody tr th:only-of-type {\n",
       "        vertical-align: middle;\n",
       "    }\n",
       "\n",
       "    .dataframe tbody tr th {\n",
       "        vertical-align: top;\n",
       "    }\n",
       "\n",
       "    .dataframe thead th {\n",
       "        text-align: right;\n",
       "    }\n",
       "</style>\n",
       "<table border=\"1\" class=\"dataframe\">\n",
       "  <thead>\n",
       "    <tr style=\"text-align: right;\">\n",
       "      <th></th>\n",
       "      <th>Country</th>\n",
       "      <th>Date</th>\n",
       "      <th>No. of suspected cases</th>\n",
       "      <th>No. of probable cases</th>\n",
       "      <th>No. of confirmed cases</th>\n",
       "      <th>No. of confirmed, probable and suspected cases</th>\n",
       "      <th>No. of suspected deaths</th>\n",
       "      <th>No. of probable deaths</th>\n",
       "      <th>No. of confirmed deaths</th>\n",
       "      <th>No. of confirmed, probable and suspected deaths</th>\n",
       "    </tr>\n",
       "  </thead>\n",
       "  <tbody>\n",
       "    <tr>\n",
       "      <th>0</th>\n",
       "      <td>Guinea</td>\n",
       "      <td>2014-08-29</td>\n",
       "      <td>25.0</td>\n",
       "      <td>141.0</td>\n",
       "      <td>482.0</td>\n",
       "      <td>648.0</td>\n",
       "      <td>2.0</td>\n",
       "      <td>141.0</td>\n",
       "      <td>287.0</td>\n",
       "      <td>430.0</td>\n",
       "    </tr>\n",
       "    <tr>\n",
       "      <th>1</th>\n",
       "      <td>Nigeria</td>\n",
       "      <td>2014-08-29</td>\n",
       "      <td>3.0</td>\n",
       "      <td>1.0</td>\n",
       "      <td>15.0</td>\n",
       "      <td>19.0</td>\n",
       "      <td>0.0</td>\n",
       "      <td>1.0</td>\n",
       "      <td>6.0</td>\n",
       "      <td>7.0</td>\n",
       "    </tr>\n",
       "    <tr>\n",
       "      <th>2</th>\n",
       "      <td>Sierra Leone</td>\n",
       "      <td>2014-08-29</td>\n",
       "      <td>54.0</td>\n",
       "      <td>37.0</td>\n",
       "      <td>935.0</td>\n",
       "      <td>1026.0</td>\n",
       "      <td>8.0</td>\n",
       "      <td>34.0</td>\n",
       "      <td>380.0</td>\n",
       "      <td>422.0</td>\n",
       "    </tr>\n",
       "    <tr>\n",
       "      <th>3</th>\n",
       "      <td>Liberia</td>\n",
       "      <td>2014-08-29</td>\n",
       "      <td>382.0</td>\n",
       "      <td>674.0</td>\n",
       "      <td>322.0</td>\n",
       "      <td>1378.0</td>\n",
       "      <td>168.0</td>\n",
       "      <td>301.0</td>\n",
       "      <td>225.0</td>\n",
       "      <td>694.0</td>\n",
       "    </tr>\n",
       "    <tr>\n",
       "      <th>4</th>\n",
       "      <td>Sierra Leone</td>\n",
       "      <td>2014-09-05</td>\n",
       "      <td>78.0</td>\n",
       "      <td>37.0</td>\n",
       "      <td>1146.0</td>\n",
       "      <td>1261.0</td>\n",
       "      <td>11.0</td>\n",
       "      <td>37.0</td>\n",
       "      <td>443.0</td>\n",
       "      <td>491.0</td>\n",
       "    </tr>\n",
       "  </tbody>\n",
       "</table>\n",
       "</div>"
      ],
      "text/plain": [
       "        Country        Date  No. of suspected cases  No. of probable cases  \\\n",
       "0        Guinea  2014-08-29                    25.0                  141.0   \n",
       "1       Nigeria  2014-08-29                     3.0                    1.0   \n",
       "2  Sierra Leone  2014-08-29                    54.0                   37.0   \n",
       "3       Liberia  2014-08-29                   382.0                  674.0   \n",
       "4  Sierra Leone  2014-09-05                    78.0                   37.0   \n",
       "\n",
       "   No. of confirmed cases  No. of confirmed, probable and suspected cases  \\\n",
       "0                   482.0                                           648.0   \n",
       "1                    15.0                                            19.0   \n",
       "2                   935.0                                          1026.0   \n",
       "3                   322.0                                          1378.0   \n",
       "4                  1146.0                                          1261.0   \n",
       "\n",
       "   No. of suspected deaths  No. of probable deaths  No. of confirmed deaths  \\\n",
       "0                      2.0                   141.0                    287.0   \n",
       "1                      0.0                     1.0                      6.0   \n",
       "2                      8.0                    34.0                    380.0   \n",
       "3                    168.0                   301.0                    225.0   \n",
       "4                     11.0                    37.0                    443.0   \n",
       "\n",
       "   No. of confirmed, probable and suspected deaths  \n",
       "0                                            430.0  \n",
       "1                                              7.0  \n",
       "2                                            422.0  \n",
       "3                                            694.0  \n",
       "4                                            491.0  "
      ]
     },
     "execution_count": 18,
     "metadata": {},
     "output_type": "execute_result"
    }
   ],
   "source": [
    "df = pd.read_csv('ebola_2014_2016_clean.csv')\n",
    "df.head()"
   ]
  },
  {
   "cell_type": "markdown",
   "metadata": {},
   "source": [
    "## Задание 1. Провести описательную статистику данных"
   ]
  },
  {
   "cell_type": "markdown",
   "metadata": {},
   "source": [
    "Датасет 11 содержит данные по болезни, бывшей еще не так давно очень популярной, Эбола. Данные собраны за период с 29 августа 2014 года по 23 марта 2016 года и содержит данные по 10 странам. В таблице есть данные по подозрительным, возможным и подтвержденным случаям и их сумме, а также по подозрительным, возможным и подтвержденным смертям и их сумме, естественно, в результате данной болезни. Итого: 10 колонок.\n",
    "\n",
    "Дубликатов нет. Имеются пропущенные значения. Больше всего - в колонках со смертями."
   ]
  },
  {
   "cell_type": "code",
   "execution_count": 51,
   "metadata": {},
   "outputs": [
    {
     "data": {
      "text/plain": [
       "('2014-08-29', '2016-03-23')"
      ]
     },
     "execution_count": 51,
     "metadata": {},
     "output_type": "execute_result"
    }
   ],
   "source": [
    "df.Date.unique()[0], df.Date.unique()[-1]"
   ]
  },
  {
   "cell_type": "code",
   "execution_count": 19,
   "metadata": {},
   "outputs": [
    {
     "data": {
      "text/plain": [
       "(2485, 10)"
      ]
     },
     "execution_count": 19,
     "metadata": {},
     "output_type": "execute_result"
    }
   ],
   "source": [
    "df.shape"
   ]
  },
  {
   "cell_type": "code",
   "execution_count": 20,
   "metadata": {},
   "outputs": [
    {
     "name": "stdout",
     "output_type": "stream",
     "text": [
      "<class 'pandas.core.frame.DataFrame'>\n",
      "RangeIndex: 2485 entries, 0 to 2484\n",
      "Data columns (total 10 columns):\n",
      " #   Column                                           Non-Null Count  Dtype  \n",
      "---  ------                                           --------------  -----  \n",
      " 0   Country                                          2485 non-null   object \n",
      " 1   Date                                             2485 non-null   object \n",
      " 2   No. of suspected cases                           2366 non-null   float64\n",
      " 3   No. of probable cases                            2436 non-null   float64\n",
      " 4   No. of confirmed cases                           2484 non-null   float64\n",
      " 5   No. of confirmed, probable and suspected cases   2477 non-null   float64\n",
      " 6   No. of suspected deaths                          1308 non-null   float64\n",
      " 7   No. of probable deaths                           1526 non-null   float64\n",
      " 8   No. of confirmed deaths                          1648 non-null   float64\n",
      " 9   No. of confirmed, probable and suspected deaths  2485 non-null   float64\n",
      "dtypes: float64(8), object(2)\n",
      "memory usage: 194.3+ KB\n"
     ]
    }
   ],
   "source": [
    "df.info()"
   ]
  },
  {
   "cell_type": "code",
   "execution_count": 21,
   "metadata": {},
   "outputs": [
    {
     "data": {
      "text/plain": [
       "Country                                               0\n",
       "Date                                                  0\n",
       "No. of suspected cases                              119\n",
       "No. of probable cases                                49\n",
       "No. of confirmed cases                                1\n",
       "No. of confirmed, probable and suspected cases        8\n",
       "No. of suspected deaths                            1177\n",
       "No. of probable deaths                              959\n",
       "No. of confirmed deaths                             837\n",
       "No. of confirmed, probable and suspected deaths       0\n",
       "dtype: int64"
      ]
     },
     "execution_count": 21,
     "metadata": {},
     "output_type": "execute_result"
    }
   ],
   "source": [
    "df.isna().sum()"
   ]
  },
  {
   "cell_type": "code",
   "execution_count": 22,
   "metadata": {},
   "outputs": [
    {
     "data": {
      "text/plain": [
       "0"
      ]
     },
     "execution_count": 22,
     "metadata": {},
     "output_type": "execute_result"
    }
   ],
   "source": [
    "df.duplicated().sum()"
   ]
  },
  {
   "cell_type": "code",
   "execution_count": 28,
   "metadata": {},
   "outputs": [
    {
     "data": {
      "text/html": [
       "<div>\n",
       "<style scoped>\n",
       "    .dataframe tbody tr th:only-of-type {\n",
       "        vertical-align: middle;\n",
       "    }\n",
       "\n",
       "    .dataframe tbody tr th {\n",
       "        vertical-align: top;\n",
       "    }\n",
       "\n",
       "    .dataframe thead th {\n",
       "        text-align: right;\n",
       "    }\n",
       "</style>\n",
       "<table border=\"1\" class=\"dataframe\">\n",
       "  <thead>\n",
       "    <tr style=\"text-align: right;\">\n",
       "      <th></th>\n",
       "      <th>Country</th>\n",
       "      <th>Date</th>\n",
       "    </tr>\n",
       "  </thead>\n",
       "  <tbody>\n",
       "    <tr>\n",
       "      <th>count</th>\n",
       "      <td>2485</td>\n",
       "      <td>2485</td>\n",
       "    </tr>\n",
       "    <tr>\n",
       "      <th>unique</th>\n",
       "      <td>10</td>\n",
       "      <td>259</td>\n",
       "    </tr>\n",
       "    <tr>\n",
       "      <th>top</th>\n",
       "      <td>Liberia</td>\n",
       "      <td>2016-03-23</td>\n",
       "    </tr>\n",
       "    <tr>\n",
       "      <th>freq</th>\n",
       "      <td>365</td>\n",
       "      <td>12</td>\n",
       "    </tr>\n",
       "  </tbody>\n",
       "</table>\n",
       "</div>"
      ],
      "text/plain": [
       "        Country        Date\n",
       "count      2485        2485\n",
       "unique       10         259\n",
       "top     Liberia  2016-03-23\n",
       "freq        365          12"
      ]
     },
     "execution_count": 28,
     "metadata": {},
     "output_type": "execute_result"
    }
   ],
   "source": [
    "df.describe(include=['object'])"
   ]
  },
  {
   "cell_type": "code",
   "execution_count": 34,
   "metadata": {},
   "outputs": [
    {
     "data": {
      "text/html": [
       "<div>\n",
       "<style scoped>\n",
       "    .dataframe tbody tr th:only-of-type {\n",
       "        vertical-align: middle;\n",
       "    }\n",
       "\n",
       "    .dataframe tbody tr th {\n",
       "        vertical-align: top;\n",
       "    }\n",
       "\n",
       "    .dataframe thead th {\n",
       "        text-align: right;\n",
       "    }\n",
       "</style>\n",
       "<table border=\"1\" class=\"dataframe\">\n",
       "  <thead>\n",
       "    <tr style=\"text-align: right;\">\n",
       "      <th></th>\n",
       "      <th>No. of suspected cases</th>\n",
       "      <th>No. of probable cases</th>\n",
       "      <th>No. of confirmed cases</th>\n",
       "      <th>No. of confirmed, probable and suspected cases</th>\n",
       "      <th>No. of suspected deaths</th>\n",
       "      <th>No. of probable deaths</th>\n",
       "      <th>No. of confirmed deaths</th>\n",
       "      <th>No. of confirmed, probable and suspected deaths</th>\n",
       "    </tr>\n",
       "  </thead>\n",
       "  <tbody>\n",
       "    <tr>\n",
       "      <th>count</th>\n",
       "      <td>2366.0</td>\n",
       "      <td>2436.0</td>\n",
       "      <td>2484.0</td>\n",
       "      <td>2477.0</td>\n",
       "      <td>1308.0</td>\n",
       "      <td>1526.0</td>\n",
       "      <td>1648.0</td>\n",
       "      <td>2485.0</td>\n",
       "    </tr>\n",
       "    <tr>\n",
       "      <th>mean</th>\n",
       "      <td>891.8</td>\n",
       "      <td>263.7</td>\n",
       "      <td>1436.6</td>\n",
       "      <td>2553.7</td>\n",
       "      <td>32.9</td>\n",
       "      <td>104.5</td>\n",
       "      <td>781.7</td>\n",
       "      <td>1028.3</td>\n",
       "    </tr>\n",
       "    <tr>\n",
       "      <th>std</th>\n",
       "      <td>1828.7</td>\n",
       "      <td>561.5</td>\n",
       "      <td>2574.2</td>\n",
       "      <td>4427.1</td>\n",
       "      <td>73.2</td>\n",
       "      <td>161.4</td>\n",
       "      <td>1258.1</td>\n",
       "      <td>1656.1</td>\n",
       "    </tr>\n",
       "    <tr>\n",
       "      <th>min</th>\n",
       "      <td>0.0</td>\n",
       "      <td>0.0</td>\n",
       "      <td>1.0</td>\n",
       "      <td>0.0</td>\n",
       "      <td>0.0</td>\n",
       "      <td>0.0</td>\n",
       "      <td>0.0</td>\n",
       "      <td>0.0</td>\n",
       "    </tr>\n",
       "    <tr>\n",
       "      <th>25%</th>\n",
       "      <td>0.0</td>\n",
       "      <td>0.0</td>\n",
       "      <td>1.0</td>\n",
       "      <td>1.0</td>\n",
       "      <td>0.0</td>\n",
       "      <td>0.0</td>\n",
       "      <td>0.0</td>\n",
       "      <td>0.0</td>\n",
       "    </tr>\n",
       "    <tr>\n",
       "      <th>50%</th>\n",
       "      <td>0.0</td>\n",
       "      <td>1.0</td>\n",
       "      <td>7.0</td>\n",
       "      <td>8.0</td>\n",
       "      <td>0.0</td>\n",
       "      <td>1.0</td>\n",
       "      <td>2.0</td>\n",
       "      <td>6.0</td>\n",
       "    </tr>\n",
       "    <tr>\n",
       "      <th>75%</th>\n",
       "      <td>17.0</td>\n",
       "      <td>287.0</td>\n",
       "      <td>3118.0</td>\n",
       "      <td>3657.0</td>\n",
       "      <td>0.0</td>\n",
       "      <td>208.0</td>\n",
       "      <td>1760.8</td>\n",
       "      <td>2386.0</td>\n",
       "    </tr>\n",
       "    <tr>\n",
       "      <th>max</th>\n",
       "      <td>5636.0</td>\n",
       "      <td>2106.0</td>\n",
       "      <td>8704.0</td>\n",
       "      <td>14122.0</td>\n",
       "      <td>661.0</td>\n",
       "      <td>803.0</td>\n",
       "      <td>3858.0</td>\n",
       "      <td>4806.0</td>\n",
       "    </tr>\n",
       "  </tbody>\n",
       "</table>\n",
       "</div>"
      ],
      "text/plain": [
       "       No. of suspected cases  No. of probable cases  No. of confirmed cases  \\\n",
       "count                  2366.0                 2436.0                  2484.0   \n",
       "mean                    891.8                  263.7                  1436.6   \n",
       "std                    1828.7                  561.5                  2574.2   \n",
       "min                       0.0                    0.0                     1.0   \n",
       "25%                       0.0                    0.0                     1.0   \n",
       "50%                       0.0                    1.0                     7.0   \n",
       "75%                      17.0                  287.0                  3118.0   \n",
       "max                    5636.0                 2106.0                  8704.0   \n",
       "\n",
       "       No. of confirmed, probable and suspected cases  \\\n",
       "count                                          2477.0   \n",
       "mean                                           2553.7   \n",
       "std                                            4427.1   \n",
       "min                                               0.0   \n",
       "25%                                               1.0   \n",
       "50%                                               8.0   \n",
       "75%                                            3657.0   \n",
       "max                                           14122.0   \n",
       "\n",
       "       No. of suspected deaths  No. of probable deaths  \\\n",
       "count                   1308.0                  1526.0   \n",
       "mean                      32.9                   104.5   \n",
       "std                       73.2                   161.4   \n",
       "min                        0.0                     0.0   \n",
       "25%                        0.0                     0.0   \n",
       "50%                        0.0                     1.0   \n",
       "75%                        0.0                   208.0   \n",
       "max                      661.0                   803.0   \n",
       "\n",
       "       No. of confirmed deaths  \\\n",
       "count                   1648.0   \n",
       "mean                     781.7   \n",
       "std                     1258.1   \n",
       "min                        0.0   \n",
       "25%                        0.0   \n",
       "50%                        2.0   \n",
       "75%                     1760.8   \n",
       "max                     3858.0   \n",
       "\n",
       "       No. of confirmed, probable and suspected deaths  \n",
       "count                                           2485.0  \n",
       "mean                                            1028.3  \n",
       "std                                             1656.1  \n",
       "min                                                0.0  \n",
       "25%                                                0.0  \n",
       "50%                                                6.0  \n",
       "75%                                             2386.0  \n",
       "max                                             4806.0  "
      ]
     },
     "execution_count": 34,
     "metadata": {},
     "output_type": "execute_result"
    }
   ],
   "source": [
    "round(df.describe(), 1)"
   ]
  },
  {
   "cell_type": "code",
   "execution_count": 140,
   "metadata": {},
   "outputs": [
    {
     "data": {
      "text/plain": [
       "<matplotlib.axes._subplots.AxesSubplot at 0x1a4ea3f91c8>"
      ]
     },
     "execution_count": 140,
     "metadata": {},
     "output_type": "execute_result"
    },
    {
     "data": {
      "image/png": "[encoded data removed]",
      "text/plain": [
       "<Figure size 432x288 with 1 Axes>"
      ]
     },
     "metadata": {
      "needs_background": "light"
     },
     "output_type": "display_data"
    }
   ],
   "source": [
    "df['No. of confirmed cases'].hist(bins=100)"
   ]
  },
  {
   "cell_type": "code",
   "execution_count": 30,
   "metadata": {},
   "outputs": [
    {
     "data": {
      "text/plain": [
       "Liberia                     365\n",
       "Guinea                      259\n",
       "Sierra Leone                259\n",
       "Nigeria                     255\n",
       "Senegal                     254\n",
       "United States of America    245\n",
       "Mali                        243\n",
       "Spain                       243\n",
       "United Kingdom              221\n",
       "Italy                       141\n",
       "Name: Country, dtype: int64"
      ]
     },
     "execution_count": 30,
     "metadata": {},
     "output_type": "execute_result"
    }
   ],
   "source": [
    "df.Country.value_counts()"
   ]
  },
  {
   "cell_type": "code",
   "execution_count": 55,
   "metadata": {},
   "outputs": [
    {
     "data": {
      "text/plain": [
       "10"
      ]
     },
     "execution_count": 55,
     "metadata": {},
     "output_type": "execute_result"
    }
   ],
   "source": [
    "len(df.Country.unique())"
   ]
  },
  {
   "cell_type": "markdown",
   "metadata": {},
   "source": [
    "## Задание 2. Вычислить коэффициенты корреляции для каждых факторов."
   ]
  },
  {
   "cell_type": "markdown",
   "metadata": {},
   "source": [
    "В общем и целом, факторы имеют друг с другом очень сильную связь (особенно фактор подтвержденных смертей)"
   ]
  },
  {
   "cell_type": "code",
   "execution_count": 36,
   "metadata": {},
   "outputs": [
    {
     "data": {
      "text/html": [
       "<div>\n",
       "<style scoped>\n",
       "    .dataframe tbody tr th:only-of-type {\n",
       "        vertical-align: middle;\n",
       "    }\n",
       "\n",
       "    .dataframe tbody tr th {\n",
       "        vertical-align: top;\n",
       "    }\n",
       "\n",
       "    .dataframe thead th {\n",
       "        text-align: right;\n",
       "    }\n",
       "</style>\n",
       "<table border=\"1\" class=\"dataframe\">\n",
       "  <thead>\n",
       "    <tr style=\"text-align: right;\">\n",
       "      <th></th>\n",
       "      <th>No. of suspected cases</th>\n",
       "      <th>No. of probable cases</th>\n",
       "      <th>No. of confirmed cases</th>\n",
       "      <th>No. of confirmed, probable and suspected cases</th>\n",
       "      <th>No. of suspected deaths</th>\n",
       "      <th>No. of probable deaths</th>\n",
       "      <th>No. of confirmed deaths</th>\n",
       "      <th>No. of confirmed, probable and suspected deaths</th>\n",
       "    </tr>\n",
       "  </thead>\n",
       "  <tbody>\n",
       "    <tr>\n",
       "      <th>No. of suspected cases</th>\n",
       "      <td>1.00</td>\n",
       "      <td>0.79</td>\n",
       "      <td>0.72</td>\n",
       "      <td>0.93</td>\n",
       "      <td>0.80</td>\n",
       "      <td>0.28</td>\n",
       "      <td>0.84</td>\n",
       "      <td>0.90</td>\n",
       "    </tr>\n",
       "    <tr>\n",
       "      <th>No. of probable cases</th>\n",
       "      <td>0.79</td>\n",
       "      <td>1.00</td>\n",
       "      <td>0.38</td>\n",
       "      <td>0.67</td>\n",
       "      <td>0.92</td>\n",
       "      <td>0.92</td>\n",
       "      <td>0.65</td>\n",
       "      <td>0.81</td>\n",
       "    </tr>\n",
       "    <tr>\n",
       "      <th>No. of confirmed cases</th>\n",
       "      <td>0.72</td>\n",
       "      <td>0.38</td>\n",
       "      <td>1.00</td>\n",
       "      <td>0.93</td>\n",
       "      <td>0.80</td>\n",
       "      <td>0.58</td>\n",
       "      <td>0.97</td>\n",
       "      <td>0.84</td>\n",
       "    </tr>\n",
       "    <tr>\n",
       "      <th>No. of confirmed, probable and suspected cases</th>\n",
       "      <td>0.93</td>\n",
       "      <td>0.67</td>\n",
       "      <td>0.93</td>\n",
       "      <td>1.00</td>\n",
       "      <td>0.82</td>\n",
       "      <td>0.53</td>\n",
       "      <td>0.96</td>\n",
       "      <td>0.96</td>\n",
       "    </tr>\n",
       "    <tr>\n",
       "      <th>No. of suspected deaths</th>\n",
       "      <td>0.80</td>\n",
       "      <td>0.92</td>\n",
       "      <td>0.80</td>\n",
       "      <td>0.82</td>\n",
       "      <td>1.00</td>\n",
       "      <td>0.92</td>\n",
       "      <td>0.81</td>\n",
       "      <td>0.85</td>\n",
       "    </tr>\n",
       "    <tr>\n",
       "      <th>No. of probable deaths</th>\n",
       "      <td>0.28</td>\n",
       "      <td>0.92</td>\n",
       "      <td>0.58</td>\n",
       "      <td>0.53</td>\n",
       "      <td>0.92</td>\n",
       "      <td>1.00</td>\n",
       "      <td>0.72</td>\n",
       "      <td>0.77</td>\n",
       "    </tr>\n",
       "    <tr>\n",
       "      <th>No. of confirmed deaths</th>\n",
       "      <td>0.84</td>\n",
       "      <td>0.65</td>\n",
       "      <td>0.97</td>\n",
       "      <td>0.96</td>\n",
       "      <td>0.81</td>\n",
       "      <td>0.72</td>\n",
       "      <td>1.00</td>\n",
       "      <td>1.00</td>\n",
       "    </tr>\n",
       "    <tr>\n",
       "      <th>No. of confirmed, probable and suspected deaths</th>\n",
       "      <td>0.90</td>\n",
       "      <td>0.81</td>\n",
       "      <td>0.84</td>\n",
       "      <td>0.96</td>\n",
       "      <td>0.85</td>\n",
       "      <td>0.77</td>\n",
       "      <td>1.00</td>\n",
       "      <td>1.00</td>\n",
       "    </tr>\n",
       "  </tbody>\n",
       "</table>\n",
       "</div>"
      ],
      "text/plain": [
       "                                                 No. of suspected cases  \\\n",
       "No. of suspected cases                                             1.00   \n",
       "No. of probable cases                                              0.79   \n",
       "No. of confirmed cases                                             0.72   \n",
       "No. of confirmed, probable and suspected cases                     0.93   \n",
       "No. of suspected deaths                                            0.80   \n",
       "No. of probable deaths                                             0.28   \n",
       "No. of confirmed deaths                                            0.84   \n",
       "No. of confirmed, probable and suspected deaths                    0.90   \n",
       "\n",
       "                                                 No. of probable cases  \\\n",
       "No. of suspected cases                                            0.79   \n",
       "No. of probable cases                                             1.00   \n",
       "No. of confirmed cases                                            0.38   \n",
       "No. of confirmed, probable and suspected cases                    0.67   \n",
       "No. of suspected deaths                                           0.92   \n",
       "No. of probable deaths                                            0.92   \n",
       "No. of confirmed deaths                                           0.65   \n",
       "No. of confirmed, probable and suspected deaths                   0.81   \n",
       "\n",
       "                                                 No. of confirmed cases  \\\n",
       "No. of suspected cases                                             0.72   \n",
       "No. of probable cases                                              0.38   \n",
       "No. of confirmed cases                                             1.00   \n",
       "No. of confirmed, probable and suspected cases                     0.93   \n",
       "No. of suspected deaths                                            0.80   \n",
       "No. of probable deaths                                             0.58   \n",
       "No. of confirmed deaths                                            0.97   \n",
       "No. of confirmed, probable and suspected deaths                    0.84   \n",
       "\n",
       "                                                 No. of confirmed, probable and suspected cases  \\\n",
       "No. of suspected cases                                                                     0.93   \n",
       "No. of probable cases                                                                      0.67   \n",
       "No. of confirmed cases                                                                     0.93   \n",
       "No. of confirmed, probable and suspected cases                                             1.00   \n",
       "No. of suspected deaths                                                                    0.82   \n",
       "No. of probable deaths                                                                     0.53   \n",
       "No. of confirmed deaths                                                                    0.96   \n",
       "No. of confirmed, probable and suspected deaths                                            0.96   \n",
       "\n",
       "                                                 No. of suspected deaths  \\\n",
       "No. of suspected cases                                              0.80   \n",
       "No. of probable cases                                               0.92   \n",
       "No. of confirmed cases                                              0.80   \n",
       "No. of confirmed, probable and suspected cases                      0.82   \n",
       "No. of suspected deaths                                             1.00   \n",
       "No. of probable deaths                                              0.92   \n",
       "No. of confirmed deaths                                             0.81   \n",
       "No. of confirmed, probable and suspected deaths                     0.85   \n",
       "\n",
       "                                                 No. of probable deaths  \\\n",
       "No. of suspected cases                                             0.28   \n",
       "No. of probable cases                                              0.92   \n",
       "No. of confirmed cases                                             0.58   \n",
       "No. of confirmed, probable and suspected cases                     0.53   \n",
       "No. of suspected deaths                                            0.92   \n",
       "No. of probable deaths                                             1.00   \n",
       "No. of confirmed deaths                                            0.72   \n",
       "No. of confirmed, probable and suspected deaths                    0.77   \n",
       "\n",
       "                                                 No. of confirmed deaths  \\\n",
       "No. of suspected cases                                              0.84   \n",
       "No. of probable cases                                               0.65   \n",
       "No. of confirmed cases                                              0.97   \n",
       "No. of confirmed, probable and suspected cases                      0.96   \n",
       "No. of suspected deaths                                             0.81   \n",
       "No. of probable deaths                                              0.72   \n",
       "No. of confirmed deaths                                             1.00   \n",
       "No. of confirmed, probable and suspected deaths                     1.00   \n",
       "\n",
       "                                                 No. of confirmed, probable and suspected deaths  \n",
       "No. of suspected cases                                                                      0.90  \n",
       "No. of probable cases                                                                       0.81  \n",
       "No. of confirmed cases                                                                      0.84  \n",
       "No. of confirmed, probable and suspected cases                                              0.96  \n",
       "No. of suspected deaths                                                                     0.85  \n",
       "No. of probable deaths                                                                      0.77  \n",
       "No. of confirmed deaths                                                                     1.00  \n",
       "No. of confirmed, probable and suspected deaths                                             1.00  "
      ]
     },
     "execution_count": 36,
     "metadata": {},
     "output_type": "execute_result"
    }
   ],
   "source": [
    "round(df.corr(), 2)"
   ]
  },
  {
   "cell_type": "code",
   "execution_count": 41,
   "metadata": {},
   "outputs": [
    {
     "data": {
      "text/plain": [
       "<matplotlib.axes._subplots.AxesSubplot at 0x1a4e7efd888>"
      ]
     },
     "execution_count": 41,
     "metadata": {},
     "output_type": "execute_result"
    },
    {
     "data": {
      "image/png": "[encoded data removed]",
      "text/plain": [
       "<Figure size 432x288 with 2 Axes>"
      ]
     },
     "metadata": {
      "needs_background": "light"
     },
     "output_type": "display_data"
    }
   ],
   "source": [
    "sns.heatmap(df.corr(), cmap=sns.color_palette('coolwarm', 16), alpha=0.9, linewidths=0.9)"
   ]
  },
  {
   "cell_type": "markdown",
   "metadata": {},
   "source": [
    "## Задание 7. Провести кластеризацию данных методом k-средних."
   ]
  },
  {
   "cell_type": "markdown",
   "metadata": {},
   "source": [
    "Сначала необходимо заполнить пропущенные значения"
   ]
  },
  {
   "cell_type": "code",
   "execution_count": 105,
   "metadata": {},
   "outputs": [],
   "source": [
    "clust_df = df.copy()"
   ]
  },
  {
   "cell_type": "code",
   "execution_count": 106,
   "metadata": {},
   "outputs": [
    {
     "data": {
      "text/plain": [
       "Country                                               0\n",
       "Date                                                  0\n",
       "No. of suspected cases                              119\n",
       "No. of probable cases                                49\n",
       "No. of confirmed cases                                1\n",
       "No. of confirmed, probable and suspected cases        8\n",
       "No. of suspected deaths                            1177\n",
       "No. of probable deaths                              959\n",
       "No. of confirmed deaths                             837\n",
       "No. of confirmed, probable and suspected deaths       0\n",
       "dtype: int64"
      ]
     },
     "execution_count": 106,
     "metadata": {},
     "output_type": "execute_result"
    }
   ],
   "source": [
    "clust_df.isna().sum()"
   ]
  },
  {
   "cell_type": "code",
   "execution_count": 107,
   "metadata": {},
   "outputs": [],
   "source": [
    "clust_df.fillna(-1, inplace=True)"
   ]
  },
  {
   "cell_type": "code",
   "execution_count": 108,
   "metadata": {},
   "outputs": [
    {
     "data": {
      "text/plain": [
       "<matplotlib.axes._subplots.AxesSubplot at 0x1a4e92f6648>"
      ]
     },
     "execution_count": 108,
     "metadata": {},
     "output_type": "execute_result"
    },
    {
     "data": {
      "image/png": "[encoded data removed]",
      "text/plain": [
       "<Figure size 432x288 with 2 Axes>"
      ]
     },
     "metadata": {
      "needs_background": "light"
     },
     "output_type": "display_data"
    }
   ],
   "source": [
    "clust_df.corr()\n",
    "sns.heatmap(clust_df.corr(), cmap=sns.color_palette('coolwarm', 16), alpha=0.9, linewidths=0.9)"
   ]
  },
  {
   "cell_type": "markdown",
   "metadata": {},
   "source": [
    "Как можно заметить, связь между факторами ухудшилась. То же самое было бы, если заполнять медианным значением. К счастью, есть иной способ, как это можно оптимизировать"
   ]
  },
  {
   "cell_type": "code",
   "execution_count": 109,
   "metadata": {},
   "outputs": [
    {
     "data": {
      "text/html": [
       "<div>\n",
       "<style scoped>\n",
       "    .dataframe tbody tr th:only-of-type {\n",
       "        vertical-align: middle;\n",
       "    }\n",
       "\n",
       "    .dataframe tbody tr th {\n",
       "        vertical-align: top;\n",
       "    }\n",
       "\n",
       "    .dataframe thead th {\n",
       "        text-align: right;\n",
       "    }\n",
       "</style>\n",
       "<table border=\"1\" class=\"dataframe\">\n",
       "  <thead>\n",
       "    <tr style=\"text-align: right;\">\n",
       "      <th></th>\n",
       "      <th>No. of suspected cases</th>\n",
       "      <th>No. of probable cases</th>\n",
       "      <th>No. of confirmed cases</th>\n",
       "      <th>No. of confirmed, probable and suspected cases</th>\n",
       "      <th>No. of suspected deaths</th>\n",
       "      <th>No. of probable deaths</th>\n",
       "      <th>No. of confirmed deaths</th>\n",
       "      <th>No. of confirmed, probable and suspected deaths</th>\n",
       "    </tr>\n",
       "  </thead>\n",
       "  <tbody>\n",
       "    <tr>\n",
       "      <th>count</th>\n",
       "      <td>2485.000000</td>\n",
       "      <td>2485.000000</td>\n",
       "      <td>2485.000000</td>\n",
       "      <td>2485.000000</td>\n",
       "      <td>2485.000000</td>\n",
       "      <td>2485.000000</td>\n",
       "      <td>2485.000000</td>\n",
       "      <td>2485.000000</td>\n",
       "    </tr>\n",
       "    <tr>\n",
       "      <th>mean</th>\n",
       "      <td>849.085714</td>\n",
       "      <td>258.513481</td>\n",
       "      <td>1436.037827</td>\n",
       "      <td>2545.454326</td>\n",
       "      <td>16.843058</td>\n",
       "      <td>63.807646</td>\n",
       "      <td>518.045070</td>\n",
       "      <td>1028.347686</td>\n",
       "    </tr>\n",
       "    <tr>\n",
       "      <th>std</th>\n",
       "      <td>1794.518097</td>\n",
       "      <td>557.135896</td>\n",
       "      <td>2573.844159</td>\n",
       "      <td>4422.352812</td>\n",
       "      <td>55.707674</td>\n",
       "      <td>136.518740</td>\n",
       "      <td>1089.211448</td>\n",
       "      <td>1656.064372</td>\n",
       "    </tr>\n",
       "    <tr>\n",
       "      <th>min</th>\n",
       "      <td>-1.000000</td>\n",
       "      <td>-1.000000</td>\n",
       "      <td>-1.000000</td>\n",
       "      <td>-1.000000</td>\n",
       "      <td>-1.000000</td>\n",
       "      <td>-1.000000</td>\n",
       "      <td>-1.000000</td>\n",
       "      <td>0.000000</td>\n",
       "    </tr>\n",
       "    <tr>\n",
       "      <th>25%</th>\n",
       "      <td>0.000000</td>\n",
       "      <td>0.000000</td>\n",
       "      <td>1.000000</td>\n",
       "      <td>1.000000</td>\n",
       "      <td>-1.000000</td>\n",
       "      <td>-1.000000</td>\n",
       "      <td>-1.000000</td>\n",
       "      <td>0.000000</td>\n",
       "    </tr>\n",
       "    <tr>\n",
       "      <th>50%</th>\n",
       "      <td>0.000000</td>\n",
       "      <td>1.000000</td>\n",
       "      <td>7.000000</td>\n",
       "      <td>8.000000</td>\n",
       "      <td>0.000000</td>\n",
       "      <td>0.000000</td>\n",
       "      <td>0.000000</td>\n",
       "      <td>6.000000</td>\n",
       "    </tr>\n",
       "    <tr>\n",
       "      <th>75%</th>\n",
       "      <td>13.000000</td>\n",
       "      <td>287.000000</td>\n",
       "      <td>3118.000000</td>\n",
       "      <td>3652.000000</td>\n",
       "      <td>0.000000</td>\n",
       "      <td>1.000000</td>\n",
       "      <td>7.000000</td>\n",
       "      <td>2386.000000</td>\n",
       "    </tr>\n",
       "    <tr>\n",
       "      <th>max</th>\n",
       "      <td>5636.000000</td>\n",
       "      <td>2106.000000</td>\n",
       "      <td>8704.000000</td>\n",
       "      <td>14122.000000</td>\n",
       "      <td>661.000000</td>\n",
       "      <td>803.000000</td>\n",
       "      <td>3858.000000</td>\n",
       "      <td>4806.000000</td>\n",
       "    </tr>\n",
       "  </tbody>\n",
       "</table>\n",
       "</div>"
      ],
      "text/plain": [
       "       No. of suspected cases  No. of probable cases  No. of confirmed cases  \\\n",
       "count             2485.000000            2485.000000             2485.000000   \n",
       "mean               849.085714             258.513481             1436.037827   \n",
       "std               1794.518097             557.135896             2573.844159   \n",
       "min                 -1.000000              -1.000000               -1.000000   \n",
       "25%                  0.000000               0.000000                1.000000   \n",
       "50%                  0.000000               1.000000                7.000000   \n",
       "75%                 13.000000             287.000000             3118.000000   \n",
       "max               5636.000000            2106.000000             8704.000000   \n",
       "\n",
       "       No. of confirmed, probable and suspected cases  \\\n",
       "count                                     2485.000000   \n",
       "mean                                      2545.454326   \n",
       "std                                       4422.352812   \n",
       "min                                         -1.000000   \n",
       "25%                                          1.000000   \n",
       "50%                                          8.000000   \n",
       "75%                                       3652.000000   \n",
       "max                                      14122.000000   \n",
       "\n",
       "       No. of suspected deaths  No. of probable deaths  \\\n",
       "count              2485.000000             2485.000000   \n",
       "mean                 16.843058               63.807646   \n",
       "std                  55.707674              136.518740   \n",
       "min                  -1.000000               -1.000000   \n",
       "25%                  -1.000000               -1.000000   \n",
       "50%                   0.000000                0.000000   \n",
       "75%                   0.000000                1.000000   \n",
       "max                 661.000000              803.000000   \n",
       "\n",
       "       No. of confirmed deaths  \\\n",
       "count              2485.000000   \n",
       "mean                518.045070   \n",
       "std                1089.211448   \n",
       "min                  -1.000000   \n",
       "25%                  -1.000000   \n",
       "50%                   0.000000   \n",
       "75%                   7.000000   \n",
       "max                3858.000000   \n",
       "\n",
       "       No. of confirmed, probable and suspected deaths  \n",
       "count                                      2485.000000  \n",
       "mean                                       1028.347686  \n",
       "std                                        1656.064372  \n",
       "min                                           0.000000  \n",
       "25%                                           0.000000  \n",
       "50%                                           6.000000  \n",
       "75%                                        2386.000000  \n",
       "max                                        4806.000000  "
      ]
     },
     "execution_count": 109,
     "metadata": {},
     "output_type": "execute_result"
    }
   ],
   "source": [
    "clust_df.describe()"
   ]
  },
  {
   "cell_type": "code",
   "execution_count": 110,
   "metadata": {},
   "outputs": [],
   "source": [
    "for i in range(len(clust_df)):\n",
    "    if clust_df.loc[i, 'No. of suspected deaths'] == -1:\n",
    "        clust_df.loc[i, 'No. of suspected deaths'] = clust_df.loc[i, 'No. of confirmed, probable and suspected deaths'] * 0.05\n",
    "    if clust_df.loc[i, 'No. of probable deaths'] == -1:\n",
    "        clust_df.loc[i, 'No. of probable deaths'] = clust_df.loc[i, 'No. of confirmed, probable and suspected deaths'] * 0.15\n",
    "    if clust_df.loc[i, 'No. of confirmed deaths'] == -1:\n",
    "        clust_df.loc[i, 'No. of confirmed deaths'] = clust_df.loc[i, 'No. of confirmed, probable and suspected deaths'] * 0.8\n",
    "        \n",
    "    if clust_df.loc[i, 'No. of suspected cases'] == -1:\n",
    "        clust_df.loc[i, 'No. of suspected cases'] = clust_df.loc[i, 'No. of confirmed, probable and suspected deaths'] * 0.05\n",
    "    if clust_df.loc[i, 'No. of probable cases'] == -1:\n",
    "        clust_df.loc[i, 'No. of probable cases'] = clust_df.loc[i, 'No. of confirmed, probable and suspected deaths'] * 0.15\n",
    "    if clust_df.loc[i, 'No. of confirmed cases'] == -1:\n",
    "        clust_df.loc[i, 'No. of confirmed cases'] = clust_df.loc[i, 'No. of confirmed, probable and suspected deaths'] * 0.8"
   ]
  },
  {
   "cell_type": "code",
   "execution_count": 111,
   "metadata": {},
   "outputs": [
    {
     "data": {
      "text/html": [
       "<div>\n",
       "<style scoped>\n",
       "    .dataframe tbody tr th:only-of-type {\n",
       "        vertical-align: middle;\n",
       "    }\n",
       "\n",
       "    .dataframe tbody tr th {\n",
       "        vertical-align: top;\n",
       "    }\n",
       "\n",
       "    .dataframe thead th {\n",
       "        text-align: right;\n",
       "    }\n",
       "</style>\n",
       "<table border=\"1\" class=\"dataframe\">\n",
       "  <thead>\n",
       "    <tr style=\"text-align: right;\">\n",
       "      <th></th>\n",
       "      <th>No. of suspected cases</th>\n",
       "      <th>No. of probable cases</th>\n",
       "      <th>No. of confirmed cases</th>\n",
       "      <th>No. of confirmed, probable and suspected cases</th>\n",
       "      <th>No. of suspected deaths</th>\n",
       "      <th>No. of probable deaths</th>\n",
       "      <th>No. of confirmed deaths</th>\n",
       "      <th>No. of confirmed, probable and suspected deaths</th>\n",
       "    </tr>\n",
       "  </thead>\n",
       "  <tbody>\n",
       "    <tr>\n",
       "      <th>count</th>\n",
       "      <td>2485.000000</td>\n",
       "      <td>2485.000000</td>\n",
       "      <td>2485.000000</td>\n",
       "      <td>2485.000000</td>\n",
       "      <td>2485.000000</td>\n",
       "      <td>2485.000000</td>\n",
       "      <td>2485.000000</td>\n",
       "      <td>2485.000000</td>\n",
       "    </tr>\n",
       "    <tr>\n",
       "      <th>mean</th>\n",
       "      <td>849.187988</td>\n",
       "      <td>258.688270</td>\n",
       "      <td>1436.837907</td>\n",
       "      <td>2545.454326</td>\n",
       "      <td>49.425573</td>\n",
       "      <td>129.400885</td>\n",
       "      <td>861.146640</td>\n",
       "      <td>1028.347686</td>\n",
       "    </tr>\n",
       "    <tr>\n",
       "      <th>std</th>\n",
       "      <td>1794.471400</td>\n",
       "      <td>557.104875</td>\n",
       "      <td>2573.706288</td>\n",
       "      <td>4422.352812</td>\n",
       "      <td>83.892286</td>\n",
       "      <td>222.778364</td>\n",
       "      <td>1392.856664</td>\n",
       "      <td>1656.064372</td>\n",
       "    </tr>\n",
       "    <tr>\n",
       "      <th>min</th>\n",
       "      <td>0.000000</td>\n",
       "      <td>0.000000</td>\n",
       "      <td>1.000000</td>\n",
       "      <td>-1.000000</td>\n",
       "      <td>0.000000</td>\n",
       "      <td>0.000000</td>\n",
       "      <td>0.000000</td>\n",
       "      <td>0.000000</td>\n",
       "    </tr>\n",
       "    <tr>\n",
       "      <th>25%</th>\n",
       "      <td>0.000000</td>\n",
       "      <td>0.000000</td>\n",
       "      <td>1.000000</td>\n",
       "      <td>1.000000</td>\n",
       "      <td>0.000000</td>\n",
       "      <td>0.000000</td>\n",
       "      <td>0.000000</td>\n",
       "      <td>0.000000</td>\n",
       "    </tr>\n",
       "    <tr>\n",
       "      <th>50%</th>\n",
       "      <td>0.000000</td>\n",
       "      <td>1.000000</td>\n",
       "      <td>7.000000</td>\n",
       "      <td>8.000000</td>\n",
       "      <td>0.000000</td>\n",
       "      <td>0.900000</td>\n",
       "      <td>4.800000</td>\n",
       "      <td>6.000000</td>\n",
       "    </tr>\n",
       "    <tr>\n",
       "      <th>75%</th>\n",
       "      <td>13.000000</td>\n",
       "      <td>287.000000</td>\n",
       "      <td>3118.000000</td>\n",
       "      <td>3652.000000</td>\n",
       "      <td>120.600000</td>\n",
       "      <td>208.000000</td>\n",
       "      <td>1962.000000</td>\n",
       "      <td>2386.000000</td>\n",
       "    </tr>\n",
       "    <tr>\n",
       "      <th>max</th>\n",
       "      <td>5636.000000</td>\n",
       "      <td>2106.000000</td>\n",
       "      <td>8704.000000</td>\n",
       "      <td>14122.000000</td>\n",
       "      <td>661.000000</td>\n",
       "      <td>803.000000</td>\n",
       "      <td>3858.000000</td>\n",
       "      <td>4806.000000</td>\n",
       "    </tr>\n",
       "  </tbody>\n",
       "</table>\n",
       "</div>"
      ],
      "text/plain": [
       "       No. of suspected cases  No. of probable cases  No. of confirmed cases  \\\n",
       "count             2485.000000            2485.000000             2485.000000   \n",
       "mean               849.187988             258.688270             1436.837907   \n",
       "std               1794.471400             557.104875             2573.706288   \n",
       "min                  0.000000               0.000000                1.000000   \n",
       "25%                  0.000000               0.000000                1.000000   \n",
       "50%                  0.000000               1.000000                7.000000   \n",
       "75%                 13.000000             287.000000             3118.000000   \n",
       "max               5636.000000            2106.000000             8704.000000   \n",
       "\n",
       "       No. of confirmed, probable and suspected cases  \\\n",
       "count                                     2485.000000   \n",
       "mean                                      2545.454326   \n",
       "std                                       4422.352812   \n",
       "min                                         -1.000000   \n",
       "25%                                          1.000000   \n",
       "50%                                          8.000000   \n",
       "75%                                       3652.000000   \n",
       "max                                      14122.000000   \n",
       "\n",
       "       No. of suspected deaths  No. of probable deaths  \\\n",
       "count              2485.000000             2485.000000   \n",
       "mean                 49.425573              129.400885   \n",
       "std                  83.892286              222.778364   \n",
       "min                   0.000000                0.000000   \n",
       "25%                   0.000000                0.000000   \n",
       "50%                   0.000000                0.900000   \n",
       "75%                 120.600000              208.000000   \n",
       "max                 661.000000              803.000000   \n",
       "\n",
       "       No. of confirmed deaths  \\\n",
       "count              2485.000000   \n",
       "mean                861.146640   \n",
       "std                1392.856664   \n",
       "min                   0.000000   \n",
       "25%                   0.000000   \n",
       "50%                   4.800000   \n",
       "75%                1962.000000   \n",
       "max                3858.000000   \n",
       "\n",
       "       No. of confirmed, probable and suspected deaths  \n",
       "count                                      2485.000000  \n",
       "mean                                       1028.347686  \n",
       "std                                        1656.064372  \n",
       "min                                           0.000000  \n",
       "25%                                           0.000000  \n",
       "50%                                           6.000000  \n",
       "75%                                        2386.000000  \n",
       "max                                        4806.000000  "
      ]
     },
     "execution_count": 111,
     "metadata": {},
     "output_type": "execute_result"
    }
   ],
   "source": [
    "clust_df.describe()"
   ]
  },
  {
   "cell_type": "code",
   "execution_count": 112,
   "metadata": {},
   "outputs": [],
   "source": [
    "clust_df.set_index(['Country', 'Date'], inplace=True)"
   ]
  },
  {
   "cell_type": "code",
   "execution_count": 113,
   "metadata": {},
   "outputs": [
    {
     "data": {
      "text/plain": [
       "<matplotlib.axes._subplots.AxesSubplot at 0x1a4e94cba48>"
      ]
     },
     "execution_count": 113,
     "metadata": {},
     "output_type": "execute_result"
    },
    {
     "data": {
      "image/png": "[encoded data removed]",
      "text/plain": [
       "<Figure size 432x288 with 2 Axes>"
      ]
     },
     "metadata": {
      "needs_background": "light"
     },
     "output_type": "display_data"
    }
   ],
   "source": [
    "clust_df.corr()\n",
    "sns.heatmap(clust_df.corr(), cmap=sns.color_palette('coolwarm', 16), alpha=0.9, linewidths=0.9)"
   ]
  },
  {
   "cell_type": "markdown",
   "metadata": {},
   "source": [
    "Видим, что связь между факторами стала даже лучше, чем была изначально"
   ]
  },
  {
   "cell_type": "code",
   "execution_count": 114,
   "metadata": {},
   "outputs": [
    {
     "data": {
      "text/html": [
       "<div>\n",
       "<style scoped>\n",
       "    .dataframe tbody tr th:only-of-type {\n",
       "        vertical-align: middle;\n",
       "    }\n",
       "\n",
       "    .dataframe tbody tr th {\n",
       "        vertical-align: top;\n",
       "    }\n",
       "\n",
       "    .dataframe thead th {\n",
       "        text-align: right;\n",
       "    }\n",
       "</style>\n",
       "<table border=\"1\" class=\"dataframe\">\n",
       "  <thead>\n",
       "    <tr style=\"text-align: right;\">\n",
       "      <th></th>\n",
       "      <th></th>\n",
       "      <th>No. of suspected cases</th>\n",
       "      <th>No. of probable cases</th>\n",
       "      <th>No. of confirmed cases</th>\n",
       "      <th>No. of confirmed, probable and suspected cases</th>\n",
       "      <th>No. of suspected deaths</th>\n",
       "      <th>No. of probable deaths</th>\n",
       "      <th>No. of confirmed deaths</th>\n",
       "      <th>No. of confirmed, probable and suspected deaths</th>\n",
       "    </tr>\n",
       "    <tr>\n",
       "      <th>Country</th>\n",
       "      <th>Date</th>\n",
       "      <th></th>\n",
       "      <th></th>\n",
       "      <th></th>\n",
       "      <th></th>\n",
       "      <th></th>\n",
       "      <th></th>\n",
       "      <th></th>\n",
       "      <th></th>\n",
       "    </tr>\n",
       "  </thead>\n",
       "  <tbody>\n",
       "    <tr>\n",
       "      <th>Guinea</th>\n",
       "      <th>2014-08-29</th>\n",
       "      <td>25.0</td>\n",
       "      <td>141.0</td>\n",
       "      <td>482.0</td>\n",
       "      <td>648.0</td>\n",
       "      <td>2.0</td>\n",
       "      <td>141.0</td>\n",
       "      <td>287.0</td>\n",
       "      <td>430.0</td>\n",
       "    </tr>\n",
       "  </tbody>\n",
       "</table>\n",
       "</div>"
      ],
      "text/plain": [
       "                    No. of suspected cases  No. of probable cases  \\\n",
       "Country Date                                                        \n",
       "Guinea  2014-08-29                    25.0                  141.0   \n",
       "\n",
       "                    No. of confirmed cases  \\\n",
       "Country Date                                 \n",
       "Guinea  2014-08-29                   482.0   \n",
       "\n",
       "                    No. of confirmed, probable and suspected cases  \\\n",
       "Country Date                                                         \n",
       "Guinea  2014-08-29                                           648.0   \n",
       "\n",
       "                    No. of suspected deaths  No. of probable deaths  \\\n",
       "Country Date                                                          \n",
       "Guinea  2014-08-29                      2.0                   141.0   \n",
       "\n",
       "                    No. of confirmed deaths  \\\n",
       "Country Date                                  \n",
       "Guinea  2014-08-29                    287.0   \n",
       "\n",
       "                    No. of confirmed, probable and suspected deaths  \n",
       "Country Date                                                         \n",
       "Guinea  2014-08-29                                            430.0  "
      ]
     },
     "execution_count": 114,
     "metadata": {},
     "output_type": "execute_result"
    }
   ],
   "source": [
    "clust_df.head(1)"
   ]
  },
  {
   "cell_type": "code",
   "execution_count": 115,
   "metadata": {},
   "outputs": [],
   "source": [
    "from sklearn.preprocessing import StandardScaler\n",
    "from sklearn.decomposition import PCA\n",
    "from sklearn.cluster import KMeans\n",
    "\n",
    "import time"
   ]
  },
  {
   "cell_type": "code",
   "execution_count": 116,
   "metadata": {},
   "outputs": [],
   "source": [
    "sc = StandardScaler()"
   ]
  },
  {
   "cell_type": "code",
   "execution_count": 125,
   "metadata": {},
   "outputs": [],
   "source": [
    "def kmeans_analysis(df, step):\n",
    "    \n",
    "    columns = df.columns\n",
    "    df_scaled = sc.fit_transform(df)\n",
    "    df_scaled = pd.DataFrame(df_scaled, columns = columns)\n",
    "    \n",
    "    if step==0:\n",
    "        print('query: showing rows of scaled DataFrame')\n",
    "        return df_scaled.sample(5)\n",
    "    \n",
    "    if step==1:\n",
    "        print('query: correlation')\n",
    "        return df_scaled.corr()\n",
    "    \n",
    "    if step==2:\n",
    "        print('query: returning Elbow Method')\n",
    "        K = range(1, 11)\n",
    "        models = [KMeans(n_clusters=k, random_state=42).fit(df_scaled) for k in K]\n",
    "        dist = [model.inertia_ for model in models]\n",
    "\n",
    "        # Plot the elbow\n",
    "        plt.plot(K, dist, marker='o')\n",
    "        plt.xlabel('k')\n",
    "        plt.ylabel('Sum of distances')\n",
    "        plt.title('The Elbow Method showing the optimal k')\n",
    "        return plt.show()\n",
    "    \n",
    "    a = int(input('Choose the amount of clusters, please: '))\n",
    "    model = KMeans(n_clusters = a, random_state=42)\n",
    "    model.fit(df)\n",
    "    df_scaled['cluster'] = model.labels_\n",
    "    df['cluster'] = model.labels_\n",
    "    \n",
    "    if step==3:\n",
    "        print('n_clusters:', a)\n",
    "        print(\"query: df.groupby('cluster').mean()\")\n",
    "        return df.groupby('cluster').mean()\n",
    "    \n",
    "    if step==4:\n",
    "        print('n_clusters:', a)\n",
    "        print(\"query: df_scaled.groupby('cluster').size()\")\n",
    "        return df_scaled.groupby('cluster').size()\n",
    "    \n",
    "    if step==5:\n",
    "        print('n_clusters:', a)\n",
    "        print(\"query: df_scaled['cluster'].sort_values()\")\n",
    "        return df_scaled['cluster'].sort_values()\n",
    "    \n",
    "    fig, axs = plt.subplots(nrows=int(a/2 + 0.5), ncols=2, sharex=True)\n",
    "    fig.set_size_inches(16, len(df_scaled.columns) + 2)\n",
    "    plt.subplots_adjust( wspace=0.625)\n",
    "    k = 0\n",
    "    c = ['grey', 'violet', 'salmon', 'skyblue', 'orange', 'red', 'yellow', 'blue', 'green', 'black']\n",
    "    \n",
    "    if step==6:\n",
    "        for i in range(int(a/2 + 0.5)):\n",
    "            for j in range(2):\n",
    "                try:\n",
    "                    ax = axs[i, j]\n",
    "                    k += 1\n",
    "                    df_scaled[df_scaled.cluster == k-1].groupby('cluster').mean().T.plot.barh(ax = ax, color = c[k-1])\n",
    "                    ax.tick_params(labelsize = 11)\n",
    "                except TypeError:\n",
    "                    break\n",
    "        \n",
    "        return plt.show()"
   ]
  },
  {
   "cell_type": "code",
   "execution_count": 118,
   "metadata": {},
   "outputs": [
    {
     "name": "stdout",
     "output_type": "stream",
     "text": [
      "query: showing rows of scaled DataFrame\n"
     ]
    },
    {
     "data": {
      "text/html": [
       "<div>\n",
       "<style scoped>\n",
       "    .dataframe tbody tr th:only-of-type {\n",
       "        vertical-align: middle;\n",
       "    }\n",
       "\n",
       "    .dataframe tbody tr th {\n",
       "        vertical-align: top;\n",
       "    }\n",
       "\n",
       "    .dataframe thead th {\n",
       "        text-align: right;\n",
       "    }\n",
       "</style>\n",
       "<table border=\"1\" class=\"dataframe\">\n",
       "  <thead>\n",
       "    <tr style=\"text-align: right;\">\n",
       "      <th></th>\n",
       "      <th>No. of suspected cases</th>\n",
       "      <th>No. of probable cases</th>\n",
       "      <th>No. of confirmed cases</th>\n",
       "      <th>No. of confirmed, probable and suspected cases</th>\n",
       "      <th>No. of suspected deaths</th>\n",
       "      <th>No. of probable deaths</th>\n",
       "      <th>No. of confirmed deaths</th>\n",
       "      <th>No. of confirmed, probable and suspected deaths</th>\n",
       "    </tr>\n",
       "  </thead>\n",
       "  <tbody>\n",
       "    <tr>\n",
       "      <th>2092</th>\n",
       "      <td>-0.473320</td>\n",
       "      <td>-0.464437</td>\n",
       "      <td>-0.558000</td>\n",
       "      <td>-0.575478</td>\n",
       "      <td>-0.589274</td>\n",
       "      <td>-0.580967</td>\n",
       "      <td>-0.618384</td>\n",
       "      <td>-0.621084</td>\n",
       "    </tr>\n",
       "    <tr>\n",
       "      <th>2298</th>\n",
       "      <td>-0.473320</td>\n",
       "      <td>-0.464437</td>\n",
       "      <td>-0.556834</td>\n",
       "      <td>-0.574799</td>\n",
       "      <td>-0.589274</td>\n",
       "      <td>-0.580967</td>\n",
       "      <td>-0.617666</td>\n",
       "      <td>-0.620480</td>\n",
       "    </tr>\n",
       "    <tr>\n",
       "      <th>715</th>\n",
       "      <td>-0.473320</td>\n",
       "      <td>-0.464437</td>\n",
       "      <td>-0.558000</td>\n",
       "      <td>-0.575478</td>\n",
       "      <td>-0.589274</td>\n",
       "      <td>-0.580967</td>\n",
       "      <td>-0.618384</td>\n",
       "      <td>-0.621084</td>\n",
       "    </tr>\n",
       "    <tr>\n",
       "      <th>5</th>\n",
       "      <td>-0.471648</td>\n",
       "      <td>-0.462642</td>\n",
       "      <td>-0.551393</td>\n",
       "      <td>-0.570728</td>\n",
       "      <td>-0.589274</td>\n",
       "      <td>-0.576478</td>\n",
       "      <td>-0.613357</td>\n",
       "      <td>-0.616252</td>\n",
       "    </tr>\n",
       "    <tr>\n",
       "      <th>1375</th>\n",
       "      <td>-0.473320</td>\n",
       "      <td>-0.462642</td>\n",
       "      <td>-0.551004</td>\n",
       "      <td>-0.571181</td>\n",
       "      <td>-0.589274</td>\n",
       "      <td>-0.576478</td>\n",
       "      <td>-0.613357</td>\n",
       "      <td>-0.616252</td>\n",
       "    </tr>\n",
       "  </tbody>\n",
       "</table>\n",
       "</div>"
      ],
      "text/plain": [
       "      No. of suspected cases  No. of probable cases  No. of confirmed cases  \\\n",
       "2092               -0.473320              -0.464437               -0.558000   \n",
       "2298               -0.473320              -0.464437               -0.556834   \n",
       "715                -0.473320              -0.464437               -0.558000   \n",
       "5                  -0.471648              -0.462642               -0.551393   \n",
       "1375               -0.473320              -0.462642               -0.551004   \n",
       "\n",
       "      No. of confirmed, probable and suspected cases  No. of suspected deaths  \\\n",
       "2092                                       -0.575478                -0.589274   \n",
       "2298                                       -0.574799                -0.589274   \n",
       "715                                        -0.575478                -0.589274   \n",
       "5                                          -0.570728                -0.589274   \n",
       "1375                                       -0.571181                -0.589274   \n",
       "\n",
       "      No. of probable deaths  No. of confirmed deaths  \\\n",
       "2092               -0.580967                -0.618384   \n",
       "2298               -0.580967                -0.617666   \n",
       "715                -0.580967                -0.618384   \n",
       "5                  -0.576478                -0.613357   \n",
       "1375               -0.576478                -0.613357   \n",
       "\n",
       "      No. of confirmed, probable and suspected deaths  \n",
       "2092                                        -0.621084  \n",
       "2298                                        -0.620480  \n",
       "715                                         -0.621084  \n",
       "5                                           -0.616252  \n",
       "1375                                        -0.616252  "
      ]
     },
     "execution_count": 118,
     "metadata": {},
     "output_type": "execute_result"
    }
   ],
   "source": [
    "kmeans_analysis(clust_df, 0)"
   ]
  },
  {
   "cell_type": "code",
   "execution_count": 119,
   "metadata": {},
   "outputs": [
    {
     "name": "stdout",
     "output_type": "stream",
     "text": [
      "query: correlation\n"
     ]
    },
    {
     "data": {
      "text/html": [
       "<div>\n",
       "<style scoped>\n",
       "    .dataframe tbody tr th:only-of-type {\n",
       "        vertical-align: middle;\n",
       "    }\n",
       "\n",
       "    .dataframe tbody tr th {\n",
       "        vertical-align: top;\n",
       "    }\n",
       "\n",
       "    .dataframe thead th {\n",
       "        text-align: right;\n",
       "    }\n",
       "</style>\n",
       "<table border=\"1\" class=\"dataframe\">\n",
       "  <thead>\n",
       "    <tr style=\"text-align: right;\">\n",
       "      <th></th>\n",
       "      <th>No. of suspected cases</th>\n",
       "      <th>No. of probable cases</th>\n",
       "      <th>No. of confirmed cases</th>\n",
       "      <th>No. of confirmed, probable and suspected cases</th>\n",
       "      <th>No. of suspected deaths</th>\n",
       "      <th>No. of probable deaths</th>\n",
       "      <th>No. of confirmed deaths</th>\n",
       "      <th>No. of confirmed, probable and suspected deaths</th>\n",
       "    </tr>\n",
       "  </thead>\n",
       "  <tbody>\n",
       "    <tr>\n",
       "      <th>No. of suspected cases</th>\n",
       "      <td>1.000000</td>\n",
       "      <td>0.793709</td>\n",
       "      <td>0.726149</td>\n",
       "      <td>0.928307</td>\n",
       "      <td>0.836255</td>\n",
       "      <td>0.741672</td>\n",
       "      <td>0.903800</td>\n",
       "      <td>0.903970</td>\n",
       "    </tr>\n",
       "    <tr>\n",
       "      <th>No. of probable cases</th>\n",
       "      <td>0.793709</td>\n",
       "      <td>1.000000</td>\n",
       "      <td>0.385781</td>\n",
       "      <td>0.672591</td>\n",
       "      <td>0.853663</td>\n",
       "      <td>0.924836</td>\n",
       "      <td>0.770118</td>\n",
       "      <td>0.811353</td>\n",
       "    </tr>\n",
       "    <tr>\n",
       "      <th>No. of confirmed cases</th>\n",
       "      <td>0.726149</td>\n",
       "      <td>0.385781</td>\n",
       "      <td>1.000000</td>\n",
       "      <td>0.925297</td>\n",
       "      <td>0.724418</td>\n",
       "      <td>0.541927</td>\n",
       "      <td>0.869559</td>\n",
       "      <td>0.836237</td>\n",
       "    </tr>\n",
       "    <tr>\n",
       "      <th>No. of confirmed, probable and suspected cases</th>\n",
       "      <td>0.928307</td>\n",
       "      <td>0.672591</td>\n",
       "      <td>0.925297</td>\n",
       "      <td>1.000000</td>\n",
       "      <td>0.868626</td>\n",
       "      <td>0.733028</td>\n",
       "      <td>0.969967</td>\n",
       "      <td>0.955848</td>\n",
       "    </tr>\n",
       "    <tr>\n",
       "      <th>No. of suspected deaths</th>\n",
       "      <td>0.836255</td>\n",
       "      <td>0.853663</td>\n",
       "      <td>0.724418</td>\n",
       "      <td>0.868626</td>\n",
       "      <td>1.000000</td>\n",
       "      <td>0.917681</td>\n",
       "      <td>0.918628</td>\n",
       "      <td>0.940220</td>\n",
       "    </tr>\n",
       "    <tr>\n",
       "      <th>No. of probable deaths</th>\n",
       "      <td>0.741672</td>\n",
       "      <td>0.924836</td>\n",
       "      <td>0.541927</td>\n",
       "      <td>0.733028</td>\n",
       "      <td>0.917681</td>\n",
       "      <td>1.000000</td>\n",
       "      <td>0.860720</td>\n",
       "      <td>0.895146</td>\n",
       "    </tr>\n",
       "    <tr>\n",
       "      <th>No. of confirmed deaths</th>\n",
       "      <td>0.903800</td>\n",
       "      <td>0.770118</td>\n",
       "      <td>0.869559</td>\n",
       "      <td>0.969967</td>\n",
       "      <td>0.918628</td>\n",
       "      <td>0.860720</td>\n",
       "      <td>1.000000</td>\n",
       "      <td>0.996810</td>\n",
       "    </tr>\n",
       "    <tr>\n",
       "      <th>No. of confirmed, probable and suspected deaths</th>\n",
       "      <td>0.903970</td>\n",
       "      <td>0.811353</td>\n",
       "      <td>0.836237</td>\n",
       "      <td>0.955848</td>\n",
       "      <td>0.940220</td>\n",
       "      <td>0.895146</td>\n",
       "      <td>0.996810</td>\n",
       "      <td>1.000000</td>\n",
       "    </tr>\n",
       "  </tbody>\n",
       "</table>\n",
       "</div>"
      ],
      "text/plain": [
       "                                                 No. of suspected cases  \\\n",
       "No. of suspected cases                                         1.000000   \n",
       "No. of probable cases                                          0.793709   \n",
       "No. of confirmed cases                                         0.726149   \n",
       "No. of confirmed, probable and suspected cases                 0.928307   \n",
       "No. of suspected deaths                                        0.836255   \n",
       "No. of probable deaths                                         0.741672   \n",
       "No. of confirmed deaths                                        0.903800   \n",
       "No. of confirmed, probable and suspected deaths                0.903970   \n",
       "\n",
       "                                                 No. of probable cases  \\\n",
       "No. of suspected cases                                        0.793709   \n",
       "No. of probable cases                                         1.000000   \n",
       "No. of confirmed cases                                        0.385781   \n",
       "No. of confirmed, probable and suspected cases                0.672591   \n",
       "No. of suspected deaths                                       0.853663   \n",
       "No. of probable deaths                                        0.924836   \n",
       "No. of confirmed deaths                                       0.770118   \n",
       "No. of confirmed, probable and suspected deaths               0.811353   \n",
       "\n",
       "                                                 No. of confirmed cases  \\\n",
       "No. of suspected cases                                         0.726149   \n",
       "No. of probable cases                                          0.385781   \n",
       "No. of confirmed cases                                         1.000000   \n",
       "No. of confirmed, probable and suspected cases                 0.925297   \n",
       "No. of suspected deaths                                        0.724418   \n",
       "No. of probable deaths                                         0.541927   \n",
       "No. of confirmed deaths                                        0.869559   \n",
       "No. of confirmed, probable and suspected deaths                0.836237   \n",
       "\n",
       "                                                 No. of confirmed, probable and suspected cases  \\\n",
       "No. of suspected cases                                                                 0.928307   \n",
       "No. of probable cases                                                                  0.672591   \n",
       "No. of confirmed cases                                                                 0.925297   \n",
       "No. of confirmed, probable and suspected cases                                         1.000000   \n",
       "No. of suspected deaths                                                                0.868626   \n",
       "No. of probable deaths                                                                 0.733028   \n",
       "No. of confirmed deaths                                                                0.969967   \n",
       "No. of confirmed, probable and suspected deaths                                        0.955848   \n",
       "\n",
       "                                                 No. of suspected deaths  \\\n",
       "No. of suspected cases                                          0.836255   \n",
       "No. of probable cases                                           0.853663   \n",
       "No. of confirmed cases                                          0.724418   \n",
       "No. of confirmed, probable and suspected cases                  0.868626   \n",
       "No. of suspected deaths                                         1.000000   \n",
       "No. of probable deaths                                          0.917681   \n",
       "No. of confirmed deaths                                         0.918628   \n",
       "No. of confirmed, probable and suspected deaths                 0.940220   \n",
       "\n",
       "                                                 No. of probable deaths  \\\n",
       "No. of suspected cases                                         0.741672   \n",
       "No. of probable cases                                          0.924836   \n",
       "No. of confirmed cases                                         0.541927   \n",
       "No. of confirmed, probable and suspected cases                 0.733028   \n",
       "No. of suspected deaths                                        0.917681   \n",
       "No. of probable deaths                                         1.000000   \n",
       "No. of confirmed deaths                                        0.860720   \n",
       "No. of confirmed, probable and suspected deaths                0.895146   \n",
       "\n",
       "                                                 No. of confirmed deaths  \\\n",
       "No. of suspected cases                                          0.903800   \n",
       "No. of probable cases                                           0.770118   \n",
       "No. of confirmed cases                                          0.869559   \n",
       "No. of confirmed, probable and suspected cases                  0.969967   \n",
       "No. of suspected deaths                                         0.918628   \n",
       "No. of probable deaths                                          0.860720   \n",
       "No. of confirmed deaths                                         1.000000   \n",
       "No. of confirmed, probable and suspected deaths                 0.996810   \n",
       "\n",
       "                                                 No. of confirmed, probable and suspected deaths  \n",
       "No. of suspected cases                                                                  0.903970  \n",
       "No. of probable cases                                                                   0.811353  \n",
       "No. of confirmed cases                                                                  0.836237  \n",
       "No. of confirmed, probable and suspected cases                                          0.955848  \n",
       "No. of suspected deaths                                                                 0.940220  \n",
       "No. of probable deaths                                                                  0.895146  \n",
       "No. of confirmed deaths                                                                 0.996810  \n",
       "No. of confirmed, probable and suspected deaths                                         1.000000  "
      ]
     },
     "execution_count": 119,
     "metadata": {},
     "output_type": "execute_result"
    }
   ],
   "source": [
    "kmeans_analysis(clust_df, 1)"
   ]
  },
  {
   "cell_type": "code",
   "execution_count": 120,
   "metadata": {},
   "outputs": [
    {
     "name": "stdout",
     "output_type": "stream",
     "text": [
      "query: returning Elbow Method\n"
     ]
    },
    {
     "data": {
      "image/png": "[encoded data removed]",
      "text/plain": [
       "<Figure size 432x288 with 1 Axes>"
      ]
     },
     "metadata": {
      "needs_background": "light"
     },
     "output_type": "display_data"
    }
   ],
   "source": [
    "kmeans_analysis(clust_df, 2)"
   ]
  },
  {
   "cell_type": "code",
   "execution_count": 121,
   "metadata": {},
   "outputs": [
    {
     "name": "stdout",
     "output_type": "stream",
     "text": [
      "Choose the amount of clusters, please: 4\n",
      "n_clusters: 4\n",
      "query: df.groupby('cluster').mean()\n"
     ]
    },
    {
     "data": {
      "text/html": [
       "<div>\n",
       "<style scoped>\n",
       "    .dataframe tbody tr th:only-of-type {\n",
       "        vertical-align: middle;\n",
       "    }\n",
       "\n",
       "    .dataframe tbody tr th {\n",
       "        vertical-align: top;\n",
       "    }\n",
       "\n",
       "    .dataframe thead th {\n",
       "        text-align: right;\n",
       "    }\n",
       "</style>\n",
       "<table border=\"1\" class=\"dataframe\">\n",
       "  <thead>\n",
       "    <tr style=\"text-align: right;\">\n",
       "      <th></th>\n",
       "      <th>No. of suspected cases</th>\n",
       "      <th>No. of probable cases</th>\n",
       "      <th>No. of confirmed cases</th>\n",
       "      <th>No. of confirmed, probable and suspected cases</th>\n",
       "      <th>No. of suspected deaths</th>\n",
       "      <th>No. of probable deaths</th>\n",
       "      <th>No. of confirmed deaths</th>\n",
       "      <th>No. of confirmed, probable and suspected deaths</th>\n",
       "    </tr>\n",
       "    <tr>\n",
       "      <th>cluster</th>\n",
       "      <th></th>\n",
       "      <th></th>\n",
       "      <th></th>\n",
       "      <th></th>\n",
       "      <th></th>\n",
       "      <th></th>\n",
       "      <th></th>\n",
       "      <th></th>\n",
       "    </tr>\n",
       "  </thead>\n",
       "  <tbody>\n",
       "    <tr>\n",
       "      <th>0</th>\n",
       "      <td>2.358754</td>\n",
       "      <td>4.623278</td>\n",
       "      <td>25.970149</td>\n",
       "      <td>32.911596</td>\n",
       "      <td>0.723278</td>\n",
       "      <td>3.423794</td>\n",
       "      <td>12.382204</td>\n",
       "      <td>16.504018</td>\n",
       "    </tr>\n",
       "    <tr>\n",
       "      <th>1</th>\n",
       "      <td>5008.529661</td>\n",
       "      <td>1868.673729</td>\n",
       "      <td>3134.974576</td>\n",
       "      <td>10012.161017</td>\n",
       "      <td>223.038983</td>\n",
       "      <td>669.116949</td>\n",
       "      <td>3581.620339</td>\n",
       "      <td>4460.779661</td>\n",
       "    </tr>\n",
       "    <tr>\n",
       "      <th>2</th>\n",
       "      <td>3816.747826</td>\n",
       "      <td>285.191304</td>\n",
       "      <td>8472.291304</td>\n",
       "      <td>12574.856522</td>\n",
       "      <td>156.930435</td>\n",
       "      <td>207.704348</td>\n",
       "      <td>3372.886957</td>\n",
       "      <td>3737.521739</td>\n",
       "    </tr>\n",
       "    <tr>\n",
       "      <th>3</th>\n",
       "      <td>166.997112</td>\n",
       "      <td>462.763899</td>\n",
       "      <td>3021.015162</td>\n",
       "      <td>3657.166065</td>\n",
       "      <td>118.524910</td>\n",
       "      <td>396.799097</td>\n",
       "      <td>1795.498917</td>\n",
       "      <td>2217.761733</td>\n",
       "    </tr>\n",
       "  </tbody>\n",
       "</table>\n",
       "</div>"
      ],
      "text/plain": [
       "         No. of suspected cases  No. of probable cases  \\\n",
       "cluster                                                  \n",
       "0                      2.358754               4.623278   \n",
       "1                   5008.529661            1868.673729   \n",
       "2                   3816.747826             285.191304   \n",
       "3                    166.997112             462.763899   \n",
       "\n",
       "         No. of confirmed cases  \\\n",
       "cluster                           \n",
       "0                     25.970149   \n",
       "1                   3134.974576   \n",
       "2                   8472.291304   \n",
       "3                   3021.015162   \n",
       "\n",
       "         No. of confirmed, probable and suspected cases  \\\n",
       "cluster                                                   \n",
       "0                                             32.911596   \n",
       "1                                          10012.161017   \n",
       "2                                          12574.856522   \n",
       "3                                           3657.166065   \n",
       "\n",
       "         No. of suspected deaths  No. of probable deaths  \\\n",
       "cluster                                                    \n",
       "0                       0.723278                3.423794   \n",
       "1                     223.038983              669.116949   \n",
       "2                     156.930435              207.704348   \n",
       "3                     118.524910              396.799097   \n",
       "\n",
       "         No. of confirmed deaths  \\\n",
       "cluster                            \n",
       "0                      12.382204   \n",
       "1                    3581.620339   \n",
       "2                    3372.886957   \n",
       "3                    1795.498917   \n",
       "\n",
       "         No. of confirmed, probable and suspected deaths  \n",
       "cluster                                                   \n",
       "0                                              16.504018  \n",
       "1                                            4460.779661  \n",
       "2                                            3737.521739  \n",
       "3                                            2217.761733  "
      ]
     },
     "execution_count": 121,
     "metadata": {},
     "output_type": "execute_result"
    }
   ],
   "source": [
    "kmeans_analysis(clust_df, 3)"
   ]
  },
  {
   "cell_type": "code",
   "execution_count": 139,
   "metadata": {},
   "outputs": [
    {
     "name": "stdout",
     "output_type": "stream",
     "text": [
      "Choose the amount of clusters, please: 4\n",
      "n_clusters: 4\n",
      "query: df_scaled.groupby('cluster').size()\n"
     ]
    },
    {
     "data": {
      "text/plain": [
       "cluster\n",
       "0    1742\n",
       "1     236\n",
       "2     230\n",
       "3     277\n",
       "dtype: int64"
      ]
     },
     "execution_count": 139,
     "metadata": {},
     "output_type": "execute_result"
    }
   ],
   "source": [
    "kmeans_analysis(clust_df, 4)"
   ]
  },
  {
   "cell_type": "code",
   "execution_count": 123,
   "metadata": {},
   "outputs": [
    {
     "name": "stdout",
     "output_type": "stream",
     "text": [
      "Choose the amount of clusters, please: 4\n",
      "n_clusters: 4\n",
      "query: df_scaled['cluster'].sort_values()\n"
     ]
    },
    {
     "data": {
      "text/plain": [
       "0       0\n",
       "1541    0\n",
       "1540    0\n",
       "1539    0\n",
       "1536    0\n",
       "       ..\n",
       "2169    3\n",
       "1704    3\n",
       "1422    3\n",
       "571     3\n",
       "523     3\n",
       "Name: cluster, Length: 2485, dtype: int32"
      ]
     },
     "execution_count": 123,
     "metadata": {},
     "output_type": "execute_result"
    }
   ],
   "source": [
    "kmeans_analysis(clust_df, 5)"
   ]
  },
  {
   "cell_type": "code",
   "execution_count": 130,
   "metadata": {},
   "outputs": [
    {
     "name": "stdout",
     "output_type": "stream",
     "text": [
      "Choose the amount of clusters, please: 4\n"
     ]
    },
    {
     "data": {
      "image/png": "[encoded data removed]",
      "text/plain": [
       "<Figure size 1152x792 with 4 Axes>"
      ]
     },
     "metadata": {
      "needs_background": "light"
     },
     "output_type": "display_data"
    }
   ],
   "source": [
    "kmeans_analysis(clust_df, 6)"
   ]
  },
  {
   "cell_type": "markdown",
   "metadata": {},
   "source": [
    "Выводы по кластерному анализу. Оптимальное количество кластеров - 4.\n",
    "В первую группу входят случаи, где не было ничего зафиксировано (или же значения, оставшиеся -1), во второй группе идет упор на возможные смерти и случаи заболевания, при этом подтвержденных случаев было мало.\n",
    "Обратная ситуация идет с третьим кластером - там никаких возможных случаев и смертей не было, зато было много подтвержденных.\n",
    "4 кластер - оставшаяся группа, где не выводилось никаких подозрительных случаев."
   ]
  }
 ],
 "metadata": {
  "kernelspec": {
   "display_name": "Python 3",
   "language": "python",
   "name": "python3"
  },
  "language_info": {
   "codemirror_mode": {
    "name": "ipython",
    "version": 3
   },
   "file_extension": ".py",
   "mimetype": "text/x-python",
   "name": "python",
   "nbconvert_exporter": "python",
   "pygments_lexer": "ipython3",
   "version": "3.7.6"
  }
 },
 "nbformat": 4,
 "nbformat_minor": 4
}
