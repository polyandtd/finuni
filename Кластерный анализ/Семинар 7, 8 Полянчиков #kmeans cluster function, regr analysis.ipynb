{
 "cells": [
  {
   "cell_type": "markdown",
   "metadata": {},
   "source": [
    "<center><H1><b> Анализ данных с сайта OBI</b></H1>\n",
    "\n"
   ]
  },
  {
   "cell_type": "code",
   "execution_count": 491,
   "metadata": {
    "pycharm": {
     "is_executing": false
    }
   },
   "outputs": [],
   "source": [
    "#загрузка необходимых библиотек\n",
    "import pandas as pd\n",
    "import numpy as np\n",
    "import matplotlib.pyplot as plt\n",
    "import seaborn as sns\n",
    "import matplotlib\n",
    "from sklearn import preprocessing\n",
    "from sklearn.cluster import KMeans\n",
    "from scipy.cluster.hierarchy import dendrogram, linkage, fcluster\n",
    "matplotlib.style.use('ggplot')\n",
    "%matplotlib inline \n",
    "pd.set_option('display.float_format', lambda x: '%.1f' % x)"
   ]
  },
  {
   "cell_type": "code",
   "execution_count": 492,
   "metadata": {},
   "outputs": [],
   "source": [
    "import os\n",
    "def save_fig(fig_id, tight_layout=True):\n",
    "    path = os.path.join(fig_id + \".png\")\n",
    "    print(\"Saving figure\", fig_id)\n",
    "    if tight_layout:\n",
    "        plt.tight_layout()\n",
    "    plt.savefig(path, format='png', dpi=300)"
   ]
  },
  {
   "cell_type": "markdown",
   "metadata": {},
   "source": [
    "## 1. Описание, анализ и визуализация данных:"
   ]
  },
  {
   "cell_type": "code",
   "execution_count": 579,
   "metadata": {
    "scrolled": true
   },
   "outputs": [
    {
     "data": {
      "text/html": [
       "<div>\n",
       "<style scoped>\n",
       "    .dataframe tbody tr th:only-of-type {\n",
       "        vertical-align: middle;\n",
       "    }\n",
       "\n",
       "    .dataframe tbody tr th {\n",
       "        vertical-align: top;\n",
       "    }\n",
       "\n",
       "    .dataframe thead th {\n",
       "        text-align: right;\n",
       "    }\n",
       "</style>\n",
       "<table border=\"1\" class=\"dataframe\">\n",
       "  <thead>\n",
       "    <tr style=\"text-align: right;\">\n",
       "      <th></th>\n",
       "      <th>Категория</th>\n",
       "      <th>Код</th>\n",
       "      <th>Название</th>\n",
       "      <th>Производитель</th>\n",
       "      <th>Цена</th>\n",
       "      <th>Старая цена</th>\n",
       "      <th>Наличие</th>\n",
       "      <th>Ссылка на товар</th>\n",
       "      <th>Дата обновления</th>\n",
       "      <th>Регион</th>\n",
       "    </tr>\n",
       "  </thead>\n",
       "  <tbody>\n",
       "    <tr>\n",
       "      <td>0</td>\n",
       "      <td>Сад и досуг/Растения и семена/Кустарники/Жасмин</td>\n",
       "      <td>1003904</td>\n",
       "      <td>Жасмин Полиантум D12 H35</td>\n",
       "      <td>7 ЦВЕТОВ</td>\n",
       "      <td>0,00</td>\n",
       "      <td>0,00</td>\n",
       "      <td>Нет в наличии</td>\n",
       "      <td>https://www.obi.ru/store/change?storeID=001&amp;re...</td>\n",
       "      <td>02.10.2019 19:56</td>\n",
       "      <td>Санкт-Петербург</td>\n",
       "    </tr>\n",
       "    <tr>\n",
       "      <td>1</td>\n",
       "      <td>Сад и досуг/Растения и семена/Кустарники/Жасмин</td>\n",
       "      <td>1003904</td>\n",
       "      <td>Жасмин Полиантум D12 H35</td>\n",
       "      <td>7 ЦВЕТОВ</td>\n",
       "      <td>0,00</td>\n",
       "      <td>0,00</td>\n",
       "      <td>Нет в наличии</td>\n",
       "      <td>https://www.obi.ru/store/change?storeID=001&amp;re...</td>\n",
       "      <td>02.10.2019 19:56</td>\n",
       "      <td>Москва</td>\n",
       "    </tr>\n",
       "    <tr>\n",
       "      <td>2</td>\n",
       "      <td>Сад и досуг/Горшки и садовый декор/Горшки/Улич...</td>\n",
       "      <td>1004373</td>\n",
       "      <td>Горшок Terraplast пластик \"Фарнесе\" терракотов...</td>\n",
       "      <td>T.Plast</td>\n",
       "      <td>0,00</td>\n",
       "      <td>0,00</td>\n",
       "      <td>Нет в наличии</td>\n",
       "      <td>https://www.obi.ru/store/change?storeID=001&amp;re...</td>\n",
       "      <td>02.10.2019 19:02</td>\n",
       "      <td>Санкт-Петербург</td>\n",
       "    </tr>\n",
       "    <tr>\n",
       "      <td>3</td>\n",
       "      <td>Сад и досуг/Горшки и садовый декор/Горшки/Улич...</td>\n",
       "      <td>1004373</td>\n",
       "      <td>Горшок Terraplast пластик \"Фарнесе\" терракотов...</td>\n",
       "      <td>T.Plast</td>\n",
       "      <td>0,00</td>\n",
       "      <td>0,00</td>\n",
       "      <td>Нет в наличии</td>\n",
       "      <td>https://www.obi.ru/store/change?storeID=001&amp;re...</td>\n",
       "      <td>02.10.2019 19:02</td>\n",
       "      <td>Москва</td>\n",
       "    </tr>\n",
       "    <tr>\n",
       "      <td>4</td>\n",
       "      <td>Сад и досуг/Горшки и садовый декор/Горшки/Улич...</td>\n",
       "      <td>1004449</td>\n",
       "      <td>Блюдце Terraplast пластик \"Санремо\" терракотов...</td>\n",
       "      <td>T.Plast</td>\n",
       "      <td>0,00</td>\n",
       "      <td>0,00</td>\n",
       "      <td>Нет в наличии</td>\n",
       "      <td>https://www.obi.ru/store/change?storeID=001&amp;re...</td>\n",
       "      <td>02.10.2019 19:02</td>\n",
       "      <td>Санкт-Петербург</td>\n",
       "    </tr>\n",
       "  </tbody>\n",
       "</table>\n",
       "</div>"
      ],
      "text/plain": [
       "                                           Категория      Код  \\\n",
       "0    Сад и досуг/Растения и семена/Кустарники/Жасмин  1003904   \n",
       "1    Сад и досуг/Растения и семена/Кустарники/Жасмин  1003904   \n",
       "2  Сад и досуг/Горшки и садовый декор/Горшки/Улич...  1004373   \n",
       "3  Сад и досуг/Горшки и садовый декор/Горшки/Улич...  1004373   \n",
       "4  Сад и досуг/Горшки и садовый декор/Горшки/Улич...  1004449   \n",
       "\n",
       "                                            Название Производитель  Цена  \\\n",
       "0                           Жасмин Полиантум D12 H35      7 ЦВЕТОВ  0,00   \n",
       "1                           Жасмин Полиантум D12 H35      7 ЦВЕТОВ  0,00   \n",
       "2  Горшок Terraplast пластик \"Фарнесе\" терракотов...       T.Plast  0,00   \n",
       "3  Горшок Terraplast пластик \"Фарнесе\" терракотов...       T.Plast  0,00   \n",
       "4  Блюдце Terraplast пластик \"Санремо\" терракотов...       T.Plast  0,00   \n",
       "\n",
       "  Старая цена        Наличие  \\\n",
       "0        0,00  Нет в наличии   \n",
       "1        0,00  Нет в наличии   \n",
       "2        0,00  Нет в наличии   \n",
       "3        0,00  Нет в наличии   \n",
       "4        0,00  Нет в наличии   \n",
       "\n",
       "                                     Ссылка на товар   Дата обновления  \\\n",
       "0  https://www.obi.ru/store/change?storeID=001&re...  02.10.2019 19:56   \n",
       "1  https://www.obi.ru/store/change?storeID=001&re...  02.10.2019 19:56   \n",
       "2  https://www.obi.ru/store/change?storeID=001&re...  02.10.2019 19:02   \n",
       "3  https://www.obi.ru/store/change?storeID=001&re...  02.10.2019 19:02   \n",
       "4  https://www.obi.ru/store/change?storeID=001&re...  02.10.2019 19:02   \n",
       "\n",
       "            Регион  \n",
       "0  Санкт-Петербург  \n",
       "1           Москва  \n",
       "2  Санкт-Петербург  \n",
       "3           Москва  \n",
       "4  Санкт-Петербург  "
      ]
     },
     "execution_count": 579,
     "metadata": {},
     "output_type": "execute_result"
    }
   ],
   "source": [
    "df = pd.read_csv('2019-10-03_obi.csv', sep=';', encoding='cp1251', header=1)\n",
    "df.head()"
   ]
  },
  {
   "cell_type": "code",
   "execution_count": 580,
   "metadata": {},
   "outputs": [
    {
     "data": {
      "text/html": [
       "<div>\n",
       "<style scoped>\n",
       "    .dataframe tbody tr th:only-of-type {\n",
       "        vertical-align: middle;\n",
       "    }\n",
       "\n",
       "    .dataframe tbody tr th {\n",
       "        vertical-align: top;\n",
       "    }\n",
       "\n",
       "    .dataframe thead th {\n",
       "        text-align: right;\n",
       "    }\n",
       "</style>\n",
       "<table border=\"1\" class=\"dataframe\">\n",
       "  <thead>\n",
       "    <tr style=\"text-align: right;\">\n",
       "      <th></th>\n",
       "      <th>Категория</th>\n",
       "      <th>Код</th>\n",
       "      <th>Название</th>\n",
       "      <th>Производитель</th>\n",
       "      <th>Цена</th>\n",
       "      <th>Старая цена</th>\n",
       "      <th>Наличие</th>\n",
       "      <th>Ссылка на товар</th>\n",
       "      <th>Дата обновления</th>\n",
       "      <th>Регион</th>\n",
       "    </tr>\n",
       "  </thead>\n",
       "  <tbody>\n",
       "    <tr>\n",
       "      <td>46</td>\n",
       "      <td>Стройка/Строительные материалы/Строительный ин...</td>\n",
       "      <td>1053156</td>\n",
       "      <td>Пленка пароизоляционная строительная Ондутис R...</td>\n",
       "      <td>NaN</td>\n",
       "      <td>0,00</td>\n",
       "      <td>0,00</td>\n",
       "      <td>Нет в наличии</td>\n",
       "      <td>https://www.obi.ru/store/change?storeID=001&amp;re...</td>\n",
       "      <td>02.10.2019 21:25</td>\n",
       "      <td>Санкт-Петербург</td>\n",
       "    </tr>\n",
       "    <tr>\n",
       "      <td>47</td>\n",
       "      <td>Стройка/Строительные материалы/Строительный ин...</td>\n",
       "      <td>1053156</td>\n",
       "      <td>Пленка пароизоляционная строительная Ондутис R...</td>\n",
       "      <td>NaN</td>\n",
       "      <td>0,00</td>\n",
       "      <td>0,00</td>\n",
       "      <td>Нет в наличии</td>\n",
       "      <td>https://www.obi.ru/store/change?storeID=001&amp;re...</td>\n",
       "      <td>02.10.2019 21:25</td>\n",
       "      <td>Москва</td>\n",
       "    </tr>\n",
       "    <tr>\n",
       "      <td>98</td>\n",
       "      <td>Техника/Аксессуары для автомобиля/Аксессуары д...</td>\n",
       "      <td>1100734</td>\n",
       "      <td>Адаптер универсальный дорожный</td>\n",
       "      <td>NaN</td>\n",
       "      <td>0,00</td>\n",
       "      <td>0,00</td>\n",
       "      <td>Нет в наличии</td>\n",
       "      <td>https://www.obi.ru/store/change?storeID=001&amp;re...</td>\n",
       "      <td>02.10.2019 23:16</td>\n",
       "      <td>Санкт-Петербург</td>\n",
       "    </tr>\n",
       "    <tr>\n",
       "      <td>99</td>\n",
       "      <td>Техника/Аксессуары для автомобиля/Аксессуары д...</td>\n",
       "      <td>1100734</td>\n",
       "      <td>Адаптер универсальный дорожный</td>\n",
       "      <td>NaN</td>\n",
       "      <td>0,00</td>\n",
       "      <td>0,00</td>\n",
       "      <td>Нет в наличии</td>\n",
       "      <td>https://www.obi.ru/store/change?storeID=001&amp;re...</td>\n",
       "      <td>02.10.2019 23:16</td>\n",
       "      <td>Москва</td>\n",
       "    </tr>\n",
       "    <tr>\n",
       "      <td>100</td>\n",
       "      <td>Всё для дома/Освещение/Внутреннее освещение/Но...</td>\n",
       "      <td>1100825</td>\n",
       "      <td>Ночник Duewi с датчиком движения 0.2 Вт</td>\n",
       "      <td>NaN</td>\n",
       "      <td>0,00</td>\n",
       "      <td>0,00</td>\n",
       "      <td>Нет в наличии</td>\n",
       "      <td>https://www.obi.ru/store/change?storeID=001&amp;re...</td>\n",
       "      <td>02.10.2019 15:55</td>\n",
       "      <td>Санкт-Петербург</td>\n",
       "    </tr>\n",
       "    <tr>\n",
       "      <td>...</td>\n",
       "      <td>...</td>\n",
       "      <td>...</td>\n",
       "      <td>...</td>\n",
       "      <td>...</td>\n",
       "      <td>...</td>\n",
       "      <td>...</td>\n",
       "      <td>...</td>\n",
       "      <td>...</td>\n",
       "      <td>...</td>\n",
       "      <td>...</td>\n",
       "    </tr>\n",
       "    <tr>\n",
       "      <td>104445</td>\n",
       "      <td>Всё для дома/Обои/Флизелиновые обои</td>\n",
       "      <td>4452389</td>\n",
       "      <td>Обои компакт-винил Lagom 369392 серые 1,06х10,...</td>\n",
       "      <td>NaN</td>\n",
       "      <td>2299,00</td>\n",
       "      <td>0,00</td>\n",
       "      <td>В наличии</td>\n",
       "      <td>https://www.obi.ru/store/change?storeID=001&amp;re...</td>\n",
       "      <td>02.10.2019 22:45</td>\n",
       "      <td>Москва</td>\n",
       "    </tr>\n",
       "    <tr>\n",
       "      <td>104446</td>\n",
       "      <td>Всё для дома/Обои/Флизелиновые обои</td>\n",
       "      <td>4452397</td>\n",
       "      <td>Обои компакт-винил Unique 361123 бежевые 1,06х...</td>\n",
       "      <td>NaN</td>\n",
       "      <td>0,00</td>\n",
       "      <td>0,00</td>\n",
       "      <td>Нет в наличии</td>\n",
       "      <td>https://www.obi.ru/store/change?storeID=001&amp;re...</td>\n",
       "      <td>02.10.2019 22:45</td>\n",
       "      <td>Санкт-Петербург</td>\n",
       "    </tr>\n",
       "    <tr>\n",
       "      <td>104447</td>\n",
       "      <td>Всё для дома/Обои/Флизелиновые обои</td>\n",
       "      <td>4452397</td>\n",
       "      <td>Обои компакт-винил Unique 361123 бежевые 1,06х...</td>\n",
       "      <td>NaN</td>\n",
       "      <td>1749,00</td>\n",
       "      <td>0,00</td>\n",
       "      <td>В наличии</td>\n",
       "      <td>https://www.obi.ru/store/change?storeID=001&amp;re...</td>\n",
       "      <td>02.10.2019 22:45</td>\n",
       "      <td>Москва</td>\n",
       "    </tr>\n",
       "    <tr>\n",
       "      <td>104511</td>\n",
       "      <td>Стройка/Принадлежности для укладки плитки/Клеи...</td>\n",
       "      <td>4459855</td>\n",
       "      <td>Клей для керамической плитки БИРСMIX 25 кг</td>\n",
       "      <td>NaN</td>\n",
       "      <td>0,00</td>\n",
       "      <td>0,00</td>\n",
       "      <td>Нет в наличии</td>\n",
       "      <td>https://www.obi.ru/store/change?storeID=001&amp;re...</td>\n",
       "      <td>02.10.2019 22:12</td>\n",
       "      <td>Санкт-Петербург</td>\n",
       "    </tr>\n",
       "    <tr>\n",
       "      <td>104512</td>\n",
       "      <td>Стройка/Принадлежности для укладки плитки/Клеи...</td>\n",
       "      <td>4459855</td>\n",
       "      <td>Клей для керамической плитки БИРСMIX 25 кг</td>\n",
       "      <td>NaN</td>\n",
       "      <td>0,00</td>\n",
       "      <td>0,00</td>\n",
       "      <td>Нет в наличии</td>\n",
       "      <td>https://www.obi.ru/store/change?storeID=001&amp;re...</td>\n",
       "      <td>02.10.2019 22:12</td>\n",
       "      <td>Москва</td>\n",
       "    </tr>\n",
       "  </tbody>\n",
       "</table>\n",
       "<p>21798 rows × 10 columns</p>\n",
       "</div>"
      ],
      "text/plain": [
       "                                                Категория      Код  \\\n",
       "46      Стройка/Строительные материалы/Строительный ин...  1053156   \n",
       "47      Стройка/Строительные материалы/Строительный ин...  1053156   \n",
       "98      Техника/Аксессуары для автомобиля/Аксессуары д...  1100734   \n",
       "99      Техника/Аксессуары для автомобиля/Аксессуары д...  1100734   \n",
       "100     Всё для дома/Освещение/Внутреннее освещение/Но...  1100825   \n",
       "...                                                   ...      ...   \n",
       "104445                Всё для дома/Обои/Флизелиновые обои  4452389   \n",
       "104446                Всё для дома/Обои/Флизелиновые обои  4452397   \n",
       "104447                Всё для дома/Обои/Флизелиновые обои  4452397   \n",
       "104511  Стройка/Принадлежности для укладки плитки/Клеи...  4459855   \n",
       "104512  Стройка/Принадлежности для укладки плитки/Клеи...  4459855   \n",
       "\n",
       "                                                 Название Производитель  \\\n",
       "46      Пленка пароизоляционная строительная Ондутис R...           NaN   \n",
       "47      Пленка пароизоляционная строительная Ондутис R...           NaN   \n",
       "98                         Адаптер универсальный дорожный           NaN   \n",
       "99                         Адаптер универсальный дорожный           NaN   \n",
       "100               Ночник Duewi с датчиком движения 0.2 Вт           NaN   \n",
       "...                                                   ...           ...   \n",
       "104445  Обои компакт-винил Lagom 369392 серые 1,06х10,...           NaN   \n",
       "104446  Обои компакт-винил Unique 361123 бежевые 1,06х...           NaN   \n",
       "104447  Обои компакт-винил Unique 361123 бежевые 1,06х...           NaN   \n",
       "104511         Клей для керамической плитки БИРСMIX 25 кг           NaN   \n",
       "104512         Клей для керамической плитки БИРСMIX 25 кг           NaN   \n",
       "\n",
       "           Цена Старая цена        Наличие  \\\n",
       "46         0,00        0,00  Нет в наличии   \n",
       "47         0,00        0,00  Нет в наличии   \n",
       "98         0,00        0,00  Нет в наличии   \n",
       "99         0,00        0,00  Нет в наличии   \n",
       "100        0,00        0,00  Нет в наличии   \n",
       "...         ...         ...            ...   \n",
       "104445  2299,00        0,00      В наличии   \n",
       "104446     0,00        0,00  Нет в наличии   \n",
       "104447  1749,00        0,00      В наличии   \n",
       "104511     0,00        0,00  Нет в наличии   \n",
       "104512     0,00        0,00  Нет в наличии   \n",
       "\n",
       "                                          Ссылка на товар   Дата обновления  \\\n",
       "46      https://www.obi.ru/store/change?storeID=001&re...  02.10.2019 21:25   \n",
       "47      https://www.obi.ru/store/change?storeID=001&re...  02.10.2019 21:25   \n",
       "98      https://www.obi.ru/store/change?storeID=001&re...  02.10.2019 23:16   \n",
       "99      https://www.obi.ru/store/change?storeID=001&re...  02.10.2019 23:16   \n",
       "100     https://www.obi.ru/store/change?storeID=001&re...  02.10.2019 15:55   \n",
       "...                                                   ...               ...   \n",
       "104445  https://www.obi.ru/store/change?storeID=001&re...  02.10.2019 22:45   \n",
       "104446  https://www.obi.ru/store/change?storeID=001&re...  02.10.2019 22:45   \n",
       "104447  https://www.obi.ru/store/change?storeID=001&re...  02.10.2019 22:45   \n",
       "104511  https://www.obi.ru/store/change?storeID=001&re...  02.10.2019 22:12   \n",
       "104512  https://www.obi.ru/store/change?storeID=001&re...  02.10.2019 22:12   \n",
       "\n",
       "                 Регион  \n",
       "46      Санкт-Петербург  \n",
       "47               Москва  \n",
       "98      Санкт-Петербург  \n",
       "99               Москва  \n",
       "100     Санкт-Петербург  \n",
       "...                 ...  \n",
       "104445           Москва  \n",
       "104446  Санкт-Петербург  \n",
       "104447           Москва  \n",
       "104511  Санкт-Петербург  \n",
       "104512           Москва  \n",
       "\n",
       "[21798 rows x 10 columns]"
      ]
     },
     "execution_count": 580,
     "metadata": {},
     "output_type": "execute_result"
    }
   ],
   "source": [
    "df.loc[df['Производитель'].fillna('Unknown') == 'Unknown', :]"
   ]
  },
  {
   "cell_type": "markdown",
   "metadata": {},
   "source": [
    "В рассмотрении имеются следующие поля:\n",
    "- Категория товара\n",
    "- Код товара\n",
    "- Название товара\n",
    "- Производитель товара\n",
    "- Цена товара (обновленная)\n",
    "- Старая цена товара\n",
    "- Наличие товара в магазине (на складе)\n",
    "- Ссылка на товар\n",
    "- Дата обновления информации\n",
    "- Регион (Город)\n",
    "\n",
    "Некоторые признаки для дальнейшего анализа нам не понадобятся, и они освободят нам некоторую память. Например, это ссылка на товар и дата обновления. \n",
    "\n",
    "Часть признаков необходимо превратить в бинарные и числовые, еще часть из них - предобработать (например, категории)."
   ]
  },
  {
   "cell_type": "code",
   "execution_count": 582,
   "metadata": {},
   "outputs": [
    {
     "data": {
      "text/plain": [
       "Нет в наличии    52260\n",
       "В наличии            1\n",
       "Name: Наличие, dtype: int64"
      ]
     },
     "execution_count": 582,
     "metadata": {},
     "output_type": "execute_result"
    }
   ],
   "source": [
    "df.loc[df['Регион'] == 'Санкт-Петербург', 'Наличие'].value_counts()"
   ]
  },
  {
   "cell_type": "code",
   "execution_count": 583,
   "metadata": {},
   "outputs": [
    {
     "data": {
      "text/html": [
       "<div>\n",
       "<style scoped>\n",
       "    .dataframe tbody tr th:only-of-type {\n",
       "        vertical-align: middle;\n",
       "    }\n",
       "\n",
       "    .dataframe tbody tr th {\n",
       "        vertical-align: top;\n",
       "    }\n",
       "\n",
       "    .dataframe thead th {\n",
       "        text-align: right;\n",
       "    }\n",
       "</style>\n",
       "<table border=\"1\" class=\"dataframe\">\n",
       "  <thead>\n",
       "    <tr style=\"text-align: right;\">\n",
       "      <th></th>\n",
       "      <th>Категория</th>\n",
       "      <th>Код</th>\n",
       "      <th>Название</th>\n",
       "      <th>Производитель</th>\n",
       "      <th>Цена</th>\n",
       "      <th>Старая цена</th>\n",
       "      <th>Наличие</th>\n",
       "      <th>Ссылка на товар</th>\n",
       "      <th>Дата обновления</th>\n",
       "      <th>Регион</th>\n",
       "    </tr>\n",
       "  </thead>\n",
       "  <tbody>\n",
       "    <tr>\n",
       "      <td>73968</td>\n",
       "      <td>Техника/Электротовары/Кабель и монтаж/Трубы го...</td>\n",
       "      <td>4069761</td>\n",
       "      <td>Труба гофрированная ПНД T.plast с зондом 20 мм...</td>\n",
       "      <td>T.Plast</td>\n",
       "      <td>199,00</td>\n",
       "      <td>0,00</td>\n",
       "      <td>В наличии</td>\n",
       "      <td>https://www.obi.ru/store/change?storeID=001&amp;re...</td>\n",
       "      <td>02.10.2019 07:35</td>\n",
       "      <td>Санкт-Петербург</td>\n",
       "    </tr>\n",
       "  </tbody>\n",
       "</table>\n",
       "</div>"
      ],
      "text/plain": [
       "                                               Категория      Код  \\\n",
       "73968  Техника/Электротовары/Кабель и монтаж/Трубы го...  4069761   \n",
       "\n",
       "                                                Название Производитель  \\\n",
       "73968  Труба гофрированная ПНД T.plast с зондом 20 мм...       T.Plast   \n",
       "\n",
       "         Цена Старая цена    Наличие  \\\n",
       "73968  199,00        0,00  В наличии   \n",
       "\n",
       "                                         Ссылка на товар   Дата обновления  \\\n",
       "73968  https://www.obi.ru/store/change?storeID=001&re...  02.10.2019 07:35   \n",
       "\n",
       "                Регион  \n",
       "73968  Санкт-Петербург  "
      ]
     },
     "execution_count": 583,
     "metadata": {},
     "output_type": "execute_result"
    }
   ],
   "source": [
    "df.loc[(df['Регион'] == 'Санкт-Петербург') & (df['Наличие'] == 'В наличии'), :]"
   ]
  },
  {
   "cell_type": "code",
   "execution_count": 830,
   "metadata": {},
   "outputs": [
    {
     "data": {
      "text/plain": [
       "'Сад и досуг/Растения и семена/Кустарники/Жасмин'"
      ]
     },
     "execution_count": 830,
     "metadata": {},
     "output_type": "execute_result"
    }
   ],
   "source": [
    "df.loc[0, 'Категория']"
   ]
  },
  {
   "cell_type": "code",
   "execution_count": 584,
   "metadata": {},
   "outputs": [
    {
     "data": {
      "text/html": [
       "<div>\n",
       "<style scoped>\n",
       "    .dataframe tbody tr th:only-of-type {\n",
       "        vertical-align: middle;\n",
       "    }\n",
       "\n",
       "    .dataframe tbody tr th {\n",
       "        vertical-align: top;\n",
       "    }\n",
       "\n",
       "    .dataframe thead th {\n",
       "        text-align: right;\n",
       "    }\n",
       "</style>\n",
       "<table border=\"1\" class=\"dataframe\">\n",
       "  <thead>\n",
       "    <tr style=\"text-align: right;\">\n",
       "      <th></th>\n",
       "      <th>Категория</th>\n",
       "      <th>Код</th>\n",
       "      <th>Название</th>\n",
       "      <th>Производитель</th>\n",
       "      <th>Цена</th>\n",
       "      <th>Старая цена</th>\n",
       "      <th>Наличие</th>\n",
       "      <th>Ссылка на товар</th>\n",
       "      <th>Дата обновления</th>\n",
       "      <th>Регион</th>\n",
       "    </tr>\n",
       "  </thead>\n",
       "  <tbody>\n",
       "    <tr>\n",
       "      <td>73968</td>\n",
       "      <td>Техника/Электротовары/Кабель и монтаж/Трубы го...</td>\n",
       "      <td>4069761</td>\n",
       "      <td>Труба гофрированная ПНД T.plast с зондом 20 мм...</td>\n",
       "      <td>T.Plast</td>\n",
       "      <td>199,00</td>\n",
       "      <td>0,00</td>\n",
       "      <td>В наличии</td>\n",
       "      <td>https://www.obi.ru/store/change?storeID=001&amp;re...</td>\n",
       "      <td>02.10.2019 07:35</td>\n",
       "      <td>Санкт-Петербург</td>\n",
       "    </tr>\n",
       "    <tr>\n",
       "      <td>73969</td>\n",
       "      <td>Техника/Электротовары/Кабель и монтаж/Трубы го...</td>\n",
       "      <td>4069761</td>\n",
       "      <td>Труба гофрированная ПНД T.plast с зондом 20 мм...</td>\n",
       "      <td>T.Plast</td>\n",
       "      <td>0,00</td>\n",
       "      <td>0,00</td>\n",
       "      <td>Нет в наличии</td>\n",
       "      <td>https://www.obi.ru/store/change?storeID=001&amp;re...</td>\n",
       "      <td>02.10.2019 07:35</td>\n",
       "      <td>Москва</td>\n",
       "    </tr>\n",
       "  </tbody>\n",
       "</table>\n",
       "</div>"
      ],
      "text/plain": [
       "                                               Категория      Код  \\\n",
       "73968  Техника/Электротовары/Кабель и монтаж/Трубы го...  4069761   \n",
       "73969  Техника/Электротовары/Кабель и монтаж/Трубы го...  4069761   \n",
       "\n",
       "                                                Название Производитель  \\\n",
       "73968  Труба гофрированная ПНД T.plast с зондом 20 мм...       T.Plast   \n",
       "73969  Труба гофрированная ПНД T.plast с зондом 20 мм...       T.Plast   \n",
       "\n",
       "         Цена Старая цена        Наличие  \\\n",
       "73968  199,00        0,00      В наличии   \n",
       "73969    0,00        0,00  Нет в наличии   \n",
       "\n",
       "                                         Ссылка на товар   Дата обновления  \\\n",
       "73968  https://www.obi.ru/store/change?storeID=001&re...  02.10.2019 07:35   \n",
       "73969  https://www.obi.ru/store/change?storeID=001&re...  02.10.2019 07:35   \n",
       "\n",
       "                Регион  \n",
       "73968  Санкт-Петербург  \n",
       "73969           Москва  "
      ]
     },
     "execution_count": 584,
     "metadata": {},
     "output_type": "execute_result"
    }
   ],
   "source": [
    "df[df['Код'] == 4069761]"
   ]
  },
  {
   "cell_type": "code",
   "execution_count": 831,
   "metadata": {},
   "outputs": [
    {
     "data": {
      "text/plain": [
       "Нет в наличии    52260\n",
       "В наличии            1\n",
       "Name: Наличие, dtype: int64"
      ]
     },
     "execution_count": 831,
     "metadata": {},
     "output_type": "execute_result"
    }
   ],
   "source": [
    "df.loc[df['Регион'] == 'Санкт-Петербург', 'Наличие'].value_counts()"
   ]
  },
  {
   "cell_type": "markdown",
   "metadata": {},
   "source": [
    "Удивительно, что в Питере всего одна позиция в наличии. Позже подумаю, что дальше делать с этим"
   ]
  },
  {
   "cell_type": "code",
   "execution_count": 586,
   "metadata": {},
   "outputs": [],
   "source": [
    "dt = df.copy()\n",
    "dt.drop(['Ссылка на товар', 'Дата обновления'], axis=1, inplace=True)"
   ]
  },
  {
   "cell_type": "code",
   "execution_count": 587,
   "metadata": {},
   "outputs": [
    {
     "data": {
      "text/plain": [
       "Категория            0\n",
       "Код                  0\n",
       "Название             0\n",
       "Производитель    21798\n",
       "Цена                 0\n",
       "Старая цена          0\n",
       "Наличие              0\n",
       "Регион               0\n",
       "dtype: int64"
      ]
     },
     "execution_count": 587,
     "metadata": {},
     "output_type": "execute_result"
    }
   ],
   "source": [
    "dt.isna().sum()"
   ]
  },
  {
   "cell_type": "code",
   "execution_count": 588,
   "metadata": {},
   "outputs": [
    {
     "data": {
      "text/plain": [
       "0"
      ]
     },
     "execution_count": 588,
     "metadata": {},
     "output_type": "execute_result"
    }
   ],
   "source": [
    "dt.duplicated().sum()"
   ]
  },
  {
   "cell_type": "code",
   "execution_count": 589,
   "metadata": {
    "scrolled": true
   },
   "outputs": [
    {
     "name": "stdout",
     "output_type": "stream",
     "text": [
      "<class 'pandas.core.frame.DataFrame'>\n",
      "RangeIndex: 104527 entries, 0 to 104526\n",
      "Data columns (total 8 columns):\n",
      "Категория        104527 non-null object\n",
      "Код              104527 non-null int64\n",
      "Название         104527 non-null object\n",
      "Производитель    82729 non-null object\n",
      "Цена             104527 non-null object\n",
      "Старая цена      104527 non-null object\n",
      "Наличие          104527 non-null object\n",
      "Регион           104527 non-null object\n",
      "dtypes: int64(1), object(7)\n",
      "memory usage: 6.4+ MB\n"
     ]
    }
   ],
   "source": [
    "dt.info()"
   ]
  },
  {
   "cell_type": "markdown",
   "metadata": {},
   "source": [
    "В некоторых местах, где не указан производитель, его можно найти в графе \"Название\". Однако, встречается он там не везде, а вычленять проблемно, поэтому мы заполним все пустые значения одинаково"
   ]
  },
  {
   "cell_type": "code",
   "execution_count": 590,
   "metadata": {},
   "outputs": [],
   "source": [
    "dt.fillna('Unknown', inplace = True)"
   ]
  },
  {
   "cell_type": "code",
   "execution_count": 591,
   "metadata": {},
   "outputs": [],
   "source": [
    "def len_cat(row):\n",
    "    return len(row['Категория'].split('/'))"
   ]
  },
  {
   "cell_type": "code",
   "execution_count": 592,
   "metadata": {},
   "outputs": [],
   "source": [
    "dt['cat_length'] = dt.apply(len_cat, axis=1)"
   ]
  },
  {
   "cell_type": "code",
   "execution_count": 593,
   "metadata": {},
   "outputs": [
    {
     "data": {
      "text/plain": [
       "4    45174\n",
       "3    35615\n",
       "5    22634\n",
       "2     1056\n",
       "6       48\n",
       "Name: cat_length, dtype: int64"
      ]
     },
     "execution_count": 593,
     "metadata": {},
     "output_type": "execute_result"
    }
   ],
   "source": [
    "dt.cat_length.value_counts()"
   ]
  },
  {
   "cell_type": "markdown",
   "metadata": {},
   "source": [
    "Я предлагаю разбить товары по подкатегориям"
   ]
  },
  {
   "cell_type": "code",
   "execution_count": 594,
   "metadata": {},
   "outputs": [],
   "source": [
    "def choose_category_0(row):\n",
    "    return str(row['Категория']).split('/')[0]\n",
    "\n",
    "\n",
    "def choose_category_1(row):\n",
    "    try:\n",
    "        return str(row['Категория']).split('/')[1]\n",
    "    except:\n",
    "        return '-'\n",
    "    \n",
    "\n",
    "def choose_category_2(row):\n",
    "    try:\n",
    "        return str(row['Категория']).split('/')[2]\n",
    "    except:\n",
    "        return '-'\n",
    "    \n",
    "    \n",
    "def choose_category_3(row):\n",
    "    try:\n",
    "        return str(row['Категория']).split('/')[3]\n",
    "    except:\n",
    "        return '-'\n",
    "    \n",
    "\n",
    "def choose_category_4(row):\n",
    "    try:\n",
    "        return str(row['Категория']).split('/')[4]\n",
    "    except:\n",
    "        return '-'\n",
    "\n",
    "def choose_category_5(row):\n",
    "    try:\n",
    "        return str(row['Категория']).split('/')[5]\n",
    "    except:\n",
    "        return '-'"
   ]
  },
  {
   "cell_type": "code",
   "execution_count": 595,
   "metadata": {},
   "outputs": [],
   "source": [
    "dt['Category 1'] = dt.apply(choose_category_0, axis=1)\n",
    "dt['Category 2'] = dt.apply(choose_category_1, axis=1)\n",
    "dt['Category 3'] = dt.apply(choose_category_2, axis=1)\n",
    "dt['Category 4'] = dt.apply(choose_category_3, axis=1)\n",
    "dt['Category 5'] = dt.apply(choose_category_4, axis=1)\n",
    "dt['Category 6'] = dt.apply(choose_category_5, axis=1)"
   ]
  },
  {
   "cell_type": "code",
   "execution_count": 596,
   "metadata": {},
   "outputs": [
    {
     "data": {
      "text/plain": [
       "Index(['Категория', 'Код', 'Название', 'Производитель', 'Цена', 'Старая цена',\n",
       "       'Наличие', 'Регион', 'cat_length', 'Category 1', 'Category 2',\n",
       "       'Category 3', 'Category 4', 'Category 5', 'Category 6'],\n",
       "      dtype='object')"
      ]
     },
     "execution_count": 596,
     "metadata": {},
     "output_type": "execute_result"
    }
   ],
   "source": [
    "dt.columns"
   ]
  },
  {
   "cell_type": "code",
   "execution_count": 597,
   "metadata": {},
   "outputs": [],
   "source": [
    "dt = dt[['Category 1', 'Category 2',\n",
    "         'Category 3', 'Category 4', 'Category 5', 'Category 6', \n",
    "         'Код', 'Название', 'Производитель', 'Цена', 'Старая цена',\n",
    "         'Наличие', 'Регион']]"
   ]
  },
  {
   "cell_type": "code",
   "execution_count": 598,
   "metadata": {},
   "outputs": [],
   "source": [
    "dt.columns = ['Category_1', 'Category_2',\n",
    "         'Category_3', 'Category_4', 'Category_5', 'Category_6', \n",
    "         'Code', 'Name', 'Brand', 'Price', 'Old_Price',\n",
    "         'Stock', 'Region']"
   ]
  },
  {
   "cell_type": "code",
   "execution_count": 599,
   "metadata": {},
   "outputs": [
    {
     "data": {
      "text/plain": [
       "Нет в наличии    72947\n",
       "В наличии        31580\n",
       "Name: Stock, dtype: int64"
      ]
     },
     "execution_count": 599,
     "metadata": {},
     "output_type": "execute_result"
    }
   ],
   "source": [
    "dt.Stock.value_counts()"
   ]
  },
  {
   "cell_type": "code",
   "execution_count": 600,
   "metadata": {},
   "outputs": [],
   "source": [
    "dt.Stock.replace('Нет в наличии', 0, inplace=True)\n",
    "dt.Stock.replace('В наличии', 1, inplace=True)"
   ]
  },
  {
   "cell_type": "code",
   "execution_count": 601,
   "metadata": {
    "scrolled": true
   },
   "outputs": [
    {
     "data": {
      "text/plain": [
       "Москва             52266\n",
       "Санкт-Петербург    52261\n",
       "Name: Region, dtype: int64"
      ]
     },
     "execution_count": 601,
     "metadata": {},
     "output_type": "execute_result"
    }
   ],
   "source": [
    "dt.Region.value_counts()"
   ]
  },
  {
   "cell_type": "code",
   "execution_count": 602,
   "metadata": {},
   "outputs": [],
   "source": [
    "dt.Region.replace('Москва', 1, inplace=True)\n",
    "dt.Region.replace('Санкт-Петербург', 0, inplace=True)"
   ]
  },
  {
   "cell_type": "code",
   "execution_count": 603,
   "metadata": {},
   "outputs": [
    {
     "data": {
      "text/plain": [
       "Сад и досуг       31963\n",
       "Всё для дома      27934\n",
       "Техника           23514\n",
       "Стройка           11032\n",
       "Ванная комната     8010\n",
       "Кухня              2074\n",
       "Name: Category_1, dtype: int64"
      ]
     },
     "execution_count": 603,
     "metadata": {},
     "output_type": "execute_result"
    }
   ],
   "source": [
    "dt.Category_1.value_counts()"
   ]
  },
  {
   "cell_type": "code",
   "execution_count": 604,
   "metadata": {},
   "outputs": [
    {
     "data": {
      "text/plain": [
       "Unknown         21798\n",
       "Без бренда       8614\n",
       "LUX-TOOLS        5570\n",
       "7 ЦВЕТОВ         5422\n",
       "OBI              2526\n",
       "                ...  \n",
       "Ecoroll             2\n",
       "Lelighting          2\n",
       "INTER DESIGN        2\n",
       "NOBBY               2\n",
       "Красная цена        2\n",
       "Name: Brand, Length: 807, dtype: int64"
      ]
     },
     "execution_count": 604,
     "metadata": {},
     "output_type": "execute_result"
    }
   ],
   "source": [
    "dt.Brand.value_counts()"
   ]
  },
  {
   "cell_type": "code",
   "execution_count": 610,
   "metadata": {},
   "outputs": [],
   "source": [
    "dt['Price'].replace(',', '.', inplace=True)\n",
    "dt['Old_Price'].replace(',', '.', inplace=True)"
   ]
  },
  {
   "cell_type": "code",
   "execution_count": 634,
   "metadata": {},
   "outputs": [
    {
     "data": {
      "text/plain": [
       "Category_1                                          Сад и досуг\n",
       "Category_2                                      Садовая техника\n",
       "Category_3                                      Триммеры и косы\n",
       "Category_4                       Аккумуляторные триммеры и косы\n",
       "Category_5                                                    -\n",
       "Category_6                                                    -\n",
       "Code                                                    4296901\n",
       "Name          Аккумуляторный триммер BOSCH EasyGrassCut 18 В...\n",
       "Brand                                                     BOSCH\n",
       "Price                                                      0.00\n",
       "Old_Price                                                  0.00\n",
       "Stock                                                         0\n",
       "Region                                                        0\n",
       "Name: 92548, dtype: object"
      ]
     },
     "execution_count": 634,
     "metadata": {},
     "output_type": "execute_result"
    }
   ],
   "source": [
    "dt.loc[92548, :]"
   ]
  },
  {
   "cell_type": "markdown",
   "metadata": {},
   "source": [
    "# Код ниже работает очень долго - осторожно"
   ]
  },
  {
   "cell_type": "code",
   "execution_count": 635,
   "metadata": {},
   "outputs": [],
   "source": [
    "for i in range(len(dt)):\n",
    "    dt.loc[i, 'Price'] = dt.loc[i, 'Price'].replace(',', '.')\n",
    "    dt.loc[i, 'Old_Price'] = dt.loc[i, 'Old_Price'].replace(',', '.')"
   ]
  },
  {
   "cell_type": "code",
   "execution_count": 636,
   "metadata": {},
   "outputs": [],
   "source": [
    "for col in ['Price', 'Old_Price']:\n",
    "    dt[col] = dt[col].astype(float)"
   ]
  },
  {
   "cell_type": "code",
   "execution_count": 678,
   "metadata": {},
   "outputs": [],
   "source": [
    "dt.to_csv('dt.csv')"
   ]
  },
  {
   "cell_type": "code",
   "execution_count": 653,
   "metadata": {},
   "outputs": [],
   "source": [
    "df_reg = dt.copy()"
   ]
  },
  {
   "cell_type": "code",
   "execution_count": 637,
   "metadata": {},
   "outputs": [
    {
     "data": {
      "text/plain": [
       "0.0       70454\n",
       "299.0       681\n",
       "199.0       636\n",
       "499.0       607\n",
       "399.0       548\n",
       "          ...  \n",
       "6539.0        1\n",
       "4490.0        1\n",
       "1922.0        1\n",
       "2272.1        1\n",
       "1038.0        1\n",
       "Name: Price, Length: 1653, dtype: int64"
      ]
     },
     "execution_count": 637,
     "metadata": {},
     "output_type": "execute_result"
    }
   ],
   "source": [
    "dt.Price.value_counts()"
   ]
  },
  {
   "cell_type": "code",
   "execution_count": 638,
   "metadata": {},
   "outputs": [
    {
     "data": {
      "text/html": [
       "<div>\n",
       "<style scoped>\n",
       "    .dataframe tbody tr th:only-of-type {\n",
       "        vertical-align: middle;\n",
       "    }\n",
       "\n",
       "    .dataframe tbody tr th {\n",
       "        vertical-align: top;\n",
       "    }\n",
       "\n",
       "    .dataframe thead th {\n",
       "        text-align: right;\n",
       "    }\n",
       "</style>\n",
       "<table border=\"1\" class=\"dataframe\">\n",
       "  <thead>\n",
       "    <tr style=\"text-align: right;\">\n",
       "      <th></th>\n",
       "      <th>Category_1</th>\n",
       "      <th>Category_2</th>\n",
       "      <th>Category_3</th>\n",
       "      <th>Category_4</th>\n",
       "      <th>Category_5</th>\n",
       "      <th>Category_6</th>\n",
       "      <th>Code</th>\n",
       "      <th>Name</th>\n",
       "      <th>Brand</th>\n",
       "      <th>Price</th>\n",
       "      <th>Old_Price</th>\n",
       "      <th>Stock</th>\n",
       "      <th>Region</th>\n",
       "    </tr>\n",
       "  </thead>\n",
       "  <tbody>\n",
       "    <tr>\n",
       "      <td>13713</td>\n",
       "      <td>Всё для дома</td>\n",
       "      <td>Напольные покрытия</td>\n",
       "      <td>Линолеум</td>\n",
       "      <td>-</td>\n",
       "      <td>-</td>\n",
       "      <td>-</td>\n",
       "      <td>2666667</td>\n",
       "      <td>Линолеум бытовой Синтерос Весна Neva 1 ширина 3 м</td>\n",
       "      <td>Синтерос</td>\n",
       "      <td>0.0</td>\n",
       "      <td>0.0</td>\n",
       "      <td>0</td>\n",
       "      <td>0</td>\n",
       "    </tr>\n",
       "    <tr>\n",
       "      <td>49707</td>\n",
       "      <td>Всё для дома</td>\n",
       "      <td>Текстиль для дома</td>\n",
       "      <td>Пледы, покрывала и декоративные подушки</td>\n",
       "      <td>-</td>\n",
       "      <td>-</td>\n",
       "      <td>-</td>\n",
       "      <td>3775046</td>\n",
       "      <td>Наволочка декоративная Garden 40х40 см серая</td>\n",
       "      <td>Garden</td>\n",
       "      <td>0.0</td>\n",
       "      <td>0.0</td>\n",
       "      <td>0</td>\n",
       "      <td>0</td>\n",
       "    </tr>\n",
       "    <tr>\n",
       "      <td>40307</td>\n",
       "      <td>Сад и досуг</td>\n",
       "      <td>Растения и семена</td>\n",
       "      <td>Кустарники</td>\n",
       "      <td>Другие кустарники</td>\n",
       "      <td>-</td>\n",
       "      <td>-</td>\n",
       "      <td>3616380</td>\n",
       "      <td>Хоста Фрэнсис Виллиамс C1,7</td>\n",
       "      <td>Unknown</td>\n",
       "      <td>0.0</td>\n",
       "      <td>0.0</td>\n",
       "      <td>0</td>\n",
       "      <td>0</td>\n",
       "    </tr>\n",
       "    <tr>\n",
       "      <td>65684</td>\n",
       "      <td>Стройка</td>\n",
       "      <td>Строительные материалы</td>\n",
       "      <td>Сухие смеси и грунтовки</td>\n",
       "      <td>Цемент</td>\n",
       "      <td>-</td>\n",
       "      <td>-</td>\n",
       "      <td>3969573</td>\n",
       "      <td>Цемент Портландцемент M 500 ЦEM II/А-Ш 42,5Н, ...</td>\n",
       "      <td>Unknown</td>\n",
       "      <td>0.0</td>\n",
       "      <td>0.0</td>\n",
       "      <td>0</td>\n",
       "      <td>1</td>\n",
       "    </tr>\n",
       "    <tr>\n",
       "      <td>8695</td>\n",
       "      <td>Сад и досуг</td>\n",
       "      <td>Товары для полива</td>\n",
       "      <td>Переходники и соединители для шлангов</td>\n",
       "      <td>-</td>\n",
       "      <td>-</td>\n",
       "      <td>-</td>\n",
       "      <td>2350908</td>\n",
       "      <td>Распределитель четырехканальный LUX-TOOLS 1/2\"...</td>\n",
       "      <td>LUX-TOOLS</td>\n",
       "      <td>1149.0</td>\n",
       "      <td>0.0</td>\n",
       "      <td>1</td>\n",
       "      <td>1</td>\n",
       "    </tr>\n",
       "  </tbody>\n",
       "</table>\n",
       "</div>"
      ],
      "text/plain": [
       "         Category_1              Category_2  \\\n",
       "13713  Всё для дома      Напольные покрытия   \n",
       "49707  Всё для дома       Текстиль для дома   \n",
       "40307   Сад и досуг       Растения и семена   \n",
       "65684       Стройка  Строительные материалы   \n",
       "8695    Сад и досуг       Товары для полива   \n",
       "\n",
       "                                    Category_3         Category_4 Category_5  \\\n",
       "13713                                 Линолеум                  -          -   \n",
       "49707  Пледы, покрывала и декоративные подушки                  -          -   \n",
       "40307                               Кустарники  Другие кустарники          -   \n",
       "65684                  Сухие смеси и грунтовки             Цемент          -   \n",
       "8695     Переходники и соединители для шлангов                  -          -   \n",
       "\n",
       "      Category_6     Code                                               Name  \\\n",
       "13713          -  2666667  Линолеум бытовой Синтерос Весна Neva 1 ширина 3 м   \n",
       "49707          -  3775046       Наволочка декоративная Garden 40х40 см серая   \n",
       "40307          -  3616380                        Хоста Фрэнсис Виллиамс C1,7   \n",
       "65684          -  3969573  Цемент Портландцемент M 500 ЦEM II/А-Ш 42,5Н, ...   \n",
       "8695           -  2350908  Распределитель четырехканальный LUX-TOOLS 1/2\"...   \n",
       "\n",
       "           Brand  Price  Old_Price  Stock  Region  \n",
       "13713   Синтерос    0.0        0.0      0       0  \n",
       "49707     Garden    0.0        0.0      0       0  \n",
       "40307    Unknown    0.0        0.0      0       0  \n",
       "65684    Unknown    0.0        0.0      0       1  \n",
       "8695   LUX-TOOLS 1149.0        0.0      1       1  "
      ]
     },
     "execution_count": 638,
     "metadata": {},
     "output_type": "execute_result"
    }
   ],
   "source": [
    "dt.sample(5)"
   ]
  },
  {
   "cell_type": "markdown",
   "metadata": {},
   "source": [
    "Преобразовали датасет. Посмотрим на статистику"
   ]
  },
  {
   "cell_type": "code",
   "execution_count": 639,
   "metadata": {},
   "outputs": [
    {
     "data": {
      "text/html": [
       "<div>\n",
       "<style scoped>\n",
       "    .dataframe tbody tr th:only-of-type {\n",
       "        vertical-align: middle;\n",
       "    }\n",
       "\n",
       "    .dataframe tbody tr th {\n",
       "        vertical-align: top;\n",
       "    }\n",
       "\n",
       "    .dataframe thead th {\n",
       "        text-align: right;\n",
       "    }\n",
       "</style>\n",
       "<table border=\"1\" class=\"dataframe\">\n",
       "  <thead>\n",
       "    <tr style=\"text-align: right;\">\n",
       "      <th></th>\n",
       "      <th>Code</th>\n",
       "      <th>Price</th>\n",
       "      <th>Old_Price</th>\n",
       "      <th>Stock</th>\n",
       "      <th>Region</th>\n",
       "    </tr>\n",
       "  </thead>\n",
       "  <tbody>\n",
       "    <tr>\n",
       "      <td>count</td>\n",
       "      <td>104527.0</td>\n",
       "      <td>104527.0</td>\n",
       "      <td>104527.0</td>\n",
       "      <td>104527.0</td>\n",
       "      <td>104527.0</td>\n",
       "    </tr>\n",
       "    <tr>\n",
       "      <td>mean</td>\n",
       "      <td>3561884.4</td>\n",
       "      <td>439.1</td>\n",
       "      <td>7.6</td>\n",
       "      <td>0.3</td>\n",
       "      <td>0.5</td>\n",
       "    </tr>\n",
       "    <tr>\n",
       "      <td>std</td>\n",
       "      <td>757406.7</td>\n",
       "      <td>2196.3</td>\n",
       "      <td>272.8</td>\n",
       "      <td>0.5</td>\n",
       "      <td>0.5</td>\n",
       "    </tr>\n",
       "    <tr>\n",
       "      <td>min</td>\n",
       "      <td>1003904.0</td>\n",
       "      <td>0.0</td>\n",
       "      <td>0.0</td>\n",
       "      <td>0.0</td>\n",
       "      <td>0.0</td>\n",
       "    </tr>\n",
       "    <tr>\n",
       "      <td>25%</td>\n",
       "      <td>3084688.0</td>\n",
       "      <td>0.0</td>\n",
       "      <td>0.0</td>\n",
       "      <td>0.0</td>\n",
       "      <td>0.0</td>\n",
       "    </tr>\n",
       "    <tr>\n",
       "      <td>50%</td>\n",
       "      <td>3807153.0</td>\n",
       "      <td>0.0</td>\n",
       "      <td>0.0</td>\n",
       "      <td>0.0</td>\n",
       "      <td>1.0</td>\n",
       "    </tr>\n",
       "    <tr>\n",
       "      <td>75%</td>\n",
       "      <td>4105573.0</td>\n",
       "      <td>129.0</td>\n",
       "      <td>0.0</td>\n",
       "      <td>1.0</td>\n",
       "      <td>1.0</td>\n",
       "    </tr>\n",
       "    <tr>\n",
       "      <td>max</td>\n",
       "      <td>4459921.0</td>\n",
       "      <td>199990.0</td>\n",
       "      <td>37299.0</td>\n",
       "      <td>1.0</td>\n",
       "      <td>1.0</td>\n",
       "    </tr>\n",
       "  </tbody>\n",
       "</table>\n",
       "</div>"
      ],
      "text/plain": [
       "           Code    Price  Old_Price    Stock   Region\n",
       "count  104527.0 104527.0   104527.0 104527.0 104527.0\n",
       "mean  3561884.4    439.1        7.6      0.3      0.5\n",
       "std    757406.7   2196.3      272.8      0.5      0.5\n",
       "min   1003904.0      0.0        0.0      0.0      0.0\n",
       "25%   3084688.0      0.0        0.0      0.0      0.0\n",
       "50%   3807153.0      0.0        0.0      0.0      1.0\n",
       "75%   4105573.0    129.0        0.0      1.0      1.0\n",
       "max   4459921.0 199990.0    37299.0      1.0      1.0"
      ]
     },
     "execution_count": 639,
     "metadata": {},
     "output_type": "execute_result"
    }
   ],
   "source": [
    "dt.describe()"
   ]
  },
  {
   "cell_type": "code",
   "execution_count": 640,
   "metadata": {},
   "outputs": [
    {
     "data": {
      "text/html": [
       "<div>\n",
       "<style scoped>\n",
       "    .dataframe tbody tr th:only-of-type {\n",
       "        vertical-align: middle;\n",
       "    }\n",
       "\n",
       "    .dataframe tbody tr th {\n",
       "        vertical-align: top;\n",
       "    }\n",
       "\n",
       "    .dataframe thead th {\n",
       "        text-align: right;\n",
       "    }\n",
       "</style>\n",
       "<table border=\"1\" class=\"dataframe\">\n",
       "  <thead>\n",
       "    <tr style=\"text-align: right;\">\n",
       "      <th></th>\n",
       "      <th>Code</th>\n",
       "      <th>Price</th>\n",
       "      <th>Old_Price</th>\n",
       "      <th>Stock</th>\n",
       "      <th>Region</th>\n",
       "    </tr>\n",
       "  </thead>\n",
       "  <tbody>\n",
       "    <tr>\n",
       "      <td>count</td>\n",
       "      <td>31580.0</td>\n",
       "      <td>31580.0</td>\n",
       "      <td>31580.0</td>\n",
       "      <td>31580.0</td>\n",
       "      <td>31580.0</td>\n",
       "    </tr>\n",
       "    <tr>\n",
       "      <td>mean</td>\n",
       "      <td>3648161.7</td>\n",
       "      <td>1292.1</td>\n",
       "      <td>22.3</td>\n",
       "      <td>1.0</td>\n",
       "      <td>1.0</td>\n",
       "    </tr>\n",
       "    <tr>\n",
       "      <td>std</td>\n",
       "      <td>757962.0</td>\n",
       "      <td>3283.8</td>\n",
       "      <td>492.7</td>\n",
       "      <td>0.0</td>\n",
       "      <td>0.0</td>\n",
       "    </tr>\n",
       "    <tr>\n",
       "      <td>min</td>\n",
       "      <td>1019363.0</td>\n",
       "      <td>1.0</td>\n",
       "      <td>0.0</td>\n",
       "      <td>1.0</td>\n",
       "      <td>0.0</td>\n",
       "    </tr>\n",
       "    <tr>\n",
       "      <td>25%</td>\n",
       "      <td>3313553.8</td>\n",
       "      <td>139.0</td>\n",
       "      <td>0.0</td>\n",
       "      <td>1.0</td>\n",
       "      <td>1.0</td>\n",
       "    </tr>\n",
       "    <tr>\n",
       "      <td>50%</td>\n",
       "      <td>3940859.0</td>\n",
       "      <td>379.0</td>\n",
       "      <td>0.0</td>\n",
       "      <td>1.0</td>\n",
       "      <td>1.0</td>\n",
       "    </tr>\n",
       "    <tr>\n",
       "      <td>75%</td>\n",
       "      <td>4167336.0</td>\n",
       "      <td>1149.0</td>\n",
       "      <td>0.0</td>\n",
       "      <td>1.0</td>\n",
       "      <td>1.0</td>\n",
       "    </tr>\n",
       "    <tr>\n",
       "      <td>max</td>\n",
       "      <td>4452397.0</td>\n",
       "      <td>119990.0</td>\n",
       "      <td>37299.0</td>\n",
       "      <td>1.0</td>\n",
       "      <td>1.0</td>\n",
       "    </tr>\n",
       "  </tbody>\n",
       "</table>\n",
       "</div>"
      ],
      "text/plain": [
       "           Code    Price  Old_Price   Stock  Region\n",
       "count   31580.0  31580.0    31580.0 31580.0 31580.0\n",
       "mean  3648161.7   1292.1       22.3     1.0     1.0\n",
       "std    757962.0   3283.8      492.7     0.0     0.0\n",
       "min   1019363.0      1.0        0.0     1.0     0.0\n",
       "25%   3313553.8    139.0        0.0     1.0     1.0\n",
       "50%   3940859.0    379.0        0.0     1.0     1.0\n",
       "75%   4167336.0   1149.0        0.0     1.0     1.0\n",
       "max   4452397.0 119990.0    37299.0     1.0     1.0"
      ]
     },
     "execution_count": 640,
     "metadata": {},
     "output_type": "execute_result"
    }
   ],
   "source": [
    "dt[dt.Stock == 1].describe()"
   ]
  },
  {
   "cell_type": "code",
   "execution_count": 641,
   "metadata": {},
   "outputs": [
    {
     "name": "stdout",
     "output_type": "stream",
     "text": [
      "<class 'pandas.core.frame.DataFrame'>\n",
      "RangeIndex: 104527 entries, 0 to 104526\n",
      "Data columns (total 13 columns):\n",
      "Category_1    104527 non-null object\n",
      "Category_2    104527 non-null object\n",
      "Category_3    104527 non-null object\n",
      "Category_4    104527 non-null object\n",
      "Category_5    104527 non-null object\n",
      "Category_6    104527 non-null object\n",
      "Code          104527 non-null int64\n",
      "Name          104527 non-null object\n",
      "Brand         104527 non-null object\n",
      "Price         104527 non-null float64\n",
      "Old_Price     104527 non-null float64\n",
      "Stock         104527 non-null int64\n",
      "Region        104527 non-null int64\n",
      "dtypes: float64(2), int64(3), object(8)\n",
      "memory usage: 10.4+ MB\n"
     ]
    }
   ],
   "source": [
    "dt.info()"
   ]
  },
  {
   "cell_type": "code",
   "execution_count": 642,
   "metadata": {},
   "outputs": [
    {
     "name": "stdout",
     "output_type": "stream",
     "text": [
      "В выборке участвует 104527 товарных позиций\n"
     ]
    }
   ],
   "source": [
    "print(f'В выборке участвует {dt.shape[0]} товарных позиций')"
   ]
  },
  {
   "cell_type": "code",
   "execution_count": 643,
   "metadata": {},
   "outputs": [
    {
     "data": {
      "text/plain": [
       "<matplotlib.axes._subplots.AxesSubplot at 0x207c24ff688>"
      ]
     },
     "execution_count": 643,
     "metadata": {},
     "output_type": "execute_result"
    },
    {
     "data": {
      "image/png": "[encoded data removed]",
      "text/plain": [
       "<Figure size 432x288 with 2 Axes>"
      ]
     },
     "metadata": {
      "needs_background": "light"
     },
     "output_type": "display_data"
    }
   ],
   "source": [
    "f, ax = plt.subplots()\n",
    "\n",
    "sns.heatmap(dt.corr(), fmt='.1f', ax=ax, cmap=sns.color_palette('coolwarm', 16), alpha=0.9, linewidths=0.9)"
   ]
  },
  {
   "cell_type": "code",
   "execution_count": 644,
   "metadata": {},
   "outputs": [
    {
     "data": {
      "text/html": [
       "<div>\n",
       "<style scoped>\n",
       "    .dataframe tbody tr th:only-of-type {\n",
       "        vertical-align: middle;\n",
       "    }\n",
       "\n",
       "    .dataframe tbody tr th {\n",
       "        vertical-align: top;\n",
       "    }\n",
       "\n",
       "    .dataframe thead th {\n",
       "        text-align: right;\n",
       "    }\n",
       "</style>\n",
       "<table border=\"1\" class=\"dataframe\">\n",
       "  <thead>\n",
       "    <tr style=\"text-align: right;\">\n",
       "      <th></th>\n",
       "      <th>Category_1</th>\n",
       "      <th>Category_2</th>\n",
       "      <th>Category_3</th>\n",
       "      <th>Category_4</th>\n",
       "      <th>Category_5</th>\n",
       "      <th>Category_6</th>\n",
       "      <th>Code</th>\n",
       "      <th>Name</th>\n",
       "      <th>Brand</th>\n",
       "      <th>Price</th>\n",
       "      <th>Old_Price</th>\n",
       "      <th>Stock</th>\n",
       "      <th>Region</th>\n",
       "    </tr>\n",
       "  </thead>\n",
       "  <tbody>\n",
       "    <tr>\n",
       "      <td>59367</td>\n",
       "      <td>Стройка</td>\n",
       "      <td>Двери и арки</td>\n",
       "      <td>Дверные ручки и аксессуары</td>\n",
       "      <td>-</td>\n",
       "      <td>-</td>\n",
       "      <td>-</td>\n",
       "      <td>3908092</td>\n",
       "      <td>Ручка A Brezza AB PALLADIUM алюминий</td>\n",
       "      <td>PALLADIUM</td>\n",
       "      <td>0.0</td>\n",
       "      <td>0.0</td>\n",
       "      <td>0</td>\n",
       "      <td>0</td>\n",
       "    </tr>\n",
       "    <tr>\n",
       "      <td>75246</td>\n",
       "      <td>Всё для дома</td>\n",
       "      <td>Оформление дома</td>\n",
       "      <td>Декоративные поделки</td>\n",
       "      <td>-</td>\n",
       "      <td>-</td>\n",
       "      <td>-</td>\n",
       "      <td>4078499</td>\n",
       "      <td>Набор Гравюра Фантазёр микс А5</td>\n",
       "      <td>Unknown</td>\n",
       "      <td>0.0</td>\n",
       "      <td>0.0</td>\n",
       "      <td>0</td>\n",
       "      <td>0</td>\n",
       "    </tr>\n",
       "    <tr>\n",
       "      <td>88324</td>\n",
       "      <td>Сад и досуг</td>\n",
       "      <td>Товары для полива</td>\n",
       "      <td>Искусственные водоёмы</td>\n",
       "      <td>Декор водоёма</td>\n",
       "      <td>-</td>\n",
       "      <td>-</td>\n",
       "      <td>4250775</td>\n",
       "      <td>Фигура декоративная Planet Garden кохаку плава...</td>\n",
       "      <td>Planet Garden</td>\n",
       "      <td>0.0</td>\n",
       "      <td>0.0</td>\n",
       "      <td>0</td>\n",
       "      <td>0</td>\n",
       "    </tr>\n",
       "    <tr>\n",
       "      <td>48902</td>\n",
       "      <td>Кухня</td>\n",
       "      <td>Водонагреватели</td>\n",
       "      <td>Водонагреватели накопительные</td>\n",
       "      <td>-</td>\n",
       "      <td>-</td>\n",
       "      <td>-</td>\n",
       "      <td>3764099</td>\n",
       "      <td>Водонагреватель накопительный ELECTROLUX EWH 1...</td>\n",
       "      <td>ELECTROLUX</td>\n",
       "      <td>6999.0</td>\n",
       "      <td>0.0</td>\n",
       "      <td>1</td>\n",
       "      <td>1</td>\n",
       "    </tr>\n",
       "    <tr>\n",
       "      <td>4593</td>\n",
       "      <td>Сад и досуг</td>\n",
       "      <td>Растения и семена</td>\n",
       "      <td>Семена и луковицы</td>\n",
       "      <td>Семена цветов</td>\n",
       "      <td>-</td>\n",
       "      <td>-</td>\n",
       "      <td>1860014</td>\n",
       "      <td>Астра Унилюкс Водолей Русский огород</td>\n",
       "      <td>Без бренда</td>\n",
       "      <td>0.0</td>\n",
       "      <td>0.0</td>\n",
       "      <td>0</td>\n",
       "      <td>1</td>\n",
       "    </tr>\n",
       "  </tbody>\n",
       "</table>\n",
       "</div>"
      ],
      "text/plain": [
       "         Category_1         Category_2                     Category_3  \\\n",
       "59367       Стройка       Двери и арки     Дверные ручки и аксессуары   \n",
       "75246  Всё для дома    Оформление дома           Декоративные поделки   \n",
       "88324   Сад и досуг  Товары для полива          Искусственные водоёмы   \n",
       "48902         Кухня    Водонагреватели  Водонагреватели накопительные   \n",
       "4593    Сад и досуг  Растения и семена              Семена и луковицы   \n",
       "\n",
       "          Category_4 Category_5 Category_6     Code  \\\n",
       "59367              -          -          -  3908092   \n",
       "75246              -          -          -  4078499   \n",
       "88324  Декор водоёма          -          -  4250775   \n",
       "48902              -          -          -  3764099   \n",
       "4593   Семена цветов          -          -  1860014   \n",
       "\n",
       "                                                    Name          Brand  \\\n",
       "59367               Ручка A Brezza AB PALLADIUM алюминий      PALLADIUM   \n",
       "75246                     Набор Гравюра Фантазёр микс А5        Unknown   \n",
       "88324  Фигура декоративная Planet Garden кохаку плава...  Planet Garden   \n",
       "48902  Водонагреватель накопительный ELECTROLUX EWH 1...     ELECTROLUX   \n",
       "4593                Астра Унилюкс Водолей Русский огород     Без бренда   \n",
       "\n",
       "       Price  Old_Price  Stock  Region  \n",
       "59367    0.0        0.0      0       0  \n",
       "75246    0.0        0.0      0       0  \n",
       "88324    0.0        0.0      0       0  \n",
       "48902 6999.0        0.0      1       1  \n",
       "4593     0.0        0.0      0       1  "
      ]
     },
     "execution_count": 644,
     "metadata": {},
     "output_type": "execute_result"
    }
   ],
   "source": [
    "dt.sample(5)"
   ]
  },
  {
   "cell_type": "code",
   "execution_count": 645,
   "metadata": {},
   "outputs": [],
   "source": [
    "dt_1 = dt[dt.Stock == 1]"
   ]
  },
  {
   "cell_type": "code",
   "execution_count": 646,
   "metadata": {},
   "outputs": [
    {
     "data": {
      "text/html": [
       "<div>\n",
       "<style scoped>\n",
       "    .dataframe tbody tr th:only-of-type {\n",
       "        vertical-align: middle;\n",
       "    }\n",
       "\n",
       "    .dataframe tbody tr th {\n",
       "        vertical-align: top;\n",
       "    }\n",
       "\n",
       "    .dataframe thead th {\n",
       "        text-align: right;\n",
       "    }\n",
       "</style>\n",
       "<table border=\"1\" class=\"dataframe\">\n",
       "  <thead>\n",
       "    <tr style=\"text-align: right;\">\n",
       "      <th></th>\n",
       "      <th>Code</th>\n",
       "      <th>Price</th>\n",
       "      <th>Old_Price</th>\n",
       "      <th>Stock</th>\n",
       "      <th>Region</th>\n",
       "    </tr>\n",
       "  </thead>\n",
       "  <tbody>\n",
       "    <tr>\n",
       "      <td>count</td>\n",
       "      <td>31580.0</td>\n",
       "      <td>31580.0</td>\n",
       "      <td>31580.0</td>\n",
       "      <td>31580.0</td>\n",
       "      <td>31580.0</td>\n",
       "    </tr>\n",
       "    <tr>\n",
       "      <td>mean</td>\n",
       "      <td>3648161.7</td>\n",
       "      <td>1292.1</td>\n",
       "      <td>22.3</td>\n",
       "      <td>1.0</td>\n",
       "      <td>1.0</td>\n",
       "    </tr>\n",
       "    <tr>\n",
       "      <td>std</td>\n",
       "      <td>757962.0</td>\n",
       "      <td>3283.8</td>\n",
       "      <td>492.7</td>\n",
       "      <td>0.0</td>\n",
       "      <td>0.0</td>\n",
       "    </tr>\n",
       "    <tr>\n",
       "      <td>min</td>\n",
       "      <td>1019363.0</td>\n",
       "      <td>1.0</td>\n",
       "      <td>0.0</td>\n",
       "      <td>1.0</td>\n",
       "      <td>0.0</td>\n",
       "    </tr>\n",
       "    <tr>\n",
       "      <td>25%</td>\n",
       "      <td>3313553.8</td>\n",
       "      <td>139.0</td>\n",
       "      <td>0.0</td>\n",
       "      <td>1.0</td>\n",
       "      <td>1.0</td>\n",
       "    </tr>\n",
       "    <tr>\n",
       "      <td>50%</td>\n",
       "      <td>3940859.0</td>\n",
       "      <td>379.0</td>\n",
       "      <td>0.0</td>\n",
       "      <td>1.0</td>\n",
       "      <td>1.0</td>\n",
       "    </tr>\n",
       "    <tr>\n",
       "      <td>75%</td>\n",
       "      <td>4167336.0</td>\n",
       "      <td>1149.0</td>\n",
       "      <td>0.0</td>\n",
       "      <td>1.0</td>\n",
       "      <td>1.0</td>\n",
       "    </tr>\n",
       "    <tr>\n",
       "      <td>max</td>\n",
       "      <td>4452397.0</td>\n",
       "      <td>119990.0</td>\n",
       "      <td>37299.0</td>\n",
       "      <td>1.0</td>\n",
       "      <td>1.0</td>\n",
       "    </tr>\n",
       "  </tbody>\n",
       "</table>\n",
       "</div>"
      ],
      "text/plain": [
       "           Code    Price  Old_Price   Stock  Region\n",
       "count   31580.0  31580.0    31580.0 31580.0 31580.0\n",
       "mean  3648161.7   1292.1       22.3     1.0     1.0\n",
       "std    757962.0   3283.8      492.7     0.0     0.0\n",
       "min   1019363.0      1.0        0.0     1.0     0.0\n",
       "25%   3313553.8    139.0        0.0     1.0     1.0\n",
       "50%   3940859.0    379.0        0.0     1.0     1.0\n",
       "75%   4167336.0   1149.0        0.0     1.0     1.0\n",
       "max   4452397.0 119990.0    37299.0     1.0     1.0"
      ]
     },
     "execution_count": 646,
     "metadata": {},
     "output_type": "execute_result"
    }
   ],
   "source": [
    "dt_1[dt_1['Price'] >0].describe()"
   ]
  },
  {
   "cell_type": "code",
   "execution_count": 647,
   "metadata": {},
   "outputs": [
    {
     "name": "stdout",
     "output_type": "stream",
     "text": [
      "Saving figure Количество товарных позиций по категориям\n"
     ]
    },
    {
     "data": {
      "image/png": "[encoded data removed]",
      "text/plain": [
       "<Figure size 648x648 with 1 Axes>"
      ]
     },
     "metadata": {},
     "output_type": "display_data"
    }
   ],
   "source": [
    "plt.figure(figsize = (9, 9))\n",
    "dt_1.groupby('Category_1').count()['Name'].plot(kind='pie', wedgeprops=dict(width=0.5, edgecolor='w'))\n",
    "plt.title('Количество товарных позиций по категориям')\n",
    "plt.ylabel('')\n",
    "save_fig('Количество товарных позиций по категориям')\n",
    "plt.show()"
   ]
  },
  {
   "cell_type": "code",
   "execution_count": 648,
   "metadata": {},
   "outputs": [
    {
     "name": "stdout",
     "output_type": "stream",
     "text": [
      "Saving figure boxplot\n"
     ]
    },
    {
     "data": {
      "image/png": "[encoded data removed]",
      "text/plain": [
       "<Figure size 864x576 with 1 Axes>"
      ]
     },
     "metadata": {
      "needs_background": "light"
     },
     "output_type": "display_data"
    }
   ],
   "source": [
    "plt.figure(figsize = (12, 8))\n",
    "sns.boxplot(x=\"Category_1\", y=\"Price\", \n",
    "            data=dt_1)\n",
    "plt.title('Цена по категориям')\n",
    "save_fig('boxplot')\n",
    "plt.show()"
   ]
  },
  {
   "cell_type": "code",
   "execution_count": 649,
   "metadata": {},
   "outputs": [
    {
     "name": "stderr",
     "output_type": "stream",
     "text": [
      "C:\\Program Files (x86)\\Soft data analyst\\Anaconda\\lib\\site-packages\\ipykernel_launcher.py:1: SettingWithCopyWarning: \n",
      "A value is trying to be set on a copy of a slice from a DataFrame.\n",
      "Try using .loc[row_indexer,col_indexer] = value instead\n",
      "\n",
      "See the caveats in the documentation: http://pandas.pydata.org/pandas-docs/stable/user_guide/indexing.html#returning-a-view-versus-a-copy\n",
      "  \"\"\"Entry point for launching an IPython kernel.\n"
     ]
    }
   ],
   "source": [
    "dt_1['Log_Price'] = np.log(dt_1.Price)"
   ]
  },
  {
   "cell_type": "code",
   "execution_count": 650,
   "metadata": {},
   "outputs": [
    {
     "name": "stdout",
     "output_type": "stream",
     "text": [
      "Saving figure boxplot_log\n"
     ]
    },
    {
     "data": {
      "image/png": "[encoded data removed]",
      "text/plain": [
       "<Figure size 864x576 with 1 Axes>"
      ]
     },
     "metadata": {
      "needs_background": "light"
     },
     "output_type": "display_data"
    }
   ],
   "source": [
    "plt.figure(figsize = (12, 8))\n",
    "sns.boxplot(x=\"Category_1\", y=\"Log_Price\", \n",
    "            data=dt_1)\n",
    "plt.title('Прологарифмированная цена по категориям')\n",
    "save_fig('boxplot_log')\n",
    "\n",
    "plt.show()"
   ]
  },
  {
   "cell_type": "code",
   "execution_count": 651,
   "metadata": {},
   "outputs": [
    {
     "name": "stdout",
     "output_type": "stream",
     "text": [
      "Saving figure Log Price Dist\n"
     ]
    },
    {
     "data": {
      "image/png": "[encoded data removed]",
      "text/plain": [
       "<Figure size 864x576 with 1 Axes>"
      ]
     },
     "metadata": {
      "needs_background": "light"
     },
     "output_type": "display_data"
    }
   ],
   "source": [
    "plt.figure(figsize = (12, 8))\n",
    "sns.distplot(dt_1['Log_Price'], kde_kws={\"label\": \"Log Price Dist\"}, color='Blue')\n",
    "save_fig('Log Price Dist')\n",
    "plt.show()"
   ]
  },
  {
   "cell_type": "code",
   "execution_count": 652,
   "metadata": {},
   "outputs": [
    {
     "name": "stdout",
     "output_type": "stream",
     "text": [
      "Saving figure Price Dist\n"
     ]
    },
    {
     "data": {
      "image/png": "[encoded data removed]",
      "text/plain": [
       "<Figure size 864x576 with 1 Axes>"
      ]
     },
     "metadata": {
      "needs_background": "light"
     },
     "output_type": "display_data"
    }
   ],
   "source": [
    "plt.figure(figsize = (12, 8))\n",
    "sns.distplot(dt_1['Price'],  kde_kws={\"label\": \"Price Dist\"})\n",
    "save_fig('Price Dist')\n",
    "plt.show()"
   ]
  },
  {
   "cell_type": "markdown",
   "metadata": {},
   "source": [
    "========================================================================================================================="
   ]
  },
  {
   "cell_type": "markdown",
   "metadata": {},
   "source": [
    "## 2. Кластерный анализ"
   ]
  },
  {
   "cell_type": "code",
   "execution_count": 654,
   "metadata": {},
   "outputs": [],
   "source": [
    "dummy_dt = dt.drop(['Category_3', 'Category_4', 'Category_5', 'Category_6', 'Code', 'Name', 'Brand'], axis=1)"
   ]
  },
  {
   "cell_type": "code",
   "execution_count": 655,
   "metadata": {},
   "outputs": [
    {
     "data": {
      "text/plain": [
       "(104527, 88)"
      ]
     },
     "execution_count": 655,
     "metadata": {},
     "output_type": "execute_result"
    }
   ],
   "source": [
    "dummy_dt = pd.get_dummies(dummy_dt)\n",
    "dummy_dt.shape"
   ]
  },
  {
   "cell_type": "markdown",
   "metadata": {},
   "source": [
    "В идеале выборку бы разделить методом OneHot, однако в таком случае получается очень много колонок, что неудобно для анализа, а товары уже делятся между собой на категории-кластеры, поэтому лучше их не использовать.\n",
    "В таком случае отдельно разберем числовые колонки, убрав колонку ```Code```, помешающую анализу. "
   ]
  },
  {
   "cell_type": "code",
   "execution_count": 656,
   "metadata": {
    "scrolled": true
   },
   "outputs": [
    {
     "data": {
      "text/html": [
       "<div>\n",
       "<style scoped>\n",
       "    .dataframe tbody tr th:only-of-type {\n",
       "        vertical-align: middle;\n",
       "    }\n",
       "\n",
       "    .dataframe tbody tr th {\n",
       "        vertical-align: top;\n",
       "    }\n",
       "\n",
       "    .dataframe thead th {\n",
       "        text-align: right;\n",
       "    }\n",
       "</style>\n",
       "<table border=\"1\" class=\"dataframe\">\n",
       "  <thead>\n",
       "    <tr style=\"text-align: right;\">\n",
       "      <th></th>\n",
       "      <th>Price</th>\n",
       "      <th>Old_Price</th>\n",
       "      <th>Stock</th>\n",
       "      <th>Region</th>\n",
       "    </tr>\n",
       "  </thead>\n",
       "  <tbody>\n",
       "    <tr>\n",
       "      <td>88083</td>\n",
       "      <td>16.0</td>\n",
       "      <td>0.0</td>\n",
       "      <td>1</td>\n",
       "      <td>1</td>\n",
       "    </tr>\n",
       "    <tr>\n",
       "      <td>64389</td>\n",
       "      <td>0.0</td>\n",
       "      <td>0.0</td>\n",
       "      <td>0</td>\n",
       "      <td>0</td>\n",
       "    </tr>\n",
       "    <tr>\n",
       "      <td>65504</td>\n",
       "      <td>1129.0</td>\n",
       "      <td>0.0</td>\n",
       "      <td>1</td>\n",
       "      <td>1</td>\n",
       "    </tr>\n",
       "    <tr>\n",
       "      <td>86909</td>\n",
       "      <td>419.0</td>\n",
       "      <td>0.0</td>\n",
       "      <td>1</td>\n",
       "      <td>1</td>\n",
       "    </tr>\n",
       "    <tr>\n",
       "      <td>78007</td>\n",
       "      <td>249.0</td>\n",
       "      <td>0.0</td>\n",
       "      <td>1</td>\n",
       "      <td>1</td>\n",
       "    </tr>\n",
       "  </tbody>\n",
       "</table>\n",
       "</div>"
      ],
      "text/plain": [
       "       Price  Old_Price  Stock  Region\n",
       "88083   16.0        0.0      1       1\n",
       "64389    0.0        0.0      0       0\n",
       "65504 1129.0        0.0      1       1\n",
       "86909  419.0        0.0      1       1\n",
       "78007  249.0        0.0      1       1"
      ]
     },
     "execution_count": 656,
     "metadata": {},
     "output_type": "execute_result"
    }
   ],
   "source": [
    "clust_df = dt.copy()\n",
    "\n",
    "num = clust_df.columns[clust_df.dtypes != 'object'].drop('Code')\n",
    "\n",
    "clust_df = clust_df[num]\n",
    "\n",
    "clust_df.sample(5)"
   ]
  },
  {
   "cell_type": "code",
   "execution_count": 657,
   "metadata": {},
   "outputs": [],
   "source": [
    "clu = cluster_analysis(clust_df, 1)\n",
    "clu_10000 = clu.sample(10000, random_state=42)"
   ]
  },
  {
   "cell_type": "markdown",
   "metadata": {},
   "source": [
    "Создание линка на полный набор данных вызывало ```MemoryError```"
   ]
  },
  {
   "cell_type": "code",
   "execution_count": 658,
   "metadata": {},
   "outputs": [],
   "source": [
    "link = linkage(clu_10000, 'ward', 'euclidean')"
   ]
  },
  {
   "cell_type": "code",
   "execution_count": 659,
   "metadata": {},
   "outputs": [
    {
     "data": {
      "text/plain": [
       "array([  7.39588951,   8.50547672,   8.6344303 ,   8.99243678,\n",
       "         9.73654975,  10.99025117,  10.99806868,  12.76142234,\n",
       "        16.75103936,  18.64980479,  21.19675455,  22.83010261,\n",
       "        27.07746911,  36.55430827,  44.29338844,  57.24574437,\n",
       "        85.92164213, 103.89828196, 107.0786392 , 172.68794756])"
      ]
     },
     "execution_count": 659,
     "metadata": {},
     "output_type": "execute_result"
    }
   ],
   "source": [
    "link[-20:, 2]"
   ]
  },
  {
   "cell_type": "markdown",
   "metadata": {},
   "source": [
    "   ### Дендрограмма"
   ]
  },
  {
   "cell_type": "code",
   "execution_count": 660,
   "metadata": {},
   "outputs": [
    {
     "data": {
      "image/png": "[encoded data removed]",
      "text/plain": [
       "<Figure size 1152x648 with 1 Axes>"
      ]
     },
     "metadata": {
      "needs_background": "light"
     },
     "output_type": "display_data"
    }
   ],
   "source": [
    "matplotlib.rcParams['lines.linewidth'] = 2\n",
    "\n",
    "fig, ax = plt.subplots()\n",
    "fig.set_size_inches(16, 9)\n",
    "\n",
    "dn = dendrogram(link, truncate_mode='lastp', orientation='right')"
   ]
  },
  {
   "cell_type": "markdown",
   "metadata": {},
   "source": [
    "### Построение каменистой осыпи"
   ]
  },
  {
   "cell_type": "code",
   "execution_count": 665,
   "metadata": {},
   "outputs": [
    {
     "data": {
      "image/png": "[encoded data removed]",
      "text/plain": [
       "<Figure size 842.4x595.44 with 1 Axes>"
      ]
     },
     "metadata": {
      "needs_background": "light"
     },
     "output_type": "display_data"
    }
   ],
   "source": [
    "dist = link[-30:, 2]\n",
    "dist_rev = dist[::-1]\n",
    "idxs = range(1, len(dist) + 1)\n",
    "\n",
    "fig, ax = plt.subplots()\n",
    "fig.set_size_inches(11.7, 8.27)\n",
    "plt.plot(idxs, dist_rev, marker='o')\n",
    "plt.title('Distance between merged clusters')\n",
    "plt.xlabel('Step')\n",
    "plt.ylabel('Distance')\n",
    "plt.axhline(86, c='g', linestyle='dashed')\n",
    "plt.axhline(57, c='g', linestyle='dashed')\n",
    "plt.text(22, 89, '4 clusters', size = 15)\n",
    "plt.text(22, 60, '5 clusters', size = 15)\n",
    "plt.xticks(np.arange(min(idxs), max(idxs)+1, 1.0))\n",
    "plt.show()"
   ]
  },
  {
   "cell_type": "markdown",
   "metadata": {},
   "source": [
    "## Кластеризация методом k-means"
   ]
  },
  {
   "cell_type": "code",
   "execution_count": 666,
   "metadata": {},
   "outputs": [],
   "source": [
    "from sklearn.decomposition import PCA\n",
    "from sklearn.preprocessing import StandardScaler\n",
    "sc = StandardScaler()\n",
    "\n",
    "import time"
   ]
  },
  {
   "cell_type": "code",
   "execution_count": 675,
   "metadata": {},
   "outputs": [],
   "source": [
    "def kmeans_analysis(df, step):\n",
    "    \n",
    "    columns = df.columns\n",
    "    df_scaled = sc.fit_transform(df)\n",
    "    df_scaled = pd.DataFrame(df_scaled, columns = columns)\n",
    "    \n",
    "    if step==0:\n",
    "        print('query: showing rows of scaled DataFrame')\n",
    "        return df_scaled.sample(5)\n",
    "    \n",
    "    if step==1:\n",
    "        print('query: correlation')\n",
    "        return df_scaled.corr()\n",
    "    \n",
    "    if step==2:\n",
    "        print('query: returning Elbow Method')\n",
    "        K = range(1, 11)\n",
    "        models = [KMeans(n_clusters=k, random_state=42).fit(df_scaled) for k in K]\n",
    "        dist = [model.inertia_ for model in models]\n",
    "\n",
    "        # Plot the elbow\n",
    "        plt.plot(K, dist, marker='o')\n",
    "        plt.xlabel('k')\n",
    "        plt.ylabel('Sum of distances')\n",
    "        plt.title('The Elbow Method showing the optimal k')\n",
    "        return plt.show()\n",
    "    \n",
    "    a = int(input('Choose the amount of clusters, please: '))\n",
    "    model = KMeans(n_clusters = a, random_state=42)\n",
    "    model.fit(df)\n",
    "    df_scaled['cluster'] = model.labels_\n",
    "    df['cluster'] = model.labels_\n",
    "    \n",
    "    if step==3:\n",
    "        print('n_clusters:', a)\n",
    "        print(\"query: df.groupby('cluster').mean()\")\n",
    "        return df.groupby('cluster').mean()\n",
    "    \n",
    "    if step==4:\n",
    "        print('n_clusters:', a)\n",
    "        print(\"query: df_scaled.groupby('cluster').size()\")\n",
    "        return df_scaled.groupby('cluster').size()\n",
    "    \n",
    "    if step==5:\n",
    "        print('n_clusters:', a)\n",
    "        print(\"query: df_scaled['cluster'].sort_values()\")\n",
    "        return df_scaled['cluster'].sort_values()\n",
    "    \n",
    "    fig, axs = plt.subplots(nrows=int(a/2 + 0.5), ncols=2, sharex=True)\n",
    "    fig.set_size_inches(16, len(df_scaled.columns) + 2)\n",
    "    plt.subplots_adjust( wspace=0.625)\n",
    "    k = 0\n",
    "    c = ['grey', 'violet', 'salmon', 'skyblue', 'orange', 'red', 'yellow', 'blue', 'green', 'black']\n",
    "    \n",
    "    if step==6:\n",
    "        for i in range(int(a/2 + 0.5)):\n",
    "            for j in range(2):\n",
    "                try:\n",
    "                    ax = axs[i, j]\n",
    "                    k += 1\n",
    "                    df_scaled[df_scaled.cluster == k-1].groupby('cluster').mean().T.plot.barh(ax = ax, color = c[k-1])\n",
    "                    ax.tick_params(labelsize = 11)\n",
    "                except TypeError:\n",
    "                    break\n",
    "        save_fig('cluster')\n",
    "        return plt.show()"
   ]
  },
  {
   "cell_type": "code",
   "execution_count": 668,
   "metadata": {},
   "outputs": [
    {
     "name": "stdout",
     "output_type": "stream",
     "text": [
      "query: showing rows of scaled DataFrame\n"
     ]
    },
    {
     "data": {
      "text/html": [
       "<div>\n",
       "<style scoped>\n",
       "    .dataframe tbody tr th:only-of-type {\n",
       "        vertical-align: middle;\n",
       "    }\n",
       "\n",
       "    .dataframe tbody tr th {\n",
       "        vertical-align: top;\n",
       "    }\n",
       "\n",
       "    .dataframe thead th {\n",
       "        text-align: right;\n",
       "    }\n",
       "</style>\n",
       "<table border=\"1\" class=\"dataframe\">\n",
       "  <thead>\n",
       "    <tr style=\"text-align: right;\">\n",
       "      <th></th>\n",
       "      <th>Price</th>\n",
       "      <th>Old_Price</th>\n",
       "      <th>Stock</th>\n",
       "      <th>Region</th>\n",
       "    </tr>\n",
       "  </thead>\n",
       "  <tbody>\n",
       "    <tr>\n",
       "      <td>40969</td>\n",
       "      <td>-0.2</td>\n",
       "      <td>-0.0</td>\n",
       "      <td>-0.7</td>\n",
       "      <td>-1.0</td>\n",
       "    </tr>\n",
       "    <tr>\n",
       "      <td>18778</td>\n",
       "      <td>-0.0</td>\n",
       "      <td>-0.0</td>\n",
       "      <td>1.5</td>\n",
       "      <td>1.0</td>\n",
       "    </tr>\n",
       "    <tr>\n",
       "      <td>44035</td>\n",
       "      <td>-0.2</td>\n",
       "      <td>-0.0</td>\n",
       "      <td>-0.7</td>\n",
       "      <td>-1.0</td>\n",
       "    </tr>\n",
       "    <tr>\n",
       "      <td>48813</td>\n",
       "      <td>-0.2</td>\n",
       "      <td>-0.0</td>\n",
       "      <td>-0.7</td>\n",
       "      <td>-1.0</td>\n",
       "    </tr>\n",
       "    <tr>\n",
       "      <td>45800</td>\n",
       "      <td>-0.0</td>\n",
       "      <td>-0.0</td>\n",
       "      <td>1.5</td>\n",
       "      <td>1.0</td>\n",
       "    </tr>\n",
       "  </tbody>\n",
       "</table>\n",
       "</div>"
      ],
      "text/plain": [
       "       Price  Old_Price  Stock  Region\n",
       "40969   -0.2       -0.0   -0.7    -1.0\n",
       "18778   -0.0       -0.0    1.5     1.0\n",
       "44035   -0.2       -0.0   -0.7    -1.0\n",
       "48813   -0.2       -0.0   -0.7    -1.0\n",
       "45800   -0.0       -0.0    1.5     1.0"
      ]
     },
     "execution_count": 668,
     "metadata": {},
     "output_type": "execute_result"
    }
   ],
   "source": [
    "kmeans_analysis(clust_df, 0)"
   ]
  },
  {
   "cell_type": "code",
   "execution_count": 669,
   "metadata": {},
   "outputs": [
    {
     "name": "stdout",
     "output_type": "stream",
     "text": [
      "query: correlation\n"
     ]
    },
    {
     "data": {
      "text/html": [
       "<div>\n",
       "<style scoped>\n",
       "    .dataframe tbody tr th:only-of-type {\n",
       "        vertical-align: middle;\n",
       "    }\n",
       "\n",
       "    .dataframe tbody tr th {\n",
       "        vertical-align: top;\n",
       "    }\n",
       "\n",
       "    .dataframe thead th {\n",
       "        text-align: right;\n",
       "    }\n",
       "</style>\n",
       "<table border=\"1\" class=\"dataframe\">\n",
       "  <thead>\n",
       "    <tr style=\"text-align: right;\">\n",
       "      <th></th>\n",
       "      <th>Price</th>\n",
       "      <th>Old_Price</th>\n",
       "      <th>Stock</th>\n",
       "      <th>Region</th>\n",
       "    </tr>\n",
       "  </thead>\n",
       "  <tbody>\n",
       "    <tr>\n",
       "      <td>Price</td>\n",
       "      <td>1.0</td>\n",
       "      <td>0.1</td>\n",
       "      <td>0.3</td>\n",
       "      <td>0.2</td>\n",
       "    </tr>\n",
       "    <tr>\n",
       "      <td>Old_Price</td>\n",
       "      <td>0.1</td>\n",
       "      <td>1.0</td>\n",
       "      <td>0.0</td>\n",
       "      <td>0.0</td>\n",
       "    </tr>\n",
       "    <tr>\n",
       "      <td>Stock</td>\n",
       "      <td>0.3</td>\n",
       "      <td>0.0</td>\n",
       "      <td>1.0</td>\n",
       "      <td>0.7</td>\n",
       "    </tr>\n",
       "    <tr>\n",
       "      <td>Region</td>\n",
       "      <td>0.2</td>\n",
       "      <td>0.0</td>\n",
       "      <td>0.7</td>\n",
       "      <td>1.0</td>\n",
       "    </tr>\n",
       "  </tbody>\n",
       "</table>\n",
       "</div>"
      ],
      "text/plain": [
       "           Price  Old_Price  Stock  Region\n",
       "Price        1.0        0.1    0.3     0.2\n",
       "Old_Price    0.1        1.0    0.0     0.0\n",
       "Stock        0.3        0.0    1.0     0.7\n",
       "Region       0.2        0.0    0.7     1.0"
      ]
     },
     "execution_count": 669,
     "metadata": {},
     "output_type": "execute_result"
    }
   ],
   "source": [
    "kmeans_analysis(clust_df, 1)"
   ]
  },
  {
   "cell_type": "code",
   "execution_count": 670,
   "metadata": {},
   "outputs": [
    {
     "name": "stdout",
     "output_type": "stream",
     "text": [
      "query: returning Elbow Method\n"
     ]
    },
    {
     "data": {
      "image/png": "[encoded data removed]",
      "text/plain": [
       "<Figure size 432x288 with 1 Axes>"
      ]
     },
     "metadata": {
      "needs_background": "light"
     },
     "output_type": "display_data"
    }
   ],
   "source": [
    "kmeans_analysis(clust_df, 2)"
   ]
  },
  {
   "cell_type": "code",
   "execution_count": 671,
   "metadata": {},
   "outputs": [
    {
     "name": "stdout",
     "output_type": "stream",
     "text": [
      "Choose the amount of clusters, please: 6\n",
      "n_clusters: 6\n",
      "query: df.groupby('cluster').mean()\n"
     ]
    },
    {
     "data": {
      "text/html": [
       "<div>\n",
       "<style scoped>\n",
       "    .dataframe tbody tr th:only-of-type {\n",
       "        vertical-align: middle;\n",
       "    }\n",
       "\n",
       "    .dataframe tbody tr th {\n",
       "        vertical-align: top;\n",
       "    }\n",
       "\n",
       "    .dataframe thead th {\n",
       "        text-align: right;\n",
       "    }\n",
       "</style>\n",
       "<table border=\"1\" class=\"dataframe\">\n",
       "  <thead>\n",
       "    <tr style=\"text-align: right;\">\n",
       "      <th></th>\n",
       "      <th>Price</th>\n",
       "      <th>Old_Price</th>\n",
       "      <th>Stock</th>\n",
       "      <th>Region</th>\n",
       "    </tr>\n",
       "    <tr>\n",
       "      <th>cluster</th>\n",
       "      <th></th>\n",
       "      <th></th>\n",
       "      <th></th>\n",
       "      <th></th>\n",
       "    </tr>\n",
       "  </thead>\n",
       "  <tbody>\n",
       "    <tr>\n",
       "      <td>0</td>\n",
       "      <td>88.5</td>\n",
       "      <td>2.2</td>\n",
       "      <td>0.2</td>\n",
       "      <td>0.5</td>\n",
       "    </tr>\n",
       "    <tr>\n",
       "      <td>1</td>\n",
       "      <td>34957.1</td>\n",
       "      <td>806.6</td>\n",
       "      <td>0.8</td>\n",
       "      <td>1.0</td>\n",
       "    </tr>\n",
       "    <tr>\n",
       "      <td>2</td>\n",
       "      <td>7235.2</td>\n",
       "      <td>150.2</td>\n",
       "      <td>0.9</td>\n",
       "      <td>1.0</td>\n",
       "    </tr>\n",
       "    <tr>\n",
       "      <td>3</td>\n",
       "      <td>94040.0</td>\n",
       "      <td>0.0</td>\n",
       "      <td>0.6</td>\n",
       "      <td>1.0</td>\n",
       "    </tr>\n",
       "    <tr>\n",
       "      <td>4</td>\n",
       "      <td>2296.9</td>\n",
       "      <td>29.3</td>\n",
       "      <td>0.9</td>\n",
       "      <td>1.0</td>\n",
       "    </tr>\n",
       "    <tr>\n",
       "      <td>5</td>\n",
       "      <td>16939.5</td>\n",
       "      <td>162.3</td>\n",
       "      <td>0.9</td>\n",
       "      <td>1.0</td>\n",
       "    </tr>\n",
       "  </tbody>\n",
       "</table>\n",
       "</div>"
      ],
      "text/plain": [
       "          Price  Old_Price  Stock  Region\n",
       "cluster                                  \n",
       "0          88.5        2.2    0.2     0.5\n",
       "1       34957.1      806.6    0.8     1.0\n",
       "2        7235.2      150.2    0.9     1.0\n",
       "3       94040.0        0.0    0.6     1.0\n",
       "4        2296.9       29.3    0.9     1.0\n",
       "5       16939.5      162.3    0.9     1.0"
      ]
     },
     "execution_count": 671,
     "metadata": {},
     "output_type": "execute_result"
    }
   ],
   "source": [
    "kmeans_analysis(clust_df, 3)"
   ]
  },
  {
   "cell_type": "code",
   "execution_count": 672,
   "metadata": {},
   "outputs": [
    {
     "name": "stdout",
     "output_type": "stream",
     "text": [
      "Choose the amount of clusters, please: 6\n",
      "n_clusters: 6\n",
      "query: df_scaled.groupby('cluster').size()\n"
     ]
    },
    {
     "data": {
      "text/plain": [
       "cluster\n",
       "0    96057\n",
       "1      133\n",
       "2     1552\n",
       "3       12\n",
       "4     6443\n",
       "5      330\n",
       "dtype: int64"
      ]
     },
     "execution_count": 672,
     "metadata": {},
     "output_type": "execute_result"
    }
   ],
   "source": [
    "kmeans_analysis(clust_df, 4)"
   ]
  },
  {
   "cell_type": "code",
   "execution_count": 673,
   "metadata": {},
   "outputs": [
    {
     "name": "stdout",
     "output_type": "stream",
     "text": [
      "Choose the amount of clusters, please: 6\n",
      "n_clusters: 6\n",
      "query: df_scaled['cluster'].sort_values()\n"
     ]
    },
    {
     "data": {
      "text/plain": [
       "0         0\n",
       "66878     0\n",
       "66877     0\n",
       "66876     0\n",
       "66875     0\n",
       "         ..\n",
       "100515    5\n",
       "94063     5\n",
       "22432     5\n",
       "49898     5\n",
       "92559     5\n",
       "Name: cluster, Length: 104527, dtype: int32"
      ]
     },
     "execution_count": 673,
     "metadata": {},
     "output_type": "execute_result"
    }
   ],
   "source": [
    "kmeans_analysis(clust_df, 5)"
   ]
  },
  {
   "cell_type": "code",
   "execution_count": 676,
   "metadata": {
    "scrolled": false
   },
   "outputs": [
    {
     "name": "stdout",
     "output_type": "stream",
     "text": [
      "Choose the amount of clusters, please: 6\n",
      "Saving figure cluster\n"
     ]
    },
    {
     "data": {
      "image/png": "[encoded data removed]",
      "text/plain": [
       "<Figure size 1152x504 with 6 Axes>"
      ]
     },
     "metadata": {
      "needs_background": "light"
     },
     "output_type": "display_data"
    }
   ],
   "source": [
    "kmeans_analysis(clust_df, 6)"
   ]
  },
  {
   "cell_type": "markdown",
   "metadata": {},
   "source": [
    "Как можно заметить, кластеры разбиты по достаточно простой схеме. В первом кластере у нас Санкт-Петербург, в остальных - Москва, где кластеры разбились по цене"
   ]
  },
  {
   "cell_type": "markdown",
   "metadata": {},
   "source": [
    "## 3. Построение регрессии справедливой цены на товар"
   ]
  },
  {
   "cell_type": "code",
   "execution_count": 679,
   "metadata": {},
   "outputs": [
    {
     "data": {
      "text/html": [
       "<div>\n",
       "<style scoped>\n",
       "    .dataframe tbody tr th:only-of-type {\n",
       "        vertical-align: middle;\n",
       "    }\n",
       "\n",
       "    .dataframe tbody tr th {\n",
       "        vertical-align: top;\n",
       "    }\n",
       "\n",
       "    .dataframe thead th {\n",
       "        text-align: right;\n",
       "    }\n",
       "</style>\n",
       "<table border=\"1\" class=\"dataframe\">\n",
       "  <thead>\n",
       "    <tr style=\"text-align: right;\">\n",
       "      <th></th>\n",
       "      <th>Category_1</th>\n",
       "      <th>Category_2</th>\n",
       "      <th>Category_3</th>\n",
       "      <th>Category_4</th>\n",
       "      <th>Category_5</th>\n",
       "      <th>Category_6</th>\n",
       "      <th>Code</th>\n",
       "      <th>Name</th>\n",
       "      <th>Brand</th>\n",
       "      <th>Price</th>\n",
       "      <th>Old_Price</th>\n",
       "      <th>Stock</th>\n",
       "      <th>Region</th>\n",
       "    </tr>\n",
       "  </thead>\n",
       "  <tbody>\n",
       "    <tr>\n",
       "      <td>11496</td>\n",
       "      <td>Сад и досуг</td>\n",
       "      <td>Товары для полива</td>\n",
       "      <td>Садовые шланги и аксессуары</td>\n",
       "      <td>Шланги для полива</td>\n",
       "      <td>-</td>\n",
       "      <td>-</td>\n",
       "      <td>2562213</td>\n",
       "      <td>Комплект для подключения насоса с насадками 1\"...</td>\n",
       "      <td>CMI</td>\n",
       "      <td>999.0</td>\n",
       "      <td>0.0</td>\n",
       "      <td>1</td>\n",
       "      <td>1</td>\n",
       "    </tr>\n",
       "    <tr>\n",
       "      <td>8892</td>\n",
       "      <td>Стройка</td>\n",
       "      <td>Древесно-плитные и пиломатериалы</td>\n",
       "      <td>Профилированные изделия</td>\n",
       "      <td>-</td>\n",
       "      <td>-</td>\n",
       "      <td>-</td>\n",
       "      <td>2366482</td>\n",
       "      <td>Наличник радиусный сосна 12 х 65 х 2200 мм</td>\n",
       "      <td>Без бренда</td>\n",
       "      <td>0.0</td>\n",
       "      <td>0.0</td>\n",
       "      <td>0</td>\n",
       "      <td>0</td>\n",
       "    </tr>\n",
       "    <tr>\n",
       "      <td>2065</td>\n",
       "      <td>Техника</td>\n",
       "      <td>Электроинструменты</td>\n",
       "      <td>Дрели и шуруповерты</td>\n",
       "      <td>Дрели ударные и безударные</td>\n",
       "      <td>-</td>\n",
       "      <td>-</td>\n",
       "      <td>1221563</td>\n",
       "      <td>Дрель безударная Makita 6408, 530 Вт</td>\n",
       "      <td>Makita</td>\n",
       "      <td>2999.0</td>\n",
       "      <td>0.0</td>\n",
       "      <td>1</td>\n",
       "      <td>1</td>\n",
       "    </tr>\n",
       "    <tr>\n",
       "      <td>68273</td>\n",
       "      <td>Техника</td>\n",
       "      <td>Скобяные изделия и фурнитура</td>\n",
       "      <td>Гвозди и штифты</td>\n",
       "      <td>Стальные гвозди и штифты</td>\n",
       "      <td>-</td>\n",
       "      <td>-</td>\n",
       "      <td>4010831</td>\n",
       "      <td>Дюбель нейлоновый Европартнер MULTI Plug 6x25 ...</td>\n",
       "      <td>Европартнер</td>\n",
       "      <td>0.0</td>\n",
       "      <td>0.0</td>\n",
       "      <td>0</td>\n",
       "      <td>0</td>\n",
       "    </tr>\n",
       "    <tr>\n",
       "      <td>208</td>\n",
       "      <td>Всё для дома</td>\n",
       "      <td>Освещение</td>\n",
       "      <td>Наружное освещение</td>\n",
       "      <td>Уличные фонари, столбы</td>\n",
       "      <td>-</td>\n",
       "      <td>-</td>\n",
       "      <td>1107713</td>\n",
       "      <td>Светильник уличный Duewi на пике 20 Вт</td>\n",
       "      <td>Unknown</td>\n",
       "      <td>0.0</td>\n",
       "      <td>0.0</td>\n",
       "      <td>0</td>\n",
       "      <td>0</td>\n",
       "    </tr>\n",
       "  </tbody>\n",
       "</table>\n",
       "</div>"
      ],
      "text/plain": [
       "         Category_1                        Category_2  \\\n",
       "11496   Сад и досуг                 Товары для полива   \n",
       "8892        Стройка  Древесно-плитные и пиломатериалы   \n",
       "2065        Техника                Электроинструменты   \n",
       "68273       Техника      Скобяные изделия и фурнитура   \n",
       "208    Всё для дома                         Освещение   \n",
       "\n",
       "                        Category_3                  Category_4 Category_5  \\\n",
       "11496  Садовые шланги и аксессуары           Шланги для полива          -   \n",
       "8892       Профилированные изделия                           -          -   \n",
       "2065           Дрели и шуруповерты  Дрели ударные и безударные          -   \n",
       "68273              Гвозди и штифты    Стальные гвозди и штифты          -   \n",
       "208             Наружное освещение      Уличные фонари, столбы          -   \n",
       "\n",
       "      Category_6     Code                                               Name  \\\n",
       "11496          -  2562213  Комплект для подключения насоса с насадками 1\"...   \n",
       "8892           -  2366482         Наличник радиусный сосна 12 х 65 х 2200 мм   \n",
       "2065           -  1221563               Дрель безударная Makita 6408, 530 Вт   \n",
       "68273          -  4010831  Дюбель нейлоновый Европартнер MULTI Plug 6x25 ...   \n",
       "208            -  1107713             Светильник уличный Duewi на пике 20 Вт   \n",
       "\n",
       "             Brand  Price  Old_Price  Stock  Region  \n",
       "11496          CMI  999.0        0.0      1       1  \n",
       "8892    Без бренда    0.0        0.0      0       0  \n",
       "2065        Makita 2999.0        0.0      1       1  \n",
       "68273  Европартнер    0.0        0.0      0       0  \n",
       "208        Unknown    0.0        0.0      0       0  "
      ]
     },
     "execution_count": 679,
     "metadata": {},
     "output_type": "execute_result"
    }
   ],
   "source": [
    "df_reg.sample(5)"
   ]
  },
  {
   "cell_type": "code",
   "execution_count": 686,
   "metadata": {},
   "outputs": [],
   "source": [
    "df_reg.loc[73968, 'Region'] = 1\n",
    "df_reg.loc[73969, 'Region'] = 0"
   ]
  },
  {
   "cell_type": "code",
   "execution_count": 695,
   "metadata": {},
   "outputs": [
    {
     "data": {
      "text/plain": [
       "(31580, 11)"
      ]
     },
     "execution_count": 695,
     "metadata": {},
     "output_type": "execute_result"
    }
   ],
   "source": [
    "df_filtered = df_reg[(df_reg.Region == 1) & (df_reg.Stock == 1)].drop(['Region', 'Stock'], axis=1)\n",
    "df_filtered.shape"
   ]
  },
  {
   "cell_type": "markdown",
   "metadata": {},
   "source": [
    "Далее мы будем смотреть товары только в Москве и только имеющиеся в наличии. Нет смысла содержать те значения, если они равны 0"
   ]
  },
  {
   "cell_type": "code",
   "execution_count": 690,
   "metadata": {},
   "outputs": [
    {
     "data": {
      "text/html": [
       "<div>\n",
       "<style scoped>\n",
       "    .dataframe tbody tr th:only-of-type {\n",
       "        vertical-align: middle;\n",
       "    }\n",
       "\n",
       "    .dataframe tbody tr th {\n",
       "        vertical-align: top;\n",
       "    }\n",
       "\n",
       "    .dataframe thead th {\n",
       "        text-align: right;\n",
       "    }\n",
       "</style>\n",
       "<table border=\"1\" class=\"dataframe\">\n",
       "  <thead>\n",
       "    <tr style=\"text-align: right;\">\n",
       "      <th></th>\n",
       "      <th>Category_1</th>\n",
       "      <th>Category_2</th>\n",
       "      <th>Category_3</th>\n",
       "      <th>Category_4</th>\n",
       "      <th>Category_5</th>\n",
       "      <th>Category_6</th>\n",
       "      <th>Code</th>\n",
       "      <th>Name</th>\n",
       "      <th>Brand</th>\n",
       "      <th>Price</th>\n",
       "      <th>Old_Price</th>\n",
       "      <th>Stock</th>\n",
       "      <th>Region</th>\n",
       "    </tr>\n",
       "  </thead>\n",
       "  <tbody>\n",
       "    <tr>\n",
       "      <td>27</td>\n",
       "      <td>Кухня</td>\n",
       "      <td>Оборудование для кухни</td>\n",
       "      <td>Фильтры для питьевой воды</td>\n",
       "      <td>Проточные фильтры и системы осмоса</td>\n",
       "      <td>-</td>\n",
       "      <td>-</td>\n",
       "      <td>1019363</td>\n",
       "      <td>Фильтр Гейзер ЗИВЖ Люкс проточный</td>\n",
       "      <td>Гейзер</td>\n",
       "      <td>3449.0</td>\n",
       "      <td>0.0</td>\n",
       "      <td>1</td>\n",
       "      <td>1</td>\n",
       "    </tr>\n",
       "    <tr>\n",
       "      <td>29</td>\n",
       "      <td>Ванная комната</td>\n",
       "      <td>Водоснабжение</td>\n",
       "      <td>Вентили</td>\n",
       "      <td>Шаровые краны</td>\n",
       "      <td>-</td>\n",
       "      <td>-</td>\n",
       "      <td>1019546</td>\n",
       "      <td>Кран для чистой воды Гейзер 3</td>\n",
       "      <td>Гейзер</td>\n",
       "      <td>1099.0</td>\n",
       "      <td>0.0</td>\n",
       "      <td>1</td>\n",
       "      <td>1</td>\n",
       "    </tr>\n",
       "    <tr>\n",
       "      <td>33</td>\n",
       "      <td>Всё для дома</td>\n",
       "      <td>Лакокрасочные материалы</td>\n",
       "      <td>Краски и грунтовки</td>\n",
       "      <td>Краски для внутренних работ</td>\n",
       "      <td>-</td>\n",
       "      <td>-</td>\n",
       "      <td>1028752</td>\n",
       "      <td>Краска для ванной комнаты и кухни Dulux Ultra ...</td>\n",
       "      <td>Dulux</td>\n",
       "      <td>989.0</td>\n",
       "      <td>0.0</td>\n",
       "      <td>1</td>\n",
       "      <td>1</td>\n",
       "    </tr>\n",
       "    <tr>\n",
       "      <td>35</td>\n",
       "      <td>Стройка</td>\n",
       "      <td>Строительные материалы</td>\n",
       "      <td>Кровля и водостоки</td>\n",
       "      <td>Профнастил, металлочерепица, ондулин</td>\n",
       "      <td>-</td>\n",
       "      <td>-</td>\n",
       "      <td>1053057</td>\n",
       "      <td>Конек Ондулин красный 0.36 х 1 м</td>\n",
       "      <td>Ондулин</td>\n",
       "      <td>369.0</td>\n",
       "      <td>0.0</td>\n",
       "      <td>1</td>\n",
       "      <td>1</td>\n",
       "    </tr>\n",
       "    <tr>\n",
       "      <td>37</td>\n",
       "      <td>Стройка</td>\n",
       "      <td>Строительные материалы</td>\n",
       "      <td>Кровля и водостоки</td>\n",
       "      <td>Профнастил, металлочерепица, ондулин</td>\n",
       "      <td>-</td>\n",
       "      <td>-</td>\n",
       "      <td>1053065</td>\n",
       "      <td>Конек Ондулин коричневый 0.36 х 1 м</td>\n",
       "      <td>Ондулин</td>\n",
       "      <td>369.0</td>\n",
       "      <td>0.0</td>\n",
       "      <td>1</td>\n",
       "      <td>1</td>\n",
       "    </tr>\n",
       "  </tbody>\n",
       "</table>\n",
       "</div>"
      ],
      "text/plain": [
       "        Category_1               Category_2                 Category_3  \\\n",
       "27           Кухня   Оборудование для кухни  Фильтры для питьевой воды   \n",
       "29  Ванная комната            Водоснабжение                    Вентили   \n",
       "33    Всё для дома  Лакокрасочные материалы         Краски и грунтовки   \n",
       "35         Стройка   Строительные материалы         Кровля и водостоки   \n",
       "37         Стройка   Строительные материалы         Кровля и водостоки   \n",
       "\n",
       "                              Category_4 Category_5 Category_6     Code  \\\n",
       "27    Проточные фильтры и системы осмоса          -          -  1019363   \n",
       "29                         Шаровые краны          -          -  1019546   \n",
       "33           Краски для внутренних работ          -          -  1028752   \n",
       "35  Профнастил, металлочерепица, ондулин          -          -  1053057   \n",
       "37  Профнастил, металлочерепица, ондулин          -          -  1053065   \n",
       "\n",
       "                                                 Name    Brand  Price  \\\n",
       "27                  Фильтр Гейзер ЗИВЖ Люкс проточный   Гейзер 3449.0   \n",
       "29                      Кран для чистой воды Гейзер 3   Гейзер 1099.0   \n",
       "33  Краска для ванной комнаты и кухни Dulux Ultra ...    Dulux  989.0   \n",
       "35                   Конек Ондулин красный 0.36 х 1 м  Ондулин  369.0   \n",
       "37                Конек Ондулин коричневый 0.36 х 1 м  Ондулин  369.0   \n",
       "\n",
       "    Old_Price  Stock  Region  \n",
       "27        0.0      1       1  \n",
       "29        0.0      1       1  \n",
       "33        0.0      1       1  \n",
       "35        0.0      1       1  \n",
       "37        0.0      1       1  "
      ]
     },
     "execution_count": 690,
     "metadata": {},
     "output_type": "execute_result"
    }
   ],
   "source": [
    "df_filtered.head()"
   ]
  },
  {
   "cell_type": "code",
   "execution_count": 700,
   "metadata": {},
   "outputs": [],
   "source": [
    "from sklearn.metrics import mean_squared_error\n",
    "from sklearn.linear_model import LinearRegression\n",
    "from sklearn.preprocessing import LabelEncoder\n",
    "le = LabelEncoder()"
   ]
  },
  {
   "cell_type": "code",
   "execution_count": 701,
   "metadata": {},
   "outputs": [],
   "source": [
    "df_labeled = df_filtered.copy()"
   ]
  },
  {
   "cell_type": "code",
   "execution_count": 707,
   "metadata": {},
   "outputs": [],
   "source": [
    "categorical = df_labeled.columns[df_labeled.dtypes == 'object']\n",
    "for col in categorical:\n",
    "    df_labeled[col] = le.fit_transform(df_labeled[col])"
   ]
  },
  {
   "cell_type": "code",
   "execution_count": 828,
   "metadata": {},
   "outputs": [],
   "source": [
    "for col in categorical:\n",
    "    df2[col] = le.fit_transform(df2[col])"
   ]
  },
  {
   "cell_type": "code",
   "execution_count": 708,
   "metadata": {},
   "outputs": [
    {
     "data": {
      "text/html": [
       "<div>\n",
       "<style scoped>\n",
       "    .dataframe tbody tr th:only-of-type {\n",
       "        vertical-align: middle;\n",
       "    }\n",
       "\n",
       "    .dataframe tbody tr th {\n",
       "        vertical-align: top;\n",
       "    }\n",
       "\n",
       "    .dataframe thead th {\n",
       "        text-align: right;\n",
       "    }\n",
       "</style>\n",
       "<table border=\"1\" class=\"dataframe\">\n",
       "  <thead>\n",
       "    <tr style=\"text-align: right;\">\n",
       "      <th></th>\n",
       "      <th>Category_1</th>\n",
       "      <th>Category_2</th>\n",
       "      <th>Category_3</th>\n",
       "      <th>Category_4</th>\n",
       "      <th>Category_5</th>\n",
       "      <th>Category_6</th>\n",
       "      <th>Code</th>\n",
       "      <th>Name</th>\n",
       "      <th>Brand</th>\n",
       "      <th>Price</th>\n",
       "      <th>Old_Price</th>\n",
       "    </tr>\n",
       "  </thead>\n",
       "  <tbody>\n",
       "    <tr>\n",
       "      <td>80245</td>\n",
       "      <td>1</td>\n",
       "      <td>10</td>\n",
       "      <td>235</td>\n",
       "      <td>0</td>\n",
       "      <td>0</td>\n",
       "      <td>1</td>\n",
       "      <td>4124194</td>\n",
       "      <td>21440</td>\n",
       "      <td>606</td>\n",
       "      <td>1119.0</td>\n",
       "      <td>0.0</td>\n",
       "    </tr>\n",
       "  </tbody>\n",
       "</table>\n",
       "</div>"
      ],
      "text/plain": [
       "       Category_1  Category_2  Category_3  Category_4  Category_5  Category_6  \\\n",
       "80245           1          10         235           0           0           1   \n",
       "\n",
       "          Code   Name  Brand  Price  Old_Price  \n",
       "80245  4124194  21440    606 1119.0        0.0  "
      ]
     },
     "execution_count": 708,
     "metadata": {},
     "output_type": "execute_result"
    }
   ],
   "source": [
    "df_labeled.sample()"
   ]
  },
  {
   "cell_type": "code",
   "execution_count": 745,
   "metadata": {},
   "outputs": [],
   "source": [
    "df_labeled['Log_Price'] = np.log(df_labeled['Price'])"
   ]
  },
  {
   "cell_type": "code",
   "execution_count": 801,
   "metadata": {},
   "outputs": [],
   "source": [
    "X = df_labeled.drop(['Price', 'Code', 'Name', 'Category_6', 'Log_Price'], axis=1)\n",
    "y = df_labeled['Log_Price']"
   ]
  },
  {
   "cell_type": "code",
   "execution_count": 832,
   "metadata": {},
   "outputs": [
    {
     "data": {
      "text/html": [
       "<div>\n",
       "<style scoped>\n",
       "    .dataframe tbody tr th:only-of-type {\n",
       "        vertical-align: middle;\n",
       "    }\n",
       "\n",
       "    .dataframe tbody tr th {\n",
       "        vertical-align: top;\n",
       "    }\n",
       "\n",
       "    .dataframe thead th {\n",
       "        text-align: right;\n",
       "    }\n",
       "</style>\n",
       "<table border=\"1\" class=\"dataframe\">\n",
       "  <thead>\n",
       "    <tr style=\"text-align: right;\">\n",
       "      <th></th>\n",
       "      <th>Category_1</th>\n",
       "      <th>Category_2</th>\n",
       "      <th>Category_3</th>\n",
       "      <th>Category_4</th>\n",
       "      <th>Category_5</th>\n",
       "      <th>Brand</th>\n",
       "      <th>Old_Price</th>\n",
       "    </tr>\n",
       "  </thead>\n",
       "  <tbody>\n",
       "    <tr>\n",
       "      <td>48772</td>\n",
       "      <td>1</td>\n",
       "      <td>10</td>\n",
       "      <td>335</td>\n",
       "      <td>0</td>\n",
       "      <td>0</td>\n",
       "      <td>432</td>\n",
       "      <td>0.0</td>\n",
       "    </tr>\n",
       "  </tbody>\n",
       "</table>\n",
       "</div>"
      ],
      "text/plain": [
       "       Category_1  Category_2  Category_3  Category_4  Category_5  Brand  \\\n",
       "48772           1          10         335           0           0    432   \n",
       "\n",
       "       Old_Price  \n",
       "48772        0.0  "
      ]
     },
     "execution_count": 832,
     "metadata": {},
     "output_type": "execute_result"
    }
   ],
   "source": [
    "X.sample(1)"
   ]
  },
  {
   "cell_type": "code",
   "execution_count": 833,
   "metadata": {},
   "outputs": [
    {
     "data": {
      "text/plain": [
       "LinearRegression(copy_X=True, fit_intercept=True, n_jobs=None, normalize=False)"
      ]
     },
     "execution_count": 833,
     "metadata": {},
     "output_type": "execute_result"
    }
   ],
   "source": [
    "model = LinearRegression()\n",
    "model.fit(X, y)"
   ]
  },
  {
   "cell_type": "code",
   "execution_count": 834,
   "metadata": {},
   "outputs": [
    {
     "name": "stdout",
     "output_type": "stream",
     "text": [
      "R^2: 0.1769373063781926\n"
     ]
    }
   ],
   "source": [
    "print ('R^2: {0}'.format(model.score(X, y)))"
   ]
  },
  {
   "cell_type": "code",
   "execution_count": 835,
   "metadata": {},
   "outputs": [
    {
     "data": {
      "text/html": [
       "<div>\n",
       "<style scoped>\n",
       "    .dataframe tbody tr th:only-of-type {\n",
       "        vertical-align: middle;\n",
       "    }\n",
       "\n",
       "    .dataframe tbody tr th {\n",
       "        vertical-align: top;\n",
       "    }\n",
       "\n",
       "    .dataframe thead th {\n",
       "        text-align: right;\n",
       "    }\n",
       "</style>\n",
       "<table border=\"1\" class=\"dataframe\">\n",
       "  <thead>\n",
       "    <tr style=\"text-align: right;\">\n",
       "      <th></th>\n",
       "      <th>predictor</th>\n",
       "      <th>coef</th>\n",
       "    </tr>\n",
       "  </thead>\n",
       "  <tbody>\n",
       "    <tr>\n",
       "      <td>0</td>\n",
       "      <td>intercept</td>\n",
       "      <td>7.8</td>\n",
       "    </tr>\n",
       "    <tr>\n",
       "      <td>1</td>\n",
       "      <td>Category_1</td>\n",
       "      <td>-0.2</td>\n",
       "    </tr>\n",
       "    <tr>\n",
       "      <td>2</td>\n",
       "      <td>Category_2</td>\n",
       "      <td>-0.0</td>\n",
       "    </tr>\n",
       "    <tr>\n",
       "      <td>3</td>\n",
       "      <td>Category_3</td>\n",
       "      <td>-0.0</td>\n",
       "    </tr>\n",
       "    <tr>\n",
       "      <td>4</td>\n",
       "      <td>Category_4</td>\n",
       "      <td>-0.0</td>\n",
       "    </tr>\n",
       "    <tr>\n",
       "      <td>5</td>\n",
       "      <td>Category_5</td>\n",
       "      <td>0.0</td>\n",
       "    </tr>\n",
       "    <tr>\n",
       "      <td>6</td>\n",
       "      <td>Brand</td>\n",
       "      <td>-0.0</td>\n",
       "    </tr>\n",
       "    <tr>\n",
       "      <td>7</td>\n",
       "      <td>Old_Price</td>\n",
       "      <td>0.0</td>\n",
       "    </tr>\n",
       "  </tbody>\n",
       "</table>\n",
       "</div>"
      ],
      "text/plain": [
       "    predictor  coef\n",
       "0   intercept   7.8\n",
       "1  Category_1  -0.2\n",
       "2  Category_2  -0.0\n",
       "3  Category_3  -0.0\n",
       "4  Category_4  -0.0\n",
       "5  Category_5   0.0\n",
       "6       Brand  -0.0\n",
       "7   Old_Price   0.0"
      ]
     },
     "execution_count": 835,
     "metadata": {},
     "output_type": "execute_result"
    }
   ],
   "source": [
    "coef = pd.DataFrame(zip(['intercept'] + X.columns.tolist(), [model.intercept_] + model.coef_.tolist()),\n",
    "                    columns=['predictor', 'coef'])\n",
    "coef"
   ]
  },
  {
   "cell_type": "code",
   "execution_count": 836,
   "metadata": {},
   "outputs": [
    {
     "data": {
      "text/html": [
       "<div>\n",
       "<style scoped>\n",
       "    .dataframe tbody tr th:only-of-type {\n",
       "        vertical-align: middle;\n",
       "    }\n",
       "\n",
       "    .dataframe tbody tr th {\n",
       "        vertical-align: top;\n",
       "    }\n",
       "\n",
       "    .dataframe thead th {\n",
       "        text-align: right;\n",
       "    }\n",
       "</style>\n",
       "<table border=\"1\" class=\"dataframe\">\n",
       "  <thead>\n",
       "    <tr style=\"text-align: right;\">\n",
       "      <th></th>\n",
       "      <th>predictor</th>\n",
       "      <th>coef</th>\n",
       "      <th>pvalue</th>\n",
       "    </tr>\n",
       "  </thead>\n",
       "  <tbody>\n",
       "    <tr>\n",
       "      <td>0</td>\n",
       "      <td>intercept</td>\n",
       "      <td>7.8</td>\n",
       "      <td>0.0</td>\n",
       "    </tr>\n",
       "    <tr>\n",
       "      <td>1</td>\n",
       "      <td>Category_1</td>\n",
       "      <td>-0.2</td>\n",
       "      <td>0.0</td>\n",
       "    </tr>\n",
       "    <tr>\n",
       "      <td>2</td>\n",
       "      <td>Category_2</td>\n",
       "      <td>-0.0</td>\n",
       "      <td>0.0</td>\n",
       "    </tr>\n",
       "    <tr>\n",
       "      <td>3</td>\n",
       "      <td>Category_3</td>\n",
       "      <td>-0.0</td>\n",
       "      <td>0.0</td>\n",
       "    </tr>\n",
       "    <tr>\n",
       "      <td>4</td>\n",
       "      <td>Category_4</td>\n",
       "      <td>-0.0</td>\n",
       "      <td>0.0</td>\n",
       "    </tr>\n",
       "    <tr>\n",
       "      <td>5</td>\n",
       "      <td>Category_5</td>\n",
       "      <td>0.0</td>\n",
       "      <td>0.0</td>\n",
       "    </tr>\n",
       "    <tr>\n",
       "      <td>6</td>\n",
       "      <td>Brand</td>\n",
       "      <td>-0.0</td>\n",
       "      <td>0.0</td>\n",
       "    </tr>\n",
       "    <tr>\n",
       "      <td>7</td>\n",
       "      <td>Old_Price</td>\n",
       "      <td>0.0</td>\n",
       "      <td>0.0</td>\n",
       "    </tr>\n",
       "  </tbody>\n",
       "</table>\n",
       "</div>"
      ],
      "text/plain": [
       "    predictor  coef  pvalue\n",
       "0   intercept   7.8     0.0\n",
       "1  Category_1  -0.2     0.0\n",
       "2  Category_2  -0.0     0.0\n",
       "3  Category_3  -0.0     0.0\n",
       "4  Category_4  -0.0     0.0\n",
       "5  Category_5   0.0     0.0\n",
       "6       Brand  -0.0     0.0\n",
       "7   Old_Price   0.0     0.0"
      ]
     },
     "execution_count": 836,
     "metadata": {},
     "output_type": "execute_result"
    }
   ],
   "source": [
    "from scipy import stats\n",
    "\n",
    "def regression_coef(model, X, y):\n",
    "    coef = pd.DataFrame(zip(['intercept'] + X.columns.tolist(), [model.intercept_] + model.coef_.tolist()),\n",
    "                    columns=['predictor', 'coef'])\n",
    "    X1 = np.append(np.ones((len(X),1)), X, axis=1)\n",
    "    b = np.append(model.intercept_, model.coef_)\n",
    "    MSE = np.sum((model.predict(X) - y) ** 2, axis=0) / float(X.shape[0] - X.shape[1])\n",
    "    var_b = MSE * (np.linalg.inv(np.dot(X1.T, X1)).diagonal())\n",
    "    sd_b = np.sqrt(var_b)\n",
    "    t = b / sd_b\n",
    "    coef['pvalue'] = [2 * (1 - stats.t.cdf(np.abs(i), (len(X1) - 1))) for i in t]\n",
    "    return coef\n",
    "regression_coef(model, X, y)"
   ]
  },
  {
   "cell_type": "code",
   "execution_count": 837,
   "metadata": {},
   "outputs": [
    {
     "name": "stdout",
     "output_type": "stream",
     "text": [
      "                                 OLS Regression Results                                \n",
      "=======================================================================================\n",
      "Dep. Variable:              Log_Price   R-squared (uncentered):                   0.833\n",
      "Model:                            OLS   Adj. R-squared (uncentered):              0.833\n",
      "Method:                 Least Squares   F-statistic:                          2.245e+04\n",
      "Date:                Mon, 23 Mar 2020   Prob (F-statistic):                        0.00\n",
      "Time:                        19:12:55   Log-Likelihood:                         -74024.\n",
      "No. Observations:               31580   AIC:                                  1.481e+05\n",
      "Df Residuals:                   31573   BIC:                                  1.481e+05\n",
      "Df Model:                           7                                                  \n",
      "Covariance Type:            nonrobust                                                  \n",
      "==============================================================================\n",
      "                 coef    std err          t      P>|t|      [0.025      0.975]\n",
      "------------------------------------------------------------------------------\n",
      "Category_1     0.2141      0.008     26.114      0.000       0.198       0.230\n",
      "Category_2     0.0397      0.001     57.140      0.000       0.038       0.041\n",
      "Category_3     0.0096      0.000     70.675      0.000       0.009       0.010\n",
      "Category_4    -0.0029      0.000    -27.004      0.000      -0.003      -0.003\n",
      "Category_5    -0.0022      0.000     -9.216      0.000      -0.003      -0.002\n",
      "Brand          0.0057   6.98e-05     82.124      0.000       0.006       0.006\n",
      "Old_Price      0.0003   2.88e-05     10.803      0.000       0.000       0.000\n",
      "==============================================================================\n",
      "Omnibus:                       47.534   Durbin-Watson:                   0.335\n",
      "Prob(Omnibus):                  0.000   Jarque-Bera (JB):               44.319\n",
      "Skew:                           0.063   Prob(JB):                     2.38e-10\n",
      "Kurtosis:                       2.867   Cond. No.                         286.\n",
      "==============================================================================\n",
      "\n",
      "Warnings:\n",
      "[1] Standard Errors assume that the covariance matrix of the errors is correctly specified.\n"
     ]
    }
   ],
   "source": [
    "import statsmodels.api as sm\n",
    "#линейная регрессия\n",
    "est = sm.OLS(y, X)\n",
    "est = est.fit()\n",
    "print(est.summary())"
   ]
  },
  {
   "cell_type": "code",
   "execution_count": 776,
   "metadata": {},
   "outputs": [
    {
     "data": {
      "text/html": [
       "<div>\n",
       "<style scoped>\n",
       "    .dataframe tbody tr th:only-of-type {\n",
       "        vertical-align: middle;\n",
       "    }\n",
       "\n",
       "    .dataframe tbody tr th {\n",
       "        vertical-align: top;\n",
       "    }\n",
       "\n",
       "    .dataframe thead th {\n",
       "        text-align: right;\n",
       "    }\n",
       "</style>\n",
       "<table border=\"1\" class=\"dataframe\">\n",
       "  <thead>\n",
       "    <tr style=\"text-align: right;\">\n",
       "      <th></th>\n",
       "      <th>Category_1</th>\n",
       "      <th>Category_2</th>\n",
       "      <th>Category_3</th>\n",
       "      <th>Category_4</th>\n",
       "      <th>Category_5</th>\n",
       "      <th>Category_6</th>\n",
       "      <th>Code</th>\n",
       "      <th>Name</th>\n",
       "      <th>Brand</th>\n",
       "      <th>Price</th>\n",
       "      <th>Old_Price</th>\n",
       "      <th>Log_Price</th>\n",
       "    </tr>\n",
       "  </thead>\n",
       "  <tbody>\n",
       "    <tr>\n",
       "      <td>Category_1</td>\n",
       "      <td>1.0</td>\n",
       "      <td>0.3</td>\n",
       "      <td>-0.0</td>\n",
       "      <td>0.1</td>\n",
       "      <td>0.2</td>\n",
       "      <td>-0.0</td>\n",
       "      <td>-0.2</td>\n",
       "      <td>-0.0</td>\n",
       "      <td>-0.0</td>\n",
       "      <td>-0.1</td>\n",
       "      <td>-0.0</td>\n",
       "      <td>-0.2</td>\n",
       "    </tr>\n",
       "    <tr>\n",
       "      <td>Category_2</td>\n",
       "      <td>0.3</td>\n",
       "      <td>1.0</td>\n",
       "      <td>0.1</td>\n",
       "      <td>0.4</td>\n",
       "      <td>0.3</td>\n",
       "      <td>-0.0</td>\n",
       "      <td>-0.2</td>\n",
       "      <td>0.0</td>\n",
       "      <td>-0.1</td>\n",
       "      <td>-0.0</td>\n",
       "      <td>0.0</td>\n",
       "      <td>-0.1</td>\n",
       "    </tr>\n",
       "    <tr>\n",
       "      <td>Category_3</td>\n",
       "      <td>-0.0</td>\n",
       "      <td>0.1</td>\n",
       "      <td>1.0</td>\n",
       "      <td>0.2</td>\n",
       "      <td>0.1</td>\n",
       "      <td>0.0</td>\n",
       "      <td>-0.0</td>\n",
       "      <td>0.2</td>\n",
       "      <td>-0.0</td>\n",
       "      <td>-0.1</td>\n",
       "      <td>-0.0</td>\n",
       "      <td>-0.1</td>\n",
       "    </tr>\n",
       "    <tr>\n",
       "      <td>Category_4</td>\n",
       "      <td>0.1</td>\n",
       "      <td>0.4</td>\n",
       "      <td>0.2</td>\n",
       "      <td>1.0</td>\n",
       "      <td>0.3</td>\n",
       "      <td>-0.1</td>\n",
       "      <td>-0.1</td>\n",
       "      <td>0.1</td>\n",
       "      <td>0.1</td>\n",
       "      <td>-0.1</td>\n",
       "      <td>-0.0</td>\n",
       "      <td>-0.3</td>\n",
       "    </tr>\n",
       "    <tr>\n",
       "      <td>Category_5</td>\n",
       "      <td>0.2</td>\n",
       "      <td>0.3</td>\n",
       "      <td>0.1</td>\n",
       "      <td>0.3</td>\n",
       "      <td>1.0</td>\n",
       "      <td>-0.0</td>\n",
       "      <td>-0.1</td>\n",
       "      <td>0.1</td>\n",
       "      <td>-0.0</td>\n",
       "      <td>-0.1</td>\n",
       "      <td>-0.0</td>\n",
       "      <td>-0.1</td>\n",
       "    </tr>\n",
       "    <tr>\n",
       "      <td>Category_6</td>\n",
       "      <td>-0.0</td>\n",
       "      <td>-0.0</td>\n",
       "      <td>0.0</td>\n",
       "      <td>-0.1</td>\n",
       "      <td>-0.0</td>\n",
       "      <td>1.0</td>\n",
       "      <td>-0.0</td>\n",
       "      <td>-0.0</td>\n",
       "      <td>0.0</td>\n",
       "      <td>0.0</td>\n",
       "      <td>0.0</td>\n",
       "      <td>0.0</td>\n",
       "    </tr>\n",
       "    <tr>\n",
       "      <td>Code</td>\n",
       "      <td>-0.2</td>\n",
       "      <td>-0.2</td>\n",
       "      <td>-0.0</td>\n",
       "      <td>-0.1</td>\n",
       "      <td>-0.1</td>\n",
       "      <td>-0.0</td>\n",
       "      <td>1.0</td>\n",
       "      <td>0.0</td>\n",
       "      <td>0.0</td>\n",
       "      <td>0.1</td>\n",
       "      <td>0.0</td>\n",
       "      <td>0.2</td>\n",
       "    </tr>\n",
       "    <tr>\n",
       "      <td>Name</td>\n",
       "      <td>-0.0</td>\n",
       "      <td>0.0</td>\n",
       "      <td>0.2</td>\n",
       "      <td>0.1</td>\n",
       "      <td>0.1</td>\n",
       "      <td>-0.0</td>\n",
       "      <td>0.0</td>\n",
       "      <td>1.0</td>\n",
       "      <td>-0.0</td>\n",
       "      <td>-0.0</td>\n",
       "      <td>0.0</td>\n",
       "      <td>0.0</td>\n",
       "    </tr>\n",
       "    <tr>\n",
       "      <td>Brand</td>\n",
       "      <td>-0.0</td>\n",
       "      <td>-0.1</td>\n",
       "      <td>-0.0</td>\n",
       "      <td>0.1</td>\n",
       "      <td>-0.0</td>\n",
       "      <td>0.0</td>\n",
       "      <td>0.0</td>\n",
       "      <td>-0.0</td>\n",
       "      <td>1.0</td>\n",
       "      <td>-0.1</td>\n",
       "      <td>-0.0</td>\n",
       "      <td>-0.3</td>\n",
       "    </tr>\n",
       "    <tr>\n",
       "      <td>Price</td>\n",
       "      <td>-0.1</td>\n",
       "      <td>-0.0</td>\n",
       "      <td>-0.1</td>\n",
       "      <td>-0.1</td>\n",
       "      <td>-0.1</td>\n",
       "      <td>0.0</td>\n",
       "      <td>0.1</td>\n",
       "      <td>-0.0</td>\n",
       "      <td>-0.1</td>\n",
       "      <td>1.0</td>\n",
       "      <td>0.1</td>\n",
       "      <td>0.6</td>\n",
       "    </tr>\n",
       "    <tr>\n",
       "      <td>Old_Price</td>\n",
       "      <td>-0.0</td>\n",
       "      <td>0.0</td>\n",
       "      <td>-0.0</td>\n",
       "      <td>-0.0</td>\n",
       "      <td>-0.0</td>\n",
       "      <td>0.0</td>\n",
       "      <td>0.0</td>\n",
       "      <td>0.0</td>\n",
       "      <td>-0.0</td>\n",
       "      <td>0.1</td>\n",
       "      <td>1.0</td>\n",
       "      <td>0.1</td>\n",
       "    </tr>\n",
       "    <tr>\n",
       "      <td>Log_Price</td>\n",
       "      <td>-0.2</td>\n",
       "      <td>-0.1</td>\n",
       "      <td>-0.1</td>\n",
       "      <td>-0.3</td>\n",
       "      <td>-0.1</td>\n",
       "      <td>0.0</td>\n",
       "      <td>0.2</td>\n",
       "      <td>0.0</td>\n",
       "      <td>-0.3</td>\n",
       "      <td>0.6</td>\n",
       "      <td>0.1</td>\n",
       "      <td>1.0</td>\n",
       "    </tr>\n",
       "  </tbody>\n",
       "</table>\n",
       "</div>"
      ],
      "text/plain": [
       "            Category_1  Category_2  Category_3  Category_4  Category_5  \\\n",
       "Category_1         1.0         0.3        -0.0         0.1         0.2   \n",
       "Category_2         0.3         1.0         0.1         0.4         0.3   \n",
       "Category_3        -0.0         0.1         1.0         0.2         0.1   \n",
       "Category_4         0.1         0.4         0.2         1.0         0.3   \n",
       "Category_5         0.2         0.3         0.1         0.3         1.0   \n",
       "Category_6        -0.0        -0.0         0.0        -0.1        -0.0   \n",
       "Code              -0.2        -0.2        -0.0        -0.1        -0.1   \n",
       "Name              -0.0         0.0         0.2         0.1         0.1   \n",
       "Brand             -0.0        -0.1        -0.0         0.1        -0.0   \n",
       "Price             -0.1        -0.0        -0.1        -0.1        -0.1   \n",
       "Old_Price         -0.0         0.0        -0.0        -0.0        -0.0   \n",
       "Log_Price         -0.2        -0.1        -0.1        -0.3        -0.1   \n",
       "\n",
       "            Category_6  Code  Name  Brand  Price  Old_Price  Log_Price  \n",
       "Category_1        -0.0  -0.2  -0.0   -0.0   -0.1       -0.0       -0.2  \n",
       "Category_2        -0.0  -0.2   0.0   -0.1   -0.0        0.0       -0.1  \n",
       "Category_3         0.0  -0.0   0.2   -0.0   -0.1       -0.0       -0.1  \n",
       "Category_4        -0.1  -0.1   0.1    0.1   -0.1       -0.0       -0.3  \n",
       "Category_5        -0.0  -0.1   0.1   -0.0   -0.1       -0.0       -0.1  \n",
       "Category_6         1.0  -0.0  -0.0    0.0    0.0        0.0        0.0  \n",
       "Code              -0.0   1.0   0.0    0.0    0.1        0.0        0.2  \n",
       "Name              -0.0   0.0   1.0   -0.0   -0.0        0.0        0.0  \n",
       "Brand              0.0   0.0  -0.0    1.0   -0.1       -0.0       -0.3  \n",
       "Price              0.0   0.1  -0.0   -0.1    1.0        0.1        0.6  \n",
       "Old_Price          0.0   0.0   0.0   -0.0    0.1        1.0        0.1  \n",
       "Log_Price          0.0   0.2   0.0   -0.3    0.6        0.1        1.0  "
      ]
     },
     "execution_count": 776,
     "metadata": {},
     "output_type": "execute_result"
    }
   ],
   "source": [
    "df_labeled.corr()"
   ]
  },
  {
   "cell_type": "code",
   "execution_count": 763,
   "metadata": {},
   "outputs": [],
   "source": [
    "from sklearn.ensemble import RandomForestRegressor\n",
    "rfr = RandomForestRegressor(random_state=42, max_depth=6, n_estimators=100)"
   ]
  },
  {
   "cell_type": "code",
   "execution_count": 764,
   "metadata": {},
   "outputs": [
    {
     "data": {
      "text/plain": [
       "array([9.16157543e-02, 1.20083720e-01, 2.12430393e-01, 2.91094509e-01,\n",
       "       2.76920334e-02, 2.32530276e-04, 2.54859939e-01, 1.99112049e-03])"
      ]
     },
     "execution_count": 764,
     "metadata": {},
     "output_type": "execute_result"
    }
   ],
   "source": [
    "rfr.fit(X, y)\n",
    "rfr.feature_importances_"
   ]
  },
  {
   "cell_type": "code",
   "execution_count": 765,
   "metadata": {},
   "outputs": [
    {
     "data": {
      "text/plain": [
       "<matplotlib.axes._subplots.AxesSubplot at 0x1c07be1dd08>"
      ]
     },
     "execution_count": 765,
     "metadata": {},
     "output_type": "execute_result"
    },
    {
     "data": {
      "image/png": "[encoded data removed]",
      "text/plain": [
       "<Figure size 864x576 with 1 Axes>"
      ]
     },
     "metadata": {
      "needs_background": "light"
     },
     "output_type": "display_data"
    }
   ],
   "source": [
    "imp = pd.DataFrame(rfr.feature_importances_, index=X.columns, columns=['importance'])\n",
    "imp.sort_values('importance').plot(kind='barh', figsize=(12, 8))"
   ]
  },
  {
   "cell_type": "code",
   "execution_count": 766,
   "metadata": {},
   "outputs": [],
   "source": [
    "from sklearn.model_selection import train_test_split\n",
    "X_train, X_valid, y_train, y_valid = train_test_split(X, y, random_state=42, test_size=0.2)"
   ]
  },
  {
   "cell_type": "code",
   "execution_count": 767,
   "metadata": {},
   "outputs": [
    {
     "data": {
      "text/plain": [
       "RandomForestRegressor(bootstrap=True, criterion='mse', max_depth=6,\n",
       "                      max_features='auto', max_leaf_nodes=None,\n",
       "                      min_impurity_decrease=0.0, min_impurity_split=None,\n",
       "                      min_samples_leaf=1, min_samples_split=2,\n",
       "                      min_weight_fraction_leaf=0.0, n_estimators=100,\n",
       "                      n_jobs=None, oob_score=False, random_state=42, verbose=0,\n",
       "                      warm_start=False)"
      ]
     },
     "execution_count": 767,
     "metadata": {},
     "output_type": "execute_result"
    }
   ],
   "source": [
    "rfr.fit(X_train, y_train)"
   ]
  },
  {
   "cell_type": "code",
   "execution_count": 800,
   "metadata": {},
   "outputs": [
    {
     "data": {
      "text/plain": [
       "1.12"
      ]
     },
     "execution_count": 800,
     "metadata": {},
     "output_type": "execute_result"
    }
   ],
   "source": [
    "rmse = np.sqrt(mean_squared_error(y_valid, rfr.predict(X_valid))).round(2)\n",
    "rmse"
   ]
  },
  {
   "cell_type": "markdown",
   "metadata": {},
   "source": [
    "Посмотрим на примеры построенных прогнозов цен моделью Random Forest"
   ]
  },
  {
   "cell_type": "code",
   "execution_count": 797,
   "metadata": {},
   "outputs": [],
   "source": [
    "prediction = pd.DataFrame()\n",
    "prediction['pred_log'] = rfr.predict(X)\n",
    "prediction['fact_log'] = y.reset_index().Log_Price"
   ]
  },
  {
   "cell_type": "code",
   "execution_count": 798,
   "metadata": {},
   "outputs": [],
   "source": [
    "prediction['pred'] = np.exp(prediction['pred_log'])\n",
    "prediction['fact'] = np.exp(prediction['fact_log'])"
   ]
  },
  {
   "cell_type": "code",
   "execution_count": 799,
   "metadata": {},
   "outputs": [
    {
     "data": {
      "text/html": [
       "<div>\n",
       "<style scoped>\n",
       "    .dataframe tbody tr th:only-of-type {\n",
       "        vertical-align: middle;\n",
       "    }\n",
       "\n",
       "    .dataframe tbody tr th {\n",
       "        vertical-align: top;\n",
       "    }\n",
       "\n",
       "    .dataframe thead th {\n",
       "        text-align: right;\n",
       "    }\n",
       "</style>\n",
       "<table border=\"1\" class=\"dataframe\">\n",
       "  <thead>\n",
       "    <tr style=\"text-align: right;\">\n",
       "      <th></th>\n",
       "      <th>0</th>\n",
       "      <th>1</th>\n",
       "      <th>2</th>\n",
       "      <th>3</th>\n",
       "      <th>4</th>\n",
       "      <th>5</th>\n",
       "      <th>6</th>\n",
       "      <th>7</th>\n",
       "      <th>8</th>\n",
       "      <th>9</th>\n",
       "      <th>10</th>\n",
       "      <th>11</th>\n",
       "      <th>12</th>\n",
       "      <th>13</th>\n",
       "      <th>14</th>\n",
       "      <th>15</th>\n",
       "      <th>16</th>\n",
       "    </tr>\n",
       "  </thead>\n",
       "  <tbody>\n",
       "    <tr>\n",
       "      <td>pred_log</td>\n",
       "      <td>6.9</td>\n",
       "      <td>7.1</td>\n",
       "      <td>6.4</td>\n",
       "      <td>5.2</td>\n",
       "      <td>5.2</td>\n",
       "      <td>5.2</td>\n",
       "      <td>5.2</td>\n",
       "      <td>5.2</td>\n",
       "      <td>5.2</td>\n",
       "      <td>6.0</td>\n",
       "      <td>6.0</td>\n",
       "      <td>5.6</td>\n",
       "      <td>5.6</td>\n",
       "      <td>5.6</td>\n",
       "      <td>6.0</td>\n",
       "      <td>6.0</td>\n",
       "      <td>6.0</td>\n",
       "    </tr>\n",
       "    <tr>\n",
       "      <td>fact_log</td>\n",
       "      <td>8.1</td>\n",
       "      <td>7.0</td>\n",
       "      <td>6.9</td>\n",
       "      <td>5.9</td>\n",
       "      <td>5.9</td>\n",
       "      <td>5.9</td>\n",
       "      <td>5.9</td>\n",
       "      <td>5.9</td>\n",
       "      <td>5.9</td>\n",
       "      <td>5.3</td>\n",
       "      <td>5.8</td>\n",
       "      <td>5.9</td>\n",
       "      <td>4.9</td>\n",
       "      <td>4.7</td>\n",
       "      <td>5.4</td>\n",
       "      <td>5.3</td>\n",
       "      <td>5.7</td>\n",
       "    </tr>\n",
       "    <tr>\n",
       "      <td>pred</td>\n",
       "      <td>976.6</td>\n",
       "      <td>1195.8</td>\n",
       "      <td>589.9</td>\n",
       "      <td>174.4</td>\n",
       "      <td>174.4</td>\n",
       "      <td>174.4</td>\n",
       "      <td>174.4</td>\n",
       "      <td>174.4</td>\n",
       "      <td>174.4</td>\n",
       "      <td>398.8</td>\n",
       "      <td>398.8</td>\n",
       "      <td>283.8</td>\n",
       "      <td>257.9</td>\n",
       "      <td>257.9</td>\n",
       "      <td>398.8</td>\n",
       "      <td>398.8</td>\n",
       "      <td>398.8</td>\n",
       "    </tr>\n",
       "    <tr>\n",
       "      <td>fact</td>\n",
       "      <td>3449.0</td>\n",
       "      <td>1099.0</td>\n",
       "      <td>989.0</td>\n",
       "      <td>369.0</td>\n",
       "      <td>369.0</td>\n",
       "      <td>369.0</td>\n",
       "      <td>369.0</td>\n",
       "      <td>369.0</td>\n",
       "      <td>369.0</td>\n",
       "      <td>199.0</td>\n",
       "      <td>335.0</td>\n",
       "      <td>379.0</td>\n",
       "      <td>129.0</td>\n",
       "      <td>109.0</td>\n",
       "      <td>229.0</td>\n",
       "      <td>199.0</td>\n",
       "      <td>309.0</td>\n",
       "    </tr>\n",
       "  </tbody>\n",
       "</table>\n",
       "</div>"
      ],
      "text/plain": [
       "              0      1     2     3     4     5     6     7     8     9    10  \\\n",
       "pred_log    6.9    7.1   6.4   5.2   5.2   5.2   5.2   5.2   5.2   6.0   6.0   \n",
       "fact_log    8.1    7.0   6.9   5.9   5.9   5.9   5.9   5.9   5.9   5.3   5.8   \n",
       "pred      976.6 1195.8 589.9 174.4 174.4 174.4 174.4 174.4 174.4 398.8 398.8   \n",
       "fact     3449.0 1099.0 989.0 369.0 369.0 369.0 369.0 369.0 369.0 199.0 335.0   \n",
       "\n",
       "            11    12    13    14    15    16  \n",
       "pred_log   5.6   5.6   5.6   6.0   6.0   6.0  \n",
       "fact_log   5.9   4.9   4.7   5.4   5.3   5.7  \n",
       "pred     283.8 257.9 257.9 398.8 398.8 398.8  \n",
       "fact     379.0 129.0 109.0 229.0 199.0 309.0  "
      ]
     },
     "execution_count": 799,
     "metadata": {},
     "output_type": "execute_result"
    }
   ],
   "source": [
    "prediction.head(17).T"
   ]
  },
  {
   "cell_type": "markdown",
   "metadata": {},
   "source": [
    "Линейная модель полученная методом RFR показала неплохие результаты. \n",
    "Заметим, что переменная с типом ритейлера оказалась статистически незначимой, поэтому стоит исключить ее из рассмотрения.\n",
    "Воспользуемся еще методами Lasso и Ridge для сравнения результатов."
   ]
  },
  {
   "cell_type": "code",
   "execution_count": 802,
   "metadata": {},
   "outputs": [],
   "source": [
    "from sklearn.linear_model import LinearRegression, Lasso, Ridge\n",
    "from sklearn.linear_model import LassoCV, RidgeCV"
   ]
  },
  {
   "cell_type": "code",
   "execution_count": 803,
   "metadata": {},
   "outputs": [],
   "source": [
    "lasso_regressor = Lasso(random_state = 1)\n",
    "lasso_regressor.fit(X, y)\n",
    "lasso_predictions = lasso_regressor.predict(X)"
   ]
  },
  {
   "cell_type": "code",
   "execution_count": 805,
   "metadata": {},
   "outputs": [
    {
     "name": "stdout",
     "output_type": "stream",
     "text": [
      "RMSE = 1.56\n"
     ]
    }
   ],
   "source": [
    "rmse = np.sqrt(mean_squared_error(y, lasso_predictions.astype(int))).round(2)\n",
    "print(f'RMSE = {rmse}')"
   ]
  },
  {
   "cell_type": "code",
   "execution_count": 807,
   "metadata": {},
   "outputs": [
    {
     "name": "stdout",
     "output_type": "stream",
     "text": [
      "R^2 = 0.13239170882781393\n"
     ]
    }
   ],
   "source": [
    "score = lasso_regressor.score(X, y)\n",
    "print('R^2 = {}'.format(score))"
   ]
  },
  {
   "cell_type": "code",
   "execution_count": 816,
   "metadata": {},
   "outputs": [],
   "source": [
    "ridge_regressor = Ridge(random_state = 1)\n",
    "ridge_regressor.fit(X, y)\n",
    "ridge_predictor = ridge_regressor.predict(X)"
   ]
  },
  {
   "cell_type": "code",
   "execution_count": 823,
   "metadata": {},
   "outputs": [
    {
     "name": "stdout",
     "output_type": "stream",
     "text": [
      "RMSE = 1.42\n"
     ]
    }
   ],
   "source": [
    "rmse = np.sqrt(mean_squared_error(y, ridge_predictor)).round(2)\n",
    "print(f'RMSE = {rmse}')"
   ]
  },
  {
   "cell_type": "code",
   "execution_count": 824,
   "metadata": {},
   "outputs": [
    {
     "name": "stdout",
     "output_type": "stream",
     "text": [
      "R^2 = 0.17693730637211802\n"
     ]
    }
   ],
   "source": [
    "score = ridge_regressor.score(X, y)\n",
    "print('R^2 = {}'.format(score))"
   ]
  },
  {
   "cell_type": "markdown",
   "metadata": {},
   "source": [
    "Ансамблевый метод Случайный Лес оказался лучше"
   ]
  },
  {
   "cell_type": "markdown",
   "metadata": {},
   "source": [
    "# Выводы\n",
    "В рамках проведенной работы были собраны данные о товарных позициях магазина OBI. Каждая имела следующие характеристики:\n",
    "\n",
    "- Категория товара\n",
    "- Код товара\n",
    "- Название товара\n",
    "- Производитель товара\n",
    "- Цена товара (обновленная)\n",
    "- Старая цена товара\n",
    "- Наличие товара в магазине (на складе)\n",
    "- Ссылка на товар\n",
    "- Дата обновления информации\n",
    "- Регион (Город)\n",
    "\n",
    "Собранные данные были приведены к необходимому для анализа виду. Колонка категорий была разделена на 6 подкатегорий. Некоторые строки решено было удалить. \n",
    "\n",
    "Были построены графики, которые помогли понять природу и количество данных и зависимость данных друг от друга.\n",
    "\n",
    "Данные были кластеризованы методом Kmeans. Количество выделенных кластеров - 6. \n",
    "\n",
    "К имеющимся данным была применена линейная регрессия для предсказания цены автомобиля по имеющимся параметрам. Были рассмотрены 4 модели: OLS, Random Forest, Lasso, Ridge. Лучше всех показала себя модель случайного леса. Полученные коэффициенты в модели говорят нам о том, что главные факторы, влияющие на цену товара - это бренд и подкатегории товара. "
   ]
  }
 ],
 "metadata": {
  "kernelspec": {
   "display_name": "Python 3",
   "language": "python",
   "name": "python3"
  },
  "language_info": {
   "codemirror_mode": {
    "name": "ipython",
    "version": 3
   },
   "file_extension": ".py",
   "mimetype": "text/x-python",
   "name": "python",
   "nbconvert_exporter": "python",
   "pygments_lexer": "ipython3",
   "version": "3.7.6"
  }
 },
 "nbformat": 4,
 "nbformat_minor": 2
}
