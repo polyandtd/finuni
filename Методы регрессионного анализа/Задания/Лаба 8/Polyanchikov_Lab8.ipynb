{
 "cells": [
  {
   "cell_type": "code",
   "execution_count": 1,
   "metadata": {},
   "outputs": [],
   "source": [
    "import pandas as pd\n",
    "%config IPCompleter.greedy = True"
   ]
  },
  {
   "cell_type": "code",
   "execution_count": 2,
   "metadata": {},
   "outputs": [
    {
     "name": "stdout",
     "output_type": "stream",
     "text": [
      "<class 'pandas.core.frame.DataFrame'>\n",
      "RangeIndex: 58 entries, 0 to 57\n",
      "Data columns (total 16 columns):\n",
      "Имя                                              58 non-null object\n",
      "интелект (ПРОГРЕССИВНЫЕ МАТРИЦЫ РАВЕНА)          58 non-null int64\n",
      "психотизм                                        58 non-null object\n",
      "экстраверсия                                     58 non-null object\n",
      "нейротизм                                        58 non-null object\n",
      "тип мышления                                     58 non-null object\n",
      "Креативность                                     58 non-null int64\n",
      "профориентация (тест Климова)                    58 non-null object\n",
      "интересы («Карта интересов» А. Е. Голомштока)    58 non-null object\n",
      "Восприятие информации (автор Ефремцева С. А.)    58 non-null object\n",
      "стиль обучения                                   58 non-null object\n",
      "Мотивация успеха (Автор теста:  Т. Элерс)        58 non-null object\n",
      "воображение (Автор теста:  Исаева Е. Л.)         58 non-null object\n",
      "тревожность                                      58 non-null object\n",
      "память                                           58 non-null int64\n",
      "Профессия                                        58 non-null object\n",
      "dtypes: int64(3), object(13)\n",
      "memory usage: 7.4+ KB\n"
     ]
    }
   ],
   "source": [
    "training = pd.read_excel('mo_train.xlsx')\n",
    "training.info()"
   ]
  },
  {
   "cell_type": "code",
   "execution_count": 3,
   "metadata": {},
   "outputs": [
    {
     "data": {
      "text/html": [
       "<div>\n",
       "<style scoped>\n",
       "    .dataframe tbody tr th:only-of-type {\n",
       "        vertical-align: middle;\n",
       "    }\n",
       "\n",
       "    .dataframe tbody tr th {\n",
       "        vertical-align: top;\n",
       "    }\n",
       "\n",
       "    .dataframe thead th {\n",
       "        text-align: right;\n",
       "    }\n",
       "</style>\n",
       "<table border=\"1\" class=\"dataframe\">\n",
       "  <thead>\n",
       "    <tr style=\"text-align: right;\">\n",
       "      <th></th>\n",
       "      <th>Имя</th>\n",
       "      <th>интелект (ПРОГРЕССИВНЫЕ МАТРИЦЫ РАВЕНА)</th>\n",
       "      <th>психотизм</th>\n",
       "      <th>экстраверсия</th>\n",
       "      <th>нейротизм</th>\n",
       "      <th>тип мышления</th>\n",
       "      <th>Креативность</th>\n",
       "      <th>профориентация (тест Климова)</th>\n",
       "      <th>интересы («Карта интересов» А. Е. Голомштока)</th>\n",
       "      <th>Восприятие информации (автор Ефремцева С. А.)</th>\n",
       "      <th>стиль обучения</th>\n",
       "      <th>Мотивация успеха (Автор теста:  Т. Элерс)</th>\n",
       "      <th>воображение (Автор теста:  Исаева Е. Л.)</th>\n",
       "      <th>тревожность</th>\n",
       "      <th>память</th>\n",
       "      <th>Профессия</th>\n",
       "    </tr>\n",
       "  </thead>\n",
       "  <tbody>\n",
       "    <tr>\n",
       "      <td>0</td>\n",
       "      <td>user1</td>\n",
       "      <td>80</td>\n",
       "      <td>низкий</td>\n",
       "      <td>низкий</td>\n",
       "      <td>низкий</td>\n",
       "      <td>Образное</td>\n",
       "      <td>80</td>\n",
       "      <td>человек</td>\n",
       "      <td>Физика, математика</td>\n",
       "      <td>визуал</td>\n",
       "      <td>Деятель</td>\n",
       "      <td>низкий</td>\n",
       "      <td>средний</td>\n",
       "      <td>средний</td>\n",
       "      <td>3</td>\n",
       "      <td>Программист</td>\n",
       "    </tr>\n",
       "    <tr>\n",
       "      <td>1</td>\n",
       "      <td>user2</td>\n",
       "      <td>65</td>\n",
       "      <td>средний</td>\n",
       "      <td>средний</td>\n",
       "      <td>средний</td>\n",
       "      <td>Символическое</td>\n",
       "      <td>65</td>\n",
       "      <td>природа</td>\n",
       "      <td>Физика, математика</td>\n",
       "      <td>аудиал</td>\n",
       "      <td>Мыслитель</td>\n",
       "      <td>средний</td>\n",
       "      <td>средний</td>\n",
       "      <td>средний</td>\n",
       "      <td>5</td>\n",
       "      <td>Мультимедия</td>\n",
       "    </tr>\n",
       "    <tr>\n",
       "      <td>2</td>\n",
       "      <td>user3</td>\n",
       "      <td>85</td>\n",
       "      <td>высокий</td>\n",
       "      <td>высокий</td>\n",
       "      <td>высокий</td>\n",
       "      <td>Знаковое</td>\n",
       "      <td>85</td>\n",
       "      <td>техника</td>\n",
       "      <td>Туризм</td>\n",
       "      <td>кинестетик</td>\n",
       "      <td>Теоретик</td>\n",
       "      <td>высокий</td>\n",
       "      <td>высокий</td>\n",
       "      <td>высокий</td>\n",
       "      <td>3</td>\n",
       "      <td>Программист</td>\n",
       "    </tr>\n",
       "    <tr>\n",
       "      <td>3</td>\n",
       "      <td>user4</td>\n",
       "      <td>46</td>\n",
       "      <td>средний</td>\n",
       "      <td>средний</td>\n",
       "      <td>средний</td>\n",
       "      <td>Образное</td>\n",
       "      <td>46</td>\n",
       "      <td>знак</td>\n",
       "      <td>Информационные технологии</td>\n",
       "      <td>визуал</td>\n",
       "      <td>Прагматик</td>\n",
       "      <td>средний</td>\n",
       "      <td>низкий</td>\n",
       "      <td>низкий</td>\n",
       "      <td>4</td>\n",
       "      <td>Системный админ</td>\n",
       "    </tr>\n",
       "    <tr>\n",
       "      <td>4</td>\n",
       "      <td>user5</td>\n",
       "      <td>62</td>\n",
       "      <td>средний</td>\n",
       "      <td>средний</td>\n",
       "      <td>средний</td>\n",
       "      <td>Предметное</td>\n",
       "      <td>62</td>\n",
       "      <td>художник</td>\n",
       "      <td>Инженерно-техническая сфера</td>\n",
       "      <td>аудиал</td>\n",
       "      <td>Деятель</td>\n",
       "      <td>средний</td>\n",
       "      <td>средний</td>\n",
       "      <td>средний</td>\n",
       "      <td>4</td>\n",
       "      <td>Системный админ</td>\n",
       "    </tr>\n",
       "  </tbody>\n",
       "</table>\n",
       "</div>"
      ],
      "text/plain": [
       "     Имя  интелект (ПРОГРЕССИВНЫЕ МАТРИЦЫ РАВЕНА) психотизм экстраверсия  \\\n",
       "0  user1                                       80    низкий       низкий   \n",
       "1  user2                                       65   средний      средний   \n",
       "2  user3                                       85   высокий      высокий   \n",
       "3  user4                                       46   средний      средний   \n",
       "4  user5                                       62   средний      средний   \n",
       "\n",
       "  нейротизм   тип мышления  Креативность профориентация (тест Климова)  \\\n",
       "0    низкий       Образное            80                       человек   \n",
       "1   средний  Символическое            65                       природа   \n",
       "2   высокий       Знаковое            85                       техника   \n",
       "3   средний       Образное            46                          знак   \n",
       "4   средний     Предметное            62                      художник   \n",
       "\n",
       "  интересы («Карта интересов» А. Е. Голомштока)  \\\n",
       "0                            Физика, математика   \n",
       "1                            Физика, математика   \n",
       "2                                        Туризм   \n",
       "3                     Информационные технологии   \n",
       "4                   Инженерно-техническая сфера   \n",
       "\n",
       "  Восприятие информации (автор Ефремцева С. А.) стиль обучения  \\\n",
       "0                                        визуал        Деятель   \n",
       "1                                        аудиал      Мыслитель   \n",
       "2                                    кинестетик       Теоретик   \n",
       "3                                        визуал      Прагматик   \n",
       "4                                        аудиал        Деятель   \n",
       "\n",
       "  Мотивация успеха (Автор теста:  Т. Элерс)  \\\n",
       "0                                    низкий   \n",
       "1                                   средний   \n",
       "2                                   высокий   \n",
       "3                                   средний   \n",
       "4                                   средний   \n",
       "\n",
       "  воображение (Автор теста:  Исаева Е. Л.) тревожность  память   \\\n",
       "0                                  средний     средний        3   \n",
       "1                                  средний     средний        5   \n",
       "2                                  высокий     высокий        3   \n",
       "3                                   низкий      низкий        4   \n",
       "4                                  средний     средний        4   \n",
       "\n",
       "         Профессия  \n",
       "0      Программист  \n",
       "1      Мультимедия  \n",
       "2      Программист  \n",
       "3  Системный админ  \n",
       "4  Системный админ  "
      ]
     },
     "execution_count": 3,
     "metadata": {},
     "output_type": "execute_result"
    }
   ],
   "source": [
    "training.head()"
   ]
  },
  {
   "cell_type": "code",
   "execution_count": 4,
   "metadata": {},
   "outputs": [],
   "source": [
    "training.columns = ['name', 'intel', 'psycho', 'extra', 'neuro', 'type', 'creat', 'prof', 'interest', 'feel', 'style', \n",
    "                    'motiv', 'imaginary', 'fear', 'memory', 'target']"
   ]
  },
  {
   "cell_type": "code",
   "execution_count": 5,
   "metadata": {},
   "outputs": [],
   "source": [
    "traindex = training.name"
   ]
  },
  {
   "cell_type": "code",
   "execution_count": 6,
   "metadata": {},
   "outputs": [
    {
     "data": {
      "text/plain": [
       "Системный админ    28\n",
       "Мультимедия        18\n",
       "Программист        12\n",
       "Name: target, dtype: int64"
      ]
     },
     "execution_count": 6,
     "metadata": {},
     "output_type": "execute_result"
    }
   ],
   "source": [
    "training['target'].value_counts()"
   ]
  },
  {
   "cell_type": "code",
   "execution_count": 7,
   "metadata": {},
   "outputs": [
    {
     "name": "stdout",
     "output_type": "stream",
     "text": [
      "<class 'pandas.core.frame.DataFrame'>\n",
      "RangeIndex: 2366 entries, 0 to 2365\n",
      "Data columns (total 15 columns):\n",
      "Unnamed: 0                                       2366 non-null object\n",
      "интелект (ПРОГРЕССИВНЫЕ МАТРИЦЫ РАВЕНА)          2366 non-null int64\n",
      "психотизм                                        2366 non-null object\n",
      "экстраверсия                                     2366 non-null object\n",
      "нейротизм                                        2366 non-null object\n",
      "тип мышления                                     2366 non-null object\n",
      "Креативность                                     2366 non-null int64\n",
      "профориентация (тест Климова)                    2366 non-null object\n",
      "интересы («Карта интересов» А. Е. Голомштока)    2366 non-null object\n",
      "Восприятие информации (автор Ефремцева С. А.)    2366 non-null object\n",
      "стиль обучения                                   2366 non-null object\n",
      "Мотивация успеха (Автор теста:  Т. Элерс)        2366 non-null object\n",
      "воображение (Автор теста:  Исаева Е. Л.)         2366 non-null object\n",
      "тревожность                                      2366 non-null object\n",
      "память                                           2366 non-null int64\n",
      "dtypes: int64(3), object(12)\n",
      "memory usage: 277.4+ KB\n"
     ]
    }
   ],
   "source": [
    "testing = pd.read_excel('mo_test.xlsx', header=1)\n",
    "testing.info()"
   ]
  },
  {
   "cell_type": "code",
   "execution_count": 8,
   "metadata": {},
   "outputs": [
    {
     "data": {
      "text/plain": [
       "Index(['Unnamed: 0', 'интелект (ПРОГРЕССИВНЫЕ МАТРИЦЫ РАВЕНА)', 'психотизм',\n",
       "       'экстраверсия', 'нейротизм', 'тип мышления', 'Креативность',\n",
       "       'профориентация (тест Климова)',\n",
       "       'интересы («Карта интересов» А. Е. Голомштока)',\n",
       "       'Восприятие информации (автор Ефремцева С. А.)', 'стиль обучения',\n",
       "       'Мотивация успеха (Автор теста:  Т. Элерс)',\n",
       "       'воображение (Автор теста:  Исаева Е. Л.)', 'тревожность', 'память '],\n",
       "      dtype='object')"
      ]
     },
     "execution_count": 8,
     "metadata": {},
     "output_type": "execute_result"
    }
   ],
   "source": [
    "testing.columns"
   ]
  },
  {
   "cell_type": "code",
   "execution_count": 9,
   "metadata": {},
   "outputs": [
    {
     "data": {
      "text/html": [
       "<div>\n",
       "<style scoped>\n",
       "    .dataframe tbody tr th:only-of-type {\n",
       "        vertical-align: middle;\n",
       "    }\n",
       "\n",
       "    .dataframe tbody tr th {\n",
       "        vertical-align: top;\n",
       "    }\n",
       "\n",
       "    .dataframe thead th {\n",
       "        text-align: right;\n",
       "    }\n",
       "</style>\n",
       "<table border=\"1\" class=\"dataframe\">\n",
       "  <thead>\n",
       "    <tr style=\"text-align: right;\">\n",
       "      <th></th>\n",
       "      <th>Unnamed: 0</th>\n",
       "      <th>интелект (ПРОГРЕССИВНЫЕ МАТРИЦЫ РАВЕНА)</th>\n",
       "      <th>психотизм</th>\n",
       "      <th>экстраверсия</th>\n",
       "      <th>нейротизм</th>\n",
       "      <th>тип мышления</th>\n",
       "      <th>Креативность</th>\n",
       "      <th>профориентация (тест Климова)</th>\n",
       "      <th>интересы («Карта интересов» А. Е. Голомштока)</th>\n",
       "      <th>Восприятие информации (автор Ефремцева С. А.)</th>\n",
       "      <th>стиль обучения</th>\n",
       "      <th>Мотивация успеха (Автор теста:  Т. Элерс)</th>\n",
       "      <th>воображение (Автор теста:  Исаева Е. Л.)</th>\n",
       "      <th>тревожность</th>\n",
       "      <th>память</th>\n",
       "    </tr>\n",
       "  </thead>\n",
       "  <tbody>\n",
       "    <tr>\n",
       "      <td>0</td>\n",
       "      <td>user1</td>\n",
       "      <td>80</td>\n",
       "      <td>низкий</td>\n",
       "      <td>низкий</td>\n",
       "      <td>низкий</td>\n",
       "      <td>Знаковое</td>\n",
       "      <td>80</td>\n",
       "      <td>человек</td>\n",
       "      <td>Физика, математика</td>\n",
       "      <td>визуал</td>\n",
       "      <td>Деятель</td>\n",
       "      <td>низкий</td>\n",
       "      <td>низкий</td>\n",
       "      <td>низкий</td>\n",
       "      <td>1</td>\n",
       "    </tr>\n",
       "    <tr>\n",
       "      <td>1</td>\n",
       "      <td>user2</td>\n",
       "      <td>65</td>\n",
       "      <td>средний</td>\n",
       "      <td>средний</td>\n",
       "      <td>средний</td>\n",
       "      <td>Символическое</td>\n",
       "      <td>65</td>\n",
       "      <td>природа</td>\n",
       "      <td>Инженерно-техническая сфера</td>\n",
       "      <td>аудиал</td>\n",
       "      <td>Мыслитель</td>\n",
       "      <td>средний</td>\n",
       "      <td>средний</td>\n",
       "      <td>средний</td>\n",
       "      <td>5</td>\n",
       "    </tr>\n",
       "    <tr>\n",
       "      <td>2</td>\n",
       "      <td>user3</td>\n",
       "      <td>85</td>\n",
       "      <td>высокий</td>\n",
       "      <td>высокий</td>\n",
       "      <td>высокий</td>\n",
       "      <td>Знаковое</td>\n",
       "      <td>85</td>\n",
       "      <td>техника</td>\n",
       "      <td>Инженерно-техническая сфера</td>\n",
       "      <td>кинестетик</td>\n",
       "      <td>Теоретик</td>\n",
       "      <td>высокий</td>\n",
       "      <td>высокий</td>\n",
       "      <td>высокий</td>\n",
       "      <td>3</td>\n",
       "    </tr>\n",
       "    <tr>\n",
       "      <td>3</td>\n",
       "      <td>user4</td>\n",
       "      <td>46</td>\n",
       "      <td>средний</td>\n",
       "      <td>средний</td>\n",
       "      <td>средний</td>\n",
       "      <td>Образное</td>\n",
       "      <td>46</td>\n",
       "      <td>знак</td>\n",
       "      <td>Информационные технологии</td>\n",
       "      <td>визуал</td>\n",
       "      <td>Прагматик</td>\n",
       "      <td>низкий</td>\n",
       "      <td>низкий</td>\n",
       "      <td>низкий</td>\n",
       "      <td>4</td>\n",
       "    </tr>\n",
       "    <tr>\n",
       "      <td>4</td>\n",
       "      <td>user5</td>\n",
       "      <td>62</td>\n",
       "      <td>средний</td>\n",
       "      <td>средний</td>\n",
       "      <td>средний</td>\n",
       "      <td>Предметное</td>\n",
       "      <td>62</td>\n",
       "      <td>художник</td>\n",
       "      <td>Инженерно-техническая сфера</td>\n",
       "      <td>аудиал</td>\n",
       "      <td>Деятель</td>\n",
       "      <td>средний</td>\n",
       "      <td>средний</td>\n",
       "      <td>средний</td>\n",
       "      <td>4</td>\n",
       "    </tr>\n",
       "  </tbody>\n",
       "</table>\n",
       "</div>"
      ],
      "text/plain": [
       "  Unnamed: 0  интелект (ПРОГРЕССИВНЫЕ МАТРИЦЫ РАВЕНА) психотизм экстраверсия  \\\n",
       "0      user1                                       80    низкий       низкий   \n",
       "1      user2                                       65   средний      средний   \n",
       "2      user3                                       85   высокий      высокий   \n",
       "3      user4                                       46   средний      средний   \n",
       "4      user5                                       62   средний      средний   \n",
       "\n",
       "  нейротизм   тип мышления  Креативность профориентация (тест Климова)  \\\n",
       "0    низкий       Знаковое            80                       человек   \n",
       "1   средний  Символическое            65                       природа   \n",
       "2   высокий       Знаковое            85                       техника   \n",
       "3   средний       Образное            46                          знак   \n",
       "4   средний     Предметное            62                      художник   \n",
       "\n",
       "  интересы («Карта интересов» А. Е. Голомштока)  \\\n",
       "0                            Физика, математика   \n",
       "1                   Инженерно-техническая сфера   \n",
       "2                   Инженерно-техническая сфера   \n",
       "3                     Информационные технологии   \n",
       "4                   Инженерно-техническая сфера   \n",
       "\n",
       "  Восприятие информации (автор Ефремцева С. А.) стиль обучения  \\\n",
       "0                                        визуал        Деятель   \n",
       "1                                        аудиал      Мыслитель   \n",
       "2                                    кинестетик       Теоретик   \n",
       "3                                        визуал      Прагматик   \n",
       "4                                        аудиал        Деятель   \n",
       "\n",
       "  Мотивация успеха (Автор теста:  Т. Элерс)  \\\n",
       "0                                    низкий   \n",
       "1                                   средний   \n",
       "2                                   высокий   \n",
       "3                                    низкий   \n",
       "4                                   средний   \n",
       "\n",
       "  воображение (Автор теста:  Исаева Е. Л.) тревожность  память   \n",
       "0                                   низкий      низкий        1  \n",
       "1                                  средний     средний        5  \n",
       "2                                  высокий     высокий        3  \n",
       "3                                   низкий      низкий        4  \n",
       "4                                  средний     средний        4  "
      ]
     },
     "execution_count": 9,
     "metadata": {},
     "output_type": "execute_result"
    }
   ],
   "source": [
    "testing.head()"
   ]
  },
  {
   "cell_type": "code",
   "execution_count": 10,
   "metadata": {},
   "outputs": [],
   "source": [
    "testing.columns = ['name', 'intel', 'psycho', 'extra', 'neuro', 'type', 'creat', 'prof', 'interest', 'feel', 'style', \n",
    "                    'motiv', 'imaginary', 'fear', 'memory']"
   ]
  },
  {
   "cell_type": "code",
   "execution_count": 11,
   "metadata": {},
   "outputs": [],
   "source": [
    "testdex = testing.name"
   ]
  },
  {
   "cell_type": "code",
   "execution_count": 12,
   "metadata": {},
   "outputs": [],
   "source": [
    "training2 = training.copy()"
   ]
  },
  {
   "cell_type": "code",
   "execution_count": 13,
   "metadata": {},
   "outputs": [],
   "source": [
    "training.drop('name', axis=1, inplace=True)\n",
    "testing.drop('name', axis=1, inplace=True)"
   ]
  },
  {
   "cell_type": "code",
   "execution_count": 14,
   "metadata": {},
   "outputs": [],
   "source": [
    "y = training.target\n",
    "training.drop('target', axis=1, inplace=True)"
   ]
  },
  {
   "cell_type": "code",
   "execution_count": 15,
   "metadata": {},
   "outputs": [],
   "source": [
    "from sklearn.preprocessing import LabelEncoder\n",
    "le = LabelEncoder()\n",
    "y = le.fit_transform(y)"
   ]
  },
  {
   "cell_type": "code",
   "execution_count": 16,
   "metadata": {},
   "outputs": [
    {
     "data": {
      "text/plain": [
       "0    1\n",
       "1    0\n",
       "2    1\n",
       "3    2\n",
       "4    2\n",
       "dtype: int32"
      ]
     },
     "execution_count": 16,
     "metadata": {},
     "output_type": "execute_result"
    }
   ],
   "source": [
    "pd.Series(y).head()"
   ]
  },
  {
   "cell_type": "code",
   "execution_count": 17,
   "metadata": {},
   "outputs": [],
   "source": [
    "df = pd.concat([training, testing])"
   ]
  },
  {
   "cell_type": "code",
   "execution_count": 18,
   "metadata": {},
   "outputs": [
    {
     "data": {
      "text/plain": [
       "(2424, 14)"
      ]
     },
     "execution_count": 18,
     "metadata": {},
     "output_type": "execute_result"
    }
   ],
   "source": [
    "df.shape"
   ]
  },
  {
   "cell_type": "code",
   "execution_count": 19,
   "metadata": {},
   "outputs": [
    {
     "data": {
      "text/plain": [
       "Index(['intel', 'psycho', 'extra', 'neuro', 'type', 'creat', 'prof',\n",
       "       'interest', 'feel', 'style', 'motiv', 'imaginary', 'fear', 'memory'],\n",
       "      dtype='object')"
      ]
     },
     "execution_count": 19,
     "metadata": {},
     "output_type": "execute_result"
    }
   ],
   "source": [
    "df.columns"
   ]
  },
  {
   "cell_type": "code",
   "execution_count": 20,
   "metadata": {},
   "outputs": [],
   "source": [
    "graded= ['psycho', 'extra', 'neuro', 'motiv', 'imaginary', 'fear']\n",
    "non_cat = ['intel', 'creat', 'memory']\n",
    "cat = ['type', 'prof', 'interest', 'feel', 'style']"
   ]
  },
  {
   "cell_type": "code",
   "execution_count": 21,
   "metadata": {},
   "outputs": [
    {
     "name": "stdout",
     "output_type": "stream",
     "text": [
      "средний    1561\n",
      "низкий      432\n",
      "высокий     431\n",
      "Name: psycho, dtype: int64\n",
      "средний    1561\n",
      "низкий      432\n",
      "высокий     431\n",
      "Name: extra, dtype: int64\n",
      "средний    1561\n",
      "низкий      432\n",
      "высокий     431\n",
      "Name: neuro, dtype: int64\n",
      "средний    816\n",
      "высокий    807\n",
      "низкий     801\n",
      "Name: motiv, dtype: int64\n",
      "средний    819\n",
      "высокий    807\n",
      "низкий     798\n",
      "Name: imaginary, dtype: int64\n",
      "средний    815\n",
      "высокий    807\n",
      "низкий     802\n",
      "Name: fear, dtype: int64\n"
     ]
    }
   ],
   "source": [
    "for col in graded:\n",
    "    print(df[col].value_counts())"
   ]
  },
  {
   "cell_type": "code",
   "execution_count": 22,
   "metadata": {},
   "outputs": [],
   "source": [
    "df['psycho'] = df['psycho'].map({'низкий': 1, 'средний': 2, 'высокий': 3})\n",
    "df['extra'] = df['extra'].map({'низкий': 1, 'средний': 2, 'высокий': 3})\n",
    "df['neuro'] = df['neuro'].map({'низкий': 1, 'средний': 2, 'высокий': 3})\n",
    "df['motiv'] = df['motiv'].map({'низкий': 1, 'средний': 2, 'высокий': 3})\n",
    "df['imaginary'] = df['imaginary'].map({'низкий': 1, 'средний': 2, 'высокий': 3})\n",
    "df['fear'] = df['fear'].map({'низкий': 1, 'средний': 2, 'высокий': 3})"
   ]
  },
  {
   "cell_type": "code",
   "execution_count": 23,
   "metadata": {},
   "outputs": [
    {
     "data": {
      "text/html": [
       "<div>\n",
       "<style scoped>\n",
       "    .dataframe tbody tr th:only-of-type {\n",
       "        vertical-align: middle;\n",
       "    }\n",
       "\n",
       "    .dataframe tbody tr th {\n",
       "        vertical-align: top;\n",
       "    }\n",
       "\n",
       "    .dataframe thead th {\n",
       "        text-align: right;\n",
       "    }\n",
       "</style>\n",
       "<table border=\"1\" class=\"dataframe\">\n",
       "  <thead>\n",
       "    <tr style=\"text-align: right;\">\n",
       "      <th></th>\n",
       "      <th>name</th>\n",
       "      <th>intel</th>\n",
       "      <th>psycho</th>\n",
       "      <th>extra</th>\n",
       "      <th>neuro</th>\n",
       "      <th>type</th>\n",
       "      <th>creat</th>\n",
       "      <th>prof</th>\n",
       "      <th>interest</th>\n",
       "      <th>feel</th>\n",
       "      <th>style</th>\n",
       "      <th>motiv</th>\n",
       "      <th>imaginary</th>\n",
       "      <th>fear</th>\n",
       "      <th>memory</th>\n",
       "      <th>target</th>\n",
       "    </tr>\n",
       "  </thead>\n",
       "  <tbody>\n",
       "    <tr>\n",
       "      <td>0</td>\n",
       "      <td>user1</td>\n",
       "      <td>80</td>\n",
       "      <td>низкий</td>\n",
       "      <td>низкий</td>\n",
       "      <td>низкий</td>\n",
       "      <td>Образное</td>\n",
       "      <td>80</td>\n",
       "      <td>человек</td>\n",
       "      <td>Физика, математика</td>\n",
       "      <td>визуал</td>\n",
       "      <td>Деятель</td>\n",
       "      <td>низкий</td>\n",
       "      <td>средний</td>\n",
       "      <td>средний</td>\n",
       "      <td>3</td>\n",
       "      <td>Программист</td>\n",
       "    </tr>\n",
       "    <tr>\n",
       "      <td>1</td>\n",
       "      <td>user2</td>\n",
       "      <td>65</td>\n",
       "      <td>средний</td>\n",
       "      <td>средний</td>\n",
       "      <td>средний</td>\n",
       "      <td>Символическое</td>\n",
       "      <td>65</td>\n",
       "      <td>природа</td>\n",
       "      <td>Физика, математика</td>\n",
       "      <td>аудиал</td>\n",
       "      <td>Мыслитель</td>\n",
       "      <td>средний</td>\n",
       "      <td>средний</td>\n",
       "      <td>средний</td>\n",
       "      <td>5</td>\n",
       "      <td>Мультимедия</td>\n",
       "    </tr>\n",
       "    <tr>\n",
       "      <td>2</td>\n",
       "      <td>user3</td>\n",
       "      <td>85</td>\n",
       "      <td>высокий</td>\n",
       "      <td>высокий</td>\n",
       "      <td>высокий</td>\n",
       "      <td>Знаковое</td>\n",
       "      <td>85</td>\n",
       "      <td>техника</td>\n",
       "      <td>Туризм</td>\n",
       "      <td>кинестетик</td>\n",
       "      <td>Теоретик</td>\n",
       "      <td>высокий</td>\n",
       "      <td>высокий</td>\n",
       "      <td>высокий</td>\n",
       "      <td>3</td>\n",
       "      <td>Программист</td>\n",
       "    </tr>\n",
       "    <tr>\n",
       "      <td>3</td>\n",
       "      <td>user4</td>\n",
       "      <td>46</td>\n",
       "      <td>средний</td>\n",
       "      <td>средний</td>\n",
       "      <td>средний</td>\n",
       "      <td>Образное</td>\n",
       "      <td>46</td>\n",
       "      <td>знак</td>\n",
       "      <td>Информационные технологии</td>\n",
       "      <td>визуал</td>\n",
       "      <td>Прагматик</td>\n",
       "      <td>средний</td>\n",
       "      <td>низкий</td>\n",
       "      <td>низкий</td>\n",
       "      <td>4</td>\n",
       "      <td>Системный админ</td>\n",
       "    </tr>\n",
       "    <tr>\n",
       "      <td>4</td>\n",
       "      <td>user5</td>\n",
       "      <td>62</td>\n",
       "      <td>средний</td>\n",
       "      <td>средний</td>\n",
       "      <td>средний</td>\n",
       "      <td>Предметное</td>\n",
       "      <td>62</td>\n",
       "      <td>художник</td>\n",
       "      <td>Инженерно-техническая сфера</td>\n",
       "      <td>аудиал</td>\n",
       "      <td>Деятель</td>\n",
       "      <td>средний</td>\n",
       "      <td>средний</td>\n",
       "      <td>средний</td>\n",
       "      <td>4</td>\n",
       "      <td>Системный админ</td>\n",
       "    </tr>\n",
       "  </tbody>\n",
       "</table>\n",
       "</div>"
      ],
      "text/plain": [
       "    name  intel   psycho    extra    neuro           type  creat      prof  \\\n",
       "0  user1     80   низкий   низкий   низкий       Образное     80   человек   \n",
       "1  user2     65  средний  средний  средний  Символическое     65   природа   \n",
       "2  user3     85  высокий  высокий  высокий       Знаковое     85   техника   \n",
       "3  user4     46  средний  средний  средний       Образное     46      знак   \n",
       "4  user5     62  средний  средний  средний     Предметное     62  художник   \n",
       "\n",
       "                      interest        feel      style    motiv imaginary  \\\n",
       "0           Физика, математика      визуал    Деятель   низкий   средний   \n",
       "1           Физика, математика      аудиал  Мыслитель  средний   средний   \n",
       "2                       Туризм  кинестетик   Теоретик  высокий   высокий   \n",
       "3    Информационные технологии      визуал  Прагматик  средний    низкий   \n",
       "4  Инженерно-техническая сфера      аудиал    Деятель  средний   средний   \n",
       "\n",
       "      fear  memory           target  \n",
       "0  средний       3      Программист  \n",
       "1  средний       5      Мультимедия  \n",
       "2  высокий       3      Программист  \n",
       "3   низкий       4  Системный админ  \n",
       "4  средний       4  Системный админ  "
      ]
     },
     "execution_count": 23,
     "metadata": {},
     "output_type": "execute_result"
    }
   ],
   "source": [
    "training2.head()"
   ]
  },
  {
   "cell_type": "code",
   "execution_count": 24,
   "metadata": {},
   "outputs": [],
   "source": [
    "from sklearn.preprocessing import LabelEncoder\n",
    "le = LabelEncoder()\n",
    "for col in cat:\n",
    "    training2[col] = le.fit_transform(training2[col])"
   ]
  },
  {
   "cell_type": "code",
   "execution_count": 25,
   "metadata": {},
   "outputs": [],
   "source": [
    "training2['psycho'] = training2['psycho'].map({'низкий': 1, 'средний': 2, 'высокий': 3})\n",
    "training2['extra'] = training2['extra'].map({'низкий': 1, 'средний': 2, 'высокий': 3})\n",
    "training2['neuro'] = training2['neuro'].map({'низкий': 1, 'средний': 2, 'высокий': 3})\n",
    "training2['motiv'] = training2['motiv'].map({'низкий': 1, 'средний': 2, 'высокий': 3})\n",
    "training2['imaginary'] = training2['imaginary'].map({'низкий': 1, 'средний': 2, 'высокий': 3})\n",
    "training2['fear'] = training2['fear'].map({'низкий': 1, 'средний': 2, 'высокий': 3})"
   ]
  },
  {
   "cell_type": "code",
   "execution_count": 26,
   "metadata": {},
   "outputs": [
    {
     "data": {
      "text/html": [
       "<div>\n",
       "<style scoped>\n",
       "    .dataframe tbody tr th:only-of-type {\n",
       "        vertical-align: middle;\n",
       "    }\n",
       "\n",
       "    .dataframe tbody tr th {\n",
       "        vertical-align: top;\n",
       "    }\n",
       "\n",
       "    .dataframe thead th {\n",
       "        text-align: right;\n",
       "    }\n",
       "</style>\n",
       "<table border=\"1\" class=\"dataframe\">\n",
       "  <thead>\n",
       "    <tr style=\"text-align: right;\">\n",
       "      <th></th>\n",
       "      <th>name</th>\n",
       "      <th>intel</th>\n",
       "      <th>psycho</th>\n",
       "      <th>extra</th>\n",
       "      <th>neuro</th>\n",
       "      <th>type</th>\n",
       "      <th>creat</th>\n",
       "      <th>prof</th>\n",
       "      <th>interest</th>\n",
       "      <th>feel</th>\n",
       "      <th>style</th>\n",
       "      <th>motiv</th>\n",
       "      <th>imaginary</th>\n",
       "      <th>fear</th>\n",
       "      <th>memory</th>\n",
       "      <th>target</th>\n",
       "    </tr>\n",
       "  </thead>\n",
       "  <tbody>\n",
       "    <tr>\n",
       "      <td>0</td>\n",
       "      <td>user1</td>\n",
       "      <td>80</td>\n",
       "      <td>1</td>\n",
       "      <td>1</td>\n",
       "      <td>1</td>\n",
       "      <td>1</td>\n",
       "      <td>80</td>\n",
       "      <td>4</td>\n",
       "      <td>7</td>\n",
       "      <td>1</td>\n",
       "      <td>0</td>\n",
       "      <td>1</td>\n",
       "      <td>2</td>\n",
       "      <td>2</td>\n",
       "      <td>3</td>\n",
       "      <td>Программист</td>\n",
       "    </tr>\n",
       "    <tr>\n",
       "      <td>1</td>\n",
       "      <td>user2</td>\n",
       "      <td>65</td>\n",
       "      <td>2</td>\n",
       "      <td>2</td>\n",
       "      <td>2</td>\n",
       "      <td>3</td>\n",
       "      <td>65</td>\n",
       "      <td>1</td>\n",
       "      <td>7</td>\n",
       "      <td>0</td>\n",
       "      <td>1</td>\n",
       "      <td>2</td>\n",
       "      <td>2</td>\n",
       "      <td>2</td>\n",
       "      <td>5</td>\n",
       "      <td>Мультимедия</td>\n",
       "    </tr>\n",
       "    <tr>\n",
       "      <td>2</td>\n",
       "      <td>user3</td>\n",
       "      <td>85</td>\n",
       "      <td>3</td>\n",
       "      <td>3</td>\n",
       "      <td>3</td>\n",
       "      <td>0</td>\n",
       "      <td>85</td>\n",
       "      <td>2</td>\n",
       "      <td>5</td>\n",
       "      <td>2</td>\n",
       "      <td>3</td>\n",
       "      <td>3</td>\n",
       "      <td>3</td>\n",
       "      <td>3</td>\n",
       "      <td>3</td>\n",
       "      <td>Программист</td>\n",
       "    </tr>\n",
       "    <tr>\n",
       "      <td>3</td>\n",
       "      <td>user4</td>\n",
       "      <td>46</td>\n",
       "      <td>2</td>\n",
       "      <td>2</td>\n",
       "      <td>2</td>\n",
       "      <td>1</td>\n",
       "      <td>46</td>\n",
       "      <td>0</td>\n",
       "      <td>3</td>\n",
       "      <td>1</td>\n",
       "      <td>2</td>\n",
       "      <td>2</td>\n",
       "      <td>1</td>\n",
       "      <td>1</td>\n",
       "      <td>4</td>\n",
       "      <td>Системный админ</td>\n",
       "    </tr>\n",
       "    <tr>\n",
       "      <td>4</td>\n",
       "      <td>user5</td>\n",
       "      <td>62</td>\n",
       "      <td>2</td>\n",
       "      <td>2</td>\n",
       "      <td>2</td>\n",
       "      <td>2</td>\n",
       "      <td>62</td>\n",
       "      <td>3</td>\n",
       "      <td>2</td>\n",
       "      <td>0</td>\n",
       "      <td>0</td>\n",
       "      <td>2</td>\n",
       "      <td>2</td>\n",
       "      <td>2</td>\n",
       "      <td>4</td>\n",
       "      <td>Системный админ</td>\n",
       "    </tr>\n",
       "  </tbody>\n",
       "</table>\n",
       "</div>"
      ],
      "text/plain": [
       "    name  intel  psycho  extra  neuro  type  creat  prof  interest  feel  \\\n",
       "0  user1     80       1      1      1     1     80     4         7     1   \n",
       "1  user2     65       2      2      2     3     65     1         7     0   \n",
       "2  user3     85       3      3      3     0     85     2         5     2   \n",
       "3  user4     46       2      2      2     1     46     0         3     1   \n",
       "4  user5     62       2      2      2     2     62     3         2     0   \n",
       "\n",
       "   style  motiv  imaginary  fear  memory           target  \n",
       "0      0      1          2     2       3      Программист  \n",
       "1      1      2          2     2       5      Мультимедия  \n",
       "2      3      3          3     3       3      Программист  \n",
       "3      2      2          1     1       4  Системный админ  \n",
       "4      0      2          2     2       4  Системный админ  "
      ]
     },
     "execution_count": 26,
     "metadata": {},
     "output_type": "execute_result"
    }
   ],
   "source": [
    "training2.head()"
   ]
  },
  {
   "cell_type": "code",
   "execution_count": 27,
   "metadata": {},
   "outputs": [],
   "source": [
    "training2.target = le.fit_transform(training2.target)"
   ]
  },
  {
   "cell_type": "code",
   "execution_count": 28,
   "metadata": {},
   "outputs": [
    {
     "data": {
      "text/plain": [
       "target       1.000000\n",
       "interest     0.146229\n",
       "feel         0.124501\n",
       "memory       0.077207\n",
       "motiv        0.076440\n",
       "imaginary    0.066724\n",
       "fear         0.052732\n",
       "style        0.023748\n",
       "type        -0.101479\n",
       "prof        -0.139536\n",
       "neuro       -0.192246\n",
       "extra       -0.192246\n",
       "psycho      -0.192246\n",
       "creat       -0.300590\n",
       "intel       -0.300590\n",
       "Name: target, dtype: float64"
      ]
     },
     "execution_count": 28,
     "metadata": {},
     "output_type": "execute_result"
    }
   ],
   "source": [
    "training2.corr().target.sort_values(ascending=False)"
   ]
  },
  {
   "cell_type": "code",
   "execution_count": 29,
   "metadata": {},
   "outputs": [
    {
     "data": {
      "text/html": [
       "<div>\n",
       "<style scoped>\n",
       "    .dataframe tbody tr th:only-of-type {\n",
       "        vertical-align: middle;\n",
       "    }\n",
       "\n",
       "    .dataframe tbody tr th {\n",
       "        vertical-align: top;\n",
       "    }\n",
       "\n",
       "    .dataframe thead th {\n",
       "        text-align: right;\n",
       "    }\n",
       "</style>\n",
       "<table border=\"1\" class=\"dataframe\">\n",
       "  <thead>\n",
       "    <tr style=\"text-align: right;\">\n",
       "      <th></th>\n",
       "      <th>intel</th>\n",
       "      <th>psycho</th>\n",
       "      <th>extra</th>\n",
       "      <th>neuro</th>\n",
       "      <th>type</th>\n",
       "      <th>creat</th>\n",
       "      <th>prof</th>\n",
       "      <th>interest</th>\n",
       "      <th>feel</th>\n",
       "      <th>style</th>\n",
       "      <th>motiv</th>\n",
       "      <th>imaginary</th>\n",
       "      <th>fear</th>\n",
       "      <th>memory</th>\n",
       "    </tr>\n",
       "  </thead>\n",
       "  <tbody>\n",
       "    <tr>\n",
       "      <td>0</td>\n",
       "      <td>80</td>\n",
       "      <td>1</td>\n",
       "      <td>1</td>\n",
       "      <td>1</td>\n",
       "      <td>Образное</td>\n",
       "      <td>80</td>\n",
       "      <td>человек</td>\n",
       "      <td>Физика, математика</td>\n",
       "      <td>визуал</td>\n",
       "      <td>Деятель</td>\n",
       "      <td>1</td>\n",
       "      <td>2</td>\n",
       "      <td>2</td>\n",
       "      <td>3</td>\n",
       "    </tr>\n",
       "    <tr>\n",
       "      <td>1</td>\n",
       "      <td>65</td>\n",
       "      <td>2</td>\n",
       "      <td>2</td>\n",
       "      <td>2</td>\n",
       "      <td>Символическое</td>\n",
       "      <td>65</td>\n",
       "      <td>природа</td>\n",
       "      <td>Физика, математика</td>\n",
       "      <td>аудиал</td>\n",
       "      <td>Мыслитель</td>\n",
       "      <td>2</td>\n",
       "      <td>2</td>\n",
       "      <td>2</td>\n",
       "      <td>5</td>\n",
       "    </tr>\n",
       "    <tr>\n",
       "      <td>2</td>\n",
       "      <td>85</td>\n",
       "      <td>3</td>\n",
       "      <td>3</td>\n",
       "      <td>3</td>\n",
       "      <td>Знаковое</td>\n",
       "      <td>85</td>\n",
       "      <td>техника</td>\n",
       "      <td>Туризм</td>\n",
       "      <td>кинестетик</td>\n",
       "      <td>Теоретик</td>\n",
       "      <td>3</td>\n",
       "      <td>3</td>\n",
       "      <td>3</td>\n",
       "      <td>3</td>\n",
       "    </tr>\n",
       "    <tr>\n",
       "      <td>3</td>\n",
       "      <td>46</td>\n",
       "      <td>2</td>\n",
       "      <td>2</td>\n",
       "      <td>2</td>\n",
       "      <td>Образное</td>\n",
       "      <td>46</td>\n",
       "      <td>знак</td>\n",
       "      <td>Информационные технологии</td>\n",
       "      <td>визуал</td>\n",
       "      <td>Прагматик</td>\n",
       "      <td>2</td>\n",
       "      <td>1</td>\n",
       "      <td>1</td>\n",
       "      <td>4</td>\n",
       "    </tr>\n",
       "    <tr>\n",
       "      <td>4</td>\n",
       "      <td>62</td>\n",
       "      <td>2</td>\n",
       "      <td>2</td>\n",
       "      <td>2</td>\n",
       "      <td>Предметное</td>\n",
       "      <td>62</td>\n",
       "      <td>художник</td>\n",
       "      <td>Инженерно-техническая сфера</td>\n",
       "      <td>аудиал</td>\n",
       "      <td>Деятель</td>\n",
       "      <td>2</td>\n",
       "      <td>2</td>\n",
       "      <td>2</td>\n",
       "      <td>4</td>\n",
       "    </tr>\n",
       "  </tbody>\n",
       "</table>\n",
       "</div>"
      ],
      "text/plain": [
       "   intel  psycho  extra  neuro           type  creat      prof  \\\n",
       "0     80       1      1      1       Образное     80   человек   \n",
       "1     65       2      2      2  Символическое     65   природа   \n",
       "2     85       3      3      3       Знаковое     85   техника   \n",
       "3     46       2      2      2       Образное     46      знак   \n",
       "4     62       2      2      2     Предметное     62  художник   \n",
       "\n",
       "                      interest        feel      style  motiv  imaginary  fear  \\\n",
       "0           Физика, математика      визуал    Деятель      1          2     2   \n",
       "1           Физика, математика      аудиал  Мыслитель      2          2     2   \n",
       "2                       Туризм  кинестетик   Теоретик      3          3     3   \n",
       "3    Информационные технологии      визуал  Прагматик      2          1     1   \n",
       "4  Инженерно-техническая сфера      аудиал    Деятель      2          2     2   \n",
       "\n",
       "   memory  \n",
       "0       3  \n",
       "1       5  \n",
       "2       3  \n",
       "3       4  \n",
       "4       4  "
      ]
     },
     "execution_count": 29,
     "metadata": {},
     "output_type": "execute_result"
    }
   ],
   "source": [
    "df.head()"
   ]
  },
  {
   "cell_type": "code",
   "execution_count": 30,
   "metadata": {},
   "outputs": [
    {
     "data": {
      "text/plain": [
       "Физика, математика                   358\n",
       "Информационные технологии            316\n",
       "Инженерно-техническая сфера          312\n",
       "Биология, химия                      268\n",
       "Туризм                               239\n",
       "Экономика, финансы                   234\n",
       "Образование                          233\n",
       "Изобразительное искусство, дизайн    233\n",
       "Управление бизнесом                  231\n",
       "Name: interest, dtype: int64"
      ]
     },
     "execution_count": 30,
     "metadata": {},
     "output_type": "execute_result"
    }
   ],
   "source": [
    "df.interest.value_counts()"
   ]
  },
  {
   "cell_type": "code",
   "execution_count": 31,
   "metadata": {},
   "outputs": [],
   "source": [
    "df = pd.get_dummies(df)"
   ]
  },
  {
   "cell_type": "code",
   "execution_count": 32,
   "metadata": {},
   "outputs": [
    {
     "data": {
      "text/plain": [
       "(2424, 34)"
      ]
     },
     "execution_count": 32,
     "metadata": {},
     "output_type": "execute_result"
    }
   ],
   "source": [
    "df.shape"
   ]
  },
  {
   "cell_type": "markdown",
   "metadata": {},
   "source": [
    "# SPLIT"
   ]
  },
  {
   "cell_type": "code",
   "execution_count": 33,
   "metadata": {},
   "outputs": [],
   "source": [
    "from sklearn.model_selection import train_test_split"
   ]
  },
  {
   "cell_type": "code",
   "execution_count": 34,
   "metadata": {},
   "outputs": [],
   "source": [
    "X_train = df[:len(training)]\n",
    "X_test = df[len(training):]"
   ]
  },
  {
   "cell_type": "markdown",
   "metadata": {},
   "source": [
    "# MODEL"
   ]
  },
  {
   "cell_type": "code",
   "execution_count": 35,
   "metadata": {},
   "outputs": [],
   "source": [
    "from sklearn.ensemble import RandomForestClassifier\n",
    "rfc = RandomForestClassifier(random_state=42)"
   ]
  },
  {
   "cell_type": "code",
   "execution_count": 36,
   "metadata": {},
   "outputs": [
    {
     "name": "stderr",
     "output_type": "stream",
     "text": [
      "C:\\Program Files (x86)\\Soft data analyst\\Anaconda\\lib\\site-packages\\sklearn\\ensemble\\forest.py:245: FutureWarning: The default value of n_estimators will change from 10 in version 0.20 to 100 in 0.22.\n",
      "  \"10 in version 0.20 to 100 in 0.22.\", FutureWarning)\n"
     ]
    },
    {
     "data": {
      "text/plain": [
       "RandomForestClassifier(bootstrap=True, class_weight=None, criterion='gini',\n",
       "                       max_depth=None, max_features='auto', max_leaf_nodes=None,\n",
       "                       min_impurity_decrease=0.0, min_impurity_split=None,\n",
       "                       min_samples_leaf=1, min_samples_split=2,\n",
       "                       min_weight_fraction_leaf=0.0, n_estimators=10,\n",
       "                       n_jobs=None, oob_score=False, random_state=42, verbose=0,\n",
       "                       warm_start=False)"
      ]
     },
     "execution_count": 36,
     "metadata": {},
     "output_type": "execute_result"
    }
   ],
   "source": [
    "rfc.fit(X_train, y)"
   ]
  },
  {
   "cell_type": "code",
   "execution_count": 37,
   "metadata": {},
   "outputs": [],
   "source": [
    "from sklearn.model_selection import cross_val_score"
   ]
  },
  {
   "cell_type": "code",
   "execution_count": 38,
   "metadata": {},
   "outputs": [
    {
     "data": {
      "text/plain": [
       "0.6615384615384615"
      ]
     },
     "execution_count": 38,
     "metadata": {},
     "output_type": "execute_result"
    }
   ],
   "source": [
    "cross_val_score(rfc, X_train, y, cv=5).mean()"
   ]
  },
  {
   "cell_type": "code",
   "execution_count": 39,
   "metadata": {},
   "outputs": [
    {
     "data": {
      "text/plain": [
       "array([0.09594759, 0.08355239, 0.0831185 , 0.01936332, 0.11752052,\n",
       "       0.01467577, 0.00451838, 0.03365266, 0.03912321, 0.02371786,\n",
       "       0.0216993 , 0.00891661, 0.04833744, 0.01837175, 0.01277083,\n",
       "       0.03369012, 0.01722093, 0.00861692, 0.01368317, 0.05611534,\n",
       "       0.01194794, 0.00624715, 0.00544234, 0.01207485, 0.01589717,\n",
       "       0.01479394, 0.0412701 , 0.012658  , 0.02967446, 0.02529964,\n",
       "       0.01244715, 0.02340121, 0.        , 0.03423343])"
      ]
     },
     "execution_count": 39,
     "metadata": {},
     "output_type": "execute_result"
    }
   ],
   "source": [
    "rfc.feature_importances_"
   ]
  },
  {
   "cell_type": "code",
   "execution_count": 40,
   "metadata": {},
   "outputs": [
    {
     "data": {
      "text/plain": [
       "<matplotlib.axes._subplots.AxesSubplot at 0x22511a65188>"
      ]
     },
     "execution_count": 40,
     "metadata": {},
     "output_type": "execute_result"
    },
    {
     "data": {
      "image/png": "[encoded data removed]",
      "text/plain": [
       "<Figure size 864x576 with 1 Axes>"
      ]
     },
     "metadata": {
      "needs_background": "light"
     },
     "output_type": "display_data"
    }
   ],
   "source": [
    "%matplotlib inline\n",
    "imp = pd.DataFrame(rfc.feature_importances_, index=X_train.columns, columns=['importance'])\n",
    "imp.sort_values('importance').plot(kind='barh', figsize=(12, 8))"
   ]
  },
  {
   "cell_type": "code",
   "execution_count": 41,
   "metadata": {},
   "outputs": [],
   "source": [
    "y_pred = rfc.predict(X_test)"
   ]
  },
  {
   "cell_type": "code",
   "execution_count": 42,
   "metadata": {},
   "outputs": [],
   "source": [
    "y_pred = le.inverse_transform(y_pred)"
   ]
  },
  {
   "cell_type": "code",
   "execution_count": 43,
   "metadata": {},
   "outputs": [
    {
     "data": {
      "text/plain": [
       "array(['Программист', 'Мультимедия', 'Программист', ...,\n",
       "       'Системный админ', 'Программист', 'Системный админ'], dtype=object)"
      ]
     },
     "execution_count": 43,
     "metadata": {},
     "output_type": "execute_result"
    }
   ],
   "source": [
    "y_pred"
   ]
  },
  {
   "cell_type": "code",
   "execution_count": 44,
   "metadata": {},
   "outputs": [],
   "source": [
    "testing['name'] = testdex\n",
    "testing['profession'] = y_pred"
   ]
  },
  {
   "cell_type": "code",
   "execution_count": 45,
   "metadata": {},
   "outputs": [],
   "source": [
    "testing.columns = ['интелект (ПРОГРЕССИВНЫЕ МАТРИЦЫ РАВЕНА)', 'психотизм',\n",
    "       'экстраверсия', 'нейротизм', 'тип мышления', 'Креативность',\n",
    "       'профориентация (тест Климова)',\n",
    "       'интересы («Карта интересов» А. Е. Голомштока)',\n",
    "       'Восприятие информации (автор Ефремцева С. А.)', 'стиль обучения',\n",
    "       'Мотивация успеха (Автор теста:  Т. Элерс)',\n",
    "       'воображение (Автор теста:  Исаева Е. Л.)', 'тревожность', 'память', 'имя', 'профессия']"
   ]
  },
  {
   "cell_type": "code",
   "execution_count": 46,
   "metadata": {},
   "outputs": [
    {
     "data": {
      "text/html": [
       "<div>\n",
       "<style scoped>\n",
       "    .dataframe tbody tr th:only-of-type {\n",
       "        vertical-align: middle;\n",
       "    }\n",
       "\n",
       "    .dataframe tbody tr th {\n",
       "        vertical-align: top;\n",
       "    }\n",
       "\n",
       "    .dataframe thead th {\n",
       "        text-align: right;\n",
       "    }\n",
       "</style>\n",
       "<table border=\"1\" class=\"dataframe\">\n",
       "  <thead>\n",
       "    <tr style=\"text-align: right;\">\n",
       "      <th></th>\n",
       "      <th>интелект (ПРОГРЕССИВНЫЕ МАТРИЦЫ РАВЕНА)</th>\n",
       "      <th>психотизм</th>\n",
       "      <th>экстраверсия</th>\n",
       "      <th>нейротизм</th>\n",
       "      <th>тип мышления</th>\n",
       "      <th>Креативность</th>\n",
       "      <th>профориентация (тест Климова)</th>\n",
       "      <th>интересы («Карта интересов» А. Е. Голомштока)</th>\n",
       "      <th>Восприятие информации (автор Ефремцева С. А.)</th>\n",
       "      <th>стиль обучения</th>\n",
       "      <th>Мотивация успеха (Автор теста:  Т. Элерс)</th>\n",
       "      <th>воображение (Автор теста:  Исаева Е. Л.)</th>\n",
       "      <th>тревожность</th>\n",
       "      <th>память</th>\n",
       "      <th>имя</th>\n",
       "      <th>профессия</th>\n",
       "    </tr>\n",
       "  </thead>\n",
       "  <tbody>\n",
       "    <tr>\n",
       "      <td>0</td>\n",
       "      <td>80</td>\n",
       "      <td>низкий</td>\n",
       "      <td>низкий</td>\n",
       "      <td>низкий</td>\n",
       "      <td>Знаковое</td>\n",
       "      <td>80</td>\n",
       "      <td>человек</td>\n",
       "      <td>Физика, математика</td>\n",
       "      <td>визуал</td>\n",
       "      <td>Деятель</td>\n",
       "      <td>низкий</td>\n",
       "      <td>низкий</td>\n",
       "      <td>низкий</td>\n",
       "      <td>1</td>\n",
       "      <td>user1</td>\n",
       "      <td>Программист</td>\n",
       "    </tr>\n",
       "    <tr>\n",
       "      <td>1</td>\n",
       "      <td>65</td>\n",
       "      <td>средний</td>\n",
       "      <td>средний</td>\n",
       "      <td>средний</td>\n",
       "      <td>Символическое</td>\n",
       "      <td>65</td>\n",
       "      <td>природа</td>\n",
       "      <td>Инженерно-техническая сфера</td>\n",
       "      <td>аудиал</td>\n",
       "      <td>Мыслитель</td>\n",
       "      <td>средний</td>\n",
       "      <td>средний</td>\n",
       "      <td>средний</td>\n",
       "      <td>5</td>\n",
       "      <td>user2</td>\n",
       "      <td>Мультимедия</td>\n",
       "    </tr>\n",
       "    <tr>\n",
       "      <td>2</td>\n",
       "      <td>85</td>\n",
       "      <td>высокий</td>\n",
       "      <td>высокий</td>\n",
       "      <td>высокий</td>\n",
       "      <td>Знаковое</td>\n",
       "      <td>85</td>\n",
       "      <td>техника</td>\n",
       "      <td>Инженерно-техническая сфера</td>\n",
       "      <td>кинестетик</td>\n",
       "      <td>Теоретик</td>\n",
       "      <td>высокий</td>\n",
       "      <td>высокий</td>\n",
       "      <td>высокий</td>\n",
       "      <td>3</td>\n",
       "      <td>user3</td>\n",
       "      <td>Программист</td>\n",
       "    </tr>\n",
       "    <tr>\n",
       "      <td>3</td>\n",
       "      <td>46</td>\n",
       "      <td>средний</td>\n",
       "      <td>средний</td>\n",
       "      <td>средний</td>\n",
       "      <td>Образное</td>\n",
       "      <td>46</td>\n",
       "      <td>знак</td>\n",
       "      <td>Информационные технологии</td>\n",
       "      <td>визуал</td>\n",
       "      <td>Прагматик</td>\n",
       "      <td>низкий</td>\n",
       "      <td>низкий</td>\n",
       "      <td>низкий</td>\n",
       "      <td>4</td>\n",
       "      <td>user4</td>\n",
       "      <td>Системный админ</td>\n",
       "    </tr>\n",
       "    <tr>\n",
       "      <td>4</td>\n",
       "      <td>62</td>\n",
       "      <td>средний</td>\n",
       "      <td>средний</td>\n",
       "      <td>средний</td>\n",
       "      <td>Предметное</td>\n",
       "      <td>62</td>\n",
       "      <td>художник</td>\n",
       "      <td>Инженерно-техническая сфера</td>\n",
       "      <td>аудиал</td>\n",
       "      <td>Деятель</td>\n",
       "      <td>средний</td>\n",
       "      <td>средний</td>\n",
       "      <td>средний</td>\n",
       "      <td>4</td>\n",
       "      <td>user5</td>\n",
       "      <td>Системный админ</td>\n",
       "    </tr>\n",
       "  </tbody>\n",
       "</table>\n",
       "</div>"
      ],
      "text/plain": [
       "   интелект (ПРОГРЕССИВНЫЕ МАТРИЦЫ РАВЕНА) психотизм экстраверсия нейротизм  \\\n",
       "0                                       80    низкий       низкий    низкий   \n",
       "1                                       65   средний      средний   средний   \n",
       "2                                       85   высокий      высокий   высокий   \n",
       "3                                       46   средний      средний   средний   \n",
       "4                                       62   средний      средний   средний   \n",
       "\n",
       "    тип мышления  Креативность профориентация (тест Климова)  \\\n",
       "0       Знаковое            80                       человек   \n",
       "1  Символическое            65                       природа   \n",
       "2       Знаковое            85                       техника   \n",
       "3       Образное            46                          знак   \n",
       "4     Предметное            62                      художник   \n",
       "\n",
       "  интересы («Карта интересов» А. Е. Голомштока)  \\\n",
       "0                            Физика, математика   \n",
       "1                   Инженерно-техническая сфера   \n",
       "2                   Инженерно-техническая сфера   \n",
       "3                     Информационные технологии   \n",
       "4                   Инженерно-техническая сфера   \n",
       "\n",
       "  Восприятие информации (автор Ефремцева С. А.) стиль обучения  \\\n",
       "0                                        визуал        Деятель   \n",
       "1                                        аудиал      Мыслитель   \n",
       "2                                    кинестетик       Теоретик   \n",
       "3                                        визуал      Прагматик   \n",
       "4                                        аудиал        Деятель   \n",
       "\n",
       "  Мотивация успеха (Автор теста:  Т. Элерс)  \\\n",
       "0                                    низкий   \n",
       "1                                   средний   \n",
       "2                                   высокий   \n",
       "3                                    низкий   \n",
       "4                                   средний   \n",
       "\n",
       "  воображение (Автор теста:  Исаева Е. Л.) тревожность  память    имя  \\\n",
       "0                                   низкий      низкий       1  user1   \n",
       "1                                  средний     средний       5  user2   \n",
       "2                                  высокий     высокий       3  user3   \n",
       "3                                   низкий      низкий       4  user4   \n",
       "4                                  средний     средний       4  user5   \n",
       "\n",
       "         профессия  \n",
       "0      Программист  \n",
       "1      Мультимедия  \n",
       "2      Программист  \n",
       "3  Системный админ  \n",
       "4  Системный админ  "
      ]
     },
     "execution_count": 46,
     "metadata": {},
     "output_type": "execute_result"
    }
   ],
   "source": [
    "testing.head()"
   ]
  },
  {
   "cell_type": "code",
   "execution_count": 47,
   "metadata": {},
   "outputs": [],
   "source": [
    "testing.to_csv('test_result.csv',index=False)"
   ]
  }
 ],
 "metadata": {
  "kernelspec": {
   "display_name": "Python 3",
   "language": "python",
   "name": "python3"
  },
  "language_info": {
   "codemirror_mode": {
    "name": "ipython",
    "version": 3
   },
   "file_extension": ".py",
   "mimetype": "text/x-python",
   "name": "python",
   "nbconvert_exporter": "python",
   "pygments_lexer": "ipython3",
   "version": "3.7.4"
  }
 },
 "nbformat": 4,
 "nbformat_minor": 2
}
