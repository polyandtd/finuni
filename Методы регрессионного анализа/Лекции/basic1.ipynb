{
 "cells": [
  {
   "cell_type": "code",
   "execution_count": 79,
   "metadata": {},
   "outputs": [],
   "source": [
    "import numpy as np\n",
    "import pandas as pd\n",
    "import datetime as dt"
   ]
  },
  {
   "cell_type": "markdown",
   "metadata": {},
   "source": [
    "2.\tИнтерпретируйте данные в ноутбуке через переменную Df"
   ]
  },
  {
   "cell_type": "code",
   "execution_count": 80,
   "metadata": {
    "scrolled": true
   },
   "outputs": [],
   "source": [
    "Df = pd.read_excel('dowork.xlsx')\n"
   ]
  },
  {
   "cell_type": "code",
   "execution_count": 81,
   "metadata": {},
   "outputs": [
    {
     "data": {
      "text/html": [
       "<div>\n",
       "<style scoped>\n",
       "    .dataframe tbody tr th:only-of-type {\n",
       "        vertical-align: middle;\n",
       "    }\n",
       "\n",
       "    .dataframe tbody tr th {\n",
       "        vertical-align: top;\n",
       "    }\n",
       "\n",
       "    .dataframe thead th {\n",
       "        text-align: right;\n",
       "    }\n",
       "</style>\n",
       "<table border=\"1\" class=\"dataframe\">\n",
       "  <thead>\n",
       "    <tr style=\"text-align: right;\">\n",
       "      <th></th>\n",
       "      <th>Name_shop</th>\n",
       "      <th>Data_Start</th>\n",
       "      <th>City</th>\n",
       "      <th>Format</th>\n",
       "      <th>SKU_count</th>\n",
       "    </tr>\n",
       "  </thead>\n",
       "  <tbody>\n",
       "    <tr>\n",
       "      <th>0</th>\n",
       "      <td>рыба&amp;мясо</td>\n",
       "      <td>2001-09-01</td>\n",
       "      <td>Москва</td>\n",
       "      <td>подарки</td>\n",
       "      <td>1000</td>\n",
       "    </tr>\n",
       "    <tr>\n",
       "      <th>1</th>\n",
       "      <td>презент</td>\n",
       "      <td>2011-11-09</td>\n",
       "      <td>Москва</td>\n",
       "      <td>подарки</td>\n",
       "      <td>4500</td>\n",
       "    </tr>\n",
       "    <tr>\n",
       "      <th>2</th>\n",
       "      <td>букшоп</td>\n",
       "      <td>2008-10-12</td>\n",
       "      <td>Москва</td>\n",
       "      <td>книги</td>\n",
       "      <td>400</td>\n",
       "    </tr>\n",
       "    <tr>\n",
       "      <th>3</th>\n",
       "      <td>копоть</td>\n",
       "      <td>2002-02-05</td>\n",
       "      <td>Москва</td>\n",
       "      <td>NaN</td>\n",
       "      <td>1000</td>\n",
       "    </tr>\n",
       "    <tr>\n",
       "      <th>4</th>\n",
       "      <td>ров</td>\n",
       "      <td>2012-12-12</td>\n",
       "      <td>Москва</td>\n",
       "      <td>спортивный</td>\n",
       "      <td>20000</td>\n",
       "    </tr>\n",
       "    <tr>\n",
       "      <th>5</th>\n",
       "      <td>медовец</td>\n",
       "      <td>2003-03-03</td>\n",
       "      <td>Красноярск</td>\n",
       "      <td>спортивный</td>\n",
       "      <td>50000</td>\n",
       "    </tr>\n",
       "    <tr>\n",
       "      <th>6</th>\n",
       "      <td>1мелочь</td>\n",
       "      <td>2017-07-07</td>\n",
       "      <td>Красноярск</td>\n",
       "      <td>NaN</td>\n",
       "      <td>300</td>\n",
       "    </tr>\n",
       "    <tr>\n",
       "      <th>7</th>\n",
       "      <td>кругозор</td>\n",
       "      <td>2000-10-15</td>\n",
       "      <td>Красноярск</td>\n",
       "      <td>книжный</td>\n",
       "      <td>23000</td>\n",
       "    </tr>\n",
       "    <tr>\n",
       "      <th>8</th>\n",
       "      <td>лораз</td>\n",
       "      <td>2001-11-06</td>\n",
       "      <td>Пермь</td>\n",
       "      <td>одежда</td>\n",
       "      <td>5000</td>\n",
       "    </tr>\n",
       "    <tr>\n",
       "      <th>9</th>\n",
       "      <td>Hai</td>\n",
       "      <td>2001-03-20</td>\n",
       "      <td>Пермь</td>\n",
       "      <td>одежда</td>\n",
       "      <td>800</td>\n",
       "    </tr>\n",
       "    <tr>\n",
       "      <th>10</th>\n",
       "      <td>H&amp;L</td>\n",
       "      <td>2001-01-12</td>\n",
       "      <td>Пермь</td>\n",
       "      <td>одежда</td>\n",
       "      <td>600</td>\n",
       "    </tr>\n",
       "  </tbody>\n",
       "</table>\n",
       "</div>"
      ],
      "text/plain": [
       "    Name_shop Data_Start        City      Format  SKU_count\n",
       "0   рыба&мясо 2001-09-01      Москва     подарки       1000\n",
       "1     презент 2011-11-09      Москва     подарки       4500\n",
       "2      букшоп 2008-10-12      Москва       книги        400\n",
       "3      копоть 2002-02-05      Москва         NaN       1000\n",
       "4         ров 2012-12-12      Москва  спортивный      20000\n",
       "5     медовец 2003-03-03  Красноярск  спортивный      50000\n",
       "6     1мелочь 2017-07-07  Красноярск         NaN        300\n",
       "7    кругозор 2000-10-15  Красноярск     книжный      23000\n",
       "8       лораз 2001-11-06       Пермь      одежда       5000\n",
       "9         Hai 2001-03-20       Пермь      одежда        800\n",
       "10        H&L 2001-01-12       Пермь      одежда        600"
      ]
     },
     "execution_count": 81,
     "metadata": {},
     "output_type": "execute_result"
    }
   ],
   "source": [
    "Df"
   ]
  },
  {
   "cell_type": "markdown",
   "metadata": {},
   "source": [
    "3.\tВычислите следующие значения:\n",
    "Df.columns, Df.info(), df.shape, df.dtypes, df.describe()"
   ]
  },
  {
   "cell_type": "code",
   "execution_count": 82,
   "metadata": {},
   "outputs": [
    {
     "data": {
      "text/plain": [
       "Index(['Name_shop', 'Data_Start', 'City', 'Format', 'SKU_count'], dtype='object')"
      ]
     },
     "execution_count": 82,
     "metadata": {},
     "output_type": "execute_result"
    }
   ],
   "source": [
    "Df.columns"
   ]
  },
  {
   "cell_type": "code",
   "execution_count": 83,
   "metadata": {},
   "outputs": [
    {
     "name": "stdout",
     "output_type": "stream",
     "text": [
      "<class 'pandas.core.frame.DataFrame'>\n",
      "RangeIndex: 11 entries, 0 to 10\n",
      "Data columns (total 5 columns):\n",
      "Name_shop     11 non-null object\n",
      "Data_Start    11 non-null datetime64[ns]\n",
      "City          11 non-null object\n",
      "Format        9 non-null object\n",
      "SKU_count     11 non-null int64\n",
      "dtypes: datetime64[ns](1), int64(1), object(3)\n",
      "memory usage: 520.0+ bytes\n"
     ]
    }
   ],
   "source": [
    "Df.info()"
   ]
  },
  {
   "cell_type": "code",
   "execution_count": 84,
   "metadata": {},
   "outputs": [
    {
     "data": {
      "text/plain": [
       "(11, 5)"
      ]
     },
     "execution_count": 84,
     "metadata": {},
     "output_type": "execute_result"
    }
   ],
   "source": [
    "Df.shape"
   ]
  },
  {
   "cell_type": "code",
   "execution_count": 85,
   "metadata": {},
   "outputs": [
    {
     "data": {
      "text/plain": [
       "Name_shop             object\n",
       "Data_Start    datetime64[ns]\n",
       "City                  object\n",
       "Format                object\n",
       "SKU_count              int64\n",
       "dtype: object"
      ]
     },
     "execution_count": 85,
     "metadata": {},
     "output_type": "execute_result"
    }
   ],
   "source": [
    "Df.dtypes"
   ]
  },
  {
   "cell_type": "code",
   "execution_count": 86,
   "metadata": {},
   "outputs": [
    {
     "data": {
      "text/html": [
       "<div>\n",
       "<style scoped>\n",
       "    .dataframe tbody tr th:only-of-type {\n",
       "        vertical-align: middle;\n",
       "    }\n",
       "\n",
       "    .dataframe tbody tr th {\n",
       "        vertical-align: top;\n",
       "    }\n",
       "\n",
       "    .dataframe thead th {\n",
       "        text-align: right;\n",
       "    }\n",
       "</style>\n",
       "<table border=\"1\" class=\"dataframe\">\n",
       "  <thead>\n",
       "    <tr style=\"text-align: right;\">\n",
       "      <th></th>\n",
       "      <th>SKU_count</th>\n",
       "    </tr>\n",
       "  </thead>\n",
       "  <tbody>\n",
       "    <tr>\n",
       "      <th>count</th>\n",
       "      <td>11.000000</td>\n",
       "    </tr>\n",
       "    <tr>\n",
       "      <th>mean</th>\n",
       "      <td>9690.909091</td>\n",
       "    </tr>\n",
       "    <tr>\n",
       "      <th>std</th>\n",
       "      <td>15634.734059</td>\n",
       "    </tr>\n",
       "    <tr>\n",
       "      <th>min</th>\n",
       "      <td>300.000000</td>\n",
       "    </tr>\n",
       "    <tr>\n",
       "      <th>25%</th>\n",
       "      <td>700.000000</td>\n",
       "    </tr>\n",
       "    <tr>\n",
       "      <th>50%</th>\n",
       "      <td>1000.000000</td>\n",
       "    </tr>\n",
       "    <tr>\n",
       "      <th>75%</th>\n",
       "      <td>12500.000000</td>\n",
       "    </tr>\n",
       "    <tr>\n",
       "      <th>max</th>\n",
       "      <td>50000.000000</td>\n",
       "    </tr>\n",
       "  </tbody>\n",
       "</table>\n",
       "</div>"
      ],
      "text/plain": [
       "          SKU_count\n",
       "count     11.000000\n",
       "mean    9690.909091\n",
       "std    15634.734059\n",
       "min      300.000000\n",
       "25%      700.000000\n",
       "50%     1000.000000\n",
       "75%    12500.000000\n",
       "max    50000.000000"
      ]
     },
     "execution_count": 86,
     "metadata": {},
     "output_type": "execute_result"
    }
   ],
   "source": [
    "Df.describe()"
   ]
  },
  {
   "cell_type": "markdown",
   "metadata": {},
   "source": [
    "4.\tДобавьте несколько строк в вашу таблицу."
   ]
  },
  {
   "cell_type": "code",
   "execution_count": 87,
   "metadata": {},
   "outputs": [],
   "source": [
    "Df.loc[len(Df)] = ['Проба',\"2001-11-06\",  'Москва', 'подарки', 111]\n",
    "Df.loc[len(Df)] = ['Раф',\"2011-11-09\",  'Москва', 'кофейня', 100]"
   ]
  },
  {
   "cell_type": "code",
   "execution_count": 88,
   "metadata": {},
   "outputs": [
    {
     "data": {
      "text/html": [
       "<div>\n",
       "<style scoped>\n",
       "    .dataframe tbody tr th:only-of-type {\n",
       "        vertical-align: middle;\n",
       "    }\n",
       "\n",
       "    .dataframe tbody tr th {\n",
       "        vertical-align: top;\n",
       "    }\n",
       "\n",
       "    .dataframe thead th {\n",
       "        text-align: right;\n",
       "    }\n",
       "</style>\n",
       "<table border=\"1\" class=\"dataframe\">\n",
       "  <thead>\n",
       "    <tr style=\"text-align: right;\">\n",
       "      <th></th>\n",
       "      <th>Name_shop</th>\n",
       "      <th>Data_Start</th>\n",
       "      <th>City</th>\n",
       "      <th>Format</th>\n",
       "      <th>SKU_count</th>\n",
       "    </tr>\n",
       "  </thead>\n",
       "  <tbody>\n",
       "    <tr>\n",
       "      <th>0</th>\n",
       "      <td>рыба&amp;мясо</td>\n",
       "      <td>2001-09-01 00:00:00</td>\n",
       "      <td>Москва</td>\n",
       "      <td>подарки</td>\n",
       "      <td>1000</td>\n",
       "    </tr>\n",
       "    <tr>\n",
       "      <th>1</th>\n",
       "      <td>презент</td>\n",
       "      <td>2011-11-09 00:00:00</td>\n",
       "      <td>Москва</td>\n",
       "      <td>подарки</td>\n",
       "      <td>4500</td>\n",
       "    </tr>\n",
       "    <tr>\n",
       "      <th>2</th>\n",
       "      <td>букшоп</td>\n",
       "      <td>2008-10-12 00:00:00</td>\n",
       "      <td>Москва</td>\n",
       "      <td>книги</td>\n",
       "      <td>400</td>\n",
       "    </tr>\n",
       "    <tr>\n",
       "      <th>3</th>\n",
       "      <td>копоть</td>\n",
       "      <td>2002-02-05 00:00:00</td>\n",
       "      <td>Москва</td>\n",
       "      <td>NaN</td>\n",
       "      <td>1000</td>\n",
       "    </tr>\n",
       "    <tr>\n",
       "      <th>4</th>\n",
       "      <td>ров</td>\n",
       "      <td>2012-12-12 00:00:00</td>\n",
       "      <td>Москва</td>\n",
       "      <td>спортивный</td>\n",
       "      <td>20000</td>\n",
       "    </tr>\n",
       "    <tr>\n",
       "      <th>5</th>\n",
       "      <td>медовец</td>\n",
       "      <td>2003-03-03 00:00:00</td>\n",
       "      <td>Красноярск</td>\n",
       "      <td>спортивный</td>\n",
       "      <td>50000</td>\n",
       "    </tr>\n",
       "    <tr>\n",
       "      <th>6</th>\n",
       "      <td>1мелочь</td>\n",
       "      <td>2017-07-07 00:00:00</td>\n",
       "      <td>Красноярск</td>\n",
       "      <td>NaN</td>\n",
       "      <td>300</td>\n",
       "    </tr>\n",
       "    <tr>\n",
       "      <th>7</th>\n",
       "      <td>кругозор</td>\n",
       "      <td>2000-10-15 00:00:00</td>\n",
       "      <td>Красноярск</td>\n",
       "      <td>книжный</td>\n",
       "      <td>23000</td>\n",
       "    </tr>\n",
       "    <tr>\n",
       "      <th>8</th>\n",
       "      <td>лораз</td>\n",
       "      <td>2001-11-06 00:00:00</td>\n",
       "      <td>Пермь</td>\n",
       "      <td>одежда</td>\n",
       "      <td>5000</td>\n",
       "    </tr>\n",
       "    <tr>\n",
       "      <th>9</th>\n",
       "      <td>Hai</td>\n",
       "      <td>2001-03-20 00:00:00</td>\n",
       "      <td>Пермь</td>\n",
       "      <td>одежда</td>\n",
       "      <td>800</td>\n",
       "    </tr>\n",
       "    <tr>\n",
       "      <th>10</th>\n",
       "      <td>H&amp;L</td>\n",
       "      <td>2001-01-12 00:00:00</td>\n",
       "      <td>Пермь</td>\n",
       "      <td>одежда</td>\n",
       "      <td>600</td>\n",
       "    </tr>\n",
       "    <tr>\n",
       "      <th>11</th>\n",
       "      <td>Проба</td>\n",
       "      <td>2001-11-06</td>\n",
       "      <td>Москва</td>\n",
       "      <td>подарки</td>\n",
       "      <td>111</td>\n",
       "    </tr>\n",
       "    <tr>\n",
       "      <th>12</th>\n",
       "      <td>Раф</td>\n",
       "      <td>2011-11-09</td>\n",
       "      <td>Москва</td>\n",
       "      <td>кофейня</td>\n",
       "      <td>100</td>\n",
       "    </tr>\n",
       "  </tbody>\n",
       "</table>\n",
       "</div>"
      ],
      "text/plain": [
       "    Name_shop           Data_Start        City      Format  SKU_count\n",
       "0   рыба&мясо  2001-09-01 00:00:00      Москва     подарки       1000\n",
       "1     презент  2011-11-09 00:00:00      Москва     подарки       4500\n",
       "2      букшоп  2008-10-12 00:00:00      Москва       книги        400\n",
       "3      копоть  2002-02-05 00:00:00      Москва         NaN       1000\n",
       "4         ров  2012-12-12 00:00:00      Москва  спортивный      20000\n",
       "5     медовец  2003-03-03 00:00:00  Красноярск  спортивный      50000\n",
       "6     1мелочь  2017-07-07 00:00:00  Красноярск         NaN        300\n",
       "7    кругозор  2000-10-15 00:00:00  Красноярск     книжный      23000\n",
       "8       лораз  2001-11-06 00:00:00       Пермь      одежда       5000\n",
       "9         Hai  2001-03-20 00:00:00       Пермь      одежда        800\n",
       "10        H&L  2001-01-12 00:00:00       Пермь      одежда        600\n",
       "11      Проба           2001-11-06      Москва     подарки        111\n",
       "12        Раф           2011-11-09      Москва     кофейня        100"
      ]
     },
     "execution_count": 88,
     "metadata": {},
     "output_type": "execute_result"
    }
   ],
   "source": [
    "Df"
   ]
  },
  {
   "cell_type": "markdown",
   "metadata": {},
   "source": [
    "5.\tДобавьте еще один столбец (конкуренты) в вашу таблицу\n"
   ]
  },
  {
   "cell_type": "code",
   "execution_count": 89,
   "metadata": {},
   "outputs": [],
   "source": [
    "Df['Competitors'] = None"
   ]
  },
  {
   "cell_type": "code",
   "execution_count": 90,
   "metadata": {
    "scrolled": true
   },
   "outputs": [
    {
     "data": {
      "text/html": [
       "<div>\n",
       "<style scoped>\n",
       "    .dataframe tbody tr th:only-of-type {\n",
       "        vertical-align: middle;\n",
       "    }\n",
       "\n",
       "    .dataframe tbody tr th {\n",
       "        vertical-align: top;\n",
       "    }\n",
       "\n",
       "    .dataframe thead th {\n",
       "        text-align: right;\n",
       "    }\n",
       "</style>\n",
       "<table border=\"1\" class=\"dataframe\">\n",
       "  <thead>\n",
       "    <tr style=\"text-align: right;\">\n",
       "      <th></th>\n",
       "      <th>Name_shop</th>\n",
       "      <th>Data_Start</th>\n",
       "      <th>City</th>\n",
       "      <th>Format</th>\n",
       "      <th>SKU_count</th>\n",
       "      <th>Competitors</th>\n",
       "    </tr>\n",
       "  </thead>\n",
       "  <tbody>\n",
       "    <tr>\n",
       "      <th>0</th>\n",
       "      <td>рыба&amp;мясо</td>\n",
       "      <td>2001-09-01 00:00:00</td>\n",
       "      <td>Москва</td>\n",
       "      <td>подарки</td>\n",
       "      <td>1000</td>\n",
       "      <td>None</td>\n",
       "    </tr>\n",
       "    <tr>\n",
       "      <th>1</th>\n",
       "      <td>презент</td>\n",
       "      <td>2011-11-09 00:00:00</td>\n",
       "      <td>Москва</td>\n",
       "      <td>подарки</td>\n",
       "      <td>4500</td>\n",
       "      <td>None</td>\n",
       "    </tr>\n",
       "    <tr>\n",
       "      <th>2</th>\n",
       "      <td>букшоп</td>\n",
       "      <td>2008-10-12 00:00:00</td>\n",
       "      <td>Москва</td>\n",
       "      <td>книги</td>\n",
       "      <td>400</td>\n",
       "      <td>None</td>\n",
       "    </tr>\n",
       "    <tr>\n",
       "      <th>3</th>\n",
       "      <td>копоть</td>\n",
       "      <td>2002-02-05 00:00:00</td>\n",
       "      <td>Москва</td>\n",
       "      <td>NaN</td>\n",
       "      <td>1000</td>\n",
       "      <td>None</td>\n",
       "    </tr>\n",
       "    <tr>\n",
       "      <th>4</th>\n",
       "      <td>ров</td>\n",
       "      <td>2012-12-12 00:00:00</td>\n",
       "      <td>Москва</td>\n",
       "      <td>спортивный</td>\n",
       "      <td>20000</td>\n",
       "      <td>None</td>\n",
       "    </tr>\n",
       "    <tr>\n",
       "      <th>5</th>\n",
       "      <td>медовец</td>\n",
       "      <td>2003-03-03 00:00:00</td>\n",
       "      <td>Красноярск</td>\n",
       "      <td>спортивный</td>\n",
       "      <td>50000</td>\n",
       "      <td>None</td>\n",
       "    </tr>\n",
       "    <tr>\n",
       "      <th>6</th>\n",
       "      <td>1мелочь</td>\n",
       "      <td>2017-07-07 00:00:00</td>\n",
       "      <td>Красноярск</td>\n",
       "      <td>NaN</td>\n",
       "      <td>300</td>\n",
       "      <td>None</td>\n",
       "    </tr>\n",
       "    <tr>\n",
       "      <th>7</th>\n",
       "      <td>кругозор</td>\n",
       "      <td>2000-10-15 00:00:00</td>\n",
       "      <td>Красноярск</td>\n",
       "      <td>книжный</td>\n",
       "      <td>23000</td>\n",
       "      <td>None</td>\n",
       "    </tr>\n",
       "    <tr>\n",
       "      <th>8</th>\n",
       "      <td>лораз</td>\n",
       "      <td>2001-11-06 00:00:00</td>\n",
       "      <td>Пермь</td>\n",
       "      <td>одежда</td>\n",
       "      <td>5000</td>\n",
       "      <td>None</td>\n",
       "    </tr>\n",
       "    <tr>\n",
       "      <th>9</th>\n",
       "      <td>Hai</td>\n",
       "      <td>2001-03-20 00:00:00</td>\n",
       "      <td>Пермь</td>\n",
       "      <td>одежда</td>\n",
       "      <td>800</td>\n",
       "      <td>None</td>\n",
       "    </tr>\n",
       "    <tr>\n",
       "      <th>10</th>\n",
       "      <td>H&amp;L</td>\n",
       "      <td>2001-01-12 00:00:00</td>\n",
       "      <td>Пермь</td>\n",
       "      <td>одежда</td>\n",
       "      <td>600</td>\n",
       "      <td>None</td>\n",
       "    </tr>\n",
       "    <tr>\n",
       "      <th>11</th>\n",
       "      <td>Проба</td>\n",
       "      <td>2001-11-06</td>\n",
       "      <td>Москва</td>\n",
       "      <td>подарки</td>\n",
       "      <td>111</td>\n",
       "      <td>None</td>\n",
       "    </tr>\n",
       "    <tr>\n",
       "      <th>12</th>\n",
       "      <td>Раф</td>\n",
       "      <td>2011-11-09</td>\n",
       "      <td>Москва</td>\n",
       "      <td>кофейня</td>\n",
       "      <td>100</td>\n",
       "      <td>None</td>\n",
       "    </tr>\n",
       "  </tbody>\n",
       "</table>\n",
       "</div>"
      ],
      "text/plain": [
       "    Name_shop           Data_Start        City      Format  SKU_count  \\\n",
       "0   рыба&мясо  2001-09-01 00:00:00      Москва     подарки       1000   \n",
       "1     презент  2011-11-09 00:00:00      Москва     подарки       4500   \n",
       "2      букшоп  2008-10-12 00:00:00      Москва       книги        400   \n",
       "3      копоть  2002-02-05 00:00:00      Москва         NaN       1000   \n",
       "4         ров  2012-12-12 00:00:00      Москва  спортивный      20000   \n",
       "5     медовец  2003-03-03 00:00:00  Красноярск  спортивный      50000   \n",
       "6     1мелочь  2017-07-07 00:00:00  Красноярск         NaN        300   \n",
       "7    кругозор  2000-10-15 00:00:00  Красноярск     книжный      23000   \n",
       "8       лораз  2001-11-06 00:00:00       Пермь      одежда       5000   \n",
       "9         Hai  2001-03-20 00:00:00       Пермь      одежда        800   \n",
       "10        H&L  2001-01-12 00:00:00       Пермь      одежда        600   \n",
       "11      Проба           2001-11-06      Москва     подарки        111   \n",
       "12        Раф           2011-11-09      Москва     кофейня        100   \n",
       "\n",
       "   Competitors  \n",
       "0         None  \n",
       "1         None  \n",
       "2         None  \n",
       "3         None  \n",
       "4         None  \n",
       "5         None  \n",
       "6         None  \n",
       "7         None  \n",
       "8         None  \n",
       "9         None  \n",
       "10        None  \n",
       "11        None  \n",
       "12        None  "
      ]
     },
     "execution_count": 90,
     "metadata": {},
     "output_type": "execute_result"
    }
   ],
   "source": [
    "Df"
   ]
  },
  {
   "cell_type": "markdown",
   "metadata": {},
   "source": [
    "6.\tПересохраните созданную таблицу в новый файл и запустите его"
   ]
  },
  {
   "cell_type": "code",
   "execution_count": 91,
   "metadata": {},
   "outputs": [],
   "source": [
    "Df.to_excel('2.xlsx')"
   ]
  },
  {
   "cell_type": "markdown",
   "metadata": {},
   "source": [
    "8.\tСтолбец, где отражается дата открытия магазина сделайте формата datetime"
   ]
  },
  {
   "cell_type": "code",
   "execution_count": 92,
   "metadata": {},
   "outputs": [
    {
     "name": "stderr",
     "output_type": "stream",
     "text": [
      "C:\\Users\\ALYAA\\Anaconda3\\lib\\site-packages\\ipykernel_launcher.py:1: UserWarning: Pandas doesn't allow columns to be created via a new attribute name - see https://pandas.pydata.org/pandas-docs/stable/indexing.html#attribute-access\n",
      "  \"\"\"Entry point for launching an IPython kernel.\n"
     ]
    }
   ],
   "source": [
    "Df.Date_start = Df.Data_Start.apply(pd.to_datetime)"
   ]
  },
  {
   "cell_type": "markdown",
   "metadata": {},
   "source": [
    "9.\tПроверьте правильность переформатирования"
   ]
  },
  {
   "cell_type": "code",
   "execution_count": 93,
   "metadata": {
    "scrolled": true
   },
   "outputs": [
    {
     "data": {
      "text/html": [
       "<div>\n",
       "<style scoped>\n",
       "    .dataframe tbody tr th:only-of-type {\n",
       "        vertical-align: middle;\n",
       "    }\n",
       "\n",
       "    .dataframe tbody tr th {\n",
       "        vertical-align: top;\n",
       "    }\n",
       "\n",
       "    .dataframe thead th {\n",
       "        text-align: right;\n",
       "    }\n",
       "</style>\n",
       "<table border=\"1\" class=\"dataframe\">\n",
       "  <thead>\n",
       "    <tr style=\"text-align: right;\">\n",
       "      <th></th>\n",
       "      <th>Name_shop</th>\n",
       "      <th>Data_Start</th>\n",
       "      <th>City</th>\n",
       "      <th>Format</th>\n",
       "      <th>SKU_count</th>\n",
       "      <th>Competitors</th>\n",
       "    </tr>\n",
       "  </thead>\n",
       "  <tbody>\n",
       "    <tr>\n",
       "      <th>0</th>\n",
       "      <td>рыба&amp;мясо</td>\n",
       "      <td>2001-09-01 00:00:00</td>\n",
       "      <td>Москва</td>\n",
       "      <td>подарки</td>\n",
       "      <td>1000</td>\n",
       "      <td>None</td>\n",
       "    </tr>\n",
       "    <tr>\n",
       "      <th>1</th>\n",
       "      <td>презент</td>\n",
       "      <td>2011-11-09 00:00:00</td>\n",
       "      <td>Москва</td>\n",
       "      <td>подарки</td>\n",
       "      <td>4500</td>\n",
       "      <td>None</td>\n",
       "    </tr>\n",
       "    <tr>\n",
       "      <th>2</th>\n",
       "      <td>букшоп</td>\n",
       "      <td>2008-10-12 00:00:00</td>\n",
       "      <td>Москва</td>\n",
       "      <td>книги</td>\n",
       "      <td>400</td>\n",
       "      <td>None</td>\n",
       "    </tr>\n",
       "    <tr>\n",
       "      <th>3</th>\n",
       "      <td>копоть</td>\n",
       "      <td>2002-02-05 00:00:00</td>\n",
       "      <td>Москва</td>\n",
       "      <td>NaN</td>\n",
       "      <td>1000</td>\n",
       "      <td>None</td>\n",
       "    </tr>\n",
       "    <tr>\n",
       "      <th>4</th>\n",
       "      <td>ров</td>\n",
       "      <td>2012-12-12 00:00:00</td>\n",
       "      <td>Москва</td>\n",
       "      <td>спортивный</td>\n",
       "      <td>20000</td>\n",
       "      <td>None</td>\n",
       "    </tr>\n",
       "    <tr>\n",
       "      <th>5</th>\n",
       "      <td>медовец</td>\n",
       "      <td>2003-03-03 00:00:00</td>\n",
       "      <td>Красноярск</td>\n",
       "      <td>спортивный</td>\n",
       "      <td>50000</td>\n",
       "      <td>None</td>\n",
       "    </tr>\n",
       "    <tr>\n",
       "      <th>6</th>\n",
       "      <td>1мелочь</td>\n",
       "      <td>2017-07-07 00:00:00</td>\n",
       "      <td>Красноярск</td>\n",
       "      <td>NaN</td>\n",
       "      <td>300</td>\n",
       "      <td>None</td>\n",
       "    </tr>\n",
       "    <tr>\n",
       "      <th>7</th>\n",
       "      <td>кругозор</td>\n",
       "      <td>2000-10-15 00:00:00</td>\n",
       "      <td>Красноярск</td>\n",
       "      <td>книжный</td>\n",
       "      <td>23000</td>\n",
       "      <td>None</td>\n",
       "    </tr>\n",
       "    <tr>\n",
       "      <th>8</th>\n",
       "      <td>лораз</td>\n",
       "      <td>2001-11-06 00:00:00</td>\n",
       "      <td>Пермь</td>\n",
       "      <td>одежда</td>\n",
       "      <td>5000</td>\n",
       "      <td>None</td>\n",
       "    </tr>\n",
       "    <tr>\n",
       "      <th>9</th>\n",
       "      <td>Hai</td>\n",
       "      <td>2001-03-20 00:00:00</td>\n",
       "      <td>Пермь</td>\n",
       "      <td>одежда</td>\n",
       "      <td>800</td>\n",
       "      <td>None</td>\n",
       "    </tr>\n",
       "    <tr>\n",
       "      <th>10</th>\n",
       "      <td>H&amp;L</td>\n",
       "      <td>2001-01-12 00:00:00</td>\n",
       "      <td>Пермь</td>\n",
       "      <td>одежда</td>\n",
       "      <td>600</td>\n",
       "      <td>None</td>\n",
       "    </tr>\n",
       "    <tr>\n",
       "      <th>11</th>\n",
       "      <td>Проба</td>\n",
       "      <td>2001-11-06</td>\n",
       "      <td>Москва</td>\n",
       "      <td>подарки</td>\n",
       "      <td>111</td>\n",
       "      <td>None</td>\n",
       "    </tr>\n",
       "    <tr>\n",
       "      <th>12</th>\n",
       "      <td>Раф</td>\n",
       "      <td>2011-11-09</td>\n",
       "      <td>Москва</td>\n",
       "      <td>кофейня</td>\n",
       "      <td>100</td>\n",
       "      <td>None</td>\n",
       "    </tr>\n",
       "  </tbody>\n",
       "</table>\n",
       "</div>"
      ],
      "text/plain": [
       "    Name_shop           Data_Start        City      Format  SKU_count  \\\n",
       "0   рыба&мясо  2001-09-01 00:00:00      Москва     подарки       1000   \n",
       "1     презент  2011-11-09 00:00:00      Москва     подарки       4500   \n",
       "2      букшоп  2008-10-12 00:00:00      Москва       книги        400   \n",
       "3      копоть  2002-02-05 00:00:00      Москва         NaN       1000   \n",
       "4         ров  2012-12-12 00:00:00      Москва  спортивный      20000   \n",
       "5     медовец  2003-03-03 00:00:00  Красноярск  спортивный      50000   \n",
       "6     1мелочь  2017-07-07 00:00:00  Красноярск         NaN        300   \n",
       "7    кругозор  2000-10-15 00:00:00  Красноярск     книжный      23000   \n",
       "8       лораз  2001-11-06 00:00:00       Пермь      одежда       5000   \n",
       "9         Hai  2001-03-20 00:00:00       Пермь      одежда        800   \n",
       "10        H&L  2001-01-12 00:00:00       Пермь      одежда        600   \n",
       "11      Проба           2001-11-06      Москва     подарки        111   \n",
       "12        Раф           2011-11-09      Москва     кофейня        100   \n",
       "\n",
       "   Competitors  \n",
       "0         None  \n",
       "1         None  \n",
       "2         None  \n",
       "3         None  \n",
       "4         None  \n",
       "5         None  \n",
       "6         None  \n",
       "7         None  \n",
       "8         None  \n",
       "9         None  \n",
       "10        None  \n",
       "11        None  \n",
       "12        None  "
      ]
     },
     "execution_count": 93,
     "metadata": {},
     "output_type": "execute_result"
    }
   ],
   "source": [
    "Df"
   ]
  },
  {
   "cell_type": "markdown",
   "metadata": {},
   "source": [
    "10.\tПустые значения столбца Формат поменяйте на Супермаркет"
   ]
  },
  {
   "cell_type": "code",
   "execution_count": 94,
   "metadata": {},
   "outputs": [],
   "source": [
    "Df.Format.fillna('supermar', inplace=True)"
   ]
  },
  {
   "cell_type": "code",
   "execution_count": 95,
   "metadata": {
    "scrolled": true
   },
   "outputs": [
    {
     "data": {
      "text/html": [
       "<div>\n",
       "<style scoped>\n",
       "    .dataframe tbody tr th:only-of-type {\n",
       "        vertical-align: middle;\n",
       "    }\n",
       "\n",
       "    .dataframe tbody tr th {\n",
       "        vertical-align: top;\n",
       "    }\n",
       "\n",
       "    .dataframe thead th {\n",
       "        text-align: right;\n",
       "    }\n",
       "</style>\n",
       "<table border=\"1\" class=\"dataframe\">\n",
       "  <thead>\n",
       "    <tr style=\"text-align: right;\">\n",
       "      <th></th>\n",
       "      <th>Name_shop</th>\n",
       "      <th>Data_Start</th>\n",
       "      <th>City</th>\n",
       "      <th>Format</th>\n",
       "      <th>SKU_count</th>\n",
       "      <th>Competitors</th>\n",
       "    </tr>\n",
       "  </thead>\n",
       "  <tbody>\n",
       "    <tr>\n",
       "      <th>0</th>\n",
       "      <td>рыба&amp;мясо</td>\n",
       "      <td>2001-09-01 00:00:00</td>\n",
       "      <td>Москва</td>\n",
       "      <td>подарки</td>\n",
       "      <td>1000</td>\n",
       "      <td>None</td>\n",
       "    </tr>\n",
       "    <tr>\n",
       "      <th>1</th>\n",
       "      <td>презент</td>\n",
       "      <td>2011-11-09 00:00:00</td>\n",
       "      <td>Москва</td>\n",
       "      <td>подарки</td>\n",
       "      <td>4500</td>\n",
       "      <td>None</td>\n",
       "    </tr>\n",
       "    <tr>\n",
       "      <th>2</th>\n",
       "      <td>букшоп</td>\n",
       "      <td>2008-10-12 00:00:00</td>\n",
       "      <td>Москва</td>\n",
       "      <td>книги</td>\n",
       "      <td>400</td>\n",
       "      <td>None</td>\n",
       "    </tr>\n",
       "    <tr>\n",
       "      <th>3</th>\n",
       "      <td>копоть</td>\n",
       "      <td>2002-02-05 00:00:00</td>\n",
       "      <td>Москва</td>\n",
       "      <td>supermar</td>\n",
       "      <td>1000</td>\n",
       "      <td>None</td>\n",
       "    </tr>\n",
       "    <tr>\n",
       "      <th>4</th>\n",
       "      <td>ров</td>\n",
       "      <td>2012-12-12 00:00:00</td>\n",
       "      <td>Москва</td>\n",
       "      <td>спортивный</td>\n",
       "      <td>20000</td>\n",
       "      <td>None</td>\n",
       "    </tr>\n",
       "    <tr>\n",
       "      <th>5</th>\n",
       "      <td>медовец</td>\n",
       "      <td>2003-03-03 00:00:00</td>\n",
       "      <td>Красноярск</td>\n",
       "      <td>спортивный</td>\n",
       "      <td>50000</td>\n",
       "      <td>None</td>\n",
       "    </tr>\n",
       "    <tr>\n",
       "      <th>6</th>\n",
       "      <td>1мелочь</td>\n",
       "      <td>2017-07-07 00:00:00</td>\n",
       "      <td>Красноярск</td>\n",
       "      <td>supermar</td>\n",
       "      <td>300</td>\n",
       "      <td>None</td>\n",
       "    </tr>\n",
       "    <tr>\n",
       "      <th>7</th>\n",
       "      <td>кругозор</td>\n",
       "      <td>2000-10-15 00:00:00</td>\n",
       "      <td>Красноярск</td>\n",
       "      <td>книжный</td>\n",
       "      <td>23000</td>\n",
       "      <td>None</td>\n",
       "    </tr>\n",
       "    <tr>\n",
       "      <th>8</th>\n",
       "      <td>лораз</td>\n",
       "      <td>2001-11-06 00:00:00</td>\n",
       "      <td>Пермь</td>\n",
       "      <td>одежда</td>\n",
       "      <td>5000</td>\n",
       "      <td>None</td>\n",
       "    </tr>\n",
       "    <tr>\n",
       "      <th>9</th>\n",
       "      <td>Hai</td>\n",
       "      <td>2001-03-20 00:00:00</td>\n",
       "      <td>Пермь</td>\n",
       "      <td>одежда</td>\n",
       "      <td>800</td>\n",
       "      <td>None</td>\n",
       "    </tr>\n",
       "    <tr>\n",
       "      <th>10</th>\n",
       "      <td>H&amp;L</td>\n",
       "      <td>2001-01-12 00:00:00</td>\n",
       "      <td>Пермь</td>\n",
       "      <td>одежда</td>\n",
       "      <td>600</td>\n",
       "      <td>None</td>\n",
       "    </tr>\n",
       "    <tr>\n",
       "      <th>11</th>\n",
       "      <td>Проба</td>\n",
       "      <td>2001-11-06</td>\n",
       "      <td>Москва</td>\n",
       "      <td>подарки</td>\n",
       "      <td>111</td>\n",
       "      <td>None</td>\n",
       "    </tr>\n",
       "    <tr>\n",
       "      <th>12</th>\n",
       "      <td>Раф</td>\n",
       "      <td>2011-11-09</td>\n",
       "      <td>Москва</td>\n",
       "      <td>кофейня</td>\n",
       "      <td>100</td>\n",
       "      <td>None</td>\n",
       "    </tr>\n",
       "  </tbody>\n",
       "</table>\n",
       "</div>"
      ],
      "text/plain": [
       "    Name_shop           Data_Start        City      Format  SKU_count  \\\n",
       "0   рыба&мясо  2001-09-01 00:00:00      Москва     подарки       1000   \n",
       "1     презент  2011-11-09 00:00:00      Москва     подарки       4500   \n",
       "2      букшоп  2008-10-12 00:00:00      Москва       книги        400   \n",
       "3      копоть  2002-02-05 00:00:00      Москва    supermar       1000   \n",
       "4         ров  2012-12-12 00:00:00      Москва  спортивный      20000   \n",
       "5     медовец  2003-03-03 00:00:00  Красноярск  спортивный      50000   \n",
       "6     1мелочь  2017-07-07 00:00:00  Красноярск    supermar        300   \n",
       "7    кругозор  2000-10-15 00:00:00  Красноярск     книжный      23000   \n",
       "8       лораз  2001-11-06 00:00:00       Пермь      одежда       5000   \n",
       "9         Hai  2001-03-20 00:00:00       Пермь      одежда        800   \n",
       "10        H&L  2001-01-12 00:00:00       Пермь      одежда        600   \n",
       "11      Проба           2001-11-06      Москва     подарки        111   \n",
       "12        Раф           2011-11-09      Москва     кофейня        100   \n",
       "\n",
       "   Competitors  \n",
       "0         None  \n",
       "1         None  \n",
       "2         None  \n",
       "3         None  \n",
       "4         None  \n",
       "5         None  \n",
       "6         None  \n",
       "7         None  \n",
       "8         None  \n",
       "9         None  \n",
       "10        None  \n",
       "11        None  \n",
       "12        None  "
      ]
     },
     "execution_count": 95,
     "metadata": {},
     "output_type": "execute_result"
    }
   ],
   "source": [
    "Df"
   ]
  },
  {
   "cell_type": "markdown",
   "metadata": {},
   "source": [
    "11.\tВыведите значения только столбца Формат"
   ]
  },
  {
   "cell_type": "code",
   "execution_count": 96,
   "metadata": {},
   "outputs": [
    {
     "data": {
      "text/plain": [
       "0        подарки\n",
       "1        подарки\n",
       "2          книги\n",
       "3       supermar\n",
       "4     спортивный\n",
       "5     спортивный\n",
       "6       supermar\n",
       "7        книжный\n",
       "8         одежда\n",
       "9         одежда\n",
       "10        одежда\n",
       "11       подарки\n",
       "12       кофейня\n",
       "Name: Format, dtype: object"
      ]
     },
     "execution_count": 96,
     "metadata": {},
     "output_type": "execute_result"
    }
   ],
   "source": [
    "Df['Format']"
   ]
  },
  {
   "cell_type": "markdown",
   "metadata": {},
   "source": [
    "12.\tВыведите значения двух столбцов: название магазина и формат"
   ]
  },
  {
   "cell_type": "code",
   "execution_count": 97,
   "metadata": {},
   "outputs": [
    {
     "data": {
      "text/html": [
       "<div>\n",
       "<style scoped>\n",
       "    .dataframe tbody tr th:only-of-type {\n",
       "        vertical-align: middle;\n",
       "    }\n",
       "\n",
       "    .dataframe tbody tr th {\n",
       "        vertical-align: top;\n",
       "    }\n",
       "\n",
       "    .dataframe thead th {\n",
       "        text-align: right;\n",
       "    }\n",
       "</style>\n",
       "<table border=\"1\" class=\"dataframe\">\n",
       "  <thead>\n",
       "    <tr style=\"text-align: right;\">\n",
       "      <th></th>\n",
       "      <th>Name_shop</th>\n",
       "      <th>Format</th>\n",
       "    </tr>\n",
       "  </thead>\n",
       "  <tbody>\n",
       "    <tr>\n",
       "      <th>0</th>\n",
       "      <td>рыба&amp;мясо</td>\n",
       "      <td>подарки</td>\n",
       "    </tr>\n",
       "    <tr>\n",
       "      <th>1</th>\n",
       "      <td>презент</td>\n",
       "      <td>подарки</td>\n",
       "    </tr>\n",
       "    <tr>\n",
       "      <th>2</th>\n",
       "      <td>букшоп</td>\n",
       "      <td>книги</td>\n",
       "    </tr>\n",
       "    <tr>\n",
       "      <th>3</th>\n",
       "      <td>копоть</td>\n",
       "      <td>supermar</td>\n",
       "    </tr>\n",
       "    <tr>\n",
       "      <th>4</th>\n",
       "      <td>ров</td>\n",
       "      <td>спортивный</td>\n",
       "    </tr>\n",
       "    <tr>\n",
       "      <th>5</th>\n",
       "      <td>медовец</td>\n",
       "      <td>спортивный</td>\n",
       "    </tr>\n",
       "    <tr>\n",
       "      <th>6</th>\n",
       "      <td>1мелочь</td>\n",
       "      <td>supermar</td>\n",
       "    </tr>\n",
       "    <tr>\n",
       "      <th>7</th>\n",
       "      <td>кругозор</td>\n",
       "      <td>книжный</td>\n",
       "    </tr>\n",
       "    <tr>\n",
       "      <th>8</th>\n",
       "      <td>лораз</td>\n",
       "      <td>одежда</td>\n",
       "    </tr>\n",
       "    <tr>\n",
       "      <th>9</th>\n",
       "      <td>Hai</td>\n",
       "      <td>одежда</td>\n",
       "    </tr>\n",
       "    <tr>\n",
       "      <th>10</th>\n",
       "      <td>H&amp;L</td>\n",
       "      <td>одежда</td>\n",
       "    </tr>\n",
       "    <tr>\n",
       "      <th>11</th>\n",
       "      <td>Проба</td>\n",
       "      <td>подарки</td>\n",
       "    </tr>\n",
       "    <tr>\n",
       "      <th>12</th>\n",
       "      <td>Раф</td>\n",
       "      <td>кофейня</td>\n",
       "    </tr>\n",
       "  </tbody>\n",
       "</table>\n",
       "</div>"
      ],
      "text/plain": [
       "    Name_shop      Format\n",
       "0   рыба&мясо     подарки\n",
       "1     презент     подарки\n",
       "2      букшоп       книги\n",
       "3      копоть    supermar\n",
       "4         ров  спортивный\n",
       "5     медовец  спортивный\n",
       "6     1мелочь    supermar\n",
       "7    кругозор     книжный\n",
       "8       лораз      одежда\n",
       "9         Hai      одежда\n",
       "10        H&L      одежда\n",
       "11      Проба     подарки\n",
       "12        Раф     кофейня"
      ]
     },
     "execution_count": 97,
     "metadata": {},
     "output_type": "execute_result"
    }
   ],
   "source": [
    "Df[['Name_shop','Format']]"
   ]
  },
  {
   "cell_type": "markdown",
   "metadata": {},
   "source": [
    "13.\tВыведите только первые строки вашей таблицы "
   ]
  },
  {
   "cell_type": "code",
   "execution_count": 98,
   "metadata": {},
   "outputs": [
    {
     "data": {
      "text/plain": [
       "<bound method NDFrame.head of     Name_shop           Data_Start        City      Format  SKU_count  \\\n",
       "0   рыба&мясо  2001-09-01 00:00:00      Москва     подарки       1000   \n",
       "1     презент  2011-11-09 00:00:00      Москва     подарки       4500   \n",
       "2      букшоп  2008-10-12 00:00:00      Москва       книги        400   \n",
       "3      копоть  2002-02-05 00:00:00      Москва    supermar       1000   \n",
       "4         ров  2012-12-12 00:00:00      Москва  спортивный      20000   \n",
       "5     медовец  2003-03-03 00:00:00  Красноярск  спортивный      50000   \n",
       "6     1мелочь  2017-07-07 00:00:00  Красноярск    supermar        300   \n",
       "7    кругозор  2000-10-15 00:00:00  Красноярск     книжный      23000   \n",
       "8       лораз  2001-11-06 00:00:00       Пермь      одежда       5000   \n",
       "9         Hai  2001-03-20 00:00:00       Пермь      одежда        800   \n",
       "10        H&L  2001-01-12 00:00:00       Пермь      одежда        600   \n",
       "11      Проба           2001-11-06      Москва     подарки        111   \n",
       "12        Раф           2011-11-09      Москва     кофейня        100   \n",
       "\n",
       "   Competitors  \n",
       "0         None  \n",
       "1         None  \n",
       "2         None  \n",
       "3         None  \n",
       "4         None  \n",
       "5         None  \n",
       "6         None  \n",
       "7         None  \n",
       "8         None  \n",
       "9         None  \n",
       "10        None  \n",
       "11        None  \n",
       "12        None  >"
      ]
     },
     "execution_count": 98,
     "metadata": {},
     "output_type": "execute_result"
    }
   ],
   "source": [
    "Df.head"
   ]
  },
  {
   "cell_type": "markdown",
   "metadata": {},
   "source": [
    "14.\tВыведите последние строки вашей таблицы (tail)"
   ]
  },
  {
   "cell_type": "code",
   "execution_count": 99,
   "metadata": {},
   "outputs": [
    {
     "data": {
      "text/plain": [
       "<bound method NDFrame.tail of     Name_shop           Data_Start        City      Format  SKU_count  \\\n",
       "0   рыба&мясо  2001-09-01 00:00:00      Москва     подарки       1000   \n",
       "1     презент  2011-11-09 00:00:00      Москва     подарки       4500   \n",
       "2      букшоп  2008-10-12 00:00:00      Москва       книги        400   \n",
       "3      копоть  2002-02-05 00:00:00      Москва    supermar       1000   \n",
       "4         ров  2012-12-12 00:00:00      Москва  спортивный      20000   \n",
       "5     медовец  2003-03-03 00:00:00  Красноярск  спортивный      50000   \n",
       "6     1мелочь  2017-07-07 00:00:00  Красноярск    supermar        300   \n",
       "7    кругозор  2000-10-15 00:00:00  Красноярск     книжный      23000   \n",
       "8       лораз  2001-11-06 00:00:00       Пермь      одежда       5000   \n",
       "9         Hai  2001-03-20 00:00:00       Пермь      одежда        800   \n",
       "10        H&L  2001-01-12 00:00:00       Пермь      одежда        600   \n",
       "11      Проба           2001-11-06      Москва     подарки        111   \n",
       "12        Раф           2011-11-09      Москва     кофейня        100   \n",
       "\n",
       "   Competitors  \n",
       "0         None  \n",
       "1         None  \n",
       "2         None  \n",
       "3         None  \n",
       "4         None  \n",
       "5         None  \n",
       "6         None  \n",
       "7         None  \n",
       "8         None  \n",
       "9         None  \n",
       "10        None  \n",
       "11        None  \n",
       "12        None  >"
      ]
     },
     "execution_count": 99,
     "metadata": {},
     "output_type": "execute_result"
    }
   ],
   "source": [
    "Df.tail"
   ]
  },
  {
   "cell_type": "markdown",
   "metadata": {},
   "source": [
    "15.\tВыведите первые два значения таблицы"
   ]
  },
  {
   "cell_type": "code",
   "execution_count": 100,
   "metadata": {},
   "outputs": [
    {
     "data": {
      "text/html": [
       "<div>\n",
       "<style scoped>\n",
       "    .dataframe tbody tr th:only-of-type {\n",
       "        vertical-align: middle;\n",
       "    }\n",
       "\n",
       "    .dataframe tbody tr th {\n",
       "        vertical-align: top;\n",
       "    }\n",
       "\n",
       "    .dataframe thead th {\n",
       "        text-align: right;\n",
       "    }\n",
       "</style>\n",
       "<table border=\"1\" class=\"dataframe\">\n",
       "  <thead>\n",
       "    <tr style=\"text-align: right;\">\n",
       "      <th></th>\n",
       "      <th>Name_shop</th>\n",
       "      <th>Data_Start</th>\n",
       "      <th>City</th>\n",
       "      <th>Format</th>\n",
       "      <th>SKU_count</th>\n",
       "      <th>Competitors</th>\n",
       "    </tr>\n",
       "  </thead>\n",
       "  <tbody>\n",
       "    <tr>\n",
       "      <th>0</th>\n",
       "      <td>рыба&amp;мясо</td>\n",
       "      <td>2001-09-01 00:00:00</td>\n",
       "      <td>Москва</td>\n",
       "      <td>подарки</td>\n",
       "      <td>1000</td>\n",
       "      <td>None</td>\n",
       "    </tr>\n",
       "    <tr>\n",
       "      <th>1</th>\n",
       "      <td>презент</td>\n",
       "      <td>2011-11-09 00:00:00</td>\n",
       "      <td>Москва</td>\n",
       "      <td>подарки</td>\n",
       "      <td>4500</td>\n",
       "      <td>None</td>\n",
       "    </tr>\n",
       "  </tbody>\n",
       "</table>\n",
       "</div>"
      ],
      "text/plain": [
       "   Name_shop           Data_Start    City   Format  SKU_count Competitors\n",
       "0  рыба&мясо  2001-09-01 00:00:00  Москва  подарки       1000        None\n",
       "1    презент  2011-11-09 00:00:00  Москва  подарки       4500        None"
      ]
     },
     "execution_count": 100,
     "metadata": {},
     "output_type": "execute_result"
    }
   ],
   "source": [
    "Df.head(2)"
   ]
  },
  {
   "cell_type": "markdown",
   "metadata": {},
   "source": [
    "16.\tВыведите последние три значения таблицы"
   ]
  },
  {
   "cell_type": "code",
   "execution_count": 101,
   "metadata": {},
   "outputs": [
    {
     "data": {
      "text/html": [
       "<div>\n",
       "<style scoped>\n",
       "    .dataframe tbody tr th:only-of-type {\n",
       "        vertical-align: middle;\n",
       "    }\n",
       "\n",
       "    .dataframe tbody tr th {\n",
       "        vertical-align: top;\n",
       "    }\n",
       "\n",
       "    .dataframe thead th {\n",
       "        text-align: right;\n",
       "    }\n",
       "</style>\n",
       "<table border=\"1\" class=\"dataframe\">\n",
       "  <thead>\n",
       "    <tr style=\"text-align: right;\">\n",
       "      <th></th>\n",
       "      <th>Name_shop</th>\n",
       "      <th>Data_Start</th>\n",
       "      <th>City</th>\n",
       "      <th>Format</th>\n",
       "      <th>SKU_count</th>\n",
       "      <th>Competitors</th>\n",
       "    </tr>\n",
       "  </thead>\n",
       "  <tbody>\n",
       "    <tr>\n",
       "      <th>10</th>\n",
       "      <td>H&amp;L</td>\n",
       "      <td>2001-01-12 00:00:00</td>\n",
       "      <td>Пермь</td>\n",
       "      <td>одежда</td>\n",
       "      <td>600</td>\n",
       "      <td>None</td>\n",
       "    </tr>\n",
       "    <tr>\n",
       "      <th>11</th>\n",
       "      <td>Проба</td>\n",
       "      <td>2001-11-06</td>\n",
       "      <td>Москва</td>\n",
       "      <td>подарки</td>\n",
       "      <td>111</td>\n",
       "      <td>None</td>\n",
       "    </tr>\n",
       "    <tr>\n",
       "      <th>12</th>\n",
       "      <td>Раф</td>\n",
       "      <td>2011-11-09</td>\n",
       "      <td>Москва</td>\n",
       "      <td>кофейня</td>\n",
       "      <td>100</td>\n",
       "      <td>None</td>\n",
       "    </tr>\n",
       "  </tbody>\n",
       "</table>\n",
       "</div>"
      ],
      "text/plain": [
       "   Name_shop           Data_Start    City   Format  SKU_count Competitors\n",
       "10       H&L  2001-01-12 00:00:00   Пермь   одежда        600        None\n",
       "11     Проба           2001-11-06  Москва  подарки        111        None\n",
       "12       Раф           2011-11-09  Москва  кофейня        100        None"
      ]
     },
     "execution_count": 101,
     "metadata": {},
     "output_type": "execute_result"
    }
   ],
   "source": [
    "Df.tail(3)"
   ]
  },
  {
   "cell_type": "markdown",
   "metadata": {},
   "source": [
    "17.\tВыведите значение столбцов Название и Город 1,3 и 8 строк таблицы"
   ]
  },
  {
   "cell_type": "code",
   "execution_count": 102,
   "metadata": {},
   "outputs": [
    {
     "data": {
      "text/html": [
       "<div>\n",
       "<style scoped>\n",
       "    .dataframe tbody tr th:only-of-type {\n",
       "        vertical-align: middle;\n",
       "    }\n",
       "\n",
       "    .dataframe tbody tr th {\n",
       "        vertical-align: top;\n",
       "    }\n",
       "\n",
       "    .dataframe thead th {\n",
       "        text-align: right;\n",
       "    }\n",
       "</style>\n",
       "<table border=\"1\" class=\"dataframe\">\n",
       "  <thead>\n",
       "    <tr style=\"text-align: right;\">\n",
       "      <th></th>\n",
       "      <th>Name_shop</th>\n",
       "      <th>City</th>\n",
       "    </tr>\n",
       "  </thead>\n",
       "  <tbody>\n",
       "    <tr>\n",
       "      <th>1</th>\n",
       "      <td>презент</td>\n",
       "      <td>Москва</td>\n",
       "    </tr>\n",
       "    <tr>\n",
       "      <th>3</th>\n",
       "      <td>копоть</td>\n",
       "      <td>Москва</td>\n",
       "    </tr>\n",
       "    <tr>\n",
       "      <th>8</th>\n",
       "      <td>лораз</td>\n",
       "      <td>Пермь</td>\n",
       "    </tr>\n",
       "  </tbody>\n",
       "</table>\n",
       "</div>"
      ],
      "text/plain": [
       "  Name_shop    City\n",
       "1   презент  Москва\n",
       "3    копоть  Москва\n",
       "8     лораз   Пермь"
      ]
     },
     "execution_count": 102,
     "metadata": {},
     "output_type": "execute_result"
    }
   ],
   "source": [
    "Df.loc[[1,3,8],['Name_shop','City']]"
   ]
  },
  {
   "cell_type": "markdown",
   "metadata": {},
   "source": [
    "18.\tВыведите значение столбцов Название и Город 1,3 и 8 строк таблицы, используя только индексы"
   ]
  },
  {
   "cell_type": "code",
   "execution_count": 103,
   "metadata": {},
   "outputs": [
    {
     "data": {
      "text/html": [
       "<div>\n",
       "<style scoped>\n",
       "    .dataframe tbody tr th:only-of-type {\n",
       "        vertical-align: middle;\n",
       "    }\n",
       "\n",
       "    .dataframe tbody tr th {\n",
       "        vertical-align: top;\n",
       "    }\n",
       "\n",
       "    .dataframe thead th {\n",
       "        text-align: right;\n",
       "    }\n",
       "</style>\n",
       "<table border=\"1\" class=\"dataframe\">\n",
       "  <thead>\n",
       "    <tr style=\"text-align: right;\">\n",
       "      <th></th>\n",
       "      <th>Name_shop</th>\n",
       "      <th>Format</th>\n",
       "    </tr>\n",
       "  </thead>\n",
       "  <tbody>\n",
       "    <tr>\n",
       "      <th>1</th>\n",
       "      <td>презент</td>\n",
       "      <td>подарки</td>\n",
       "    </tr>\n",
       "    <tr>\n",
       "      <th>3</th>\n",
       "      <td>копоть</td>\n",
       "      <td>supermar</td>\n",
       "    </tr>\n",
       "    <tr>\n",
       "      <th>8</th>\n",
       "      <td>лораз</td>\n",
       "      <td>одежда</td>\n",
       "    </tr>\n",
       "  </tbody>\n",
       "</table>\n",
       "</div>"
      ],
      "text/plain": [
       "  Name_shop    Format\n",
       "1   презент   подарки\n",
       "3    копоть  supermar\n",
       "8     лораз    одежда"
      ]
     },
     "execution_count": 103,
     "metadata": {},
     "output_type": "execute_result"
    }
   ],
   "source": [
    "Df.iloc[[1,3,8],[0,3]]"
   ]
  },
  {
   "cell_type": "markdown",
   "metadata": {},
   "source": [
    "19.\tВыведите только те строки таблицы, даты создания магазина которых последние «пять» лет "
   ]
  },
  {
   "cell_type": "code",
   "execution_count": 104,
   "metadata": {},
   "outputs": [
    {
     "data": {
      "text/html": [
       "<div>\n",
       "<style scoped>\n",
       "    .dataframe tbody tr th:only-of-type {\n",
       "        vertical-align: middle;\n",
       "    }\n",
       "\n",
       "    .dataframe tbody tr th {\n",
       "        vertical-align: top;\n",
       "    }\n",
       "\n",
       "    .dataframe thead th {\n",
       "        text-align: right;\n",
       "    }\n",
       "</style>\n",
       "<table border=\"1\" class=\"dataframe\">\n",
       "  <thead>\n",
       "    <tr style=\"text-align: right;\">\n",
       "      <th></th>\n",
       "      <th>Name_shop</th>\n",
       "      <th>Data_Start</th>\n",
       "      <th>City</th>\n",
       "      <th>Format</th>\n",
       "      <th>SKU_count</th>\n",
       "      <th>Competitors</th>\n",
       "    </tr>\n",
       "  </thead>\n",
       "  <tbody>\n",
       "    <tr>\n",
       "      <th>6</th>\n",
       "      <td>1мелочь</td>\n",
       "      <td>2017-07-07 00:00:00</td>\n",
       "      <td>Красноярск</td>\n",
       "      <td>supermar</td>\n",
       "      <td>300</td>\n",
       "      <td>None</td>\n",
       "    </tr>\n",
       "  </tbody>\n",
       "</table>\n",
       "</div>"
      ],
      "text/plain": [
       "  Name_shop           Data_Start        City    Format  SKU_count Competitors\n",
       "6   1мелочь  2017-07-07 00:00:00  Красноярск  supermar        300        None"
      ]
     },
     "execution_count": 104,
     "metadata": {},
     "output_type": "execute_result"
    }
   ],
   "source": [
    "Df[(pd.DatetimeIndex(Df['Data_Start']).year>2015)]"
   ]
  },
  {
   "cell_type": "markdown",
   "metadata": {},
   "source": [
    "20.\tВыведите только те строки значения таблицы, даты создания магазина которых последние «пять лет» и они находятся не в Москве"
   ]
  },
  {
   "cell_type": "code",
   "execution_count": 106,
   "metadata": {},
   "outputs": [
    {
     "data": {
      "text/html": [
       "<div>\n",
       "<style scoped>\n",
       "    .dataframe tbody tr th:only-of-type {\n",
       "        vertical-align: middle;\n",
       "    }\n",
       "\n",
       "    .dataframe tbody tr th {\n",
       "        vertical-align: top;\n",
       "    }\n",
       "\n",
       "    .dataframe thead th {\n",
       "        text-align: right;\n",
       "    }\n",
       "</style>\n",
       "<table border=\"1\" class=\"dataframe\">\n",
       "  <thead>\n",
       "    <tr style=\"text-align: right;\">\n",
       "      <th></th>\n",
       "      <th>Name_shop</th>\n",
       "      <th>Data_Start</th>\n",
       "      <th>City</th>\n",
       "      <th>Format</th>\n",
       "      <th>SKU_count</th>\n",
       "      <th>Competitors</th>\n",
       "    </tr>\n",
       "  </thead>\n",
       "  <tbody>\n",
       "    <tr>\n",
       "      <th>6</th>\n",
       "      <td>1мелочь</td>\n",
       "      <td>2017-07-07 00:00:00</td>\n",
       "      <td>Красноярск</td>\n",
       "      <td>supermar</td>\n",
       "      <td>300</td>\n",
       "      <td>None</td>\n",
       "    </tr>\n",
       "  </tbody>\n",
       "</table>\n",
       "</div>"
      ],
      "text/plain": [
       "  Name_shop           Data_Start        City    Format  SKU_count Competitors\n",
       "6   1мелочь  2017-07-07 00:00:00  Красноярск  supermar        300        None"
      ]
     },
     "execution_count": 106,
     "metadata": {},
     "output_type": "execute_result"
    }
   ],
   "source": [
    "Df[(pd.DatetimeIndex(Df['Data_Start']).year>2015)&(Df.City!=\"Москва\")]"
   ]
  },
  {
   "cell_type": "markdown",
   "metadata": {},
   "source": [
    "21.\tВыведите только те строки значения таблицы даты создания магазина которых последние «пять лет» или средний чек превышает 1000р"
   ]
  },
  {
   "cell_type": "code",
   "execution_count": 107,
   "metadata": {},
   "outputs": [
    {
     "data": {
      "text/html": [
       "<div>\n",
       "<style scoped>\n",
       "    .dataframe tbody tr th:only-of-type {\n",
       "        vertical-align: middle;\n",
       "    }\n",
       "\n",
       "    .dataframe tbody tr th {\n",
       "        vertical-align: top;\n",
       "    }\n",
       "\n",
       "    .dataframe thead th {\n",
       "        text-align: right;\n",
       "    }\n",
       "</style>\n",
       "<table border=\"1\" class=\"dataframe\">\n",
       "  <thead>\n",
       "    <tr style=\"text-align: right;\">\n",
       "      <th></th>\n",
       "      <th>Name_shop</th>\n",
       "      <th>Data_Start</th>\n",
       "      <th>City</th>\n",
       "      <th>Format</th>\n",
       "      <th>SKU_count</th>\n",
       "      <th>Competitors</th>\n",
       "    </tr>\n",
       "  </thead>\n",
       "  <tbody>\n",
       "  </tbody>\n",
       "</table>\n",
       "</div>"
      ],
      "text/plain": [
       "Empty DataFrame\n",
       "Columns: [Name_shop, Data_Start, City, Format, SKU_count, Competitors]\n",
       "Index: []"
      ]
     },
     "execution_count": 107,
     "metadata": {},
     "output_type": "execute_result"
    }
   ],
   "source": [
    "Df[(pd.DatetimeIndex(Df['Data_Start']).year>2015)&(Df.SKU_count>1000)]"
   ]
  },
  {
   "cell_type": "code",
   "execution_count": 112,
   "metadata": {},
   "outputs": [
    {
     "data": {
      "image/png": "[encoded data removed]",
      "text/plain": [
       "<Figure size 432x288 with 1 Axes>"
      ]
     },
     "metadata": {
      "needs_background": "light"
     },
     "output_type": "display_data"
    }
   ],
   "source": [
    "Df['SKU_count'].hist();"
   ]
  },
  {
   "cell_type": "code",
   "execution_count": 111,
   "metadata": {},
   "outputs": [
    {
     "name": "stderr",
     "output_type": "stream",
     "text": [
      "C:\\Users\\ALYAA\\Anaconda3\\lib\\site-packages\\matplotlib\\axes\\_axes.py:6521: MatplotlibDeprecationWarning: \n",
      "The 'normed' kwarg was deprecated in Matplotlib 2.1 and will be removed in 3.1. Use 'density' instead.\n",
      "  alternative=\"'density'\", removal=\"3.1\")\n"
     ]
    },
    {
     "data": {
      "image/png": "[encoded data removed]",
      "text/plain": [
       "<Figure size 432x288 with 1 Axes>"
      ]
     },
     "metadata": {
      "needs_background": "light"
     },
     "output_type": "display_data"
    }
   ],
   "source": [
    "import matplotlib\n",
    "import matplotlib.pyplot as plt\n",
    "matplotlib.style.use('seaborn-deep')\n",
    "Df['SKU_count'].hist(bins=60, normed=1);"
   ]
  },
  {
   "cell_type": "code",
   "execution_count": null,
   "metadata": {},
   "outputs": [],
   "source": []
  }
 ],
 "metadata": {
  "kernelspec": {
   "display_name": "Python 3",
   "language": "python",
   "name": "python3"
  },
  "language_info": {
   "codemirror_mode": {
    "name": "ipython",
    "version": 3
   },
   "file_extension": ".py",
   "mimetype": "text/x-python",
   "name": "python",
   "nbconvert_exporter": "python",
   "pygments_lexer": "ipython3",
   "version": "3.7.3"
  }
 },
 "nbformat": 4,
 "nbformat_minor": 2
}
