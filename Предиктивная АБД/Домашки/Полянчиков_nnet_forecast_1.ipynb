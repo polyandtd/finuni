{
 "cells": [
  {
   "cell_type": "code",
   "execution_count": 0,
   "metadata": {
    "colab": {},
    "colab_type": "code",
    "id": "vxHS6OOvrfSv"
   },
   "outputs": [],
   "source": [
    "# Импорт библиотек\n",
    "import numpy\n",
    "import pandas as pd"
   ]
  },
  {
   "cell_type": "code",
   "execution_count": 0,
   "metadata": {
    "colab": {},
    "colab_type": "code",
    "id": "YzLy8QgkrfS1"
   },
   "outputs": [],
   "source": [
    "# Импорт matplotlib\n",
    "\n",
    "import matplotlib\n",
    "import matplotlib.pyplot as plt\n",
    "matplotlib.style.use('ggplot')\n",
    "%matplotlib inline"
   ]
  },
  {
   "cell_type": "code",
   "execution_count": 0,
   "metadata": {
    "colab": {},
    "colab_type": "code",
    "id": "cSAxbQ_jrfS-"
   },
   "outputs": [],
   "source": [
    "# Импорт обучающей выборки\n",
    "sales = pd.read_csv('monthly-car-sales-in-quebec-1960.csv', sep=';', header=0, parse_dates=[0])\n"
   ]
  },
  {
   "cell_type": "code",
   "execution_count": 4,
   "metadata": {
    "colab": {
     "base_uri": "https://localhost:8080/",
     "height": 204
    },
    "colab_type": "code",
    "id": "giBwVBdprfTB",
    "outputId": "9cf154db-bd82-4f0c-d136-8d90be0ca517"
   },
   "outputs": [
    {
     "data": {
      "text/html": [
       "<div>\n",
       "<style scoped>\n",
       "    .dataframe tbody tr th:only-of-type {\n",
       "        vertical-align: middle;\n",
       "    }\n",
       "\n",
       "    .dataframe tbody tr th {\n",
       "        vertical-align: top;\n",
       "    }\n",
       "\n",
       "    .dataframe thead th {\n",
       "        text-align: right;\n",
       "    }\n",
       "</style>\n",
       "<table border=\"1\" class=\"dataframe\">\n",
       "  <thead>\n",
       "    <tr style=\"text-align: right;\">\n",
       "      <th></th>\n",
       "      <th>Month</th>\n",
       "      <th>Monthly car sales in Quebec 1960-1968</th>\n",
       "    </tr>\n",
       "  </thead>\n",
       "  <tbody>\n",
       "    <tr>\n",
       "      <th>0</th>\n",
       "      <td>1960-01-01</td>\n",
       "      <td>6550</td>\n",
       "    </tr>\n",
       "    <tr>\n",
       "      <th>1</th>\n",
       "      <td>1960-02-01</td>\n",
       "      <td>8728</td>\n",
       "    </tr>\n",
       "    <tr>\n",
       "      <th>2</th>\n",
       "      <td>1960-03-01</td>\n",
       "      <td>12026</td>\n",
       "    </tr>\n",
       "    <tr>\n",
       "      <th>3</th>\n",
       "      <td>1960-04-01</td>\n",
       "      <td>14395</td>\n",
       "    </tr>\n",
       "    <tr>\n",
       "      <th>4</th>\n",
       "      <td>1960-05-01</td>\n",
       "      <td>14587</td>\n",
       "    </tr>\n",
       "  </tbody>\n",
       "</table>\n",
       "</div>"
      ],
      "text/plain": [
       "       Month  Monthly car sales in Quebec 1960-1968\n",
       "0 1960-01-01                                   6550\n",
       "1 1960-02-01                                   8728\n",
       "2 1960-03-01                                  12026\n",
       "3 1960-04-01                                  14395\n",
       "4 1960-05-01                                  14587"
      ]
     },
     "execution_count": 4,
     "metadata": {
      "tags": []
     },
     "output_type": "execute_result"
    }
   ],
   "source": [
    "#  Знакомимся с данными\n",
    "sales.head()"
   ]
  },
  {
   "cell_type": "code",
   "execution_count": 5,
   "metadata": {
    "colab": {
     "base_uri": "https://localhost:8080/",
     "height": 34
    },
    "colab_type": "code",
    "id": "H1zMs9bbrfTH",
    "outputId": "94229b11-75e3-4f1c-fd02-e7b9310d0ea2"
   },
   "outputs": [
    {
     "data": {
      "text/plain": [
       "(108, 2)"
      ]
     },
     "execution_count": 5,
     "metadata": {
      "tags": []
     },
     "output_type": "execute_result"
    }
   ],
   "source": [
    "#  Знакомимся с данными\n",
    "sales.shape"
   ]
  },
  {
   "cell_type": "code",
   "execution_count": 6,
   "metadata": {
    "colab": {
     "base_uri": "https://localhost:8080/",
     "height": 204
    },
    "colab_type": "code",
    "id": "ijQg-2BHrfTL",
    "outputId": "7667208d-7649-443d-de43-e03e5b834b96"
   },
   "outputs": [
    {
     "data": {
      "text/html": [
       "<div>\n",
       "<style scoped>\n",
       "    .dataframe tbody tr th:only-of-type {\n",
       "        vertical-align: middle;\n",
       "    }\n",
       "\n",
       "    .dataframe tbody tr th {\n",
       "        vertical-align: top;\n",
       "    }\n",
       "\n",
       "    .dataframe thead th {\n",
       "        text-align: right;\n",
       "    }\n",
       "</style>\n",
       "<table border=\"1\" class=\"dataframe\">\n",
       "  <thead>\n",
       "    <tr style=\"text-align: right;\">\n",
       "      <th></th>\n",
       "      <th>Month</th>\n",
       "      <th>Monthly car sales in Quebec 1960-1968</th>\n",
       "    </tr>\n",
       "  </thead>\n",
       "  <tbody>\n",
       "    <tr>\n",
       "      <th>103</th>\n",
       "      <td>1968-08-01</td>\n",
       "      <td>16722</td>\n",
       "    </tr>\n",
       "    <tr>\n",
       "      <th>104</th>\n",
       "      <td>1968-09-01</td>\n",
       "      <td>14385</td>\n",
       "    </tr>\n",
       "    <tr>\n",
       "      <th>105</th>\n",
       "      <td>1968-10-01</td>\n",
       "      <td>21342</td>\n",
       "    </tr>\n",
       "    <tr>\n",
       "      <th>106</th>\n",
       "      <td>1968-11-01</td>\n",
       "      <td>17180</td>\n",
       "    </tr>\n",
       "    <tr>\n",
       "      <th>107</th>\n",
       "      <td>1968-12-01</td>\n",
       "      <td>14577</td>\n",
       "    </tr>\n",
       "  </tbody>\n",
       "</table>\n",
       "</div>"
      ],
      "text/plain": [
       "         Month  Monthly car sales in Quebec 1960-1968\n",
       "103 1968-08-01                                  16722\n",
       "104 1968-09-01                                  14385\n",
       "105 1968-10-01                                  21342\n",
       "106 1968-11-01                                  17180\n",
       "107 1968-12-01                                  14577"
      ]
     },
     "execution_count": 6,
     "metadata": {
      "tags": []
     },
     "output_type": "execute_result"
    }
   ],
   "source": [
    "#  Знакомимся с данными\n",
    "sales.tail()"
   ]
  },
  {
   "cell_type": "code",
   "execution_count": 7,
   "metadata": {
    "colab": {
     "base_uri": "https://localhost:8080/",
     "height": 282
    },
    "colab_type": "code",
    "id": "6rhjl64srfTS",
    "outputId": "e53cb731-8125-44f4-9423-dff97bba6ef0"
   },
   "outputs": [
    {
     "data": {
      "text/plain": [
       "<matplotlib.axes._subplots.AxesSubplot at 0x7fee3cdebe10>"
      ]
     },
     "execution_count": 7,
     "metadata": {
      "tags": []
     },
     "output_type": "execute_result"
    },
    {
     "data": {
      "image/png": "[encoded data removed]",
      "text/plain": [
       "<Figure size 432x288 with 1 Axes>"
      ]
     },
     "metadata": {
      "needs_background": "light",
      "tags": []
     },
     "output_type": "display_data"
    }
   ],
   "source": [
    "#  График, чтобы ответить на 4 вопроса\n",
    "sales.iloc[:,1].plot()\n"
   ]
  },
  {
   "cell_type": "code",
   "execution_count": 8,
   "metadata": {
    "colab": {
     "base_uri": "https://localhost:8080/",
     "height": 289
    },
    "colab_type": "code",
    "id": "I8T1dxDMrfTW",
    "outputId": "fd200fee-e7e2-4c0c-fee0-10d9eb3a5235"
   },
   "outputs": [
    {
     "name": "stdout",
     "output_type": "stream",
     "text": [
      "      t-12    t-11     t-10      t-9  ...      t-3      t-2      t-1      t\n",
      "0      NaN     NaN      NaN      NaN  ...      NaN      NaN      NaN   6550\n",
      "1      NaN     NaN      NaN      NaN  ...      NaN      NaN   6550.0   8728\n",
      "2      NaN     NaN      NaN      NaN  ...      NaN   6550.0   8728.0  12026\n",
      "3      NaN     NaN      NaN      NaN  ...   6550.0   8728.0  12026.0  14395\n",
      "4      NaN     NaN      NaN      NaN  ...   8728.0  12026.0  14395.0  14587\n",
      "5      NaN     NaN      NaN      NaN  ...  12026.0  14395.0  14587.0  13791\n",
      "6      NaN     NaN      NaN      NaN  ...  14395.0  14587.0  13791.0   9498\n",
      "7      NaN     NaN      NaN      NaN  ...  14587.0  13791.0   9498.0   8251\n",
      "8      NaN     NaN      NaN      NaN  ...  13791.0   9498.0   8251.0   7049\n",
      "9      NaN     NaN      NaN   6550.0  ...   9498.0   8251.0   7049.0   9545\n",
      "10     NaN     NaN   6550.0   8728.0  ...   8251.0   7049.0   9545.0   9364\n",
      "11     NaN  6550.0   8728.0  12026.0  ...   7049.0   9545.0   9364.0   8456\n",
      "12  6550.0  8728.0  12026.0  14395.0  ...   9545.0   9364.0   8456.0   7237\n",
      "\n",
      "[13 rows x 13 columns]\n"
     ]
    }
   ],
   "source": [
    "# Преобразуем данные\n",
    "sales_2 = pd.DataFrame()\n",
    "\n",
    "for i in range(12,0,-1):\n",
    "    sales_2['t-'+str(i)] = sales.iloc[:,1].shift(i)\n",
    "\n",
    "sales_2['t'] = sales.iloc[:,1].values\n",
    "\n",
    "print(sales_2.head(13))\n",
    "\n",
    "\n"
   ]
  },
  {
   "cell_type": "code",
   "execution_count": 9,
   "metadata": {
    "colab": {
     "base_uri": "https://localhost:8080/",
     "height": 204
    },
    "colab_type": "code",
    "id": "rJTtKcIprfTa",
    "outputId": "88498638-ad02-49de-a77a-428dc44dd950"
   },
   "outputs": [
    {
     "data": {
      "text/html": [
       "<div>\n",
       "<style scoped>\n",
       "    .dataframe tbody tr th:only-of-type {\n",
       "        vertical-align: middle;\n",
       "    }\n",
       "\n",
       "    .dataframe tbody tr th {\n",
       "        vertical-align: top;\n",
       "    }\n",
       "\n",
       "    .dataframe thead th {\n",
       "        text-align: right;\n",
       "    }\n",
       "</style>\n",
       "<table border=\"1\" class=\"dataframe\">\n",
       "  <thead>\n",
       "    <tr style=\"text-align: right;\">\n",
       "      <th></th>\n",
       "      <th>t-12</th>\n",
       "      <th>t-11</th>\n",
       "      <th>t-10</th>\n",
       "      <th>t-9</th>\n",
       "      <th>t-8</th>\n",
       "      <th>t-7</th>\n",
       "      <th>t-6</th>\n",
       "      <th>t-5</th>\n",
       "      <th>t-4</th>\n",
       "      <th>t-3</th>\n",
       "      <th>t-2</th>\n",
       "      <th>t-1</th>\n",
       "      <th>t</th>\n",
       "    </tr>\n",
       "  </thead>\n",
       "  <tbody>\n",
       "    <tr>\n",
       "      <th>12</th>\n",
       "      <td>6550.0</td>\n",
       "      <td>8728.0</td>\n",
       "      <td>12026.0</td>\n",
       "      <td>14395.0</td>\n",
       "      <td>14587.0</td>\n",
       "      <td>13791.0</td>\n",
       "      <td>9498.0</td>\n",
       "      <td>8251.0</td>\n",
       "      <td>7049.0</td>\n",
       "      <td>9545.0</td>\n",
       "      <td>9364.0</td>\n",
       "      <td>8456.0</td>\n",
       "      <td>7237</td>\n",
       "    </tr>\n",
       "    <tr>\n",
       "      <th>13</th>\n",
       "      <td>8728.0</td>\n",
       "      <td>12026.0</td>\n",
       "      <td>14395.0</td>\n",
       "      <td>14587.0</td>\n",
       "      <td>13791.0</td>\n",
       "      <td>9498.0</td>\n",
       "      <td>8251.0</td>\n",
       "      <td>7049.0</td>\n",
       "      <td>9545.0</td>\n",
       "      <td>9364.0</td>\n",
       "      <td>8456.0</td>\n",
       "      <td>7237.0</td>\n",
       "      <td>9374</td>\n",
       "    </tr>\n",
       "    <tr>\n",
       "      <th>14</th>\n",
       "      <td>12026.0</td>\n",
       "      <td>14395.0</td>\n",
       "      <td>14587.0</td>\n",
       "      <td>13791.0</td>\n",
       "      <td>9498.0</td>\n",
       "      <td>8251.0</td>\n",
       "      <td>7049.0</td>\n",
       "      <td>9545.0</td>\n",
       "      <td>9364.0</td>\n",
       "      <td>8456.0</td>\n",
       "      <td>7237.0</td>\n",
       "      <td>9374.0</td>\n",
       "      <td>11837</td>\n",
       "    </tr>\n",
       "    <tr>\n",
       "      <th>15</th>\n",
       "      <td>14395.0</td>\n",
       "      <td>14587.0</td>\n",
       "      <td>13791.0</td>\n",
       "      <td>9498.0</td>\n",
       "      <td>8251.0</td>\n",
       "      <td>7049.0</td>\n",
       "      <td>9545.0</td>\n",
       "      <td>9364.0</td>\n",
       "      <td>8456.0</td>\n",
       "      <td>7237.0</td>\n",
       "      <td>9374.0</td>\n",
       "      <td>11837.0</td>\n",
       "      <td>13784</td>\n",
       "    </tr>\n",
       "    <tr>\n",
       "      <th>16</th>\n",
       "      <td>14587.0</td>\n",
       "      <td>13791.0</td>\n",
       "      <td>9498.0</td>\n",
       "      <td>8251.0</td>\n",
       "      <td>7049.0</td>\n",
       "      <td>9545.0</td>\n",
       "      <td>9364.0</td>\n",
       "      <td>8456.0</td>\n",
       "      <td>7237.0</td>\n",
       "      <td>9374.0</td>\n",
       "      <td>11837.0</td>\n",
       "      <td>13784.0</td>\n",
       "      <td>15926</td>\n",
       "    </tr>\n",
       "  </tbody>\n",
       "</table>\n",
       "</div>"
      ],
      "text/plain": [
       "       t-12     t-11     t-10      t-9  ...     t-3      t-2      t-1      t\n",
       "12   6550.0   8728.0  12026.0  14395.0  ...  9545.0   9364.0   8456.0   7237\n",
       "13   8728.0  12026.0  14395.0  14587.0  ...  9364.0   8456.0   7237.0   9374\n",
       "14  12026.0  14395.0  14587.0  13791.0  ...  8456.0   7237.0   9374.0  11837\n",
       "15  14395.0  14587.0  13791.0   9498.0  ...  7237.0   9374.0  11837.0  13784\n",
       "16  14587.0  13791.0   9498.0   8251.0  ...  9374.0  11837.0  13784.0  15926\n",
       "\n",
       "[5 rows x 13 columns]"
      ]
     },
     "execution_count": 9,
     "metadata": {
      "tags": []
     },
     "output_type": "execute_result"
    }
   ],
   "source": [
    "#  Отрезаем первые 12 строк\n",
    "sales_4 = sales_2[12:]\n",
    "\n",
    "sales_4.head()"
   ]
  },
  {
   "cell_type": "code",
   "execution_count": 0,
   "metadata": {
    "colab": {},
    "colab_type": "code",
    "id": "sgFqyHhOrfTd"
   },
   "outputs": [],
   "source": [
    "#  предикторы и отклик разделяем\n",
    "# Отклик - группирующая переменная -  вектор y\n",
    "y = sales_4['t']\n",
    "# Предикторы - таблица X\n",
    "X = sales_4.drop('t', axis=1)"
   ]
  },
  {
   "cell_type": "code",
   "execution_count": 0,
   "metadata": {
    "colab": {},
    "colab_type": "code",
    "id": "ZTsds-ETrfTg"
   },
   "outputs": [],
   "source": [
    "#  Разделяем на обучающую и тестовую выборки\n",
    "#  Тестовая - последние наблюдения\n",
    "X_train = X[:91]\n",
    "y_train = y[:91]\n",
    "X_test  = X[91:]\n",
    "y_test  = y[91:]"
   ]
  },
  {
   "cell_type": "code",
   "execution_count": 12,
   "metadata": {
    "colab": {
     "base_uri": "https://localhost:8080/",
     "height": 102
    },
    "colab_type": "code",
    "id": "t20bM_fhrfTk",
    "outputId": "d4f9aa21-234a-4dfe-96ec-4fd780b52ca7"
   },
   "outputs": [
    {
     "name": "stdout",
     "output_type": "stream",
     "text": [
      "(96, 13)\n",
      "(91, 12)\n",
      "(91,)\n",
      "(5, 12)\n",
      "(5,)\n"
     ]
    }
   ],
   "source": [
    "#  Все хорошо?\n",
    "print(sales_4.shape)\n",
    "print(X_train.shape)\n",
    "print(y_train.shape)\n",
    "print(X_test.shape)\n",
    "print(y_test.shape)"
   ]
  },
  {
   "cell_type": "code",
   "execution_count": 13,
   "metadata": {
    "colab": {
     "base_uri": "https://localhost:8080/",
     "height": 153
    },
    "colab_type": "code",
    "id": "RMJAfl8NrfTo",
    "outputId": "7be1b2ac-a4f9-45a7-e923-43e043633ca5"
   },
   "outputs": [
    {
     "name": "stdout",
     "output_type": "stream",
     "text": [
      "       t-12     t-11     t-10      t-9  ...     t-4     t-3      t-2      t-1\n",
      "12   6550.0   8728.0  12026.0  14395.0  ...  7049.0  9545.0   9364.0   8456.0\n",
      "13   8728.0  12026.0  14395.0  14587.0  ...  9545.0  9364.0   8456.0   7237.0\n",
      "14  12026.0  14395.0  14587.0  13791.0  ...  9364.0  8456.0   7237.0   9374.0\n",
      "15  14395.0  14587.0  13791.0   9498.0  ...  8456.0  7237.0   9374.0  11837.0\n",
      "16  14587.0  13791.0   9498.0   8251.0  ...  7237.0  9374.0  11837.0  13784.0\n",
      "\n",
      "[5 rows x 12 columns]\n"
     ]
    }
   ],
   "source": [
    "#  Все хорошо?\n",
    "print(X_train.head(5))"
   ]
  },
  {
   "cell_type": "code",
   "execution_count": 0,
   "metadata": {
    "colab": {},
    "colab_type": "code",
    "id": "hz1TBPOTrfTr"
   },
   "outputs": [],
   "source": [
    "#  Преобразование pandas dataframe в numpy array\n",
    "X_train = X_train.values\n",
    "X_test = X_test.values\n",
    "y_train = y_train.values\n",
    "y_test = y_test.values\n"
   ]
  },
  {
   "cell_type": "code",
   "execution_count": 15,
   "metadata": {
    "colab": {
     "base_uri": "https://localhost:8080/",
     "height": 34
    },
    "colab_type": "code",
    "id": "XpYEr3QlrfTu",
    "outputId": "0cd5be36-6390-436c-b867-27a949bb5ea3"
   },
   "outputs": [
    {
     "name": "stderr",
     "output_type": "stream",
     "text": [
      "Using TensorFlow backend.\n"
     ]
    }
   ],
   "source": [
    "from keras.models import Sequential\n",
    "from keras.layers import Dense\n"
   ]
  },
  {
   "cell_type": "code",
   "execution_count": 16,
   "metadata": {
    "colab": {
     "base_uri": "https://localhost:8080/",
     "height": 1000
    },
    "colab_type": "code",
    "id": "ub-FplN9rfTy",
    "outputId": "2be39b5a-767c-4229-dd69-b4d43f4cbcf3"
   },
   "outputs": [
    {
     "name": "stdout",
     "output_type": "stream",
     "text": [
      "Epoch 1/300\n",
      "91/91 [==============================] - 0s 3ms/step - loss: 38442478.3297 - mean_absolute_percentage_error: 40.6499\n",
      "Epoch 2/300\n",
      "91/91 [==============================] - 0s 104us/step - loss: 32231532.2198 - mean_absolute_percentage_error: 34.2484\n",
      "Epoch 3/300\n",
      "91/91 [==============================] - 0s 110us/step - loss: 30929703.9560 - mean_absolute_percentage_error: 31.2435\n",
      "Epoch 4/300\n",
      "91/91 [==============================] - 0s 96us/step - loss: 30640616.6593 - mean_absolute_percentage_error: 30.2150\n",
      "Epoch 5/300\n",
      "91/91 [==============================] - 0s 90us/step - loss: 29694379.2527 - mean_absolute_percentage_error: 29.6484\n",
      "Epoch 6/300\n",
      "91/91 [==============================] - 0s 90us/step - loss: 28628749.3846 - mean_absolute_percentage_error: 29.8749\n",
      "Epoch 7/300\n",
      "91/91 [==============================] - 0s 75us/step - loss: 26861523.8681 - mean_absolute_percentage_error: 29.7324\n",
      "Epoch 8/300\n",
      "91/91 [==============================] - 0s 118us/step - loss: 25993390.2198 - mean_absolute_percentage_error: 29.8270\n",
      "Epoch 9/300\n",
      "91/91 [==============================] - 0s 83us/step - loss: 25016322.3297 - mean_absolute_percentage_error: 29.5978\n",
      "Epoch 10/300\n",
      "91/91 [==============================] - 0s 99us/step - loss: 24052838.7033 - mean_absolute_percentage_error: 29.0072\n",
      "Epoch 11/300\n",
      "91/91 [==============================] - 0s 81us/step - loss: 23029885.0110 - mean_absolute_percentage_error: 28.2334\n",
      "Epoch 12/300\n",
      "91/91 [==============================] - 0s 83us/step - loss: 22137907.6264 - mean_absolute_percentage_error: 27.2537\n",
      "Epoch 13/300\n",
      "91/91 [==============================] - 0s 112us/step - loss: 21201062.4615 - mean_absolute_percentage_error: 26.4583\n",
      "Epoch 14/300\n",
      "91/91 [==============================] - 0s 75us/step - loss: 20368863.1868 - mean_absolute_percentage_error: 25.8557\n",
      "Epoch 15/300\n",
      "91/91 [==============================] - 0s 87us/step - loss: 19535321.7033 - mean_absolute_percentage_error: 25.3820\n",
      "Epoch 16/300\n",
      "91/91 [==============================] - 0s 142us/step - loss: 18611412.6154 - mean_absolute_percentage_error: 24.9831\n",
      "Epoch 17/300\n",
      "91/91 [==============================] - 0s 104us/step - loss: 17898509.4615 - mean_absolute_percentage_error: 24.6092\n",
      "Epoch 18/300\n",
      "91/91 [==============================] - 0s 91us/step - loss: 17130561.4286 - mean_absolute_percentage_error: 24.1774\n",
      "Epoch 19/300\n",
      "91/91 [==============================] - 0s 141us/step - loss: 16412504.2418 - mean_absolute_percentage_error: 23.5807\n",
      "Epoch 20/300\n",
      "91/91 [==============================] - 0s 103us/step - loss: 15650105.0220 - mean_absolute_percentage_error: 22.8073\n",
      "Epoch 21/300\n",
      "91/91 [==============================] - 0s 104us/step - loss: 15016581.4066 - mean_absolute_percentage_error: 22.1658\n",
      "Epoch 22/300\n",
      "91/91 [==============================] - 0s 94us/step - loss: 14433486.7582 - mean_absolute_percentage_error: 21.5805\n",
      "Epoch 23/300\n",
      "91/91 [==============================] - 0s 96us/step - loss: 13831278.0659 - mean_absolute_percentage_error: 21.1165\n",
      "Epoch 24/300\n",
      "91/91 [==============================] - 0s 118us/step - loss: 13188263.1758 - mean_absolute_percentage_error: 20.7013\n",
      "Epoch 25/300\n",
      "91/91 [==============================] - 0s 90us/step - loss: 12863651.8352 - mean_absolute_percentage_error: 20.5202\n",
      "Epoch 26/300\n",
      "91/91 [==============================] - 0s 86us/step - loss: 12215949.7473 - mean_absolute_percentage_error: 19.9150\n",
      "Epoch 27/300\n",
      "91/91 [==============================] - 0s 91us/step - loss: 11780375.4176 - mean_absolute_percentage_error: 19.2967\n",
      "Epoch 28/300\n",
      "91/91 [==============================] - 0s 95us/step - loss: 11358959.5275 - mean_absolute_percentage_error: 18.7211\n",
      "Epoch 29/300\n",
      "91/91 [==============================] - 0s 87us/step - loss: 10976506.6703 - mean_absolute_percentage_error: 18.3711\n",
      "Epoch 30/300\n",
      "91/91 [==============================] - 0s 188us/step - loss: 10546023.9780 - mean_absolute_percentage_error: 18.1553\n",
      "Epoch 31/300\n",
      "91/91 [==============================] - 0s 143us/step - loss: 10219980.6813 - mean_absolute_percentage_error: 17.8937\n",
      "Epoch 32/300\n",
      "91/91 [==============================] - 0s 87us/step - loss: 9901631.1758 - mean_absolute_percentage_error: 17.5729\n",
      "Epoch 33/300\n",
      "91/91 [==============================] - 0s 102us/step - loss: 9599460.8242 - mean_absolute_percentage_error: 17.1965\n",
      "Epoch 34/300\n",
      "91/91 [==============================] - 0s 88us/step - loss: 9266249.5275 - mean_absolute_percentage_error: 16.8052\n",
      "Epoch 35/300\n",
      "91/91 [==============================] - 0s 72us/step - loss: 8997762.2473 - mean_absolute_percentage_error: 16.5390\n",
      "Epoch 36/300\n",
      "91/91 [==============================] - 0s 98us/step - loss: 8755335.3736 - mean_absolute_percentage_error: 16.3260\n",
      "Epoch 37/300\n",
      "91/91 [==============================] - 0s 88us/step - loss: 8478236.1648 - mean_absolute_percentage_error: 16.0149\n",
      "Epoch 38/300\n",
      "91/91 [==============================] - 0s 74us/step - loss: 8232330.3242 - mean_absolute_percentage_error: 15.5312\n",
      "Epoch 39/300\n",
      "91/91 [==============================] - 0s 90us/step - loss: 8004613.9231 - mean_absolute_percentage_error: 15.1394\n",
      "Epoch 40/300\n",
      "91/91 [==============================] - 0s 75us/step - loss: 7826835.2967 - mean_absolute_percentage_error: 14.9299\n",
      "Epoch 41/300\n",
      "91/91 [==============================] - 0s 83us/step - loss: 7654353.7143 - mean_absolute_percentage_error: 14.7367\n",
      "Epoch 42/300\n",
      "91/91 [==============================] - 0s 79us/step - loss: 7509714.8736 - mean_absolute_percentage_error: 14.6584\n",
      "Epoch 43/300\n",
      "91/91 [==============================] - 0s 87us/step - loss: 7300933.4176 - mean_absolute_percentage_error: 14.4551\n",
      "Epoch 44/300\n",
      "91/91 [==============================] - 0s 84us/step - loss: 7195174.6978 - mean_absolute_percentage_error: 14.3213\n",
      "Epoch 45/300\n",
      "91/91 [==============================] - 0s 102us/step - loss: 7055447.4396 - mean_absolute_percentage_error: 14.1262\n",
      "Epoch 46/300\n",
      "91/91 [==============================] - 0s 89us/step - loss: 6945981.2967 - mean_absolute_percentage_error: 13.9104\n",
      "Epoch 47/300\n",
      "91/91 [==============================] - 0s 76us/step - loss: 6843005.4368 - mean_absolute_percentage_error: 13.8135\n",
      "Epoch 48/300\n",
      "91/91 [==============================] - 0s 88us/step - loss: 6760256.4835 - mean_absolute_percentage_error: 13.7954\n",
      "Epoch 49/300\n",
      "91/91 [==============================] - 0s 82us/step - loss: 6726340.5962 - mean_absolute_percentage_error: 13.8074\n",
      "Epoch 50/300\n",
      "91/91 [==============================] - 0s 98us/step - loss: 6559811.9945 - mean_absolute_percentage_error: 13.6562\n",
      "Epoch 51/300\n",
      "91/91 [==============================] - 0s 94us/step - loss: 6476074.2527 - mean_absolute_percentage_error: 13.4607\n",
      "Epoch 52/300\n",
      "91/91 [==============================] - 0s 89us/step - loss: 6395624.4725 - mean_absolute_percentage_error: 13.3899\n",
      "Epoch 53/300\n",
      "91/91 [==============================] - 0s 148us/step - loss: 6344060.7967 - mean_absolute_percentage_error: 13.3251\n",
      "Epoch 54/300\n",
      "91/91 [==============================] - 0s 91us/step - loss: 6281511.7747 - mean_absolute_percentage_error: 13.2749\n",
      "Epoch 55/300\n",
      "91/91 [==============================] - 0s 88us/step - loss: 6216078.0110 - mean_absolute_percentage_error: 13.1996\n",
      "Epoch 56/300\n",
      "91/91 [==============================] - 0s 81us/step - loss: 6189751.3681 - mean_absolute_percentage_error: 13.2009\n",
      "Epoch 57/300\n",
      "91/91 [==============================] - 0s 91us/step - loss: 6094781.9560 - mean_absolute_percentage_error: 13.1082\n",
      "Epoch 58/300\n",
      "91/91 [==============================] - 0s 95us/step - loss: 6054601.1044 - mean_absolute_percentage_error: 13.1264\n",
      "Epoch 59/300\n",
      "91/91 [==============================] - 0s 87us/step - loss: 6031358.0055 - mean_absolute_percentage_error: 13.1223\n",
      "Epoch 60/300\n",
      "91/91 [==============================] - 0s 88us/step - loss: 5952071.8462 - mean_absolute_percentage_error: 13.0013\n",
      "Epoch 61/300\n",
      "91/91 [==============================] - 0s 90us/step - loss: 5944833.3846 - mean_absolute_percentage_error: 13.0453\n",
      "Epoch 62/300\n",
      "91/91 [==============================] - 0s 90us/step - loss: 5913761.7033 - mean_absolute_percentage_error: 13.0031\n",
      "Epoch 63/300\n",
      "91/91 [==============================] - 0s 89us/step - loss: 5857457.7747 - mean_absolute_percentage_error: 12.9306\n",
      "Epoch 64/300\n",
      "91/91 [==============================] - 0s 81us/step - loss: 5802804.5330 - mean_absolute_percentage_error: 12.9046\n",
      "Epoch 65/300\n",
      "91/91 [==============================] - 0s 82us/step - loss: 5763786.3297 - mean_absolute_percentage_error: 12.9219\n",
      "Epoch 66/300\n",
      "91/91 [==============================] - 0s 94us/step - loss: 5717979.0220 - mean_absolute_percentage_error: 12.8927\n",
      "Epoch 67/300\n",
      "91/91 [==============================] - 0s 179us/step - loss: 5683616.5110 - mean_absolute_percentage_error: 12.8237\n",
      "Epoch 68/300\n",
      "91/91 [==============================] - 0s 170us/step - loss: 5668432.4670 - mean_absolute_percentage_error: 12.8031\n",
      "Epoch 69/300\n",
      "91/91 [==============================] - 0s 98us/step - loss: 5625704.2830 - mean_absolute_percentage_error: 12.7783\n",
      "Epoch 70/300\n",
      "91/91 [==============================] - 0s 83us/step - loss: 5613872.2912 - mean_absolute_percentage_error: 12.7477\n",
      "Epoch 71/300\n",
      "91/91 [==============================] - 0s 76us/step - loss: 5608944.4890 - mean_absolute_percentage_error: 12.8009\n",
      "Epoch 72/300\n",
      "91/91 [==============================] - 0s 86us/step - loss: 5549083.5934 - mean_absolute_percentage_error: 12.7715\n",
      "Epoch 73/300\n",
      "91/91 [==============================] - 0s 82us/step - loss: 5543662.7088 - mean_absolute_percentage_error: 12.7047\n",
      "Epoch 74/300\n",
      "91/91 [==============================] - 0s 83us/step - loss: 5479333.6209 - mean_absolute_percentage_error: 12.6579\n",
      "Epoch 75/300\n",
      "91/91 [==============================] - 0s 80us/step - loss: 5456072.0495 - mean_absolute_percentage_error: 12.6455\n",
      "Epoch 76/300\n",
      "91/91 [==============================] - 0s 72us/step - loss: 5454752.7473 - mean_absolute_percentage_error: 12.6461\n",
      "Epoch 77/300\n",
      "91/91 [==============================] - 0s 86us/step - loss: 5431794.6209 - mean_absolute_percentage_error: 12.6736\n",
      "Epoch 78/300\n",
      "91/91 [==============================] - 0s 77us/step - loss: 5368710.4615 - mean_absolute_percentage_error: 12.5983\n",
      "Epoch 79/300\n",
      "91/91 [==============================] - 0s 81us/step - loss: 5340936.1154 - mean_absolute_percentage_error: 12.5710\n",
      "Epoch 80/300\n",
      "91/91 [==============================] - 0s 84us/step - loss: 5321468.4533 - mean_absolute_percentage_error: 12.5523\n",
      "Epoch 81/300\n",
      "91/91 [==============================] - 0s 101us/step - loss: 5294746.4011 - mean_absolute_percentage_error: 12.5063\n",
      "Epoch 82/300\n",
      "91/91 [==============================] - 0s 90us/step - loss: 5278435.4560 - mean_absolute_percentage_error: 12.4746\n",
      "Epoch 83/300\n",
      "91/91 [==============================] - 0s 88us/step - loss: 5247337.1813 - mean_absolute_percentage_error: 12.4467\n",
      "Epoch 84/300\n",
      "91/91 [==============================] - 0s 109us/step - loss: 5224174.4341 - mean_absolute_percentage_error: 12.4536\n",
      "Epoch 85/300\n",
      "91/91 [==============================] - 0s 95us/step - loss: 5202958.8901 - mean_absolute_percentage_error: 12.4305\n",
      "Epoch 86/300\n",
      "91/91 [==============================] - 0s 91us/step - loss: 5176684.3077 - mean_absolute_percentage_error: 12.4094\n",
      "Epoch 87/300\n",
      "91/91 [==============================] - 0s 92us/step - loss: 5160795.8324 - mean_absolute_percentage_error: 12.3870\n",
      "Epoch 88/300\n",
      "91/91 [==============================] - 0s 95us/step - loss: 5133981.3077 - mean_absolute_percentage_error: 12.3161\n",
      "Epoch 89/300\n",
      "91/91 [==============================] - 0s 117us/step - loss: 5126228.5165 - mean_absolute_percentage_error: 12.3526\n",
      "Epoch 90/300\n",
      "91/91 [==============================] - 0s 110us/step - loss: 5093867.8956 - mean_absolute_percentage_error: 12.3167\n",
      "Epoch 91/300\n",
      "91/91 [==============================] - 0s 86us/step - loss: 5065143.4231 - mean_absolute_percentage_error: 12.2818\n",
      "Epoch 92/300\n",
      "91/91 [==============================] - 0s 106us/step - loss: 5049559.1209 - mean_absolute_percentage_error: 12.2713\n",
      "Epoch 93/300\n",
      "91/91 [==============================] - 0s 73us/step - loss: 5027140.0769 - mean_absolute_percentage_error: 12.2360\n",
      "Epoch 94/300\n",
      "91/91 [==============================] - 0s 84us/step - loss: 5001197.5549 - mean_absolute_percentage_error: 12.2114\n",
      "Epoch 95/300\n",
      "91/91 [==============================] - 0s 82us/step - loss: 4986321.0055 - mean_absolute_percentage_error: 12.2041\n",
      "Epoch 96/300\n",
      "91/91 [==============================] - 0s 102us/step - loss: 4952051.9341 - mean_absolute_percentage_error: 12.1529\n",
      "Epoch 97/300\n",
      "91/91 [==============================] - 0s 106us/step - loss: 4991402.9286 - mean_absolute_percentage_error: 12.2601\n",
      "Epoch 98/300\n",
      "91/91 [==============================] - 0s 85us/step - loss: 4914201.2143 - mean_absolute_percentage_error: 12.1483\n",
      "Epoch 99/300\n",
      "91/91 [==============================] - 0s 151us/step - loss: 4945985.7363 - mean_absolute_percentage_error: 12.0628\n",
      "Epoch 100/300\n",
      "91/91 [==============================] - 0s 125us/step - loss: 4908419.0220 - mean_absolute_percentage_error: 12.0771\n",
      "Epoch 101/300\n",
      "91/91 [==============================] - 0s 84us/step - loss: 4850763.0495 - mean_absolute_percentage_error: 12.0342\n",
      "Epoch 102/300\n",
      "91/91 [==============================] - 0s 71us/step - loss: 4821573.9341 - mean_absolute_percentage_error: 12.0295\n",
      "Epoch 103/300\n",
      "91/91 [==============================] - 0s 86us/step - loss: 4810238.2418 - mean_absolute_percentage_error: 12.0183\n",
      "Epoch 104/300\n",
      "91/91 [==============================] - 0s 85us/step - loss: 4809079.7967 - mean_absolute_percentage_error: 12.0214\n",
      "Epoch 105/300\n",
      "91/91 [==============================] - 0s 75us/step - loss: 4780642.9615 - mean_absolute_percentage_error: 11.9960\n",
      "Epoch 106/300\n",
      "91/91 [==============================] - 0s 67us/step - loss: 4747042.3626 - mean_absolute_percentage_error: 11.9444\n",
      "Epoch 107/300\n",
      "91/91 [==============================] - 0s 71us/step - loss: 4740597.8242 - mean_absolute_percentage_error: 11.9136\n",
      "Epoch 108/300\n",
      "91/91 [==============================] - 0s 61us/step - loss: 4721238.4725 - mean_absolute_percentage_error: 11.9352\n",
      "Epoch 109/300\n",
      "91/91 [==============================] - 0s 68us/step - loss: 4767470.4560 - mean_absolute_percentage_error: 11.9815\n",
      "Epoch 110/300\n",
      "91/91 [==============================] - 0s 63us/step - loss: 4666151.2527 - mean_absolute_percentage_error: 11.8726\n",
      "Epoch 111/300\n",
      "91/91 [==============================] - 0s 67us/step - loss: 4754829.3626 - mean_absolute_percentage_error: 11.9049\n",
      "Epoch 112/300\n",
      "91/91 [==============================] - 0s 151us/step - loss: 4670717.1099 - mean_absolute_percentage_error: 11.8403\n",
      "Epoch 113/300\n",
      "91/91 [==============================] - 0s 73us/step - loss: 4651208.6868 - mean_absolute_percentage_error: 11.8859\n",
      "Epoch 114/300\n",
      "91/91 [==============================] - 0s 73us/step - loss: 4605771.8956 - mean_absolute_percentage_error: 11.8316\n",
      "Epoch 115/300\n",
      "91/91 [==============================] - 0s 79us/step - loss: 4573077.4615 - mean_absolute_percentage_error: 11.8065\n",
      "Epoch 116/300\n",
      "91/91 [==============================] - 0s 78us/step - loss: 4549152.3846 - mean_absolute_percentage_error: 11.7137\n",
      "Epoch 117/300\n",
      "91/91 [==============================] - 0s 84us/step - loss: 4596545.0110 - mean_absolute_percentage_error: 11.7774\n",
      "Epoch 118/300\n",
      "91/91 [==============================] - 0s 82us/step - loss: 4484163.0220 - mean_absolute_percentage_error: 11.6720\n",
      "Epoch 119/300\n",
      "91/91 [==============================] - 0s 89us/step - loss: 4583841.6209 - mean_absolute_percentage_error: 11.8008\n",
      "Epoch 120/300\n",
      "91/91 [==============================] - 0s 84us/step - loss: 4514224.4533 - mean_absolute_percentage_error: 11.7900\n",
      "Epoch 121/300\n",
      "91/91 [==============================] - 0s 84us/step - loss: 4508238.0110 - mean_absolute_percentage_error: 11.6454\n",
      "Epoch 122/300\n",
      "91/91 [==============================] - 0s 86us/step - loss: 4453564.5495 - mean_absolute_percentage_error: 11.6071\n",
      "Epoch 123/300\n",
      "91/91 [==============================] - 0s 90us/step - loss: 4461967.1923 - mean_absolute_percentage_error: 11.6350\n",
      "Epoch 124/300\n",
      "91/91 [==============================] - 0s 89us/step - loss: 4390210.3132 - mean_absolute_percentage_error: 11.5641\n",
      "Epoch 125/300\n",
      "91/91 [==============================] - 0s 100us/step - loss: 4375311.5275 - mean_absolute_percentage_error: 11.5415\n",
      "Epoch 126/300\n",
      "91/91 [==============================] - 0s 90us/step - loss: 4373357.9451 - mean_absolute_percentage_error: 11.5192\n",
      "Epoch 127/300\n",
      "91/91 [==============================] - 0s 83us/step - loss: 4390532.1511 - mean_absolute_percentage_error: 11.5965\n",
      "Epoch 128/300\n",
      "91/91 [==============================] - 0s 79us/step - loss: 4311998.3187 - mean_absolute_percentage_error: 11.4513\n",
      "Epoch 129/300\n",
      "91/91 [==============================] - 0s 76us/step - loss: 4339606.5769 - mean_absolute_percentage_error: 11.4152\n",
      "Epoch 130/300\n",
      "91/91 [==============================] - 0s 77us/step - loss: 4316474.2473 - mean_absolute_percentage_error: 11.4192\n",
      "Epoch 131/300\n",
      "91/91 [==============================] - 0s 90us/step - loss: 4276891.9780 - mean_absolute_percentage_error: 11.4106\n",
      "Epoch 132/300\n",
      "91/91 [==============================] - 0s 90us/step - loss: 4270524.6071 - mean_absolute_percentage_error: 11.4198\n",
      "Epoch 133/300\n",
      "91/91 [==============================] - 0s 72us/step - loss: 4288800.8462 - mean_absolute_percentage_error: 11.4783\n",
      "Epoch 134/300\n",
      "91/91 [==============================] - 0s 82us/step - loss: 4287361.2857 - mean_absolute_percentage_error: 11.3826\n",
      "Epoch 135/300\n",
      "91/91 [==============================] - 0s 86us/step - loss: 4241118.1374 - mean_absolute_percentage_error: 11.3287\n",
      "Epoch 136/300\n",
      "91/91 [==============================] - 0s 85us/step - loss: 4237349.3709 - mean_absolute_percentage_error: 11.3627\n",
      "Epoch 137/300\n",
      "91/91 [==============================] - 0s 77us/step - loss: 4278607.8956 - mean_absolute_percentage_error: 11.3765\n",
      "Epoch 138/300\n",
      "91/91 [==============================] - 0s 112us/step - loss: 4199643.7747 - mean_absolute_percentage_error: 11.3041\n",
      "Epoch 139/300\n",
      "91/91 [==============================] - 0s 83us/step - loss: 4180000.7747 - mean_absolute_percentage_error: 11.2499\n",
      "Epoch 140/300\n",
      "91/91 [==============================] - 0s 79us/step - loss: 4209195.3516 - mean_absolute_percentage_error: 11.3278\n",
      "Epoch 141/300\n",
      "91/91 [==============================] - 0s 85us/step - loss: 4149399.9725 - mean_absolute_percentage_error: 11.2298\n",
      "Epoch 142/300\n",
      "91/91 [==============================] - 0s 80us/step - loss: 4131803.9231 - mean_absolute_percentage_error: 11.2045\n",
      "Epoch 143/300\n",
      "91/91 [==============================] - 0s 82us/step - loss: 4123414.1181 - mean_absolute_percentage_error: 11.1859\n",
      "Epoch 144/300\n",
      "91/91 [==============================] - 0s 74us/step - loss: 4115970.6703 - mean_absolute_percentage_error: 11.1750\n",
      "Epoch 145/300\n",
      "91/91 [==============================] - 0s 83us/step - loss: 4121811.2582 - mean_absolute_percentage_error: 11.2038\n",
      "Epoch 146/300\n",
      "91/91 [==============================] - 0s 80us/step - loss: 4097064.3901 - mean_absolute_percentage_error: 11.1529\n",
      "Epoch 147/300\n",
      "91/91 [==============================] - 0s 79us/step - loss: 4082149.3956 - mean_absolute_percentage_error: 11.1383\n",
      "Epoch 148/300\n",
      "91/91 [==============================] - 0s 74us/step - loss: 4057706.8462 - mean_absolute_percentage_error: 11.1050\n",
      "Epoch 149/300\n",
      "91/91 [==============================] - 0s 82us/step - loss: 4051360.3681 - mean_absolute_percentage_error: 11.0945\n",
      "Epoch 150/300\n",
      "91/91 [==============================] - 0s 94us/step - loss: 4051733.8379 - mean_absolute_percentage_error: 11.0832\n",
      "Epoch 151/300\n",
      "91/91 [==============================] - 0s 88us/step - loss: 4013048.1209 - mean_absolute_percentage_error: 11.0438\n",
      "Epoch 152/300\n",
      "91/91 [==============================] - 0s 91us/step - loss: 4053903.8352 - mean_absolute_percentage_error: 11.0990\n",
      "Epoch 153/300\n",
      "91/91 [==============================] - 0s 94us/step - loss: 4007202.0330 - mean_absolute_percentage_error: 11.0597\n",
      "Epoch 154/300\n",
      "91/91 [==============================] - 0s 96us/step - loss: 3983674.5137 - mean_absolute_percentage_error: 10.9986\n",
      "Epoch 155/300\n",
      "91/91 [==============================] - 0s 163us/step - loss: 3977272.7940 - mean_absolute_percentage_error: 10.9974\n",
      "Epoch 156/300\n",
      "91/91 [==============================] - 0s 88us/step - loss: 3977250.6154 - mean_absolute_percentage_error: 10.9635\n",
      "Epoch 157/300\n",
      "91/91 [==============================] - 0s 84us/step - loss: 3957830.1181 - mean_absolute_percentage_error: 10.9636\n",
      "Epoch 158/300\n",
      "91/91 [==============================] - 0s 81us/step - loss: 3946994.8297 - mean_absolute_percentage_error: 10.9293\n",
      "Epoch 159/300\n",
      "91/91 [==============================] - 0s 79us/step - loss: 3947036.8187 - mean_absolute_percentage_error: 10.9709\n",
      "Epoch 160/300\n",
      "91/91 [==============================] - 0s 75us/step - loss: 3925221.5385 - mean_absolute_percentage_error: 10.9201\n",
      "Epoch 161/300\n",
      "91/91 [==============================] - 0s 79us/step - loss: 3919962.5659 - mean_absolute_percentage_error: 10.9085\n",
      "Epoch 162/300\n",
      "91/91 [==============================] - 0s 86us/step - loss: 3910463.4753 - mean_absolute_percentage_error: 10.8847\n",
      "Epoch 163/300\n",
      "91/91 [==============================] - 0s 83us/step - loss: 3897979.2253 - mean_absolute_percentage_error: 10.8532\n",
      "Epoch 164/300\n",
      "91/91 [==============================] - 0s 78us/step - loss: 3880165.6374 - mean_absolute_percentage_error: 10.8506\n",
      "Epoch 165/300\n",
      "91/91 [==============================] - 0s 75us/step - loss: 3866411.7033 - mean_absolute_percentage_error: 10.8279\n",
      "Epoch 166/300\n",
      "91/91 [==============================] - 0s 78us/step - loss: 3862949.1676 - mean_absolute_percentage_error: 10.8077\n",
      "Epoch 167/300\n",
      "91/91 [==============================] - 0s 86us/step - loss: 3854371.6868 - mean_absolute_percentage_error: 10.7879\n",
      "Epoch 168/300\n",
      "91/91 [==============================] - 0s 82us/step - loss: 3833042.8516 - mean_absolute_percentage_error: 10.7858\n",
      "Epoch 169/300\n",
      "91/91 [==============================] - 0s 77us/step - loss: 3842988.4451 - mean_absolute_percentage_error: 10.7811\n",
      "Epoch 170/300\n",
      "91/91 [==============================] - 0s 127us/step - loss: 3818173.2225 - mean_absolute_percentage_error: 10.7554\n",
      "Epoch 171/300\n",
      "91/91 [==============================] - 0s 87us/step - loss: 3813817.5604 - mean_absolute_percentage_error: 10.7789\n",
      "Epoch 172/300\n",
      "91/91 [==============================] - 0s 79us/step - loss: 3799134.6923 - mean_absolute_percentage_error: 10.7520\n",
      "Epoch 173/300\n",
      "91/91 [==============================] - 0s 76us/step - loss: 3814542.9121 - mean_absolute_percentage_error: 10.7463\n",
      "Epoch 174/300\n",
      "91/91 [==============================] - 0s 76us/step - loss: 3788802.8791 - mean_absolute_percentage_error: 10.7145\n",
      "Epoch 175/300\n",
      "91/91 [==============================] - 0s 83us/step - loss: 3781925.6209 - mean_absolute_percentage_error: 10.7154\n",
      "Epoch 176/300\n",
      "91/91 [==============================] - 0s 79us/step - loss: 3773204.5852 - mean_absolute_percentage_error: 10.6932\n",
      "Epoch 177/300\n",
      "91/91 [==============================] - 0s 84us/step - loss: 3771263.7143 - mean_absolute_percentage_error: 10.7296\n",
      "Epoch 178/300\n",
      "91/91 [==============================] - 0s 82us/step - loss: 3775343.0275 - mean_absolute_percentage_error: 10.6967\n",
      "Epoch 179/300\n",
      "91/91 [==============================] - 0s 81us/step - loss: 3747740.4258 - mean_absolute_percentage_error: 10.6595\n",
      "Epoch 180/300\n",
      "91/91 [==============================] - 0s 81us/step - loss: 3737230.3407 - mean_absolute_percentage_error: 10.6355\n",
      "Epoch 181/300\n",
      "91/91 [==============================] - 0s 84us/step - loss: 3709513.7912 - mean_absolute_percentage_error: 10.6126\n",
      "Epoch 182/300\n",
      "91/91 [==============================] - 0s 87us/step - loss: 3707576.7060 - mean_absolute_percentage_error: 10.6062\n",
      "Epoch 183/300\n",
      "91/91 [==============================] - 0s 77us/step - loss: 3712826.4011 - mean_absolute_percentage_error: 10.6197\n",
      "Epoch 184/300\n",
      "91/91 [==============================] - 0s 69us/step - loss: 3691025.7555 - mean_absolute_percentage_error: 10.5962\n",
      "Epoch 185/300\n",
      "91/91 [==============================] - 0s 62us/step - loss: 3676572.8489 - mean_absolute_percentage_error: 10.5624\n",
      "Epoch 186/300\n",
      "91/91 [==============================] - 0s 76us/step - loss: 3691790.8764 - mean_absolute_percentage_error: 10.5882\n",
      "Epoch 187/300\n",
      "91/91 [==============================] - 0s 81us/step - loss: 3677693.6484 - mean_absolute_percentage_error: 10.5941\n",
      "Epoch 188/300\n",
      "91/91 [==============================] - 0s 88us/step - loss: 3657890.9835 - mean_absolute_percentage_error: 10.5733\n",
      "Epoch 189/300\n",
      "91/91 [==============================] - 0s 96us/step - loss: 3641878.2170 - mean_absolute_percentage_error: 10.5320\n",
      "Epoch 190/300\n",
      "91/91 [==============================] - 0s 107us/step - loss: 3653228.7995 - mean_absolute_percentage_error: 10.5074\n",
      "Epoch 191/300\n",
      "91/91 [==============================] - 0s 97us/step - loss: 3617652.2115 - mean_absolute_percentage_error: 10.4913\n",
      "Epoch 192/300\n",
      "91/91 [==============================] - 0s 87us/step - loss: 3629210.8516 - mean_absolute_percentage_error: 10.5181\n",
      "Epoch 193/300\n",
      "91/91 [==============================] - 0s 84us/step - loss: 3610177.2445 - mean_absolute_percentage_error: 10.4731\n",
      "Epoch 194/300\n",
      "91/91 [==============================] - 0s 74us/step - loss: 3621597.6126 - mean_absolute_percentage_error: 10.4724\n",
      "Epoch 195/300\n",
      "91/91 [==============================] - 0s 70us/step - loss: 3592515.8626 - mean_absolute_percentage_error: 10.4530\n",
      "Epoch 196/300\n",
      "91/91 [==============================] - 0s 72us/step - loss: 3572741.9176 - mean_absolute_percentage_error: 10.4154\n",
      "Epoch 197/300\n",
      "91/91 [==============================] - 0s 76us/step - loss: 3581687.3709 - mean_absolute_percentage_error: 10.4222\n",
      "Epoch 198/300\n",
      "91/91 [==============================] - 0s 76us/step - loss: 3572366.3269 - mean_absolute_percentage_error: 10.4077\n",
      "Epoch 199/300\n",
      "91/91 [==============================] - 0s 84us/step - loss: 3603099.1758 - mean_absolute_percentage_error: 10.4828\n",
      "Epoch 200/300\n",
      "91/91 [==============================] - 0s 72us/step - loss: 3568059.3132 - mean_absolute_percentage_error: 10.4222\n",
      "Epoch 201/300\n",
      "91/91 [==============================] - 0s 74us/step - loss: 3543966.7060 - mean_absolute_percentage_error: 10.3870\n",
      "Epoch 202/300\n",
      "91/91 [==============================] - 0s 78us/step - loss: 3559405.2692 - mean_absolute_percentage_error: 10.4068\n",
      "Epoch 203/300\n",
      "91/91 [==============================] - 0s 82us/step - loss: 3593653.1703 - mean_absolute_percentage_error: 10.5178\n",
      "Epoch 204/300\n",
      "91/91 [==============================] - 0s 109us/step - loss: 3522985.2225 - mean_absolute_percentage_error: 10.3587\n",
      "Epoch 205/300\n",
      "91/91 [==============================] - 0s 80us/step - loss: 3515630.7995 - mean_absolute_percentage_error: 10.3469\n",
      "Epoch 206/300\n",
      "91/91 [==============================] - 0s 71us/step - loss: 3497741.3187 - mean_absolute_percentage_error: 10.3146\n",
      "Epoch 207/300\n",
      "91/91 [==============================] - 0s 87us/step - loss: 3487582.3077 - mean_absolute_percentage_error: 10.3040\n",
      "Epoch 208/300\n",
      "91/91 [==============================] - 0s 74us/step - loss: 3492230.7692 - mean_absolute_percentage_error: 10.3077\n",
      "Epoch 209/300\n",
      "91/91 [==============================] - 0s 69us/step - loss: 3478972.7253 - mean_absolute_percentage_error: 10.2831\n",
      "Epoch 210/300\n",
      "91/91 [==============================] - 0s 80us/step - loss: 3473970.7418 - mean_absolute_percentage_error: 10.2910\n",
      "Epoch 211/300\n",
      "91/91 [==============================] - 0s 97us/step - loss: 3461913.9560 - mean_absolute_percentage_error: 10.2629\n",
      "Epoch 212/300\n",
      "91/91 [==============================] - 0s 93us/step - loss: 3474281.3352 - mean_absolute_percentage_error: 10.2618\n",
      "Epoch 213/300\n",
      "91/91 [==============================] - 0s 99us/step - loss: 3442435.5192 - mean_absolute_percentage_error: 10.2302\n",
      "Epoch 214/300\n",
      "91/91 [==============================] - 0s 72us/step - loss: 3439925.8819 - mean_absolute_percentage_error: 10.2144\n",
      "Epoch 215/300\n",
      "91/91 [==============================] - 0s 88us/step - loss: 3463316.7308 - mean_absolute_percentage_error: 10.2395\n",
      "Epoch 216/300\n",
      "91/91 [==============================] - 0s 77us/step - loss: 3433815.4066 - mean_absolute_percentage_error: 10.2168\n",
      "Epoch 217/300\n",
      "91/91 [==============================] - 0s 87us/step - loss: 3428802.7995 - mean_absolute_percentage_error: 10.2306\n",
      "Epoch 218/300\n",
      "91/91 [==============================] - 0s 96us/step - loss: 3443618.9890 - mean_absolute_percentage_error: 10.2366\n",
      "Epoch 219/300\n",
      "91/91 [==============================] - 0s 74us/step - loss: 3400604.1401 - mean_absolute_percentage_error: 10.1737\n",
      "Epoch 220/300\n",
      "91/91 [==============================] - 0s 94us/step - loss: 3393083.9451 - mean_absolute_percentage_error: 10.1461\n",
      "Epoch 221/300\n",
      "91/91 [==============================] - 0s 73us/step - loss: 3388894.8791 - mean_absolute_percentage_error: 10.1536\n",
      "Epoch 222/300\n",
      "91/91 [==============================] - 0s 230us/step - loss: 3379755.9258 - mean_absolute_percentage_error: 10.1456\n",
      "Epoch 223/300\n",
      "91/91 [==============================] - 0s 188us/step - loss: 3419104.5302 - mean_absolute_percentage_error: 10.2236\n",
      "Epoch 224/300\n",
      "91/91 [==============================] - 0s 106us/step - loss: 3380072.2198 - mean_absolute_percentage_error: 10.1141\n",
      "Epoch 225/300\n",
      "91/91 [==============================] - 0s 115us/step - loss: 3379305.4066 - mean_absolute_percentage_error: 10.1612\n",
      "Epoch 226/300\n",
      "91/91 [==============================] - 0s 84us/step - loss: 3357902.6593 - mean_absolute_percentage_error: 10.1238\n",
      "Epoch 227/300\n",
      "91/91 [==============================] - 0s 89us/step - loss: 3392907.3462 - mean_absolute_percentage_error: 10.1270\n",
      "Epoch 228/300\n",
      "91/91 [==============================] - 0s 101us/step - loss: 3401365.9258 - mean_absolute_percentage_error: 10.1200\n",
      "Epoch 229/300\n",
      "91/91 [==============================] - 0s 109us/step - loss: 3348734.2995 - mean_absolute_percentage_error: 10.1320\n",
      "Epoch 230/300\n",
      "91/91 [==============================] - 0s 110us/step - loss: 3354656.2610 - mean_absolute_percentage_error: 10.1245\n",
      "Epoch 231/300\n",
      "91/91 [==============================] - 0s 78us/step - loss: 3345706.9203 - mean_absolute_percentage_error: 10.0883\n",
      "Epoch 232/300\n",
      "91/91 [==============================] - 0s 80us/step - loss: 3331028.0192 - mean_absolute_percentage_error: 10.0738\n",
      "Epoch 233/300\n",
      "91/91 [==============================] - 0s 84us/step - loss: 3319076.8077 - mean_absolute_percentage_error: 10.0363\n",
      "Epoch 234/300\n",
      "91/91 [==============================] - 0s 82us/step - loss: 3299563.1978 - mean_absolute_percentage_error: 10.0374\n",
      "Epoch 235/300\n",
      "91/91 [==============================] - 0s 72us/step - loss: 3302387.9725 - mean_absolute_percentage_error: 10.0413\n",
      "Epoch 236/300\n",
      "91/91 [==============================] - 0s 80us/step - loss: 3321722.7143 - mean_absolute_percentage_error: 10.1059\n",
      "Epoch 237/300\n",
      "91/91 [==============================] - 0s 84us/step - loss: 3298406.2363 - mean_absolute_percentage_error: 10.0542\n",
      "Epoch 238/300\n",
      "91/91 [==============================] - 0s 162us/step - loss: 3260504.4918 - mean_absolute_percentage_error: 9.9708\n",
      "Epoch 239/300\n",
      "91/91 [==============================] - 0s 107us/step - loss: 3265413.0742 - mean_absolute_percentage_error: 9.9550\n",
      "Epoch 240/300\n",
      "91/91 [==============================] - 0s 92us/step - loss: 3311353.2390 - mean_absolute_percentage_error: 9.9702\n",
      "Epoch 241/300\n",
      "91/91 [==============================] - 0s 118us/step - loss: 3267465.6868 - mean_absolute_percentage_error: 9.8887\n",
      "Epoch 242/300\n",
      "91/91 [==============================] - 0s 114us/step - loss: 3252960.3791 - mean_absolute_percentage_error: 9.9994\n",
      "Epoch 243/300\n",
      "91/91 [==============================] - 0s 119us/step - loss: 3272899.8489 - mean_absolute_percentage_error: 10.0169\n",
      "Epoch 244/300\n",
      "91/91 [==============================] - 0s 107us/step - loss: 3243470.7720 - mean_absolute_percentage_error: 9.9738\n",
      "Epoch 245/300\n",
      "91/91 [==============================] - 0s 198us/step - loss: 3270488.0549 - mean_absolute_percentage_error: 9.9588\n",
      "Epoch 246/300\n",
      "91/91 [==============================] - 0s 136us/step - loss: 3246879.5495 - mean_absolute_percentage_error: 9.9212\n",
      "Epoch 247/300\n",
      "91/91 [==============================] - 0s 100us/step - loss: 3224023.0137 - mean_absolute_percentage_error: 9.9152\n",
      "Epoch 248/300\n",
      "91/91 [==============================] - 0s 120us/step - loss: 3219778.6896 - mean_absolute_percentage_error: 9.9264\n",
      "Epoch 249/300\n",
      "91/91 [==============================] - 0s 76us/step - loss: 3243533.6003 - mean_absolute_percentage_error: 9.9556\n",
      "Epoch 250/300\n",
      "91/91 [==============================] - 0s 99us/step - loss: 3212285.8709 - mean_absolute_percentage_error: 9.9013\n",
      "Epoch 251/300\n",
      "91/91 [==============================] - 0s 69us/step - loss: 3206084.8324 - mean_absolute_percentage_error: 9.8801\n",
      "Epoch 252/300\n",
      "91/91 [==============================] - 0s 201us/step - loss: 3212724.1016 - mean_absolute_percentage_error: 9.9176\n",
      "Epoch 253/300\n",
      "91/91 [==============================] - 0s 136us/step - loss: 3198597.0824 - mean_absolute_percentage_error: 9.8983\n",
      "Epoch 254/300\n",
      "91/91 [==============================] - 0s 97us/step - loss: 3195566.5852 - mean_absolute_percentage_error: 9.8566\n",
      "Epoch 255/300\n",
      "91/91 [==============================] - 0s 121us/step - loss: 3184831.6099 - mean_absolute_percentage_error: 9.8561\n",
      "Epoch 256/300\n",
      "91/91 [==============================] - 0s 119us/step - loss: 3184197.9643 - mean_absolute_percentage_error: 9.8595\n",
      "Epoch 257/300\n",
      "91/91 [==============================] - 0s 73us/step - loss: 3175930.8242 - mean_absolute_percentage_error: 9.8464\n",
      "Epoch 258/300\n",
      "91/91 [==============================] - 0s 106us/step - loss: 3155302.0714 - mean_absolute_percentage_error: 9.8187\n",
      "Epoch 259/300\n",
      "91/91 [==============================] - 0s 85us/step - loss: 3146466.9313 - mean_absolute_percentage_error: 9.8045\n",
      "Epoch 260/300\n",
      "91/91 [==============================] - 0s 118us/step - loss: 3141618.4121 - mean_absolute_percentage_error: 9.7910\n",
      "Epoch 261/300\n",
      "91/91 [==============================] - 0s 107us/step - loss: 3138428.7747 - mean_absolute_percentage_error: 9.7782\n",
      "Epoch 262/300\n",
      "91/91 [==============================] - 0s 85us/step - loss: 3130781.5549 - mean_absolute_percentage_error: 9.7790\n",
      "Epoch 263/300\n",
      "91/91 [==============================] - 0s 77us/step - loss: 3125728.1621 - mean_absolute_percentage_error: 9.7727\n",
      "Epoch 264/300\n",
      "91/91 [==============================] - 0s 68us/step - loss: 3131798.0852 - mean_absolute_percentage_error: 9.7823\n",
      "Epoch 265/300\n",
      "91/91 [==============================] - 0s 79us/step - loss: 3132074.7445 - mean_absolute_percentage_error: 9.7726\n",
      "Epoch 266/300\n",
      "91/91 [==============================] - 0s 99us/step - loss: 3106844.6538 - mean_absolute_percentage_error: 9.7456\n",
      "Epoch 267/300\n",
      "91/91 [==============================] - 0s 87us/step - loss: 3119043.8846 - mean_absolute_percentage_error: 9.7328\n",
      "Epoch 268/300\n",
      "91/91 [==============================] - 0s 96us/step - loss: 3114788.1923 - mean_absolute_percentage_error: 9.7075\n",
      "Epoch 269/300\n",
      "91/91 [==============================] - 0s 84us/step - loss: 3107773.2225 - mean_absolute_percentage_error: 9.7782\n",
      "Epoch 270/300\n",
      "91/91 [==============================] - 0s 90us/step - loss: 3109677.8379 - mean_absolute_percentage_error: 9.7789\n",
      "Epoch 271/300\n",
      "91/91 [==============================] - 0s 113us/step - loss: 3095130.5192 - mean_absolute_percentage_error: 9.7411\n",
      "Epoch 272/300\n",
      "91/91 [==============================] - 0s 117us/step - loss: 3089514.7198 - mean_absolute_percentage_error: 9.6960\n",
      "Epoch 273/300\n",
      "91/91 [==============================] - 0s 97us/step - loss: 3075550.5714 - mean_absolute_percentage_error: 9.6774\n",
      "Epoch 274/300\n",
      "91/91 [==============================] - 0s 96us/step - loss: 3073851.0962 - mean_absolute_percentage_error: 9.6923\n",
      "Epoch 275/300\n",
      "91/91 [==============================] - 0s 108us/step - loss: 3067866.3901 - mean_absolute_percentage_error: 9.6830\n",
      "Epoch 276/300\n",
      "91/91 [==============================] - 0s 80us/step - loss: 3065047.5769 - mean_absolute_percentage_error: 9.6545\n",
      "Epoch 277/300\n",
      "91/91 [==============================] - 0s 78us/step - loss: 3063168.8297 - mean_absolute_percentage_error: 9.6381\n",
      "Epoch 278/300\n",
      "91/91 [==============================] - 0s 143us/step - loss: 3067704.0824 - mean_absolute_percentage_error: 9.6689\n",
      "Epoch 279/300\n",
      "91/91 [==============================] - 0s 91us/step - loss: 3067910.5440 - mean_absolute_percentage_error: 9.6954\n",
      "Epoch 280/300\n",
      "91/91 [==============================] - 0s 78us/step - loss: 3053522.5742 - mean_absolute_percentage_error: 9.6767\n",
      "Epoch 281/300\n",
      "91/91 [==============================] - 0s 83us/step - loss: 3096205.8626 - mean_absolute_percentage_error: 9.6313\n",
      "Epoch 282/300\n",
      "91/91 [==============================] - 0s 69us/step - loss: 3051948.1896 - mean_absolute_percentage_error: 9.6005\n",
      "Epoch 283/300\n",
      "91/91 [==============================] - 0s 75us/step - loss: 3050421.4492 - mean_absolute_percentage_error: 9.6556\n",
      "Epoch 284/300\n",
      "91/91 [==============================] - 0s 75us/step - loss: 3091228.8022 - mean_absolute_percentage_error: 9.6975\n",
      "Epoch 285/300\n",
      "91/91 [==============================] - 0s 158us/step - loss: 3017211.0137 - mean_absolute_percentage_error: 9.5760\n",
      "Epoch 286/300\n",
      "91/91 [==============================] - 0s 108us/step - loss: 3016505.3214 - mean_absolute_percentage_error: 9.5862\n",
      "Epoch 287/300\n",
      "91/91 [==============================] - 0s 138us/step - loss: 3008977.5934 - mean_absolute_percentage_error: 9.6092\n",
      "Epoch 288/300\n",
      "91/91 [==============================] - 0s 78us/step - loss: 3012964.5687 - mean_absolute_percentage_error: 9.6008\n",
      "Epoch 289/300\n",
      "91/91 [==============================] - 0s 93us/step - loss: 3024648.1758 - mean_absolute_percentage_error: 9.5880\n",
      "Epoch 290/300\n",
      "91/91 [==============================] - 0s 59us/step - loss: 3016767.5907 - mean_absolute_percentage_error: 9.5710\n",
      "Epoch 291/300\n",
      "91/91 [==============================] - 0s 82us/step - loss: 3008969.9203 - mean_absolute_percentage_error: 9.5732\n",
      "Epoch 292/300\n",
      "91/91 [==============================] - 0s 84us/step - loss: 3017077.9038 - mean_absolute_percentage_error: 9.5804\n",
      "Epoch 293/300\n",
      "91/91 [==============================] - 0s 95us/step - loss: 2985235.3681 - mean_absolute_percentage_error: 9.5648\n",
      "Epoch 294/300\n",
      "91/91 [==============================] - 0s 66us/step - loss: 2984875.6374 - mean_absolute_percentage_error: 9.4998\n",
      "Epoch 295/300\n",
      "91/91 [==============================] - 0s 71us/step - loss: 3009014.0082 - mean_absolute_percentage_error: 9.5151\n",
      "Epoch 296/300\n",
      "91/91 [==============================] - 0s 70us/step - loss: 2972116.6291 - mean_absolute_percentage_error: 9.4871\n",
      "Epoch 297/300\n",
      "91/91 [==============================] - 0s 73us/step - loss: 2979119.8022 - mean_absolute_percentage_error: 9.5128\n",
      "Epoch 298/300\n",
      "91/91 [==============================] - 0s 78us/step - loss: 2988027.0852 - mean_absolute_percentage_error: 9.4855\n",
      "Epoch 299/300\n",
      "91/91 [==============================] - 0s 73us/step - loss: 3010805.6209 - mean_absolute_percentage_error: 9.5441\n",
      "Epoch 300/300\n",
      "91/91 [==============================] - 0s 76us/step - loss: 2949845.5577 - mean_absolute_percentage_error: 9.4771\n"
     ]
    },
    {
     "data": {
      "text/plain": [
       "<keras.callbacks.callbacks.History at 0x7fedfad42358>"
      ]
     },
     "execution_count": 16,
     "metadata": {
      "tags": []
     },
     "output_type": "execute_result"
    }
   ],
   "source": [
    "#  Обучение нейронной сети \n",
    "\n",
    "# Creating a model\n",
    "model = Sequential()\n",
    "model.add(Dense(8, input_dim=12, activation='relu'))\n",
    "model.add(Dense(1, activation='linear'))\n",
    "\n",
    "\n",
    "# Compiling model\n",
    "model.compile(loss='mean_squared_error', optimizer='adam', metrics=['mean_absolute_percentage_error'])\n",
    "\n",
    "\n",
    "# Training a model\n",
    "model.fit(X_train, y_train, epochs=300, batch_size=None)\n",
    "\n"
   ]
  },
  {
   "cell_type": "code",
   "execution_count": 17,
   "metadata": {
    "colab": {
     "base_uri": "https://localhost:8080/",
     "height": 68
    },
    "colab_type": "code",
    "id": "NCtgQI1crfT2",
    "outputId": "b18ed838-902c-4a55-92f6-5c3443fa5e29"
   },
   "outputs": [
    {
     "name": "stdout",
     "output_type": "stream",
     "text": [
      "\r",
      "5/5 [==============================] - 0s 4ms/step\n",
      "\n",
      "MAPE: 12.00%\n"
     ]
    }
   ],
   "source": [
    "# оценка качества модели на тестовом множестве\n",
    "scores = model.evaluate(X_test, y_test)\n",
    "print(\"\\nMAPE: %.2f%%\" % (scores[1]))"
   ]
  },
  {
   "cell_type": "code",
   "execution_count": 0,
   "metadata": {
    "colab": {},
    "colab_type": "code",
    "id": "rtrG7mJRrfT6"
   },
   "outputs": [],
   "source": [
    "# Вычисляем прогноз\n",
    "predictions = model.predict(X_test)\n"
   ]
  },
  {
   "cell_type": "code",
   "execution_count": 0,
   "metadata": {
    "colab": {},
    "colab_type": "code",
    "id": "xxN4_qierfT8"
   },
   "outputs": [],
   "source": [
    "# Вычисляем подгонку\n",
    "predictions_train = model.predict(X_train)"
   ]
  },
  {
   "cell_type": "code",
   "execution_count": 20,
   "metadata": {
    "colab": {
     "base_uri": "https://localhost:8080/",
     "height": 85
    },
    "colab_type": "code",
    "id": "X2PxdCTFrfT_",
    "outputId": "051af2b7-a7f6-450b-b64d-f2dd79676202"
   },
   "outputs": [
    {
     "name": "stdout",
     "output_type": "stream",
     "text": [
      "(91, 12)\n",
      "(91,)\n",
      "(5, 12)\n",
      "(5,)\n"
     ]
    }
   ],
   "source": [
    "# Вспоминаем размеры таблиц\n",
    "print(X_train.shape)\n",
    "print(y_train.shape)\n",
    "print(X_test.shape)\n",
    "print(y_test.shape)"
   ]
  },
  {
   "cell_type": "code",
   "execution_count": 0,
   "metadata": {
    "colab": {},
    "colab_type": "code",
    "id": "mOOW0IEJrfUC"
   },
   "outputs": [],
   "source": [
    "#   было 108 наблюдений\n",
    "\n",
    "#   отбросили 12 стало 96\n",
    "#   train 91\n",
    "#   test  5\n"
   ]
  },
  {
   "cell_type": "code",
   "execution_count": 22,
   "metadata": {
    "colab": {
     "base_uri": "https://localhost:8080/",
     "height": 282
    },
    "colab_type": "code",
    "id": "YuDYaOForfUF",
    "outputId": "b85a3c9c-452e-48f5-82d3-235a47ed9c25"
   },
   "outputs": [
    {
     "data": {
      "text/plain": [
       "[<matplotlib.lines.Line2D at 0x7fedf4a69da0>]"
      ]
     },
     "execution_count": 22,
     "metadata": {
      "tags": []
     },
     "output_type": "execute_result"
    },
    {
     "data": {
      "image/png": "[encoded data removed]",
      "text/plain": [
       "<Figure size 432x288 with 1 Axes>"
      ]
     },
     "metadata": {
      "needs_background": "light",
      "tags": []
     },
     "output_type": "display_data"
    }
   ],
   "source": [
    "#   График с результатами\n",
    "\n",
    "#   numpy.arange([start, ]stop, [step, ]dtype=None)¶\n",
    "\n",
    "x2 = numpy.arange(0, 91, 1)\n",
    "\n",
    "x3 = numpy.arange(91, 96, 1)\n",
    "\n",
    "\n",
    "plt.plot(x2, y_train, color='blue')\n",
    "\n",
    "plt.plot(x2, predictions_train, color='green')\n",
    "\n",
    "plt.plot(x3, y_test, color='blue')\n",
    "\n",
    "plt.plot(x3, predictions, color='red')\n",
    "\n"
   ]
  },
  {
   "cell_type": "markdown",
   "metadata": {
    "colab_type": "text",
    "id": "xk4LJmpZGtpP"
   },
   "source": [
    "TORCH"
   ]
  },
  {
   "cell_type": "code",
   "execution_count": 0,
   "metadata": {
    "colab": {},
    "colab_type": "code",
    "id": "zc2gK_ItGZni"
   },
   "outputs": [],
   "source": [
    "import torch\n",
    "from torch.autograd import Variable\n",
    "import torch.nn.functional as F\n",
    "import torch.utils.data as Data\n",
    "\n",
    "import matplotlib.pyplot as plt\n",
    "%matplotlib inline\n",
    "\n",
    "import numpy as np"
   ]
  },
  {
   "cell_type": "code",
   "execution_count": 0,
   "metadata": {
    "colab": {},
    "colab_type": "code",
    "id": "ClI5uq2wG3YQ"
   },
   "outputs": [],
   "source": [
    "X_train_tensor = torch.FloatTensor(X_train)\n",
    "y_train_tensor = torch.FloatTensor(y_train)\n",
    "X_test_tensor  = torch.FloatTensor(X_test)\n",
    "y_test_tensor = torch.FloatTensor(y_test)"
   ]
  },
  {
   "cell_type": "code",
   "execution_count": 25,
   "metadata": {
    "colab": {
     "base_uri": "https://localhost:8080/",
     "height": 105
    },
    "colab_type": "code",
    "id": "t097Br8wG49I",
    "outputId": "51e18e28-e489-4f25-9e38-cc3e69388a8a"
   },
   "outputs": [
    {
     "name": "stderr",
     "output_type": "stream",
     "text": [
      "/usr/local/lib/python3.6/dist-packages/torch/nn/modules/loss.py:432: UserWarning: Using a target size (torch.Size([10])) that is different to the input size (torch.Size([10, 1])). This will likely lead to incorrect results due to broadcasting. Please ensure they have the same size.\n",
      "  return F.mse_loss(input, target, reduction=self.reduction)\n",
      "/usr/local/lib/python3.6/dist-packages/torch/nn/modules/loss.py:432: UserWarning: Using a target size (torch.Size([1])) that is different to the input size (torch.Size([1, 1])). This will likely lead to incorrect results due to broadcasting. Please ensure they have the same size.\n",
      "  return F.mse_loss(input, target, reduction=self.reduction)\n"
     ]
    }
   ],
   "source": [
    "torch.manual_seed(42)\n",
    "BATCH_SIZE = 10\n",
    "EPOCH = 1000\n",
    "\n",
    "x = X_train_tensor\n",
    "y = y_train_tensor\n",
    "\n",
    "x, y = Variable(x), Variable(y)\n",
    "\n",
    "D_in, D_out = 12, 1\n",
    "\n",
    "net = torch.nn.Sequential(\n",
    "        torch.nn.Linear(D_in, 200),\n",
    "        torch.nn.LeakyReLU(),\n",
    "        torch.nn.Linear(200, 50),\n",
    "        torch.nn.LeakyReLU(),\n",
    "        torch.nn.Linear(50, D_out),\n",
    "    )\n",
    "\n",
    "optimizer = torch.optim.Adam(net.parameters(), lr=0.0001)\n",
    "loss_func = torch.nn.MSELoss()\n",
    "\n",
    "torch_dataset = Data.TensorDataset(x, y)\n",
    "loader = Data.DataLoader(dataset=torch_dataset, \n",
    "                        batch_size=BATCH_SIZE, \n",
    "                        shuffle=True, num_workers=2,)\n",
    "\n",
    "for epoch in range(EPOCH):\n",
    "    for step, (batch_x, batch_y) in enumerate(loader):\n",
    "        b_x = Variable(batch_x)\n",
    "        b_y = Variable(batch_y)\n",
    "\n",
    "        prediction = net(b_x)\n",
    "        \n",
    "        loss = loss_func(prediction, b_y)\n",
    "\n",
    "        optimizer.zero_grad()\n",
    "        loss.backward()\n",
    "        optimizer.step()"
   ]
  },
  {
   "cell_type": "code",
   "execution_count": 26,
   "metadata": {
    "colab": {
     "base_uri": "https://localhost:8080/",
     "height": 34
    },
    "colab_type": "code",
    "id": "jcozLW1NHGd1",
    "outputId": "253ec9e5-b75f-4f59-85ed-03f979b21fe1"
   },
   "outputs": [
    {
     "name": "stdout",
     "output_type": "stream",
     "text": [
      "MAPE = 11.651587703099446%\n"
     ]
    }
   ],
   "source": [
    "y_test_pred = net(X_test_tensor)\n",
    "y_test_pred = y_test_pred.data.numpy()\n",
    "\n",
    "mean_val = np.mean(np.abs((y_test - y_test_pred) / y_test)) * 100\n",
    "\n",
    "print(\"MAPE = \" + str(mean_val)+\"%\")"
   ]
  }
 ],
 "metadata": {
  "colab": {
   "collapsed_sections": [],
   "name": "Полянчиков_nnet_forecast_1.ipynb",
   "provenance": []
  },
  "kernelspec": {
   "display_name": "Python 3",
   "language": "python",
   "name": "python3"
  },
  "language_info": {
   "codemirror_mode": {
    "name": "ipython",
    "version": 3
   },
   "file_extension": ".py",
   "mimetype": "text/x-python",
   "name": "python",
   "nbconvert_exporter": "python",
   "pygments_lexer": "ipython3",
   "version": "3.7.6"
  }
 },
 "nbformat": 4,
 "nbformat_minor": 1
}
