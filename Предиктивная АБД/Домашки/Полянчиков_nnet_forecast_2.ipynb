{
  "nbformat": 4,
  "nbformat_minor": 0,
  "metadata": {
    "kernelspec": {
      "display_name": "Python 3",
      "language": "python",
      "name": "python3"
    },
    "language_info": {
      "codemirror_mode": {
        "name": "ipython",
        "version": 3
      },
      "file_extension": ".py",
      "mimetype": "text/x-python",
      "name": "python",
      "nbconvert_exporter": "python",
      "pygments_lexer": "ipython3",
      "version": "3.6.5"
    },
    "colab": {
      "name": "Полянчиков_nnet_forecast_2.ipynb",
      "provenance": [],
      "collapsed_sections": [],
      "toc_visible": true
    }
  },
  "cells": [
    {
      "cell_type": "code",
      "metadata": {
        "id": "2Nyh6xINH8pb",
        "colab_type": "code",
        "colab": {}
      },
      "source": [
        "# Импорт библиотек\n",
        "import numpy\n",
        "import pandas as pd"
      ],
      "execution_count": 0,
      "outputs": []
    },
    {
      "cell_type": "code",
      "metadata": {
        "id": "JunVzI1mH8pg",
        "colab_type": "code",
        "colab": {}
      },
      "source": [
        "# Импорт matplotlib\n",
        "\n",
        "import matplotlib\n",
        "import matplotlib.pyplot as plt\n",
        "matplotlib.style.use('ggplot')\n",
        "%matplotlib inline"
      ],
      "execution_count": 0,
      "outputs": []
    },
    {
      "cell_type": "code",
      "metadata": {
        "id": "1TTpxT8rH8pk",
        "colab_type": "code",
        "colab": {}
      },
      "source": [
        "# Задаем рабочую папку\n",
        "\n",
        "import os\n",
        "os.chdir(\"C:/Users/04_series_g\")\n"
      ],
      "execution_count": 0,
      "outputs": []
    },
    {
      "cell_type": "code",
      "metadata": {
        "id": "xbgGXNZ2H8po",
        "colab_type": "code",
        "colab": {}
      },
      "source": [
        "# Импорт обучающей выборки\n",
        "ser_g = pd.read_csv('series_g.csv', sep=';', header=0)\n"
      ],
      "execution_count": 0,
      "outputs": []
    },
    {
      "cell_type": "code",
      "metadata": {
        "id": "Yw6aIen_H8ps",
        "colab_type": "code",
        "colab": {
          "base_uri": "https://localhost:8080/",
          "height": 204
        },
        "outputId": "f99bb541-04ae-41c4-fa27-0b3c59691034"
      },
      "source": [
        "#  Знакомимся с данными\n",
        "ser_g.head()"
      ],
      "execution_count": 5,
      "outputs": [
        {
          "output_type": "execute_result",
          "data": {
            "text/html": [
              "<div>\n",
              "<style scoped>\n",
              "    .dataframe tbody tr th:only-of-type {\n",
              "        vertical-align: middle;\n",
              "    }\n",
              "\n",
              "    .dataframe tbody tr th {\n",
              "        vertical-align: top;\n",
              "    }\n",
              "\n",
              "    .dataframe thead th {\n",
              "        text-align: right;\n",
              "    }\n",
              "</style>\n",
              "<table border=\"1\" class=\"dataframe\">\n",
              "  <thead>\n",
              "    <tr style=\"text-align: right;\">\n",
              "      <th></th>\n",
              "      <th>date</th>\n",
              "      <th>series_g</th>\n",
              "    </tr>\n",
              "  </thead>\n",
              "  <tbody>\n",
              "    <tr>\n",
              "      <th>0</th>\n",
              "      <td>JAN 1949</td>\n",
              "      <td>112</td>\n",
              "    </tr>\n",
              "    <tr>\n",
              "      <th>1</th>\n",
              "      <td>FEB 1949</td>\n",
              "      <td>118</td>\n",
              "    </tr>\n",
              "    <tr>\n",
              "      <th>2</th>\n",
              "      <td>MAR 1949</td>\n",
              "      <td>132</td>\n",
              "    </tr>\n",
              "    <tr>\n",
              "      <th>3</th>\n",
              "      <td>APR 1949</td>\n",
              "      <td>129</td>\n",
              "    </tr>\n",
              "    <tr>\n",
              "      <th>4</th>\n",
              "      <td>MAY 1949</td>\n",
              "      <td>121</td>\n",
              "    </tr>\n",
              "  </tbody>\n",
              "</table>\n",
              "</div>"
            ],
            "text/plain": [
              "       date  series_g\n",
              "0  JAN 1949       112\n",
              "1  FEB 1949       118\n",
              "2  MAR 1949       132\n",
              "3  APR 1949       129\n",
              "4  MAY 1949       121"
            ]
          },
          "metadata": {
            "tags": []
          },
          "execution_count": 5
        }
      ]
    },
    {
      "cell_type": "code",
      "metadata": {
        "id": "bR2ad2fIH8px",
        "colab_type": "code",
        "colab": {
          "base_uri": "https://localhost:8080/",
          "height": 34
        },
        "outputId": "0d6efea4-baf1-4233-8727-277b6e8c65a7"
      },
      "source": [
        "#  Знакомимся с данными\n",
        "ser_g.shape"
      ],
      "execution_count": 6,
      "outputs": [
        {
          "output_type": "execute_result",
          "data": {
            "text/plain": [
              "(144, 2)"
            ]
          },
          "metadata": {
            "tags": []
          },
          "execution_count": 6
        }
      ]
    },
    {
      "cell_type": "code",
      "metadata": {
        "id": "eDThrN3eH8p1",
        "colab_type": "code",
        "colab": {
          "base_uri": "https://localhost:8080/",
          "height": 204
        },
        "outputId": "f27dd04b-2108-412c-af17-45efad25b77e"
      },
      "source": [
        "#  Знакомимся с данными\n",
        "ser_g.tail()"
      ],
      "execution_count": 7,
      "outputs": [
        {
          "output_type": "execute_result",
          "data": {
            "text/html": [
              "<div>\n",
              "<style scoped>\n",
              "    .dataframe tbody tr th:only-of-type {\n",
              "        vertical-align: middle;\n",
              "    }\n",
              "\n",
              "    .dataframe tbody tr th {\n",
              "        vertical-align: top;\n",
              "    }\n",
              "\n",
              "    .dataframe thead th {\n",
              "        text-align: right;\n",
              "    }\n",
              "</style>\n",
              "<table border=\"1\" class=\"dataframe\">\n",
              "  <thead>\n",
              "    <tr style=\"text-align: right;\">\n",
              "      <th></th>\n",
              "      <th>date</th>\n",
              "      <th>series_g</th>\n",
              "    </tr>\n",
              "  </thead>\n",
              "  <tbody>\n",
              "    <tr>\n",
              "      <th>139</th>\n",
              "      <td>AUG 1960</td>\n",
              "      <td>606</td>\n",
              "    </tr>\n",
              "    <tr>\n",
              "      <th>140</th>\n",
              "      <td>SEP 1960</td>\n",
              "      <td>508</td>\n",
              "    </tr>\n",
              "    <tr>\n",
              "      <th>141</th>\n",
              "      <td>OCT 1960</td>\n",
              "      <td>461</td>\n",
              "    </tr>\n",
              "    <tr>\n",
              "      <th>142</th>\n",
              "      <td>NOV 1960</td>\n",
              "      <td>390</td>\n",
              "    </tr>\n",
              "    <tr>\n",
              "      <th>143</th>\n",
              "      <td>DEC 1960</td>\n",
              "      <td>432</td>\n",
              "    </tr>\n",
              "  </tbody>\n",
              "</table>\n",
              "</div>"
            ],
            "text/plain": [
              "         date  series_g\n",
              "139  AUG 1960       606\n",
              "140  SEP 1960       508\n",
              "141  OCT 1960       461\n",
              "142  NOV 1960       390\n",
              "143  DEC 1960       432"
            ]
          },
          "metadata": {
            "tags": []
          },
          "execution_count": 7
        }
      ]
    },
    {
      "cell_type": "code",
      "metadata": {
        "id": "tIXVYKZsH8p5",
        "colab_type": "code",
        "colab": {
          "base_uri": "https://localhost:8080/",
          "height": 282
        },
        "outputId": "00e4839e-f6b3-4742-b381-e6550fe1d468"
      },
      "source": [
        "#  График, чтобы ответить на 4 вопроса\n",
        "ser_g.iloc[:,1].plot()\n"
      ],
      "execution_count": 8,
      "outputs": [
        {
          "output_type": "execute_result",
          "data": {
            "text/plain": [
              "<matplotlib.axes._subplots.AxesSubplot at 0x7f7202daf9b0>"
            ]
          },
          "metadata": {
            "tags": []
          },
          "execution_count": 8
        },
        {
          "output_type": "display_data",
          "data": {
            "image/png": "[encoded data removed]",
            "text/plain": [
              "<Figure size 432x288 with 1 Axes>"
            ]
          },
          "metadata": {
            "tags": [],
            "needs_background": "light"
          }
        }
      ]
    },
    {
      "cell_type": "code",
      "metadata": {
        "id": "QV1HnW3FH8p9",
        "colab_type": "code",
        "colab": {}
      },
      "source": [
        "#  Надо прогнозировать логарифм\n",
        "ser_g['log_y'] = numpy.log10(ser_g['series_g'])"
      ],
      "execution_count": 0,
      "outputs": []
    },
    {
      "cell_type": "code",
      "metadata": {
        "id": "cATKf92PH8qA",
        "colab_type": "code",
        "colab": {
          "base_uri": "https://localhost:8080/",
          "height": 299
        },
        "outputId": "2f730b06-5d93-440a-d480-ca55b638aaf9"
      },
      "source": [
        "fig = plt.figure(figsize=(12, 4))\n",
        "ax1 = fig.add_subplot(121)\n",
        "ser_g['series_g'].plot(ax=ax1)\n",
        "ax1.set_title(u'Объём пассажироперевозок')\n",
        "ax1.set_ylabel(u'Тысяч человек')\n",
        "\n",
        "ax2 = fig.add_subplot(122)\n",
        "pd.Series(ser_g['log_y']).plot(ax=ax2)\n",
        "ax2.set_title(u'log10 от объёма пассажироперевозок')\n",
        "ax2.set_ylabel(u'log10 от тысяч человек')\n"
      ],
      "execution_count": 10,
      "outputs": [
        {
          "output_type": "execute_result",
          "data": {
            "text/plain": [
              "Text(0, 0.5, 'log10 от тысяч человек')"
            ]
          },
          "metadata": {
            "tags": []
          },
          "execution_count": 10
        },
        {
          "output_type": "display_data",
          "data": {
            "image/png": "[encoded data removed]",
            "text/plain": [
              "<Figure size 864x288 with 2 Axes>"
            ]
          },
          "metadata": {
            "tags": [],
            "needs_background": "light"
          }
        }
      ]
    },
    {
      "cell_type": "code",
      "metadata": {
        "id": "O9JfEQfUH8qD",
        "colab_type": "code",
        "colab": {
          "base_uri": "https://localhost:8080/",
          "height": 289
        },
        "outputId": "475f3ea4-1cfe-4695-ec4c-1c073a93527b"
      },
      "source": [
        "# Преобразуем данные\n",
        "\n",
        "ser_g_2 = pd.DataFrame()\n",
        "\n",
        "for i in range(12,0,-1):\n",
        "    ser_g_2['t-'+str(i)] = ser_g.iloc[:,2].shift(i)\n",
        "\n",
        "ser_g_2['t'] = ser_g.iloc[:,2].values\n",
        "\n",
        "print(ser_g_2.head(13))\n",
        "\n",
        "\n"
      ],
      "execution_count": 11,
      "outputs": [
        {
          "output_type": "stream",
          "text": [
            "        t-12      t-11      t-10  ...       t-2       t-1         t\n",
            "0        NaN       NaN       NaN  ...       NaN       NaN  2.049218\n",
            "1        NaN       NaN       NaN  ...       NaN  2.049218  2.071882\n",
            "2        NaN       NaN       NaN  ...  2.049218  2.071882  2.120574\n",
            "3        NaN       NaN       NaN  ...  2.071882  2.120574  2.110590\n",
            "4        NaN       NaN       NaN  ...  2.120574  2.110590  2.082785\n",
            "5        NaN       NaN       NaN  ...  2.110590  2.082785  2.130334\n",
            "6        NaN       NaN       NaN  ...  2.082785  2.130334  2.170262\n",
            "7        NaN       NaN       NaN  ...  2.130334  2.170262  2.170262\n",
            "8        NaN       NaN       NaN  ...  2.170262  2.170262  2.133539\n",
            "9        NaN       NaN       NaN  ...  2.170262  2.133539  2.075547\n",
            "10       NaN       NaN  2.049218  ...  2.133539  2.075547  2.017033\n",
            "11       NaN  2.049218  2.071882  ...  2.075547  2.017033  2.071882\n",
            "12  2.049218  2.071882  2.120574  ...  2.017033  2.071882  2.060698\n",
            "\n",
            "[13 rows x 13 columns]\n"
          ],
          "name": "stdout"
        }
      ]
    },
    {
      "cell_type": "code",
      "metadata": {
        "id": "UKhwt8KAH8qH",
        "colab_type": "code",
        "colab": {
          "base_uri": "https://localhost:8080/",
          "height": 204
        },
        "outputId": "d433e3a9-85f1-4883-a345-f630719599ff"
      },
      "source": [
        "#  Отрезаем первые 12 строк\n",
        "ser_g_4 = ser_g_2[12:]\n",
        "\n",
        "ser_g_4.head()"
      ],
      "execution_count": 12,
      "outputs": [
        {
          "output_type": "execute_result",
          "data": {
            "text/html": [
              "<div>\n",
              "<style scoped>\n",
              "    .dataframe tbody tr th:only-of-type {\n",
              "        vertical-align: middle;\n",
              "    }\n",
              "\n",
              "    .dataframe tbody tr th {\n",
              "        vertical-align: top;\n",
              "    }\n",
              "\n",
              "    .dataframe thead th {\n",
              "        text-align: right;\n",
              "    }\n",
              "</style>\n",
              "<table border=\"1\" class=\"dataframe\">\n",
              "  <thead>\n",
              "    <tr style=\"text-align: right;\">\n",
              "      <th></th>\n",
              "      <th>t-12</th>\n",
              "      <th>t-11</th>\n",
              "      <th>t-10</th>\n",
              "      <th>t-9</th>\n",
              "      <th>t-8</th>\n",
              "      <th>t-7</th>\n",
              "      <th>t-6</th>\n",
              "      <th>t-5</th>\n",
              "      <th>t-4</th>\n",
              "      <th>t-3</th>\n",
              "      <th>t-2</th>\n",
              "      <th>t-1</th>\n",
              "      <th>t</th>\n",
              "    </tr>\n",
              "  </thead>\n",
              "  <tbody>\n",
              "    <tr>\n",
              "      <th>12</th>\n",
              "      <td>2.049218</td>\n",
              "      <td>2.071882</td>\n",
              "      <td>2.120574</td>\n",
              "      <td>2.110590</td>\n",
              "      <td>2.082785</td>\n",
              "      <td>2.130334</td>\n",
              "      <td>2.170262</td>\n",
              "      <td>2.170262</td>\n",
              "      <td>2.133539</td>\n",
              "      <td>2.075547</td>\n",
              "      <td>2.017033</td>\n",
              "      <td>2.071882</td>\n",
              "      <td>2.060698</td>\n",
              "    </tr>\n",
              "    <tr>\n",
              "      <th>13</th>\n",
              "      <td>2.071882</td>\n",
              "      <td>2.120574</td>\n",
              "      <td>2.110590</td>\n",
              "      <td>2.082785</td>\n",
              "      <td>2.130334</td>\n",
              "      <td>2.170262</td>\n",
              "      <td>2.170262</td>\n",
              "      <td>2.133539</td>\n",
              "      <td>2.075547</td>\n",
              "      <td>2.017033</td>\n",
              "      <td>2.071882</td>\n",
              "      <td>2.060698</td>\n",
              "      <td>2.100371</td>\n",
              "    </tr>\n",
              "    <tr>\n",
              "      <th>14</th>\n",
              "      <td>2.120574</td>\n",
              "      <td>2.110590</td>\n",
              "      <td>2.082785</td>\n",
              "      <td>2.130334</td>\n",
              "      <td>2.170262</td>\n",
              "      <td>2.170262</td>\n",
              "      <td>2.133539</td>\n",
              "      <td>2.075547</td>\n",
              "      <td>2.017033</td>\n",
              "      <td>2.071882</td>\n",
              "      <td>2.060698</td>\n",
              "      <td>2.100371</td>\n",
              "      <td>2.149219</td>\n",
              "    </tr>\n",
              "    <tr>\n",
              "      <th>15</th>\n",
              "      <td>2.110590</td>\n",
              "      <td>2.082785</td>\n",
              "      <td>2.130334</td>\n",
              "      <td>2.170262</td>\n",
              "      <td>2.170262</td>\n",
              "      <td>2.133539</td>\n",
              "      <td>2.075547</td>\n",
              "      <td>2.017033</td>\n",
              "      <td>2.071882</td>\n",
              "      <td>2.060698</td>\n",
              "      <td>2.100371</td>\n",
              "      <td>2.149219</td>\n",
              "      <td>2.130334</td>\n",
              "    </tr>\n",
              "    <tr>\n",
              "      <th>16</th>\n",
              "      <td>2.082785</td>\n",
              "      <td>2.130334</td>\n",
              "      <td>2.170262</td>\n",
              "      <td>2.170262</td>\n",
              "      <td>2.133539</td>\n",
              "      <td>2.075547</td>\n",
              "      <td>2.017033</td>\n",
              "      <td>2.071882</td>\n",
              "      <td>2.060698</td>\n",
              "      <td>2.100371</td>\n",
              "      <td>2.149219</td>\n",
              "      <td>2.130334</td>\n",
              "      <td>2.096910</td>\n",
              "    </tr>\n",
              "  </tbody>\n",
              "</table>\n",
              "</div>"
            ],
            "text/plain": [
              "        t-12      t-11      t-10  ...       t-2       t-1         t\n",
              "12  2.049218  2.071882  2.120574  ...  2.017033  2.071882  2.060698\n",
              "13  2.071882  2.120574  2.110590  ...  2.071882  2.060698  2.100371\n",
              "14  2.120574  2.110590  2.082785  ...  2.060698  2.100371  2.149219\n",
              "15  2.110590  2.082785  2.130334  ...  2.100371  2.149219  2.130334\n",
              "16  2.082785  2.130334  2.170262  ...  2.149219  2.130334  2.096910\n",
              "\n",
              "[5 rows x 13 columns]"
            ]
          },
          "metadata": {
            "tags": []
          },
          "execution_count": 12
        }
      ]
    },
    {
      "cell_type": "code",
      "metadata": {
        "id": "vYG4NevWH8qM",
        "colab_type": "code",
        "colab": {}
      },
      "source": [
        "#  предикторы и отклик разделяем\n",
        "# Отклик  вектор y\n",
        "y = ser_g_4['t']\n",
        "# Предикторы - таблица X\n",
        "X = ser_g_4.drop('t', axis=1)"
      ],
      "execution_count": 0,
      "outputs": []
    },
    {
      "cell_type": "code",
      "metadata": {
        "id": "HQ-hRyOOH8qP",
        "colab_type": "code",
        "colab": {}
      },
      "source": [
        "#  Разделяем на обучающую и тестовую выборки\n",
        "#  Тестовая - последние наблюдения\n",
        "X_train = X[:120]\n",
        "y_train = y[:120]\n",
        "X_test  = X[120:]\n",
        "y_test  = y[120:]"
      ],
      "execution_count": 0,
      "outputs": []
    },
    {
      "cell_type": "code",
      "metadata": {
        "id": "DJZ4W7TxH8qT",
        "colab_type": "code",
        "colab": {
          "base_uri": "https://localhost:8080/",
          "height": 102
        },
        "outputId": "6b31a4f4-763a-45eb-d1ba-5602af8f116e"
      },
      "source": [
        "#  Все хорошо?\n",
        "print(ser_g_4.shape)\n",
        "print(X_train.shape)\n",
        "print(y_train.shape)\n",
        "print(X_test.shape)\n",
        "print(y_test.shape)"
      ],
      "execution_count": 15,
      "outputs": [
        {
          "output_type": "stream",
          "text": [
            "(132, 13)\n",
            "(120, 12)\n",
            "(120,)\n",
            "(12, 12)\n",
            "(12,)\n"
          ],
          "name": "stdout"
        }
      ]
    },
    {
      "cell_type": "code",
      "metadata": {
        "id": "vQda_IOAH8qY",
        "colab_type": "code",
        "colab": {
          "base_uri": "https://localhost:8080/",
          "height": 153
        },
        "outputId": "a509791b-9ae7-4fb0-83e8-9baf1f842182"
      },
      "source": [
        "#  Все хорошо?\n",
        "print(X_train.head(5))"
      ],
      "execution_count": 16,
      "outputs": [
        {
          "output_type": "stream",
          "text": [
            "        t-12      t-11      t-10  ...       t-3       t-2       t-1\n",
            "12  2.049218  2.071882  2.120574  ...  2.075547  2.017033  2.071882\n",
            "13  2.071882  2.120574  2.110590  ...  2.017033  2.071882  2.060698\n",
            "14  2.120574  2.110590  2.082785  ...  2.071882  2.060698  2.100371\n",
            "15  2.110590  2.082785  2.130334  ...  2.060698  2.100371  2.149219\n",
            "16  2.082785  2.130334  2.170262  ...  2.100371  2.149219  2.130334\n",
            "\n",
            "[5 rows x 12 columns]\n"
          ],
          "name": "stdout"
        }
      ]
    },
    {
      "cell_type": "code",
      "metadata": {
        "id": "JYYmc1ySH8qb",
        "colab_type": "code",
        "colab": {}
      },
      "source": [
        "#  Преобразование pandas dataframe в numpy array\n",
        "X_train = X_train.values\n",
        "X_test = X_test.values\n",
        "y_train = y_train.values\n",
        "y_test = y_test.values\n"
      ],
      "execution_count": 0,
      "outputs": []
    },
    {
      "cell_type": "code",
      "metadata": {
        "id": "NN25W6obH8qf",
        "colab_type": "code",
        "colab": {
          "base_uri": "https://localhost:8080/",
          "height": 34
        },
        "outputId": "edb3c223-1f09-4339-fcb3-dd1e3ad62d7f"
      },
      "source": [
        "from keras.models import Sequential\n",
        "from keras.layers import Dense\n"
      ],
      "execution_count": 18,
      "outputs": [
        {
          "output_type": "stream",
          "text": [
            "Using TensorFlow backend.\n"
          ],
          "name": "stderr"
        }
      ]
    },
    {
      "cell_type": "code",
      "metadata": {
        "id": "93kQlWLdH8qk",
        "colab_type": "code",
        "colab": {
          "base_uri": "https://localhost:8080/",
          "height": 1000
        },
        "outputId": "a99f8753-3964-43ba-f3a9-00050c483904"
      },
      "source": [
        "#  Обучение нейронной сети \n",
        "\n",
        "# Creating a model\n",
        "model = Sequential()\n",
        "model.add(Dense(8, input_dim=12, activation='relu'))\n",
        "model.add(Dense(1, activation='linear'))\n",
        "\n",
        "\n",
        "# Compiling model\n",
        "model.compile(loss='mean_squared_error', optimizer='adam', metrics=['mean_absolute_percentage_error'])\n",
        "\n",
        "\n",
        "# Training a model\n",
        "model.fit(X_train, y_train, epochs=300, batch_size=None)\n",
        "\n"
      ],
      "execution_count": 19,
      "outputs": [
        {
          "output_type": "stream",
          "text": [
            "Epoch 1/300\n",
            "120/120 [==============================] - 0s 2ms/step - loss: 1.1151 - mean_absolute_percentage_error: 43.6430\n",
            "Epoch 2/300\n",
            "120/120 [==============================] - 0s 76us/step - loss: 0.8454 - mean_absolute_percentage_error: 37.9517\n",
            "Epoch 3/300\n",
            "120/120 [==============================] - 0s 57us/step - loss: 0.6062 - mean_absolute_percentage_error: 32.1090\n",
            "Epoch 4/300\n",
            "120/120 [==============================] - 0s 56us/step - loss: 0.4101 - mean_absolute_percentage_error: 26.3572\n",
            "Epoch 5/300\n",
            "120/120 [==============================] - 0s 59us/step - loss: 0.2672 - mean_absolute_percentage_error: 21.2442\n",
            "Epoch 6/300\n",
            "120/120 [==============================] - 0s 58us/step - loss: 0.1651 - mean_absolute_percentage_error: 16.5902\n",
            "Epoch 7/300\n",
            "120/120 [==============================] - 0s 67us/step - loss: 0.0920 - mean_absolute_percentage_error: 12.2410\n",
            "Epoch 8/300\n",
            "120/120 [==============================] - 0s 64us/step - loss: 0.0440 - mean_absolute_percentage_error: 8.3201\n",
            "Epoch 9/300\n",
            "120/120 [==============================] - 0s 50us/step - loss: 0.0175 - mean_absolute_percentage_error: 4.8959\n",
            "Epoch 10/300\n",
            "120/120 [==============================] - 0s 57us/step - loss: 0.0062 - mean_absolute_percentage_error: 2.5053\n",
            "Epoch 11/300\n",
            "120/120 [==============================] - 0s 63us/step - loss: 0.0030 - mean_absolute_percentage_error: 1.8375\n",
            "Epoch 12/300\n",
            "120/120 [==============================] - 0s 55us/step - loss: 0.0046 - mean_absolute_percentage_error: 2.3941\n",
            "Epoch 13/300\n",
            "120/120 [==============================] - 0s 54us/step - loss: 0.0065 - mean_absolute_percentage_error: 2.9183\n",
            "Epoch 14/300\n",
            "120/120 [==============================] - 0s 62us/step - loss: 0.0075 - mean_absolute_percentage_error: 3.1572\n",
            "Epoch 15/300\n",
            "120/120 [==============================] - 0s 60us/step - loss: 0.0072 - mean_absolute_percentage_error: 3.0877\n",
            "Epoch 16/300\n",
            "120/120 [==============================] - 0s 56us/step - loss: 0.0061 - mean_absolute_percentage_error: 2.8422\n",
            "Epoch 17/300\n",
            "120/120 [==============================] - 0s 74us/step - loss: 0.0049 - mean_absolute_percentage_error: 2.5007\n",
            "Epoch 18/300\n",
            "120/120 [==============================] - 0s 80us/step - loss: 0.0039 - mean_absolute_percentage_error: 2.2005\n",
            "Epoch 19/300\n",
            "120/120 [==============================] - 0s 78us/step - loss: 0.0034 - mean_absolute_percentage_error: 1.9953\n",
            "Epoch 20/300\n",
            "120/120 [==============================] - 0s 72us/step - loss: 0.0031 - mean_absolute_percentage_error: 1.8546\n",
            "Epoch 21/300\n",
            "120/120 [==============================] - 0s 71us/step - loss: 0.0032 - mean_absolute_percentage_error: 1.8390\n",
            "Epoch 22/300\n",
            "120/120 [==============================] - 0s 76us/step - loss: 0.0033 - mean_absolute_percentage_error: 1.8314\n",
            "Epoch 23/300\n",
            "120/120 [==============================] - 0s 85us/step - loss: 0.0033 - mean_absolute_percentage_error: 1.8452\n",
            "Epoch 24/300\n",
            "120/120 [==============================] - 0s 62us/step - loss: 0.0033 - mean_absolute_percentage_error: 1.8420\n",
            "Epoch 25/300\n",
            "120/120 [==============================] - 0s 55us/step - loss: 0.0033 - mean_absolute_percentage_error: 1.8337\n",
            "Epoch 26/300\n",
            "120/120 [==============================] - 0s 115us/step - loss: 0.0032 - mean_absolute_percentage_error: 1.8301\n",
            "Epoch 27/300\n",
            "120/120 [==============================] - 0s 72us/step - loss: 0.0032 - mean_absolute_percentage_error: 1.8331\n",
            "Epoch 28/300\n",
            "120/120 [==============================] - 0s 76us/step - loss: 0.0032 - mean_absolute_percentage_error: 1.8401\n",
            "Epoch 29/300\n",
            "120/120 [==============================] - 0s 69us/step - loss: 0.0032 - mean_absolute_percentage_error: 1.8523\n",
            "Epoch 30/300\n",
            "120/120 [==============================] - 0s 76us/step - loss: 0.0032 - mean_absolute_percentage_error: 1.8633\n",
            "Epoch 31/300\n",
            "120/120 [==============================] - 0s 61us/step - loss: 0.0032 - mean_absolute_percentage_error: 1.8687\n",
            "Epoch 32/300\n",
            "120/120 [==============================] - 0s 58us/step - loss: 0.0032 - mean_absolute_percentage_error: 1.8686\n",
            "Epoch 33/300\n",
            "120/120 [==============================] - 0s 58us/step - loss: 0.0032 - mean_absolute_percentage_error: 1.8621\n",
            "Epoch 34/300\n",
            "120/120 [==============================] - 0s 59us/step - loss: 0.0032 - mean_absolute_percentage_error: 1.8598\n",
            "Epoch 35/300\n",
            "120/120 [==============================] - 0s 73us/step - loss: 0.0032 - mean_absolute_percentage_error: 1.8538\n",
            "Epoch 36/300\n",
            "120/120 [==============================] - 0s 92us/step - loss: 0.0032 - mean_absolute_percentage_error: 1.8519\n",
            "Epoch 37/300\n",
            "120/120 [==============================] - 0s 69us/step - loss: 0.0032 - mean_absolute_percentage_error: 1.8580\n",
            "Epoch 38/300\n",
            "120/120 [==============================] - 0s 73us/step - loss: 0.0032 - mean_absolute_percentage_error: 1.8564\n",
            "Epoch 39/300\n",
            "120/120 [==============================] - 0s 70us/step - loss: 0.0032 - mean_absolute_percentage_error: 1.8535\n",
            "Epoch 40/300\n",
            "120/120 [==============================] - 0s 61us/step - loss: 0.0032 - mean_absolute_percentage_error: 1.8490\n",
            "Epoch 41/300\n",
            "120/120 [==============================] - 0s 60us/step - loss: 0.0032 - mean_absolute_percentage_error: 1.8454\n",
            "Epoch 42/300\n",
            "120/120 [==============================] - 0s 79us/step - loss: 0.0032 - mean_absolute_percentage_error: 1.8427\n",
            "Epoch 43/300\n",
            "120/120 [==============================] - 0s 58us/step - loss: 0.0032 - mean_absolute_percentage_error: 1.8422\n",
            "Epoch 44/300\n",
            "120/120 [==============================] - 0s 65us/step - loss: 0.0032 - mean_absolute_percentage_error: 1.8414\n",
            "Epoch 45/300\n",
            "120/120 [==============================] - 0s 85us/step - loss: 0.0032 - mean_absolute_percentage_error: 1.8410\n",
            "Epoch 46/300\n",
            "120/120 [==============================] - 0s 86us/step - loss: 0.0032 - mean_absolute_percentage_error: 1.8433\n",
            "Epoch 47/300\n",
            "120/120 [==============================] - 0s 65us/step - loss: 0.0032 - mean_absolute_percentage_error: 1.8462\n",
            "Epoch 48/300\n",
            "120/120 [==============================] - 0s 69us/step - loss: 0.0032 - mean_absolute_percentage_error: 1.8520\n",
            "Epoch 49/300\n",
            "120/120 [==============================] - 0s 50us/step - loss: 0.0032 - mean_absolute_percentage_error: 1.8536\n",
            "Epoch 50/300\n",
            "120/120 [==============================] - 0s 55us/step - loss: 0.0032 - mean_absolute_percentage_error: 1.8548\n",
            "Epoch 51/300\n",
            "120/120 [==============================] - 0s 75us/step - loss: 0.0032 - mean_absolute_percentage_error: 1.8542\n",
            "Epoch 52/300\n",
            "120/120 [==============================] - 0s 69us/step - loss: 0.0032 - mean_absolute_percentage_error: 1.8499\n",
            "Epoch 53/300\n",
            "120/120 [==============================] - 0s 63us/step - loss: 0.0032 - mean_absolute_percentage_error: 1.8490\n",
            "Epoch 54/300\n",
            "120/120 [==============================] - 0s 64us/step - loss: 0.0032 - mean_absolute_percentage_error: 1.8462\n",
            "Epoch 55/300\n",
            "120/120 [==============================] - 0s 63us/step - loss: 0.0032 - mean_absolute_percentage_error: 1.8436\n",
            "Epoch 56/300\n",
            "120/120 [==============================] - 0s 70us/step - loss: 0.0032 - mean_absolute_percentage_error: 1.8438\n",
            "Epoch 57/300\n",
            "120/120 [==============================] - 0s 72us/step - loss: 0.0032 - mean_absolute_percentage_error: 1.8419\n",
            "Epoch 58/300\n",
            "120/120 [==============================] - 0s 73us/step - loss: 0.0032 - mean_absolute_percentage_error: 1.8448\n",
            "Epoch 59/300\n",
            "120/120 [==============================] - 0s 61us/step - loss: 0.0032 - mean_absolute_percentage_error: 1.8497\n",
            "Epoch 60/300\n",
            "120/120 [==============================] - 0s 58us/step - loss: 0.0032 - mean_absolute_percentage_error: 1.8520\n",
            "Epoch 61/300\n",
            "120/120 [==============================] - 0s 63us/step - loss: 0.0032 - mean_absolute_percentage_error: 1.8510\n",
            "Epoch 62/300\n",
            "120/120 [==============================] - 0s 87us/step - loss: 0.0032 - mean_absolute_percentage_error: 1.8457\n",
            "Epoch 63/300\n",
            "120/120 [==============================] - 0s 58us/step - loss: 0.0032 - mean_absolute_percentage_error: 1.8468\n",
            "Epoch 64/300\n",
            "120/120 [==============================] - 0s 57us/step - loss: 0.0032 - mean_absolute_percentage_error: 1.8497\n",
            "Epoch 65/300\n",
            "120/120 [==============================] - 0s 115us/step - loss: 0.0032 - mean_absolute_percentage_error: 1.8482\n",
            "Epoch 66/300\n",
            "120/120 [==============================] - 0s 81us/step - loss: 0.0032 - mean_absolute_percentage_error: 1.8456\n",
            "Epoch 67/300\n",
            "120/120 [==============================] - 0s 66us/step - loss: 0.0032 - mean_absolute_percentage_error: 1.8428\n",
            "Epoch 68/300\n",
            "120/120 [==============================] - 0s 74us/step - loss: 0.0032 - mean_absolute_percentage_error: 1.8466\n",
            "Epoch 69/300\n",
            "120/120 [==============================] - 0s 75us/step - loss: 0.0032 - mean_absolute_percentage_error: 1.8441\n",
            "Epoch 70/300\n",
            "120/120 [==============================] - 0s 70us/step - loss: 0.0032 - mean_absolute_percentage_error: 1.8413\n",
            "Epoch 71/300\n",
            "120/120 [==============================] - 0s 65us/step - loss: 0.0032 - mean_absolute_percentage_error: 1.8421\n",
            "Epoch 72/300\n",
            "120/120 [==============================] - 0s 66us/step - loss: 0.0032 - mean_absolute_percentage_error: 1.8501\n",
            "Epoch 73/300\n",
            "120/120 [==============================] - 0s 80us/step - loss: 0.0032 - mean_absolute_percentage_error: 1.8538\n",
            "Epoch 74/300\n",
            "120/120 [==============================] - 0s 113us/step - loss: 0.0032 - mean_absolute_percentage_error: 1.8554\n",
            "Epoch 75/300\n",
            "120/120 [==============================] - 0s 75us/step - loss: 0.0032 - mean_absolute_percentage_error: 1.8545\n",
            "Epoch 76/300\n",
            "120/120 [==============================] - 0s 80us/step - loss: 0.0032 - mean_absolute_percentage_error: 1.8519\n",
            "Epoch 77/300\n",
            "120/120 [==============================] - 0s 75us/step - loss: 0.0032 - mean_absolute_percentage_error: 1.8476\n",
            "Epoch 78/300\n",
            "120/120 [==============================] - 0s 67us/step - loss: 0.0032 - mean_absolute_percentage_error: 1.8460\n",
            "Epoch 79/300\n",
            "120/120 [==============================] - 0s 67us/step - loss: 0.0032 - mean_absolute_percentage_error: 1.8457\n",
            "Epoch 80/300\n",
            "120/120 [==============================] - 0s 74us/step - loss: 0.0032 - mean_absolute_percentage_error: 1.8436\n",
            "Epoch 81/300\n",
            "120/120 [==============================] - 0s 75us/step - loss: 0.0032 - mean_absolute_percentage_error: 1.8435\n",
            "Epoch 82/300\n",
            "120/120 [==============================] - 0s 63us/step - loss: 0.0032 - mean_absolute_percentage_error: 1.8460\n",
            "Epoch 83/300\n",
            "120/120 [==============================] - 0s 64us/step - loss: 0.0032 - mean_absolute_percentage_error: 1.8422\n",
            "Epoch 84/300\n",
            "120/120 [==============================] - 0s 75us/step - loss: 0.0032 - mean_absolute_percentage_error: 1.8377\n",
            "Epoch 85/300\n",
            "120/120 [==============================] - 0s 91us/step - loss: 0.0032 - mean_absolute_percentage_error: 1.8380\n",
            "Epoch 86/300\n",
            "120/120 [==============================] - 0s 86us/step - loss: 0.0032 - mean_absolute_percentage_error: 1.8410\n",
            "Epoch 87/300\n",
            "120/120 [==============================] - 0s 89us/step - loss: 0.0032 - mean_absolute_percentage_error: 1.8444\n",
            "Epoch 88/300\n",
            "120/120 [==============================] - 0s 73us/step - loss: 0.0032 - mean_absolute_percentage_error: 1.8530\n",
            "Epoch 89/300\n",
            "120/120 [==============================] - 0s 83us/step - loss: 0.0032 - mean_absolute_percentage_error: 1.8519\n",
            "Epoch 90/300\n",
            "120/120 [==============================] - 0s 78us/step - loss: 0.0032 - mean_absolute_percentage_error: 1.8501\n",
            "Epoch 91/300\n",
            "120/120 [==============================] - 0s 72us/step - loss: 0.0032 - mean_absolute_percentage_error: 1.8474\n",
            "Epoch 92/300\n",
            "120/120 [==============================] - 0s 76us/step - loss: 0.0032 - mean_absolute_percentage_error: 1.8444\n",
            "Epoch 93/300\n",
            "120/120 [==============================] - 0s 61us/step - loss: 0.0032 - mean_absolute_percentage_error: 1.8426\n",
            "Epoch 94/300\n",
            "120/120 [==============================] - 0s 63us/step - loss: 0.0032 - mean_absolute_percentage_error: 1.8396\n",
            "Epoch 95/300\n",
            "120/120 [==============================] - 0s 65us/step - loss: 0.0032 - mean_absolute_percentage_error: 1.8426\n",
            "Epoch 96/300\n",
            "120/120 [==============================] - 0s 59us/step - loss: 0.0032 - mean_absolute_percentage_error: 1.8416\n",
            "Epoch 97/300\n",
            "120/120 [==============================] - 0s 60us/step - loss: 0.0032 - mean_absolute_percentage_error: 1.8487\n",
            "Epoch 98/300\n",
            "120/120 [==============================] - 0s 62us/step - loss: 0.0032 - mean_absolute_percentage_error: 1.8484\n",
            "Epoch 99/300\n",
            "120/120 [==============================] - 0s 68us/step - loss: 0.0032 - mean_absolute_percentage_error: 1.8486\n",
            "Epoch 100/300\n",
            "120/120 [==============================] - 0s 64us/step - loss: 0.0032 - mean_absolute_percentage_error: 1.8472\n",
            "Epoch 101/300\n",
            "120/120 [==============================] - 0s 57us/step - loss: 0.0032 - mean_absolute_percentage_error: 1.8424\n",
            "Epoch 102/300\n",
            "120/120 [==============================] - 0s 53us/step - loss: 0.0032 - mean_absolute_percentage_error: 1.8458\n",
            "Epoch 103/300\n",
            "120/120 [==============================] - 0s 59us/step - loss: 0.0032 - mean_absolute_percentage_error: 1.8465\n",
            "Epoch 104/300\n",
            "120/120 [==============================] - 0s 56us/step - loss: 0.0032 - mean_absolute_percentage_error: 1.8500\n",
            "Epoch 105/300\n",
            "120/120 [==============================] - 0s 60us/step - loss: 0.0032 - mean_absolute_percentage_error: 1.8457\n",
            "Epoch 106/300\n",
            "120/120 [==============================] - 0s 75us/step - loss: 0.0032 - mean_absolute_percentage_error: 1.8382\n",
            "Epoch 107/300\n",
            "120/120 [==============================] - 0s 62us/step - loss: 0.0032 - mean_absolute_percentage_error: 1.8339\n",
            "Epoch 108/300\n",
            "120/120 [==============================] - 0s 70us/step - loss: 0.0032 - mean_absolute_percentage_error: 1.8342\n",
            "Epoch 109/300\n",
            "120/120 [==============================] - 0s 70us/step - loss: 0.0032 - mean_absolute_percentage_error: 1.8389\n",
            "Epoch 110/300\n",
            "120/120 [==============================] - 0s 61us/step - loss: 0.0032 - mean_absolute_percentage_error: 1.8410\n",
            "Epoch 111/300\n",
            "120/120 [==============================] - 0s 88us/step - loss: 0.0032 - mean_absolute_percentage_error: 1.8448\n",
            "Epoch 112/300\n",
            "120/120 [==============================] - 0s 66us/step - loss: 0.0032 - mean_absolute_percentage_error: 1.8433\n",
            "Epoch 113/300\n",
            "120/120 [==============================] - 0s 65us/step - loss: 0.0032 - mean_absolute_percentage_error: 1.8389\n",
            "Epoch 114/300\n",
            "120/120 [==============================] - 0s 65us/step - loss: 0.0032 - mean_absolute_percentage_error: 1.8378\n",
            "Epoch 115/300\n",
            "120/120 [==============================] - 0s 69us/step - loss: 0.0032 - mean_absolute_percentage_error: 1.8422\n",
            "Epoch 116/300\n",
            "120/120 [==============================] - 0s 69us/step - loss: 0.0032 - mean_absolute_percentage_error: 1.8406\n",
            "Epoch 117/300\n",
            "120/120 [==============================] - 0s 71us/step - loss: 0.0032 - mean_absolute_percentage_error: 1.8355\n",
            "Epoch 118/300\n",
            "120/120 [==============================] - 0s 72us/step - loss: 0.0032 - mean_absolute_percentage_error: 1.8432\n",
            "Epoch 119/300\n",
            "120/120 [==============================] - 0s 66us/step - loss: 0.0032 - mean_absolute_percentage_error: 1.8421\n",
            "Epoch 120/300\n",
            "120/120 [==============================] - 0s 64us/step - loss: 0.0032 - mean_absolute_percentage_error: 1.8396\n",
            "Epoch 121/300\n",
            "120/120 [==============================] - 0s 66us/step - loss: 0.0032 - mean_absolute_percentage_error: 1.8378\n",
            "Epoch 122/300\n",
            "120/120 [==============================] - 0s 66us/step - loss: 0.0032 - mean_absolute_percentage_error: 1.8401\n",
            "Epoch 123/300\n",
            "120/120 [==============================] - 0s 60us/step - loss: 0.0032 - mean_absolute_percentage_error: 1.8475\n",
            "Epoch 124/300\n",
            "120/120 [==============================] - 0s 66us/step - loss: 0.0032 - mean_absolute_percentage_error: 1.8579\n",
            "Epoch 125/300\n",
            "120/120 [==============================] - 0s 58us/step - loss: 0.0032 - mean_absolute_percentage_error: 1.8535\n",
            "Epoch 126/300\n",
            "120/120 [==============================] - 0s 63us/step - loss: 0.0032 - mean_absolute_percentage_error: 1.8430\n",
            "Epoch 127/300\n",
            "120/120 [==============================] - 0s 64us/step - loss: 0.0032 - mean_absolute_percentage_error: 1.8320\n",
            "Epoch 128/300\n",
            "120/120 [==============================] - 0s 80us/step - loss: 0.0032 - mean_absolute_percentage_error: 1.8315\n",
            "Epoch 129/300\n",
            "120/120 [==============================] - 0s 81us/step - loss: 0.0032 - mean_absolute_percentage_error: 1.8375\n",
            "Epoch 130/300\n",
            "120/120 [==============================] - 0s 72us/step - loss: 0.0032 - mean_absolute_percentage_error: 1.8450\n",
            "Epoch 131/300\n",
            "120/120 [==============================] - 0s 64us/step - loss: 0.0032 - mean_absolute_percentage_error: 1.8463\n",
            "Epoch 132/300\n",
            "120/120 [==============================] - 0s 77us/step - loss: 0.0031 - mean_absolute_percentage_error: 1.8428\n",
            "Epoch 133/300\n",
            "120/120 [==============================] - 0s 72us/step - loss: 0.0032 - mean_absolute_percentage_error: 1.8400\n",
            "Epoch 134/300\n",
            "120/120 [==============================] - 0s 73us/step - loss: 0.0032 - mean_absolute_percentage_error: 1.8362\n",
            "Epoch 135/300\n",
            "120/120 [==============================] - 0s 80us/step - loss: 0.0031 - mean_absolute_percentage_error: 1.8319\n",
            "Epoch 136/300\n",
            "120/120 [==============================] - 0s 79us/step - loss: 0.0031 - mean_absolute_percentage_error: 1.8364\n",
            "Epoch 137/300\n",
            "120/120 [==============================] - 0s 62us/step - loss: 0.0032 - mean_absolute_percentage_error: 1.8483\n",
            "Epoch 138/300\n",
            "120/120 [==============================] - 0s 70us/step - loss: 0.0031 - mean_absolute_percentage_error: 1.8473\n",
            "Epoch 139/300\n",
            "120/120 [==============================] - 0s 69us/step - loss: 0.0031 - mean_absolute_percentage_error: 1.8404\n",
            "Epoch 140/300\n",
            "120/120 [==============================] - 0s 65us/step - loss: 0.0032 - mean_absolute_percentage_error: 1.8332\n",
            "Epoch 141/300\n",
            "120/120 [==============================] - 0s 56us/step - loss: 0.0031 - mean_absolute_percentage_error: 1.8282\n",
            "Epoch 142/300\n",
            "120/120 [==============================] - 0s 62us/step - loss: 0.0031 - mean_absolute_percentage_error: 1.8290\n",
            "Epoch 143/300\n",
            "120/120 [==============================] - 0s 77us/step - loss: 0.0031 - mean_absolute_percentage_error: 1.8340\n",
            "Epoch 144/300\n",
            "120/120 [==============================] - 0s 99us/step - loss: 0.0032 - mean_absolute_percentage_error: 1.8417\n",
            "Epoch 145/300\n",
            "120/120 [==============================] - 0s 57us/step - loss: 0.0031 - mean_absolute_percentage_error: 1.8442\n",
            "Epoch 146/300\n",
            "120/120 [==============================] - 0s 56us/step - loss: 0.0031 - mean_absolute_percentage_error: 1.8394\n",
            "Epoch 147/300\n",
            "120/120 [==============================] - 0s 54us/step - loss: 0.0031 - mean_absolute_percentage_error: 1.8337\n",
            "Epoch 148/300\n",
            "120/120 [==============================] - 0s 90us/step - loss: 0.0031 - mean_absolute_percentage_error: 1.8322\n",
            "Epoch 149/300\n",
            "120/120 [==============================] - 0s 86us/step - loss: 0.0031 - mean_absolute_percentage_error: 1.8326\n",
            "Epoch 150/300\n",
            "120/120 [==============================] - 0s 67us/step - loss: 0.0031 - mean_absolute_percentage_error: 1.8315\n",
            "Epoch 151/300\n",
            "120/120 [==============================] - 0s 59us/step - loss: 0.0031 - mean_absolute_percentage_error: 1.8383\n",
            "Epoch 152/300\n",
            "120/120 [==============================] - 0s 81us/step - loss: 0.0031 - mean_absolute_percentage_error: 1.8397\n",
            "Epoch 153/300\n",
            "120/120 [==============================] - 0s 57us/step - loss: 0.0031 - mean_absolute_percentage_error: 1.8388\n",
            "Epoch 154/300\n",
            "120/120 [==============================] - 0s 60us/step - loss: 0.0031 - mean_absolute_percentage_error: 1.8333\n",
            "Epoch 155/300\n",
            "120/120 [==============================] - 0s 66us/step - loss: 0.0031 - mean_absolute_percentage_error: 1.8346\n",
            "Epoch 156/300\n",
            "120/120 [==============================] - 0s 65us/step - loss: 0.0031 - mean_absolute_percentage_error: 1.8309\n",
            "Epoch 157/300\n",
            "120/120 [==============================] - 0s 65us/step - loss: 0.0031 - mean_absolute_percentage_error: 1.8422\n",
            "Epoch 158/300\n",
            "120/120 [==============================] - 0s 79us/step - loss: 0.0031 - mean_absolute_percentage_error: 1.8429\n",
            "Epoch 159/300\n",
            "120/120 [==============================] - 0s 73us/step - loss: 0.0031 - mean_absolute_percentage_error: 1.8398\n",
            "Epoch 160/300\n",
            "120/120 [==============================] - 0s 82us/step - loss: 0.0031 - mean_absolute_percentage_error: 1.8382\n",
            "Epoch 161/300\n",
            "120/120 [==============================] - 0s 68us/step - loss: 0.0031 - mean_absolute_percentage_error: 1.8347\n",
            "Epoch 162/300\n",
            "120/120 [==============================] - 0s 67us/step - loss: 0.0031 - mean_absolute_percentage_error: 1.8314\n",
            "Epoch 163/300\n",
            "120/120 [==============================] - 0s 88us/step - loss: 0.0031 - mean_absolute_percentage_error: 1.8348\n",
            "Epoch 164/300\n",
            "120/120 [==============================] - 0s 72us/step - loss: 0.0031 - mean_absolute_percentage_error: 1.8379\n",
            "Epoch 165/300\n",
            "120/120 [==============================] - 0s 72us/step - loss: 0.0032 - mean_absolute_percentage_error: 1.8495\n",
            "Epoch 166/300\n",
            "120/120 [==============================] - 0s 70us/step - loss: 0.0031 - mean_absolute_percentage_error: 1.8414\n",
            "Epoch 167/300\n",
            "120/120 [==============================] - 0s 66us/step - loss: 0.0031 - mean_absolute_percentage_error: 1.8275\n",
            "Epoch 168/300\n",
            "120/120 [==============================] - 0s 59us/step - loss: 0.0031 - mean_absolute_percentage_error: 1.8228\n",
            "Epoch 169/300\n",
            "120/120 [==============================] - 0s 144us/step - loss: 0.0031 - mean_absolute_percentage_error: 1.8186\n",
            "Epoch 170/300\n",
            "120/120 [==============================] - 0s 98us/step - loss: 0.0031 - mean_absolute_percentage_error: 1.8398\n",
            "Epoch 171/300\n",
            "120/120 [==============================] - 0s 84us/step - loss: 0.0031 - mean_absolute_percentage_error: 1.8509\n",
            "Epoch 172/300\n",
            "120/120 [==============================] - 0s 70us/step - loss: 0.0031 - mean_absolute_percentage_error: 1.8522\n",
            "Epoch 173/300\n",
            "120/120 [==============================] - 0s 69us/step - loss: 0.0031 - mean_absolute_percentage_error: 1.8425\n",
            "Epoch 174/300\n",
            "120/120 [==============================] - 0s 62us/step - loss: 0.0031 - mean_absolute_percentage_error: 1.8386\n",
            "Epoch 175/300\n",
            "120/120 [==============================] - 0s 66us/step - loss: 0.0031 - mean_absolute_percentage_error: 1.8309\n",
            "Epoch 176/300\n",
            "120/120 [==============================] - 0s 77us/step - loss: 0.0031 - mean_absolute_percentage_error: 1.8262\n",
            "Epoch 177/300\n",
            "120/120 [==============================] - 0s 65us/step - loss: 0.0031 - mean_absolute_percentage_error: 1.8281\n",
            "Epoch 178/300\n",
            "120/120 [==============================] - 0s 70us/step - loss: 0.0031 - mean_absolute_percentage_error: 1.8254\n",
            "Epoch 179/300\n",
            "120/120 [==============================] - 0s 71us/step - loss: 0.0031 - mean_absolute_percentage_error: 1.8211\n",
            "Epoch 180/300\n",
            "120/120 [==============================] - 0s 74us/step - loss: 0.0031 - mean_absolute_percentage_error: 1.8226\n",
            "Epoch 181/300\n",
            "120/120 [==============================] - 0s 72us/step - loss: 0.0031 - mean_absolute_percentage_error: 1.8294\n",
            "Epoch 182/300\n",
            "120/120 [==============================] - 0s 73us/step - loss: 0.0031 - mean_absolute_percentage_error: 1.8328\n",
            "Epoch 183/300\n",
            "120/120 [==============================] - 0s 68us/step - loss: 0.0031 - mean_absolute_percentage_error: 1.8425\n",
            "Epoch 184/300\n",
            "120/120 [==============================] - 0s 64us/step - loss: 0.0031 - mean_absolute_percentage_error: 1.8445\n",
            "Epoch 185/300\n",
            "120/120 [==============================] - 0s 68us/step - loss: 0.0031 - mean_absolute_percentage_error: 1.8359\n",
            "Epoch 186/300\n",
            "120/120 [==============================] - 0s 72us/step - loss: 0.0031 - mean_absolute_percentage_error: 1.8294\n",
            "Epoch 187/300\n",
            "120/120 [==============================] - 0s 65us/step - loss: 0.0031 - mean_absolute_percentage_error: 1.8293\n",
            "Epoch 188/300\n",
            "120/120 [==============================] - 0s 71us/step - loss: 0.0031 - mean_absolute_percentage_error: 1.8355\n",
            "Epoch 189/300\n",
            "120/120 [==============================] - 0s 70us/step - loss: 0.0031 - mean_absolute_percentage_error: 1.8320\n",
            "Epoch 190/300\n",
            "120/120 [==============================] - 0s 72us/step - loss: 0.0031 - mean_absolute_percentage_error: 1.8365\n",
            "Epoch 191/300\n",
            "120/120 [==============================] - 0s 67us/step - loss: 0.0031 - mean_absolute_percentage_error: 1.8290\n",
            "Epoch 192/300\n",
            "120/120 [==============================] - 0s 85us/step - loss: 0.0031 - mean_absolute_percentage_error: 1.8197\n",
            "Epoch 193/300\n",
            "120/120 [==============================] - 0s 106us/step - loss: 0.0031 - mean_absolute_percentage_error: 1.8206\n",
            "Epoch 194/300\n",
            "120/120 [==============================] - 0s 68us/step - loss: 0.0031 - mean_absolute_percentage_error: 1.8233\n",
            "Epoch 195/300\n",
            "120/120 [==============================] - 0s 81us/step - loss: 0.0031 - mean_absolute_percentage_error: 1.8402\n",
            "Epoch 196/300\n",
            "120/120 [==============================] - 0s 69us/step - loss: 0.0031 - mean_absolute_percentage_error: 1.8382\n",
            "Epoch 197/300\n",
            "120/120 [==============================] - 0s 69us/step - loss: 0.0031 - mean_absolute_percentage_error: 1.8304\n",
            "Epoch 198/300\n",
            "120/120 [==============================] - 0s 68us/step - loss: 0.0031 - mean_absolute_percentage_error: 1.8215\n",
            "Epoch 199/300\n",
            "120/120 [==============================] - 0s 73us/step - loss: 0.0031 - mean_absolute_percentage_error: 1.8258\n",
            "Epoch 200/300\n",
            "120/120 [==============================] - 0s 71us/step - loss: 0.0031 - mean_absolute_percentage_error: 1.8220\n",
            "Epoch 201/300\n",
            "120/120 [==============================] - 0s 76us/step - loss: 0.0031 - mean_absolute_percentage_error: 1.8218\n",
            "Epoch 202/300\n",
            "120/120 [==============================] - 0s 62us/step - loss: 0.0031 - mean_absolute_percentage_error: 1.8218\n",
            "Epoch 203/300\n",
            "120/120 [==============================] - 0s 58us/step - loss: 0.0031 - mean_absolute_percentage_error: 1.8256\n",
            "Epoch 204/300\n",
            "120/120 [==============================] - 0s 59us/step - loss: 0.0031 - mean_absolute_percentage_error: 1.8309\n",
            "Epoch 205/300\n",
            "120/120 [==============================] - 0s 60us/step - loss: 0.0031 - mean_absolute_percentage_error: 1.8278\n",
            "Epoch 206/300\n",
            "120/120 [==============================] - 0s 60us/step - loss: 0.0031 - mean_absolute_percentage_error: 1.8234\n",
            "Epoch 207/300\n",
            "120/120 [==============================] - 0s 76us/step - loss: 0.0031 - mean_absolute_percentage_error: 1.8222\n",
            "Epoch 208/300\n",
            "120/120 [==============================] - 0s 70us/step - loss: 0.0031 - mean_absolute_percentage_error: 1.8238\n",
            "Epoch 209/300\n",
            "120/120 [==============================] - 0s 67us/step - loss: 0.0031 - mean_absolute_percentage_error: 1.8278\n",
            "Epoch 210/300\n",
            "120/120 [==============================] - 0s 65us/step - loss: 0.0031 - mean_absolute_percentage_error: 1.8364\n",
            "Epoch 211/300\n",
            "120/120 [==============================] - 0s 92us/step - loss: 0.0031 - mean_absolute_percentage_error: 1.8306\n",
            "Epoch 212/300\n",
            "120/120 [==============================] - 0s 81us/step - loss: 0.0031 - mean_absolute_percentage_error: 1.8186\n",
            "Epoch 213/300\n",
            "120/120 [==============================] - 0s 59us/step - loss: 0.0031 - mean_absolute_percentage_error: 1.8189\n",
            "Epoch 214/300\n",
            "120/120 [==============================] - 0s 65us/step - loss: 0.0031 - mean_absolute_percentage_error: 1.8232\n",
            "Epoch 215/300\n",
            "120/120 [==============================] - 0s 67us/step - loss: 0.0031 - mean_absolute_percentage_error: 1.8263\n",
            "Epoch 216/300\n",
            "120/120 [==============================] - 0s 65us/step - loss: 0.0031 - mean_absolute_percentage_error: 1.8247\n",
            "Epoch 217/300\n",
            "120/120 [==============================] - 0s 73us/step - loss: 0.0031 - mean_absolute_percentage_error: 1.8258\n",
            "Epoch 218/300\n",
            "120/120 [==============================] - 0s 68us/step - loss: 0.0031 - mean_absolute_percentage_error: 1.8278\n",
            "Epoch 219/300\n",
            "120/120 [==============================] - 0s 66us/step - loss: 0.0031 - mean_absolute_percentage_error: 1.8250\n",
            "Epoch 220/300\n",
            "120/120 [==============================] - 0s 72us/step - loss: 0.0031 - mean_absolute_percentage_error: 1.8325\n",
            "Epoch 221/300\n",
            "120/120 [==============================] - 0s 75us/step - loss: 0.0031 - mean_absolute_percentage_error: 1.8298\n",
            "Epoch 222/300\n",
            "120/120 [==============================] - 0s 62us/step - loss: 0.0031 - mean_absolute_percentage_error: 1.8248\n",
            "Epoch 223/300\n",
            "120/120 [==============================] - 0s 69us/step - loss: 0.0031 - mean_absolute_percentage_error: 1.8185\n",
            "Epoch 224/300\n",
            "120/120 [==============================] - 0s 65us/step - loss: 0.0031 - mean_absolute_percentage_error: 1.8179\n",
            "Epoch 225/300\n",
            "120/120 [==============================] - 0s 68us/step - loss: 0.0031 - mean_absolute_percentage_error: 1.8256\n",
            "Epoch 226/300\n",
            "120/120 [==============================] - 0s 82us/step - loss: 0.0031 - mean_absolute_percentage_error: 1.8207\n",
            "Epoch 227/300\n",
            "120/120 [==============================] - 0s 72us/step - loss: 0.0031 - mean_absolute_percentage_error: 1.8242\n",
            "Epoch 228/300\n",
            "120/120 [==============================] - 0s 61us/step - loss: 0.0031 - mean_absolute_percentage_error: 1.8334\n",
            "Epoch 229/300\n",
            "120/120 [==============================] - 0s 62us/step - loss: 0.0031 - mean_absolute_percentage_error: 1.8306\n",
            "Epoch 230/300\n",
            "120/120 [==============================] - 0s 77us/step - loss: 0.0031 - mean_absolute_percentage_error: 1.8225\n",
            "Epoch 231/300\n",
            "120/120 [==============================] - 0s 63us/step - loss: 0.0031 - mean_absolute_percentage_error: 1.8112\n",
            "Epoch 232/300\n",
            "120/120 [==============================] - 0s 83us/step - loss: 0.0031 - mean_absolute_percentage_error: 1.8156\n",
            "Epoch 233/300\n",
            "120/120 [==============================] - 0s 64us/step - loss: 0.0031 - mean_absolute_percentage_error: 1.8208\n",
            "Epoch 234/300\n",
            "120/120 [==============================] - 0s 69us/step - loss: 0.0031 - mean_absolute_percentage_error: 1.8267\n",
            "Epoch 235/300\n",
            "120/120 [==============================] - 0s 54us/step - loss: 0.0031 - mean_absolute_percentage_error: 1.8231\n",
            "Epoch 236/300\n",
            "120/120 [==============================] - 0s 54us/step - loss: 0.0031 - mean_absolute_percentage_error: 1.8190\n",
            "Epoch 237/300\n",
            "120/120 [==============================] - 0s 55us/step - loss: 0.0031 - mean_absolute_percentage_error: 1.8120\n",
            "Epoch 238/300\n",
            "120/120 [==============================] - 0s 64us/step - loss: 0.0031 - mean_absolute_percentage_error: 1.8086\n",
            "Epoch 239/300\n",
            "120/120 [==============================] - 0s 65us/step - loss: 0.0031 - mean_absolute_percentage_error: 1.8124\n",
            "Epoch 240/300\n",
            "120/120 [==============================] - 0s 58us/step - loss: 0.0031 - mean_absolute_percentage_error: 1.8201\n",
            "Epoch 241/300\n",
            "120/120 [==============================] - 0s 58us/step - loss: 0.0031 - mean_absolute_percentage_error: 1.8281\n",
            "Epoch 242/300\n",
            "120/120 [==============================] - 0s 77us/step - loss: 0.0031 - mean_absolute_percentage_error: 1.8336\n",
            "Epoch 243/300\n",
            "120/120 [==============================] - 0s 74us/step - loss: 0.0031 - mean_absolute_percentage_error: 1.8246\n",
            "Epoch 244/300\n",
            "120/120 [==============================] - 0s 68us/step - loss: 0.0031 - mean_absolute_percentage_error: 1.8128\n",
            "Epoch 245/300\n",
            "120/120 [==============================] - 0s 56us/step - loss: 0.0031 - mean_absolute_percentage_error: 1.8059\n",
            "Epoch 246/300\n",
            "120/120 [==============================] - 0s 71us/step - loss: 0.0031 - mean_absolute_percentage_error: 1.8223\n",
            "Epoch 247/300\n",
            "120/120 [==============================] - 0s 68us/step - loss: 0.0031 - mean_absolute_percentage_error: 1.8305\n",
            "Epoch 248/300\n",
            "120/120 [==============================] - 0s 73us/step - loss: 0.0031 - mean_absolute_percentage_error: 1.8325\n",
            "Epoch 249/300\n",
            "120/120 [==============================] - 0s 63us/step - loss: 0.0031 - mean_absolute_percentage_error: 1.8184\n",
            "Epoch 250/300\n",
            "120/120 [==============================] - 0s 70us/step - loss: 0.0031 - mean_absolute_percentage_error: 1.8158\n",
            "Epoch 251/300\n",
            "120/120 [==============================] - 0s 62us/step - loss: 0.0031 - mean_absolute_percentage_error: 1.8205\n",
            "Epoch 252/300\n",
            "120/120 [==============================] - 0s 62us/step - loss: 0.0031 - mean_absolute_percentage_error: 1.8214\n",
            "Epoch 253/300\n",
            "120/120 [==============================] - 0s 64us/step - loss: 0.0031 - mean_absolute_percentage_error: 1.8336\n",
            "Epoch 254/300\n",
            "120/120 [==============================] - 0s 60us/step - loss: 0.0031 - mean_absolute_percentage_error: 1.8255\n",
            "Epoch 255/300\n",
            "120/120 [==============================] - 0s 56us/step - loss: 0.0031 - mean_absolute_percentage_error: 1.8164\n",
            "Epoch 256/300\n",
            "120/120 [==============================] - 0s 59us/step - loss: 0.0031 - mean_absolute_percentage_error: 1.8120\n",
            "Epoch 257/300\n",
            "120/120 [==============================] - 0s 83us/step - loss: 0.0031 - mean_absolute_percentage_error: 1.8098\n",
            "Epoch 258/300\n",
            "120/120 [==============================] - 0s 79us/step - loss: 0.0031 - mean_absolute_percentage_error: 1.8101\n",
            "Epoch 259/300\n",
            "120/120 [==============================] - 0s 66us/step - loss: 0.0031 - mean_absolute_percentage_error: 1.8187\n",
            "Epoch 260/300\n",
            "120/120 [==============================] - 0s 65us/step - loss: 0.0031 - mean_absolute_percentage_error: 1.8261\n",
            "Epoch 261/300\n",
            "120/120 [==============================] - 0s 75us/step - loss: 0.0031 - mean_absolute_percentage_error: 1.8245\n",
            "Epoch 262/300\n",
            "120/120 [==============================] - 0s 76us/step - loss: 0.0031 - mean_absolute_percentage_error: 1.8173\n",
            "Epoch 263/300\n",
            "120/120 [==============================] - 0s 71us/step - loss: 0.0031 - mean_absolute_percentage_error: 1.8109\n",
            "Epoch 264/300\n",
            "120/120 [==============================] - 0s 49us/step - loss: 0.0031 - mean_absolute_percentage_error: 1.8026\n",
            "Epoch 265/300\n",
            "120/120 [==============================] - 0s 68us/step - loss: 0.0031 - mean_absolute_percentage_error: 1.8075\n",
            "Epoch 266/300\n",
            "120/120 [==============================] - 0s 75us/step - loss: 0.0031 - mean_absolute_percentage_error: 1.8182\n",
            "Epoch 267/300\n",
            "120/120 [==============================] - 0s 81us/step - loss: 0.0031 - mean_absolute_percentage_error: 1.8176\n",
            "Epoch 268/300\n",
            "120/120 [==============================] - 0s 67us/step - loss: 0.0031 - mean_absolute_percentage_error: 1.8126\n",
            "Epoch 269/300\n",
            "120/120 [==============================] - 0s 60us/step - loss: 0.0031 - mean_absolute_percentage_error: 1.8092\n",
            "Epoch 270/300\n",
            "120/120 [==============================] - 0s 58us/step - loss: 0.0031 - mean_absolute_percentage_error: 1.8083\n",
            "Epoch 271/300\n",
            "120/120 [==============================] - 0s 57us/step - loss: 0.0031 - mean_absolute_percentage_error: 1.8073\n",
            "Epoch 272/300\n",
            "120/120 [==============================] - 0s 63us/step - loss: 0.0031 - mean_absolute_percentage_error: 1.8138\n",
            "Epoch 273/300\n",
            "120/120 [==============================] - 0s 58us/step - loss: 0.0031 - mean_absolute_percentage_error: 1.8181\n",
            "Epoch 274/300\n",
            "120/120 [==============================] - 0s 59us/step - loss: 0.0031 - mean_absolute_percentage_error: 1.8203\n",
            "Epoch 275/300\n",
            "120/120 [==============================] - 0s 65us/step - loss: 0.0030 - mean_absolute_percentage_error: 1.8158\n",
            "Epoch 276/300\n",
            "120/120 [==============================] - 0s 60us/step - loss: 0.0031 - mean_absolute_percentage_error: 1.8127\n",
            "Epoch 277/300\n",
            "120/120 [==============================] - 0s 64us/step - loss: 0.0031 - mean_absolute_percentage_error: 1.8059\n",
            "Epoch 278/300\n",
            "120/120 [==============================] - 0s 61us/step - loss: 0.0030 - mean_absolute_percentage_error: 1.8032\n",
            "Epoch 279/300\n",
            "120/120 [==============================] - 0s 59us/step - loss: 0.0030 - mean_absolute_percentage_error: 1.8080\n",
            "Epoch 280/300\n",
            "120/120 [==============================] - 0s 63us/step - loss: 0.0030 - mean_absolute_percentage_error: 1.8157\n",
            "Epoch 281/300\n",
            "120/120 [==============================] - 0s 58us/step - loss: 0.0030 - mean_absolute_percentage_error: 1.8133\n",
            "Epoch 282/300\n",
            "120/120 [==============================] - 0s 66us/step - loss: 0.0031 - mean_absolute_percentage_error: 1.8124\n",
            "Epoch 283/300\n",
            "120/120 [==============================] - 0s 74us/step - loss: 0.0031 - mean_absolute_percentage_error: 1.8091\n",
            "Epoch 284/300\n",
            "120/120 [==============================] - 0s 71us/step - loss: 0.0030 - mean_absolute_percentage_error: 1.8211\n",
            "Epoch 285/300\n",
            "120/120 [==============================] - 0s 72us/step - loss: 0.0031 - mean_absolute_percentage_error: 1.8310\n",
            "Epoch 286/300\n",
            "120/120 [==============================] - 0s 95us/step - loss: 0.0031 - mean_absolute_percentage_error: 1.8380\n",
            "Epoch 287/300\n",
            "120/120 [==============================] - 0s 60us/step - loss: 0.0030 - mean_absolute_percentage_error: 1.8152\n",
            "Epoch 288/300\n",
            "120/120 [==============================] - 0s 56us/step - loss: 0.0031 - mean_absolute_percentage_error: 1.8019\n",
            "Epoch 289/300\n",
            "120/120 [==============================] - 0s 56us/step - loss: 0.0031 - mean_absolute_percentage_error: 1.7917\n",
            "Epoch 290/300\n",
            "120/120 [==============================] - 0s 64us/step - loss: 0.0030 - mean_absolute_percentage_error: 1.7938\n",
            "Epoch 291/300\n",
            "120/120 [==============================] - 0s 68us/step - loss: 0.0031 - mean_absolute_percentage_error: 1.8187\n",
            "Epoch 292/300\n",
            "120/120 [==============================] - 0s 110us/step - loss: 0.0030 - mean_absolute_percentage_error: 1.8177\n",
            "Epoch 293/300\n",
            "120/120 [==============================] - 0s 63us/step - loss: 0.0030 - mean_absolute_percentage_error: 1.8115\n",
            "Epoch 294/300\n",
            "120/120 [==============================] - 0s 57us/step - loss: 0.0030 - mean_absolute_percentage_error: 1.8060\n",
            "Epoch 295/300\n",
            "120/120 [==============================] - 0s 59us/step - loss: 0.0030 - mean_absolute_percentage_error: 1.7984\n",
            "Epoch 296/300\n",
            "120/120 [==============================] - 0s 52us/step - loss: 0.0031 - mean_absolute_percentage_error: 1.8076\n",
            "Epoch 297/300\n",
            "120/120 [==============================] - 0s 69us/step - loss: 0.0031 - mean_absolute_percentage_error: 1.8041\n",
            "Epoch 298/300\n",
            "120/120 [==============================] - 0s 74us/step - loss: 0.0030 - mean_absolute_percentage_error: 1.7992\n",
            "Epoch 299/300\n",
            "120/120 [==============================] - 0s 89us/step - loss: 0.0030 - mean_absolute_percentage_error: 1.8152\n",
            "Epoch 300/300\n",
            "120/120 [==============================] - 0s 73us/step - loss: 0.0030 - mean_absolute_percentage_error: 1.8193\n"
          ],
          "name": "stdout"
        },
        {
          "output_type": "execute_result",
          "data": {
            "text/plain": [
              "<keras.callbacks.callbacks.History at 0x7f71c0c4d710>"
            ]
          },
          "metadata": {
            "tags": []
          },
          "execution_count": 19
        }
      ]
    },
    {
      "cell_type": "code",
      "metadata": {
        "id": "FhysiVowH8qn",
        "colab_type": "code",
        "colab": {
          "base_uri": "https://localhost:8080/",
          "height": 68
        },
        "outputId": "2346d712-29b5-46c7-8324-3563ed7f1404"
      },
      "source": [
        "# оценка качества модели на тестовом множестве\n",
        "scores = model.evaluate(X_test, y_test)\n",
        "print(\"\\nMAPE: %.2f%%\" % (scores[1]))"
      ],
      "execution_count": 20,
      "outputs": [
        {
          "output_type": "stream",
          "text": [
            "\r12/12 [==============================] - 0s 1ms/step\n",
            "\n",
            "MAPE: 1.67%\n"
          ],
          "name": "stdout"
        }
      ]
    },
    {
      "cell_type": "code",
      "metadata": {
        "id": "405GHLlTH8qq",
        "colab_type": "code",
        "colab": {}
      },
      "source": [
        "# Вычисляем прогноз\n",
        "predictions = model.predict(X_test)\n",
        "# round predictions\n",
        "# rounded = [round(x[0]) for x in predictions]\n",
        "# print(rounded)"
      ],
      "execution_count": 0,
      "outputs": []
    },
    {
      "cell_type": "code",
      "metadata": {
        "id": "4PS88qPSH8qt",
        "colab_type": "code",
        "colab": {}
      },
      "source": [
        "# Вычисляем подгонку\n",
        "predictions_train = model.predict(X_train)"
      ],
      "execution_count": 0,
      "outputs": []
    },
    {
      "cell_type": "code",
      "metadata": {
        "id": "vbMeVX8DH8qw",
        "colab_type": "code",
        "colab": {
          "base_uri": "https://localhost:8080/",
          "height": 85
        },
        "outputId": "631a268a-e372-4f3d-8030-3216fa35a263"
      },
      "source": [
        "# Вспоминаем размеры таблиц\n",
        "print(X_train.shape)\n",
        "print(y_train.shape)\n",
        "print(X_test.shape)\n",
        "print(y_test.shape)"
      ],
      "execution_count": 23,
      "outputs": [
        {
          "output_type": "stream",
          "text": [
            "(120, 12)\n",
            "(120,)\n",
            "(12, 12)\n",
            "(12,)\n"
          ],
          "name": "stdout"
        }
      ]
    },
    {
      "cell_type": "code",
      "metadata": {
        "id": "Ac07C1fSH8qz",
        "colab_type": "code",
        "colab": {}
      },
      "source": [
        "#   было 144 наблюдений\n",
        "\n",
        "#   отбросили 12 стало 132\n",
        "#   train 120\n",
        "#   test  12\n",
        "\n"
      ],
      "execution_count": 0,
      "outputs": []
    },
    {
      "cell_type": "code",
      "metadata": {
        "id": "ITxc1MJqH8q2",
        "colab_type": "code",
        "colab": {
          "base_uri": "https://localhost:8080/",
          "height": 282
        },
        "outputId": "75bdfc27-9b61-4633-d0d8-67385b1663b5"
      },
      "source": [
        "#   График с результатами\n",
        "\n",
        "#   numpy.arange([start, ]stop, [step, ]dtype=None)\n",
        "\n",
        "x2 = numpy.arange(0, 120, 1)\n",
        "\n",
        "x3 = numpy.arange(120, 132, 1)\n",
        "\n",
        "\n",
        "plt.plot(x2, y_train, color='blue')\n",
        "\n",
        "plt.plot(x2, predictions_train, color='green')\n",
        "\n",
        "plt.plot(x3, y_test, color='blue')\n",
        "\n",
        "plt.plot(x3, predictions, color='red')\n",
        "\n"
      ],
      "execution_count": 25,
      "outputs": [
        {
          "output_type": "execute_result",
          "data": {
            "text/plain": [
              "[<matplotlib.lines.Line2D at 0x7f71b9b1be10>]"
            ]
          },
          "metadata": {
            "tags": []
          },
          "execution_count": 25
        },
        {
          "output_type": "display_data",
          "data": {
            "image/png": "[encoded data removed]",
            "text/plain": [
              "<Figure size 432x288 with 1 Axes>"
            ]
          },
          "metadata": {
            "tags": [],
            "needs_background": "light"
          }
        }
      ]
    },
    {
      "cell_type": "markdown",
      "metadata": {
        "id": "ugUZwJ5YJywX",
        "colab_type": "text"
      },
      "source": [
        "TORCH"
      ]
    },
    {
      "cell_type": "code",
      "metadata": {
        "id": "YO76c4rrH8q8",
        "colab_type": "code",
        "colab": {}
      },
      "source": [
        "import torch\n",
        "from torch.autograd import Variable\n",
        "import torch.nn.functional as F\n",
        "import torch.utils.data as Data\n",
        "\n",
        "import matplotlib.pyplot as plt\n",
        "%matplotlib inline\n",
        "\n",
        "import numpy as np"
      ],
      "execution_count": 0,
      "outputs": []
    },
    {
      "cell_type": "code",
      "metadata": {
        "id": "_r-5EaGkJ2LL",
        "colab_type": "code",
        "colab": {}
      },
      "source": [
        "X_train_tensor = torch.FloatTensor(np.asarray(X_train))\n",
        "y_train_tensor = torch.FloatTensor(np.array(y_train))\n",
        "X_test_tensor  = torch.FloatTensor(np.asarray(X_test))\n",
        "y_test_tensor = torch.FloatTensor(np.array(y_test))"
      ],
      "execution_count": 0,
      "outputs": []
    },
    {
      "cell_type": "code",
      "metadata": {
        "id": "TKwvmrfkJ3yt",
        "colab_type": "code",
        "colab": {
          "base_uri": "https://localhost:8080/",
          "height": 71
        },
        "outputId": "30425ad7-181f-4c6b-8509-f037844dab21"
      },
      "source": [
        "torch.manual_seed(42)\n",
        "BATCH_SIZE = 15\n",
        "EPOCH = 1200\n",
        "\n",
        "x = X_train_tensor\n",
        "y = y_train_tensor\n",
        "\n",
        "x, y = Variable(x), Variable(y)\n",
        "\n",
        "D_in, D_out = 12, 1\n",
        "\n",
        "net = torch.nn.Sequential(\n",
        "        torch.nn.Linear(D_in, 200),\n",
        "        torch.nn.LeakyReLU(),\n",
        "        torch.nn.Linear(200, 50),\n",
        "        torch.nn.LeakyReLU(),\n",
        "        torch.nn.Linear(50, D_out),\n",
        "    )\n",
        "\n",
        "optimizer = torch.optim.Adam(net.parameters(), lr=0.001)\n",
        "loss_func = torch.nn.MSELoss()\n",
        "\n",
        "torch_dataset = Data.TensorDataset(x, y)\n",
        "loader = Data.DataLoader(dataset=torch_dataset, \n",
        "                        batch_size=BATCH_SIZE, \n",
        "                        shuffle=True, num_workers=2,)\n",
        "\n",
        "for epoch in range(EPOCH):\n",
        "    for step, (batch_x, batch_y) in enumerate(loader):\n",
        "        \n",
        "        b_x = Variable(batch_x)\n",
        "        b_y = Variable(batch_y)\n",
        "\n",
        "        prediction = net(b_x)\n",
        "        \n",
        "        loss = loss_func(prediction, b_y)\n",
        "\n",
        "        optimizer.zero_grad()\n",
        "        loss.backward()\n",
        "        optimizer.step()"
      ],
      "execution_count": 29,
      "outputs": [
        {
          "output_type": "stream",
          "text": [
            "/usr/local/lib/python3.6/dist-packages/torch/nn/modules/loss.py:432: UserWarning: Using a target size (torch.Size([15])) that is different to the input size (torch.Size([15, 1])). This will likely lead to incorrect results due to broadcasting. Please ensure they have the same size.\n",
            "  return F.mse_loss(input, target, reduction=self.reduction)\n"
          ],
          "name": "stderr"
        }
      ]
    },
    {
      "cell_type": "code",
      "metadata": {
        "id": "Y_WaQLvdJ8B4",
        "colab_type": "code",
        "colab": {
          "base_uri": "https://localhost:8080/",
          "height": 34
        },
        "outputId": "c568e6e5-43e1-41d3-c9c4-2085b729c88e"
      },
      "source": [
        "y_test_pred = net(X_test_tensor)\n",
        "\n",
        "y_test_pred = y_test_pred.data.numpy()\n",
        "\n",
        "mean_val = np.mean(np.abs((np.array(y_test) - y_test_pred) / np.array(y_test))) * 100\n",
        "\n",
        "print(\"MAPE = \" + str(mean_val)+\"%\")"
      ],
      "execution_count": 30,
      "outputs": [
        {
          "output_type": "stream",
          "text": [
            "MAPE = 10.061939022938612%\n"
          ],
          "name": "stdout"
        }
      ]
    }
  ]
}