{
  "nbformat": 4,
  "nbformat_minor": 0,
  "metadata": {
    "colab": {
      "name": "NLP_7_Заданий_Лекция_2_Полянчиков_АБД19-1м.ipynb",
      "provenance": [],
      "collapsed_sections": []
    },
    "kernelspec": {
      "name": "python3",
      "display_name": "Python 3"
    }
  },
  "cells": [
    {
      "cell_type": "markdown",
      "metadata": {
        "id": "zww7UmnPA9ON",
        "colab_type": "text"
      },
      "source": [
        "## Полянчиков Владислав, АБД19-1м"
      ]
    },
    {
      "cell_type": "markdown",
      "metadata": {
        "id": "4sGRC9BsFpzA",
        "colab_type": "text"
      },
      "source": [
        "### 1. Провести токенизацию текста\n",
        "\n",
        "##### Вариант 1\n",
        "\n",
        "'Все просто, как апельсин' "
      ]
    },
    {
      "cell_type": "code",
      "metadata": {
        "id": "c-9wU5mVAJ0Y",
        "colab_type": "code",
        "colab": {}
      },
      "source": [
        "import pandas as pd\n",
        "import nltk\n",
        "from collections import Counter\n",
        "import numpy as np\n",
        "import spacy"
      ],
      "execution_count": 1,
      "outputs": []
    },
    {
      "cell_type": "code",
      "metadata": {
        "id": "zHRIzxjUBwj1",
        "colab_type": "code",
        "colab": {
          "base_uri": "https://localhost:8080/",
          "height": 67
        },
        "outputId": "f91a0126-438e-4f45-a983-075b526c71b0"
      },
      "source": [
        "nltk.download('punkt')"
      ],
      "execution_count": 2,
      "outputs": [
        {
          "output_type": "stream",
          "text": [
            "[nltk_data] Downloading package punkt to /root/nltk_data...\n",
            "[nltk_data]   Package punkt is already up-to-date!\n"
          ],
          "name": "stdout"
        },
        {
          "output_type": "execute_result",
          "data": {
            "text/plain": [
              "True"
            ]
          },
          "metadata": {
            "tags": []
          },
          "execution_count": 2
        }
      ]
    },
    {
      "cell_type": "code",
      "metadata": {
        "id": "w8LI35NUBNLw",
        "colab_type": "code",
        "colab": {}
      },
      "source": [
        "text = \"Эти господа всезнайки встречаются иногда, даже довольно часто, в известном общественном слое. Они все знают, вся беспокойная пытливость их ума и способности устремляются неудержимо в одну сторону, конечно, за отсутствием более важных жизненных интересов и взглядов, как сказал бы современный мыслитель. Под словом «всё знают» нужно разуметь, впрочем, область довольно ограниченную: где служит такой-то? с кем он знаком, сколько у него состояния, где был губернатором, на ком женат, сколько взял за женой, кто ему двоюродным братом приходится, кто троюродным и т. д., и т. д., и все в этом роде. Большею частию эти всезнайки ходят с ободранными локтями и получают по семнадцати рублей в месяц жалованья. Люди, о которых они знают всю подноготную, конечно, не придумали бы, какие интересы руководствуют ими, а между тем многие из них этим знанием, равняющимся целой науке, положительно утешены, достигают самоуважения и даже высшего духовного довольства. Да и наука соблазнительная. Я видал ученых, литераторов, поэтов, политических деятелей, обретавших и обретших в этой же науке свои высшие примирения и цели, даже положительно только этим сделавших карьеру. В продолжение всего этого разговора черномазый молодой человек зевал, смотрел без цели в окно и с нетерпением ждал конца путешествия. Он был как-то рассеян, что-то очень рассеян, чуть ли не встревожен, даже становился как-то странен: иной раз слушал и не слушал, глядел и не глядел, смеялся и подчас сам не знал и не понимал, чему смеялся\""
      ],
      "execution_count": 3,
      "outputs": []
    },
    {
      "cell_type": "code",
      "metadata": {
        "id": "hUvUUYuUBUgD",
        "colab_type": "code",
        "colab": {
          "base_uri": "https://localhost:8080/",
          "height": 135
        },
        "outputId": "689a7d45-c04b-4e14-bce2-91c19c2c909b"
      },
      "source": [
        "text"
      ],
      "execution_count": 4,
      "outputs": [
        {
          "output_type": "execute_result",
          "data": {
            "application/vnd.google.colaboratory.intrinsic+json": {
              "type": "string"
            },
            "text/plain": [
              "'Эти господа всезнайки встречаются иногда, даже довольно часто, в известном общественном слое. Они все знают, вся беспокойная пытливость их ума и способности устремляются неудержимо в одну сторону, конечно, за отсутствием более важных жизненных интересов и взглядов, как сказал бы современный мыслитель. Под словом «всё знают» нужно разуметь, впрочем, область довольно ограниченную: где служит такой-то? с кем он знаком, сколько у него состояния, где был губернатором, на ком женат, сколько взял за женой, кто ему двоюродным братом приходится, кто троюродным и т. д., и т. д., и все в этом роде. Большею частию эти всезнайки ходят с ободранными локтями и получают по семнадцати рублей в месяц жалованья. Люди, о которых они знают всю подноготную, конечно, не придумали бы, какие интересы руководствуют ими, а между тем многие из них этим знанием, равняющимся целой науке, положительно утешены, достигают самоуважения и даже высшего духовного довольства. Да и наука соблазнительная. Я видал ученых, литераторов, поэтов, политических деятелей, обретавших и обретших в этой же науке свои высшие примирения и цели, даже положительно только этим сделавших карьеру. В продолжение всего этого разговора черномазый молодой человек зевал, смотрел без цели в окно и с нетерпением ждал конца путешествия. Он был как-то рассеян, что-то очень рассеян, чуть ли не встревожен, даже становился как-то странен: иной раз слушал и не слушал, глядел и не глядел, смеялся и подчас сам не знал и не понимал, чему смеялся'"
            ]
          },
          "metadata": {
            "tags": []
          },
          "execution_count": 4
        }
      ]
    },
    {
      "cell_type": "code",
      "metadata": {
        "id": "cVl4n3_qA6eT",
        "colab_type": "code",
        "colab": {
          "base_uri": "https://localhost:8080/",
          "height": 53
        },
        "outputId": "fb39eeac-1861-4289-9ed2-f14892733254"
      },
      "source": [
        "tokens = nltk.word_tokenize(text.lower())\n",
        "print(tokens)"
      ],
      "execution_count": 5,
      "outputs": [
        {
          "output_type": "stream",
          "text": [
            "['эти', 'господа', 'всезнайки', 'встречаются', 'иногда', ',', 'даже', 'довольно', 'часто', ',', 'в', 'известном', 'общественном', 'слое', '.', 'они', 'все', 'знают', ',', 'вся', 'беспокойная', 'пытливость', 'их', 'ума', 'и', 'способности', 'устремляются', 'неудержимо', 'в', 'одну', 'сторону', ',', 'конечно', ',', 'за', 'отсутствием', 'более', 'важных', 'жизненных', 'интересов', 'и', 'взглядов', ',', 'как', 'сказал', 'бы', 'современный', 'мыслитель', '.', 'под', 'словом', '«', 'всё', 'знают', '»', 'нужно', 'разуметь', ',', 'впрочем', ',', 'область', 'довольно', 'ограниченную', ':', 'где', 'служит', 'такой-то', '?', 'с', 'кем', 'он', 'знаком', ',', 'сколько', 'у', 'него', 'состояния', ',', 'где', 'был', 'губернатором', ',', 'на', 'ком', 'женат', ',', 'сколько', 'взял', 'за', 'женой', ',', 'кто', 'ему', 'двоюродным', 'братом', 'приходится', ',', 'кто', 'троюродным', 'и', 'т.', 'д.', ',', 'и', 'т.', 'д.', ',', 'и', 'все', 'в', 'этом', 'роде', '.', 'большею', 'частию', 'эти', 'всезнайки', 'ходят', 'с', 'ободранными', 'локтями', 'и', 'получают', 'по', 'семнадцати', 'рублей', 'в', 'месяц', 'жалованья', '.', 'люди', ',', 'о', 'которых', 'они', 'знают', 'всю', 'подноготную', ',', 'конечно', ',', 'не', 'придумали', 'бы', ',', 'какие', 'интересы', 'руководствуют', 'ими', ',', 'а', 'между', 'тем', 'многие', 'из', 'них', 'этим', 'знанием', ',', 'равняющимся', 'целой', 'науке', ',', 'положительно', 'утешены', ',', 'достигают', 'самоуважения', 'и', 'даже', 'высшего', 'духовного', 'довольства', '.', 'да', 'и', 'наука', 'соблазнительная', '.', 'я', 'видал', 'ученых', ',', 'литераторов', ',', 'поэтов', ',', 'политических', 'деятелей', ',', 'обретавших', 'и', 'обретших', 'в', 'этой', 'же', 'науке', 'свои', 'высшие', 'примирения', 'и', 'цели', ',', 'даже', 'положительно', 'только', 'этим', 'сделавших', 'карьеру', '.', 'в', 'продолжение', 'всего', 'этого', 'разговора', 'черномазый', 'молодой', 'человек', 'зевал', ',', 'смотрел', 'без', 'цели', 'в', 'окно', 'и', 'с', 'нетерпением', 'ждал', 'конца', 'путешествия', '.', 'он', 'был', 'как-то', 'рассеян', ',', 'что-то', 'очень', 'рассеян', ',', 'чуть', 'ли', 'не', 'встревожен', ',', 'даже', 'становился', 'как-то', 'странен', ':', 'иной', 'раз', 'слушал', 'и', 'не', 'слушал', ',', 'глядел', 'и', 'не', 'глядел', ',', 'смеялся', 'и', 'подчас', 'сам', 'не', 'знал', 'и', 'не', 'понимал', ',', 'чему', 'смеялся']\n"
          ],
          "name": "stdout"
        }
      ]
    },
    {
      "cell_type": "markdown",
      "metadata": {
        "id": "r52jq4KXDN5Y",
        "colab_type": "text"
      },
      "source": [
        "### 2. Провести стемминг текста\n",
        "\n",
        "##### Вариант 1\n",
        "\n",
        "Единственный вариант нормального стеммера русского языка, который был найден - SnowBall\n",
        "Токенизируем -> Стеммируем"
      ]
    },
    {
      "cell_type": "code",
      "metadata": {
        "id": "pTgu42MRFLeU",
        "colab_type": "code",
        "colab": {}
      },
      "source": [
        "text = 'Власти Эквадора потратили $795 тыс. на содержание основателя WikiLeaks Джулиана Ассанжа в течение шести лет, которые он прожил в посольстве страны в Лондоне. Об этом сообщает El Periódico со ссылкой на текст доклада Главного контрольного управления (CGE) Эквадора. Посольство оплачивало для Ассанжа услуги прачечной, медикаменты и медицинское обслуживание, благоустройство помещений, еду, консалтинговые услуги, сервисы для коммуникации, охрану. Согласно докладу, больше всего денег ушло на услуги правозащитников и тех, кто обеспечивал коммуникацию Ассанжа ($144 тыс.). Однако из-за непонятных условий контактов с консалтинговыми компаниями аудиторы не могут точно утверждать, были ли эти траты законными. Утверждается также, что когда журналист поселился в посольстве, там сделали ремонт помещений, в том числе туалетов, что стоило $23 тыс. В начале апреля министр иностранных дел Эквадора Хосе Валенсия заявлял, что посольство потратило на его содержание чуть больше $6 млн. Расхождение в цифрах, отмечает издание, власти страны не объяснили». РБК.'"
      ],
      "execution_count": 6,
      "outputs": []
    },
    {
      "cell_type": "code",
      "metadata": {
        "id": "FvSJbKUHFUEo",
        "colab_type": "code",
        "colab": {
          "base_uri": "https://localhost:8080/",
          "height": 135
        },
        "outputId": "533864ae-c80c-4a3f-f9bb-6edb427c6c09"
      },
      "source": [
        "text"
      ],
      "execution_count": 7,
      "outputs": [
        {
          "output_type": "execute_result",
          "data": {
            "application/vnd.google.colaboratory.intrinsic+json": {
              "type": "string"
            },
            "text/plain": [
              "'Власти Эквадора потратили $795 тыс. на содержание основателя WikiLeaks Джулиана Ассанжа в течение шести лет, которые он прожил в посольстве страны в Лондоне. Об этом сообщает El Periódico со ссылкой на текст доклада Главного контрольного управления (CGE) Эквадора. Посольство оплачивало для Ассанжа услуги прачечной, медикаменты и медицинское обслуживание, благоустройство помещений, еду, консалтинговые услуги, сервисы для коммуникации, охрану. Согласно докладу, больше всего денег ушло на услуги правозащитников и тех, кто обеспечивал коммуникацию Ассанжа ($144 тыс.). Однако из-за непонятных условий контактов с консалтинговыми компаниями аудиторы не могут точно утверждать, были ли эти траты законными. Утверждается также, что когда журналист поселился в посольстве, там сделали ремонт помещений, в том числе туалетов, что стоило $23 тыс. В начале апреля министр иностранных дел Эквадора Хосе Валенсия заявлял, что посольство потратило на его содержание чуть больше $6 млн. Расхождение в цифрах, отмечает издание, власти страны не объяснили». РБК.'"
            ]
          },
          "metadata": {
            "tags": []
          },
          "execution_count": 7
        }
      ]
    },
    {
      "cell_type": "code",
      "metadata": {
        "id": "WqMONrdFFfBY",
        "colab_type": "code",
        "colab": {
          "base_uri": "https://localhost:8080/",
          "height": 53
        },
        "outputId": "d2f9bf81-70f9-4ce3-ca9c-839b06608523"
      },
      "source": [
        "tokens = nltk.word_tokenize(text.lower())\n",
        "print(tokens)"
      ],
      "execution_count": 8,
      "outputs": [
        {
          "output_type": "stream",
          "text": [
            "['власти', 'эквадора', 'потратили', '$', '795', 'тыс', '.', 'на', 'содержание', 'основателя', 'wikileaks', 'джулиана', 'ассанжа', 'в', 'течение', 'шести', 'лет', ',', 'которые', 'он', 'прожил', 'в', 'посольстве', 'страны', 'в', 'лондоне', '.', 'об', 'этом', 'сообщает', 'el', 'periódico', 'со', 'ссылкой', 'на', 'текст', 'доклада', 'главного', 'контрольного', 'управления', '(', 'cge', ')', 'эквадора', '.', 'посольство', 'оплачивало', 'для', 'ассанжа', 'услуги', 'прачечной', ',', 'медикаменты', 'и', 'медицинское', 'обслуживание', ',', 'благоустройство', 'помещений', ',', 'еду', ',', 'консалтинговые', 'услуги', ',', 'сервисы', 'для', 'коммуникации', ',', 'охрану', '.', 'согласно', 'докладу', ',', 'больше', 'всего', 'денег', 'ушло', 'на', 'услуги', 'правозащитников', 'и', 'тех', ',', 'кто', 'обеспечивал', 'коммуникацию', 'ассанжа', '(', '$', '144', 'тыс.', ')', '.', 'однако', 'из-за', 'непонятных', 'условий', 'контактов', 'с', 'консалтинговыми', 'компаниями', 'аудиторы', 'не', 'могут', 'точно', 'утверждать', ',', 'были', 'ли', 'эти', 'траты', 'законными', '.', 'утверждается', 'также', ',', 'что', 'когда', 'журналист', 'поселился', 'в', 'посольстве', ',', 'там', 'сделали', 'ремонт', 'помещений', ',', 'в', 'том', 'числе', 'туалетов', ',', 'что', 'стоило', '$', '23', 'тыс', '.', 'в', 'начале', 'апреля', 'министр', 'иностранных', 'дел', 'эквадора', 'хосе', 'валенсия', 'заявлял', ',', 'что', 'посольство', 'потратило', 'на', 'его', 'содержание', 'чуть', 'больше', '$', '6', 'млн', '.', 'расхождение', 'в', 'цифрах', ',', 'отмечает', 'издание', ',', 'власти', 'страны', 'не', 'объяснили', '»', '.', 'рбк', '.']\n"
          ],
          "name": "stdout"
        }
      ]
    },
    {
      "cell_type": "code",
      "metadata": {
        "id": "S_8lsFOOCE2s",
        "colab_type": "code",
        "colab": {}
      },
      "source": [
        "from nltk.stem.snowball import SnowballStemmer\n",
        "stemmer = SnowballStemmer(\"russian\")"
      ],
      "execution_count": 9,
      "outputs": []
    },
    {
      "cell_type": "code",
      "metadata": {
        "id": "gdBfN1MbDxiF",
        "colab_type": "code",
        "colab": {
          "base_uri": "https://localhost:8080/",
          "height": 35
        },
        "outputId": "c760286f-0539-4e6c-bf20-401a5dfe3d9b"
      },
      "source": [
        "stemmer.stem('господа')"
      ],
      "execution_count": 10,
      "outputs": [
        {
          "output_type": "execute_result",
          "data": {
            "application/vnd.google.colaboratory.intrinsic+json": {
              "type": "string"
            },
            "text/plain": [
              "'господ'"
            ]
          },
          "metadata": {
            "tags": []
          },
          "execution_count": 10
        }
      ]
    },
    {
      "cell_type": "code",
      "metadata": {
        "id": "00rvSXpNEZBB",
        "colab_type": "code",
        "colab": {}
      },
      "source": [
        "stems = [stemmer.stem(i) for i in tokens]"
      ],
      "execution_count": 11,
      "outputs": []
    },
    {
      "cell_type": "code",
      "metadata": {
        "id": "1pHedvyaElHu",
        "colab_type": "code",
        "colab": {
          "base_uri": "https://localhost:8080/",
          "height": 53
        },
        "outputId": "b5b6a49c-d572-40ba-b2bf-8169662788b5"
      },
      "source": [
        "print(stems)"
      ],
      "execution_count": 12,
      "outputs": [
        {
          "output_type": "stream",
          "text": [
            "['власт', 'эквадор', 'потрат', '$', '795', 'тыс', '.', 'на', 'содержан', 'основател', 'wikileaks', 'джулиа', 'ассанж', 'в', 'течен', 'шест', 'лет', ',', 'котор', 'он', 'прож', 'в', 'посольств', 'стран', 'в', 'лондон', '.', 'об', 'эт', 'сообща', 'el', 'periódic', 'со', 'ссылк', 'на', 'текст', 'доклад', 'главн', 'контрольн', 'управлен', '(', 'cge', ')', 'эквадор', '.', 'посольств', 'оплачива', 'для', 'ассанж', 'услуг', 'прачечн', ',', 'медикамент', 'и', 'медицинск', 'обслуживан', ',', 'благоустройств', 'помещен', ',', 'ед', ',', 'консалтингов', 'услуг', ',', 'сервис', 'для', 'коммуникац', ',', 'охран', '.', 'согласн', 'доклад', ',', 'больш', 'всег', 'денег', 'ушл', 'на', 'услуг', 'правозащитник', 'и', 'тех', ',', 'кто', 'обеспечива', 'коммуникац', 'ассанж', '(', '$', '144', 'тыс.', ')', '.', 'однак', 'из-з', 'непонятн', 'услов', 'контакт', 'с', 'консалтингов', 'компан', 'аудитор', 'не', 'могут', 'точн', 'утвержда', ',', 'был', 'ли', 'эт', 'трат', 'закон', '.', 'утвержда', 'такж', ',', 'что', 'когд', 'журналист', 'посел', 'в', 'посольств', ',', 'там', 'сдела', 'ремонт', 'помещен', ',', 'в', 'том', 'числ', 'туалет', ',', 'что', 'сто', '$', '23', 'тыс', '.', 'в', 'начал', 'апрел', 'министр', 'иностра', 'дел', 'эквадор', 'хос', 'валенс', 'заявля', ',', 'что', 'посольств', 'потрат', 'на', 'ег', 'содержан', 'чут', 'больш', '$', '6', 'млн', '.', 'расхожден', 'в', 'цифр', ',', 'отмеча', 'издан', ',', 'власт', 'стран', 'не', 'объясн', '»', '.', 'рбк', '.']\n"
          ],
          "name": "stdout"
        }
      ]
    },
    {
      "cell_type": "markdown",
      "metadata": {
        "id": "ndE6SdO9EpyJ",
        "colab_type": "text"
      },
      "source": [
        "### Провести лемматизацию текста\n",
        "\n",
        "##### Вариант 1\n",
        "\n",
        "К счастью в библиотеке spacy провести лемматизацию очень просто"
      ]
    },
    {
      "cell_type": "code",
      "metadata": {
        "id": "L6NapOibEosP",
        "colab_type": "code",
        "colab": {
          "base_uri": "https://localhost:8080/",
          "height": 52
        },
        "outputId": "c6edc334-5aba-4a98-e383-2df878a14ba9"
      },
      "source": [
        "text = 'President Trump arrived at his golf course in Doonbeg, Ireland, on Wednesday for a two-night stay — pausing between official events in Europe to visit a business that has cost him $41 million and never reported turning a profit'\n",
        "text"
      ],
      "execution_count": 13,
      "outputs": [
        {
          "output_type": "execute_result",
          "data": {
            "application/vnd.google.colaboratory.intrinsic+json": {
              "type": "string"
            },
            "text/plain": [
              "'President Trump arrived at his golf course in Doonbeg, Ireland, on Wednesday for a two-night stay — pausing between official events in Europe to visit a business that has cost him $41 million and never reported turning a profit'"
            ]
          },
          "metadata": {
            "tags": []
          },
          "execution_count": 13
        }
      ]
    },
    {
      "cell_type": "code",
      "metadata": {
        "id": "Ro39gHfCGvYf",
        "colab_type": "code",
        "colab": {}
      },
      "source": [
        "import spacy\n",
        "nlp = spacy.load('en')"
      ],
      "execution_count": 14,
      "outputs": []
    },
    {
      "cell_type": "code",
      "metadata": {
        "id": "yWBox361HAmw",
        "colab_type": "code",
        "colab": {
          "base_uri": "https://localhost:8080/",
          "height": 53
        },
        "outputId": "b196c39d-c125-41b2-cd67-e82f29953ad5"
      },
      "source": [
        "doc = nlp(text)\n",
        "doc"
      ],
      "execution_count": 15,
      "outputs": [
        {
          "output_type": "execute_result",
          "data": {
            "text/plain": [
              "President Trump arrived at his golf course in Doonbeg, Ireland, on Wednesday for a two-night stay — pausing between official events in Europe to visit a business that has cost him $41 million and never reported turning a profit"
            ]
          },
          "metadata": {
            "tags": []
          },
          "execution_count": 15
        }
      ]
    },
    {
      "cell_type": "code",
      "metadata": {
        "id": "MJ09vsXlHM9f",
        "colab_type": "code",
        "colab": {
          "base_uri": "https://localhost:8080/",
          "height": 53
        },
        "outputId": "f71152d3-3e35-424f-bb88-5f2f0e1523c4"
      },
      "source": [
        "lemmas = [token.lemma_ for token in doc]\n",
        "print(lemmas)"
      ],
      "execution_count": 16,
      "outputs": [
        {
          "output_type": "stream",
          "text": [
            "['President', 'Trump', 'arrive', 'at', '-PRON-', 'golf', 'course', 'in', 'Doonbeg', ',', 'Ireland', ',', 'on', 'Wednesday', 'for', 'a', 'two', '-', 'night', 'stay', '—', 'pause', 'between', 'official', 'event', 'in', 'Europe', 'to', 'visit', 'a', 'business', 'that', 'have', 'cost', '-PRON-', '$', '41', 'million', 'and', 'never', 'report', 'turn', 'a', 'profit']\n"
          ],
          "name": "stdout"
        }
      ]
    },
    {
      "cell_type": "markdown",
      "metadata": {
        "id": "bqNuTdggIVIK",
        "colab_type": "text"
      },
      "source": [
        "### Определить список стоп-слов\n",
        "\n",
        "##### Вариант 2\n",
        "\n",
        "Загружаем стоп слова.\n",
        "Проверяем текст так, чтобы стоп слова там были.\n",
        "Считаем!"
      ]
    },
    {
      "cell_type": "code",
      "metadata": {
        "id": "EbqB-CuGH87R",
        "colab_type": "code",
        "colab": {
          "base_uri": "https://localhost:8080/",
          "height": 102
        },
        "outputId": "8281b311-dac4-48a1-9106-79a268aaaae2"
      },
      "source": [
        "text = 'В январе специалисты рассказали, что Роскомнадзор возобновил практику массовой блокировки IP-адресов. Такой шаг посчитали новой волной борьбы с Telegram. Пресс-секретарь ведомства Вадим Ампелонский сообщал, что они совершенствуют технологии блокировки. Мессенджер пытаются полностью заблокировать на территории России с 16 апреля 2018 года. Таганский районный суд Москвы 13 апреля 2018 года постановил ограничить доступ к Telegram за отказ предоставить ФСБ ключи шифрования, позволяющие читать переписку пользователей. В настоящее время россияне продолжают пользоваться мессенджером'\n",
        "text"
      ],
      "execution_count": 17,
      "outputs": [
        {
          "output_type": "execute_result",
          "data": {
            "application/vnd.google.colaboratory.intrinsic+json": {
              "type": "string"
            },
            "text/plain": [
              "'В январе специалисты рассказали, что Роскомнадзор возобновил практику массовой блокировки IP-адресов. Такой шаг посчитали новой волной борьбы с Telegram. Пресс-секретарь ведомства Вадим Ампелонский сообщал, что они совершенствуют технологии блокировки. Мессенджер пытаются полностью заблокировать на территории России с 16 апреля 2018 года. Таганский районный суд Москвы 13 апреля 2018 года постановил ограничить доступ к Telegram за отказ предоставить ФСБ ключи шифрования, позволяющие читать переписку пользователей. В настоящее время россияне продолжают пользоваться мессенджером'"
            ]
          },
          "metadata": {
            "tags": []
          },
          "execution_count": 17
        }
      ]
    },
    {
      "cell_type": "code",
      "metadata": {
        "id": "kJ3-MZmMIm45",
        "colab_type": "code",
        "colab": {
          "base_uri": "https://localhost:8080/",
          "height": 87
        },
        "outputId": "c7387083-f4c1-4d5f-9b4a-429e7ca4d87d"
      },
      "source": [
        "import nltk\n",
        "nltk.download('stopwords')\n",
        "from nltk.corpus import stopwords\n",
        "print(stopwords.words('russian'))"
      ],
      "execution_count": 18,
      "outputs": [
        {
          "output_type": "stream",
          "text": [
            "[nltk_data] Downloading package stopwords to /root/nltk_data...\n",
            "[nltk_data]   Package stopwords is already up-to-date!\n",
            "['и', 'в', 'во', 'не', 'что', 'он', 'на', 'я', 'с', 'со', 'как', 'а', 'то', 'все', 'она', 'так', 'его', 'но', 'да', 'ты', 'к', 'у', 'же', 'вы', 'за', 'бы', 'по', 'только', 'ее', 'мне', 'было', 'вот', 'от', 'меня', 'еще', 'нет', 'о', 'из', 'ему', 'теперь', 'когда', 'даже', 'ну', 'вдруг', 'ли', 'если', 'уже', 'или', 'ни', 'быть', 'был', 'него', 'до', 'вас', 'нибудь', 'опять', 'уж', 'вам', 'ведь', 'там', 'потом', 'себя', 'ничего', 'ей', 'может', 'они', 'тут', 'где', 'есть', 'надо', 'ней', 'для', 'мы', 'тебя', 'их', 'чем', 'была', 'сам', 'чтоб', 'без', 'будто', 'чего', 'раз', 'тоже', 'себе', 'под', 'будет', 'ж', 'тогда', 'кто', 'этот', 'того', 'потому', 'этого', 'какой', 'совсем', 'ним', 'здесь', 'этом', 'один', 'почти', 'мой', 'тем', 'чтобы', 'нее', 'сейчас', 'были', 'куда', 'зачем', 'всех', 'никогда', 'можно', 'при', 'наконец', 'два', 'об', 'другой', 'хоть', 'после', 'над', 'больше', 'тот', 'через', 'эти', 'нас', 'про', 'всего', 'них', 'какая', 'много', 'разве', 'три', 'эту', 'моя', 'впрочем', 'хорошо', 'свою', 'этой', 'перед', 'иногда', 'лучше', 'чуть', 'том', 'нельзя', 'такой', 'им', 'более', 'всегда', 'конечно', 'всю', 'между']\n"
          ],
          "name": "stdout"
        }
      ]
    },
    {
      "cell_type": "code",
      "metadata": {
        "id": "01Fd669gIvQI",
        "colab_type": "code",
        "colab": {}
      },
      "source": [
        "sword_list = stopwords.words('russian')"
      ],
      "execution_count": 19,
      "outputs": []
    },
    {
      "cell_type": "code",
      "metadata": {
        "id": "2d9MFtR6Jpo0",
        "colab_type": "code",
        "colab": {}
      },
      "source": [
        "tokens = nltk.word_tokenize(text.lower())"
      ],
      "execution_count": 20,
      "outputs": []
    },
    {
      "cell_type": "code",
      "metadata": {
        "id": "Czo8OOpBJuNg",
        "colab_type": "code",
        "colab": {
          "base_uri": "https://localhost:8080/",
          "height": 50
        },
        "outputId": "49b667c0-da9e-4254-adc2-5969ded4ca73"
      },
      "source": [
        "text_swords = [i for i in tokens if i in sword_list]\n",
        "print(len(text_swords), ' стоп слов в тексте')\n",
        "text_swords"
      ],
      "execution_count": 21,
      "outputs": [
        {
          "output_type": "stream",
          "text": [
            "11  стоп слов в тексте\n"
          ],
          "name": "stdout"
        },
        {
          "output_type": "execute_result",
          "data": {
            "text/plain": [
              "['в', 'что', 'такой', 'с', 'что', 'они', 'на', 'с', 'к', 'за', 'в']"
            ]
          },
          "metadata": {
            "tags": []
          },
          "execution_count": 21
        }
      ]
    },
    {
      "cell_type": "markdown",
      "metadata": {
        "id": "Kjvkc2uNLwE-",
        "colab_type": "text"
      },
      "source": [
        "### Рассчитать TF-IDF используя язык программирования Python с помощью класса Counter из стандартной библиотеки collections\n",
        "\n",
        "##### Вариант 2\n",
        "\n",
        "Загружаем стоп слова.\n",
        "Проверяем текст так, чтобы стоп слов там не было.\n",
        "Считаем!"
      ]
    },
    {
      "cell_type": "code",
      "metadata": {
        "id": "4BBVg4i-J8EB",
        "colab_type": "code",
        "colab": {
          "base_uri": "https://localhost:8080/",
          "height": 52
        },
        "outputId": "5fcb3251-126d-4c16-e621-7ab787a23614"
      },
      "source": [
        "text = 'At Doonbeg, Trump is likely to find something that escaped him in London: a warm welcome. Trump’s club employs more than 200 people, making it one of the largest employers in a rural area of County Clare'\n",
        "text"
      ],
      "execution_count": 22,
      "outputs": [
        {
          "output_type": "execute_result",
          "data": {
            "application/vnd.google.colaboratory.intrinsic+json": {
              "type": "string"
            },
            "text/plain": [
              "'At Doonbeg, Trump is likely to find something that escaped him in London: a warm welcome. Trump’s club employs more than 200 people, making it one of the largest employers in a rural area of County Clare'"
            ]
          },
          "metadata": {
            "tags": []
          },
          "execution_count": 22
        }
      ]
    },
    {
      "cell_type": "code",
      "metadata": {
        "id": "R9f6rDnLL_ln",
        "colab_type": "code",
        "colab": {}
      },
      "source": [
        "from collections import Counter"
      ],
      "execution_count": 23,
      "outputs": []
    },
    {
      "cell_type": "code",
      "metadata": {
        "id": "7FAv-swVRSQL",
        "colab_type": "code",
        "colab": {
          "base_uri": "https://localhost:8080/",
          "height": 53
        },
        "outputId": "48e7c4a9-3bf1-414c-d5b8-51620e99a3ff"
      },
      "source": [
        "tokenizer = nltk.RegexpTokenizer(r\"\\w+\")\n",
        "tokens = tokenizer.tokenize(text)\n",
        "print(tokens)"
      ],
      "execution_count": 24,
      "outputs": [
        {
          "output_type": "stream",
          "text": [
            "['At', 'Doonbeg', 'Trump', 'is', 'likely', 'to', 'find', 'something', 'that', 'escaped', 'him', 'in', 'London', 'a', 'warm', 'welcome', 'Trump', 's', 'club', 'employs', 'more', 'than', '200', 'people', 'making', 'it', 'one', 'of', 'the', 'largest', 'employers', 'in', 'a', 'rural', 'area', 'of', 'County', 'Clare']\n"
          ],
          "name": "stdout"
        }
      ]
    },
    {
      "cell_type": "code",
      "metadata": {
        "id": "FMuPWLOCSqMU",
        "colab_type": "code",
        "colab": {
          "base_uri": "https://localhost:8080/",
          "height": 53
        },
        "outputId": "58069b2b-d02a-4cfb-cdb3-6410df03b41e"
      },
      "source": [
        "sword_list = stopwords.words('english')\n",
        "print(sword_list)"
      ],
      "execution_count": 25,
      "outputs": [
        {
          "output_type": "stream",
          "text": [
            "['i', 'me', 'my', 'myself', 'we', 'our', 'ours', 'ourselves', 'you', \"you're\", \"you've\", \"you'll\", \"you'd\", 'your', 'yours', 'yourself', 'yourselves', 'he', 'him', 'his', 'himself', 'she', \"she's\", 'her', 'hers', 'herself', 'it', \"it's\", 'its', 'itself', 'they', 'them', 'their', 'theirs', 'themselves', 'what', 'which', 'who', 'whom', 'this', 'that', \"that'll\", 'these', 'those', 'am', 'is', 'are', 'was', 'were', 'be', 'been', 'being', 'have', 'has', 'had', 'having', 'do', 'does', 'did', 'doing', 'a', 'an', 'the', 'and', 'but', 'if', 'or', 'because', 'as', 'until', 'while', 'of', 'at', 'by', 'for', 'with', 'about', 'against', 'between', 'into', 'through', 'during', 'before', 'after', 'above', 'below', 'to', 'from', 'up', 'down', 'in', 'out', 'on', 'off', 'over', 'under', 'again', 'further', 'then', 'once', 'here', 'there', 'when', 'where', 'why', 'how', 'all', 'any', 'both', 'each', 'few', 'more', 'most', 'other', 'some', 'such', 'no', 'nor', 'not', 'only', 'own', 'same', 'so', 'than', 'too', 'very', 's', 't', 'can', 'will', 'just', 'don', \"don't\", 'should', \"should've\", 'now', 'd', 'll', 'm', 'o', 're', 've', 'y', 'ain', 'aren', \"aren't\", 'couldn', \"couldn't\", 'didn', \"didn't\", 'doesn', \"doesn't\", 'hadn', \"hadn't\", 'hasn', \"hasn't\", 'haven', \"haven't\", 'isn', \"isn't\", 'ma', 'mightn', \"mightn't\", 'mustn', \"mustn't\", 'needn', \"needn't\", 'shan', \"shan't\", 'shouldn', \"shouldn't\", 'wasn', \"wasn't\", 'weren', \"weren't\", 'won', \"won't\", 'wouldn', \"wouldn't\"]\n"
          ],
          "name": "stdout"
        }
      ]
    },
    {
      "cell_type": "code",
      "metadata": {
        "id": "TP77Nk2ZQCGk",
        "colab_type": "code",
        "colab": {
          "base_uri": "https://localhost:8080/",
          "height": 53
        },
        "outputId": "fb264b48-b53a-4262-b796-9ea05c9e36a7"
      },
      "source": [
        "no_swords = [token.lower() for token in tokens if token.lower() not in sword_list]\n",
        "print(no_swords)"
      ],
      "execution_count": 26,
      "outputs": [
        {
          "output_type": "stream",
          "text": [
            "['doonbeg', 'trump', 'likely', 'find', 'something', 'escaped', 'london', 'warm', 'welcome', 'trump', 'club', 'employs', '200', 'people', 'making', 'one', 'largest', 'employers', 'rural', 'area', 'county', 'clare']\n"
          ],
          "name": "stdout"
        }
      ]
    },
    {
      "cell_type": "code",
      "metadata": {
        "id": "fbu-wnYHTm2l",
        "colab_type": "code",
        "colab": {
          "base_uri": "https://localhost:8080/",
          "height": 367
        },
        "outputId": "e35dbec0-65e4-411a-fcd9-76c549a15f6d"
      },
      "source": [
        "from collections import Counter\n",
        "counter = Counter(no_swords)\n",
        "counter"
      ],
      "execution_count": 27,
      "outputs": [
        {
          "output_type": "execute_result",
          "data": {
            "text/plain": [
              "Counter({'200': 1,\n",
              "         'area': 1,\n",
              "         'clare': 1,\n",
              "         'club': 1,\n",
              "         'county': 1,\n",
              "         'doonbeg': 1,\n",
              "         'employers': 1,\n",
              "         'employs': 1,\n",
              "         'escaped': 1,\n",
              "         'find': 1,\n",
              "         'largest': 1,\n",
              "         'likely': 1,\n",
              "         'london': 1,\n",
              "         'making': 1,\n",
              "         'one': 1,\n",
              "         'people': 1,\n",
              "         'rural': 1,\n",
              "         'something': 1,\n",
              "         'trump': 2,\n",
              "         'warm': 1,\n",
              "         'welcome': 1})"
            ]
          },
          "metadata": {
            "tags": []
          },
          "execution_count": 27
        }
      ]
    },
    {
      "cell_type": "code",
      "metadata": {
        "id": "-871Tmf0MFyR",
        "colab_type": "code",
        "colab": {
          "base_uri": "https://localhost:8080/",
          "height": 33
        },
        "outputId": "8369951d-901b-4ce4-9dbe-b4f86dcfbfb0"
      },
      "source": [
        "import numpy as np\n",
        "\n",
        "wordcount = np.sum(list(Counter(no_swords).values()))\n",
        "wordcount"
      ],
      "execution_count": 28,
      "outputs": [
        {
          "output_type": "execute_result",
          "data": {
            "text/plain": [
              "22"
            ]
          },
          "metadata": {
            "tags": []
          },
          "execution_count": 28
        }
      ]
    },
    {
      "cell_type": "code",
      "metadata": {
        "id": "orIHjaMNTXPs",
        "colab_type": "code",
        "colab": {
          "base_uri": "https://localhost:8080/",
          "height": 367
        },
        "outputId": "1ee12e47-f9b3-4f87-ec9a-75ae18472e29"
      },
      "source": [
        "for i in counter.items():\n",
        "  print('{:>20} \\t {}'.format(i[0], i[1]/22))"
      ],
      "execution_count": 29,
      "outputs": [
        {
          "output_type": "stream",
          "text": [
            "             doonbeg \t 0.045454545454545456\n",
            "               trump \t 0.09090909090909091\n",
            "              likely \t 0.045454545454545456\n",
            "                find \t 0.045454545454545456\n",
            "           something \t 0.045454545454545456\n",
            "             escaped \t 0.045454545454545456\n",
            "              london \t 0.045454545454545456\n",
            "                warm \t 0.045454545454545456\n",
            "             welcome \t 0.045454545454545456\n",
            "                club \t 0.045454545454545456\n",
            "             employs \t 0.045454545454545456\n",
            "                 200 \t 0.045454545454545456\n",
            "              people \t 0.045454545454545456\n",
            "              making \t 0.045454545454545456\n",
            "                 one \t 0.045454545454545456\n",
            "             largest \t 0.045454545454545456\n",
            "           employers \t 0.045454545454545456\n",
            "               rural \t 0.045454545454545456\n",
            "                area \t 0.045454545454545456\n",
            "              county \t 0.045454545454545456\n",
            "               clare \t 0.045454545454545456\n"
          ],
          "name": "stdout"
        }
      ]
    },
    {
      "cell_type": "markdown",
      "metadata": {
        "id": "Ogx1c-t6V83m",
        "colab_type": "text"
      },
      "source": [
        "### Определение N-грам\n",
        "\n",
        "##### Вариант 1\n",
        "\n",
        "Все просто, так как пример кода был в док файле. Идем проверять школьников на плагиат =)"
      ]
    },
    {
      "cell_type": "code",
      "metadata": {
        "id": "gyzxksnVWC-N",
        "colab_type": "code",
        "colab": {
          "base_uri": "https://localhost:8080/",
          "height": 135
        },
        "outputId": "e009e0c1-79e0-45c2-86e1-7f6957ee7719"
      },
      "source": [
        "text = 'Рассмотрены основные характеристики объективной, виртуальной и дополненной реальности хорошо изученных и использованных в различных сферах применения компьютерных и производственных технологий. Показано, что в целях эффективной реализации регламентированных законодательными документами технологий цифровой экономики правомерно выдвинуть гипотезу о том, что технология распределенного реестра (блокчейна), по сути, является дополненной (объективно-виртуальной) реальностью. Это ее свойство демонстрируется примерами построения за рубежом на ее основе ряда новейших финансовых и управленческих технологий. Данные факты подтверждают выводы ряда ведущих зарубежных и российских ученых-экономистов и практиков о том, что традиционная экономика трансформации в цифровую экономику приведет к совершенствованию интерфейса «человек–компьютер». В рамках актуальности проведения научных исследований технологии блокчейна предложены основные теоретические направления развития сопряженных с ней технологий цифровой экономики, включающие вопросы коммуникации, обеспечения достоверности информации, надежности транзакций, непрерывности бизнес-процессов и разработки новых подходов к методам учета и капитализации информационного контента блокчейна. Анализ практики применения технологии блокчейна показал, что на ее основе происходит трансформация экономических и финансовых моделей хозяйствования во многих странах мира. Это позволяет утверждать, что появился новый рычаг воздействия на развитие экономики реального сектора и формирования за счет него новых платформ цифрового управления многими сферами жизнедеятельности современного социума. Представлены примеры применения блокчейна в различных сферах экономики (кредитование, денежное обращение, краудфандинг, краудинвестинг, стимулирование и финансирование инновационных проектов, калькуляция производственных затрат, управление бизнес-процессами). Примеры подтверждают актуальность и плодотворность дальнейшего изучения выдвинутой гипотезы о наличии у блокчейна свойства «дополненной реальности» в интересах развития как собственно технологий цифровой экономики, так и совершенствования на их основе технологий финансовой и прочей экономической деятельности.» Бауэр В.П., Побываев С.А., Сильвестров С.Н. Блокчейн как дополненная реальность: от гипотезы к основам теории и практики.'\n",
        "text"
      ],
      "execution_count": 30,
      "outputs": [
        {
          "output_type": "execute_result",
          "data": {
            "application/vnd.google.colaboratory.intrinsic+json": {
              "type": "string"
            },
            "text/plain": [
              "'Рассмотрены основные характеристики объективной, виртуальной и дополненной реальности хорошо изученных и использованных в различных сферах применения компьютерных и производственных технологий. Показано, что в целях эффективной реализации регламентированных законодательными документами технологий цифровой экономики правомерно выдвинуть гипотезу о том, что технология распределенного реестра (блокчейна), по сути, является дополненной (объективно-виртуальной) реальностью. Это ее свойство демонстрируется примерами построения за рубежом на ее основе ряда новейших финансовых и управленческих технологий. Данные факты подтверждают выводы ряда ведущих зарубежных и российских ученых-экономистов и практиков о том, что традиционная экономика трансформации в цифровую экономику приведет к совершенствованию интерфейса «человек–компьютер». В рамках актуальности проведения научных исследований технологии блокчейна предложены основные теоретические направления развития сопряженных с ней технологий цифровой экономики, включающие вопросы коммуникации, обеспечения достоверности информации, надежности транзакций, непрерывности бизнес-процессов и разработки новых подходов к методам учета и капитализации информационного контента блокчейна. Анализ практики применения технологии блокчейна показал, что на ее основе происходит трансформация экономических и финансовых моделей хозяйствования во многих странах мира. Это позволяет утверждать, что появился новый рычаг воздействия на развитие экономики реального сектора и формирования за счет него новых платформ цифрового управления многими сферами жизнедеятельности современного социума. Представлены примеры применения блокчейна в различных сферах экономики (кредитование, денежное обращение, краудфандинг, краудинвестинг, стимулирование и финансирование инновационных проектов, калькуляция производственных затрат, управление бизнес-процессами). Примеры подтверждают актуальность и плодотворность дальнейшего изучения выдвинутой гипотезы о наличии у блокчейна свойства «дополненной реальности» в интересах развития как собственно технологий цифровой экономики, так и совершенствования на их основе технологий финансовой и прочей экономической деятельности.» Бауэр В.П., Побываев С.А., Сильвестров С.Н. Блокчейн как дополненная реальность: от гипотезы к основам теории и практики.'"
            ]
          },
          "metadata": {
            "tags": []
          },
          "execution_count": 30
        }
      ]
    },
    {
      "cell_type": "code",
      "metadata": {
        "id": "irSp-ZOSWEGZ",
        "colab_type": "code",
        "colab": {}
      },
      "source": [
        "tokens = nltk.word_tokenize(text)\n",
        "my_bigrams = nltk.bigrams(tokens)\n",
        "my_trigrams = nltk.trigrams(tokens)"
      ],
      "execution_count": 31,
      "outputs": []
    },
    {
      "cell_type": "code",
      "metadata": {
        "id": "s5ffadGKWZ5n",
        "colab_type": "code",
        "colab": {
          "base_uri": "https://localhost:8080/",
          "height": 1000
        },
        "outputId": "9cb28380-5417-4599-962c-ae8dfd89d3bd"
      },
      "source": [
        "bigrams = list(my_bigrams)\n",
        "bigrams"
      ],
      "execution_count": 32,
      "outputs": [
        {
          "output_type": "execute_result",
          "data": {
            "text/plain": [
              "[('Рассмотрены', 'основные'),\n",
              " ('основные', 'характеристики'),\n",
              " ('характеристики', 'объективной'),\n",
              " ('объективной', ','),\n",
              " (',', 'виртуальной'),\n",
              " ('виртуальной', 'и'),\n",
              " ('и', 'дополненной'),\n",
              " ('дополненной', 'реальности'),\n",
              " ('реальности', 'хорошо'),\n",
              " ('хорошо', 'изученных'),\n",
              " ('изученных', 'и'),\n",
              " ('и', 'использованных'),\n",
              " ('использованных', 'в'),\n",
              " ('в', 'различных'),\n",
              " ('различных', 'сферах'),\n",
              " ('сферах', 'применения'),\n",
              " ('применения', 'компьютерных'),\n",
              " ('компьютерных', 'и'),\n",
              " ('и', 'производственных'),\n",
              " ('производственных', 'технологий'),\n",
              " ('технологий', '.'),\n",
              " ('.', 'Показано'),\n",
              " ('Показано', ','),\n",
              " (',', 'что'),\n",
              " ('что', 'в'),\n",
              " ('в', 'целях'),\n",
              " ('целях', 'эффективной'),\n",
              " ('эффективной', 'реализации'),\n",
              " ('реализации', 'регламентированных'),\n",
              " ('регламентированных', 'законодательными'),\n",
              " ('законодательными', 'документами'),\n",
              " ('документами', 'технологий'),\n",
              " ('технологий', 'цифровой'),\n",
              " ('цифровой', 'экономики'),\n",
              " ('экономики', 'правомерно'),\n",
              " ('правомерно', 'выдвинуть'),\n",
              " ('выдвинуть', 'гипотезу'),\n",
              " ('гипотезу', 'о'),\n",
              " ('о', 'том'),\n",
              " ('том', ','),\n",
              " (',', 'что'),\n",
              " ('что', 'технология'),\n",
              " ('технология', 'распределенного'),\n",
              " ('распределенного', 'реестра'),\n",
              " ('реестра', '('),\n",
              " ('(', 'блокчейна'),\n",
              " ('блокчейна', ')'),\n",
              " (')', ','),\n",
              " (',', 'по'),\n",
              " ('по', 'сути'),\n",
              " ('сути', ','),\n",
              " (',', 'является'),\n",
              " ('является', 'дополненной'),\n",
              " ('дополненной', '('),\n",
              " ('(', 'объективно-виртуальной'),\n",
              " ('объективно-виртуальной', ')'),\n",
              " (')', 'реальностью'),\n",
              " ('реальностью', '.'),\n",
              " ('.', 'Это'),\n",
              " ('Это', 'ее'),\n",
              " ('ее', 'свойство'),\n",
              " ('свойство', 'демонстрируется'),\n",
              " ('демонстрируется', 'примерами'),\n",
              " ('примерами', 'построения'),\n",
              " ('построения', 'за'),\n",
              " ('за', 'рубежом'),\n",
              " ('рубежом', 'на'),\n",
              " ('на', 'ее'),\n",
              " ('ее', 'основе'),\n",
              " ('основе', 'ряда'),\n",
              " ('ряда', 'новейших'),\n",
              " ('новейших', 'финансовых'),\n",
              " ('финансовых', 'и'),\n",
              " ('и', 'управленческих'),\n",
              " ('управленческих', 'технологий'),\n",
              " ('технологий', '.'),\n",
              " ('.', 'Данные'),\n",
              " ('Данные', 'факты'),\n",
              " ('факты', 'подтверждают'),\n",
              " ('подтверждают', 'выводы'),\n",
              " ('выводы', 'ряда'),\n",
              " ('ряда', 'ведущих'),\n",
              " ('ведущих', 'зарубежных'),\n",
              " ('зарубежных', 'и'),\n",
              " ('и', 'российских'),\n",
              " ('российских', 'ученых-экономистов'),\n",
              " ('ученых-экономистов', 'и'),\n",
              " ('и', 'практиков'),\n",
              " ('практиков', 'о'),\n",
              " ('о', 'том'),\n",
              " ('том', ','),\n",
              " (',', 'что'),\n",
              " ('что', 'традиционная'),\n",
              " ('традиционная', 'экономика'),\n",
              " ('экономика', 'трансформации'),\n",
              " ('трансформации', 'в'),\n",
              " ('в', 'цифровую'),\n",
              " ('цифровую', 'экономику'),\n",
              " ('экономику', 'приведет'),\n",
              " ('приведет', 'к'),\n",
              " ('к', 'совершенствованию'),\n",
              " ('совершенствованию', 'интерфейса'),\n",
              " ('интерфейса', '«'),\n",
              " ('«', 'человек–компьютер'),\n",
              " ('человек–компьютер', '»'),\n",
              " ('»', '.'),\n",
              " ('.', 'В'),\n",
              " ('В', 'рамках'),\n",
              " ('рамках', 'актуальности'),\n",
              " ('актуальности', 'проведения'),\n",
              " ('проведения', 'научных'),\n",
              " ('научных', 'исследований'),\n",
              " ('исследований', 'технологии'),\n",
              " ('технологии', 'блокчейна'),\n",
              " ('блокчейна', 'предложены'),\n",
              " ('предложены', 'основные'),\n",
              " ('основные', 'теоретические'),\n",
              " ('теоретические', 'направления'),\n",
              " ('направления', 'развития'),\n",
              " ('развития', 'сопряженных'),\n",
              " ('сопряженных', 'с'),\n",
              " ('с', 'ней'),\n",
              " ('ней', 'технологий'),\n",
              " ('технологий', 'цифровой'),\n",
              " ('цифровой', 'экономики'),\n",
              " ('экономики', ','),\n",
              " (',', 'включающие'),\n",
              " ('включающие', 'вопросы'),\n",
              " ('вопросы', 'коммуникации'),\n",
              " ('коммуникации', ','),\n",
              " (',', 'обеспечения'),\n",
              " ('обеспечения', 'достоверности'),\n",
              " ('достоверности', 'информации'),\n",
              " ('информации', ','),\n",
              " (',', 'надежности'),\n",
              " ('надежности', 'транзакций'),\n",
              " ('транзакций', ','),\n",
              " (',', 'непрерывности'),\n",
              " ('непрерывности', 'бизнес-процессов'),\n",
              " ('бизнес-процессов', 'и'),\n",
              " ('и', 'разработки'),\n",
              " ('разработки', 'новых'),\n",
              " ('новых', 'подходов'),\n",
              " ('подходов', 'к'),\n",
              " ('к', 'методам'),\n",
              " ('методам', 'учета'),\n",
              " ('учета', 'и'),\n",
              " ('и', 'капитализации'),\n",
              " ('капитализации', 'информационного'),\n",
              " ('информационного', 'контента'),\n",
              " ('контента', 'блокчейна'),\n",
              " ('блокчейна', '.'),\n",
              " ('.', 'Анализ'),\n",
              " ('Анализ', 'практики'),\n",
              " ('практики', 'применения'),\n",
              " ('применения', 'технологии'),\n",
              " ('технологии', 'блокчейна'),\n",
              " ('блокчейна', 'показал'),\n",
              " ('показал', ','),\n",
              " (',', 'что'),\n",
              " ('что', 'на'),\n",
              " ('на', 'ее'),\n",
              " ('ее', 'основе'),\n",
              " ('основе', 'происходит'),\n",
              " ('происходит', 'трансформация'),\n",
              " ('трансформация', 'экономических'),\n",
              " ('экономических', 'и'),\n",
              " ('и', 'финансовых'),\n",
              " ('финансовых', 'моделей'),\n",
              " ('моделей', 'хозяйствования'),\n",
              " ('хозяйствования', 'во'),\n",
              " ('во', 'многих'),\n",
              " ('многих', 'странах'),\n",
              " ('странах', 'мира'),\n",
              " ('мира', '.'),\n",
              " ('.', 'Это'),\n",
              " ('Это', 'позволяет'),\n",
              " ('позволяет', 'утверждать'),\n",
              " ('утверждать', ','),\n",
              " (',', 'что'),\n",
              " ('что', 'появился'),\n",
              " ('появился', 'новый'),\n",
              " ('новый', 'рычаг'),\n",
              " ('рычаг', 'воздействия'),\n",
              " ('воздействия', 'на'),\n",
              " ('на', 'развитие'),\n",
              " ('развитие', 'экономики'),\n",
              " ('экономики', 'реального'),\n",
              " ('реального', 'сектора'),\n",
              " ('сектора', 'и'),\n",
              " ('и', 'формирования'),\n",
              " ('формирования', 'за'),\n",
              " ('за', 'счет'),\n",
              " ('счет', 'него'),\n",
              " ('него', 'новых'),\n",
              " ('новых', 'платформ'),\n",
              " ('платформ', 'цифрового'),\n",
              " ('цифрового', 'управления'),\n",
              " ('управления', 'многими'),\n",
              " ('многими', 'сферами'),\n",
              " ('сферами', 'жизнедеятельности'),\n",
              " ('жизнедеятельности', 'современного'),\n",
              " ('современного', 'социума'),\n",
              " ('социума', '.'),\n",
              " ('.', 'Представлены'),\n",
              " ('Представлены', 'примеры'),\n",
              " ('примеры', 'применения'),\n",
              " ('применения', 'блокчейна'),\n",
              " ('блокчейна', 'в'),\n",
              " ('в', 'различных'),\n",
              " ('различных', 'сферах'),\n",
              " ('сферах', 'экономики'),\n",
              " ('экономики', '('),\n",
              " ('(', 'кредитование'),\n",
              " ('кредитование', ','),\n",
              " (',', 'денежное'),\n",
              " ('денежное', 'обращение'),\n",
              " ('обращение', ','),\n",
              " (',', 'краудфандинг'),\n",
              " ('краудфандинг', ','),\n",
              " (',', 'краудинвестинг'),\n",
              " ('краудинвестинг', ','),\n",
              " (',', 'стимулирование'),\n",
              " ('стимулирование', 'и'),\n",
              " ('и', 'финансирование'),\n",
              " ('финансирование', 'инновационных'),\n",
              " ('инновационных', 'проектов'),\n",
              " ('проектов', ','),\n",
              " (',', 'калькуляция'),\n",
              " ('калькуляция', 'производственных'),\n",
              " ('производственных', 'затрат'),\n",
              " ('затрат', ','),\n",
              " (',', 'управление'),\n",
              " ('управление', 'бизнес-процессами'),\n",
              " ('бизнес-процессами', ')'),\n",
              " (')', '.'),\n",
              " ('.', 'Примеры'),\n",
              " ('Примеры', 'подтверждают'),\n",
              " ('подтверждают', 'актуальность'),\n",
              " ('актуальность', 'и'),\n",
              " ('и', 'плодотворность'),\n",
              " ('плодотворность', 'дальнейшего'),\n",
              " ('дальнейшего', 'изучения'),\n",
              " ('изучения', 'выдвинутой'),\n",
              " ('выдвинутой', 'гипотезы'),\n",
              " ('гипотезы', 'о'),\n",
              " ('о', 'наличии'),\n",
              " ('наличии', 'у'),\n",
              " ('у', 'блокчейна'),\n",
              " ('блокчейна', 'свойства'),\n",
              " ('свойства', '«'),\n",
              " ('«', 'дополненной'),\n",
              " ('дополненной', 'реальности'),\n",
              " ('реальности', '»'),\n",
              " ('»', 'в'),\n",
              " ('в', 'интересах'),\n",
              " ('интересах', 'развития'),\n",
              " ('развития', 'как'),\n",
              " ('как', 'собственно'),\n",
              " ('собственно', 'технологий'),\n",
              " ('технологий', 'цифровой'),\n",
              " ('цифровой', 'экономики'),\n",
              " ('экономики', ','),\n",
              " (',', 'так'),\n",
              " ('так', 'и'),\n",
              " ('и', 'совершенствования'),\n",
              " ('совершенствования', 'на'),\n",
              " ('на', 'их'),\n",
              " ('их', 'основе'),\n",
              " ('основе', 'технологий'),\n",
              " ('технологий', 'финансовой'),\n",
              " ('финансовой', 'и'),\n",
              " ('и', 'прочей'),\n",
              " ('прочей', 'экономической'),\n",
              " ('экономической', 'деятельности.'),\n",
              " ('деятельности.', '»'),\n",
              " ('»', 'Бауэр'),\n",
              " ('Бауэр', 'В.П.'),\n",
              " ('В.П.', ','),\n",
              " (',', 'Побываев'),\n",
              " ('Побываев', 'С.А.'),\n",
              " ('С.А.', ','),\n",
              " (',', 'Сильвестров'),\n",
              " ('Сильвестров', 'С.Н'),\n",
              " ('С.Н', '.'),\n",
              " ('.', 'Блокчейн'),\n",
              " ('Блокчейн', 'как'),\n",
              " ('как', 'дополненная'),\n",
              " ('дополненная', 'реальность'),\n",
              " ('реальность', ':'),\n",
              " (':', 'от'),\n",
              " ('от', 'гипотезы'),\n",
              " ('гипотезы', 'к'),\n",
              " ('к', 'основам'),\n",
              " ('основам', 'теории'),\n",
              " ('теории', 'и'),\n",
              " ('и', 'практики'),\n",
              " ('практики', '.')]"
            ]
          },
          "metadata": {
            "tags": []
          },
          "execution_count": 32
        }
      ]
    },
    {
      "cell_type": "code",
      "metadata": {
        "id": "zFEj2gzlWp--",
        "colab_type": "code",
        "colab": {
          "base_uri": "https://localhost:8080/",
          "height": 1000
        },
        "outputId": "f4176121-cd2c-4f4f-df3c-5a3f106c3ba4"
      },
      "source": [
        "trigrams = list(my_trigrams)\n",
        "trigrams"
      ],
      "execution_count": 33,
      "outputs": [
        {
          "output_type": "execute_result",
          "data": {
            "text/plain": [
              "[('Рассмотрены', 'основные', 'характеристики'),\n",
              " ('основные', 'характеристики', 'объективной'),\n",
              " ('характеристики', 'объективной', ','),\n",
              " ('объективной', ',', 'виртуальной'),\n",
              " (',', 'виртуальной', 'и'),\n",
              " ('виртуальной', 'и', 'дополненной'),\n",
              " ('и', 'дополненной', 'реальности'),\n",
              " ('дополненной', 'реальности', 'хорошо'),\n",
              " ('реальности', 'хорошо', 'изученных'),\n",
              " ('хорошо', 'изученных', 'и'),\n",
              " ('изученных', 'и', 'использованных'),\n",
              " ('и', 'использованных', 'в'),\n",
              " ('использованных', 'в', 'различных'),\n",
              " ('в', 'различных', 'сферах'),\n",
              " ('различных', 'сферах', 'применения'),\n",
              " ('сферах', 'применения', 'компьютерных'),\n",
              " ('применения', 'компьютерных', 'и'),\n",
              " ('компьютерных', 'и', 'производственных'),\n",
              " ('и', 'производственных', 'технологий'),\n",
              " ('производственных', 'технологий', '.'),\n",
              " ('технологий', '.', 'Показано'),\n",
              " ('.', 'Показано', ','),\n",
              " ('Показано', ',', 'что'),\n",
              " (',', 'что', 'в'),\n",
              " ('что', 'в', 'целях'),\n",
              " ('в', 'целях', 'эффективной'),\n",
              " ('целях', 'эффективной', 'реализации'),\n",
              " ('эффективной', 'реализации', 'регламентированных'),\n",
              " ('реализации', 'регламентированных', 'законодательными'),\n",
              " ('регламентированных', 'законодательными', 'документами'),\n",
              " ('законодательными', 'документами', 'технологий'),\n",
              " ('документами', 'технологий', 'цифровой'),\n",
              " ('технологий', 'цифровой', 'экономики'),\n",
              " ('цифровой', 'экономики', 'правомерно'),\n",
              " ('экономики', 'правомерно', 'выдвинуть'),\n",
              " ('правомерно', 'выдвинуть', 'гипотезу'),\n",
              " ('выдвинуть', 'гипотезу', 'о'),\n",
              " ('гипотезу', 'о', 'том'),\n",
              " ('о', 'том', ','),\n",
              " ('том', ',', 'что'),\n",
              " (',', 'что', 'технология'),\n",
              " ('что', 'технология', 'распределенного'),\n",
              " ('технология', 'распределенного', 'реестра'),\n",
              " ('распределенного', 'реестра', '('),\n",
              " ('реестра', '(', 'блокчейна'),\n",
              " ('(', 'блокчейна', ')'),\n",
              " ('блокчейна', ')', ','),\n",
              " (')', ',', 'по'),\n",
              " (',', 'по', 'сути'),\n",
              " ('по', 'сути', ','),\n",
              " ('сути', ',', 'является'),\n",
              " (',', 'является', 'дополненной'),\n",
              " ('является', 'дополненной', '('),\n",
              " ('дополненной', '(', 'объективно-виртуальной'),\n",
              " ('(', 'объективно-виртуальной', ')'),\n",
              " ('объективно-виртуальной', ')', 'реальностью'),\n",
              " (')', 'реальностью', '.'),\n",
              " ('реальностью', '.', 'Это'),\n",
              " ('.', 'Это', 'ее'),\n",
              " ('Это', 'ее', 'свойство'),\n",
              " ('ее', 'свойство', 'демонстрируется'),\n",
              " ('свойство', 'демонстрируется', 'примерами'),\n",
              " ('демонстрируется', 'примерами', 'построения'),\n",
              " ('примерами', 'построения', 'за'),\n",
              " ('построения', 'за', 'рубежом'),\n",
              " ('за', 'рубежом', 'на'),\n",
              " ('рубежом', 'на', 'ее'),\n",
              " ('на', 'ее', 'основе'),\n",
              " ('ее', 'основе', 'ряда'),\n",
              " ('основе', 'ряда', 'новейших'),\n",
              " ('ряда', 'новейших', 'финансовых'),\n",
              " ('новейших', 'финансовых', 'и'),\n",
              " ('финансовых', 'и', 'управленческих'),\n",
              " ('и', 'управленческих', 'технологий'),\n",
              " ('управленческих', 'технологий', '.'),\n",
              " ('технологий', '.', 'Данные'),\n",
              " ('.', 'Данные', 'факты'),\n",
              " ('Данные', 'факты', 'подтверждают'),\n",
              " ('факты', 'подтверждают', 'выводы'),\n",
              " ('подтверждают', 'выводы', 'ряда'),\n",
              " ('выводы', 'ряда', 'ведущих'),\n",
              " ('ряда', 'ведущих', 'зарубежных'),\n",
              " ('ведущих', 'зарубежных', 'и'),\n",
              " ('зарубежных', 'и', 'российских'),\n",
              " ('и', 'российских', 'ученых-экономистов'),\n",
              " ('российских', 'ученых-экономистов', 'и'),\n",
              " ('ученых-экономистов', 'и', 'практиков'),\n",
              " ('и', 'практиков', 'о'),\n",
              " ('практиков', 'о', 'том'),\n",
              " ('о', 'том', ','),\n",
              " ('том', ',', 'что'),\n",
              " (',', 'что', 'традиционная'),\n",
              " ('что', 'традиционная', 'экономика'),\n",
              " ('традиционная', 'экономика', 'трансформации'),\n",
              " ('экономика', 'трансформации', 'в'),\n",
              " ('трансформации', 'в', 'цифровую'),\n",
              " ('в', 'цифровую', 'экономику'),\n",
              " ('цифровую', 'экономику', 'приведет'),\n",
              " ('экономику', 'приведет', 'к'),\n",
              " ('приведет', 'к', 'совершенствованию'),\n",
              " ('к', 'совершенствованию', 'интерфейса'),\n",
              " ('совершенствованию', 'интерфейса', '«'),\n",
              " ('интерфейса', '«', 'человек–компьютер'),\n",
              " ('«', 'человек–компьютер', '»'),\n",
              " ('человек–компьютер', '»', '.'),\n",
              " ('»', '.', 'В'),\n",
              " ('.', 'В', 'рамках'),\n",
              " ('В', 'рамках', 'актуальности'),\n",
              " ('рамках', 'актуальности', 'проведения'),\n",
              " ('актуальности', 'проведения', 'научных'),\n",
              " ('проведения', 'научных', 'исследований'),\n",
              " ('научных', 'исследований', 'технологии'),\n",
              " ('исследований', 'технологии', 'блокчейна'),\n",
              " ('технологии', 'блокчейна', 'предложены'),\n",
              " ('блокчейна', 'предложены', 'основные'),\n",
              " ('предложены', 'основные', 'теоретические'),\n",
              " ('основные', 'теоретические', 'направления'),\n",
              " ('теоретические', 'направления', 'развития'),\n",
              " ('направления', 'развития', 'сопряженных'),\n",
              " ('развития', 'сопряженных', 'с'),\n",
              " ('сопряженных', 'с', 'ней'),\n",
              " ('с', 'ней', 'технологий'),\n",
              " ('ней', 'технологий', 'цифровой'),\n",
              " ('технологий', 'цифровой', 'экономики'),\n",
              " ('цифровой', 'экономики', ','),\n",
              " ('экономики', ',', 'включающие'),\n",
              " (',', 'включающие', 'вопросы'),\n",
              " ('включающие', 'вопросы', 'коммуникации'),\n",
              " ('вопросы', 'коммуникации', ','),\n",
              " ('коммуникации', ',', 'обеспечения'),\n",
              " (',', 'обеспечения', 'достоверности'),\n",
              " ('обеспечения', 'достоверности', 'информации'),\n",
              " ('достоверности', 'информации', ','),\n",
              " ('информации', ',', 'надежности'),\n",
              " (',', 'надежности', 'транзакций'),\n",
              " ('надежности', 'транзакций', ','),\n",
              " ('транзакций', ',', 'непрерывности'),\n",
              " (',', 'непрерывности', 'бизнес-процессов'),\n",
              " ('непрерывности', 'бизнес-процессов', 'и'),\n",
              " ('бизнес-процессов', 'и', 'разработки'),\n",
              " ('и', 'разработки', 'новых'),\n",
              " ('разработки', 'новых', 'подходов'),\n",
              " ('новых', 'подходов', 'к'),\n",
              " ('подходов', 'к', 'методам'),\n",
              " ('к', 'методам', 'учета'),\n",
              " ('методам', 'учета', 'и'),\n",
              " ('учета', 'и', 'капитализации'),\n",
              " ('и', 'капитализации', 'информационного'),\n",
              " ('капитализации', 'информационного', 'контента'),\n",
              " ('информационного', 'контента', 'блокчейна'),\n",
              " ('контента', 'блокчейна', '.'),\n",
              " ('блокчейна', '.', 'Анализ'),\n",
              " ('.', 'Анализ', 'практики'),\n",
              " ('Анализ', 'практики', 'применения'),\n",
              " ('практики', 'применения', 'технологии'),\n",
              " ('применения', 'технологии', 'блокчейна'),\n",
              " ('технологии', 'блокчейна', 'показал'),\n",
              " ('блокчейна', 'показал', ','),\n",
              " ('показал', ',', 'что'),\n",
              " (',', 'что', 'на'),\n",
              " ('что', 'на', 'ее'),\n",
              " ('на', 'ее', 'основе'),\n",
              " ('ее', 'основе', 'происходит'),\n",
              " ('основе', 'происходит', 'трансформация'),\n",
              " ('происходит', 'трансформация', 'экономических'),\n",
              " ('трансформация', 'экономических', 'и'),\n",
              " ('экономических', 'и', 'финансовых'),\n",
              " ('и', 'финансовых', 'моделей'),\n",
              " ('финансовых', 'моделей', 'хозяйствования'),\n",
              " ('моделей', 'хозяйствования', 'во'),\n",
              " ('хозяйствования', 'во', 'многих'),\n",
              " ('во', 'многих', 'странах'),\n",
              " ('многих', 'странах', 'мира'),\n",
              " ('странах', 'мира', '.'),\n",
              " ('мира', '.', 'Это'),\n",
              " ('.', 'Это', 'позволяет'),\n",
              " ('Это', 'позволяет', 'утверждать'),\n",
              " ('позволяет', 'утверждать', ','),\n",
              " ('утверждать', ',', 'что'),\n",
              " (',', 'что', 'появился'),\n",
              " ('что', 'появился', 'новый'),\n",
              " ('появился', 'новый', 'рычаг'),\n",
              " ('новый', 'рычаг', 'воздействия'),\n",
              " ('рычаг', 'воздействия', 'на'),\n",
              " ('воздействия', 'на', 'развитие'),\n",
              " ('на', 'развитие', 'экономики'),\n",
              " ('развитие', 'экономики', 'реального'),\n",
              " ('экономики', 'реального', 'сектора'),\n",
              " ('реального', 'сектора', 'и'),\n",
              " ('сектора', 'и', 'формирования'),\n",
              " ('и', 'формирования', 'за'),\n",
              " ('формирования', 'за', 'счет'),\n",
              " ('за', 'счет', 'него'),\n",
              " ('счет', 'него', 'новых'),\n",
              " ('него', 'новых', 'платформ'),\n",
              " ('новых', 'платформ', 'цифрового'),\n",
              " ('платформ', 'цифрового', 'управления'),\n",
              " ('цифрового', 'управления', 'многими'),\n",
              " ('управления', 'многими', 'сферами'),\n",
              " ('многими', 'сферами', 'жизнедеятельности'),\n",
              " ('сферами', 'жизнедеятельности', 'современного'),\n",
              " ('жизнедеятельности', 'современного', 'социума'),\n",
              " ('современного', 'социума', '.'),\n",
              " ('социума', '.', 'Представлены'),\n",
              " ('.', 'Представлены', 'примеры'),\n",
              " ('Представлены', 'примеры', 'применения'),\n",
              " ('примеры', 'применения', 'блокчейна'),\n",
              " ('применения', 'блокчейна', 'в'),\n",
              " ('блокчейна', 'в', 'различных'),\n",
              " ('в', 'различных', 'сферах'),\n",
              " ('различных', 'сферах', 'экономики'),\n",
              " ('сферах', 'экономики', '('),\n",
              " ('экономики', '(', 'кредитование'),\n",
              " ('(', 'кредитование', ','),\n",
              " ('кредитование', ',', 'денежное'),\n",
              " (',', 'денежное', 'обращение'),\n",
              " ('денежное', 'обращение', ','),\n",
              " ('обращение', ',', 'краудфандинг'),\n",
              " (',', 'краудфандинг', ','),\n",
              " ('краудфандинг', ',', 'краудинвестинг'),\n",
              " (',', 'краудинвестинг', ','),\n",
              " ('краудинвестинг', ',', 'стимулирование'),\n",
              " (',', 'стимулирование', 'и'),\n",
              " ('стимулирование', 'и', 'финансирование'),\n",
              " ('и', 'финансирование', 'инновационных'),\n",
              " ('финансирование', 'инновационных', 'проектов'),\n",
              " ('инновационных', 'проектов', ','),\n",
              " ('проектов', ',', 'калькуляция'),\n",
              " (',', 'калькуляция', 'производственных'),\n",
              " ('калькуляция', 'производственных', 'затрат'),\n",
              " ('производственных', 'затрат', ','),\n",
              " ('затрат', ',', 'управление'),\n",
              " (',', 'управление', 'бизнес-процессами'),\n",
              " ('управление', 'бизнес-процессами', ')'),\n",
              " ('бизнес-процессами', ')', '.'),\n",
              " (')', '.', 'Примеры'),\n",
              " ('.', 'Примеры', 'подтверждают'),\n",
              " ('Примеры', 'подтверждают', 'актуальность'),\n",
              " ('подтверждают', 'актуальность', 'и'),\n",
              " ('актуальность', 'и', 'плодотворность'),\n",
              " ('и', 'плодотворность', 'дальнейшего'),\n",
              " ('плодотворность', 'дальнейшего', 'изучения'),\n",
              " ('дальнейшего', 'изучения', 'выдвинутой'),\n",
              " ('изучения', 'выдвинутой', 'гипотезы'),\n",
              " ('выдвинутой', 'гипотезы', 'о'),\n",
              " ('гипотезы', 'о', 'наличии'),\n",
              " ('о', 'наличии', 'у'),\n",
              " ('наличии', 'у', 'блокчейна'),\n",
              " ('у', 'блокчейна', 'свойства'),\n",
              " ('блокчейна', 'свойства', '«'),\n",
              " ('свойства', '«', 'дополненной'),\n",
              " ('«', 'дополненной', 'реальности'),\n",
              " ('дополненной', 'реальности', '»'),\n",
              " ('реальности', '»', 'в'),\n",
              " ('»', 'в', 'интересах'),\n",
              " ('в', 'интересах', 'развития'),\n",
              " ('интересах', 'развития', 'как'),\n",
              " ('развития', 'как', 'собственно'),\n",
              " ('как', 'собственно', 'технологий'),\n",
              " ('собственно', 'технологий', 'цифровой'),\n",
              " ('технологий', 'цифровой', 'экономики'),\n",
              " ('цифровой', 'экономики', ','),\n",
              " ('экономики', ',', 'так'),\n",
              " (',', 'так', 'и'),\n",
              " ('так', 'и', 'совершенствования'),\n",
              " ('и', 'совершенствования', 'на'),\n",
              " ('совершенствования', 'на', 'их'),\n",
              " ('на', 'их', 'основе'),\n",
              " ('их', 'основе', 'технологий'),\n",
              " ('основе', 'технологий', 'финансовой'),\n",
              " ('технологий', 'финансовой', 'и'),\n",
              " ('финансовой', 'и', 'прочей'),\n",
              " ('и', 'прочей', 'экономической'),\n",
              " ('прочей', 'экономической', 'деятельности.'),\n",
              " ('экономической', 'деятельности.', '»'),\n",
              " ('деятельности.', '»', 'Бауэр'),\n",
              " ('»', 'Бауэр', 'В.П.'),\n",
              " ('Бауэр', 'В.П.', ','),\n",
              " ('В.П.', ',', 'Побываев'),\n",
              " (',', 'Побываев', 'С.А.'),\n",
              " ('Побываев', 'С.А.', ','),\n",
              " ('С.А.', ',', 'Сильвестров'),\n",
              " (',', 'Сильвестров', 'С.Н'),\n",
              " ('Сильвестров', 'С.Н', '.'),\n",
              " ('С.Н', '.', 'Блокчейн'),\n",
              " ('.', 'Блокчейн', 'как'),\n",
              " ('Блокчейн', 'как', 'дополненная'),\n",
              " ('как', 'дополненная', 'реальность'),\n",
              " ('дополненная', 'реальность', ':'),\n",
              " ('реальность', ':', 'от'),\n",
              " (':', 'от', 'гипотезы'),\n",
              " ('от', 'гипотезы', 'к'),\n",
              " ('гипотезы', 'к', 'основам'),\n",
              " ('к', 'основам', 'теории'),\n",
              " ('основам', 'теории', 'и'),\n",
              " ('теории', 'и', 'практики'),\n",
              " ('и', 'практики', '.')]"
            ]
          },
          "metadata": {
            "tags": []
          },
          "execution_count": 33
        }
      ]
    },
    {
      "cell_type": "markdown",
      "metadata": {
        "id": "98LcI-dbXHVk",
        "colab_type": "text"
      },
      "source": [
        "### Определение тональности текста\n",
        "\n",
        "##### Вариант 1, 2, 3, свои собственные варианты"
      ]
    },
    {
      "cell_type": "markdown",
      "metadata": {
        "id": "mNXIQIhUcSqf",
        "colab_type": "text"
      },
      "source": [
        "Нашел библиотеку с уже претренированную модель, поэтому решил обучить прямо здесь. Принцип прост. Загружается модель, и ей подается на вход текст, а сама модель выдает предсказание. Для демонстрации добавили свои варианты"
      ]
    },
    {
      "cell_type": "code",
      "metadata": {
        "id": "IunbKq6MZ0en",
        "colab_type": "code",
        "colab": {}
      },
      "source": [
        "pip install dostoevsky"
      ],
      "execution_count": null,
      "outputs": []
    },
    {
      "cell_type": "code",
      "metadata": {
        "id": "if97GFAqbSoE",
        "colab_type": "code",
        "colab": {}
      },
      "source": [
        "!dostoevsky download fasttext-social-network-model"
      ],
      "execution_count": 45,
      "outputs": []
    },
    {
      "cell_type": "code",
      "metadata": {
        "id": "JV_-Kb1ibYEA",
        "colab_type": "code",
        "colab": {}
      },
      "source": [
        "text = 'Администрация Екатеринбурга опубликовала предложения горожан о возможных площадках для строительства храма Святой Екатерины, сообщается на официальном портале городской администрации. Среди самых популярных предложений: пустырь на перекрестке улиц Белинского и Фурманова, недострой гостиницы \"Дели\" на улице Куйбышева, площадка в сквере у Драмтеатра, заброшенная больница у КСК \"Уралец\" на улице 8 Марта, пустырь за Макаровским мостом, площадь Труда, Зеленая роща, площадь 1905 Года, бывший приборостроительный завод (Горького, 17), места катка и парковки за башней \"Исеть\", в акватории за Макаровским мостом, \"храм на воде\", бывшее расположение, на месте снесенной телебашни. Всего поступило 11 079 предложений. По результатам сбора заявок состоится экспертное обсуждение, а затем общегородское рейтинговое голосование, на котором жители выберут площадку для нового собора. В середине мая в центре Екатеринбурга прошли акции против строительства храма Святой Екатерины на месте сквера. В ходе акций задержали около ста человек. Когда ситуация вызвала общественный резонанс, Владимир Путин предложил узнать мнение граждан по поводу строительства. После этого городские власти сообщили, что проведут опрос.'\n",
        "text2 = 'Киев обманывал Москву и нарушал двусторонние договоренности, заявил бывший министр транспорта и связи Украины Евгений Червоненко в эфире телеканала NewsOne. Говоря о провокации в Киева в Керченском проливе, Червоненко отметил, что приказ морякам нарушить российскую границу был преступным. Сейчас же, добавил он, украинские власти ничего не делают для освобождения моряков и не пытаются вести диалог с Москвой. Однако, уверен бывший министр, Киеву следует напрямую предложить российской стороне \"перевернуть страницу\" в осложненных двусторонних отношениях. \"Во многом отношения между Россией и Украиной так сложились, потому что Украина, вернее, власти Украины, кидали и обманывали договоренности с Россией\", — сказал он. По мнению Червоненко, для разрешения внутриукраинского конфликта на юго-востоке Киеву необходимо вести диалог с Москвой, а не \"заходить в тупик\".'\n",
        "text3 = 'Солидные европейские страны поняли, что русофобская политика контрпродуктивна, они уже не хотят следовать капризам, проявляющимся в русофобском меньшинстве, это обозначилось, в том числе, в решении ПАСЕ по российским парламентариям, заявил глава МИД России Сергей Лавров. \"В ЕС русофобов меньшинство. Но именно они, спекулируя на принципе солидарности, консенсуса, до недавнего времени определяли политику Евросоюза и НАТО в отношении России. Сейчас уже солидным европейским странам стало понятно, что эта политика контрпродуктивна. Они уже не хотят следовать капризам, проявляющимся в русофобском меньшинстве. Это обозначилось в решениях, принятых недавно в комитете министров Совета Европы, а на днях — в рабочих органах Парламентской ассамблеи и направленных на то, чтобы прекратить дискриминацию российских парламентариев\", — сказал Лавров в интервью РБК.'\n",
        "text4 = 'ты какашка'\n",
        "text5 = 'я всем сердцем люблю тебя и преисполняюсь самыми теплыми чувствами, когда ты рядом со мной'\n",
        "text6 = 'эти придурки меня просто доколебали уже'"
      ],
      "execution_count": 71,
      "outputs": []
    },
    {
      "cell_type": "code",
      "metadata": {
        "id": "L9FCGSggdIrz",
        "colab_type": "code",
        "colab": {}
      },
      "source": [
        "text = text.lower()\n",
        "text2 = text2.lower()\n",
        "text3 = text3.lower()"
      ],
      "execution_count": 72,
      "outputs": []
    },
    {
      "cell_type": "code",
      "metadata": {
        "id": "BY0qUgD0ZtAr",
        "colab_type": "code",
        "colab": {
          "base_uri": "https://localhost:8080/",
          "height": 253
        },
        "outputId": "ada9a66b-e736-4f63-954b-9e05e0fafb27"
      },
      "source": [
        "from dostoevsky.tokenization import RegexTokenizer\n",
        "from dostoevsky.models import FastTextSocialNetworkModel\n",
        "\n",
        "tokenizer = RegexTokenizer()\n",
        "\n",
        "model = FastTextSocialNetworkModel(tokenizer=tokenizer)\n",
        "\n",
        "messages = [text, text2, text3, text4, text5, text6]\n",
        "\n",
        "results = model.predict(messages, k=1)\n",
        "\n",
        "for message, sentiment in zip(messages, results):\n",
        "  \n",
        "    print(sentiment, '->', message, '\\n')"
      ],
      "execution_count": 73,
      "outputs": [
        {
          "output_type": "stream",
          "text": [
            "{'neutral': 0.6926519870758057} -> администрация екатеринбурга опубликовала предложения горожан о возможных площадках для строительства храма святой екатерины, сообщается на официальном портале городской администрации. среди самых популярных предложений: пустырь на перекрестке улиц белинского и фурманова, недострой гостиницы \"дели\" на улице куйбышева, площадка в сквере у драмтеатра, заброшенная больница у кск \"уралец\" на улице 8 марта, пустырь за макаровским мостом, площадь труда, зеленая роща, площадь 1905 года, бывший приборостроительный завод (горького, 17), места катка и парковки за башней \"исеть\", в акватории за макаровским мостом, \"храм на воде\", бывшее расположение, на месте снесенной телебашни. всего поступило 11 079 предложений. по результатам сбора заявок состоится экспертное обсуждение, а затем общегородское рейтинговое голосование, на котором жители выберут площадку для нового собора. в середине мая в центре екатеринбурга прошли акции против строительства храма святой екатерины на месте сквера. в ходе акций задержали около ста человек. когда ситуация вызвала общественный резонанс, владимир путин предложил узнать мнение граждан по поводу строительства. после этого городские власти сообщили, что проведут опрос. \n",
            "\n",
            "{'neutral': 0.6297846436500549} -> киев обманывал москву и нарушал двусторонние договоренности, заявил бывший министр транспорта и связи украины евгений червоненко в эфире телеканала newsone. говоря о провокации в киева в керченском проливе, червоненко отметил, что приказ морякам нарушить российскую границу был преступным. сейчас же, добавил он, украинские власти ничего не делают для освобождения моряков и не пытаются вести диалог с москвой. однако, уверен бывший министр, киеву следует напрямую предложить российской стороне \"перевернуть страницу\" в осложненных двусторонних отношениях. \"во многом отношения между россией и украиной так сложились, потому что украина, вернее, власти украины, кидали и обманывали договоренности с россией\", — сказал он. по мнению червоненко, для разрешения внутриукраинского конфликта на юго-востоке киеву необходимо вести диалог с москвой, а не \"заходить в тупик\". \n",
            "\n",
            "{'neutral': 0.7122421860694885} -> солидные европейские страны поняли, что русофобская политика контрпродуктивна, они уже не хотят следовать капризам, проявляющимся в русофобском меньшинстве, это обозначилось, в том числе, в решении пасе по российским парламентариям, заявил глава мид россии сергей лавров. \"в ес русофобов меньшинство. но именно они, спекулируя на принципе солидарности, консенсуса, до недавнего времени определяли политику евросоюза и нато в отношении россии. сейчас уже солидным европейским странам стало понятно, что эта политика контрпродуктивна. они уже не хотят следовать капризам, проявляющимся в русофобском меньшинстве. это обозначилось в решениях, принятых недавно в комитете министров совета европы, а на днях — в рабочих органах парламентской ассамблеи и направленных на то, чтобы прекратить дискриминацию российских парламентариев\", — сказал лавров в интервью рбк. \n",
            "\n",
            "{'skip': 0.9496793746948242} -> ты какашка \n",
            "\n",
            "{'positive': 0.9466066956520081} -> я всем сердцем люблю тебя и преисполняюсь самыми теплыми чувствами, когда ты рядом со мной \n",
            "\n",
            "{'negative': 0.9875783920288086} -> эти придурки меня просто доколебали уже \n",
            "\n"
          ],
          "name": "stdout"
        },
        {
          "output_type": "stream",
          "text": [
            "\n"
          ],
          "name": "stderr"
        }
      ]
    }
  ]
}