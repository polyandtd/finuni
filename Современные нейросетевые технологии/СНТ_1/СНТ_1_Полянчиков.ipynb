{
  "nbformat": 4,
  "nbformat_minor": 0,
  "metadata": {
    "colab": {
      "name": "СНТ_1_Полянчиков.ipynb",
      "provenance": [],
      "collapsed_sections": [
        "bg252FUplgrp",
        "rGZdQczYl2b3",
        "2DCq3O8Vmzqa"
      ]
    },
    "kernelspec": {
      "name": "python3",
      "display_name": "Python 3"
    },
    "accelerator": "GPU"
  },
  "cells": [
    {
      "cell_type": "markdown",
      "metadata": {
        "id": "v-pS4hDOlaNK",
        "colab_type": "text"
      },
      "source": [
        "## Полянчиков Владислав АБД19-1м Лекция 1"
      ]
    },
    {
      "cell_type": "markdown",
      "metadata": {
        "id": "t62uDxR7lrYU",
        "colab_type": "text"
      },
      "source": [
        "(Также содержит задание из второй лекции по mnist (ниже)"
      ]
    },
    {
      "cell_type": "code",
      "metadata": {
        "id": "pc0IV--G32B2",
        "colab_type": "code",
        "colab": {
          "base_uri": "https://localhost:8080/",
          "height": 33
        },
        "outputId": "b1ca806c-65fc-46b0-abca-e024d11eb32b"
      },
      "source": [
        "import numpy as np\n",
        "from sklearn.model_selection import train_test_split\n",
        "\n",
        "from PIL import Image\n",
        "import matplotlib.pyplot as plt\n",
        "\n",
        "from tensorflow import keras\n",
        "import keras.layers as layers\n",
        "from keras.datasets import mnist\n",
        "from tensorflow.keras.models import Sequential\n",
        "from tensorflow.keras.layers import Dense, Flatten, Conv2D, Dropout, MaxPooling2D\n",
        "from keras.optimizers import SGD\n",
        "\n",
        "print(\"Setup Complete\")"
      ],
      "execution_count": null,
      "outputs": [
        {
          "output_type": "stream",
          "text": [
            "Setup Complete\n"
          ],
          "name": "stdout"
        }
      ]
    },
    {
      "cell_type": "markdown",
      "metadata": {
        "id": "bg252FUplgrp",
        "colab_type": "text"
      },
      "source": [
        "### Задание 1 (для MNIST)\n",
        "1. Добавить скрытые слои\n",
        "2. Добавить Dropout\n",
        "3. Сравнить точность вычислений обеих сеток"
      ]
    },
    {
      "cell_type": "code",
      "metadata": {
        "id": "UUcrfUHa38ZW",
        "colab_type": "code",
        "colab": {}
      },
      "source": [
        "(X_train, y_train), (X_test, y_test) = mnist.load_data()"
      ],
      "execution_count": null,
      "outputs": []
    },
    {
      "cell_type": "code",
      "metadata": {
        "id": "xMsaeVXY4p-p",
        "colab_type": "code",
        "colab": {
          "base_uri": "https://localhost:8080/",
          "height": 282
        },
        "outputId": "39daa164-4e94-411c-d758-3c0a9bbbb8f0"
      },
      "source": [
        "idx = 155\n",
        "print(y_train[idx])\n",
        "plt.imshow(X_train[idx]);"
      ],
      "execution_count": null,
      "outputs": [
        {
          "output_type": "stream",
          "text": [
            "6\n"
          ],
          "name": "stdout"
        },
        {
          "output_type": "display_data",
          "data": {
            "image/png": "[encoded data removed]",
            "text/plain": [
              "<Figure size 432x288 with 1 Axes>"
            ]
          },
          "metadata": {
            "tags": [],
            "needs_background": "light"
          }
        }
      ]
    },
    {
      "cell_type": "code",
      "metadata": {
        "id": "QWIr-9925adT",
        "colab_type": "code",
        "colab": {
          "base_uri": "https://localhost:8080/",
          "height": 33
        },
        "outputId": "74c359fd-181b-4ad7-9978-9a2c3e1a5b21"
      },
      "source": [
        "X_train.shape"
      ],
      "execution_count": null,
      "outputs": [
        {
          "output_type": "execute_result",
          "data": {
            "text/plain": [
              "(60000, 28, 28)"
            ]
          },
          "metadata": {
            "tags": []
          },
          "execution_count": 66
        }
      ]
    },
    {
      "cell_type": "code",
      "metadata": {
        "id": "nZR0RN2_56dZ",
        "colab_type": "code",
        "colab": {}
      },
      "source": [
        "np.random.seed(42)"
      ],
      "execution_count": null,
      "outputs": []
    },
    {
      "cell_type": "code",
      "metadata": {
        "id": "kcHUqZKg6har",
        "colab_type": "code",
        "colab": {}
      },
      "source": [
        "NB_EPOCH = 200 \n",
        "BATCH_SIZE = 128 \n",
        "VERBOSE = 1 \n",
        "NB_CLASSES = 10\n",
        "OPTIMIZER = SGD()\n",
        "N_HIDDEN = 128\n",
        "VALIDATION_SPLIT = 0.2 \n",
        "\n",
        "(X_train, y_train), (X_test, y_test) = mnist.load_data()\n",
        "X_test2 = X_test.copy()\n",
        "y_test2 = y_test.copy()\n",
        "RESHAPED = 784\n",
        "X_train = X_train.reshape(60000, RESHAPED)\n",
        "X_test = X_test.reshape(10000, RESHAPED)\n",
        "X_train = X_train.astype('float32')\n",
        "X_test = X_test.astype('float32')\n",
        "\n",
        "X_train /= 255\n",
        "X_test /= 255\n",
        "\n",
        "y_train = keras.utils.to_categorical(y_train, NB_CLASSES)\n",
        "y_test = keras.utils.to_categorical(y_test, NB_CLASSES)"
      ],
      "execution_count": null,
      "outputs": []
    },
    {
      "cell_type": "code",
      "metadata": {
        "id": "6L46gnnb7bgW",
        "colab_type": "code",
        "colab": {
          "base_uri": "https://localhost:8080/",
          "height": 50
        },
        "outputId": "3b30e637-e1aa-47cf-bbb0-80b119280837"
      },
      "source": [
        "print(X_train.shape[0], 'train_samples')\n",
        "print(X_test.shape[0], 'test_samples')"
      ],
      "execution_count": null,
      "outputs": [
        {
          "output_type": "stream",
          "text": [
            "60000 train_samples\n",
            "10000 test_samples\n"
          ],
          "name": "stdout"
        }
      ]
    },
    {
      "cell_type": "code",
      "metadata": {
        "id": "ylql0TNB_NG-",
        "colab_type": "code",
        "colab": {}
      },
      "source": [
        "model = Sequential()\n",
        "model.add(Dense(20, activation='relu', input_shape=(RESHAPED, )))\n",
        "\n",
        "model.add(Dense(320, activation='relu', input_shape=(20,)))\n",
        "model.add(Dropout(0.5))\n",
        "model.add(Dense(160, activation='relu', input_shape=(320,)))\n",
        "model.add(Dropout(0.5))\n",
        "model.add(Dense(40, activation='relu', input_shape=(160,)))\n",
        "model.add(Dropout(0.5))\n",
        "model.add(Dense(NB_CLASSES, activation='softmax', input_shape=(40,)))"
      ],
      "execution_count": null,
      "outputs": []
    },
    {
      "cell_type": "code",
      "metadata": {
        "id": "E8p-4pk978vB",
        "colab_type": "code",
        "colab": {
          "base_uri": "https://localhost:8080/",
          "height": 700
        },
        "outputId": "793a1d46-0398-40f0-90a4-67681315d9ee"
      },
      "source": [
        "model.compile(loss='categorical_crossentropy', optimizer='adam', metrics='accuracy')\n",
        "\n",
        "model.fit(X_train, y_train, batch_size=100, epochs=20, verbose = 1, validation_split=0.3)"
      ],
      "execution_count": null,
      "outputs": [
        {
          "output_type": "stream",
          "text": [
            "Epoch 1/20\n",
            "420/420 [==============================] - 2s 5ms/step - loss: 0.9045 - accuracy: 0.7047 - val_loss: 0.3005 - val_accuracy: 0.9151\n",
            "Epoch 2/20\n",
            "420/420 [==============================] - 2s 5ms/step - loss: 0.4082 - accuracy: 0.8973 - val_loss: 0.2490 - val_accuracy: 0.9316\n",
            "Epoch 3/20\n",
            "420/420 [==============================] - 2s 5ms/step - loss: 0.3260 - accuracy: 0.9205 - val_loss: 0.2091 - val_accuracy: 0.9418\n",
            "Epoch 4/20\n",
            "420/420 [==============================] - 2s 5ms/step - loss: 0.2895 - accuracy: 0.9276 - val_loss: 0.2107 - val_accuracy: 0.9436\n",
            "Epoch 5/20\n",
            "420/420 [==============================] - 2s 5ms/step - loss: 0.2599 - accuracy: 0.9355 - val_loss: 0.1946 - val_accuracy: 0.9484\n",
            "Epoch 6/20\n",
            "420/420 [==============================] - 2s 5ms/step - loss: 0.2313 - accuracy: 0.9433 - val_loss: 0.1921 - val_accuracy: 0.9522\n",
            "Epoch 7/20\n",
            "420/420 [==============================] - 2s 5ms/step - loss: 0.2172 - accuracy: 0.9466 - val_loss: 0.1786 - val_accuracy: 0.9531\n",
            "Epoch 8/20\n",
            "420/420 [==============================] - 2s 5ms/step - loss: 0.2075 - accuracy: 0.9502 - val_loss: 0.1860 - val_accuracy: 0.9531\n",
            "Epoch 9/20\n",
            "420/420 [==============================] - 2s 5ms/step - loss: 0.1916 - accuracy: 0.9511 - val_loss: 0.1966 - val_accuracy: 0.9521\n",
            "Epoch 10/20\n",
            "420/420 [==============================] - 2s 5ms/step - loss: 0.1823 - accuracy: 0.9547 - val_loss: 0.1834 - val_accuracy: 0.9540\n",
            "Epoch 11/20\n",
            "420/420 [==============================] - 2s 5ms/step - loss: 0.1729 - accuracy: 0.9570 - val_loss: 0.1811 - val_accuracy: 0.9571\n",
            "Epoch 12/20\n",
            "420/420 [==============================] - 2s 5ms/step - loss: 0.1695 - accuracy: 0.9574 - val_loss: 0.1898 - val_accuracy: 0.9561\n",
            "Epoch 13/20\n",
            "420/420 [==============================] - 2s 5ms/step - loss: 0.1598 - accuracy: 0.9595 - val_loss: 0.1888 - val_accuracy: 0.9557\n",
            "Epoch 14/20\n",
            "420/420 [==============================] - 2s 5ms/step - loss: 0.1582 - accuracy: 0.9605 - val_loss: 0.1805 - val_accuracy: 0.9582\n",
            "Epoch 15/20\n",
            "420/420 [==============================] - 2s 5ms/step - loss: 0.1506 - accuracy: 0.9612 - val_loss: 0.2274 - val_accuracy: 0.9533\n",
            "Epoch 16/20\n",
            "420/420 [==============================] - 2s 5ms/step - loss: 0.1501 - accuracy: 0.9612 - val_loss: 0.1738 - val_accuracy: 0.9601\n",
            "Epoch 17/20\n",
            "420/420 [==============================] - 2s 5ms/step - loss: 0.1389 - accuracy: 0.9630 - val_loss: 0.1913 - val_accuracy: 0.9561\n",
            "Epoch 18/20\n",
            "420/420 [==============================] - 2s 5ms/step - loss: 0.1376 - accuracy: 0.9642 - val_loss: 0.1874 - val_accuracy: 0.9570\n",
            "Epoch 19/20\n",
            "420/420 [==============================] - 2s 5ms/step - loss: 0.1348 - accuracy: 0.9648 - val_loss: 0.1900 - val_accuracy: 0.9600\n",
            "Epoch 20/20\n",
            "420/420 [==============================] - 2s 5ms/step - loss: 0.1301 - accuracy: 0.9665 - val_loss: 0.1976 - val_accuracy: 0.9567\n"
          ],
          "name": "stdout"
        },
        {
          "output_type": "execute_result",
          "data": {
            "text/plain": [
              "<tensorflow.python.keras.callbacks.History at 0x7f285baffd30>"
            ]
          },
          "metadata": {
            "tags": []
          },
          "execution_count": 71
        }
      ]
    },
    {
      "cell_type": "code",
      "metadata": {
        "id": "Npjp5s3VXwJn",
        "colab_type": "code",
        "colab": {
          "base_uri": "https://localhost:8080/",
          "height": 298
        },
        "outputId": "a1ccce5a-5d3a-40d0-de1d-d3d5e8dc865c"
      },
      "source": [
        "idx = 703\n",
        "print('Predicted value: ', np.argmax(model.predict(X_test)[idx]))\n",
        "print('Actual value: ', np.argmax(y_test[idx]))\n",
        "plt.imshow(X_test2[idx]);"
      ],
      "execution_count": null,
      "outputs": [
        {
          "output_type": "stream",
          "text": [
            "Predicted value:  7\n",
            "Actual value:  7\n"
          ],
          "name": "stdout"
        },
        {
          "output_type": "display_data",
          "data": {
            "image/png": "[encoded data removed]",
            "text/plain": [
              "<Figure size 432x288 with 1 Axes>"
            ]
          },
          "metadata": {
            "tags": [],
            "needs_background": "light"
          }
        }
      ]
    },
    {
      "cell_type": "code",
      "metadata": {
        "id": "GWRSPOiU0KvA",
        "colab_type": "code",
        "colab": {}
      },
      "source": [
        "pr = model.predict(X_test)"
      ],
      "execution_count": null,
      "outputs": []
    },
    {
      "cell_type": "code",
      "metadata": {
        "id": "Rp8zgha_RiaY",
        "colab_type": "code",
        "colab": {
          "base_uri": "https://localhost:8080/",
          "height": 50
        },
        "outputId": "8b8444f6-cdd5-4288-c094-ee035ada4942"
      },
      "source": [
        "print([np.argmax(i) for i in pr[:5]])\n",
        "\n",
        "print([np.argmax(i) for i in y_test[:5]])"
      ],
      "execution_count": null,
      "outputs": [
        {
          "output_type": "stream",
          "text": [
            "[7, 2, 1, 0, 4]\n",
            "[7, 2, 1, 0, 4]\n"
          ],
          "name": "stdout"
        }
      ]
    },
    {
      "cell_type": "code",
      "metadata": {
        "id": "XeUagJR40K7c",
        "colab_type": "code",
        "colab": {
          "base_uri": "https://localhost:8080/",
          "height": 33
        },
        "outputId": "b8a9859f-d993-457b-aefa-5272dbca3e16"
      },
      "source": [
        "pr.shape"
      ],
      "execution_count": null,
      "outputs": [
        {
          "output_type": "execute_result",
          "data": {
            "text/plain": [
              "(60000, 10)"
            ]
          },
          "metadata": {
            "tags": []
          },
          "execution_count": 61
        }
      ]
    },
    {
      "cell_type": "markdown",
      "metadata": {
        "id": "rGZdQczYl2b3",
        "colab_type": "text"
      },
      "source": [
        "### Задание по лекции 2\n",
        "\n",
        "1. создайте сверточную сеть для классификации данных mnist,\n",
        "оцените точность полученных результатов и ошибки по классам.\n",
        "Сохраните модель, сохраните наиболее эффективные веса."
      ]
    },
    {
      "cell_type": "code",
      "metadata": {
        "id": "UoO5_m2wxpnE",
        "colab_type": "code",
        "colab": {}
      },
      "source": [
        "num_classes=10"
      ],
      "execution_count": null,
      "outputs": []
    },
    {
      "cell_type": "code",
      "metadata": {
        "id": "dsSDBIBW0J1w",
        "colab_type": "code",
        "colab": {}
      },
      "source": [
        "(X_train, y_train), (X_test, y_test) = mnist.load_data()\n",
        "X_test2 = X_test.copy()\n",
        "y_test2 = y_test.copy()\n",
        "X_train = X_train.astype('float32')\n",
        "X_test = X_test.astype('float32')\n",
        "\n",
        "X_train /= 255\n",
        "X_test /= 255\n",
        "\n",
        "y_train = keras.utils.to_categorical(y_train, NB_CLASSES)\n",
        "y_test = keras.utils.to_categorical(y_test, NB_CLASSES)"
      ],
      "execution_count": null,
      "outputs": []
    },
    {
      "cell_type": "code",
      "metadata": {
        "id": "T5fsDB7t0aqB",
        "colab_type": "code",
        "colab": {}
      },
      "source": [
        "X_train = np.expand_dims(X_train, -1)\n",
        "X_test = np.expand_dims(X_train, -1)"
      ],
      "execution_count": null,
      "outputs": []
    },
    {
      "cell_type": "code",
      "metadata": {
        "id": "5fP5-3JLxlhw",
        "colab_type": "code",
        "colab": {}
      },
      "source": [
        "model = Sequential()\n",
        "keras.Input(shape=(28,28,1)),\n",
        "model.add(Conv2D(32, kernel_size=(3, 3), activation=\"relu\"))\n",
        "model.add(Dropout(0.2))\n",
        "model.add(MaxPooling2D(pool_size=(2, 2)))\n",
        "model.add(Dropout(0.2))\n",
        "model.add(Conv2D(64, kernel_size=(3, 3), activation=\"relu\"))\n",
        "model.add(MaxPooling2D(pool_size=(2, 2)))\n",
        "model.add(Flatten())\n",
        "model.add(Dropout(0.4))\n",
        "model.add(Dense(NB_CLASSES, activation='softmax'))"
      ],
      "execution_count": null,
      "outputs": []
    },
    {
      "cell_type": "code",
      "metadata": {
        "id": "iL8rJEtry7id",
        "colab_type": "code",
        "colab": {
          "base_uri": "https://localhost:8080/"
        },
        "outputId": "487947df-e1fa-483f-d167-10f59a5ea8f2"
      },
      "source": [
        "model.compile(loss='categorical_crossentropy', optimizer=OPTIMIZER, metrics='accuracy')\n",
        "\n",
        "model.fit(X_train, y_train, batch_size=25, epochs=15, verbose = 1, validation_split=0.3)"
      ],
      "execution_count": null,
      "outputs": [
        {
          "output_type": "stream",
          "text": [
            "Epoch 1/15\n",
            "1680/1680 [==============================] - 53s 32ms/step - loss: 0.7063 - accuracy: 0.7756 - val_loss: 0.2580 - val_accuracy: 0.9342\n",
            "Epoch 2/15\n",
            "1680/1680 [==============================] - 53s 32ms/step - loss: 0.2388 - accuracy: 0.9277 - val_loss: 0.1702 - val_accuracy: 0.9563\n",
            "Epoch 3/15\n",
            "1680/1680 [==============================] - 53s 32ms/step - loss: 0.1794 - accuracy: 0.9457 - val_loss: 0.1346 - val_accuracy: 0.9640\n",
            "Epoch 4/15\n",
            "1680/1680 [==============================] - 54s 32ms/step - loss: 0.1492 - accuracy: 0.9543 - val_loss: 0.1163 - val_accuracy: 0.9692\n",
            "Epoch 5/15\n",
            "1680/1680 [==============================] - 54s 32ms/step - loss: 0.1323 - accuracy: 0.9600 - val_loss: 0.1053 - val_accuracy: 0.9722\n",
            "Epoch 6/15\n",
            "1680/1680 [==============================] - 53s 32ms/step - loss: 0.1204 - accuracy: 0.9639 - val_loss: 0.1060 - val_accuracy: 0.9718\n",
            "Epoch 7/15\n",
            "1680/1680 [==============================] - 54s 32ms/step - loss: 0.1099 - accuracy: 0.9660 - val_loss: 0.0874 - val_accuracy: 0.9764\n",
            "Epoch 8/15\n",
            "1680/1680 [==============================] - 55s 32ms/step - loss: 0.1038 - accuracy: 0.9682 - val_loss: 0.0877 - val_accuracy: 0.9760\n",
            "Epoch 9/15\n",
            "1680/1680 [==============================] - 53s 32ms/step - loss: 0.0979 - accuracy: 0.9702 - val_loss: 0.0809 - val_accuracy: 0.9789\n",
            "Epoch 10/15\n",
            "1680/1680 [==============================] - 53s 32ms/step - loss: 0.0942 - accuracy: 0.9703 - val_loss: 0.0770 - val_accuracy: 0.9789\n",
            "Epoch 11/15\n",
            "1680/1680 [==============================] - 54s 32ms/step - loss: 0.0865 - accuracy: 0.9741 - val_loss: 0.0739 - val_accuracy: 0.9789\n",
            "Epoch 12/15\n",
            "1680/1680 [==============================] - 55s 33ms/step - loss: 0.0851 - accuracy: 0.9734 - val_loss: 0.0716 - val_accuracy: 0.9807\n",
            "Epoch 13/15\n",
            "1680/1680 [==============================] - 54s 32ms/step - loss: 0.0818 - accuracy: 0.9750 - val_loss: 0.0699 - val_accuracy: 0.9814\n",
            "Epoch 14/15\n",
            "1680/1680 [==============================] - 54s 32ms/step - loss: 0.0792 - accuracy: 0.9746 - val_loss: 0.0682 - val_accuracy: 0.9822\n",
            "Epoch 15/15\n",
            "1680/1680 [==============================] - 54s 32ms/step - loss: 0.0760 - accuracy: 0.9765 - val_loss: 0.0684 - val_accuracy: 0.9823\n"
          ],
          "name": "stdout"
        },
        {
          "output_type": "execute_result",
          "data": {
            "text/plain": [
              "<tensorflow.python.keras.callbacks.History at 0x7f285acb7898>"
            ]
          },
          "metadata": {
            "tags": []
          },
          "execution_count": 97
        }
      ]
    },
    {
      "cell_type": "code",
      "metadata": {
        "id": "KLO-pGn0SRWL",
        "colab_type": "code",
        "colab": {
          "base_uri": "https://localhost:8080/"
        },
        "outputId": "1d6e47ba-2f78-4635-a026-45c49be4e421"
      },
      "source": [
        "model.summary()"
      ],
      "execution_count": null,
      "outputs": [
        {
          "output_type": "stream",
          "text": [
            "Model: \"sequential_16\"\n",
            "_________________________________________________________________\n",
            "Layer (type)                 Output Shape              Param #   \n",
            "=================================================================\n",
            "conv2d_25 (Conv2D)           (25, 26, 26, 32)          320       \n",
            "_________________________________________________________________\n",
            "dropout_24 (Dropout)         (25, 26, 26, 32)          0         \n",
            "_________________________________________________________________\n",
            "max_pooling2d_22 (MaxPooling (25, 13, 13, 32)          0         \n",
            "_________________________________________________________________\n",
            "dropout_25 (Dropout)         (25, 13, 13, 32)          0         \n",
            "_________________________________________________________________\n",
            "conv2d_26 (Conv2D)           (25, 11, 11, 64)          18496     \n",
            "_________________________________________________________________\n",
            "max_pooling2d_23 (MaxPooling (25, 5, 5, 64)            0         \n",
            "_________________________________________________________________\n",
            "flatten_9 (Flatten)          (25, 1600)                0         \n",
            "_________________________________________________________________\n",
            "dropout_26 (Dropout)         (25, 1600)                0         \n",
            "_________________________________________________________________\n",
            "dense_29 (Dense)             (25, 10)                  16010     \n",
            "=================================================================\n",
            "Total params: 34,826\n",
            "Trainable params: 34,826\n",
            "Non-trainable params: 0\n",
            "_________________________________________________________________\n"
          ],
          "name": "stdout"
        }
      ]
    },
    {
      "cell_type": "markdown",
      "metadata": {
        "id": "2DCq3O8Vmzqa",
        "colab_type": "text"
      },
      "source": [
        "### 3. Продемонстрируйте работу обратных вызовов в процессе обучения"
      ]
    },
    {
      "cell_type": "code",
      "metadata": {
        "id": "RYqOzfbM6jOi",
        "colab_type": "code",
        "colab": {
          "base_uri": "https://localhost:8080/"
        },
        "outputId": "e2f3b1de-28c6-41a2-d6af-59ff8cc091ab"
      },
      "source": [
        "from tensorflow.keras.models import load_model\n",
        "model.save('my_model')"
      ],
      "execution_count": null,
      "outputs": [
        {
          "output_type": "stream",
          "text": [
            "INFO:tensorflow:Assets written to: my_model/assets\n"
          ],
          "name": "stdout"
        }
      ]
    },
    {
      "cell_type": "code",
      "metadata": {
        "id": "SXrObz-aaMIp",
        "colab_type": "code",
        "colab": {}
      },
      "source": [
        "model = load_model('my_model')"
      ],
      "execution_count": null,
      "outputs": []
    },
    {
      "cell_type": "code",
      "metadata": {
        "id": "K27qZQUPaRDX",
        "colab_type": "code",
        "colab": {
          "base_uri": "https://localhost:8080/"
        },
        "outputId": "09e83aef-57b0-429d-d265-bf24cd206104"
      },
      "source": [
        "callback = keras.callbacks.EarlyStopping(monitor='loss', patience=3)\n",
        "model.fit(X_train, y_train, batch_size=25, epochs=15, verbose = 1, callbacks=[callback], validation_split=0.3)"
      ],
      "execution_count": null,
      "outputs": [
        {
          "output_type": "stream",
          "text": [
            "Epoch 1/15\n",
            "1680/1680 [==============================] - 53s 32ms/step - loss: 0.0753 - accuracy: 0.9768 - val_loss: 0.0628 - val_accuracy: 0.9834\n",
            "Epoch 2/15\n",
            "1680/1680 [==============================] - 53s 32ms/step - loss: 0.0709 - accuracy: 0.9783 - val_loss: 0.0608 - val_accuracy: 0.9836\n",
            "Epoch 3/15\n",
            "1680/1680 [==============================] - 53s 32ms/step - loss: 0.0696 - accuracy: 0.9783 - val_loss: 0.0618 - val_accuracy: 0.9837\n",
            "Epoch 4/15\n",
            "1680/1680 [==============================] - 53s 31ms/step - loss: 0.0667 - accuracy: 0.9793 - val_loss: 0.0596 - val_accuracy: 0.9841\n",
            "Epoch 5/15\n",
            "1680/1680 [==============================] - 53s 31ms/step - loss: 0.0658 - accuracy: 0.9796 - val_loss: 0.0597 - val_accuracy: 0.9838\n",
            "Epoch 6/15\n",
            "1680/1680 [==============================] - 58s 35ms/step - loss: 0.0639 - accuracy: 0.9804 - val_loss: 0.0589 - val_accuracy: 0.9837\n",
            "Epoch 7/15\n",
            "1680/1680 [==============================] - 53s 32ms/step - loss: 0.0638 - accuracy: 0.9801 - val_loss: 0.0563 - val_accuracy: 0.9848\n",
            "Epoch 8/15\n",
            "1680/1680 [==============================] - 53s 31ms/step - loss: 0.0624 - accuracy: 0.9812 - val_loss: 0.0562 - val_accuracy: 0.9844\n",
            "Epoch 9/15\n",
            "1680/1680 [==============================] - 53s 31ms/step - loss: 0.0612 - accuracy: 0.9812 - val_loss: 0.0541 - val_accuracy: 0.9849\n",
            "Epoch 10/15\n",
            "1680/1680 [==============================] - 52s 31ms/step - loss: 0.0610 - accuracy: 0.9815 - val_loss: 0.0533 - val_accuracy: 0.9851\n",
            "Epoch 11/15\n",
            "1680/1680 [==============================] - 52s 31ms/step - loss: 0.0575 - accuracy: 0.9828 - val_loss: 0.0533 - val_accuracy: 0.9850\n",
            "Epoch 12/15\n",
            "1680/1680 [==============================] - 52s 31ms/step - loss: 0.0567 - accuracy: 0.9832 - val_loss: 0.0521 - val_accuracy: 0.9852\n",
            "Epoch 13/15\n",
            "1680/1680 [==============================] - 52s 31ms/step - loss: 0.0553 - accuracy: 0.9824 - val_loss: 0.0505 - val_accuracy: 0.9856\n",
            "Epoch 14/15\n",
            "1680/1680 [==============================] - 53s 31ms/step - loss: 0.0530 - accuracy: 0.9832 - val_loss: 0.0499 - val_accuracy: 0.9854\n",
            "Epoch 15/15\n",
            "1680/1680 [==============================] - 53s 31ms/step - loss: 0.0543 - accuracy: 0.9830 - val_loss: 0.0497 - val_accuracy: 0.9859\n"
          ],
          "name": "stdout"
        },
        {
          "output_type": "execute_result",
          "data": {
            "text/plain": [
              "<tensorflow.python.keras.callbacks.History at 0x7f285dc7eef0>"
            ]
          },
          "metadata": {
            "tags": []
          },
          "execution_count": 101
        }
      ]
    },
    {
      "cell_type": "code",
      "metadata": {
        "id": "tYWlChWig0N9",
        "colab_type": "code",
        "colab": {
          "base_uri": "https://localhost:8080/"
        },
        "outputId": "77a0fe53-d9cc-441e-8671-584de13dcb38"
      },
      "source": [
        "model.fit(X_train, y_train, batch_size=50, epochs=15, verbose = 1, callbacks=[callback], validation_split=0.3)"
      ],
      "execution_count": null,
      "outputs": [
        {
          "output_type": "stream",
          "text": [
            "Epoch 1/15\n",
            "840/840 [==============================] - 48s 58ms/step - loss: 0.0499 - accuracy: 0.9839 - val_loss: 0.0472 - val_accuracy: 0.9864\n",
            "Epoch 2/15\n",
            "840/840 [==============================] - 49s 58ms/step - loss: 0.0488 - accuracy: 0.9850 - val_loss: 0.0468 - val_accuracy: 0.9866\n",
            "Epoch 3/15\n",
            "840/840 [==============================] - 48s 57ms/step - loss: 0.0475 - accuracy: 0.9849 - val_loss: 0.0464 - val_accuracy: 0.9865\n",
            "Epoch 4/15\n",
            "840/840 [==============================] - 48s 57ms/step - loss: 0.0469 - accuracy: 0.9853 - val_loss: 0.0461 - val_accuracy: 0.9866\n",
            "Epoch 5/15\n",
            "840/840 [==============================] - 48s 57ms/step - loss: 0.0488 - accuracy: 0.9842 - val_loss: 0.0465 - val_accuracy: 0.9862\n",
            "Epoch 6/15\n",
            "840/840 [==============================] - 48s 57ms/step - loss: 0.0473 - accuracy: 0.9856 - val_loss: 0.0463 - val_accuracy: 0.9866\n",
            "Epoch 7/15\n",
            "840/840 [==============================] - 48s 58ms/step - loss: 0.0457 - accuracy: 0.9855 - val_loss: 0.0469 - val_accuracy: 0.9858\n",
            "Epoch 8/15\n",
            "840/840 [==============================] - 48s 57ms/step - loss: 0.0468 - accuracy: 0.9848 - val_loss: 0.0470 - val_accuracy: 0.9864\n",
            "Epoch 9/15\n",
            "840/840 [==============================] - 49s 58ms/step - loss: 0.0466 - accuracy: 0.9851 - val_loss: 0.0462 - val_accuracy: 0.9863\n",
            "Epoch 10/15\n",
            "840/840 [==============================] - 48s 58ms/step - loss: 0.0467 - accuracy: 0.9851 - val_loss: 0.0461 - val_accuracy: 0.9866\n"
          ],
          "name": "stdout"
        },
        {
          "output_type": "execute_result",
          "data": {
            "text/plain": [
              "<tensorflow.python.keras.callbacks.History at 0x7f2869b25e48>"
            ]
          },
          "metadata": {
            "tags": []
          },
          "execution_count": 103
        }
      ]
    },
    {
      "cell_type": "markdown",
      "metadata": {
        "id": "k0L7n88WjXHM",
        "colab_type": "text"
      },
      "source": [
        "#### А вот и callback!\n"
      ]
    },
    {
      "cell_type": "code",
      "metadata": {
        "id": "IxocBLQzjhpj",
        "colab_type": "code",
        "colab": {
          "base_uri": "https://localhost:8080/"
        },
        "outputId": "f584222a-899b-40d1-ee1f-746ae4349323"
      },
      "source": [
        "model.save('my_model')"
      ],
      "execution_count": null,
      "outputs": [
        {
          "output_type": "stream",
          "text": [
            "INFO:tensorflow:Assets written to: my_model/assets\n"
          ],
          "name": "stdout"
        }
      ]
    },
    {
      "cell_type": "markdown",
      "metadata": {
        "id": "h-MY6SlZED-6",
        "colab_type": "text"
      },
      "source": [
        "### Задание 2 (Лекция 1)\n",
        "Взять произвольную функцию четырех (8,12) аргументов и аппроксимировать ее\n",
        "нейронной сетью. Какова оптимальная глубина сети для каждого количества аргументов,\n",
        "если функция линейная, квадратичная, трансцендентная, как связано количество\n",
        "аргументов и глубина сети?"
      ]
    },
    {
      "cell_type": "code",
      "metadata": {
        "id": "kbIA283_Hy33",
        "colab_type": "code",
        "colab": {}
      },
      "source": [
        "np.random.seed(42)\n",
        "m = 1000\n",
        "x1 = 6 * np.random.rand(m, 1) - 3\n",
        "\n",
        "y = 2.5 * x1**4 -10 * x1**3 + 3.33 * x1**2 + 3 * x1 + 20 + np.random.randn(m, 1)"
      ],
      "execution_count": null,
      "outputs": []
    },
    {
      "cell_type": "code",
      "metadata": {
        "id": "B8qkuMoTHHRy",
        "colab_type": "code",
        "colab": {
          "base_uri": "https://localhost:8080/",
          "height": 287
        },
        "outputId": "983da1e4-c07e-4c3d-aaf1-4652f7a1d0bf"
      },
      "source": [
        "plt.plot(x1, y, \"b.\")\n",
        "plt.xlabel(\"$x_1$\", fontsize=18)\n",
        "plt.ylabel(\"$y$\", rotation=0, fontsize=18)\n",
        "#plt.axis([-3, 3, 0, 10])\n",
        "plt.show()"
      ],
      "execution_count": null,
      "outputs": [
        {
          "output_type": "display_data",
          "data": {
            "image/png": "[encoded data removed]",
            "text/plain": [
              "<Figure size 432x288 with 1 Axes>"
            ]
          },
          "metadata": {
            "tags": [],
            "needs_background": "light"
          }
        }
      ]
    },
    {
      "cell_type": "code",
      "metadata": {
        "id": "F_fqquPxOp5c",
        "colab_type": "code",
        "colab": {
          "base_uri": "https://localhost:8080/",
          "height": 33
        },
        "outputId": "3c538be8-1323-40e0-fa4a-82a1854e41f5"
      },
      "source": [
        "from sklearn.linear_model import LinearRegression\n",
        "lin_reg = LinearRegression()\n",
        "lin_reg.fit(x1, y)\n",
        "lin_reg.intercept_, lin_reg.coef_"
      ],
      "execution_count": null,
      "outputs": [
        {
          "output_type": "execute_result",
          "data": {
            "text/plain": [
              "(array([72.13819687]), array([[-52.34773391]]))"
            ]
          },
          "metadata": {
            "tags": []
          },
          "execution_count": 4
        }
      ]
    },
    {
      "cell_type": "code",
      "metadata": {
        "id": "cGfy7Y-5Thbm",
        "colab_type": "code",
        "colab": {
          "base_uri": "https://localhost:8080/",
          "height": 50
        },
        "outputId": "fc291b4d-fc52-4f69-88c4-d4074c8c80fa"
      },
      "source": [
        "X_new = np.array([[-3.5], [3]])\n",
        "y_new = lin_reg.predict(X_new)\n",
        "y_new"
      ],
      "execution_count": null,
      "outputs": [
        {
          "output_type": "execute_result",
          "data": {
            "text/plain": [
              "array([[255.35526556],\n",
              "       [-84.90500486]])"
            ]
          },
          "metadata": {
            "tags": []
          },
          "execution_count": 5
        }
      ]
    },
    {
      "cell_type": "code",
      "metadata": {
        "id": "3SY3NzSgUQZL",
        "colab_type": "code",
        "colab": {
          "base_uri": "https://localhost:8080/",
          "height": 287
        },
        "outputId": "9abb69f3-3963-4b5c-bf5a-9ea3f54d87a9"
      },
      "source": [
        "plt.plot(X_new, y_new, 'r-')\n",
        "plt.plot(x1, y, \"b.\")\n",
        "plt.xlabel(\"$x_1$\", fontsize=18)\n",
        "plt.ylabel(\"$y$\", rotation=0, fontsize=18)\n",
        "#plt.axis([-3, 3, 0, 10])\n",
        "plt.show()"
      ],
      "execution_count": null,
      "outputs": [
        {
          "output_type": "display_data",
          "data": {
            "image/png": "[encoded data removed]",
            "text/plain": [
              "<Figure size 432x288 with 1 Axes>"
            ]
          },
          "metadata": {
            "tags": [],
            "needs_background": "light"
          }
        }
      ]
    },
    {
      "cell_type": "code",
      "metadata": {
        "id": "vbZP0AwKVE1l",
        "colab_type": "code",
        "colab": {
          "base_uri": "https://localhost:8080/",
          "height": 33
        },
        "outputId": "505f4b1e-14b6-4ca2-d869-525794bbe3d9"
      },
      "source": [
        "from sklearn.preprocessing import PolynomialFeatures\n",
        "poly_features = PolynomialFeatures(degree=4, include_bias=False)\n",
        "X_poly = poly_features.fit_transform(x1)\n",
        "x1[0]"
      ],
      "execution_count": null,
      "outputs": [
        {
          "output_type": "execute_result",
          "data": {
            "text/plain": [
              "array([-0.75275929])"
            ]
          },
          "metadata": {
            "tags": []
          },
          "execution_count": 7
        }
      ]
    },
    {
      "cell_type": "code",
      "metadata": {
        "id": "1zVbk5uyVMEv",
        "colab_type": "code",
        "colab": {
          "base_uri": "https://localhost:8080/",
          "height": 33
        },
        "outputId": "0dae7bbd-4086-459c-a42a-8e8583c3a6a2"
      },
      "source": [
        "X_poly[0]"
      ],
      "execution_count": null,
      "outputs": [
        {
          "output_type": "execute_result",
          "data": {
            "text/plain": [
              "array([-0.75275929,  0.56664654, -0.42654845,  0.32108831])"
            ]
          },
          "metadata": {
            "tags": []
          },
          "execution_count": 8
        }
      ]
    },
    {
      "cell_type": "code",
      "metadata": {
        "id": "4tRpkv0mVbx1",
        "colab_type": "code",
        "colab": {
          "base_uri": "https://localhost:8080/",
          "height": 50
        },
        "outputId": "bf8f8a35-13a4-478e-d820-28a3aa7ae66d"
      },
      "source": [
        "lin_reg = LinearRegression()\n",
        "lin_reg.fit(X_poly, y)\n",
        "lin_reg.intercept_, lin_reg.coef_"
      ],
      "execution_count": null,
      "outputs": [
        {
          "output_type": "execute_result",
          "data": {
            "text/plain": [
              "(array([20.20167625]),\n",
              " array([[  3.01079196,   3.24399685, -10.0069303 ,   2.50957213]]))"
            ]
          },
          "metadata": {
            "tags": []
          },
          "execution_count": 9
        }
      ]
    },
    {
      "cell_type": "code",
      "metadata": {
        "id": "1noosar-VcE8",
        "colab_type": "code",
        "colab": {
          "base_uri": "https://localhost:8080/",
          "height": 287
        },
        "outputId": "8c8dfbc2-55ea-409f-af15-fa35bf4773fd"
      },
      "source": [
        "X_new=np.linspace(-4, 3, 1000).reshape(1000, 1)\n",
        "X_new_poly = poly_features.transform(X_new)\n",
        "y_new = lin_reg.predict(X_new_poly)\n",
        "plt.plot(x1, y, \"b.\")\n",
        "plt.plot(X_new, y_new, \"r-\", linewidth=2, label=\"Predictions\")\n",
        "plt.xlabel(\"$x_1$\", fontsize=18)\n",
        "plt.ylabel(\"$y$\", rotation=0, fontsize=18)\n",
        "plt.legend(loc=\"upper left\", fontsize=14)\n",
        "plt.axis([-3, 3, 0, 550])\n",
        "plt.show()"
      ],
      "execution_count": null,
      "outputs": [
        {
          "output_type": "display_data",
          "data": {
            "image/png": "[encoded data removed]",
            "text/plain": [
              "<Figure size 432x288 with 1 Axes>"
            ]
          },
          "metadata": {
            "tags": [],
            "needs_background": "light"
          }
        }
      ]
    },
    {
      "cell_type": "markdown",
      "metadata": {
        "id": "3chjPWyXV230",
        "colab_type": "text"
      },
      "source": [
        "### Уже без участия нейронной сети линейная модель с помощью модуля PolynomialFeatures хорошо справляется с ситуацией"
      ]
    },
    {
      "cell_type": "code",
      "metadata": {
        "id": "tJP9Uwv_Vkz-",
        "colab_type": "code",
        "colab": {
          "base_uri": "https://localhost:8080/",
          "height": 287
        },
        "outputId": "24862a4c-bbd4-42c1-b352-2b118fd262c9"
      },
      "source": [
        "for degree in range(1, 5):\n",
        "  poly_features = PolynomialFeatures(degree=degree, include_bias=False)\n",
        "  X_poly = poly_features.fit_transform(x1)\n",
        "  lin_reg = LinearRegression()\n",
        "  lin_reg.fit(X_poly, y)\n",
        "  X_new=np.linspace(-4, 3, 1000).reshape(1000, 1)\n",
        "  X_new_poly = poly_features.transform(X_new)\n",
        "  y_new = lin_reg.predict(X_new_poly)\n",
        "  plt.plot(X_new, y_new, \"r-\", linewidth=1 * degree, label=\"Pred [Degree = {}]\".format(degree))\n",
        "\n",
        "plt.plot(x1, y, \"b.\")\n",
        "plt.xlabel(\"$x_1$\", fontsize=18)\n",
        "plt.ylabel(\"$y$\", rotation=0, fontsize=18)\n",
        "plt.legend(loc=\"upper right\", fontsize=14)\n",
        "plt.axis([-3, 3, -10, 550])\n",
        "plt.show()"
      ],
      "execution_count": null,
      "outputs": [
        {
          "output_type": "display_data",
          "data": {
            "image/png": "[encoded data removed]",
            "text/plain": [
              "<Figure size 432x288 with 1 Axes>"
            ]
          },
          "metadata": {
            "tags": [],
            "needs_background": "light"
          }
        }
      ]
    },
    {
      "cell_type": "code",
      "metadata": {
        "id": "La4lSsAzw-51",
        "colab_type": "code",
        "colab": {
          "base_uri": "https://localhost:8080/",
          "height": 33
        },
        "outputId": "ee11d680-307a-456b-cb03-d9e8ac0ca093"
      },
      "source": [
        "import numpy as np\n",
        "from sklearn.model_selection import train_test_split\n",
        "\n",
        "from PIL import Image\n",
        "import matplotlib.pyplot as plt\n",
        "\n",
        "from tensorflow import keras\n",
        "import keras.layers as layers\n",
        "from keras.datasets import mnist\n",
        "from tensorflow.keras.models import Sequential\n",
        "from tensorflow.keras.layers import Dense, Flatten, Conv2D, Dropout, MaxPooling2D\n",
        "from keras.optimizers import SGD\n",
        "\n",
        "print(\"Setup Complete\")"
      ],
      "execution_count": 1,
      "outputs": [
        {
          "output_type": "stream",
          "text": [
            "Setup Complete\n"
          ],
          "name": "stdout"
        }
      ]
    },
    {
      "cell_type": "code",
      "metadata": {
        "id": "0deYTD7giJNx",
        "colab_type": "code",
        "colab": {
          "base_uri": "https://localhost:8080/",
          "height": 33
        },
        "outputId": "c2e25ecb-54c6-465e-a327-1d71a8519f5e"
      },
      "source": [
        "import tensorflow as tf\n",
        "device_name = tf.test.gpu_device_name()\n",
        "if device_name != '/device:GPU:0':\n",
        "  raise SystemError('GPU device not found')\n",
        "print('Found GPU at: {}'.format(device_name))"
      ],
      "execution_count": 2,
      "outputs": [
        {
          "output_type": "stream",
          "text": [
            "Found GPU at: /device:GPU:0\n"
          ],
          "name": "stdout"
        }
      ]
    },
    {
      "cell_type": "code",
      "metadata": {
        "id": "ql-2zlYgb5xr",
        "colab_type": "code",
        "colab": {}
      },
      "source": [
        "np.random.seed(42)\n",
        "x=[]\n",
        "for i in range(100):\n",
        "    x.append([np.random.uniform(0,100) for j in range(4)])\n",
        "y=[]\n",
        "for i in range(100):\n",
        "    y.append(2.5*x[i][0] + 2*x[i][1] + 3.33*x[i][2] + x[i][3])"
      ],
      "execution_count": 26,
      "outputs": []
    },
    {
      "cell_type": "code",
      "metadata": {
        "id": "DGZw5kxScvNE",
        "colab_type": "code",
        "colab": {
          "base_uri": "https://localhost:8080/",
          "height": 290
        },
        "outputId": "983026c2-739f-4a59-9114-237aec84d7bd"
      },
      "source": [
        "plt.plot(x, y, \"b.\")\n",
        "plt.xlabel(\"$x_1$\", fontsize=18)\n",
        "plt.ylabel(\"$y$\", rotation=0, fontsize=18)\n",
        "plt.show()"
      ],
      "execution_count": 27,
      "outputs": [
        {
          "output_type": "display_data",
          "data": {
            "image/png": "[encoded data removed]",
            "text/plain": [
              "<Figure size 432x288 with 1 Axes>"
            ]
          },
          "metadata": {
            "tags": [],
            "needs_background": "light"
          }
        }
      ]
    },
    {
      "cell_type": "code",
      "metadata": {
        "id": "FG-IY0JEc4Ef",
        "colab_type": "code",
        "colab": {
          "base_uri": "https://localhost:8080/",
          "height": 33
        },
        "outputId": "eeb9ec4d-7bac-4e41-8ff1-8c6ba7dc45c2"
      },
      "source": [
        "x = np.array(x)\n",
        "y = np.array(y)\n",
        "\n",
        "x.shape, y.shape"
      ],
      "execution_count": 28,
      "outputs": [
        {
          "output_type": "execute_result",
          "data": {
            "text/plain": [
              "((100, 4), (100,))"
            ]
          },
          "metadata": {
            "tags": []
          },
          "execution_count": 28
        }
      ]
    },
    {
      "cell_type": "code",
      "metadata": {
        "id": "AfUlckp7iuc-",
        "colab_type": "code",
        "colab": {}
      },
      "source": [
        "from sklearn.preprocessing import StandardScaler\n",
        "sc = StandardScaler()"
      ],
      "execution_count": 6,
      "outputs": []
    },
    {
      "cell_type": "code",
      "metadata": {
        "id": "MC8TEnBSif2s",
        "colab_type": "code",
        "colab": {}
      },
      "source": [
        "#x = sc.fit_transform(x)"
      ],
      "execution_count": 7,
      "outputs": []
    },
    {
      "cell_type": "code",
      "metadata": {
        "id": "vU4QtT8hiQpq",
        "colab_type": "code",
        "colab": {}
      },
      "source": [
        "model = Sequential()\n",
        "model.add(Dense(40, activation='relu',kernel_initializer='uniform', input_shape=(4, )))\n",
        "\n",
        "model.add(Dense(20, activation='relu',kernel_initializer='uniform', input_shape=(40,)))\n",
        "\n",
        "model.add(Dense(1, activation='relu', input_shape=(20,)))"
      ],
      "execution_count": 29,
      "outputs": []
    },
    {
      "cell_type": "code",
      "metadata": {
        "id": "WPwQGef9iTpM",
        "colab_type": "code",
        "colab": {
          "base_uri": "https://localhost:8080/",
          "height": 1000
        },
        "outputId": "f5e836fb-880d-4a4e-f71e-7b67dc39ed18"
      },
      "source": [
        "model.compile(loss='mse', optimizer='adam')\n",
        "\n",
        "h = model.fit(x, y, batch_size=10, epochs=300, verbose = 1, validation_split=0.3)"
      ],
      "execution_count": 30,
      "outputs": [
        {
          "output_type": "stream",
          "text": [
            "Epoch 1/300\n",
            "7/7 [==============================] - 0s 13ms/step - loss: 215251.2031 - val_loss: 203813.7656\n",
            "Epoch 2/300\n",
            "7/7 [==============================] - 0s 3ms/step - loss: 213373.1875 - val_loss: 201568.9062\n",
            "Epoch 3/300\n",
            "7/7 [==============================] - 0s 3ms/step - loss: 210438.1094 - val_loss: 197872.2344\n",
            "Epoch 4/300\n",
            "7/7 [==============================] - 0s 4ms/step - loss: 205583.0000 - val_loss: 192354.9844\n",
            "Epoch 5/300\n",
            "7/7 [==============================] - 0s 4ms/step - loss: 198754.0469 - val_loss: 184541.5000\n",
            "Epoch 6/300\n",
            "7/7 [==============================] - 0s 4ms/step - loss: 189497.4531 - val_loss: 174033.0938\n",
            "Epoch 7/300\n",
            "7/7 [==============================] - 0s 3ms/step - loss: 176908.0469 - val_loss: 160634.3125\n",
            "Epoch 8/300\n",
            "7/7 [==============================] - 0s 3ms/step - loss: 161528.1250 - val_loss: 144010.6719\n",
            "Epoch 9/300\n",
            "7/7 [==============================] - 0s 3ms/step - loss: 142734.9219 - val_loss: 124687.5156\n",
            "Epoch 10/300\n",
            "7/7 [==============================] - 0s 4ms/step - loss: 120433.4453 - val_loss: 103549.6641\n",
            "Epoch 11/300\n",
            "7/7 [==============================] - 0s 3ms/step - loss: 97549.0547 - val_loss: 81022.2891\n",
            "Epoch 12/300\n",
            "7/7 [==============================] - 0s 3ms/step - loss: 74825.1719 - val_loss: 58543.1953\n",
            "Epoch 13/300\n",
            "7/7 [==============================] - 0s 3ms/step - loss: 51542.4570 - val_loss: 38684.7266\n",
            "Epoch 14/300\n",
            "7/7 [==============================] - 0s 4ms/step - loss: 32392.4062 - val_loss: 22475.5078\n",
            "Epoch 15/300\n",
            "7/7 [==============================] - 0s 3ms/step - loss: 17681.5098 - val_loss: 11035.5566\n",
            "Epoch 16/300\n",
            "7/7 [==============================] - 0s 4ms/step - loss: 8079.9297 - val_loss: 4627.6230\n",
            "Epoch 17/300\n",
            "7/7 [==============================] - 0s 4ms/step - loss: 3644.7710 - val_loss: 2012.4585\n",
            "Epoch 18/300\n",
            "7/7 [==============================] - 0s 4ms/step - loss: 2156.4910 - val_loss: 1472.0787\n",
            "Epoch 19/300\n",
            "7/7 [==============================] - 0s 3ms/step - loss: 2191.6550 - val_loss: 1478.2489\n",
            "Epoch 20/300\n",
            "7/7 [==============================] - 0s 3ms/step - loss: 2233.4192 - val_loss: 1430.7521\n",
            "Epoch 21/300\n",
            "7/7 [==============================] - 0s 3ms/step - loss: 2096.2014 - val_loss: 1320.9022\n",
            "Epoch 22/300\n",
            "7/7 [==============================] - 0s 4ms/step - loss: 1911.4084 - val_loss: 1249.4928\n",
            "Epoch 23/300\n",
            "7/7 [==============================] - 0s 3ms/step - loss: 1772.8231 - val_loss: 1219.8203\n",
            "Epoch 24/300\n",
            "7/7 [==============================] - 0s 3ms/step - loss: 1673.7640 - val_loss: 1183.4586\n",
            "Epoch 25/300\n",
            "7/7 [==============================] - 0s 3ms/step - loss: 1613.6687 - val_loss: 1151.7117\n",
            "Epoch 26/300\n",
            "7/7 [==============================] - 0s 3ms/step - loss: 1538.7014 - val_loss: 1084.4353\n",
            "Epoch 27/300\n",
            "7/7 [==============================] - 0s 3ms/step - loss: 1452.3846 - val_loss: 1023.5534\n",
            "Epoch 28/300\n",
            "7/7 [==============================] - 0s 3ms/step - loss: 1384.5330 - val_loss: 957.5478\n",
            "Epoch 29/300\n",
            "7/7 [==============================] - 0s 3ms/step - loss: 1313.1621 - val_loss: 895.6229\n",
            "Epoch 30/300\n",
            "7/7 [==============================] - 0s 3ms/step - loss: 1239.4281 - val_loss: 848.7931\n",
            "Epoch 31/300\n",
            "7/7 [==============================] - 0s 3ms/step - loss: 1169.9939 - val_loss: 797.7832\n",
            "Epoch 32/300\n",
            "7/7 [==============================] - 0s 3ms/step - loss: 1105.1733 - val_loss: 746.4818\n",
            "Epoch 33/300\n",
            "7/7 [==============================] - 0s 3ms/step - loss: 1037.0190 - val_loss: 705.3509\n",
            "Epoch 34/300\n",
            "7/7 [==============================] - 0s 3ms/step - loss: 978.3829 - val_loss: 654.8970\n",
            "Epoch 35/300\n",
            "7/7 [==============================] - 0s 3ms/step - loss: 918.4974 - val_loss: 609.1882\n",
            "Epoch 36/300\n",
            "7/7 [==============================] - 0s 3ms/step - loss: 857.8991 - val_loss: 579.4483\n",
            "Epoch 37/300\n",
            "7/7 [==============================] - 0s 3ms/step - loss: 800.2068 - val_loss: 532.7709\n",
            "Epoch 38/300\n",
            "7/7 [==============================] - 0s 3ms/step - loss: 744.4777 - val_loss: 493.8151\n",
            "Epoch 39/300\n",
            "7/7 [==============================] - 0s 3ms/step - loss: 689.3040 - val_loss: 457.8916\n",
            "Epoch 40/300\n",
            "7/7 [==============================] - 0s 3ms/step - loss: 639.9703 - val_loss: 425.3365\n",
            "Epoch 41/300\n",
            "7/7 [==============================] - 0s 3ms/step - loss: 595.6954 - val_loss: 387.4793\n",
            "Epoch 42/300\n",
            "7/7 [==============================] - 0s 3ms/step - loss: 548.2792 - val_loss: 353.6900\n",
            "Epoch 43/300\n",
            "7/7 [==============================] - 0s 3ms/step - loss: 503.6851 - val_loss: 324.3832\n",
            "Epoch 44/300\n",
            "7/7 [==============================] - 0s 3ms/step - loss: 465.8053 - val_loss: 295.2413\n",
            "Epoch 45/300\n",
            "7/7 [==============================] - 0s 3ms/step - loss: 422.6494 - val_loss: 269.9730\n",
            "Epoch 46/300\n",
            "7/7 [==============================] - 0s 3ms/step - loss: 390.3320 - val_loss: 246.5775\n",
            "Epoch 47/300\n",
            "7/7 [==============================] - 0s 3ms/step - loss: 358.2176 - val_loss: 220.8225\n",
            "Epoch 48/300\n",
            "7/7 [==============================] - 0s 3ms/step - loss: 324.4296 - val_loss: 199.3255\n",
            "Epoch 49/300\n",
            "7/7 [==============================] - 0s 3ms/step - loss: 293.7089 - val_loss: 179.7902\n",
            "Epoch 50/300\n",
            "7/7 [==============================] - 0s 3ms/step - loss: 267.7270 - val_loss: 163.1234\n",
            "Epoch 51/300\n",
            "7/7 [==============================] - 0s 3ms/step - loss: 243.9453 - val_loss: 144.8172\n",
            "Epoch 52/300\n",
            "7/7 [==============================] - 0s 3ms/step - loss: 220.7718 - val_loss: 128.9162\n",
            "Epoch 53/300\n",
            "7/7 [==============================] - 0s 3ms/step - loss: 198.8574 - val_loss: 113.2170\n",
            "Epoch 54/300\n",
            "7/7 [==============================] - 0s 3ms/step - loss: 176.1615 - val_loss: 100.4654\n",
            "Epoch 55/300\n",
            "7/7 [==============================] - 0s 3ms/step - loss: 160.9044 - val_loss: 87.5276\n",
            "Epoch 56/300\n",
            "7/7 [==============================] - 0s 3ms/step - loss: 143.3797 - val_loss: 77.3359\n",
            "Epoch 57/300\n",
            "7/7 [==============================] - 0s 4ms/step - loss: 128.7852 - val_loss: 68.2213\n",
            "Epoch 58/300\n",
            "7/7 [==============================] - 0s 3ms/step - loss: 115.5663 - val_loss: 59.9551\n",
            "Epoch 59/300\n",
            "7/7 [==============================] - 0s 3ms/step - loss: 103.5017 - val_loss: 51.4350\n",
            "Epoch 60/300\n",
            "7/7 [==============================] - 0s 3ms/step - loss: 92.9683 - val_loss: 44.4875\n",
            "Epoch 61/300\n",
            "7/7 [==============================] - 0s 4ms/step - loss: 82.0189 - val_loss: 38.8852\n",
            "Epoch 62/300\n",
            "7/7 [==============================] - 0s 3ms/step - loss: 73.5908 - val_loss: 33.7967\n",
            "Epoch 63/300\n",
            "7/7 [==============================] - 0s 3ms/step - loss: 66.9433 - val_loss: 28.5214\n",
            "Epoch 64/300\n",
            "7/7 [==============================] - 0s 3ms/step - loss: 58.8516 - val_loss: 24.2625\n",
            "Epoch 65/300\n",
            "7/7 [==============================] - 0s 3ms/step - loss: 52.8093 - val_loss: 20.9058\n",
            "Epoch 66/300\n",
            "7/7 [==============================] - 0s 3ms/step - loss: 46.5579 - val_loss: 17.5086\n",
            "Epoch 67/300\n",
            "7/7 [==============================] - 0s 3ms/step - loss: 42.0250 - val_loss: 14.7372\n",
            "Epoch 68/300\n",
            "7/7 [==============================] - 0s 3ms/step - loss: 37.7600 - val_loss: 11.9025\n",
            "Epoch 69/300\n",
            "7/7 [==============================] - 0s 3ms/step - loss: 34.0675 - val_loss: 10.1247\n",
            "Epoch 70/300\n",
            "7/7 [==============================] - 0s 3ms/step - loss: 29.8116 - val_loss: 8.7922\n",
            "Epoch 71/300\n",
            "7/7 [==============================] - 0s 3ms/step - loss: 26.8748 - val_loss: 6.7435\n",
            "Epoch 72/300\n",
            "7/7 [==============================] - 0s 3ms/step - loss: 24.1676 - val_loss: 5.6726\n",
            "Epoch 73/300\n",
            "7/7 [==============================] - 0s 3ms/step - loss: 21.6518 - val_loss: 4.5582\n",
            "Epoch 74/300\n",
            "7/7 [==============================] - 0s 3ms/step - loss: 19.7312 - val_loss: 3.9881\n",
            "Epoch 75/300\n",
            "7/7 [==============================] - 0s 3ms/step - loss: 17.6670 - val_loss: 2.8791\n",
            "Epoch 76/300\n",
            "7/7 [==============================] - 0s 3ms/step - loss: 16.1761 - val_loss: 2.4440\n",
            "Epoch 77/300\n",
            "7/7 [==============================] - 0s 3ms/step - loss: 14.7592 - val_loss: 1.9276\n",
            "Epoch 78/300\n",
            "7/7 [==============================] - 0s 3ms/step - loss: 13.7760 - val_loss: 1.5826\n",
            "Epoch 79/300\n",
            "7/7 [==============================] - 0s 3ms/step - loss: 12.8121 - val_loss: 1.5333\n",
            "Epoch 80/300\n",
            "7/7 [==============================] - 0s 3ms/step - loss: 11.7260 - val_loss: 1.1965\n",
            "Epoch 81/300\n",
            "7/7 [==============================] - 0s 3ms/step - loss: 11.2194 - val_loss: 1.1216\n",
            "Epoch 82/300\n",
            "7/7 [==============================] - 0s 3ms/step - loss: 10.4915 - val_loss: 1.0478\n",
            "Epoch 83/300\n",
            "7/7 [==============================] - 0s 3ms/step - loss: 9.9640 - val_loss: 0.9973\n",
            "Epoch 84/300\n",
            "7/7 [==============================] - 0s 3ms/step - loss: 9.6084 - val_loss: 1.0228\n",
            "Epoch 85/300\n",
            "7/7 [==============================] - 0s 3ms/step - loss: 9.1741 - val_loss: 1.0002\n",
            "Epoch 86/300\n",
            "7/7 [==============================] - 0s 3ms/step - loss: 8.7642 - val_loss: 1.0071\n",
            "Epoch 87/300\n",
            "7/7 [==============================] - 0s 3ms/step - loss: 8.5221 - val_loss: 1.0311\n",
            "Epoch 88/300\n",
            "7/7 [==============================] - 0s 3ms/step - loss: 8.2103 - val_loss: 1.0279\n",
            "Epoch 89/300\n",
            "7/7 [==============================] - 0s 3ms/step - loss: 8.1694 - val_loss: 1.0711\n",
            "Epoch 90/300\n",
            "7/7 [==============================] - 0s 3ms/step - loss: 7.8051 - val_loss: 1.0899\n",
            "Epoch 91/300\n",
            "7/7 [==============================] - 0s 3ms/step - loss: 7.5937 - val_loss: 1.1090\n",
            "Epoch 92/300\n",
            "7/7 [==============================] - 0s 3ms/step - loss: 7.3519 - val_loss: 1.1174\n",
            "Epoch 93/300\n",
            "7/7 [==============================] - 0s 3ms/step - loss: 7.1691 - val_loss: 1.1112\n",
            "Epoch 94/300\n",
            "7/7 [==============================] - 0s 3ms/step - loss: 6.9995 - val_loss: 1.1635\n",
            "Epoch 95/300\n",
            "7/7 [==============================] - 0s 4ms/step - loss: 6.8694 - val_loss: 1.1345\n",
            "Epoch 96/300\n",
            "7/7 [==============================] - 0s 3ms/step - loss: 6.6581 - val_loss: 1.1483\n",
            "Epoch 97/300\n",
            "7/7 [==============================] - 0s 3ms/step - loss: 6.5180 - val_loss: 1.1433\n",
            "Epoch 98/300\n",
            "7/7 [==============================] - 0s 3ms/step - loss: 6.4676 - val_loss: 1.1518\n",
            "Epoch 99/300\n",
            "7/7 [==============================] - 0s 3ms/step - loss: 6.2779 - val_loss: 1.1780\n",
            "Epoch 100/300\n",
            "7/7 [==============================] - 0s 4ms/step - loss: 6.1549 - val_loss: 1.1541\n",
            "Epoch 101/300\n",
            "7/7 [==============================] - 0s 3ms/step - loss: 6.0410 - val_loss: 1.1690\n",
            "Epoch 102/300\n",
            "7/7 [==============================] - 0s 3ms/step - loss: 5.8967 - val_loss: 1.1362\n",
            "Epoch 103/300\n",
            "7/7 [==============================] - 0s 3ms/step - loss: 5.8605 - val_loss: 1.1518\n",
            "Epoch 104/300\n",
            "7/7 [==============================] - 0s 3ms/step - loss: 5.7251 - val_loss: 1.1344\n",
            "Epoch 105/300\n",
            "7/7 [==============================] - 0s 3ms/step - loss: 5.6144 - val_loss: 1.1225\n",
            "Epoch 106/300\n",
            "7/7 [==============================] - 0s 3ms/step - loss: 5.4952 - val_loss: 1.1285\n",
            "Epoch 107/300\n",
            "7/7 [==============================] - 0s 3ms/step - loss: 5.3897 - val_loss: 1.1095\n",
            "Epoch 108/300\n",
            "7/7 [==============================] - 0s 3ms/step - loss: 5.3257 - val_loss: 1.1161\n",
            "Epoch 109/300\n",
            "7/7 [==============================] - 0s 3ms/step - loss: 5.2508 - val_loss: 1.1507\n",
            "Epoch 110/300\n",
            "7/7 [==============================] - 0s 3ms/step - loss: 5.1103 - val_loss: 1.1038\n",
            "Epoch 111/300\n",
            "7/7 [==============================] - 0s 3ms/step - loss: 5.0742 - val_loss: 1.1032\n",
            "Epoch 112/300\n",
            "7/7 [==============================] - 0s 3ms/step - loss: 4.9645 - val_loss: 1.1242\n",
            "Epoch 113/300\n",
            "7/7 [==============================] - 0s 3ms/step - loss: 5.0447 - val_loss: 1.1099\n",
            "Epoch 114/300\n",
            "7/7 [==============================] - 0s 3ms/step - loss: 4.7655 - val_loss: 1.1675\n",
            "Epoch 115/300\n",
            "7/7 [==============================] - 0s 3ms/step - loss: 4.6587 - val_loss: 1.0843\n",
            "Epoch 116/300\n",
            "7/7 [==============================] - 0s 3ms/step - loss: 4.6254 - val_loss: 1.0682\n",
            "Epoch 117/300\n",
            "7/7 [==============================] - 0s 3ms/step - loss: 4.5246 - val_loss: 1.0733\n",
            "Epoch 118/300\n",
            "7/7 [==============================] - 0s 3ms/step - loss: 4.4062 - val_loss: 1.0458\n",
            "Epoch 119/300\n",
            "7/7 [==============================] - 0s 3ms/step - loss: 4.3643 - val_loss: 1.0448\n",
            "Epoch 120/300\n",
            "7/7 [==============================] - 0s 3ms/step - loss: 4.3436 - val_loss: 1.0569\n",
            "Epoch 121/300\n",
            "7/7 [==============================] - 0s 3ms/step - loss: 4.1857 - val_loss: 1.0690\n",
            "Epoch 122/300\n",
            "7/7 [==============================] - 0s 3ms/step - loss: 4.1389 - val_loss: 1.0483\n",
            "Epoch 123/300\n",
            "7/7 [==============================] - 0s 3ms/step - loss: 4.0505 - val_loss: 1.0362\n",
            "Epoch 124/300\n",
            "7/7 [==============================] - 0s 3ms/step - loss: 3.9854 - val_loss: 1.0302\n",
            "Epoch 125/300\n",
            "7/7 [==============================] - 0s 3ms/step - loss: 3.9144 - val_loss: 1.0423\n",
            "Epoch 126/300\n",
            "7/7 [==============================] - 0s 3ms/step - loss: 3.8233 - val_loss: 1.0217\n",
            "Epoch 127/300\n",
            "7/7 [==============================] - 0s 3ms/step - loss: 3.7337 - val_loss: 1.0085\n",
            "Epoch 128/300\n",
            "7/7 [==============================] - 0s 3ms/step - loss: 3.6766 - val_loss: 1.0073\n",
            "Epoch 129/300\n",
            "7/7 [==============================] - 0s 3ms/step - loss: 3.6168 - val_loss: 1.0026\n",
            "Epoch 130/300\n",
            "7/7 [==============================] - 0s 3ms/step - loss: 3.5488 - val_loss: 0.9920\n",
            "Epoch 131/300\n",
            "7/7 [==============================] - 0s 3ms/step - loss: 3.4640 - val_loss: 0.9925\n",
            "Epoch 132/300\n",
            "7/7 [==============================] - 0s 3ms/step - loss: 3.4278 - val_loss: 0.9978\n",
            "Epoch 133/300\n",
            "7/7 [==============================] - 0s 3ms/step - loss: 3.3560 - val_loss: 1.0027\n",
            "Epoch 134/300\n",
            "7/7 [==============================] - 0s 4ms/step - loss: 3.2852 - val_loss: 0.9902\n",
            "Epoch 135/300\n",
            "7/7 [==============================] - 0s 3ms/step - loss: 3.2727 - val_loss: 0.9856\n",
            "Epoch 136/300\n",
            "7/7 [==============================] - 0s 3ms/step - loss: 3.2898 - val_loss: 0.9941\n",
            "Epoch 137/300\n",
            "7/7 [==============================] - 0s 3ms/step - loss: 3.1382 - val_loss: 1.0841\n",
            "Epoch 138/300\n",
            "7/7 [==============================] - 0s 3ms/step - loss: 3.0698 - val_loss: 0.9858\n",
            "Epoch 139/300\n",
            "7/7 [==============================] - 0s 4ms/step - loss: 3.0683 - val_loss: 0.9626\n",
            "Epoch 140/300\n",
            "7/7 [==============================] - 0s 4ms/step - loss: 2.9574 - val_loss: 0.9685\n",
            "Epoch 141/300\n",
            "7/7 [==============================] - 0s 3ms/step - loss: 2.8856 - val_loss: 0.9557\n",
            "Epoch 142/300\n",
            "7/7 [==============================] - 0s 3ms/step - loss: 2.8829 - val_loss: 0.9469\n",
            "Epoch 143/300\n",
            "7/7 [==============================] - 0s 3ms/step - loss: 2.8252 - val_loss: 0.9595\n",
            "Epoch 144/300\n",
            "7/7 [==============================] - 0s 3ms/step - loss: 2.8070 - val_loss: 0.9499\n",
            "Epoch 145/300\n",
            "7/7 [==============================] - 0s 3ms/step - loss: 2.6846 - val_loss: 0.9584\n",
            "Epoch 146/300\n",
            "7/7 [==============================] - 0s 3ms/step - loss: 2.6911 - val_loss: 0.9372\n",
            "Epoch 147/300\n",
            "7/7 [==============================] - 0s 3ms/step - loss: 2.6122 - val_loss: 0.9253\n",
            "Epoch 148/300\n",
            "7/7 [==============================] - 0s 3ms/step - loss: 2.5367 - val_loss: 0.9269\n",
            "Epoch 149/300\n",
            "7/7 [==============================] - 0s 3ms/step - loss: 2.5482 - val_loss: 0.9366\n",
            "Epoch 150/300\n",
            "7/7 [==============================] - 0s 3ms/step - loss: 2.4907 - val_loss: 0.9349\n",
            "Epoch 151/300\n",
            "7/7 [==============================] - 0s 3ms/step - loss: 2.4237 - val_loss: 0.9492\n",
            "Epoch 152/300\n",
            "7/7 [==============================] - 0s 3ms/step - loss: 2.4088 - val_loss: 0.9090\n",
            "Epoch 153/300\n",
            "7/7 [==============================] - 0s 3ms/step - loss: 2.3288 - val_loss: 0.9131\n",
            "Epoch 154/300\n",
            "7/7 [==============================] - 0s 3ms/step - loss: 2.2766 - val_loss: 0.8970\n",
            "Epoch 155/300\n",
            "7/7 [==============================] - 0s 3ms/step - loss: 2.2706 - val_loss: 0.8959\n",
            "Epoch 156/300\n",
            "7/7 [==============================] - 0s 3ms/step - loss: 2.2087 - val_loss: 0.8958\n",
            "Epoch 157/300\n",
            "7/7 [==============================] - 0s 3ms/step - loss: 2.1675 - val_loss: 0.8797\n",
            "Epoch 158/300\n",
            "7/7 [==============================] - 0s 3ms/step - loss: 2.1252 - val_loss: 0.8833\n",
            "Epoch 159/300\n",
            "7/7 [==============================] - 0s 3ms/step - loss: 2.0803 - val_loss: 0.8763\n",
            "Epoch 160/300\n",
            "7/7 [==============================] - 0s 3ms/step - loss: 2.0437 - val_loss: 0.8793\n",
            "Epoch 161/300\n",
            "7/7 [==============================] - 0s 3ms/step - loss: 2.0205 - val_loss: 0.8727\n",
            "Epoch 162/300\n",
            "7/7 [==============================] - 0s 3ms/step - loss: 1.9833 - val_loss: 0.8709\n",
            "Epoch 163/300\n",
            "7/7 [==============================] - 0s 3ms/step - loss: 1.9360 - val_loss: 0.8894\n",
            "Epoch 164/300\n",
            "7/7 [==============================] - 0s 3ms/step - loss: 1.9121 - val_loss: 0.8642\n",
            "Epoch 165/300\n",
            "7/7 [==============================] - 0s 3ms/step - loss: 1.8719 - val_loss: 0.8673\n",
            "Epoch 166/300\n",
            "7/7 [==============================] - 0s 3ms/step - loss: 1.8549 - val_loss: 0.8729\n",
            "Epoch 167/300\n",
            "7/7 [==============================] - 0s 3ms/step - loss: 1.8160 - val_loss: 0.8631\n",
            "Epoch 168/300\n",
            "7/7 [==============================] - 0s 3ms/step - loss: 1.7580 - val_loss: 0.8698\n",
            "Epoch 169/300\n",
            "7/7 [==============================] - 0s 3ms/step - loss: 1.7590 - val_loss: 0.8487\n",
            "Epoch 170/300\n",
            "7/7 [==============================] - 0s 3ms/step - loss: 1.7683 - val_loss: 0.8702\n",
            "Epoch 171/300\n",
            "7/7 [==============================] - 0s 3ms/step - loss: 1.7031 - val_loss: 0.8916\n",
            "Epoch 172/300\n",
            "7/7 [==============================] - 0s 4ms/step - loss: 1.6529 - val_loss: 0.8405\n",
            "Epoch 173/300\n",
            "7/7 [==============================] - 0s 3ms/step - loss: 1.6270 - val_loss: 0.8389\n",
            "Epoch 174/300\n",
            "7/7 [==============================] - 0s 3ms/step - loss: 1.6113 - val_loss: 0.8420\n",
            "Epoch 175/300\n",
            "7/7 [==============================] - 0s 3ms/step - loss: 1.5492 - val_loss: 0.8182\n",
            "Epoch 176/300\n",
            "7/7 [==============================] - 0s 3ms/step - loss: 1.5578 - val_loss: 0.8394\n",
            "Epoch 177/300\n",
            "7/7 [==============================] - 0s 4ms/step - loss: 1.5074 - val_loss: 0.8122\n",
            "Epoch 178/300\n",
            "7/7 [==============================] - 0s 3ms/step - loss: 1.4913 - val_loss: 0.8084\n",
            "Epoch 179/300\n",
            "7/7 [==============================] - 0s 3ms/step - loss: 1.4967 - val_loss: 0.8304\n",
            "Epoch 180/300\n",
            "7/7 [==============================] - 0s 3ms/step - loss: 1.4280 - val_loss: 0.8087\n",
            "Epoch 181/300\n",
            "7/7 [==============================] - 0s 3ms/step - loss: 1.3979 - val_loss: 0.8081\n",
            "Epoch 182/300\n",
            "7/7 [==============================] - 0s 3ms/step - loss: 1.4023 - val_loss: 0.8019\n",
            "Epoch 183/300\n",
            "7/7 [==============================] - 0s 3ms/step - loss: 1.3497 - val_loss: 0.8013\n",
            "Epoch 184/300\n",
            "7/7 [==============================] - 0s 3ms/step - loss: 1.3206 - val_loss: 0.8140\n",
            "Epoch 185/300\n",
            "7/7 [==============================] - 0s 3ms/step - loss: 1.2949 - val_loss: 0.7912\n",
            "Epoch 186/300\n",
            "7/7 [==============================] - 0s 3ms/step - loss: 1.3107 - val_loss: 0.7930\n",
            "Epoch 187/300\n",
            "7/7 [==============================] - 0s 3ms/step - loss: 1.2608 - val_loss: 0.8119\n",
            "Epoch 188/300\n",
            "7/7 [==============================] - 0s 3ms/step - loss: 1.2252 - val_loss: 0.7818\n",
            "Epoch 189/300\n",
            "7/7 [==============================] - 0s 3ms/step - loss: 1.2110 - val_loss: 0.7851\n",
            "Epoch 190/300\n",
            "7/7 [==============================] - 0s 3ms/step - loss: 1.2078 - val_loss: 0.7840\n",
            "Epoch 191/300\n",
            "7/7 [==============================] - 0s 3ms/step - loss: 1.1650 - val_loss: 0.7723\n",
            "Epoch 192/300\n",
            "7/7 [==============================] - 0s 3ms/step - loss: 1.1466 - val_loss: 0.7727\n",
            "Epoch 193/300\n",
            "7/7 [==============================] - 0s 3ms/step - loss: 1.1778 - val_loss: 0.7702\n",
            "Epoch 194/300\n",
            "7/7 [==============================] - 0s 3ms/step - loss: 1.1439 - val_loss: 0.7817\n",
            "Epoch 195/300\n",
            "7/7 [==============================] - 0s 3ms/step - loss: 1.0899 - val_loss: 0.7832\n",
            "Epoch 196/300\n",
            "7/7 [==============================] - 0s 3ms/step - loss: 1.1040 - val_loss: 0.7597\n",
            "Epoch 197/300\n",
            "7/7 [==============================] - 0s 3ms/step - loss: 1.0475 - val_loss: 0.7813\n",
            "Epoch 198/300\n",
            "7/7 [==============================] - 0s 3ms/step - loss: 1.0584 - val_loss: 0.7494\n",
            "Epoch 199/300\n",
            "7/7 [==============================] - 0s 3ms/step - loss: 1.0340 - val_loss: 0.7545\n",
            "Epoch 200/300\n",
            "7/7 [==============================] - 0s 3ms/step - loss: 1.0113 - val_loss: 0.7442\n",
            "Epoch 201/300\n",
            "7/7 [==============================] - 0s 3ms/step - loss: 0.9848 - val_loss: 0.7392\n",
            "Epoch 202/300\n",
            "7/7 [==============================] - 0s 3ms/step - loss: 0.9964 - val_loss: 0.7373\n",
            "Epoch 203/300\n",
            "7/7 [==============================] - 0s 4ms/step - loss: 0.9604 - val_loss: 0.7378\n",
            "Epoch 204/300\n",
            "7/7 [==============================] - 0s 3ms/step - loss: 0.9571 - val_loss: 0.7342\n",
            "Epoch 205/300\n",
            "7/7 [==============================] - 0s 3ms/step - loss: 1.0279 - val_loss: 0.7271\n",
            "Epoch 206/300\n",
            "7/7 [==============================] - 0s 3ms/step - loss: 0.9873 - val_loss: 0.7758\n",
            "Epoch 207/300\n",
            "7/7 [==============================] - 0s 3ms/step - loss: 0.9362 - val_loss: 0.7259\n",
            "Epoch 208/300\n",
            "7/7 [==============================] - 0s 3ms/step - loss: 0.8835 - val_loss: 0.7391\n",
            "Epoch 209/300\n",
            "7/7 [==============================] - 0s 3ms/step - loss: 0.8771 - val_loss: 0.7184\n",
            "Epoch 210/300\n",
            "7/7 [==============================] - 0s 3ms/step - loss: 0.8696 - val_loss: 0.7360\n",
            "Epoch 211/300\n",
            "7/7 [==============================] - 0s 3ms/step - loss: 0.8511 - val_loss: 0.7211\n",
            "Epoch 212/300\n",
            "7/7 [==============================] - 0s 3ms/step - loss: 0.8358 - val_loss: 0.7129\n",
            "Epoch 213/300\n",
            "7/7 [==============================] - 0s 3ms/step - loss: 0.8660 - val_loss: 0.7203\n",
            "Epoch 214/300\n",
            "7/7 [==============================] - 0s 3ms/step - loss: 0.8589 - val_loss: 0.7063\n",
            "Epoch 215/300\n",
            "7/7 [==============================] - 0s 3ms/step - loss: 0.7841 - val_loss: 0.7474\n",
            "Epoch 216/300\n",
            "7/7 [==============================] - 0s 4ms/step - loss: 0.7960 - val_loss: 0.7044\n",
            "Epoch 217/300\n",
            "7/7 [==============================] - 0s 3ms/step - loss: 0.7776 - val_loss: 0.7021\n",
            "Epoch 218/300\n",
            "7/7 [==============================] - 0s 4ms/step - loss: 0.7618 - val_loss: 0.6968\n",
            "Epoch 219/300\n",
            "7/7 [==============================] - 0s 4ms/step - loss: 0.7613 - val_loss: 0.6968\n",
            "Epoch 220/300\n",
            "7/7 [==============================] - 0s 3ms/step - loss: 0.7603 - val_loss: 0.6985\n",
            "Epoch 221/300\n",
            "7/7 [==============================] - 0s 3ms/step - loss: 0.7352 - val_loss: 0.6940\n",
            "Epoch 222/300\n",
            "7/7 [==============================] - 0s 3ms/step - loss: 0.7435 - val_loss: 0.6818\n",
            "Epoch 223/300\n",
            "7/7 [==============================] - 0s 3ms/step - loss: 0.7222 - val_loss: 0.6793\n",
            "Epoch 224/300\n",
            "7/7 [==============================] - 0s 3ms/step - loss: 0.6958 - val_loss: 0.6859\n",
            "Epoch 225/300\n",
            "7/7 [==============================] - 0s 3ms/step - loss: 0.6976 - val_loss: 0.6769\n",
            "Epoch 226/300\n",
            "7/7 [==============================] - 0s 4ms/step - loss: 0.6833 - val_loss: 0.6709\n",
            "Epoch 227/300\n",
            "7/7 [==============================] - 0s 4ms/step - loss: 0.6924 - val_loss: 0.6694\n",
            "Epoch 228/300\n",
            "7/7 [==============================] - 0s 4ms/step - loss: 0.6799 - val_loss: 0.6656\n",
            "Epoch 229/300\n",
            "7/7 [==============================] - 0s 4ms/step - loss: 0.6483 - val_loss: 0.6978\n",
            "Epoch 230/300\n",
            "7/7 [==============================] - 0s 4ms/step - loss: 0.6618 - val_loss: 0.6607\n",
            "Epoch 231/300\n",
            "7/7 [==============================] - 0s 3ms/step - loss: 0.6539 - val_loss: 0.6602\n",
            "Epoch 232/300\n",
            "7/7 [==============================] - 0s 3ms/step - loss: 0.6370 - val_loss: 0.6637\n",
            "Epoch 233/300\n",
            "7/7 [==============================] - 0s 4ms/step - loss: 0.6669 - val_loss: 0.6533\n",
            "Epoch 234/300\n",
            "7/7 [==============================] - 0s 3ms/step - loss: 0.6413 - val_loss: 0.6509\n",
            "Epoch 235/300\n",
            "7/7 [==============================] - 0s 3ms/step - loss: 0.6248 - val_loss: 0.6663\n",
            "Epoch 236/300\n",
            "7/7 [==============================] - 0s 3ms/step - loss: 0.6428 - val_loss: 0.6489\n",
            "Epoch 237/300\n",
            "7/7 [==============================] - 0s 3ms/step - loss: 0.6479 - val_loss: 0.6894\n",
            "Epoch 238/300\n",
            "7/7 [==============================] - 0s 3ms/step - loss: 0.6423 - val_loss: 0.6486\n",
            "Epoch 239/300\n",
            "7/7 [==============================] - 0s 3ms/step - loss: 0.5728 - val_loss: 0.6779\n",
            "Epoch 240/300\n",
            "7/7 [==============================] - 0s 3ms/step - loss: 0.6061 - val_loss: 0.6387\n",
            "Epoch 241/300\n",
            "7/7 [==============================] - 0s 3ms/step - loss: 0.5717 - val_loss: 0.6561\n",
            "Epoch 242/300\n",
            "7/7 [==============================] - 0s 3ms/step - loss: 0.5834 - val_loss: 0.6338\n",
            "Epoch 243/300\n",
            "7/7 [==============================] - 0s 3ms/step - loss: 0.5665 - val_loss: 0.6382\n",
            "Epoch 244/300\n",
            "7/7 [==============================] - 0s 3ms/step - loss: 0.6223 - val_loss: 0.6307\n",
            "Epoch 245/300\n",
            "7/7 [==============================] - 0s 3ms/step - loss: 0.5657 - val_loss: 0.6251\n",
            "Epoch 246/300\n",
            "7/7 [==============================] - 0s 3ms/step - loss: 0.5439 - val_loss: 0.6296\n",
            "Epoch 247/300\n",
            "7/7 [==============================] - 0s 5ms/step - loss: 0.5381 - val_loss: 0.6265\n",
            "Epoch 248/300\n",
            "7/7 [==============================] - 0s 3ms/step - loss: 0.5313 - val_loss: 0.6173\n",
            "Epoch 249/300\n",
            "7/7 [==============================] - 0s 3ms/step - loss: 0.5314 - val_loss: 0.6212\n",
            "Epoch 250/300\n",
            "7/7 [==============================] - 0s 3ms/step - loss: 0.5272 - val_loss: 0.6122\n",
            "Epoch 251/300\n",
            "7/7 [==============================] - 0s 3ms/step - loss: 0.5358 - val_loss: 0.6302\n",
            "Epoch 252/300\n",
            "7/7 [==============================] - 0s 4ms/step - loss: 0.5418 - val_loss: 0.6073\n",
            "Epoch 253/300\n",
            "7/7 [==============================] - 0s 3ms/step - loss: 0.5187 - val_loss: 0.6268\n",
            "Epoch 254/300\n",
            "7/7 [==============================] - 0s 3ms/step - loss: 0.5096 - val_loss: 0.6065\n",
            "Epoch 255/300\n",
            "7/7 [==============================] - 0s 3ms/step - loss: 0.5116 - val_loss: 0.6227\n",
            "Epoch 256/300\n",
            "7/7 [==============================] - 0s 3ms/step - loss: 0.5032 - val_loss: 0.5975\n",
            "Epoch 257/300\n",
            "7/7 [==============================] - 0s 3ms/step - loss: 0.5141 - val_loss: 0.6098\n",
            "Epoch 258/300\n",
            "7/7 [==============================] - 0s 3ms/step - loss: 0.5100 - val_loss: 0.5963\n",
            "Epoch 259/300\n",
            "7/7 [==============================] - 0s 3ms/step - loss: 0.4960 - val_loss: 0.5923\n",
            "Epoch 260/300\n",
            "7/7 [==============================] - 0s 3ms/step - loss: 0.4885 - val_loss: 0.6060\n",
            "Epoch 261/300\n",
            "7/7 [==============================] - 0s 3ms/step - loss: 0.4875 - val_loss: 0.5885\n",
            "Epoch 262/300\n",
            "7/7 [==============================] - 0s 3ms/step - loss: 0.4966 - val_loss: 0.5872\n",
            "Epoch 263/300\n",
            "7/7 [==============================] - 0s 3ms/step - loss: 0.4868 - val_loss: 0.5886\n",
            "Epoch 264/300\n",
            "7/7 [==============================] - 0s 3ms/step - loss: 0.4781 - val_loss: 0.5787\n",
            "Epoch 265/300\n",
            "7/7 [==============================] - 0s 3ms/step - loss: 0.4728 - val_loss: 0.5772\n",
            "Epoch 266/300\n",
            "7/7 [==============================] - 0s 4ms/step - loss: 0.4702 - val_loss: 0.5919\n",
            "Epoch 267/300\n",
            "7/7 [==============================] - 0s 3ms/step - loss: 0.4710 - val_loss: 0.5756\n",
            "Epoch 268/300\n",
            "7/7 [==============================] - 0s 3ms/step - loss: 0.4718 - val_loss: 0.5743\n",
            "Epoch 269/300\n",
            "7/7 [==============================] - 0s 3ms/step - loss: 0.4794 - val_loss: 0.5685\n",
            "Epoch 270/300\n",
            "7/7 [==============================] - 0s 3ms/step - loss: 0.4773 - val_loss: 0.5662\n",
            "Epoch 271/300\n",
            "7/7 [==============================] - 0s 3ms/step - loss: 0.4704 - val_loss: 0.5673\n",
            "Epoch 272/300\n",
            "7/7 [==============================] - 0s 3ms/step - loss: 0.4590 - val_loss: 0.5616\n",
            "Epoch 273/300\n",
            "7/7 [==============================] - 0s 3ms/step - loss: 0.4999 - val_loss: 0.5666\n",
            "Epoch 274/300\n",
            "7/7 [==============================] - 0s 3ms/step - loss: 0.4861 - val_loss: 0.5541\n",
            "Epoch 275/300\n",
            "7/7 [==============================] - 0s 3ms/step - loss: 0.4621 - val_loss: 0.5528\n",
            "Epoch 276/300\n",
            "7/7 [==============================] - 0s 3ms/step - loss: 0.4350 - val_loss: 0.5791\n",
            "Epoch 277/300\n",
            "7/7 [==============================] - 0s 3ms/step - loss: 0.4321 - val_loss: 0.5530\n",
            "Epoch 278/300\n",
            "7/7 [==============================] - 0s 3ms/step - loss: 0.4276 - val_loss: 0.5733\n",
            "Epoch 279/300\n",
            "7/7 [==============================] - 0s 3ms/step - loss: 0.4454 - val_loss: 0.5480\n",
            "Epoch 280/300\n",
            "7/7 [==============================] - 0s 3ms/step - loss: 0.4301 - val_loss: 0.5472\n",
            "Epoch 281/300\n",
            "7/7 [==============================] - 0s 3ms/step - loss: 0.4207 - val_loss: 0.5505\n",
            "Epoch 282/300\n",
            "7/7 [==============================] - 0s 3ms/step - loss: 0.4506 - val_loss: 0.5424\n",
            "Epoch 283/300\n",
            "7/7 [==============================] - 0s 4ms/step - loss: 0.4454 - val_loss: 0.5394\n",
            "Epoch 284/300\n",
            "7/7 [==============================] - 0s 3ms/step - loss: 0.4030 - val_loss: 0.5421\n",
            "Epoch 285/300\n",
            "7/7 [==============================] - 0s 3ms/step - loss: 0.4572 - val_loss: 0.5483\n",
            "Epoch 286/300\n",
            "7/7 [==============================] - 0s 3ms/step - loss: 0.4143 - val_loss: 0.5324\n",
            "Epoch 287/300\n",
            "7/7 [==============================] - 0s 3ms/step - loss: 0.3994 - val_loss: 0.5433\n",
            "Epoch 288/300\n",
            "7/7 [==============================] - 0s 3ms/step - loss: 0.4072 - val_loss: 0.5278\n",
            "Epoch 289/300\n",
            "7/7 [==============================] - 0s 4ms/step - loss: 0.3979 - val_loss: 0.5223\n",
            "Epoch 290/300\n",
            "7/7 [==============================] - 0s 4ms/step - loss: 0.4025 - val_loss: 0.5266\n",
            "Epoch 291/300\n",
            "7/7 [==============================] - 0s 4ms/step - loss: 0.3994 - val_loss: 0.5181\n",
            "Epoch 292/300\n",
            "7/7 [==============================] - 0s 4ms/step - loss: 0.3930 - val_loss: 0.5154\n",
            "Epoch 293/300\n",
            "7/7 [==============================] - 0s 3ms/step - loss: 0.3836 - val_loss: 0.5202\n",
            "Epoch 294/300\n",
            "7/7 [==============================] - 0s 3ms/step - loss: 0.3800 - val_loss: 0.5109\n",
            "Epoch 295/300\n",
            "7/7 [==============================] - 0s 3ms/step - loss: 0.3956 - val_loss: 0.5100\n",
            "Epoch 296/300\n",
            "7/7 [==============================] - 0s 3ms/step - loss: 0.4017 - val_loss: 0.5069\n",
            "Epoch 297/300\n",
            "7/7 [==============================] - 0s 3ms/step - loss: 0.4507 - val_loss: 0.5056\n",
            "Epoch 298/300\n",
            "7/7 [==============================] - 0s 3ms/step - loss: 0.4718 - val_loss: 0.5227\n",
            "Epoch 299/300\n",
            "7/7 [==============================] - 0s 3ms/step - loss: 0.4312 - val_loss: 0.5009\n",
            "Epoch 300/300\n",
            "7/7 [==============================] - 0s 3ms/step - loss: 0.3765 - val_loss: 0.4975\n"
          ],
          "name": "stdout"
        }
      ]
    },
    {
      "cell_type": "code",
      "metadata": {
        "id": "d-2PQVZMjBam",
        "colab_type": "code",
        "colab": {
          "base_uri": "https://localhost:8080/",
          "height": 279
        },
        "outputId": "3e49f4a6-15a9-46e5-c9e4-19e9b4e46045"
      },
      "source": [
        "training_loss = h.history['loss']\n",
        "test_loss = h.history['val_loss']\n",
        "\n",
        "# Create count of the number of epochs\n",
        "epoch_count = range(1, len(training_loss) + 1)\n",
        "# Visualize loss history\n",
        "plt.plot(epoch_count, training_loss, 'r--')\n",
        "plt.plot(epoch_count, test_loss, 'b-')\n",
        "plt.legend(['Training Loss', 'Test Loss'])\n",
        "plt.xlabel('Epoch')\n",
        "plt.ylabel('Loss')\n",
        "plt.show();"
      ],
      "execution_count": 31,
      "outputs": [
        {
          "output_type": "display_data",
          "data": {
            "image/png": "[encoded data removed]",
            "text/plain": [
              "<Figure size 432x288 with 1 Axes>"
            ]
          },
          "metadata": {
            "tags": [],
            "needs_background": "light"
          }
        }
      ]
    }
  ]
}