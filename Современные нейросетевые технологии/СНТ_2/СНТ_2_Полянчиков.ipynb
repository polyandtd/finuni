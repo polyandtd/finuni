{
  "nbformat": 4,
  "nbformat_minor": 0,
  "metadata": {
    "colab": {
      "name": "СНТ_2_Полянчиков.ipynb",
      "provenance": [],
      "collapsed_sections": [
        "ehTK6t490fIt"
      ]
    },
    "kernelspec": {
      "name": "python3",
      "display_name": "Python 3"
    },
    "accelerator": "GPU"
  },
  "cells": [
    {
      "cell_type": "markdown",
      "metadata": {
        "id": "NrUuSrPSX7-i",
        "colab_type": "text"
      },
      "source": [
        "### Задания по лекции 2. Полянчиков Владислав, АБД19-1м"
      ]
    },
    {
      "cell_type": "code",
      "metadata": {
        "id": "aA54hHPxt6jB",
        "colab_type": "code",
        "colab": {
          "base_uri": "https://localhost:8080/",
          "height": 161
        },
        "outputId": "06a87115-4e0a-4afe-cc9b-fca1acc57121"
      },
      "source": [
        "import numpy as np\n",
        "from sklearn.model_selection import train_test_split\n",
        "\n",
        "from PIL import Image\n",
        "import matplotlib.pyplot as plt\n",
        "\n",
        "from tensorflow import keras\n",
        "import keras.layers as layers\n",
        "from keras.datasets import cifar10\n",
        "from tensorflow.keras.models import Sequential\n",
        "from tensorflow.keras.layers import Dense, Flatten, Conv2D, Dropout, MaxPooling2D\n",
        "from keras.optimizers import SGD\n",
        "\n",
        "import tensorflow as tf\n",
        "device_name = tf.test.gpu_device_name()\n",
        "if device_name != '/device:GPU:0':\n",
        "  raise SystemError('GPU device not found')\n",
        "print('Found GPU at: {}'.format(device_name))\n",
        "\n",
        "from google.colab import drive\n",
        "drive.mount('/content/gdrive')\n",
        "\n",
        "from tensorflow.keras.models import load_model\n",
        "model = load_model('./gdrive/My Drive/finuni/SNT/my_conv_model') # загрузка сохраненнлй модели\n",
        "#model.save('./gdrive/My Drive/finuni/SNT/my_conv_model')\n",
        "\n",
        "\n",
        "print(\"Setup Complete\")"
      ],
      "execution_count": 1,
      "outputs": [
        {
          "output_type": "stream",
          "text": [
            "Found GPU at: /device:GPU:0\n",
            "Go to this URL in a browser: https://accounts.google.com/o/oauth2/auth?client_id=947318989803-6bn6qk8qdgf4n4g3pfee6491hc0brc4i.apps.googleusercontent.com&redirect_uri=urn%3aietf%3awg%3aoauth%3a2.0%3aoob&scope=email%20https%3a%2f%2fwww.googleapis.com%2fauth%2fdocs.test%20https%3a%2f%2fwww.googleapis.com%2fauth%2fdrive%20https%3a%2f%2fwww.googleapis.com%2fauth%2fdrive.photos.readonly%20https%3a%2f%2fwww.googleapis.com%2fauth%2fpeopleapi.readonly&response_type=code\n",
            "\n",
            "Enter your authorization code:\n",
            "4/4AG9YElTi3NjkndrU5KXOa3QuYnKp258jfRoIEIqgBPCGQWJ60_PrDA\n",
            "Mounted at /content/gdrive\n",
            "Setup Complete\n"
          ],
          "name": "stdout"
        }
      ]
    },
    {
      "cell_type": "markdown",
      "metadata": {
        "id": "Bxj942c7mre9",
        "colab_type": "text"
      },
      "source": [
        "### Задание 2\n",
        "создайте многослойный персептрон и сверточную сеть для\n",
        "классификации данных fashion_mnist (cifar10), оцените точность полученных\n",
        "результатов и ошибки по классам. Сохраните модель, сохраните\n",
        "наиболее эффективные веса."
      ]
    },
    {
      "cell_type": "markdown",
      "metadata": {
        "id": "Dx6yM7nFnAeV",
        "colab_type": "text"
      },
      "source": [
        "### Задание 3. \n",
        "Продемонстрируйте работу обратных вызовов в процессе обучения"
      ]
    },
    {
      "cell_type": "code",
      "metadata": {
        "id": "T_iCuRk5Lfc1",
        "colab_type": "code",
        "colab": {
          "base_uri": "https://localhost:8080/",
          "height": 35
        },
        "outputId": "a32a80cd-02d5-4c47-9f82-07db3cec3e47"
      },
      "source": [
        "model = load_model('./gdrive/My Drive/finuni/SNT/my_conv_model_nadam')"
      ],
      "execution_count": 2,
      "outputs": [
        {
          "output_type": "execute_result",
          "data": {
            "text/plain": [
              "<tensorflow.python.keras.engine.sequential.Sequential at 0x7f08c3d9c198>"
            ]
          },
          "metadata": {
            "tags": []
          },
          "execution_count": 2
        }
      ]
    },
    {
      "cell_type": "code",
      "metadata": {
        "id": "cE5HpH6N1o20",
        "colab_type": "code",
        "colab": {}
      },
      "source": [
        "(X_train, y_train), (X_test, y_test) = cifar10.load_data()"
      ],
      "execution_count": 12,
      "outputs": []
    },
    {
      "cell_type": "code",
      "metadata": {
        "id": "mLdnl2WI1z41",
        "colab_type": "code",
        "colab": {
          "base_uri": "https://localhost:8080/",
          "height": 284
        },
        "outputId": "b625aff3-8219-4fab-ec35-ff2f40289e8a"
      },
      "source": [
        "idx = 155\n",
        "print(y_train[idx])\n",
        "plt.imshow(X_train[idx]);"
      ],
      "execution_count": 13,
      "outputs": [
        {
          "output_type": "stream",
          "text": [
            "[8]\n"
          ],
          "name": "stdout"
        },
        {
          "output_type": "display_data",
          "data": {
            "image/png": "[encoded data removed]",
            "text/plain": [
              "<Figure size 432x288 with 1 Axes>"
            ]
          },
          "metadata": {
            "tags": [],
            "needs_background": "light"
          }
        }
      ]
    },
    {
      "cell_type": "code",
      "metadata": {
        "id": "Xmb3NTNL12gM",
        "colab_type": "code",
        "colab": {
          "base_uri": "https://localhost:8080/",
          "height": 35
        },
        "outputId": "f6cc42a7-a155-4ba0-fe94-69bb84a168b2"
      },
      "source": [
        "X_train.shape"
      ],
      "execution_count": 14,
      "outputs": [
        {
          "output_type": "execute_result",
          "data": {
            "text/plain": [
              "(50000, 32, 32, 3)"
            ]
          },
          "metadata": {
            "tags": []
          },
          "execution_count": 14
        }
      ]
    },
    {
      "cell_type": "code",
      "metadata": {
        "id": "oNxbpSXM1--w",
        "colab_type": "code",
        "colab": {}
      },
      "source": [
        "np.random.seed(42)"
      ],
      "execution_count": 15,
      "outputs": []
    },
    {
      "cell_type": "code",
      "metadata": {
        "id": "u4qh_pZQ2PgA",
        "colab_type": "code",
        "colab": {}
      },
      "source": [
        "np.random.seed(42)\n",
        "NB_EPOCH = 200 \n",
        "BATCH_SIZE = 128 \n",
        "VERBOSE = 1 \n",
        "NB_CLASSES = 10\n",
        "OPTIMIZER = SGD()\n",
        "N_HIDDEN = 128\n",
        "VALIDATION_SPLIT = 0.2 \n",
        "\n",
        "\n",
        "(X_train, y_train), (X_test, y_test) = cifar10.load_data()\n",
        "X_test2 = X_test.copy()\n",
        "y_test2 = y_test.copy()\n",
        "y_train2 = y_train.copy()\n",
        "# RESHAPED = 784\n",
        "# X_train = X_train.reshape(60000, RESHAPED)\n",
        "# X_test = X_test.reshape(10000, RESHAPED)\n",
        "X_train = X_train.astype('float32')\n",
        "X_test = X_test.astype('float32')\n",
        "\n",
        "X_train /= 255\n",
        "X_test /= 255\n",
        "\n",
        "y_train = keras.utils.to_categorical(y_train, NB_CLASSES)\n",
        "y_test = keras.utils.to_categorical(y_test, NB_CLASSES)"
      ],
      "execution_count": 90,
      "outputs": []
    },
    {
      "cell_type": "code",
      "metadata": {
        "id": "4iPp1abQ2hoR",
        "colab_type": "code",
        "colab": {
          "base_uri": "https://localhost:8080/",
          "height": 35
        },
        "outputId": "9080a710-54df-4ab9-84aa-e9144593df7a"
      },
      "source": [
        "X_train.shape"
      ],
      "execution_count": 17,
      "outputs": [
        {
          "output_type": "execute_result",
          "data": {
            "text/plain": [
              "(50000, 32, 32, 3)"
            ]
          },
          "metadata": {
            "tags": []
          },
          "execution_count": 17
        }
      ]
    },
    {
      "cell_type": "code",
      "metadata": {
        "id": "WBHub90F2R2q",
        "colab_type": "code",
        "colab": {
          "base_uri": "https://localhost:8080/",
          "height": 52
        },
        "outputId": "1c576748-519b-4d42-9e5e-87cce2760201"
      },
      "source": [
        "print(X_train.shape[0], 'train_samples')\n",
        "print(X_test.shape[0], 'test_samples')"
      ],
      "execution_count": 18,
      "outputs": [
        {
          "output_type": "stream",
          "text": [
            "50000 train_samples\n",
            "10000 test_samples\n"
          ],
          "name": "stdout"
        }
      ]
    },
    {
      "cell_type": "code",
      "metadata": {
        "id": "937koJrd2quU",
        "colab_type": "code",
        "colab": {}
      },
      "source": [
        "model = Sequential()\n",
        "keras.Input(shape=(32,32,1)),\n",
        "model.add(Conv2D(128, kernel_size=(3, 3), activation=\"relu\"))\n",
        "model.add(Dropout(0.4))\n",
        "model.add(Conv2D(64, kernel_size=(3, 3), activation=\"relu\"))\n",
        "model.add(MaxPooling2D(pool_size=(2, 2)))\n",
        "model.add(Dropout(0.2))\n",
        "model.add(MaxPooling2D(pool_size=(2, 2)))\n",
        "model.add(Dropout(0.2))\n",
        "model.add(Conv2D(32, kernel_size=(3, 3), activation=\"relu\"))\n",
        "model.add(Flatten())\n",
        "model.add(Dropout(0.2))\n",
        "model.add(Dense(NB_CLASSES, activation='softmax'))"
      ],
      "execution_count": 28,
      "outputs": []
    },
    {
      "cell_type": "markdown",
      "metadata": {
        "id": "4B9u20hjwC7w",
        "colab_type": "text"
      },
      "source": [
        "###### используются параметры выше, но клетка не активирована, так как я перезагружал блокнот, чтобы переставить на GPU для более быстрого обучения. После загрузил предварительно сохраненную модель из google drive"
      ]
    },
    {
      "cell_type": "code",
      "metadata": {
        "id": "2E9u2Ldk2-ao",
        "colab_type": "code",
        "colab": {
          "base_uri": "https://localhost:8080/",
          "height": 624
        },
        "outputId": "2f763b99-b156-40a0-eb32-bf2ebddba14e"
      },
      "source": [
        "callback = keras.callbacks.EarlyStopping(monitor='loss', patience=3)\n",
        "model.compile(loss='categorical_crossentropy', optimizer='nadam', metrics='accuracy')\n",
        "\n",
        "model.fit(X_train, y_train, batch_size=250, epochs=15, verbose = 1, callbacks=[callback], validation_split=0.3)"
      ],
      "execution_count": 29,
      "outputs": [
        {
          "output_type": "stream",
          "text": [
            "Epoch 1/15\n",
            "  2/140 [..............................] - ETA: 6s - loss: 2.3332 - accuracy: 0.1000WARNING:tensorflow:Callbacks method `on_train_batch_end` is slow compared to the batch time (batch time: 0.0114s vs `on_train_batch_end` time: 0.0760s). Check your callbacks.\n",
            "140/140 [==============================] - ETA: 0s - loss: 1.9641 - accuracy: 0.2812WARNING:tensorflow:Callbacks method `on_test_batch_end` is slow compared to the batch time (batch time: 0.0027s vs `on_test_batch_end` time: 0.0112s). Check your callbacks.\n",
            "140/140 [==============================] - 11s 77ms/step - loss: 1.9641 - accuracy: 0.2812 - val_loss: 1.6979 - val_accuracy: 0.4083\n",
            "Epoch 2/15\n",
            "140/140 [==============================] - 10s 74ms/step - loss: 1.5447 - accuracy: 0.4444 - val_loss: 1.4569 - val_accuracy: 0.5015\n",
            "Epoch 3/15\n",
            "140/140 [==============================] - 10s 74ms/step - loss: 1.3903 - accuracy: 0.5054 - val_loss: 1.3539 - val_accuracy: 0.5384\n",
            "Epoch 4/15\n",
            "140/140 [==============================] - 10s 74ms/step - loss: 1.2851 - accuracy: 0.5421 - val_loss: 1.2275 - val_accuracy: 0.5839\n",
            "Epoch 5/15\n",
            "140/140 [==============================] - 10s 74ms/step - loss: 1.2105 - accuracy: 0.5706 - val_loss: 1.1587 - val_accuracy: 0.6087\n",
            "Epoch 6/15\n",
            "140/140 [==============================] - 10s 75ms/step - loss: 1.1378 - accuracy: 0.5953 - val_loss: 1.1343 - val_accuracy: 0.6139\n",
            "Epoch 7/15\n",
            "140/140 [==============================] - 10s 74ms/step - loss: 1.0944 - accuracy: 0.6130 - val_loss: 1.0596 - val_accuracy: 0.6401\n",
            "Epoch 8/15\n",
            "140/140 [==============================] - 10s 74ms/step - loss: 1.0485 - accuracy: 0.6302 - val_loss: 1.0314 - val_accuracy: 0.6478\n",
            "Epoch 9/15\n",
            "140/140 [==============================] - 10s 75ms/step - loss: 1.0089 - accuracy: 0.6455 - val_loss: 1.0017 - val_accuracy: 0.6670\n",
            "Epoch 10/15\n",
            "140/140 [==============================] - 10s 75ms/step - loss: 0.9766 - accuracy: 0.6561 - val_loss: 0.9544 - val_accuracy: 0.6760\n",
            "Epoch 11/15\n",
            "140/140 [==============================] - 10s 74ms/step - loss: 0.9491 - accuracy: 0.6665 - val_loss: 0.9303 - val_accuracy: 0.6841\n",
            "Epoch 12/15\n",
            "140/140 [==============================] - 10s 74ms/step - loss: 0.9228 - accuracy: 0.6765 - val_loss: 0.9049 - val_accuracy: 0.6965\n",
            "Epoch 13/15\n",
            "140/140 [==============================] - 10s 74ms/step - loss: 0.8970 - accuracy: 0.6850 - val_loss: 0.9228 - val_accuracy: 0.6888\n",
            "Epoch 14/15\n",
            "140/140 [==============================] - 10s 74ms/step - loss: 0.8793 - accuracy: 0.6931 - val_loss: 0.8627 - val_accuracy: 0.7069\n",
            "Epoch 15/15\n",
            "140/140 [==============================] - 10s 74ms/step - loss: 0.8633 - accuracy: 0.6995 - val_loss: 0.8518 - val_accuracy: 0.7112\n"
          ],
          "name": "stdout"
        },
        {
          "output_type": "execute_result",
          "data": {
            "text/plain": [
              "<tensorflow.python.keras.callbacks.History at 0x7f4098bd3898>"
            ]
          },
          "metadata": {
            "tags": []
          },
          "execution_count": 29
        }
      ]
    },
    {
      "cell_type": "markdown",
      "metadata": {
        "id": "ehTK6t490fIt",
        "colab_type": "text"
      },
      "source": [
        "###### После первых 15 эпох результат был в районе 20-30 % (SGD)\n",
        "###### С Адамом - около 70%\n",
        "###### С Адамом + Нестеровым - 71%"
      ]
    },
    {
      "cell_type": "code",
      "metadata": {
        "id": "h8R8ZmyyvLCy",
        "colab_type": "code",
        "colab": {}
      },
      "source": [
        "model.fit(X_train, y_train, batch_size=150, epochs=30, verbose = 1, callbacks=[callback], validation_split=0.3)"
      ],
      "execution_count": null,
      "outputs": []
    },
    {
      "cell_type": "code",
      "metadata": {
        "id": "j9WiRtVzvhec",
        "colab_type": "code",
        "colab": {}
      },
      "source": [
        "model.fit(X_train, y_train, batch_size=100, epochs=30, verbose = 1, callbacks=[callback], validation_split=0.3)"
      ],
      "execution_count": null,
      "outputs": []
    },
    {
      "cell_type": "code",
      "metadata": {
        "id": "i3FmuuUMwt6t",
        "colab_type": "code",
        "colab": {}
      },
      "source": [
        "callback = keras.callbacks.EarlyStopping(monitor='loss', patience=5)\n",
        "model.fit(X_train, y_train, batch_size=250, epochs=30, verbose = 1, callbacks=[callback], validation_split=0.3)"
      ],
      "execution_count": null,
      "outputs": []
    },
    {
      "cell_type": "markdown",
      "metadata": {
        "id": "5WZBopmOKXxa",
        "colab_type": "text"
      },
      "source": [
        "##### Первый callback!"
      ]
    },
    {
      "cell_type": "code",
      "metadata": {
        "id": "AY8XmwmlxRhQ",
        "colab_type": "code",
        "colab": {
          "base_uri": "https://localhost:8080/",
          "height": 888
        },
        "outputId": "9257d359-1a53-4294-f056-4502f6eb4377"
      },
      "source": [
        "model.fit(X_train, y_train, batch_size=500, epochs=30, verbose = 1, callbacks=[callback], validation_split=0.3)"
      ],
      "execution_count": 34,
      "outputs": [
        {
          "output_type": "stream",
          "text": [
            "Epoch 1/30\n",
            "70/70 [==============================] - 9s 133ms/step - loss: 0.5128 - accuracy: 0.8167 - val_loss: 0.6458 - val_accuracy: 0.7775\n",
            "Epoch 2/30\n",
            "70/70 [==============================] - 9s 131ms/step - loss: 0.5115 - accuracy: 0.8162 - val_loss: 0.6362 - val_accuracy: 0.7801\n",
            "Epoch 3/30\n",
            "70/70 [==============================] - 9s 131ms/step - loss: 0.5034 - accuracy: 0.8191 - val_loss: 0.6345 - val_accuracy: 0.7807\n",
            "Epoch 4/30\n",
            "70/70 [==============================] - 9s 131ms/step - loss: 0.5072 - accuracy: 0.8199 - val_loss: 0.6343 - val_accuracy: 0.7808\n",
            "Epoch 5/30\n",
            "70/70 [==============================] - 9s 131ms/step - loss: 0.5027 - accuracy: 0.8217 - val_loss: 0.6315 - val_accuracy: 0.7821\n",
            "Epoch 6/30\n",
            "70/70 [==============================] - 9s 131ms/step - loss: 0.5048 - accuracy: 0.8200 - val_loss: 0.6383 - val_accuracy: 0.7788\n",
            "Epoch 7/30\n",
            "70/70 [==============================] - 9s 131ms/step - loss: 0.5031 - accuracy: 0.8200 - val_loss: 0.6378 - val_accuracy: 0.7805\n",
            "Epoch 8/30\n",
            "70/70 [==============================] - 9s 131ms/step - loss: 0.5045 - accuracy: 0.8217 - val_loss: 0.6382 - val_accuracy: 0.7791\n",
            "Epoch 9/30\n",
            "70/70 [==============================] - 9s 131ms/step - loss: 0.5049 - accuracy: 0.8193 - val_loss: 0.6381 - val_accuracy: 0.7803\n",
            "Epoch 10/30\n",
            "70/70 [==============================] - 9s 131ms/step - loss: 0.5015 - accuracy: 0.8197 - val_loss: 0.6376 - val_accuracy: 0.7788\n",
            "Epoch 11/30\n",
            "70/70 [==============================] - 9s 131ms/step - loss: 0.5048 - accuracy: 0.8191 - val_loss: 0.6338 - val_accuracy: 0.7801\n",
            "Epoch 12/30\n",
            "70/70 [==============================] - 9s 131ms/step - loss: 0.5102 - accuracy: 0.8187 - val_loss: 0.6378 - val_accuracy: 0.7809\n",
            "Epoch 13/30\n",
            "70/70 [==============================] - 9s 131ms/step - loss: 0.5006 - accuracy: 0.8221 - val_loss: 0.6329 - val_accuracy: 0.7839\n",
            "Epoch 14/30\n",
            "70/70 [==============================] - 9s 132ms/step - loss: 0.5042 - accuracy: 0.8195 - val_loss: 0.6310 - val_accuracy: 0.7846\n",
            "Epoch 15/30\n",
            "70/70 [==============================] - 9s 131ms/step - loss: 0.5009 - accuracy: 0.8230 - val_loss: 0.6284 - val_accuracy: 0.7865\n",
            "Epoch 16/30\n",
            "70/70 [==============================] - 9s 131ms/step - loss: 0.5063 - accuracy: 0.8203 - val_loss: 0.6261 - val_accuracy: 0.7841\n",
            "Epoch 17/30\n",
            "70/70 [==============================] - 9s 131ms/step - loss: 0.5053 - accuracy: 0.8205 - val_loss: 0.6394 - val_accuracy: 0.7789\n",
            "Epoch 18/30\n",
            "70/70 [==============================] - 9s 131ms/step - loss: 0.4984 - accuracy: 0.8240 - val_loss: 0.6386 - val_accuracy: 0.7823\n",
            "Epoch 19/30\n",
            "70/70 [==============================] - 9s 131ms/step - loss: 0.4960 - accuracy: 0.8236 - val_loss: 0.6406 - val_accuracy: 0.7803\n",
            "Epoch 20/30\n",
            "70/70 [==============================] - 9s 131ms/step - loss: 0.5033 - accuracy: 0.8197 - val_loss: 0.6359 - val_accuracy: 0.7801\n",
            "Epoch 21/30\n",
            "70/70 [==============================] - 9s 131ms/step - loss: 0.4985 - accuracy: 0.8221 - val_loss: 0.6371 - val_accuracy: 0.7807\n",
            "Epoch 22/30\n",
            "70/70 [==============================] - 9s 131ms/step - loss: 0.5019 - accuracy: 0.8199 - val_loss: 0.6304 - val_accuracy: 0.7855\n",
            "Epoch 23/30\n",
            "70/70 [==============================] - 9s 131ms/step - loss: 0.4999 - accuracy: 0.8209 - val_loss: 0.6346 - val_accuracy: 0.7811\n",
            "Epoch 24/30\n",
            "70/70 [==============================] - 9s 131ms/step - loss: 0.4983 - accuracy: 0.8219 - val_loss: 0.6288 - val_accuracy: 0.7841\n"
          ],
          "name": "stdout"
        },
        {
          "output_type": "execute_result",
          "data": {
            "text/plain": [
              "<tensorflow.python.keras.callbacks.History at 0x7f4094f05518>"
            ]
          },
          "metadata": {
            "tags": []
          },
          "execution_count": 34
        }
      ]
    },
    {
      "cell_type": "markdown",
      "metadata": {
        "id": "87glZVUr1Hh2",
        "colab_type": "text"
      },
      "source": [
        "###### Кажется, выжали максимум. Можно сохранять.\n",
        "Лучший результат на валидационной выборке - 77.07% (с оптимизатором SGD. Сейчас на том же месте прогоню с Адамом)\n",
        "\n",
        "По итогу, Адам обучался быстрее, однако добился несколько худшего результата на валидационной выборке при прочих равных - 76.83%\n",
        "\n",
        "Модель с оптимизатором Адама-Нестерова обучалась гораздо быстрее обеих предыдущих. Также быстрее случился первый коллбэк. Однако модель со временем начала переобучаться (я слегка изменил значения Дропаута). Имеет однозначно лучший показатель по потерям (vby 0.496 против 0.65 Адама), а также все показатели accuracy 82.4 % на train и 78.65 % на валидационной!"
      ]
    },
    {
      "cell_type": "code",
      "metadata": {
        "id": "fogYP1rleTsG",
        "colab_type": "code",
        "colab": {
          "base_uri": "https://localhost:8080/",
          "height": 35
        },
        "outputId": "9156ff38-030b-40aa-c104-ce0f9c7339c9"
      },
      "source": [
        "model.save('./gdrive/My Drive/finuni/SNT/my_conv_model_nadam')"
      ],
      "execution_count": 35,
      "outputs": [
        {
          "output_type": "stream",
          "text": [
            "INFO:tensorflow:Assets written to: ./gdrive/My Drive/finuni/SNT/my_conv_model_nadam/assets\n"
          ],
          "name": "stdout"
        }
      ]
    },
    {
      "cell_type": "code",
      "metadata": {
        "id": "7rCy_kYKTz0G",
        "colab_type": "code",
        "colab": {}
      },
      "source": [
        "model_adam = load_model('./gdrive/My Drive/finuni/SNT/my_conv_model_adam')\n",
        "model = load_model('./gdrive/My Drive/finuni/SNT/my_conv_model')"
      ],
      "execution_count": 136,
      "outputs": []
    },
    {
      "cell_type": "code",
      "metadata": {
        "id": "A_-Cef4wUXVu",
        "colab_type": "code",
        "colab": {}
      },
      "source": [
        "np.random.seed(50)\n",
        "pred_nadam = model.predict(X_test)\n",
        "pred_adam = model_adam.predict(X_test)\n",
        "pred_model1 = model1.predict(X_test)\n",
        "\n",
        "pred_nadam = [np.argmax(i) for i in pred_nadam]\n",
        "pred_adam = [np.argmax(i) for i in pred_adam]\n",
        "pred_model1 = [np.argmax(i) for i in pred_model1]"
      ],
      "execution_count": 137,
      "outputs": []
    },
    {
      "cell_type": "code",
      "metadata": {
        "id": "p9ACC69ma_TF",
        "colab_type": "code",
        "colab": {
          "base_uri": "https://localhost:8080/",
          "height": 141
        },
        "outputId": "ba7aeb9c-f7c2-4cbb-dc70-6abc3a12d97d"
      },
      "source": [
        "y_train2"
      ],
      "execution_count": 138,
      "outputs": [
        {
          "output_type": "execute_result",
          "data": {
            "text/plain": [
              "array([[6],\n",
              "       [9],\n",
              "       [9],\n",
              "       ...,\n",
              "       [9],\n",
              "       [1],\n",
              "       [1]], dtype=uint8)"
            ]
          },
          "metadata": {
            "tags": []
          },
          "execution_count": 138
        }
      ]
    },
    {
      "cell_type": "code",
      "metadata": {
        "id": "bjOm3wE8Vpk2",
        "colab_type": "code",
        "colab": {
          "base_uri": "https://localhost:8080/",
          "height": 141
        },
        "outputId": "a17811c0-2843-4e57-f566-e2e280bfb690"
      },
      "source": [
        "y_test2"
      ],
      "execution_count": 139,
      "outputs": [
        {
          "output_type": "execute_result",
          "data": {
            "text/plain": [
              "array([[3],\n",
              "       [8],\n",
              "       [8],\n",
              "       ...,\n",
              "       [5],\n",
              "       [1],\n",
              "       [7]], dtype=uint8)"
            ]
          },
          "metadata": {
            "tags": []
          },
          "execution_count": 139
        }
      ]
    },
    {
      "cell_type": "code",
      "metadata": {
        "id": "MuvLDzKhUm8b",
        "colab_type": "code",
        "colab": {}
      },
      "source": [
        "from sklearn.metrics import accuracy_score\n",
        "nadam_score = accuracy_score(pred_nadam, y_test2)\n",
        "adam_score = accuracy_score(pred_adam, y_test2)\n",
        "model1_score = accuracy_score(pred_model1, y_test2)"
      ],
      "execution_count": 140,
      "outputs": []
    },
    {
      "cell_type": "code",
      "metadata": {
        "id": "GCQGR693VujP",
        "colab_type": "code",
        "colab": {
          "base_uri": "https://localhost:8080/",
          "height": 35
        },
        "outputId": "195dc2cd-18e7-4cf6-8cb6-c7b78ed71a31"
      },
      "source": [
        "nadam_score, adam_score, model1_score"
      ],
      "execution_count": 141,
      "outputs": [
        {
          "output_type": "execute_result",
          "data": {
            "text/plain": [
              "(0.7695, 0.7643, 0.7695)"
            ]
          },
          "metadata": {
            "tags": []
          },
          "execution_count": 141
        }
      ]
    },
    {
      "cell_type": "code",
      "metadata": {
        "id": "XsHy8cm3blp9",
        "colab_type": "code",
        "colab": {}
      },
      "source": [
        "import pandas as pd\n",
        "results = pd.DataFrame()\n",
        "results['Nadam'] = pred_nadam\n",
        "results['Adam'] = pred_adam\n",
        "results['Model1'] = pred_model1"
      ],
      "execution_count": 142,
      "outputs": []
    },
    {
      "cell_type": "code",
      "metadata": {
        "id": "iwJjdtmacZJc",
        "colab_type": "code",
        "colab": {
          "base_uri": "https://localhost:8080/",
          "height": 184
        },
        "outputId": "697931aa-554b-4385-ad4a-2a74faa53c34"
      },
      "source": [
        "results.T"
      ],
      "execution_count": 143,
      "outputs": [
        {
          "output_type": "execute_result",
          "data": {
            "text/html": [
              "<div>\n",
              "<style scoped>\n",
              "    .dataframe tbody tr th:only-of-type {\n",
              "        vertical-align: middle;\n",
              "    }\n",
              "\n",
              "    .dataframe tbody tr th {\n",
              "        vertical-align: top;\n",
              "    }\n",
              "\n",
              "    .dataframe thead th {\n",
              "        text-align: right;\n",
              "    }\n",
              "</style>\n",
              "<table border=\"1\" class=\"dataframe\">\n",
              "  <thead>\n",
              "    <tr style=\"text-align: right;\">\n",
              "      <th></th>\n",
              "      <th>0</th>\n",
              "      <th>1</th>\n",
              "      <th>2</th>\n",
              "      <th>3</th>\n",
              "      <th>4</th>\n",
              "      <th>5</th>\n",
              "      <th>6</th>\n",
              "      <th>7</th>\n",
              "      <th>8</th>\n",
              "      <th>9</th>\n",
              "      <th>10</th>\n",
              "      <th>11</th>\n",
              "      <th>12</th>\n",
              "      <th>13</th>\n",
              "      <th>14</th>\n",
              "      <th>15</th>\n",
              "      <th>16</th>\n",
              "      <th>17</th>\n",
              "      <th>18</th>\n",
              "      <th>19</th>\n",
              "      <th>20</th>\n",
              "      <th>21</th>\n",
              "      <th>22</th>\n",
              "      <th>23</th>\n",
              "      <th>24</th>\n",
              "      <th>25</th>\n",
              "      <th>26</th>\n",
              "      <th>27</th>\n",
              "      <th>28</th>\n",
              "      <th>29</th>\n",
              "      <th>30</th>\n",
              "      <th>31</th>\n",
              "      <th>32</th>\n",
              "      <th>33</th>\n",
              "      <th>34</th>\n",
              "      <th>35</th>\n",
              "      <th>36</th>\n",
              "      <th>37</th>\n",
              "      <th>38</th>\n",
              "      <th>39</th>\n",
              "      <th>...</th>\n",
              "      <th>9960</th>\n",
              "      <th>9961</th>\n",
              "      <th>9962</th>\n",
              "      <th>9963</th>\n",
              "      <th>9964</th>\n",
              "      <th>9965</th>\n",
              "      <th>9966</th>\n",
              "      <th>9967</th>\n",
              "      <th>9968</th>\n",
              "      <th>9969</th>\n",
              "      <th>9970</th>\n",
              "      <th>9971</th>\n",
              "      <th>9972</th>\n",
              "      <th>9973</th>\n",
              "      <th>9974</th>\n",
              "      <th>9975</th>\n",
              "      <th>9976</th>\n",
              "      <th>9977</th>\n",
              "      <th>9978</th>\n",
              "      <th>9979</th>\n",
              "      <th>9980</th>\n",
              "      <th>9981</th>\n",
              "      <th>9982</th>\n",
              "      <th>9983</th>\n",
              "      <th>9984</th>\n",
              "      <th>9985</th>\n",
              "      <th>9986</th>\n",
              "      <th>9987</th>\n",
              "      <th>9988</th>\n",
              "      <th>9989</th>\n",
              "      <th>9990</th>\n",
              "      <th>9991</th>\n",
              "      <th>9992</th>\n",
              "      <th>9993</th>\n",
              "      <th>9994</th>\n",
              "      <th>9995</th>\n",
              "      <th>9996</th>\n",
              "      <th>9997</th>\n",
              "      <th>9998</th>\n",
              "      <th>9999</th>\n",
              "    </tr>\n",
              "  </thead>\n",
              "  <tbody>\n",
              "    <tr>\n",
              "      <th>Nadam</th>\n",
              "      <td>3</td>\n",
              "      <td>8</td>\n",
              "      <td>8</td>\n",
              "      <td>0</td>\n",
              "      <td>6</td>\n",
              "      <td>6</td>\n",
              "      <td>1</td>\n",
              "      <td>6</td>\n",
              "      <td>3</td>\n",
              "      <td>1</td>\n",
              "      <td>0</td>\n",
              "      <td>9</td>\n",
              "      <td>5</td>\n",
              "      <td>7</td>\n",
              "      <td>9</td>\n",
              "      <td>8</td>\n",
              "      <td>5</td>\n",
              "      <td>7</td>\n",
              "      <td>8</td>\n",
              "      <td>6</td>\n",
              "      <td>7</td>\n",
              "      <td>0</td>\n",
              "      <td>4</td>\n",
              "      <td>9</td>\n",
              "      <td>4</td>\n",
              "      <td>5</td>\n",
              "      <td>3</td>\n",
              "      <td>0</td>\n",
              "      <td>9</td>\n",
              "      <td>6</td>\n",
              "      <td>6</td>\n",
              "      <td>5</td>\n",
              "      <td>4</td>\n",
              "      <td>3</td>\n",
              "      <td>9</td>\n",
              "      <td>3</td>\n",
              "      <td>4</td>\n",
              "      <td>1</td>\n",
              "      <td>9</td>\n",
              "      <td>5</td>\n",
              "      <td>...</td>\n",
              "      <td>0</td>\n",
              "      <td>3</td>\n",
              "      <td>4</td>\n",
              "      <td>0</td>\n",
              "      <td>4</td>\n",
              "      <td>2</td>\n",
              "      <td>6</td>\n",
              "      <td>3</td>\n",
              "      <td>5</td>\n",
              "      <td>6</td>\n",
              "      <td>2</td>\n",
              "      <td>9</td>\n",
              "      <td>4</td>\n",
              "      <td>0</td>\n",
              "      <td>1</td>\n",
              "      <td>7</td>\n",
              "      <td>5</td>\n",
              "      <td>5</td>\n",
              "      <td>4</td>\n",
              "      <td>3</td>\n",
              "      <td>0</td>\n",
              "      <td>4</td>\n",
              "      <td>6</td>\n",
              "      <td>0</td>\n",
              "      <td>7</td>\n",
              "      <td>3</td>\n",
              "      <td>8</td>\n",
              "      <td>0</td>\n",
              "      <td>8</td>\n",
              "      <td>4</td>\n",
              "      <td>7</td>\n",
              "      <td>0</td>\n",
              "      <td>3</td>\n",
              "      <td>3</td>\n",
              "      <td>3</td>\n",
              "      <td>3</td>\n",
              "      <td>3</td>\n",
              "      <td>5</td>\n",
              "      <td>4</td>\n",
              "      <td>7</td>\n",
              "    </tr>\n",
              "    <tr>\n",
              "      <th>Adam</th>\n",
              "      <td>3</td>\n",
              "      <td>8</td>\n",
              "      <td>8</td>\n",
              "      <td>8</td>\n",
              "      <td>6</td>\n",
              "      <td>6</td>\n",
              "      <td>1</td>\n",
              "      <td>6</td>\n",
              "      <td>3</td>\n",
              "      <td>1</td>\n",
              "      <td>5</td>\n",
              "      <td>9</td>\n",
              "      <td>5</td>\n",
              "      <td>7</td>\n",
              "      <td>9</td>\n",
              "      <td>8</td>\n",
              "      <td>5</td>\n",
              "      <td>7</td>\n",
              "      <td>8</td>\n",
              "      <td>6</td>\n",
              "      <td>7</td>\n",
              "      <td>0</td>\n",
              "      <td>4</td>\n",
              "      <td>9</td>\n",
              "      <td>4</td>\n",
              "      <td>2</td>\n",
              "      <td>4</td>\n",
              "      <td>0</td>\n",
              "      <td>9</td>\n",
              "      <td>6</td>\n",
              "      <td>6</td>\n",
              "      <td>5</td>\n",
              "      <td>4</td>\n",
              "      <td>3</td>\n",
              "      <td>9</td>\n",
              "      <td>3</td>\n",
              "      <td>5</td>\n",
              "      <td>9</td>\n",
              "      <td>9</td>\n",
              "      <td>5</td>\n",
              "      <td>...</td>\n",
              "      <td>0</td>\n",
              "      <td>9</td>\n",
              "      <td>4</td>\n",
              "      <td>8</td>\n",
              "      <td>4</td>\n",
              "      <td>2</td>\n",
              "      <td>6</td>\n",
              "      <td>3</td>\n",
              "      <td>5</td>\n",
              "      <td>6</td>\n",
              "      <td>2</td>\n",
              "      <td>9</td>\n",
              "      <td>4</td>\n",
              "      <td>8</td>\n",
              "      <td>1</td>\n",
              "      <td>7</td>\n",
              "      <td>5</td>\n",
              "      <td>5</td>\n",
              "      <td>4</td>\n",
              "      <td>3</td>\n",
              "      <td>0</td>\n",
              "      <td>4</td>\n",
              "      <td>6</td>\n",
              "      <td>0</td>\n",
              "      <td>7</td>\n",
              "      <td>3</td>\n",
              "      <td>8</td>\n",
              "      <td>8</td>\n",
              "      <td>8</td>\n",
              "      <td>4</td>\n",
              "      <td>7</td>\n",
              "      <td>0</td>\n",
              "      <td>3</td>\n",
              "      <td>3</td>\n",
              "      <td>3</td>\n",
              "      <td>3</td>\n",
              "      <td>5</td>\n",
              "      <td>5</td>\n",
              "      <td>1</td>\n",
              "      <td>7</td>\n",
              "    </tr>\n",
              "    <tr>\n",
              "      <th>Model1</th>\n",
              "      <td>3</td>\n",
              "      <td>8</td>\n",
              "      <td>8</td>\n",
              "      <td>0</td>\n",
              "      <td>6</td>\n",
              "      <td>6</td>\n",
              "      <td>1</td>\n",
              "      <td>6</td>\n",
              "      <td>3</td>\n",
              "      <td>1</td>\n",
              "      <td>0</td>\n",
              "      <td>9</td>\n",
              "      <td>5</td>\n",
              "      <td>7</td>\n",
              "      <td>9</td>\n",
              "      <td>8</td>\n",
              "      <td>5</td>\n",
              "      <td>7</td>\n",
              "      <td>8</td>\n",
              "      <td>6</td>\n",
              "      <td>7</td>\n",
              "      <td>0</td>\n",
              "      <td>4</td>\n",
              "      <td>9</td>\n",
              "      <td>4</td>\n",
              "      <td>5</td>\n",
              "      <td>3</td>\n",
              "      <td>0</td>\n",
              "      <td>9</td>\n",
              "      <td>6</td>\n",
              "      <td>6</td>\n",
              "      <td>5</td>\n",
              "      <td>4</td>\n",
              "      <td>3</td>\n",
              "      <td>9</td>\n",
              "      <td>3</td>\n",
              "      <td>4</td>\n",
              "      <td>1</td>\n",
              "      <td>9</td>\n",
              "      <td>5</td>\n",
              "      <td>...</td>\n",
              "      <td>0</td>\n",
              "      <td>3</td>\n",
              "      <td>4</td>\n",
              "      <td>0</td>\n",
              "      <td>4</td>\n",
              "      <td>2</td>\n",
              "      <td>6</td>\n",
              "      <td>3</td>\n",
              "      <td>5</td>\n",
              "      <td>6</td>\n",
              "      <td>2</td>\n",
              "      <td>9</td>\n",
              "      <td>4</td>\n",
              "      <td>0</td>\n",
              "      <td>1</td>\n",
              "      <td>7</td>\n",
              "      <td>5</td>\n",
              "      <td>5</td>\n",
              "      <td>4</td>\n",
              "      <td>3</td>\n",
              "      <td>0</td>\n",
              "      <td>4</td>\n",
              "      <td>6</td>\n",
              "      <td>0</td>\n",
              "      <td>7</td>\n",
              "      <td>3</td>\n",
              "      <td>8</td>\n",
              "      <td>0</td>\n",
              "      <td>8</td>\n",
              "      <td>4</td>\n",
              "      <td>7</td>\n",
              "      <td>0</td>\n",
              "      <td>3</td>\n",
              "      <td>3</td>\n",
              "      <td>3</td>\n",
              "      <td>3</td>\n",
              "      <td>3</td>\n",
              "      <td>5</td>\n",
              "      <td>4</td>\n",
              "      <td>7</td>\n",
              "    </tr>\n",
              "  </tbody>\n",
              "</table>\n",
              "<p>3 rows × 10000 columns</p>\n",
              "</div>"
            ],
            "text/plain": [
              "        0     1     2     3     4     5     ...  9994  9995  9996  9997  9998  9999\n",
              "Nadam      3     8     8     0     6     6  ...     3     3     3     5     4     7\n",
              "Adam       3     8     8     8     6     6  ...     3     3     5     5     1     7\n",
              "Model1     3     8     8     0     6     6  ...     3     3     3     5     4     7\n",
              "\n",
              "[3 rows x 10000 columns]"
            ]
          },
          "metadata": {
            "tags": []
          },
          "execution_count": 143
        }
      ]
    },
    {
      "cell_type": "code",
      "metadata": {
        "id": "DbkiSyDodnRO",
        "colab_type": "code",
        "colab": {}
      },
      "source": [
        "from scipy.stats import mode"
      ],
      "execution_count": 144,
      "outputs": []
    },
    {
      "cell_type": "code",
      "metadata": {
        "id": "b1w3Uw1edaFi",
        "colab_type": "code",
        "colab": {
          "base_uri": "https://localhost:8080/",
          "height": 35
        },
        "outputId": "0805458a-fd19-4854-eff3-6df3c4e47af5"
      },
      "source": [
        "committee_score = accuracy_score(list(mode(results.T)[0])[0], y_test2)\n",
        "committee_score"
      ],
      "execution_count": 145,
      "outputs": [
        {
          "output_type": "execute_result",
          "data": {
            "text/plain": [
              "0.7695"
            ]
          },
          "metadata": {
            "tags": []
          },
          "execution_count": 145
        }
      ]
    },
    {
      "cell_type": "code",
      "metadata": {
        "id": "9MJqQ1LOejk1",
        "colab_type": "code",
        "colab": {
          "base_uri": "https://localhost:8080/",
          "height": 195
        },
        "outputId": "a8dfa1c1-0297-4e0d-9633-d1f3280f81c4"
      },
      "source": [
        "from sklearn.metrics import confusion_matrix\n",
        "conf_mx = confusion_matrix(y_test2, pred_nadam)\n",
        "conf_mx"
      ],
      "execution_count": 153,
      "outputs": [
        {
          "output_type": "execute_result",
          "data": {
            "text/plain": [
              "array([[810,   5,  42,  17,  19,   4,   9,   3,  74,  17],\n",
              "       [ 12, 854,   4,   6,   5,   4,   9,   1,  43,  62],\n",
              "       [ 65,   1, 615,  73,  92,  57,  63,  15,  16,   3],\n",
              "       [ 14,   3,  45, 652,  60, 125,  65,  17,  12,   7],\n",
              "       [ 15,   1,  42,  53, 795,  22,  39,  25,   8,   0],\n",
              "       [ 12,   1,  38, 209,  55, 641,  16,  22,   5,   1],\n",
              "       [  4,   1,  39,  60,  30,  11, 851,   2,   2,   0],\n",
              "       [ 14,   0,  42,  52,  81,  61,   7, 735,   1,   7],\n",
              "       [ 42,   8,  10,  14,   5,   3,   4,   1, 900,  13],\n",
              "       [ 36,  44,   7,  16,   7,   1,   8,   6,  33, 842]])"
            ]
          },
          "metadata": {
            "tags": []
          },
          "execution_count": 153
        }
      ]
    },
    {
      "cell_type": "code",
      "metadata": {
        "id": "aunXMg4Jfbih",
        "colab_type": "code",
        "colab": {}
      },
      "source": [
        "def plot_confusion_matrix(matrix):\n",
        "    \"\"\"If you prefer color and a colorbar\"\"\"\n",
        "    fig = plt.figure(figsize=(8,8))\n",
        "    ax = fig.add_subplot(111)\n",
        "    cax = ax.matshow(matrix)\n",
        "    fig.colorbar(cax)"
      ],
      "execution_count": 147,
      "outputs": []
    },
    {
      "cell_type": "code",
      "metadata": {
        "id": "FqC8fghAgH5c",
        "colab_type": "code",
        "colab": {
          "base_uri": "https://localhost:8080/",
          "height": 472
        },
        "outputId": "e5c31af7-6d32-4b38-ebd4-e4657d7bbe4d"
      },
      "source": [
        "row_sums = conf_mx.sum(axis=1, keepdims=True)\n",
        "norm_conf_mx = conf_mx / row_sums\n",
        "np.fill_diagonal(norm_conf_mx, 0)\n",
        "plot_confusion_matrix(norm_conf_mx)"
      ],
      "execution_count": 154,
      "outputs": [
        {
          "output_type": "display_data",
          "data": {
            "image/png": "[encoded data removed]",
            "text/plain": [
              "<Figure size 576x576 with 2 Axes>"
            ]
          },
          "metadata": {
            "tags": [],
            "needs_background": "light"
          }
        }
      ]
    },
    {
      "cell_type": "code",
      "metadata": {
        "id": "Xm2oyIsGfrWZ",
        "colab_type": "code",
        "colab": {
          "base_uri": "https://localhost:8080/",
          "height": 275
        },
        "outputId": "2f813538-4a08-47f7-c864-add25f1e42d1"
      },
      "source": [
        "plt.matshow(norm_conf_mx, cmap=plt.cm.gray)\n",
        "plt.show()"
      ],
      "execution_count": 155,
      "outputs": [
        {
          "output_type": "display_data",
          "data": {
            "image/png": "[encoded data removed]",
            "text/plain": [
              "<Figure size 288x288 with 1 Axes>"
            ]
          },
          "metadata": {
            "tags": [],
            "needs_background": "light"
          }
        }
      ]
    },
    {
      "cell_type": "markdown",
      "metadata": {
        "id": "NTDi7UGmgdXQ",
        "colab_type": "text"
      },
      "source": [
        "##### Чаще всего между собой путались 3 и 5"
      ]
    },
    {
      "cell_type": "markdown",
      "metadata": {
        "id": "1B0OkeMyFuN2",
        "colab_type": "text"
      },
      "source": [
        "### CIFAR 100"
      ]
    },
    {
      "cell_type": "code",
      "metadata": {
        "id": "In7wZuW7Lu4U",
        "colab_type": "code",
        "colab": {
          "base_uri": "https://localhost:8080/",
          "height": 35
        },
        "outputId": "cb0d06df-7e8c-4de8-8545-9444ecdcb71f"
      },
      "source": [
        "load_model('./gdrive/My Drive/finuni/SNT/sifar100_nadam')"
      ],
      "execution_count": 14,
      "outputs": [
        {
          "output_type": "execute_result",
          "data": {
            "text/plain": [
              "<tensorflow.python.keras.engine.sequential.Sequential at 0x7f08bfb2bdd8>"
            ]
          },
          "metadata": {
            "tags": []
          },
          "execution_count": 14
        }
      ]
    },
    {
      "cell_type": "code",
      "metadata": {
        "id": "TS4Q6UhQFJ8u",
        "colab_type": "code",
        "colab": {
          "base_uri": "https://localhost:8080/",
          "height": 161
        },
        "outputId": "9971d119-113f-4675-b664-4815aeb98713"
      },
      "source": [
        "import numpy as np\n",
        "from sklearn.model_selection import train_test_split\n",
        "\n",
        "from PIL import Image\n",
        "import matplotlib.pyplot as plt\n",
        "\n",
        "from tensorflow import keras\n",
        "import keras.layers as layers\n",
        "from keras.datasets import cifar10, cifar100\n",
        "from tensorflow.keras.models import Sequential\n",
        "from tensorflow.keras.layers import Dense, Flatten, Conv2D, Dropout, MaxPooling2D, Activation, BatchNormalization\n",
        "from keras.optimizers import SGD, Adam, Nadam\n",
        "from keras import regularizers\n",
        "\n",
        "import tensorflow as tf\n",
        "device_name = tf.test.gpu_device_name()\n",
        "if device_name != '/device:GPU:0':\n",
        "  raise SystemError('GPU device not found')\n",
        "print('Found GPU at: {}'.format(device_name))\n",
        "\n",
        "from google.colab import drive\n",
        "drive.mount('/content/gdrive')\n",
        "\n",
        "from tensorflow.keras.models import load_model\n",
        "#model = load_model('./gdrive/My Drive/finuni/SNT/my_conv_model') # загрузка сохраненнлй модели\n",
        "#model.save('./gdrive/My Drive/finuni/SNT/my_conv_model')\n",
        "\n",
        "\n",
        "print(\"Setup Complete\")"
      ],
      "execution_count": 1,
      "outputs": [
        {
          "output_type": "stream",
          "text": [
            "Found GPU at: /device:GPU:0\n",
            "Go to this URL in a browser: https://accounts.google.com/o/oauth2/auth?client_id=947318989803-6bn6qk8qdgf4n4g3pfee6491hc0brc4i.apps.googleusercontent.com&redirect_uri=urn%3aietf%3awg%3aoauth%3a2.0%3aoob&scope=email%20https%3a%2f%2fwww.googleapis.com%2fauth%2fdocs.test%20https%3a%2f%2fwww.googleapis.com%2fauth%2fdrive%20https%3a%2f%2fwww.googleapis.com%2fauth%2fdrive.photos.readonly%20https%3a%2f%2fwww.googleapis.com%2fauth%2fpeopleapi.readonly&response_type=code\n",
            "\n",
            "Enter your authorization code:\n",
            "4/4AGy4R4nCra80mz3Vg5AzFXY3n_nvsS3AR-hS4_ppB3ODTCTBQALKY0\n",
            "Mounted at /content/gdrive\n",
            "Setup Complete\n"
          ],
          "name": "stdout"
        }
      ]
    },
    {
      "cell_type": "code",
      "metadata": {
        "id": "jjG54XGuFRJJ",
        "colab_type": "code",
        "colab": {
          "base_uri": "https://localhost:8080/",
          "height": 52
        },
        "outputId": "9e2060f2-154b-44ae-f5d3-9e3ec2b84e53"
      },
      "source": [
        "(X_train, y_train), (X_test, y_test) = cifar100.load_data()"
      ],
      "execution_count": 2,
      "outputs": [
        {
          "output_type": "stream",
          "text": [
            "Downloading data from https://www.cs.toronto.edu/~kriz/cifar-100-python.tar.gz\n",
            "169009152/169001437 [==============================] - 2s 0us/step\n"
          ],
          "name": "stdout"
        }
      ]
    },
    {
      "cell_type": "code",
      "metadata": {
        "id": "rTf5fuAvFeky",
        "colab_type": "code",
        "colab": {
          "base_uri": "https://localhost:8080/",
          "height": 284
        },
        "outputId": "c5f3ee58-4ed1-4587-d83b-f6e442f36da1"
      },
      "source": [
        "idx = 155\n",
        "print(y_train[idx])\n",
        "plt.imshow(X_train[idx]);"
      ],
      "execution_count": 3,
      "outputs": [
        {
          "output_type": "stream",
          "text": [
            "[29]\n"
          ],
          "name": "stdout"
        },
        {
          "output_type": "display_data",
          "data": {
            "image/png": "[encoded data removed]",
            "text/plain": [
              "<Figure size 432x288 with 1 Axes>"
            ]
          },
          "metadata": {
            "tags": [],
            "needs_background": "light"
          }
        }
      ]
    },
    {
      "cell_type": "code",
      "metadata": {
        "id": "BVXxdiq1FfDz",
        "colab_type": "code",
        "colab": {}
      },
      "source": [
        "np.random.seed(42)\n",
        "NB_EPOCH = 200 \n",
        "BATCH_SIZE = 128 \n",
        "VERBOSE = 1 \n",
        "NB_CLASSES = 100\n",
        "OPTIMIZER = SGD()\n",
        "N_HIDDEN = 128\n",
        "VALIDATION_SPLIT = 0.2 \n",
        "\n",
        "\n",
        "(X_train, y_train), (X_test, y_test) = cifar100.load_data()\n",
        "X_test2 = X_test.copy()\n",
        "y_test2 = y_test.copy()\n",
        "X_train = X_train.astype('float32')\n",
        "X_test = X_test.astype('float32')\n",
        "\n",
        "X_train /= 255\n",
        "X_test /= 255\n",
        "\n",
        "y_train = keras.utils.to_categorical(y_train, NB_CLASSES)\n",
        "y_test = keras.utils.to_categorical(y_test, NB_CLASSES)"
      ],
      "execution_count": 4,
      "outputs": []
    },
    {
      "cell_type": "code",
      "metadata": {
        "id": "svJiYPQBFrDY",
        "colab_type": "code",
        "colab": {
          "base_uri": "https://localhost:8080/",
          "height": 52
        },
        "outputId": "780e4d27-b8bf-4b33-f238-89def7ea4ceb"
      },
      "source": [
        "print(X_train.shape[0], 'train_samples')\n",
        "print(X_test.shape[0], 'test_samples')"
      ],
      "execution_count": 5,
      "outputs": [
        {
          "output_type": "stream",
          "text": [
            "50000 train_samples\n",
            "10000 test_samples\n"
          ],
          "name": "stdout"
        }
      ]
    },
    {
      "cell_type": "code",
      "metadata": {
        "id": "JUnuy0nLpfiN",
        "colab_type": "code",
        "colab": {}
      },
      "source": [
        "np.random.seed(42)\n",
        "weight_decay = 0.0005\n",
        "\n",
        "model = Sequential()\n",
        "keras.Input(shape=(32,32,1)),\n",
        "\n",
        "model.add(Conv2D(64, (3, 3), padding='same',kernel_regularizer=regularizers.l2(weight_decay)))\n",
        "model.add(Activation('relu'))\n",
        "model.add(BatchNormalization())\n",
        "model.add(Dropout(0.3))\n",
        "\n",
        "model.add(Conv2D(64, (3, 3), padding='same',kernel_regularizer=regularizers.l2(weight_decay)))\n",
        "model.add(Activation('relu'))\n",
        "model.add(BatchNormalization())\n",
        "\n",
        "model.add(MaxPooling2D(pool_size=(2, 2)))\n",
        "\n",
        "model.add(Conv2D(128, (3, 3), padding='same',kernel_regularizer=regularizers.l2(weight_decay)))\n",
        "model.add(Activation('relu'))\n",
        "model.add(BatchNormalization())\n",
        "model.add(Dropout(0.4))\n",
        "\n",
        "model.add(Conv2D(128, (3, 3), padding='same',kernel_regularizer=regularizers.l2(weight_decay)))\n",
        "model.add(Activation('relu'))\n",
        "model.add(BatchNormalization())\n",
        "\n",
        "model.add(MaxPooling2D(pool_size=(2, 2)))\n",
        "\n",
        "model.add(Conv2D(256, (3, 3), padding='same',kernel_regularizer=regularizers.l2(weight_decay)))\n",
        "model.add(Activation('relu'))\n",
        "model.add(BatchNormalization())\n",
        "model.add(Dropout(0.4))\n",
        "\n",
        "model.add(Conv2D(256, (3, 3), padding='same',kernel_regularizer=regularizers.l2(weight_decay)))\n",
        "model.add(Activation('relu'))\n",
        "model.add(BatchNormalization())\n",
        "model.add(Dropout(0.4))\n",
        "\n",
        "model.add(Conv2D(256, (3, 3), padding='same',kernel_regularizer=regularizers.l2(weight_decay)))\n",
        "model.add(Activation('relu'))\n",
        "model.add(BatchNormalization())\n",
        "\n",
        "model.add(MaxPooling2D(pool_size=(2, 2)))\n",
        "\n",
        "\n",
        "model.add(Conv2D(512, (3, 3), padding='same',kernel_regularizer=regularizers.l2(weight_decay)))\n",
        "model.add(Activation('relu'))\n",
        "model.add(BatchNormalization())\n",
        "model.add(Dropout(0.4))\n",
        "\n",
        "model.add(Conv2D(512, (3, 3), padding='same',kernel_regularizer=regularizers.l2(weight_decay)))\n",
        "model.add(Activation('relu'))\n",
        "model.add(BatchNormalization())\n",
        "model.add(Dropout(0.4))\n",
        "\n",
        "model.add(Conv2D(512, (3, 3), padding='same',kernel_regularizer=regularizers.l2(weight_decay)))\n",
        "model.add(Activation('relu'))\n",
        "model.add(BatchNormalization())\n",
        "\n",
        "model.add(MaxPooling2D(pool_size=(2, 2)))\n",
        "\n",
        "\n",
        "model.add(Conv2D(512, (3, 3), padding='same',kernel_regularizer=regularizers.l2(weight_decay)))\n",
        "model.add(Activation('relu'))\n",
        "model.add(BatchNormalization())\n",
        "model.add(Dropout(0.4))\n",
        "\n",
        "model.add(Conv2D(512, (3, 3), padding='same',kernel_regularizer=regularizers.l2(weight_decay)))\n",
        "model.add(Activation('relu'))\n",
        "model.add(BatchNormalization())\n",
        "model.add(Dropout(0.4))\n",
        "\n",
        "model.add(Conv2D(512, (3, 3), padding='same',kernel_regularizer=regularizers.l2(weight_decay)))\n",
        "model.add(Activation('relu'))\n",
        "model.add(BatchNormalization())\n",
        "\n",
        "model.add(MaxPooling2D(pool_size=(2, 2)))\n",
        "model.add(Dropout(0.5))\n",
        "\n",
        "model.add(Flatten())\n",
        "model.add(Dense(512,kernel_regularizer=regularizers.l2(weight_decay)))\n",
        "model.add(Activation('relu'))\n",
        "model.add(BatchNormalization())\n",
        "\n",
        "model.add(Dropout(0.5))\n",
        "model.add(Dense(NB_CLASSES))\n",
        "model.add(Activation('softmax'))"
      ],
      "execution_count": 78,
      "outputs": []
    },
    {
      "cell_type": "code",
      "metadata": {
        "id": "2N4LKyXFq_F1",
        "colab_type": "code",
        "colab": {
          "base_uri": "https://localhost:8080/",
          "height": 1000
        },
        "outputId": "0e260df2-dac6-4d4f-cb70-020259df86f8"
      },
      "source": [
        "callback = keras.callbacks.EarlyStopping(monitor='loss', patience=5)\n",
        "model.compile(loss='categorical_crossentropy', optimizer='nadam', metrics='accuracy')\n",
        "\n",
        "model.fit(X_train, y_train, batch_size=100, epochs=130, verbose = 1, callbacks=[callback], validation_split=0.3)"
      ],
      "execution_count": 79,
      "outputs": [
        {
          "output_type": "stream",
          "text": [
            "Epoch 1/200\n",
            "350/350 [==============================] - ETA: 0s - loss: 7.0399 - accuracy: 0.0242WARNING:tensorflow:Callbacks method `on_test_batch_end` is slow compared to the batch time (batch time: 0.0031s vs `on_test_batch_end` time: 0.0108s). Check your callbacks.\n",
            "350/350 [==============================] - 26s 74ms/step - loss: 7.0399 - accuracy: 0.0242 - val_loss: 7.0774 - val_accuracy: 0.0193\n",
            "Epoch 2/200\n",
            "350/350 [==============================] - 26s 74ms/step - loss: 6.1484 - accuracy: 0.0500 - val_loss: 6.0468 - val_accuracy: 0.0385\n",
            "Epoch 3/200\n",
            "350/350 [==============================] - 26s 74ms/step - loss: 5.4996 - accuracy: 0.0790 - val_loss: 5.5634 - val_accuracy: 0.0607\n",
            "Epoch 4/200\n",
            "350/350 [==============================] - 26s 75ms/step - loss: 5.0298 - accuracy: 0.1023 - val_loss: 5.2760 - val_accuracy: 0.1048\n",
            "Epoch 5/200\n",
            "350/350 [==============================] - 26s 76ms/step - loss: 4.6109 - accuracy: 0.1348 - val_loss: 4.6055 - val_accuracy: 0.1517\n",
            "Epoch 6/200\n",
            "350/350 [==============================] - 27s 76ms/step - loss: 4.3377 - accuracy: 0.1600 - val_loss: 4.3864 - val_accuracy: 0.1541\n",
            "Epoch 7/200\n",
            "350/350 [==============================] - 27s 76ms/step - loss: 4.2421 - accuracy: 0.1796 - val_loss: 4.2735 - val_accuracy: 0.1727\n",
            "Epoch 8/200\n",
            "350/350 [==============================] - 27s 76ms/step - loss: 4.0693 - accuracy: 0.2089 - val_loss: 4.1486 - val_accuracy: 0.2006\n",
            "Epoch 9/200\n",
            "350/350 [==============================] - 27s 76ms/step - loss: 3.9317 - accuracy: 0.2420 - val_loss: 4.1181 - val_accuracy: 0.2348\n",
            "Epoch 10/200\n",
            "350/350 [==============================] - 27s 76ms/step - loss: 3.8851 - accuracy: 0.2588 - val_loss: 4.1589 - val_accuracy: 0.2276\n",
            "Epoch 11/200\n",
            "350/350 [==============================] - 27s 76ms/step - loss: 3.8425 - accuracy: 0.2772 - val_loss: 4.0897 - val_accuracy: 0.2467\n",
            "Epoch 12/200\n",
            "350/350 [==============================] - 27s 76ms/step - loss: 3.8287 - accuracy: 0.2893 - val_loss: 4.1626 - val_accuracy: 0.2521\n",
            "Epoch 13/200\n",
            "350/350 [==============================] - 27s 76ms/step - loss: 3.8183 - accuracy: 0.3054 - val_loss: 3.8888 - val_accuracy: 0.2927\n",
            "Epoch 14/200\n",
            "350/350 [==============================] - 27s 76ms/step - loss: 3.8149 - accuracy: 0.3157 - val_loss: 4.0090 - val_accuracy: 0.2933\n",
            "Epoch 15/200\n",
            "350/350 [==============================] - 27s 76ms/step - loss: 3.7869 - accuracy: 0.3317 - val_loss: 3.8526 - val_accuracy: 0.3332\n",
            "Epoch 16/200\n",
            "350/350 [==============================] - 27s 76ms/step - loss: 3.7887 - accuracy: 0.3381 - val_loss: 4.1356 - val_accuracy: 0.3218\n",
            "Epoch 17/200\n",
            "350/350 [==============================] - 27s 76ms/step - loss: 3.7757 - accuracy: 0.3528 - val_loss: 4.0909 - val_accuracy: 0.3209\n",
            "Epoch 18/200\n",
            "350/350 [==============================] - 27s 76ms/step - loss: 3.7733 - accuracy: 0.3597 - val_loss: 3.8161 - val_accuracy: 0.3633\n",
            "Epoch 19/200\n",
            "350/350 [==============================] - 27s 76ms/step - loss: 3.7421 - accuracy: 0.3710 - val_loss: 3.8917 - val_accuracy: 0.3471\n",
            "Epoch 20/200\n",
            "350/350 [==============================] - 27s 76ms/step - loss: 3.7416 - accuracy: 0.3766 - val_loss: 3.9836 - val_accuracy: 0.3550\n",
            "Epoch 21/200\n",
            "350/350 [==============================] - 27s 76ms/step - loss: 3.7341 - accuracy: 0.3864 - val_loss: 4.1315 - val_accuracy: 0.3392\n",
            "Epoch 22/200\n",
            "350/350 [==============================] - 27s 76ms/step - loss: 3.7384 - accuracy: 0.3924 - val_loss: 3.8897 - val_accuracy: 0.3791\n",
            "Epoch 23/200\n",
            "350/350 [==============================] - 27s 76ms/step - loss: 3.7089 - accuracy: 0.4025 - val_loss: 4.1345 - val_accuracy: 0.3312\n",
            "Epoch 24/200\n",
            "350/350 [==============================] - 27s 76ms/step - loss: 3.6999 - accuracy: 0.4089 - val_loss: 3.8058 - val_accuracy: 0.4063\n",
            "Epoch 25/200\n",
            "350/350 [==============================] - 27s 76ms/step - loss: 3.6882 - accuracy: 0.4133 - val_loss: 4.0336 - val_accuracy: 0.3649\n",
            "Epoch 26/200\n",
            "350/350 [==============================] - 27s 76ms/step - loss: 3.6651 - accuracy: 0.4171 - val_loss: 4.0834 - val_accuracy: 0.3724\n",
            "Epoch 27/200\n",
            "350/350 [==============================] - 27s 76ms/step - loss: 3.6589 - accuracy: 0.4285 - val_loss: 3.9573 - val_accuracy: 0.3839\n",
            "Epoch 28/200\n",
            "350/350 [==============================] - 27s 76ms/step - loss: 3.6407 - accuracy: 0.4320 - val_loss: 3.8391 - val_accuracy: 0.4039\n",
            "Epoch 29/200\n",
            "350/350 [==============================] - 27s 76ms/step - loss: 3.6504 - accuracy: 0.4314 - val_loss: 3.7779 - val_accuracy: 0.4213\n",
            "Epoch 30/200\n",
            "350/350 [==============================] - 27s 76ms/step - loss: 3.6072 - accuracy: 0.4415 - val_loss: 3.8067 - val_accuracy: 0.4187\n",
            "Epoch 31/200\n",
            "350/350 [==============================] - 27s 76ms/step - loss: 3.5978 - accuracy: 0.4491 - val_loss: 3.8756 - val_accuracy: 0.4099\n",
            "Epoch 32/200\n",
            "350/350 [==============================] - 27s 76ms/step - loss: 3.5758 - accuracy: 0.4522 - val_loss: 3.7902 - val_accuracy: 0.4245\n",
            "Epoch 33/200\n",
            "350/350 [==============================] - 27s 76ms/step - loss: 3.5740 - accuracy: 0.4553 - val_loss: 3.7105 - val_accuracy: 0.4341\n",
            "Epoch 34/200\n",
            "350/350 [==============================] - 27s 76ms/step - loss: 3.5388 - accuracy: 0.4626 - val_loss: 3.8119 - val_accuracy: 0.4202\n",
            "Epoch 35/200\n",
            "350/350 [==============================] - 27s 76ms/step - loss: 3.5325 - accuracy: 0.4646 - val_loss: 3.6965 - val_accuracy: 0.4475\n",
            "Epoch 36/200\n",
            "350/350 [==============================] - 27s 76ms/step - loss: 3.5043 - accuracy: 0.4713 - val_loss: 3.7871 - val_accuracy: 0.4487\n",
            "Epoch 37/200\n",
            "350/350 [==============================] - 27s 76ms/step - loss: 3.4937 - accuracy: 0.4741 - val_loss: 3.8951 - val_accuracy: 0.4224\n",
            "Epoch 38/200\n",
            "350/350 [==============================] - 27s 76ms/step - loss: 3.4749 - accuracy: 0.4786 - val_loss: 3.7773 - val_accuracy: 0.4359\n",
            "Epoch 39/200\n",
            "350/350 [==============================] - 27s 76ms/step - loss: 3.4812 - accuracy: 0.4788 - val_loss: 3.6842 - val_accuracy: 0.4469\n",
            "Epoch 40/200\n",
            "350/350 [==============================] - 27s 76ms/step - loss: 3.4685 - accuracy: 0.4796 - val_loss: 3.7845 - val_accuracy: 0.4315\n",
            "Epoch 41/200\n",
            "350/350 [==============================] - 26s 76ms/step - loss: 3.4504 - accuracy: 0.4865 - val_loss: 3.7020 - val_accuracy: 0.4439\n",
            "Epoch 42/200\n",
            "350/350 [==============================] - 27s 76ms/step - loss: 3.4275 - accuracy: 0.4898 - val_loss: 3.8080 - val_accuracy: 0.4335\n",
            "Epoch 43/200\n",
            "350/350 [==============================] - 26s 76ms/step - loss: 3.4281 - accuracy: 0.4943 - val_loss: 4.1304 - val_accuracy: 0.3883\n",
            "Epoch 44/200\n",
            "350/350 [==============================] - 27s 76ms/step - loss: 3.4093 - accuracy: 0.4937 - val_loss: 3.8622 - val_accuracy: 0.4195\n",
            "Epoch 45/200\n",
            "350/350 [==============================] - 26s 76ms/step - loss: 3.4088 - accuracy: 0.4983 - val_loss: 3.5464 - val_accuracy: 0.4785\n",
            "Epoch 46/200\n",
            "350/350 [==============================] - 26s 76ms/step - loss: 3.3856 - accuracy: 0.5033 - val_loss: 3.7530 - val_accuracy: 0.4400\n",
            "Epoch 47/200\n",
            "350/350 [==============================] - 26s 76ms/step - loss: 3.3786 - accuracy: 0.5024 - val_loss: 3.8534 - val_accuracy: 0.4281\n",
            "Epoch 48/200\n",
            "350/350 [==============================] - 27s 76ms/step - loss: 3.3729 - accuracy: 0.5040 - val_loss: 3.7005 - val_accuracy: 0.4517\n",
            "Epoch 49/200\n",
            "350/350 [==============================] - 26s 76ms/step - loss: 3.3584 - accuracy: 0.5095 - val_loss: 3.7010 - val_accuracy: 0.4446\n",
            "Epoch 50/200\n",
            "350/350 [==============================] - 27s 77ms/step - loss: 3.3373 - accuracy: 0.5103 - val_loss: 3.6465 - val_accuracy: 0.4632\n",
            "Epoch 51/200\n",
            "350/350 [==============================] - 27s 76ms/step - loss: 3.3528 - accuracy: 0.5092 - val_loss: 3.6057 - val_accuracy: 0.4697\n",
            "Epoch 52/200\n",
            "350/350 [==============================] - 26s 76ms/step - loss: 3.3335 - accuracy: 0.5105 - val_loss: 3.6569 - val_accuracy: 0.4576\n",
            "Epoch 53/200\n",
            "350/350 [==============================] - 27s 77ms/step - loss: 3.3064 - accuracy: 0.5162 - val_loss: 3.5678 - val_accuracy: 0.4729\n",
            "Epoch 54/200\n",
            "350/350 [==============================] - 26s 76ms/step - loss: 3.3130 - accuracy: 0.5157 - val_loss: 3.7221 - val_accuracy: 0.4549\n",
            "Epoch 55/200\n",
            "350/350 [==============================] - 27s 76ms/step - loss: 3.3066 - accuracy: 0.5157 - val_loss: 3.7473 - val_accuracy: 0.4539\n",
            "Epoch 56/200\n",
            "350/350 [==============================] - 26s 76ms/step - loss: 3.2896 - accuracy: 0.5171 - val_loss: 3.6155 - val_accuracy: 0.4749\n",
            "Epoch 57/200\n",
            "350/350 [==============================] - 27s 76ms/step - loss: 3.2775 - accuracy: 0.5235 - val_loss: 3.6586 - val_accuracy: 0.4640\n",
            "Epoch 58/200\n",
            "350/350 [==============================] - 27s 76ms/step - loss: 3.2866 - accuracy: 0.5211 - val_loss: 3.8320 - val_accuracy: 0.4264\n",
            "Epoch 59/200\n",
            "350/350 [==============================] - 27s 76ms/step - loss: 3.2707 - accuracy: 0.5270 - val_loss: 3.5529 - val_accuracy: 0.4767\n",
            "Epoch 60/200\n",
            "350/350 [==============================] - 27s 76ms/step - loss: 3.2747 - accuracy: 0.5269 - val_loss: 3.5801 - val_accuracy: 0.4763\n",
            "Epoch 61/200\n",
            "350/350 [==============================] - 27s 76ms/step - loss: 3.2575 - accuracy: 0.5309 - val_loss: 3.6960 - val_accuracy: 0.4571\n",
            "Epoch 62/200\n",
            "350/350 [==============================] - 27s 76ms/step - loss: 3.2563 - accuracy: 0.5288 - val_loss: 3.7196 - val_accuracy: 0.4511\n",
            "Epoch 63/200\n",
            "350/350 [==============================] - 27s 76ms/step - loss: 3.2555 - accuracy: 0.5302 - val_loss: 3.5592 - val_accuracy: 0.4835\n",
            "Epoch 64/200\n",
            "350/350 [==============================] - 27s 76ms/step - loss: 3.2385 - accuracy: 0.5325 - val_loss: 3.4476 - val_accuracy: 0.5003\n",
            "Epoch 65/200\n",
            "350/350 [==============================] - 27s 76ms/step - loss: 3.2447 - accuracy: 0.5347 - val_loss: 3.7743 - val_accuracy: 0.4530\n",
            "Epoch 66/200\n",
            "350/350 [==============================] - 27s 77ms/step - loss: 3.2145 - accuracy: 0.5358 - val_loss: 3.5007 - val_accuracy: 0.4899\n",
            "Epoch 67/200\n",
            "350/350 [==============================] - 27s 76ms/step - loss: 3.2391 - accuracy: 0.5321 - val_loss: 3.5049 - val_accuracy: 0.4929\n",
            "Epoch 68/200\n",
            "350/350 [==============================] - 27s 76ms/step - loss: 3.1983 - accuracy: 0.5393 - val_loss: 3.4871 - val_accuracy: 0.4851\n",
            "Epoch 69/200\n",
            "350/350 [==============================] - 27s 76ms/step - loss: 3.2038 - accuracy: 0.5400 - val_loss: 3.5426 - val_accuracy: 0.4923\n",
            "Epoch 70/200\n",
            "350/350 [==============================] - 27s 76ms/step - loss: 3.2098 - accuracy: 0.5419 - val_loss: 3.6411 - val_accuracy: 0.4659\n",
            "Epoch 71/200\n",
            "350/350 [==============================] - 27s 76ms/step - loss: 3.2015 - accuracy: 0.5461 - val_loss: 3.6861 - val_accuracy: 0.4659\n"
          ],
          "name": "stdout"
        },
        {
          "output_type": "execute_result",
          "data": {
            "text/plain": [
              "<tensorflow.python.keras.callbacks.History at 0x7f0790743d68>"
            ]
          },
          "metadata": {
            "tags": []
          },
          "execution_count": 79
        }
      ]
    },
    {
      "cell_type": "code",
      "metadata": {
        "id": "fiHjCgcKkGQT",
        "colab_type": "code",
        "colab": {
          "base_uri": "https://localhost:8080/",
          "height": 35
        },
        "outputId": "bc83da99-939e-433f-a329-0a12af0f6e28"
      },
      "source": [
        "model.save('./gdrive/My Drive/finuni/SNT/sifar100_nadam')"
      ],
      "execution_count": 82,
      "outputs": [
        {
          "output_type": "stream",
          "text": [
            "INFO:tensorflow:Assets written to: ./gdrive/My Drive/finuni/SNT/sifar100_nadam/assets\n"
          ],
          "name": "stdout"
        }
      ]
    },
    {
      "cell_type": "code",
      "metadata": {
        "id": "yIDWlmH2c7N-",
        "colab_type": "code",
        "colab": {
          "base_uri": "https://localhost:8080/",
          "height": 1000
        },
        "outputId": "35e78866-d151-4875-f5de-7cc93daaa4f6"
      },
      "source": [
        "callback = keras.callbacks.EarlyStopping(monitor='loss', patience=10)\n",
        "\n",
        "model.fit(X_train, y_train, batch_size=100, epochs=130, verbose = 1, callbacks=[callback], validation_split=0.3)"
      ],
      "execution_count": 83,
      "outputs": [
        {
          "output_type": "stream",
          "text": [
            "Epoch 1/130\n",
            "  2/350 [..............................] - ETA: 16s - loss: 3.0767 - accuracy: 0.5450WARNING:tensorflow:Callbacks method `on_train_batch_end` is slow compared to the batch time (batch time: 0.0372s vs `on_train_batch_end` time: 0.0583s). Check your callbacks.\n",
            "350/350 [==============================] - ETA: 0s - loss: 3.1997 - accuracy: 0.5431WARNING:tensorflow:Callbacks method `on_test_batch_end` is slow compared to the batch time (batch time: 0.0034s vs `on_test_batch_end` time: 0.0111s). Check your callbacks.\n",
            "350/350 [==============================] - 26s 74ms/step - loss: 3.1997 - accuracy: 0.5431 - val_loss: 3.3800 - val_accuracy: 0.5153\n",
            "Epoch 2/130\n",
            "350/350 [==============================] - 26s 74ms/step - loss: 3.1882 - accuracy: 0.5427 - val_loss: 3.6704 - val_accuracy: 0.4641\n",
            "Epoch 3/130\n",
            "350/350 [==============================] - 26s 74ms/step - loss: 3.1803 - accuracy: 0.5461 - val_loss: 3.5460 - val_accuracy: 0.4939\n",
            "Epoch 4/130\n",
            "350/350 [==============================] - 26s 75ms/step - loss: 3.1890 - accuracy: 0.5413 - val_loss: 3.6532 - val_accuracy: 0.4688\n",
            "Epoch 5/130\n",
            "350/350 [==============================] - 26s 76ms/step - loss: 3.1815 - accuracy: 0.5453 - val_loss: 3.5450 - val_accuracy: 0.4865\n",
            "Epoch 6/130\n",
            "350/350 [==============================] - 26s 76ms/step - loss: 3.1768 - accuracy: 0.5453 - val_loss: 3.5056 - val_accuracy: 0.4987\n",
            "Epoch 7/130\n",
            "350/350 [==============================] - 26s 76ms/step - loss: 3.1663 - accuracy: 0.5501 - val_loss: 3.5079 - val_accuracy: 0.4952\n",
            "Epoch 8/130\n",
            "350/350 [==============================] - 26s 75ms/step - loss: 3.1504 - accuracy: 0.5547 - val_loss: 3.3934 - val_accuracy: 0.5099\n",
            "Epoch 9/130\n",
            "350/350 [==============================] - 27s 76ms/step - loss: 3.1222 - accuracy: 0.5571 - val_loss: 3.5065 - val_accuracy: 0.4952\n",
            "Epoch 10/130\n",
            "350/350 [==============================] - 27s 76ms/step - loss: 3.1577 - accuracy: 0.5504 - val_loss: 3.5492 - val_accuracy: 0.4795\n",
            "Epoch 11/130\n",
            "350/350 [==============================] - 27s 76ms/step - loss: 3.1435 - accuracy: 0.5511 - val_loss: 3.5702 - val_accuracy: 0.4817\n",
            "Epoch 12/130\n",
            "350/350 [==============================] - 27s 76ms/step - loss: 3.1152 - accuracy: 0.5575 - val_loss: 3.4549 - val_accuracy: 0.5043\n",
            "Epoch 13/130\n",
            "350/350 [==============================] - 27s 76ms/step - loss: 3.1352 - accuracy: 0.5547 - val_loss: 3.4642 - val_accuracy: 0.4989\n",
            "Epoch 14/130\n",
            "350/350 [==============================] - 26s 76ms/step - loss: 3.1221 - accuracy: 0.5585 - val_loss: 3.4455 - val_accuracy: 0.5013\n",
            "Epoch 15/130\n",
            "350/350 [==============================] - 26s 76ms/step - loss: 3.1304 - accuracy: 0.5556 - val_loss: 3.5093 - val_accuracy: 0.5045\n",
            "Epoch 16/130\n",
            "350/350 [==============================] - 26s 76ms/step - loss: 3.1228 - accuracy: 0.5589 - val_loss: 3.3817 - val_accuracy: 0.5185\n",
            "Epoch 17/130\n",
            "350/350 [==============================] - 26s 76ms/step - loss: 3.1006 - accuracy: 0.5645 - val_loss: 3.4818 - val_accuracy: 0.4934\n",
            "Epoch 18/130\n",
            "350/350 [==============================] - 27s 76ms/step - loss: 3.1165 - accuracy: 0.5571 - val_loss: 3.4468 - val_accuracy: 0.5043\n",
            "Epoch 19/130\n",
            "350/350 [==============================] - 27s 76ms/step - loss: 3.0901 - accuracy: 0.5621 - val_loss: 3.4713 - val_accuracy: 0.4941\n",
            "Epoch 20/130\n",
            "350/350 [==============================] - 27s 76ms/step - loss: 3.1105 - accuracy: 0.5620 - val_loss: 3.5946 - val_accuracy: 0.4857\n",
            "Epoch 21/130\n",
            "350/350 [==============================] - 27s 76ms/step - loss: 3.0912 - accuracy: 0.5645 - val_loss: 3.3902 - val_accuracy: 0.5135\n",
            "Epoch 22/130\n",
            "350/350 [==============================] - 26s 76ms/step - loss: 3.0970 - accuracy: 0.5603 - val_loss: 3.5028 - val_accuracy: 0.5001\n",
            "Epoch 23/130\n",
            "350/350 [==============================] - 26s 76ms/step - loss: 3.1021 - accuracy: 0.5621 - val_loss: 3.5194 - val_accuracy: 0.4883\n",
            "Epoch 24/130\n",
            "350/350 [==============================] - 27s 76ms/step - loss: 3.1012 - accuracy: 0.5633 - val_loss: 3.4480 - val_accuracy: 0.4985\n",
            "Epoch 25/130\n",
            "350/350 [==============================] - 26s 76ms/step - loss: 3.1052 - accuracy: 0.5602 - val_loss: 3.5227 - val_accuracy: 0.4943\n",
            "Epoch 26/130\n",
            "350/350 [==============================] - 27s 76ms/step - loss: 3.0671 - accuracy: 0.5717 - val_loss: 3.5145 - val_accuracy: 0.4979\n",
            "Epoch 27/130\n",
            "350/350 [==============================] - 27s 76ms/step - loss: 3.0861 - accuracy: 0.5642 - val_loss: 3.3847 - val_accuracy: 0.5171\n",
            "Epoch 28/130\n",
            "350/350 [==============================] - 26s 76ms/step - loss: 3.0776 - accuracy: 0.5660 - val_loss: 3.4399 - val_accuracy: 0.5059\n",
            "Epoch 29/130\n",
            "350/350 [==============================] - 27s 76ms/step - loss: 3.0749 - accuracy: 0.5694 - val_loss: 3.4463 - val_accuracy: 0.5042\n",
            "Epoch 30/130\n",
            "350/350 [==============================] - 27s 76ms/step - loss: 3.0736 - accuracy: 0.5699 - val_loss: 3.4103 - val_accuracy: 0.5115\n",
            "Epoch 31/130\n",
            "350/350 [==============================] - 27s 76ms/step - loss: 3.0855 - accuracy: 0.5623 - val_loss: 3.4557 - val_accuracy: 0.5055\n",
            "Epoch 32/130\n",
            "350/350 [==============================] - 26s 75ms/step - loss: 3.0659 - accuracy: 0.5683 - val_loss: 3.4620 - val_accuracy: 0.5087\n",
            "Epoch 33/130\n",
            "350/350 [==============================] - 26s 76ms/step - loss: 3.0657 - accuracy: 0.5714 - val_loss: 3.4052 - val_accuracy: 0.5118\n",
            "Epoch 34/130\n",
            "350/350 [==============================] - 26s 76ms/step - loss: 3.0714 - accuracy: 0.5685 - val_loss: 3.4026 - val_accuracy: 0.5207\n",
            "Epoch 35/130\n",
            "350/350 [==============================] - 27s 77ms/step - loss: 3.0527 - accuracy: 0.5751 - val_loss: 3.5563 - val_accuracy: 0.4907\n",
            "Epoch 36/130\n",
            "350/350 [==============================] - 27s 76ms/step - loss: 3.0503 - accuracy: 0.5735 - val_loss: 3.4205 - val_accuracy: 0.5122\n",
            "Epoch 37/130\n",
            "350/350 [==============================] - 27s 76ms/step - loss: 3.0682 - accuracy: 0.5712 - val_loss: 3.4541 - val_accuracy: 0.5072\n",
            "Epoch 38/130\n",
            "350/350 [==============================] - 27s 76ms/step - loss: 3.0507 - accuracy: 0.5744 - val_loss: 3.5818 - val_accuracy: 0.4931\n",
            "Epoch 39/130\n",
            "350/350 [==============================] - 27s 76ms/step - loss: 3.0535 - accuracy: 0.5685 - val_loss: 3.3827 - val_accuracy: 0.5207\n",
            "Epoch 40/130\n",
            "350/350 [==============================] - 26s 76ms/step - loss: 3.0569 - accuracy: 0.5693 - val_loss: 3.5734 - val_accuracy: 0.4881\n",
            "Epoch 41/130\n",
            "350/350 [==============================] - 26s 76ms/step - loss: 3.0371 - accuracy: 0.5738 - val_loss: 3.4751 - val_accuracy: 0.4940\n",
            "Epoch 42/130\n",
            "350/350 [==============================] - 27s 76ms/step - loss: 3.0462 - accuracy: 0.5710 - val_loss: 3.3103 - val_accuracy: 0.5359\n",
            "Epoch 43/130\n",
            "350/350 [==============================] - 26s 76ms/step - loss: 3.0475 - accuracy: 0.5692 - val_loss: 3.5142 - val_accuracy: 0.4891\n",
            "Epoch 44/130\n",
            "350/350 [==============================] - 26s 76ms/step - loss: 3.0372 - accuracy: 0.5731 - val_loss: 3.3581 - val_accuracy: 0.5143\n",
            "Epoch 45/130\n",
            "350/350 [==============================] - 26s 76ms/step - loss: 3.0337 - accuracy: 0.5741 - val_loss: 3.3380 - val_accuracy: 0.5203\n",
            "Epoch 46/130\n",
            "350/350 [==============================] - 27s 76ms/step - loss: 3.0294 - accuracy: 0.5737 - val_loss: 3.3863 - val_accuracy: 0.5135\n",
            "Epoch 47/130\n",
            "350/350 [==============================] - 27s 76ms/step - loss: 3.0295 - accuracy: 0.5781 - val_loss: 3.2989 - val_accuracy: 0.5299\n",
            "Epoch 48/130\n",
            "350/350 [==============================] - 27s 76ms/step - loss: 3.0220 - accuracy: 0.5778 - val_loss: 3.5225 - val_accuracy: 0.4945\n",
            "Epoch 49/130\n",
            "350/350 [==============================] - 26s 76ms/step - loss: 3.0263 - accuracy: 0.5795 - val_loss: 3.5448 - val_accuracy: 0.4806\n",
            "Epoch 50/130\n",
            "350/350 [==============================] - 26s 76ms/step - loss: 3.0236 - accuracy: 0.5750 - val_loss: 3.5882 - val_accuracy: 0.4920\n",
            "Epoch 51/130\n",
            "350/350 [==============================] - 27s 76ms/step - loss: 3.0291 - accuracy: 0.5764 - val_loss: 3.6132 - val_accuracy: 0.4769\n",
            "Epoch 52/130\n",
            "350/350 [==============================] - 26s 76ms/step - loss: 2.9990 - accuracy: 0.5808 - val_loss: 3.3521 - val_accuracy: 0.5163\n",
            "Epoch 53/130\n",
            "350/350 [==============================] - 27s 76ms/step - loss: 3.0122 - accuracy: 0.5791 - val_loss: 3.4955 - val_accuracy: 0.5021\n",
            "Epoch 54/130\n",
            "350/350 [==============================] - 27s 76ms/step - loss: 3.0180 - accuracy: 0.5799 - val_loss: 3.3196 - val_accuracy: 0.5315\n",
            "Epoch 55/130\n",
            "350/350 [==============================] - 27s 76ms/step - loss: 2.9951 - accuracy: 0.5820 - val_loss: 3.4129 - val_accuracy: 0.5162\n",
            "Epoch 56/130\n",
            "350/350 [==============================] - 26s 76ms/step - loss: 3.0268 - accuracy: 0.5782 - val_loss: 3.5043 - val_accuracy: 0.4945\n",
            "Epoch 57/130\n",
            "350/350 [==============================] - 27s 76ms/step - loss: 3.0158 - accuracy: 0.5733 - val_loss: 3.5562 - val_accuracy: 0.4975\n",
            "Epoch 58/130\n",
            "350/350 [==============================] - 27s 76ms/step - loss: 2.9954 - accuracy: 0.5843 - val_loss: 3.3619 - val_accuracy: 0.5225\n",
            "Epoch 59/130\n",
            "350/350 [==============================] - 26s 76ms/step - loss: 3.0025 - accuracy: 0.5813 - val_loss: 3.4055 - val_accuracy: 0.5099\n",
            "Epoch 60/130\n",
            "350/350 [==============================] - 26s 76ms/step - loss: 3.0126 - accuracy: 0.5786 - val_loss: 3.3952 - val_accuracy: 0.5167\n",
            "Epoch 61/130\n",
            "350/350 [==============================] - 26s 76ms/step - loss: 3.0047 - accuracy: 0.5795 - val_loss: 3.3519 - val_accuracy: 0.5238\n",
            "Epoch 62/130\n",
            "350/350 [==============================] - 26s 76ms/step - loss: 2.9833 - accuracy: 0.5873 - val_loss: 3.4536 - val_accuracy: 0.5084\n",
            "Epoch 63/130\n",
            "350/350 [==============================] - 27s 76ms/step - loss: 2.9933 - accuracy: 0.5800 - val_loss: 3.2580 - val_accuracy: 0.5359\n",
            "Epoch 64/130\n",
            "350/350 [==============================] - 26s 76ms/step - loss: 2.9853 - accuracy: 0.5849 - val_loss: 3.3102 - val_accuracy: 0.5323\n",
            "Epoch 65/130\n",
            "350/350 [==============================] - 27s 76ms/step - loss: 2.9818 - accuracy: 0.5880 - val_loss: 3.3035 - val_accuracy: 0.5344\n",
            "Epoch 66/130\n",
            "350/350 [==============================] - 26s 76ms/step - loss: 2.9928 - accuracy: 0.5834 - val_loss: 3.3445 - val_accuracy: 0.5160\n",
            "Epoch 67/130\n",
            "350/350 [==============================] - 27s 76ms/step - loss: 2.9818 - accuracy: 0.5850 - val_loss: 3.3317 - val_accuracy: 0.5208\n",
            "Epoch 68/130\n",
            "350/350 [==============================] - 27s 76ms/step - loss: 2.9905 - accuracy: 0.5832 - val_loss: 3.3820 - val_accuracy: 0.5152\n",
            "Epoch 69/130\n",
            "350/350 [==============================] - 27s 76ms/step - loss: 2.9714 - accuracy: 0.5875 - val_loss: 3.6111 - val_accuracy: 0.4749\n",
            "Epoch 70/130\n",
            "350/350 [==============================] - 26s 76ms/step - loss: 2.9795 - accuracy: 0.5853 - val_loss: 3.4089 - val_accuracy: 0.5136\n",
            "Epoch 71/130\n",
            "350/350 [==============================] - 26s 76ms/step - loss: 2.9816 - accuracy: 0.5866 - val_loss: 3.3208 - val_accuracy: 0.5295\n",
            "Epoch 72/130\n",
            "350/350 [==============================] - 27s 76ms/step - loss: 2.9747 - accuracy: 0.5875 - val_loss: 3.3837 - val_accuracy: 0.5141\n",
            "Epoch 73/130\n",
            "350/350 [==============================] - 27s 76ms/step - loss: 2.9767 - accuracy: 0.5865 - val_loss: 3.5095 - val_accuracy: 0.5062\n",
            "Epoch 74/130\n",
            "350/350 [==============================] - 27s 76ms/step - loss: 2.9587 - accuracy: 0.5934 - val_loss: 3.3857 - val_accuracy: 0.5174\n",
            "Epoch 75/130\n",
            "350/350 [==============================] - 26s 76ms/step - loss: 2.9636 - accuracy: 0.5891 - val_loss: 3.3938 - val_accuracy: 0.5118\n",
            "Epoch 76/130\n",
            "350/350 [==============================] - 26s 76ms/step - loss: 2.9829 - accuracy: 0.5851 - val_loss: 3.2841 - val_accuracy: 0.5345\n",
            "Epoch 77/130\n",
            "350/350 [==============================] - 27s 76ms/step - loss: 2.9655 - accuracy: 0.5844 - val_loss: 3.4839 - val_accuracy: 0.4916\n",
            "Epoch 78/130\n",
            "350/350 [==============================] - 27s 76ms/step - loss: 2.9748 - accuracy: 0.5878 - val_loss: 3.4266 - val_accuracy: 0.5127\n",
            "Epoch 79/130\n",
            "350/350 [==============================] - 26s 76ms/step - loss: 2.9773 - accuracy: 0.5882 - val_loss: 3.4768 - val_accuracy: 0.5039\n",
            "Epoch 80/130\n",
            "350/350 [==============================] - 26s 76ms/step - loss: 2.9706 - accuracy: 0.5885 - val_loss: 3.4099 - val_accuracy: 0.5033\n",
            "Epoch 81/130\n",
            "350/350 [==============================] - 27s 76ms/step - loss: 2.9513 - accuracy: 0.5888 - val_loss: 3.3094 - val_accuracy: 0.5285\n",
            "Epoch 82/130\n",
            "350/350 [==============================] - 27s 76ms/step - loss: 2.9671 - accuracy: 0.5901 - val_loss: 3.3434 - val_accuracy: 0.5280\n",
            "Epoch 83/130\n",
            "350/350 [==============================] - 27s 76ms/step - loss: 2.9667 - accuracy: 0.5891 - val_loss: 3.3872 - val_accuracy: 0.5169\n",
            "Epoch 84/130\n",
            "350/350 [==============================] - 27s 76ms/step - loss: 2.9556 - accuracy: 0.5891 - val_loss: 3.3139 - val_accuracy: 0.5301\n",
            "Epoch 85/130\n",
            "350/350 [==============================] - 27s 76ms/step - loss: 2.9530 - accuracy: 0.5931 - val_loss: 3.2856 - val_accuracy: 0.5341\n",
            "Epoch 86/130\n",
            "350/350 [==============================] - 26s 76ms/step - loss: 2.9611 - accuracy: 0.5893 - val_loss: 3.2904 - val_accuracy: 0.5355\n",
            "Epoch 87/130\n",
            "350/350 [==============================] - 27s 76ms/step - loss: 2.9546 - accuracy: 0.5919 - val_loss: 3.3487 - val_accuracy: 0.5283\n",
            "Epoch 88/130\n",
            "350/350 [==============================] - 27s 76ms/step - loss: 2.9648 - accuracy: 0.5916 - val_loss: 3.3213 - val_accuracy: 0.5312\n",
            "Epoch 89/130\n",
            "350/350 [==============================] - 27s 76ms/step - loss: 2.9638 - accuracy: 0.5881 - val_loss: 3.4361 - val_accuracy: 0.5153\n",
            "Epoch 90/130\n",
            "350/350 [==============================] - 27s 76ms/step - loss: 2.9583 - accuracy: 0.5928 - val_loss: 3.3895 - val_accuracy: 0.5202\n",
            "Epoch 91/130\n",
            "350/350 [==============================] - 27s 76ms/step - loss: 2.9546 - accuracy: 0.5853 - val_loss: 3.4473 - val_accuracy: 0.5095\n"
          ],
          "name": "stdout"
        },
        {
          "output_type": "execute_result",
          "data": {
            "text/plain": [
              "<tensorflow.python.keras.callbacks.History at 0x7f079d5995c0>"
            ]
          },
          "metadata": {
            "tags": []
          },
          "execution_count": 83
        }
      ]
    },
    {
      "cell_type": "code",
      "metadata": {
        "id": "YNInFAqi0dwg",
        "colab_type": "code",
        "colab": {
          "base_uri": "https://localhost:8080/",
          "height": 35
        },
        "outputId": "d0b14bee-98da-48e7-f727-0e078acdd450"
      },
      "source": [
        "model.save('./gdrive/My Drive/finuni/SNT/sifar100_nadam_best')"
      ],
      "execution_count": 85,
      "outputs": [
        {
          "output_type": "stream",
          "text": [
            "INFO:tensorflow:Assets written to: ./gdrive/My Drive/finuni/SNT/sifar100_nadam_best/assets\n"
          ],
          "name": "stdout"
        }
      ]
    },
    {
      "cell_type": "code",
      "metadata": {
        "id": "TU6ZQJxjeOx7",
        "colab_type": "code",
        "colab": {
          "base_uri": "https://localhost:8080/",
          "height": 606
        },
        "outputId": "3e0e4685-31eb-4f33-85f8-44378d22fd8e"
      },
      "source": [
        "model.fit(X_train, y_train, batch_size=150, epochs=50, verbose = 1, callbacks=[callback], validation_split=0.3)"
      ],
      "execution_count": 86,
      "outputs": [
        {
          "output_type": "stream",
          "text": [
            "Epoch 1/50\n",
            "234/234 [==============================] - ETA: 0s - loss: 2.6525 - accuracy: 0.6471WARNING:tensorflow:Callbacks method `on_test_batch_end` is slow compared to the batch time (batch time: 0.0038s vs `on_test_batch_end` time: 0.0141s). Check your callbacks.\n",
            "234/234 [==============================] - 22s 96ms/step - loss: 2.6525 - accuracy: 0.6471 - val_loss: 3.0565 - val_accuracy: 0.5578\n",
            "Epoch 2/50\n",
            "234/234 [==============================] - 22s 93ms/step - loss: 2.5824 - accuracy: 0.6475 - val_loss: 3.1502 - val_accuracy: 0.5379\n",
            "Epoch 3/50\n",
            "234/234 [==============================] - 22s 94ms/step - loss: 2.5811 - accuracy: 0.6427 - val_loss: 3.0954 - val_accuracy: 0.5532\n",
            "Epoch 4/50\n",
            "234/234 [==============================] - 22s 95ms/step - loss: 2.5819 - accuracy: 0.6428 - val_loss: 3.0965 - val_accuracy: 0.5521\n",
            "Epoch 5/50\n",
            "234/234 [==============================] - 22s 95ms/step - loss: 2.5735 - accuracy: 0.6450 - val_loss: 3.1286 - val_accuracy: 0.5487\n",
            "Epoch 6/50\n",
            "234/234 [==============================] - 22s 96ms/step - loss: 2.5872 - accuracy: 0.6429 - val_loss: 3.2890 - val_accuracy: 0.5259\n",
            "Epoch 7/50\n",
            "234/234 [==============================] - 22s 96ms/step - loss: 2.6087 - accuracy: 0.6389 - val_loss: 3.1426 - val_accuracy: 0.5435\n",
            "Epoch 8/50\n",
            "234/234 [==============================] - 22s 96ms/step - loss: 2.5852 - accuracy: 0.6448 - val_loss: 3.1990 - val_accuracy: 0.5327\n",
            "Epoch 9/50\n",
            "234/234 [==============================] - 22s 96ms/step - loss: 2.5866 - accuracy: 0.6433 - val_loss: 3.1099 - val_accuracy: 0.5479\n",
            "Epoch 10/50\n",
            "234/234 [==============================] - 22s 96ms/step - loss: 2.6133 - accuracy: 0.6388 - val_loss: 3.0725 - val_accuracy: 0.5616\n",
            "Epoch 11/50\n",
            "234/234 [==============================] - 22s 96ms/step - loss: 2.6015 - accuracy: 0.6452 - val_loss: 3.1252 - val_accuracy: 0.5537\n",
            "Epoch 12/50\n",
            "234/234 [==============================] - 22s 96ms/step - loss: 2.5995 - accuracy: 0.6428 - val_loss: 3.2463 - val_accuracy: 0.5340\n",
            "Epoch 13/50\n",
            "234/234 [==============================] - 22s 96ms/step - loss: 2.5982 - accuracy: 0.6448 - val_loss: 3.2207 - val_accuracy: 0.5359\n",
            "Epoch 14/50\n",
            "234/234 [==============================] - 22s 96ms/step - loss: 2.6039 - accuracy: 0.6443 - val_loss: 3.1448 - val_accuracy: 0.5480\n",
            "Epoch 15/50\n",
            "234/234 [==============================] - 22s 96ms/step - loss: 2.5918 - accuracy: 0.6456 - val_loss: 3.1351 - val_accuracy: 0.5504\n"
          ],
          "name": "stdout"
        },
        {
          "output_type": "execute_result",
          "data": {
            "text/plain": [
              "<tensorflow.python.keras.callbacks.History at 0x7f079d41c9e8>"
            ]
          },
          "metadata": {
            "tags": []
          },
          "execution_count": 86
        }
      ]
    },
    {
      "cell_type": "code",
      "metadata": {
        "id": "GdL0xGDZ_VvM",
        "colab_type": "code",
        "colab": {
          "base_uri": "https://localhost:8080/",
          "height": 35
        },
        "outputId": "226873ce-99b2-4b53-b356-d772f40cca66"
      },
      "source": [
        "model.save('./gdrive/My Drive/finuni/SNT/sifar100_nadam_best150')"
      ],
      "execution_count": 87,
      "outputs": [
        {
          "output_type": "stream",
          "text": [
            "INFO:tensorflow:Assets written to: ./gdrive/My Drive/finuni/SNT/sifar100_nadam_best150/assets\n"
          ],
          "name": "stdout"
        }
      ]
    },
    {
      "cell_type": "code",
      "metadata": {
        "id": "ZrM06GkB_OgY",
        "colab_type": "code",
        "colab": {
          "base_uri": "https://localhost:8080/",
          "height": 568
        },
        "outputId": "c20208df-5f20-42e5-e4f8-09568c67585b"
      },
      "source": [
        "model.fit(X_train, y_train, batch_size=250, epochs=50, verbose = 1, callbacks=[callback], validation_split=0.3)"
      ],
      "execution_count": 88,
      "outputs": [
        {
          "output_type": "stream",
          "text": [
            "Epoch 1/50\n",
            "140/140 [==============================] - 19s 136ms/step - loss: 2.3658 - accuracy: 0.6939 - val_loss: 2.8541 - val_accuracy: 0.5895\n",
            "Epoch 2/50\n",
            "140/140 [==============================] - 19s 134ms/step - loss: 2.2204 - accuracy: 0.7149 - val_loss: 2.8973 - val_accuracy: 0.5747\n",
            "Epoch 3/50\n",
            "140/140 [==============================] - 19s 133ms/step - loss: 2.1875 - accuracy: 0.7135 - val_loss: 2.9136 - val_accuracy: 0.5692\n",
            "Epoch 4/50\n",
            "140/140 [==============================] - 19s 132ms/step - loss: 2.1577 - accuracy: 0.7172 - val_loss: 2.9232 - val_accuracy: 0.5715\n",
            "Epoch 5/50\n",
            "140/140 [==============================] - 19s 132ms/step - loss: 2.1569 - accuracy: 0.7105 - val_loss: 2.9900 - val_accuracy: 0.5673\n",
            "Epoch 6/50\n",
            "140/140 [==============================] - 19s 133ms/step - loss: 2.1697 - accuracy: 0.7080 - val_loss: 2.9326 - val_accuracy: 0.5721\n",
            "Epoch 7/50\n",
            "140/140 [==============================] - 19s 133ms/step - loss: 2.1780 - accuracy: 0.7044 - val_loss: 2.9716 - val_accuracy: 0.5675\n",
            "Epoch 8/50\n",
            "140/140 [==============================] - 19s 133ms/step - loss: 2.1788 - accuracy: 0.7071 - val_loss: 3.0351 - val_accuracy: 0.5597\n",
            "Epoch 9/50\n",
            "140/140 [==============================] - 19s 133ms/step - loss: 2.1921 - accuracy: 0.7054 - val_loss: 3.0083 - val_accuracy: 0.5609\n",
            "Epoch 10/50\n",
            "140/140 [==============================] - 19s 133ms/step - loss: 2.1787 - accuracy: 0.7077 - val_loss: 2.9006 - val_accuracy: 0.5800\n",
            "Epoch 11/50\n",
            "140/140 [==============================] - 19s 133ms/step - loss: 2.1859 - accuracy: 0.7099 - val_loss: 3.0683 - val_accuracy: 0.5531\n",
            "Epoch 12/50\n",
            "140/140 [==============================] - 19s 133ms/step - loss: 2.1932 - accuracy: 0.7068 - val_loss: 3.0316 - val_accuracy: 0.5625\n",
            "Epoch 13/50\n",
            "140/140 [==============================] - 19s 133ms/step - loss: 2.1932 - accuracy: 0.7070 - val_loss: 2.9868 - val_accuracy: 0.5637\n",
            "Epoch 14/50\n",
            "140/140 [==============================] - 19s 133ms/step - loss: 2.1830 - accuracy: 0.7093 - val_loss: 2.9550 - val_accuracy: 0.5757\n",
            "Epoch 15/50\n",
            "140/140 [==============================] - 19s 133ms/step - loss: 2.2086 - accuracy: 0.7037 - val_loss: 3.0435 - val_accuracy: 0.5671\n"
          ],
          "name": "stdout"
        },
        {
          "output_type": "execute_result",
          "data": {
            "text/plain": [
              "<tensorflow.python.keras.callbacks.History at 0x7f078f625a90>"
            ]
          },
          "metadata": {
            "tags": []
          },
          "execution_count": 88
        }
      ]
    },
    {
      "cell_type": "code",
      "metadata": {
        "id": "K-8rHysM--aq",
        "colab_type": "code",
        "colab": {
          "base_uri": "https://localhost:8080/",
          "height": 35
        },
        "outputId": "b340ed13-a9ca-4eba-eba8-f70c4b228c90"
      },
      "source": [
        "model.save('./gdrive/My Drive/finuni/SNT/sifar100_nadam_best250')"
      ],
      "execution_count": 89,
      "outputs": [
        {
          "output_type": "stream",
          "text": [
            "INFO:tensorflow:Assets written to: ./gdrive/My Drive/finuni/SNT/sifar100_nadam_best250/assets\n"
          ],
          "name": "stdout"
        }
      ]
    },
    {
      "cell_type": "code",
      "metadata": {
        "id": "g9FMZNsI_bM0",
        "colab_type": "code",
        "colab": {
          "base_uri": "https://localhost:8080/",
          "height": 604
        },
        "outputId": "f35bb866-f143-4c47-af4f-70135f0d3c56"
      },
      "source": [
        "model.fit(X_train, y_train, batch_size=300, epochs=50, verbose = 1, callbacks=[callback], validation_split=0.3)"
      ],
      "execution_count": 90,
      "outputs": [
        {
          "output_type": "stream",
          "text": [
            "Epoch 1/50\n",
            "117/117 [==============================] - 18s 157ms/step - loss: 2.1031 - accuracy: 0.7280 - val_loss: 2.8858 - val_accuracy: 0.5842\n",
            "Epoch 2/50\n",
            "117/117 [==============================] - 17s 147ms/step - loss: 2.0548 - accuracy: 0.7343 - val_loss: 2.8995 - val_accuracy: 0.5753\n",
            "Epoch 3/50\n",
            "117/117 [==============================] - 17s 148ms/step - loss: 2.0598 - accuracy: 0.7309 - val_loss: 2.9092 - val_accuracy: 0.5754\n",
            "Epoch 4/50\n",
            "117/117 [==============================] - 17s 149ms/step - loss: 2.0476 - accuracy: 0.7366 - val_loss: 2.9719 - val_accuracy: 0.5710\n",
            "Epoch 5/50\n",
            "117/117 [==============================] - 18s 150ms/step - loss: 2.0549 - accuracy: 0.7324 - val_loss: 2.9086 - val_accuracy: 0.5820\n",
            "Epoch 6/50\n",
            "117/117 [==============================] - 18s 151ms/step - loss: 2.0457 - accuracy: 0.7308 - val_loss: 2.9729 - val_accuracy: 0.5733\n",
            "Epoch 7/50\n",
            "117/117 [==============================] - 18s 152ms/step - loss: 2.0531 - accuracy: 0.7327 - val_loss: 2.8663 - val_accuracy: 0.5926\n",
            "Epoch 8/50\n",
            "117/117 [==============================] - 18s 153ms/step - loss: 2.0522 - accuracy: 0.7330 - val_loss: 2.9044 - val_accuracy: 0.5819\n",
            "Epoch 9/50\n",
            "117/117 [==============================] - 18s 154ms/step - loss: 2.0652 - accuracy: 0.7307 - val_loss: 2.9788 - val_accuracy: 0.5741\n",
            "Epoch 10/50\n",
            "117/117 [==============================] - 18s 154ms/step - loss: 2.0549 - accuracy: 0.7352 - val_loss: 2.9645 - val_accuracy: 0.5795\n",
            "Epoch 11/50\n",
            "117/117 [==============================] - 18s 154ms/step - loss: 2.0609 - accuracy: 0.7321 - val_loss: 2.9643 - val_accuracy: 0.5855\n",
            "Epoch 12/50\n",
            "117/117 [==============================] - 18s 154ms/step - loss: 2.0659 - accuracy: 0.7306 - val_loss: 2.8809 - val_accuracy: 0.5943\n",
            "Epoch 13/50\n",
            "117/117 [==============================] - 18s 154ms/step - loss: 2.0541 - accuracy: 0.7366 - val_loss: 3.0132 - val_accuracy: 0.5708\n",
            "Epoch 14/50\n",
            "117/117 [==============================] - 18s 154ms/step - loss: 2.0613 - accuracy: 0.7329 - val_loss: 2.9816 - val_accuracy: 0.5773\n",
            "Epoch 15/50\n",
            "117/117 [==============================] - 18s 154ms/step - loss: 2.0770 - accuracy: 0.7319 - val_loss: 3.1168 - val_accuracy: 0.5590\n",
            "Epoch 16/50\n",
            "117/117 [==============================] - 18s 154ms/step - loss: 2.0735 - accuracy: 0.7341 - val_loss: 3.0247 - val_accuracy: 0.5722\n"
          ],
          "name": "stdout"
        },
        {
          "output_type": "execute_result",
          "data": {
            "text/plain": [
              "<tensorflow.python.keras.callbacks.History at 0x7f079d3a7518>"
            ]
          },
          "metadata": {
            "tags": []
          },
          "execution_count": 90
        }
      ]
    },
    {
      "cell_type": "code",
      "metadata": {
        "id": "kMVi65lSDRIv",
        "colab_type": "code",
        "colab": {
          "base_uri": "https://localhost:8080/",
          "height": 35
        },
        "outputId": "8dc743dd-1a88-4588-addf-d8b1c6733e54"
      },
      "source": [
        "model.save('./gdrive/My Drive/finuni/SNT/sifar100_nadam_best300')"
      ],
      "execution_count": 91,
      "outputs": [
        {
          "output_type": "stream",
          "text": [
            "INFO:tensorflow:Assets written to: ./gdrive/My Drive/finuni/SNT/sifar100_nadam_best300/assets\n"
          ],
          "name": "stdout"
        }
      ]
    },
    {
      "cell_type": "code",
      "metadata": {
        "id": "0I7VOQinXTza",
        "colab_type": "code",
        "colab": {}
      },
      "source": [
        "model = load_model('./gdrive/My Drive/finuni/SNT/sifar100_nadam_best300')"
      ],
      "execution_count": 6,
      "outputs": []
    },
    {
      "cell_type": "code",
      "metadata": {
        "id": "w5wc85BIXmUT",
        "colab_type": "code",
        "colab": {}
      },
      "source": [
        ""
      ],
      "execution_count": null,
      "outputs": []
    }
  ]
}